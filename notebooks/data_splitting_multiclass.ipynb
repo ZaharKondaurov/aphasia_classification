{
 "cells": [
  {
   "cell_type": "code",
   "id": "initial_id",
   "metadata": {
    "collapsed": true,
    "ExecuteTime": {
     "end_time": "2025-05-14T11:14:57.210587Z",
     "start_time": "2025-05-14T11:14:53.204953Z"
    }
   },
   "source": [
    "from src.utils import *\n",
    "\n",
    "import numpy as np\n",
    "import pandas as pd\n",
    "\n",
    "import matplotlib.pyplot as plt\n",
    "\n",
    "from tqdm import tqdm\n",
    "\n",
    "import torch\n",
    "\n",
    "import scipy\n",
    "import librosa\n",
    "\n",
    "from sklearn.model_selection import train_test_split"
   ],
   "outputs": [],
   "execution_count": 1
  },
  {
   "metadata": {
    "ExecuteTime": {
     "end_time": "2025-05-14T11:14:57.215749Z",
     "start_time": "2025-05-14T11:14:57.211788Z"
    }
   },
   "cell_type": "code",
   "source": [
    "DATA_DIR = os.path.join('..', 'data')\n",
    "VOICES_DIR = os.path.join(DATA_DIR, 'Voices_wav')\n",
    "APHASIA_DIR = os.path.join(VOICES_DIR, 'Aphasia')\n",
    "NORM_DIR = os.path.join(VOICES_DIR, 'Norm')"
   ],
   "id": "c8084d3bb09bf494",
   "outputs": [],
   "execution_count": 2
  },
  {
   "metadata": {
    "ExecuteTime": {
     "end_time": "2025-05-14T11:14:57.666664Z",
     "start_time": "2025-05-14T11:14:57.216704Z"
    }
   },
   "cell_type": "code",
   "source": [
    "meta_data_aphasia = pd.read_excel(os.path.join(DATA_DIR, \"Demo RAT discourse production.xlsx\"), sheet_name='пациенты')\n",
    "meta_data_norm = pd.read_excel(os.path.join(DATA_DIR, \"Demo RAT discourse production.xlsx\"), sheet_name='норма')\n",
    "\n",
    "meta_data_norm.drop(meta_data_norm.index[-1], axis=0, inplace=True)\n",
    "meta_data_aphasia[\"Subj_ID\"] = meta_data_aphasia[\"Subj_ID\"].astype(str)\n",
    "meta_data_norm.rename(columns={\"№\": \"Subj_ID\"}, inplace=True)\n",
    "meta_data_norm[\"Subj_ID\"] = meta_data_norm[\"Subj_ID\"].astype(str)"
   ],
   "id": "fb46d90eebc789a5",
   "outputs": [],
   "execution_count": 3
  },
  {
   "metadata": {
    "ExecuteTime": {
     "end_time": "2025-05-14T11:14:57.670297Z",
     "start_time": "2025-05-14T11:14:57.667679Z"
    }
   },
   "cell_type": "code",
   "source": [
    "meta_data_aphasia.rename(columns={'Stroked hemisphere (L/R/LR)': 'Stroked hemisphere',\n",
    "                          'Aphasia/Norm (A/N), A includes all patients, even with just dysarthria': 'Aphasia/Norm', \n",
    "                          'Aphasia_Severity \\n0 - no aphasia\\n1 - very mild\\n2 - mild\\n3 - mild-moderate\\n4 - moderate\\n5 - moderate-severe\\n6 - severe\\n7 - very severe': 'Aphasia_Severity',\n",
    "                          'Aphasia_Types\\n1 - efferent motor\\n2 - afferent motor\\n3 - complex motor\\n4 - dynamic\\n5 - acoustic-mnestic\\n6 - sensory\\n7 - semantic\\n8 - other': 'Aphasia_Types',\n",
    "                          'Dominant_Aphasia\\n1 - efferent motor\\n2 - afferent motor\\n3 - complex motor\\n4 - dynamic\\n5 - acoustic-mnestic\\n6 - sensory\\n7 - semantic\\n8 - other': 'Dominant_Aphasia',\n",
    "                          'Dysarthria (1/0)': 'Dysarthria',\n",
    "                          'Dysarthria_Severity \\n0 - no dysarthria\\n1 - very mild\\n2 - mild\\n3 - mild-moderate\\n4 - moderate\\n5 - moderate-severe\\n6 - severe\\n7 - very severe': 'Dysarthria_Severity',\n",
    "                          }, inplace=True)"
   ],
   "id": "2cb40d119fb4a337",
   "outputs": [],
   "execution_count": 4
  },
  {
   "metadata": {
    "ExecuteTime": {
     "end_time": "2025-05-14T11:14:57.684219Z",
     "start_time": "2025-05-14T11:14:57.671511Z"
    }
   },
   "cell_type": "code",
   "source": "meta_data_aphasia.Aphasia_Severity.value_counts()",
   "id": "cf3deb4ab02890ad",
   "outputs": [
    {
     "data": {
      "text/plain": [
       "Aphasia_Severity\n",
       "4.0    130\n",
       "2.0     57\n",
       "5.0     53\n",
       "3.0     40\n",
       "0.0     39\n",
       "6.0     19\n",
       "1.0      4\n",
       "7.0      1\n",
       "Name: count, dtype: int64"
      ]
     },
     "execution_count": 5,
     "metadata": {},
     "output_type": "execute_result"
    }
   ],
   "execution_count": 5
  },
  {
   "metadata": {
    "ExecuteTime": {
     "end_time": "2025-05-14T11:14:57.792181Z",
     "start_time": "2025-05-14T11:14:57.684851Z"
    }
   },
   "cell_type": "code",
   "source": "plt.hist(meta_data_aphasia[\"Aphasia_Severity\"].to_list(), bins=20, color=\"blue\", label=\"Афазия\");",
   "id": "c04eb33993e26cdc",
   "outputs": [
    {
     "data": {
      "text/plain": [
       "<Figure size 640x480 with 1 Axes>"
      ],
      "image/png": "[encoded data removed]"
     },
     "metadata": {},
     "output_type": "display_data"
    }
   ],
   "execution_count": 6
  },
  {
   "metadata": {
    "ExecuteTime": {
     "end_time": "2025-05-14T11:14:57.796118Z",
     "start_time": "2025-05-14T11:14:57.793485Z"
    }
   },
   "cell_type": "code",
   "source": [
    "severity2class = {\n",
    "    0: 4,\n",
    "    1: 1,\n",
    "    2: 1,\n",
    "    3: 1,\n",
    "    4: 2,\n",
    "    5: 2,\n",
    "    6: 2,\n",
    "    7: 2,\n",
    "}"
   ],
   "id": "c4569c2ef685aba2",
   "outputs": [],
   "execution_count": 7
  },
  {
   "metadata": {
    "ExecuteTime": {
     "end_time": "2025-05-14T11:14:57.807403Z",
     "start_time": "2025-05-14T11:14:57.796778Z"
    }
   },
   "cell_type": "code",
   "source": "meta_data_aphasia[\"Aphasia_Severity\"] = meta_data_aphasia[\"Aphasia_Severity\"].map(severity2class)",
   "id": "8833a97cbc2b61a7",
   "outputs": [],
   "execution_count": 8
  },
  {
   "metadata": {
    "ExecuteTime": {
     "end_time": "2025-05-14T11:14:57.890964Z",
     "start_time": "2025-05-14T11:14:57.808290Z"
    }
   },
   "cell_type": "code",
   "source": "plt.hist(meta_data_aphasia[\"Aphasia_Severity\"].to_list(), bins=20, color=\"blue\", label=\"Афазия\");",
   "id": "b1d3a21c44cf7d59",
   "outputs": [
    {
     "data": {
      "text/plain": [
       "<Figure size 640x480 with 1 Axes>"
      ],
      "image/png": "[encoded data removed]"
     },
     "metadata": {},
     "output_type": "display_data"
    }
   ],
   "execution_count": 9
  },
  {
   "metadata": {
    "ExecuteTime": {
     "end_time": "2025-05-14T11:14:57.895913Z",
     "start_time": "2025-05-14T11:14:57.892501Z"
    }
   },
   "cell_type": "code",
   "source": [
    "sf_aphasia = []\n",
    "sf_norm = []\n",
    "\n",
    "noise_aphasia = {}\n",
    "noise_norm = {}\n",
    "\n",
    "empty_files = []"
   ],
   "id": "bd319bbc4cfb9e36",
   "outputs": [],
   "execution_count": 10
  },
  {
   "metadata": {
    "ExecuteTime": {
     "end_time": "2025-05-14T11:15:30.366989Z",
     "start_time": "2025-05-14T11:14:57.896837Z"
    }
   },
   "cell_type": "code",
   "source": [
    "for audio_file in tqdm(os.listdir(APHASIA_DIR)):\n",
    "    y, sr = librosa.load(os.path.join(APHASIA_DIR, audio_file), sr=None)\n",
    "    duration = librosa.get_duration(y=y, sr=sr)\n",
    "    \n",
    "    spectral_flatness = np.mean(librosa.feature.spectral_flatness(y=y))\n",
    "    roll_off = np.mean(librosa.feature.spectral_rolloff(y=y, sr=sr))\n",
    "    \n",
    "    if spectral_flatness > 0.5:\n",
    "        empty_files.append(audio_file)\n",
    "        continue\n",
    "        \n",
    "    sf_aphasia.append([audio_file, spectral_flatness, roll_off])\n",
    "    ind = audio_file.split('-')[1]\n",
    "    if ind not in noise_aphasia:\n",
    "        noise_aphasia[str(ind)] = False\n",
    "    if roll_off < 1_000:\n",
    "        noise_aphasia[str(ind)] = True"
   ],
   "id": "e902e7dcf8d73090",
   "outputs": [
    {
     "name": "stderr",
     "output_type": "stream",
     "text": [
      "100%|██████████| 608/608 [00:32<00:00, 18.73it/s]\n"
     ]
    }
   ],
   "execution_count": 11
  },
  {
   "metadata": {
    "ExecuteTime": {
     "end_time": "2025-05-14T11:15:34.045873Z",
     "start_time": "2025-05-14T11:15:30.367644Z"
    }
   },
   "cell_type": "code",
   "source": [
    "for audio_file in tqdm(os.listdir(NORM_DIR)):\n",
    "    y, sr = librosa.load(os.path.join(NORM_DIR, audio_file), sr=None)\n",
    "    duration = librosa.get_duration(y=y, sr=sr)\n",
    "    \n",
    "    spectral_flatness = np.mean(librosa.feature.spectral_flatness(y=y))\n",
    "    roll_off = np.mean(librosa.feature.spectral_rolloff(y=y, sr=sr))\n",
    "    \n",
    "    if spectral_flatness > 0.5:\n",
    "        empty_files.append(audio_file)\n",
    "        continue\n",
    "    \n",
    "    sf_norm.append([audio_file, spectral_flatness, roll_off])\n",
    "    ind = audio_file.split('-')[1]\n",
    "    if ind[0] == '0':\n",
    "        ind = ind[1:]\n",
    "    ind += '-НРАТ'\n",
    "    \n",
    "    if ind not in noise_norm:\n",
    "        noise_norm[str(ind)] = False\n",
    "    if roll_off < 1_000:\n",
    "        noise_norm[str(ind)] = True"
   ],
   "id": "8e1dbb5a9042b4e1",
   "outputs": [
    {
     "name": "stderr",
     "output_type": "stream",
     "text": [
      "100%|██████████| 202/202 [00:03<00:00, 54.98it/s]\n"
     ]
    }
   ],
   "execution_count": 12
  },
  {
   "metadata": {
    "ExecuteTime": {
     "end_time": "2025-05-14T11:15:34.050301Z",
     "start_time": "2025-05-14T11:15:34.046722Z"
    }
   },
   "cell_type": "code",
   "source": [
    "meta_data_aphasia = meta_data_aphasia[meta_data_aphasia[\"Subj_ID\"].isin(noise_aphasia.keys())]\n",
    "meta_data_norm = meta_data_norm[meta_data_norm[\"Subj_ID\"].isin(noise_norm.keys())]"
   ],
   "id": "65f9a513a640ee7d",
   "outputs": [],
   "execution_count": 13
  },
  {
   "metadata": {
    "ExecuteTime": {
     "end_time": "2025-05-14T11:15:34.069982Z",
     "start_time": "2025-05-14T11:15:34.052495Z"
    }
   },
   "cell_type": "code",
   "source": [
    "meta_data_aphasia[\"has_noise\"] = meta_data_aphasia[\"Subj_ID\"].map(noise_aphasia)\n",
    "meta_data_norm[\"has_noise\"] = meta_data_norm[\"Subj_ID\"].map(noise_norm)"
   ],
   "id": "9857d31da4dc72a5",
   "outputs": [],
   "execution_count": 14
  },
  {
   "metadata": {
    "ExecuteTime": {
     "end_time": "2025-05-14T11:15:34.094186Z",
     "start_time": "2025-05-14T11:15:34.070599Z"
    }
   },
   "cell_type": "code",
   "source": "meta_data_aphasia.head()",
   "id": "75746d6ce6fd92b8",
   "outputs": [
    {
     "data": {
      "text/plain": [
       "      Unnamed: 0 Subj_ID        Date_of_birth   Age Sex (m/f)  \\\n",
       "0         13-РАТ       1  1957-12-04 00:00:00  58.0         f   \n",
       "1         22-РАТ       7  1964-03-21 00:00:00  52.0         m   \n",
       "2         55-РАТ      13  1962-12-06 00:00:00  53.0         m   \n",
       "3  Афанасенко СС      35  1963-10-21 00:00:00  53.0         m   \n",
       "4    Муксеева ЕА      51  1971-09-22 00:00:00  45.0         f   \n",
       "\n",
       "  Education in years Education level          Stroke_date Stroked hemisphere  \\\n",
       "0                NaN          высшее  2005-03-27 00:00:00                  L   \n",
       "1                NaN          высшее  2006-06-20 00:00:00                  L   \n",
       "2                NaN       сред спец  2008-09-19 00:00:00                  L   \n",
       "3                NaN       сред спец  2011-09-27 00:00:00                  L   \n",
       "4                NaN          высшее  2012-06-16 00:00:00                  L   \n",
       "\n",
       "   N of strokes  ... Time2.2_file_name  Time3.1_file_name Time3.2_file_name  \\\n",
       "0           1.0  ...               NaN                NaN               NaN   \n",
       "1           1.0  ...               NaN                NaN               NaN   \n",
       "2           1.0  ...               NaN    A-13-RAT-3-robb               NaN   \n",
       "3           1.0  ...               NaN    A-35-RAT-3-bike   A-35-RAT-3-robb   \n",
       "4           1.0  ...               NaN                NaN               NaN   \n",
       "\n",
       "  Time4.1_file_name  Time4.2_file_name  Time5.1_file_name Time5.2_file_name  \\\n",
       "0               NaN                NaN                NaN               NaN   \n",
       "1               NaN                NaN                NaN               NaN   \n",
       "2   A-13-RAT-4-bike                NaN                NaN               NaN   \n",
       "3               NaN                NaN                NaN               NaN   \n",
       "4               NaN                NaN                NaN               NaN   \n",
       "\n",
       "  Time6.1_file_name Time6.2_file_name has_noise  \n",
       "0               NaN               NaN     False  \n",
       "1               NaN               NaN     False  \n",
       "2               NaN               NaN      True  \n",
       "3               NaN               NaN      True  \n",
       "4               NaN               NaN     False  \n",
       "\n",
       "[5 rows x 35 columns]"
      ],
      "text/html": [
       "<div>\n",
       "<style scoped>\n",
       "    .dataframe tbody tr th:only-of-type {\n",
       "        vertical-align: middle;\n",
       "    }\n",
       "\n",
       "    .dataframe tbody tr th {\n",
       "        vertical-align: top;\n",
       "    }\n",
       "\n",
       "    .dataframe thead th {\n",
       "        text-align: right;\n",
       "    }\n",
       "</style>\n",
       "<table border=\"1\" class=\"dataframe\">\n",
       "  <thead>\n",
       "    <tr style=\"text-align: right;\">\n",
       "      <th></th>\n",
       "      <th>Unnamed: 0</th>\n",
       "      <th>Subj_ID</th>\n",
       "      <th>Date_of_birth</th>\n",
       "      <th>Age</th>\n",
       "      <th>Sex (m/f)</th>\n",
       "      <th>Education in years</th>\n",
       "      <th>Education level</th>\n",
       "      <th>Stroke_date</th>\n",
       "      <th>Stroked hemisphere</th>\n",
       "      <th>N of strokes</th>\n",
       "      <th>...</th>\n",
       "      <th>Time2.2_file_name</th>\n",
       "      <th>Time3.1_file_name</th>\n",
       "      <th>Time3.2_file_name</th>\n",
       "      <th>Time4.1_file_name</th>\n",
       "      <th>Time4.2_file_name</th>\n",
       "      <th>Time5.1_file_name</th>\n",
       "      <th>Time5.2_file_name</th>\n",
       "      <th>Time6.1_file_name</th>\n",
       "      <th>Time6.2_file_name</th>\n",
       "      <th>has_noise</th>\n",
       "    </tr>\n",
       "  </thead>\n",
       "  <tbody>\n",
       "    <tr>\n",
       "      <th>0</th>\n",
       "      <td>13-РАТ</td>\n",
       "      <td>1</td>\n",
       "      <td>1957-12-04 00:00:00</td>\n",
       "      <td>58.0</td>\n",
       "      <td>f</td>\n",
       "      <td>NaN</td>\n",
       "      <td>высшее</td>\n",
       "      <td>2005-03-27 00:00:00</td>\n",
       "      <td>L</td>\n",
       "      <td>1.0</td>\n",
       "      <td>...</td>\n",
       "      <td>NaN</td>\n",
       "      <td>NaN</td>\n",
       "      <td>NaN</td>\n",
       "      <td>NaN</td>\n",
       "      <td>NaN</td>\n",
       "      <td>NaN</td>\n",
       "      <td>NaN</td>\n",
       "      <td>NaN</td>\n",
       "      <td>NaN</td>\n",
       "      <td>False</td>\n",
       "    </tr>\n",
       "    <tr>\n",
       "      <th>1</th>\n",
       "      <td>22-РАТ</td>\n",
       "      <td>7</td>\n",
       "      <td>1964-03-21 00:00:00</td>\n",
       "      <td>52.0</td>\n",
       "      <td>m</td>\n",
       "      <td>NaN</td>\n",
       "      <td>высшее</td>\n",
       "      <td>2006-06-20 00:00:00</td>\n",
       "      <td>L</td>\n",
       "      <td>1.0</td>\n",
       "      <td>...</td>\n",
       "      <td>NaN</td>\n",
       "      <td>NaN</td>\n",
       "      <td>NaN</td>\n",
       "      <td>NaN</td>\n",
       "      <td>NaN</td>\n",
       "      <td>NaN</td>\n",
       "      <td>NaN</td>\n",
       "      <td>NaN</td>\n",
       "      <td>NaN</td>\n",
       "      <td>False</td>\n",
       "    </tr>\n",
       "    <tr>\n",
       "      <th>2</th>\n",
       "      <td>55-РАТ</td>\n",
       "      <td>13</td>\n",
       "      <td>1962-12-06 00:00:00</td>\n",
       "      <td>53.0</td>\n",
       "      <td>m</td>\n",
       "      <td>NaN</td>\n",
       "      <td>сред спец</td>\n",
       "      <td>2008-09-19 00:00:00</td>\n",
       "      <td>L</td>\n",
       "      <td>1.0</td>\n",
       "      <td>...</td>\n",
       "      <td>NaN</td>\n",
       "      <td>A-13-RAT-3-robb</td>\n",
       "      <td>NaN</td>\n",
       "      <td>A-13-RAT-4-bike</td>\n",
       "      <td>NaN</td>\n",
       "      <td>NaN</td>\n",
       "      <td>NaN</td>\n",
       "      <td>NaN</td>\n",
       "      <td>NaN</td>\n",
       "      <td>True</td>\n",
       "    </tr>\n",
       "    <tr>\n",
       "      <th>3</th>\n",
       "      <td>Афанасенко СС</td>\n",
       "      <td>35</td>\n",
       "      <td>1963-10-21 00:00:00</td>\n",
       "      <td>53.0</td>\n",
       "      <td>m</td>\n",
       "      <td>NaN</td>\n",
       "      <td>сред спец</td>\n",
       "      <td>2011-09-27 00:00:00</td>\n",
       "      <td>L</td>\n",
       "      <td>1.0</td>\n",
       "      <td>...</td>\n",
       "      <td>NaN</td>\n",
       "      <td>A-35-RAT-3-bike</td>\n",
       "      <td>A-35-RAT-3-robb</td>\n",
       "      <td>NaN</td>\n",
       "      <td>NaN</td>\n",
       "      <td>NaN</td>\n",
       "      <td>NaN</td>\n",
       "      <td>NaN</td>\n",
       "      <td>NaN</td>\n",
       "      <td>True</td>\n",
       "    </tr>\n",
       "    <tr>\n",
       "      <th>4</th>\n",
       "      <td>Муксеева ЕА</td>\n",
       "      <td>51</td>\n",
       "      <td>1971-09-22 00:00:00</td>\n",
       "      <td>45.0</td>\n",
       "      <td>f</td>\n",
       "      <td>NaN</td>\n",
       "      <td>высшее</td>\n",
       "      <td>2012-06-16 00:00:00</td>\n",
       "      <td>L</td>\n",
       "      <td>1.0</td>\n",
       "      <td>...</td>\n",
       "      <td>NaN</td>\n",
       "      <td>NaN</td>\n",
       "      <td>NaN</td>\n",
       "      <td>NaN</td>\n",
       "      <td>NaN</td>\n",
       "      <td>NaN</td>\n",
       "      <td>NaN</td>\n",
       "      <td>NaN</td>\n",
       "      <td>NaN</td>\n",
       "      <td>False</td>\n",
       "    </tr>\n",
       "  </tbody>\n",
       "</table>\n",
       "<p>5 rows × 35 columns</p>\n",
       "</div>"
      ]
     },
     "execution_count": 15,
     "metadata": {},
     "output_type": "execute_result"
    }
   ],
   "execution_count": 15
  },
  {
   "metadata": {
    "ExecuteTime": {
     "end_time": "2025-05-14T11:16:18.235953Z",
     "start_time": "2025-05-14T11:16:18.231336Z"
    }
   },
   "cell_type": "code",
   "source": [
    "meta_data_aphasia_mild = meta_data_aphasia[meta_data_aphasia[\"Aphasia_Severity\"] == 1]\n",
    "# meta_data_aphasia_moderate = meta_data_aphasia[meta_data_aphasia[\"Aphasia_Severity\"] == 2]\n",
    "meta_data_aphasia_severe = meta_data_aphasia[meta_data_aphasia[\"Aphasia_Severity\"] == 2]\n",
    "meta_data_aphasia_dysarthria = meta_data_aphasia[meta_data_aphasia[\"Aphasia_Severity\"] == 4]"
   ],
   "id": "b7e3f28c283a056c",
   "outputs": [],
   "execution_count": 19
  },
  {
   "metadata": {
    "ExecuteTime": {
     "end_time": "2025-05-14T11:16:18.458584Z",
     "start_time": "2025-05-14T11:16:18.443207Z"
    }
   },
   "cell_type": "code",
   "source": [
    "train_mild, test_mild = train_test_split(meta_data_aphasia_mild, test_size=0.4, random_state=42,\n",
    "                                               stratify=meta_data_aphasia_mild[\"has_noise\"])\n",
    "\n",
    "val_mild, test_mild = train_test_split(test_mild, test_size=0.5, random_state=42,\n",
    "                                             stratify=test_mild[\"has_noise\"])\n",
    "\n",
    "# train_moderate, test_moderate = train_test_split(meta_data_aphasia_moderate, test_size=0.4, random_state=42,\n",
    "#                                                stratify=meta_data_aphasia_moderate[\"has_noise\"])\n",
    "\n",
    "# val_moderate, test_moderate = train_test_split(test_moderate, test_size=0.5, random_state=42,\n",
    "#                                              stratify=test_moderate[\"has_noise\"])\n",
    "\n",
    "train_severe, test_severe = train_test_split(meta_data_aphasia_severe, test_size=0.4, random_state=42,\n",
    "                                               stratify=meta_data_aphasia_severe[\"has_noise\"])\n",
    "\n",
    "val_severe, test_severe = train_test_split(test_severe, test_size=0.5, random_state=42,\n",
    "                                             stratify=test_severe[\"has_noise\"])\n",
    "\n",
    "# Всего один шумный сэмпл\n",
    "train_dysarthria, test_dysarthria = train_test_split(meta_data_aphasia_dysarthria, test_size=0.4, random_state=42,)\n",
    "\n",
    "val_dysarthria, test_dysarthria = train_test_split(test_dysarthria, test_size=0.5, random_state=42,)\n",
    "\n",
    "train_norm, test_norm = train_test_split(meta_data_norm, test_size=0.4, random_state=42, stratify=meta_data_norm[\"has_noise\"])\n",
    "\n",
    "val_norm, test_norm = train_test_split(test_norm, test_size=0.5, random_state=42, stratify=test_norm[\"has_noise\"])"
   ],
   "id": "4e32e205320942e2",
   "outputs": [],
   "execution_count": 20
  },
  {
   "metadata": {
    "ExecuteTime": {
     "end_time": "2025-05-14T11:16:18.953190Z",
     "start_time": "2025-05-14T11:16:18.949295Z"
    }
   },
   "cell_type": "code",
   "source": [
    "aphasia_files_list = os.listdir(APHASIA_DIR)\n",
    "norm_files_list = os.listdir(NORM_DIR)"
   ],
   "id": "a3cbb03160530ab4",
   "outputs": [],
   "execution_count": 21
  },
  {
   "metadata": {
    "ExecuteTime": {
     "end_time": "2025-05-14T11:16:19.129224Z",
     "start_time": "2025-05-14T11:16:19.119907Z"
    }
   },
   "cell_type": "code",
   "source": [
    "aphasia_files_dict = {}\n",
    "norm_files_dict = {}\n",
    "\n",
    "for audio_file in tqdm(aphasia_files_list):\n",
    "    participant_id = audio_file.split('-')[1]\n",
    "    if participant_id not in aphasia_files_dict:\n",
    "        aphasia_files_dict[participant_id] = [audio_file]\n",
    "    else:\n",
    "        aphasia_files_dict[participant_id].append(audio_file)\n",
    "\n",
    "for audio_file in tqdm(norm_files_list):\n",
    "    participant_id = audio_file.split('-')[1]\n",
    "    if participant_id not in norm_files_dict:\n",
    "        norm_files_dict[participant_id] = [audio_file]\n",
    "    else:\n",
    "        norm_files_dict[participant_id].append(audio_file)"
   ],
   "id": "a0f3fd464daeb462",
   "outputs": [
    {
     "name": "stderr",
     "output_type": "stream",
     "text": [
      "100%|██████████| 608/608 [00:00<00:00, 1192209.83it/s]\n",
      "100%|██████████| 202/202 [00:00<00:00, 1011037.48it/s]\n"
     ]
    }
   ],
   "execution_count": 22
  },
  {
   "metadata": {
    "ExecuteTime": {
     "end_time": "2025-05-14T11:16:19.324242Z",
     "start_time": "2025-05-14T11:16:19.318942Z"
    }
   },
   "cell_type": "code",
   "source": [
    "def get_filename(df: pd.DataFrame, label: int):\n",
    "    output = []\n",
    "    # file_columns = [x for x in df.columns if \"file_name\" in x]\n",
    "    for i, row in df.iterrows():\n",
    "        participant_id = row['Subj_ID'].split('-')[0]\n",
    "        # print(participant_id)\n",
    "        if label:\n",
    "            file_names = [(x, label) for x in  aphasia_files_dict[participant_id] if x not in empty_files]\n",
    "        else:\n",
    "            if len(participant_id) == 3:\n",
    "                participant_id = '0' + participant_id\n",
    "            file_names = [(x, label) for x in  norm_files_dict[participant_id] if x not in empty_files]\n",
    "        output.extend(file_names)\n",
    "    return output"
   ],
   "id": "ee8578382c680a24",
   "outputs": [],
   "execution_count": 23
  },
  {
   "metadata": {
    "ExecuteTime": {
     "end_time": "2025-05-14T11:16:19.561425Z",
     "start_time": "2025-05-14T11:16:19.546621Z"
    }
   },
   "cell_type": "code",
   "source": [
    "# train_filenames = get_filename(train_norm, 0) + get_filename(train_mild, 1) + get_filename(train_moderate, 2) + get_filename(train_severe, 3) # + get_filename(train_dysarthria, 4)\n",
    "# val_filenames = get_filename(val_norm, 0) + get_filename(val_mild, 1) + get_filename(val_moderate, 2) + get_filename(val_severe, 3) # + get_filename(val_dysarthria, 4)\n",
    "# test_filenames = get_filename(test_norm, 0) + get_filename(test_mild, 1) + get_filename(test_moderate, 2) + get_filename(test_severe, 3) # + get_filename(test_dysarthria, 4)\n",
    "\n",
    "train_filenames = get_filename(train_mild, 1) + get_filename(train_severe, 2) # + get_filename(train_dysarthria, 4)\n",
    "val_filenames = get_filename(val_mild, 1) + get_filename(val_severe, 2) # + get_filename(val_dysarthria, 4)\n",
    "test_filenames = get_filename(test_mild, 1) + get_filename(test_severe, 2) # + get_filename(test_dysarthria, 4)"
   ],
   "id": "a450de779b61ed11",
   "outputs": [],
   "execution_count": 24
  },
  {
   "metadata": {
    "ExecuteTime": {
     "end_time": "2025-05-14T11:16:19.891261Z",
     "start_time": "2025-05-14T11:16:19.886253Z"
    }
   },
   "cell_type": "code",
   "source": "len(train_filenames), len(val_filenames), len(test_filenames)",
   "id": "d623ce0254a27a18",
   "outputs": [
    {
     "data": {
      "text/plain": [
       "(334, 107, 98)"
      ]
     },
     "execution_count": 25,
     "metadata": {},
     "output_type": "execute_result"
    }
   ],
   "execution_count": 25
  },
  {
   "metadata": {
    "ExecuteTime": {
     "end_time": "2025-05-14T11:16:20.179974Z",
     "start_time": "2025-05-14T11:16:20.170954Z"
    }
   },
   "cell_type": "code",
   "source": [
    "train_filenames = pd.DataFrame(train_filenames, columns=['file_name', 'label'])\n",
    "val_filenames = pd.DataFrame(val_filenames, columns=['file_name', 'label'])\n",
    "test_filenames = pd.DataFrame(test_filenames, columns=['file_name', 'label'])\n",
    "\n",
    "train_filenames.to_csv(os.path.join(DATA_DIR, \"train_filenames_mc_6.csv\"), index=False)\n",
    "val_filenames.to_csv(os.path.join(DATA_DIR, \"val_filenames_mc_6.csv\"), index=False)\n",
    "test_filenames.to_csv(os.path.join(DATA_DIR, \"test_filenames_mc_6.csv\"), index=False)\n",
    "\n",
    "# train_filenames.to_csv(os.path.join(DATA_DIR, \"train_filenames_mc_4.csv\"), index=False)\n",
    "# val_filenames.to_csv(os.path.join(DATA_DIR, \"val_filenames_mc_4.csv\"), index=False)\n",
    "# test_filenames.to_csv(os.path.join(DATA_DIR, \"test_filenames_mc_4.csv\"), index=False)\n",
    "\n",
    "# train_filenames.to_csv(os.path.join(DATA_DIR, \"train_filenames_mc_3.csv\"), index=False)\n",
    "# val_filenames.to_csv(os.path.join(DATA_DIR, \"val_filenames_mc_3.csv\"), index=False)\n",
    "# test_filenames.to_csv(os.path.join(DATA_DIR, \"test_filenames_mc_3.csv\"), index=False)\n",
    "\n",
    "# train_filenames.to_csv(os.path.join(DATA_DIR, \"train_filenames_mc_2.csv\"), index=False)\n",
    "# val_filenames.to_csv(os.path.join(DATA_DIR, \"val_filenames_mc_2.csv\"), index=False)\n",
    "# test_filenames.to_csv(os.path.join(DATA_DIR, \"test_filenames_mc_2.csv\"), index=False)\n",
    "\n",
    "# train_filenames.to_csv(os.path.join(DATA_DIR, \"train_filenames_mc_1.csv\"), index=False)\n",
    "# val_filenames.to_csv(os.path.join(DATA_DIR, \"val_filenames_mc_1.csv\"), index=False)\n",
    "# test_filenames.to_csv(os.path.join(DATA_DIR, \"test_filenames_mc_1.csv\"), index=False)\n",
    "\n",
    "# train_aphasia.to_csv(os.path.join(DATA_DIR, \"train_aphasia_mc.csv\"), index=False)\n",
    "# val_aphasia.to_csv(os.path.join(DATA_DIR, \"val_aphasia_mc.csv\"), index=False)\n",
    "# test_aphasia.to_csv(os.path.join(DATA_DIR, \"test_aphasia_mc.csv\"), index=False)\n",
    "# \n",
    "# train_norm.to_csv(os.path.join(DATA_DIR, \"train_norm_mc.csv\"), index=False)\n",
    "# val_norm.to_csv(os.path.join(DATA_DIR, \"val_norm_mc.csv\"), index=False)\n",
    "# test_norm.to_csv(os.path.join(DATA_DIR, \"test_norm_mc.csv\"), index=False)"
   ],
   "id": "c5830c35195b9b25",
   "outputs": [],
   "execution_count": 26
  },
  {
   "metadata": {},
   "cell_type": "code",
   "source": "",
   "id": "e8d825f89ae7f1eb",
   "outputs": [],
   "execution_count": null
  }
 ],
 "metadata": {
  "kernelspec": {
   "display_name": "Python 3",
   "language": "python",
   "name": "python3"
  },
  "language_info": {
   "codemirror_mode": {
    "name": "ipython",
    "version": 2
   },
   "file_extension": ".py",
   "mimetype": "text/x-python",
   "name": "python",
   "nbconvert_exporter": "python",
   "pygments_lexer": "ipython2",
   "version": "2.7.6"
  }
 },
 "nbformat": 4,
 "nbformat_minor": 5
}

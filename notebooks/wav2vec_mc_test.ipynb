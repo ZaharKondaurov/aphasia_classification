{
 "cells": [
  {
   "cell_type": "code",
   "id": "initial_id",
   "metadata": {
    "collapsed": true,
    "ExecuteTime": {
     "end_time": "2025-04-15T21:18:35.253919Z",
     "start_time": "2025-04-15T21:18:28.805828Z"
    }
   },
   "source": [
    "import warnings\n",
    "for warn in [UserWarning, FutureWarning]: warnings.filterwarnings(\"ignore\", category = warn)\n",
    "\n",
    "import os\n",
    "import torch\n",
    "import torch.nn as nn\n",
    "import torch.nn.functional as F\n",
    "import torch.optim as optim\n",
    "from torch import hub\n",
    "from torch.utils.data import Dataset, DataLoader, WeightedRandomSampler\n",
    "import torchaudio\n",
    "\n",
    "import numpy as np\n",
    "import pandas as pd\n",
    "\n",
    "from sklearn.metrics import f1_score, recall_score, precision_score, balanced_accuracy_score, accuracy_score, classification_report\n",
    "from sklearn.utils import shuffle\n",
    "\n",
    "import scipy\n",
    "\n",
    "from tqdm import tqdm\n",
    "\n",
    "from datasets import load_dataset, Dataset, Audio\n",
    "import librosa\n",
    "from transformers import AutoFeatureExtractor, Wav2Vec2ForSequenceClassification\n",
    "\n",
    "from models.basic_transformer import BasicTransformer\n",
    "\n",
    "from src.utils import AphasiaDatasetMFCC, AphasiaDatasetSpectrogram, AphasiaDatasetWaveform\n",
    "\n",
    "from collections import Counter\n",
    "from models.wav2vecClassifier import Wav2vecClassifier\n",
    "from audiomentations import Compose, AddGaussianNoise, TimeStretch, PitchShift, Shift, Gain"
   ],
   "outputs": [
    {
     "name": "stderr",
     "output_type": "stream",
     "text": [
      "2025-04-16 00:18:33.223557: I tensorflow/core/util/port.cc:153] oneDNN custom operations are on. You may see slightly different numerical results due to floating-point round-off errors from different computation orders. To turn them off, set the environment variable `TF_ENABLE_ONEDNN_OPTS=0`.\n",
      "2025-04-16 00:18:33.313815: E external/local_xla/xla/stream_executor/cuda/cuda_fft.cc:477] Unable to register cuFFT factory: Attempting to register factory for plugin cuFFT when one has already been registered\n",
      "WARNING: All log messages before absl::InitializeLog() is called are written to STDERR\n",
      "E0000 00:00:1744751913.351490   18618 cuda_dnn.cc:8310] Unable to register cuDNN factory: Attempting to register factory for plugin cuDNN when one has already been registered\n",
      "E0000 00:00:1744751913.367236   18618 cuda_blas.cc:1418] Unable to register cuBLAS factory: Attempting to register factory for plugin cuBLAS when one has already been registered\n",
      "2025-04-16 00:18:33.474794: I tensorflow/core/platform/cpu_feature_guard.cc:210] This TensorFlow binary is optimized to use available CPU instructions in performance-critical operations.\n",
      "To enable the following instructions: AVX2 AVX_VNNI FMA, in other operations, rebuild TensorFlow with the appropriate compiler flags.\n"
     ]
    }
   ],
   "execution_count": 1
  },
  {
   "metadata": {
    "ExecuteTime": {
     "end_time": "2025-04-15T21:18:37.066270Z",
     "start_time": "2025-04-15T21:18:35.254904Z"
    }
   },
   "cell_type": "code",
   "source": [
    "DEVICE = torch.device('cuda' if torch.cuda.is_available() else 'cpu')\n",
    "AUDIO_LENGTH = 6_000\n",
    "SEQUENCE_LENGTH = 31\n",
    "MFCC = 128\n",
    "print(f\"It's {DEVICE} time!!!\")"
   ],
   "id": "7c9835077aa98cf2",
   "outputs": [
    {
     "name": "stdout",
     "output_type": "stream",
     "text": [
      "It's cuda time!!!\n"
     ]
    }
   ],
   "execution_count": 2
  },
  {
   "metadata": {
    "ExecuteTime": {
     "end_time": "2025-04-15T21:18:37.077952Z",
     "start_time": "2025-04-15T21:18:37.067024Z"
    }
   },
   "cell_type": "code",
   "source": [
    "DATA_DIR = os.path.join('..', 'data')\n",
    "VOICES_DIR = os.path.join(DATA_DIR, 'Voices_wav')\n",
    "APHASIA_DIR = os.path.join(VOICES_DIR, 'Aphasia')\n",
    "NORM_DIR = os.path.join(VOICES_DIR, 'Norm')\n",
    "RIR_DIR = os.path.join(DATA_DIR, 'RIRs')\n",
    "NOISE_DIR = os.path.join(DATA_DIR, 'noise')"
   ],
   "id": "a7e921ed8d7fa0fb",
   "outputs": [],
   "execution_count": 3
  },
  {
   "metadata": {
    "ExecuteTime": {
     "end_time": "2025-04-15T21:18:37.088940Z",
     "start_time": "2025-04-15T21:18:37.079015Z"
    }
   },
   "cell_type": "code",
   "source": [
    "augmentations = audio_augment = Compose([\n",
    "                AddGaussianNoise(min_amplitude=0.001, max_amplitude=0.02, p=0.7),\n",
    "                TimeStretch(min_rate=0.8, max_rate=1.2, p=0.5),\n",
    "                PitchShift(min_semitones=-3, max_semitones=3, p=0.5),\n",
    "                Shift(min_shift=-0.3, max_shift=0.3, p=0.5),\n",
    "                Gain(min_gain_db=-8, max_gain_db=8, p=0.5),\n",
    "            ])"
   ],
   "id": "1e627c0b09673544",
   "outputs": [],
   "execution_count": 4
  },
  {
   "metadata": {
    "ExecuteTime": {
     "end_time": "2025-04-15T21:19:36.844814Z",
     "start_time": "2025-04-15T21:18:37.090437Z"
    }
   },
   "cell_type": "code",
   "source": "train_dataset = AphasiaDatasetWaveform(os.path.join(DATA_DIR, \"train_filenames_mc_1.csv\"), VOICES_DIR, snr=(10, 20), noise_dir=NORM_DIR, rirs_dir=RIR_DIR, target_sample_rate=8_000, file_format=\"wav\", transforms=augmentations)",
   "id": "144cd64b08c7a57c",
   "outputs": [],
   "execution_count": 5
  },
  {
   "metadata": {
    "ExecuteTime": {
     "end_time": "2025-04-15T21:19:42.325915Z",
     "start_time": "2025-04-15T21:19:36.845754Z"
    }
   },
   "cell_type": "code",
   "source": "test_dataset = AphasiaDatasetWaveform(os.path.join(DATA_DIR, \"val_filenames_mc_1.csv\"), VOICES_DIR, target_sample_rate=8_000, file_format=\"wav\")",
   "id": "34cf8047b28870c2",
   "outputs": [],
   "execution_count": 6
  },
  {
   "metadata": {
    "ExecuteTime": {
     "end_time": "2025-04-15T21:19:46.876024Z",
     "start_time": "2025-04-15T21:19:42.326916Z"
    }
   },
   "cell_type": "code",
   "source": "val_dataset = AphasiaDatasetWaveform(os.path.join(DATA_DIR, \"test_filenames_mc_1.csv\"), VOICES_DIR, target_sample_rate=8_000, file_format=\"wav\")",
   "id": "17d6050cfbc4ed91",
   "outputs": [],
   "execution_count": 7
  },
  {
   "metadata": {
    "ExecuteTime": {
     "end_time": "2025-04-15T21:19:46.879993Z",
     "start_time": "2025-04-15T21:19:46.876922Z"
    }
   },
   "cell_type": "code",
   "source": [
    "# Балансировка классов для train\n",
    "train_labels = [label for _, label in train_dataset.data]\n",
    "class_counts = Counter(train_labels)\n",
    "if len(class_counts) < 4:\n",
    "    raise ValueError(\"Один из классов отсутствует в тренировочном наборе\")\n",
    "\n",
    "class_weights = {label: 1.0 / count for label, count in class_counts.items()}\n",
    "weights = [class_weights[label] for _, label in train_dataset.data]\n",
    "train_sampler = WeightedRandomSampler(weights, num_samples=len(train_dataset), replacement=True)"
   ],
   "id": "ad542ec928e0e2e6",
   "outputs": [],
   "execution_count": 8
  },
  {
   "metadata": {
    "ExecuteTime": {
     "end_time": "2025-04-15T21:19:46.891017Z",
     "start_time": "2025-04-15T21:19:46.880822Z"
    }
   },
   "cell_type": "code",
   "source": "MAX_LEN = 120_000",
   "id": "e045bd86f809e545",
   "outputs": [],
   "execution_count": 9
  },
  {
   "metadata": {
    "ExecuteTime": {
     "end_time": "2025-04-15T21:19:46.902047Z",
     "start_time": "2025-04-15T21:19:46.891661Z"
    }
   },
   "cell_type": "code",
   "source": [
    "def pad_sequence(batch):\n",
    "    if not batch:\n",
    "        return torch.zeros(0), torch.zeros(0)\n",
    "    \n",
    "    seq, labels = zip(*batch)\n",
    "    # print(seq[1], labels)\n",
    "    max_len = max(s.shape[1] for s in seq)\n",
    "    # print(seq[0].shape)\n",
    "\n",
    "    # print(seq[0].shape)\n",
    "    padded = torch.zeros(len(seq), max_len)\n",
    "    for i, s in enumerate(seq):\n",
    "        padded[i, :s.shape[1]] = s[0, :MAX_LEN]\n",
    "    \n",
    "    return padded, torch.stack(labels) "
   ],
   "id": "bb46710564341557",
   "outputs": [],
   "execution_count": 10
  },
  {
   "metadata": {
    "ExecuteTime": {
     "end_time": "2025-04-15T21:19:46.913306Z",
     "start_time": "2025-04-15T21:19:46.903522Z"
    }
   },
   "cell_type": "code",
   "source": [
    "train_dataloader = DataLoader(train_dataset, batch_size=4, sampler=train_sampler, collate_fn=pad_sequence, drop_last=True, num_workers=6)\n",
    "# test_dataloader = DataLoader(test_dataset, batch_size=16, shuffle=False, collate_fn=pad_sequence, drop_last=True)\n",
    "val_dataloader = DataLoader(val_dataset, batch_size=4, shuffle=False, collate_fn=pad_sequence, drop_last=True, num_workers=6)"
   ],
   "id": "2f546960bb563c57",
   "outputs": [],
   "execution_count": 11
  },
  {
   "metadata": {
    "ExecuteTime": {
     "end_time": "2025-04-15T21:19:46.925519Z",
     "start_time": "2025-04-15T21:19:46.914498Z"
    }
   },
   "cell_type": "code",
   "source": [
    "def train_model(model, dl_train, dl_val, epochs=1, lr=0.001, device=\"cpu\"):\n",
    "      \n",
    "    model = model.to(device)\n",
    "    criterion = nn.CrossEntropyLoss(weight=torch.tensor(list(class_weights.values()))).to(device)\n",
    "    \n",
    "    optimizer = torch.optim.Adam(model.parameters(), lr=lr, weight_decay=1e-5)\n",
    "        \n",
    "    scheduler = torch.optim.lr_scheduler.ReduceLROnPlateau(optimizer, factor=0.5, patience=2, threshold=1e-3)\n",
    "    # scheduler = step_scheduler(optimizer, 30) \n",
    "        \n",
    "    train_loss_list = []\n",
    "    val_loss_list = []\n",
    "    train_acc_list = []\n",
    "    val_acc_list = []\n",
    "    for epoch in tqdm(range(epochs), desc=\"Training model\"):\n",
    "        model.train()\n",
    "        total_train_loss = 0\n",
    "        total_val_loss = 0\n",
    "        \n",
    "        train_acc = []\n",
    "        val_acc = []\n",
    "        for features, target in dl_train:\n",
    "            features, target = features.to(device), target.to(device)\n",
    "            optimizer.zero_grad()\n",
    "            \n",
    "            output = model(features).logits\n",
    "            # print(output)\n",
    "            # train_acc.append(torch.tensor(torch.argmax(output, dim=1) == target).cpu().detach().numpy())\n",
    "            preds = torch.argmax(output, dim=1).cpu().detach().numpy()\n",
    "            train_acc.append(accuracy_score(target.cpu().detach().numpy(), preds))\n",
    "            \n",
    "            loss = criterion(output, target)\n",
    "            loss.backward()\n",
    "            optimizer.step()\n",
    "            \n",
    "            total_train_loss += loss.detach().item()\n",
    "        # print(f\"LR before: {optimizer.param_groups[0]['lr']}\")\n",
    "        # scheduler.step(epoch=epoch)\n",
    "        # print(f\"LR after: {optimizer.param_groups[0]['lr']}\")\n",
    "        \n",
    "        avg_train_acc = np.stack(train_acc, axis=0).mean()\n",
    "\n",
    "        avg_train_loss = total_train_loss / len(train_dataloader)\n",
    "        train_loss_list.append(avg_train_loss)\n",
    "        train_acc_list.append(avg_train_acc)\n",
    "                \n",
    "        model.eval()\n",
    "        \n",
    "        with torch.no_grad():\n",
    "            for features, target in dl_val:\n",
    "                features, target = features.to(device), target.to(device)\n",
    "                \n",
    "                output = model(features).logits\n",
    "                \n",
    "                preds = torch.argmax(output, dim=1).cpu().detach().numpy()\n",
    "                val_acc.append(accuracy_score(target.cpu().detach().numpy(), preds))\n",
    "                loss = criterion(output, target)\n",
    "                total_val_loss += loss.detach().item()\n",
    "        \n",
    "        avg_val_acc = np.stack(val_acc, axis=0).mean()\n",
    "        avg_val_loss = total_val_loss / len(dl_val)\n",
    "        val_loss_list.append(avg_val_loss)\n",
    "        val_acc_list.append(avg_val_acc)\n",
    "        \n",
    "        if scheduler:\n",
    "            try:\n",
    "                scheduler.step()\n",
    "            except:\n",
    "                scheduler.step(avg_val_loss)\n",
    "        \n",
    "        # if epoch % 10 == 0:\n",
    "        tqdm.write(f\"Epoch {epoch}: train loss: {avg_train_loss:.3f}, train balanced acc: {avg_train_acc:.2f}, test loss: {avg_val_loss:.3f}, test balanced acc: {avg_val_acc:.2f}, lr: {optimizer.param_groups[0]['lr']}\")\n",
    "\n",
    "            \n",
    "    return model, train_loss_list, val_loss_list, train_acc_list, val_acc_list"
   ],
   "id": "135ec96b092aa84f",
   "outputs": [],
   "execution_count": 12
  },
  {
   "metadata": {
    "ExecuteTime": {
     "end_time": "2025-04-15T21:20:47.125670Z",
     "start_time": "2025-04-15T21:19:46.926366Z"
    }
   },
   "cell_type": "code",
   "source": "wav2vec = Wav2vecClassifier(num_labels=4, unfreeze=0.0)",
   "id": "4cc4d7d3b3f0ea",
   "outputs": [
    {
     "name": "stderr",
     "output_type": "stream",
     "text": [
      "Some weights of Wav2Vec2ForSequenceClassification were not initialized from the model checkpoint at facebook/wav2vec2-base and are newly initialized: ['classifier.bias', 'classifier.weight', 'projector.bias', 'projector.weight']\n",
      "You should probably TRAIN this model on a down-stream task to be able to use it for predictions and inference.\n"
     ]
    }
   ],
   "execution_count": 13
  },
  {
   "metadata": {
    "ExecuteTime": {
     "end_time": "2025-04-15T21:20:47.134554Z",
     "start_time": "2025-04-15T21:20:47.126882Z"
    }
   },
   "cell_type": "code",
   "source": [
    "from termcolor import colored\n",
    "from collections import defaultdict\n",
    "\n",
    "def beautiful_int(i):\n",
    "    i = str(i)\n",
    "    return \".\".join(reversed([i[max(j, 0):j+3] for j in range(len(i) - 3, -3, -3)]))\n",
    "\n",
    "# Считаем общее число параметров в нашей модели\n",
    "def model_num_params(model, verbose_all=True, verbose_only_learnable=False):\n",
    "    sum_params = 0\n",
    "    sum_learnable_params = 0\n",
    "    submodules = defaultdict(lambda : [0, 0])\n",
    "    for name, param in model.named_parameters():\n",
    "        num_params = np.prod(param.shape)\n",
    "        if verbose_all or (verbose_only_learnable and param[1].requires_grad):\n",
    "            print(\n",
    "                colored(\n",
    "                    '{: <42} ~  {: <9} params ~ grad: {}'.format(\n",
    "                        name,\n",
    "                        beautiful_int(num_params),\n",
    "                        param.requires_grad,\n",
    "                    ),\n",
    "                    {True: \"green\", False: \"red\"}[param.requires_grad],\n",
    "                )\n",
    "            )\n",
    "        sum_params += num_params\n",
    "        sm = name.split(\".\")[0]\n",
    "        submodules[sm][0] += num_params\n",
    "        if param.requires_grad:\n",
    "            sum_learnable_params += num_params\n",
    "            submodules[sm][1] += num_params\n",
    "    print(\n",
    "        f'\\nIn total:\\n  - {beautiful_int(sum_params)} params\\n  - {beautiful_int(sum_learnable_params)} learnable params'\n",
    "    )\n",
    "\n",
    "    for sm, v in submodules.items():\n",
    "        print(\n",
    "            f\"\\n . {sm}:\\n .   - {beautiful_int(submodules[sm][0])} params\\n .   - {beautiful_int(submodules[sm][1])} learnable params\"\n",
    "        )\n",
    "    return sum_params, sum_learnable_params\n",
    "\n",
    "\n",
    "sum_params, sum_learnable_params = model_num_params(wav2vec)"
   ],
   "id": "d1f73fb98994d0ef",
   "outputs": [
    {
     "name": "stdout",
     "output_type": "stream",
     "text": [
      "\u001B[32mwav2vec.wav2vec2.masked_spec_embed         ~  768       params ~ grad: True\u001B[0m\n",
      "\u001B[32mwav2vec.wav2vec2.feature_extractor.conv_layers.0.conv.weight ~  5.120     params ~ grad: True\u001B[0m\n",
      "\u001B[32mwav2vec.wav2vec2.feature_extractor.conv_layers.0.layer_norm.weight ~  512       params ~ grad: True\u001B[0m\n",
      "\u001B[32mwav2vec.wav2vec2.feature_extractor.conv_layers.0.layer_norm.bias ~  512       params ~ grad: True\u001B[0m\n",
      "\u001B[32mwav2vec.wav2vec2.feature_extractor.conv_layers.1.conv.weight ~  786.432   params ~ grad: True\u001B[0m\n",
      "\u001B[32mwav2vec.wav2vec2.feature_extractor.conv_layers.2.conv.weight ~  786.432   params ~ grad: True\u001B[0m\n",
      "\u001B[32mwav2vec.wav2vec2.feature_extractor.conv_layers.3.conv.weight ~  786.432   params ~ grad: True\u001B[0m\n",
      "\u001B[32mwav2vec.wav2vec2.feature_extractor.conv_layers.4.conv.weight ~  786.432   params ~ grad: True\u001B[0m\n",
      "\u001B[32mwav2vec.wav2vec2.feature_extractor.conv_layers.5.conv.weight ~  524.288   params ~ grad: True\u001B[0m\n",
      "\u001B[32mwav2vec.wav2vec2.feature_extractor.conv_layers.6.conv.weight ~  524.288   params ~ grad: True\u001B[0m\n",
      "\u001B[32mwav2vec.wav2vec2.feature_projection.layer_norm.weight ~  512       params ~ grad: True\u001B[0m\n",
      "\u001B[32mwav2vec.wav2vec2.feature_projection.layer_norm.bias ~  512       params ~ grad: True\u001B[0m\n",
      "\u001B[32mwav2vec.wav2vec2.feature_projection.projection.weight ~  393.216   params ~ grad: True\u001B[0m\n",
      "\u001B[32mwav2vec.wav2vec2.feature_projection.projection.bias ~  768       params ~ grad: True\u001B[0m\n",
      "\u001B[32mwav2vec.wav2vec2.encoder.pos_conv_embed.conv.bias ~  768       params ~ grad: True\u001B[0m\n",
      "\u001B[32mwav2vec.wav2vec2.encoder.pos_conv_embed.conv.parametrizations.weight.original0 ~  128       params ~ grad: True\u001B[0m\n",
      "\u001B[32mwav2vec.wav2vec2.encoder.pos_conv_embed.conv.parametrizations.weight.original1 ~  4.718.592 params ~ grad: True\u001B[0m\n",
      "\u001B[32mwav2vec.wav2vec2.encoder.layer_norm.weight ~  768       params ~ grad: True\u001B[0m\n",
      "\u001B[32mwav2vec.wav2vec2.encoder.layer_norm.bias   ~  768       params ~ grad: True\u001B[0m\n",
      "\u001B[32mwav2vec.wav2vec2.encoder.layers.0.attention.k_proj.weight ~  589.824   params ~ grad: True\u001B[0m\n",
      "\u001B[32mwav2vec.wav2vec2.encoder.layers.0.attention.k_proj.bias ~  768       params ~ grad: True\u001B[0m\n",
      "\u001B[32mwav2vec.wav2vec2.encoder.layers.0.attention.v_proj.weight ~  589.824   params ~ grad: True\u001B[0m\n",
      "\u001B[32mwav2vec.wav2vec2.encoder.layers.0.attention.v_proj.bias ~  768       params ~ grad: True\u001B[0m\n",
      "\u001B[32mwav2vec.wav2vec2.encoder.layers.0.attention.q_proj.weight ~  589.824   params ~ grad: True\u001B[0m\n",
      "\u001B[32mwav2vec.wav2vec2.encoder.layers.0.attention.q_proj.bias ~  768       params ~ grad: True\u001B[0m\n",
      "\u001B[32mwav2vec.wav2vec2.encoder.layers.0.attention.out_proj.weight ~  589.824   params ~ grad: True\u001B[0m\n",
      "\u001B[32mwav2vec.wav2vec2.encoder.layers.0.attention.out_proj.bias ~  768       params ~ grad: True\u001B[0m\n",
      "\u001B[32mwav2vec.wav2vec2.encoder.layers.0.layer_norm.weight ~  768       params ~ grad: True\u001B[0m\n",
      "\u001B[32mwav2vec.wav2vec2.encoder.layers.0.layer_norm.bias ~  768       params ~ grad: True\u001B[0m\n",
      "\u001B[32mwav2vec.wav2vec2.encoder.layers.0.feed_forward.intermediate_dense.weight ~  2.359.296 params ~ grad: True\u001B[0m\n",
      "\u001B[32mwav2vec.wav2vec2.encoder.layers.0.feed_forward.intermediate_dense.bias ~  3.072     params ~ grad: True\u001B[0m\n",
      "\u001B[32mwav2vec.wav2vec2.encoder.layers.0.feed_forward.output_dense.weight ~  2.359.296 params ~ grad: True\u001B[0m\n",
      "\u001B[32mwav2vec.wav2vec2.encoder.layers.0.feed_forward.output_dense.bias ~  768       params ~ grad: True\u001B[0m\n",
      "\u001B[32mwav2vec.wav2vec2.encoder.layers.0.final_layer_norm.weight ~  768       params ~ grad: True\u001B[0m\n",
      "\u001B[32mwav2vec.wav2vec2.encoder.layers.0.final_layer_norm.bias ~  768       params ~ grad: True\u001B[0m\n",
      "\u001B[32mwav2vec.wav2vec2.encoder.layers.1.attention.k_proj.weight ~  589.824   params ~ grad: True\u001B[0m\n",
      "\u001B[32mwav2vec.wav2vec2.encoder.layers.1.attention.k_proj.bias ~  768       params ~ grad: True\u001B[0m\n",
      "\u001B[32mwav2vec.wav2vec2.encoder.layers.1.attention.v_proj.weight ~  589.824   params ~ grad: True\u001B[0m\n",
      "\u001B[32mwav2vec.wav2vec2.encoder.layers.1.attention.v_proj.bias ~  768       params ~ grad: True\u001B[0m\n",
      "\u001B[32mwav2vec.wav2vec2.encoder.layers.1.attention.q_proj.weight ~  589.824   params ~ grad: True\u001B[0m\n",
      "\u001B[32mwav2vec.wav2vec2.encoder.layers.1.attention.q_proj.bias ~  768       params ~ grad: True\u001B[0m\n",
      "\u001B[32mwav2vec.wav2vec2.encoder.layers.1.attention.out_proj.weight ~  589.824   params ~ grad: True\u001B[0m\n",
      "\u001B[32mwav2vec.wav2vec2.encoder.layers.1.attention.out_proj.bias ~  768       params ~ grad: True\u001B[0m\n",
      "\u001B[32mwav2vec.wav2vec2.encoder.layers.1.layer_norm.weight ~  768       params ~ grad: True\u001B[0m\n",
      "\u001B[32mwav2vec.wav2vec2.encoder.layers.1.layer_norm.bias ~  768       params ~ grad: True\u001B[0m\n",
      "\u001B[32mwav2vec.wav2vec2.encoder.layers.1.feed_forward.intermediate_dense.weight ~  2.359.296 params ~ grad: True\u001B[0m\n",
      "\u001B[32mwav2vec.wav2vec2.encoder.layers.1.feed_forward.intermediate_dense.bias ~  3.072     params ~ grad: True\u001B[0m\n",
      "\u001B[32mwav2vec.wav2vec2.encoder.layers.1.feed_forward.output_dense.weight ~  2.359.296 params ~ grad: True\u001B[0m\n",
      "\u001B[32mwav2vec.wav2vec2.encoder.layers.1.feed_forward.output_dense.bias ~  768       params ~ grad: True\u001B[0m\n",
      "\u001B[32mwav2vec.wav2vec2.encoder.layers.1.final_layer_norm.weight ~  768       params ~ grad: True\u001B[0m\n",
      "\u001B[32mwav2vec.wav2vec2.encoder.layers.1.final_layer_norm.bias ~  768       params ~ grad: True\u001B[0m\n",
      "\u001B[32mwav2vec.wav2vec2.encoder.layers.2.attention.k_proj.weight ~  589.824   params ~ grad: True\u001B[0m\n",
      "\u001B[32mwav2vec.wav2vec2.encoder.layers.2.attention.k_proj.bias ~  768       params ~ grad: True\u001B[0m\n",
      "\u001B[32mwav2vec.wav2vec2.encoder.layers.2.attention.v_proj.weight ~  589.824   params ~ grad: True\u001B[0m\n",
      "\u001B[32mwav2vec.wav2vec2.encoder.layers.2.attention.v_proj.bias ~  768       params ~ grad: True\u001B[0m\n",
      "\u001B[32mwav2vec.wav2vec2.encoder.layers.2.attention.q_proj.weight ~  589.824   params ~ grad: True\u001B[0m\n",
      "\u001B[32mwav2vec.wav2vec2.encoder.layers.2.attention.q_proj.bias ~  768       params ~ grad: True\u001B[0m\n",
      "\u001B[32mwav2vec.wav2vec2.encoder.layers.2.attention.out_proj.weight ~  589.824   params ~ grad: True\u001B[0m\n",
      "\u001B[32mwav2vec.wav2vec2.encoder.layers.2.attention.out_proj.bias ~  768       params ~ grad: True\u001B[0m\n",
      "\u001B[32mwav2vec.wav2vec2.encoder.layers.2.layer_norm.weight ~  768       params ~ grad: True\u001B[0m\n",
      "\u001B[32mwav2vec.wav2vec2.encoder.layers.2.layer_norm.bias ~  768       params ~ grad: True\u001B[0m\n",
      "\u001B[32mwav2vec.wav2vec2.encoder.layers.2.feed_forward.intermediate_dense.weight ~  2.359.296 params ~ grad: True\u001B[0m\n",
      "\u001B[32mwav2vec.wav2vec2.encoder.layers.2.feed_forward.intermediate_dense.bias ~  3.072     params ~ grad: True\u001B[0m\n",
      "\u001B[32mwav2vec.wav2vec2.encoder.layers.2.feed_forward.output_dense.weight ~  2.359.296 params ~ grad: True\u001B[0m\n",
      "\u001B[32mwav2vec.wav2vec2.encoder.layers.2.feed_forward.output_dense.bias ~  768       params ~ grad: True\u001B[0m\n",
      "\u001B[32mwav2vec.wav2vec2.encoder.layers.2.final_layer_norm.weight ~  768       params ~ grad: True\u001B[0m\n",
      "\u001B[32mwav2vec.wav2vec2.encoder.layers.2.final_layer_norm.bias ~  768       params ~ grad: True\u001B[0m\n",
      "\u001B[32mwav2vec.wav2vec2.encoder.layers.3.attention.k_proj.weight ~  589.824   params ~ grad: True\u001B[0m\n",
      "\u001B[32mwav2vec.wav2vec2.encoder.layers.3.attention.k_proj.bias ~  768       params ~ grad: True\u001B[0m\n",
      "\u001B[32mwav2vec.wav2vec2.encoder.layers.3.attention.v_proj.weight ~  589.824   params ~ grad: True\u001B[0m\n",
      "\u001B[32mwav2vec.wav2vec2.encoder.layers.3.attention.v_proj.bias ~  768       params ~ grad: True\u001B[0m\n",
      "\u001B[32mwav2vec.wav2vec2.encoder.layers.3.attention.q_proj.weight ~  589.824   params ~ grad: True\u001B[0m\n",
      "\u001B[32mwav2vec.wav2vec2.encoder.layers.3.attention.q_proj.bias ~  768       params ~ grad: True\u001B[0m\n",
      "\u001B[32mwav2vec.wav2vec2.encoder.layers.3.attention.out_proj.weight ~  589.824   params ~ grad: True\u001B[0m\n",
      "\u001B[32mwav2vec.wav2vec2.encoder.layers.3.attention.out_proj.bias ~  768       params ~ grad: True\u001B[0m\n",
      "\u001B[32mwav2vec.wav2vec2.encoder.layers.3.layer_norm.weight ~  768       params ~ grad: True\u001B[0m\n",
      "\u001B[32mwav2vec.wav2vec2.encoder.layers.3.layer_norm.bias ~  768       params ~ grad: True\u001B[0m\n",
      "\u001B[32mwav2vec.wav2vec2.encoder.layers.3.feed_forward.intermediate_dense.weight ~  2.359.296 params ~ grad: True\u001B[0m\n",
      "\u001B[32mwav2vec.wav2vec2.encoder.layers.3.feed_forward.intermediate_dense.bias ~  3.072     params ~ grad: True\u001B[0m\n",
      "\u001B[32mwav2vec.wav2vec2.encoder.layers.3.feed_forward.output_dense.weight ~  2.359.296 params ~ grad: True\u001B[0m\n",
      "\u001B[32mwav2vec.wav2vec2.encoder.layers.3.feed_forward.output_dense.bias ~  768       params ~ grad: True\u001B[0m\n",
      "\u001B[32mwav2vec.wav2vec2.encoder.layers.3.final_layer_norm.weight ~  768       params ~ grad: True\u001B[0m\n",
      "\u001B[32mwav2vec.wav2vec2.encoder.layers.3.final_layer_norm.bias ~  768       params ~ grad: True\u001B[0m\n",
      "\u001B[32mwav2vec.wav2vec2.encoder.layers.4.attention.k_proj.weight ~  589.824   params ~ grad: True\u001B[0m\n",
      "\u001B[32mwav2vec.wav2vec2.encoder.layers.4.attention.k_proj.bias ~  768       params ~ grad: True\u001B[0m\n",
      "\u001B[32mwav2vec.wav2vec2.encoder.layers.4.attention.v_proj.weight ~  589.824   params ~ grad: True\u001B[0m\n",
      "\u001B[32mwav2vec.wav2vec2.encoder.layers.4.attention.v_proj.bias ~  768       params ~ grad: True\u001B[0m\n",
      "\u001B[32mwav2vec.wav2vec2.encoder.layers.4.attention.q_proj.weight ~  589.824   params ~ grad: True\u001B[0m\n",
      "\u001B[32mwav2vec.wav2vec2.encoder.layers.4.attention.q_proj.bias ~  768       params ~ grad: True\u001B[0m\n",
      "\u001B[32mwav2vec.wav2vec2.encoder.layers.4.attention.out_proj.weight ~  589.824   params ~ grad: True\u001B[0m\n",
      "\u001B[32mwav2vec.wav2vec2.encoder.layers.4.attention.out_proj.bias ~  768       params ~ grad: True\u001B[0m\n",
      "\u001B[32mwav2vec.wav2vec2.encoder.layers.4.layer_norm.weight ~  768       params ~ grad: True\u001B[0m\n",
      "\u001B[32mwav2vec.wav2vec2.encoder.layers.4.layer_norm.bias ~  768       params ~ grad: True\u001B[0m\n",
      "\u001B[32mwav2vec.wav2vec2.encoder.layers.4.feed_forward.intermediate_dense.weight ~  2.359.296 params ~ grad: True\u001B[0m\n",
      "\u001B[32mwav2vec.wav2vec2.encoder.layers.4.feed_forward.intermediate_dense.bias ~  3.072     params ~ grad: True\u001B[0m\n",
      "\u001B[32mwav2vec.wav2vec2.encoder.layers.4.feed_forward.output_dense.weight ~  2.359.296 params ~ grad: True\u001B[0m\n",
      "\u001B[32mwav2vec.wav2vec2.encoder.layers.4.feed_forward.output_dense.bias ~  768       params ~ grad: True\u001B[0m\n",
      "\u001B[32mwav2vec.wav2vec2.encoder.layers.4.final_layer_norm.weight ~  768       params ~ grad: True\u001B[0m\n",
      "\u001B[32mwav2vec.wav2vec2.encoder.layers.4.final_layer_norm.bias ~  768       params ~ grad: True\u001B[0m\n",
      "\u001B[32mwav2vec.wav2vec2.encoder.layers.5.attention.k_proj.weight ~  589.824   params ~ grad: True\u001B[0m\n",
      "\u001B[32mwav2vec.wav2vec2.encoder.layers.5.attention.k_proj.bias ~  768       params ~ grad: True\u001B[0m\n",
      "\u001B[32mwav2vec.wav2vec2.encoder.layers.5.attention.v_proj.weight ~  589.824   params ~ grad: True\u001B[0m\n",
      "\u001B[32mwav2vec.wav2vec2.encoder.layers.5.attention.v_proj.bias ~  768       params ~ grad: True\u001B[0m\n",
      "\u001B[32mwav2vec.wav2vec2.encoder.layers.5.attention.q_proj.weight ~  589.824   params ~ grad: True\u001B[0m\n",
      "\u001B[32mwav2vec.wav2vec2.encoder.layers.5.attention.q_proj.bias ~  768       params ~ grad: True\u001B[0m\n",
      "\u001B[32mwav2vec.wav2vec2.encoder.layers.5.attention.out_proj.weight ~  589.824   params ~ grad: True\u001B[0m\n",
      "\u001B[32mwav2vec.wav2vec2.encoder.layers.5.attention.out_proj.bias ~  768       params ~ grad: True\u001B[0m\n",
      "\u001B[32mwav2vec.wav2vec2.encoder.layers.5.layer_norm.weight ~  768       params ~ grad: True\u001B[0m\n",
      "\u001B[32mwav2vec.wav2vec2.encoder.layers.5.layer_norm.bias ~  768       params ~ grad: True\u001B[0m\n",
      "\u001B[32mwav2vec.wav2vec2.encoder.layers.5.feed_forward.intermediate_dense.weight ~  2.359.296 params ~ grad: True\u001B[0m\n",
      "\u001B[32mwav2vec.wav2vec2.encoder.layers.5.feed_forward.intermediate_dense.bias ~  3.072     params ~ grad: True\u001B[0m\n",
      "\u001B[32mwav2vec.wav2vec2.encoder.layers.5.feed_forward.output_dense.weight ~  2.359.296 params ~ grad: True\u001B[0m\n",
      "\u001B[32mwav2vec.wav2vec2.encoder.layers.5.feed_forward.output_dense.bias ~  768       params ~ grad: True\u001B[0m\n",
      "\u001B[32mwav2vec.wav2vec2.encoder.layers.5.final_layer_norm.weight ~  768       params ~ grad: True\u001B[0m\n",
      "\u001B[32mwav2vec.wav2vec2.encoder.layers.5.final_layer_norm.bias ~  768       params ~ grad: True\u001B[0m\n",
      "\u001B[32mwav2vec.wav2vec2.encoder.layers.6.attention.k_proj.weight ~  589.824   params ~ grad: True\u001B[0m\n",
      "\u001B[32mwav2vec.wav2vec2.encoder.layers.6.attention.k_proj.bias ~  768       params ~ grad: True\u001B[0m\n",
      "\u001B[32mwav2vec.wav2vec2.encoder.layers.6.attention.v_proj.weight ~  589.824   params ~ grad: True\u001B[0m\n",
      "\u001B[32mwav2vec.wav2vec2.encoder.layers.6.attention.v_proj.bias ~  768       params ~ grad: True\u001B[0m\n",
      "\u001B[32mwav2vec.wav2vec2.encoder.layers.6.attention.q_proj.weight ~  589.824   params ~ grad: True\u001B[0m\n",
      "\u001B[32mwav2vec.wav2vec2.encoder.layers.6.attention.q_proj.bias ~  768       params ~ grad: True\u001B[0m\n",
      "\u001B[32mwav2vec.wav2vec2.encoder.layers.6.attention.out_proj.weight ~  589.824   params ~ grad: True\u001B[0m\n",
      "\u001B[32mwav2vec.wav2vec2.encoder.layers.6.attention.out_proj.bias ~  768       params ~ grad: True\u001B[0m\n",
      "\u001B[32mwav2vec.wav2vec2.encoder.layers.6.layer_norm.weight ~  768       params ~ grad: True\u001B[0m\n",
      "\u001B[32mwav2vec.wav2vec2.encoder.layers.6.layer_norm.bias ~  768       params ~ grad: True\u001B[0m\n",
      "\u001B[32mwav2vec.wav2vec2.encoder.layers.6.feed_forward.intermediate_dense.weight ~  2.359.296 params ~ grad: True\u001B[0m\n",
      "\u001B[32mwav2vec.wav2vec2.encoder.layers.6.feed_forward.intermediate_dense.bias ~  3.072     params ~ grad: True\u001B[0m\n",
      "\u001B[32mwav2vec.wav2vec2.encoder.layers.6.feed_forward.output_dense.weight ~  2.359.296 params ~ grad: True\u001B[0m\n",
      "\u001B[32mwav2vec.wav2vec2.encoder.layers.6.feed_forward.output_dense.bias ~  768       params ~ grad: True\u001B[0m\n",
      "\u001B[32mwav2vec.wav2vec2.encoder.layers.6.final_layer_norm.weight ~  768       params ~ grad: True\u001B[0m\n",
      "\u001B[32mwav2vec.wav2vec2.encoder.layers.6.final_layer_norm.bias ~  768       params ~ grad: True\u001B[0m\n",
      "\u001B[32mwav2vec.wav2vec2.encoder.layers.7.attention.k_proj.weight ~  589.824   params ~ grad: True\u001B[0m\n",
      "\u001B[32mwav2vec.wav2vec2.encoder.layers.7.attention.k_proj.bias ~  768       params ~ grad: True\u001B[0m\n",
      "\u001B[32mwav2vec.wav2vec2.encoder.layers.7.attention.v_proj.weight ~  589.824   params ~ grad: True\u001B[0m\n",
      "\u001B[32mwav2vec.wav2vec2.encoder.layers.7.attention.v_proj.bias ~  768       params ~ grad: True\u001B[0m\n",
      "\u001B[32mwav2vec.wav2vec2.encoder.layers.7.attention.q_proj.weight ~  589.824   params ~ grad: True\u001B[0m\n",
      "\u001B[32mwav2vec.wav2vec2.encoder.layers.7.attention.q_proj.bias ~  768       params ~ grad: True\u001B[0m\n",
      "\u001B[32mwav2vec.wav2vec2.encoder.layers.7.attention.out_proj.weight ~  589.824   params ~ grad: True\u001B[0m\n",
      "\u001B[32mwav2vec.wav2vec2.encoder.layers.7.attention.out_proj.bias ~  768       params ~ grad: True\u001B[0m\n",
      "\u001B[32mwav2vec.wav2vec2.encoder.layers.7.layer_norm.weight ~  768       params ~ grad: True\u001B[0m\n",
      "\u001B[32mwav2vec.wav2vec2.encoder.layers.7.layer_norm.bias ~  768       params ~ grad: True\u001B[0m\n",
      "\u001B[32mwav2vec.wav2vec2.encoder.layers.7.feed_forward.intermediate_dense.weight ~  2.359.296 params ~ grad: True\u001B[0m\n",
      "\u001B[32mwav2vec.wav2vec2.encoder.layers.7.feed_forward.intermediate_dense.bias ~  3.072     params ~ grad: True\u001B[0m\n",
      "\u001B[32mwav2vec.wav2vec2.encoder.layers.7.feed_forward.output_dense.weight ~  2.359.296 params ~ grad: True\u001B[0m\n",
      "\u001B[32mwav2vec.wav2vec2.encoder.layers.7.feed_forward.output_dense.bias ~  768       params ~ grad: True\u001B[0m\n",
      "\u001B[32mwav2vec.wav2vec2.encoder.layers.7.final_layer_norm.weight ~  768       params ~ grad: True\u001B[0m\n",
      "\u001B[32mwav2vec.wav2vec2.encoder.layers.7.final_layer_norm.bias ~  768       params ~ grad: True\u001B[0m\n",
      "\u001B[32mwav2vec.wav2vec2.encoder.layers.8.attention.k_proj.weight ~  589.824   params ~ grad: True\u001B[0m\n",
      "\u001B[32mwav2vec.wav2vec2.encoder.layers.8.attention.k_proj.bias ~  768       params ~ grad: True\u001B[0m\n",
      "\u001B[32mwav2vec.wav2vec2.encoder.layers.8.attention.v_proj.weight ~  589.824   params ~ grad: True\u001B[0m\n",
      "\u001B[32mwav2vec.wav2vec2.encoder.layers.8.attention.v_proj.bias ~  768       params ~ grad: True\u001B[0m\n",
      "\u001B[32mwav2vec.wav2vec2.encoder.layers.8.attention.q_proj.weight ~  589.824   params ~ grad: True\u001B[0m\n",
      "\u001B[32mwav2vec.wav2vec2.encoder.layers.8.attention.q_proj.bias ~  768       params ~ grad: True\u001B[0m\n",
      "\u001B[32mwav2vec.wav2vec2.encoder.layers.8.attention.out_proj.weight ~  589.824   params ~ grad: True\u001B[0m\n",
      "\u001B[32mwav2vec.wav2vec2.encoder.layers.8.attention.out_proj.bias ~  768       params ~ grad: True\u001B[0m\n",
      "\u001B[32mwav2vec.wav2vec2.encoder.layers.8.layer_norm.weight ~  768       params ~ grad: True\u001B[0m\n",
      "\u001B[32mwav2vec.wav2vec2.encoder.layers.8.layer_norm.bias ~  768       params ~ grad: True\u001B[0m\n",
      "\u001B[32mwav2vec.wav2vec2.encoder.layers.8.feed_forward.intermediate_dense.weight ~  2.359.296 params ~ grad: True\u001B[0m\n",
      "\u001B[32mwav2vec.wav2vec2.encoder.layers.8.feed_forward.intermediate_dense.bias ~  3.072     params ~ grad: True\u001B[0m\n",
      "\u001B[32mwav2vec.wav2vec2.encoder.layers.8.feed_forward.output_dense.weight ~  2.359.296 params ~ grad: True\u001B[0m\n",
      "\u001B[32mwav2vec.wav2vec2.encoder.layers.8.feed_forward.output_dense.bias ~  768       params ~ grad: True\u001B[0m\n",
      "\u001B[32mwav2vec.wav2vec2.encoder.layers.8.final_layer_norm.weight ~  768       params ~ grad: True\u001B[0m\n",
      "\u001B[32mwav2vec.wav2vec2.encoder.layers.8.final_layer_norm.bias ~  768       params ~ grad: True\u001B[0m\n",
      "\u001B[32mwav2vec.wav2vec2.encoder.layers.9.attention.k_proj.weight ~  589.824   params ~ grad: True\u001B[0m\n",
      "\u001B[32mwav2vec.wav2vec2.encoder.layers.9.attention.k_proj.bias ~  768       params ~ grad: True\u001B[0m\n",
      "\u001B[32mwav2vec.wav2vec2.encoder.layers.9.attention.v_proj.weight ~  589.824   params ~ grad: True\u001B[0m\n",
      "\u001B[32mwav2vec.wav2vec2.encoder.layers.9.attention.v_proj.bias ~  768       params ~ grad: True\u001B[0m\n",
      "\u001B[32mwav2vec.wav2vec2.encoder.layers.9.attention.q_proj.weight ~  589.824   params ~ grad: True\u001B[0m\n",
      "\u001B[32mwav2vec.wav2vec2.encoder.layers.9.attention.q_proj.bias ~  768       params ~ grad: True\u001B[0m\n",
      "\u001B[32mwav2vec.wav2vec2.encoder.layers.9.attention.out_proj.weight ~  589.824   params ~ grad: True\u001B[0m\n",
      "\u001B[32mwav2vec.wav2vec2.encoder.layers.9.attention.out_proj.bias ~  768       params ~ grad: True\u001B[0m\n",
      "\u001B[32mwav2vec.wav2vec2.encoder.layers.9.layer_norm.weight ~  768       params ~ grad: True\u001B[0m\n",
      "\u001B[32mwav2vec.wav2vec2.encoder.layers.9.layer_norm.bias ~  768       params ~ grad: True\u001B[0m\n",
      "\u001B[32mwav2vec.wav2vec2.encoder.layers.9.feed_forward.intermediate_dense.weight ~  2.359.296 params ~ grad: True\u001B[0m\n",
      "\u001B[32mwav2vec.wav2vec2.encoder.layers.9.feed_forward.intermediate_dense.bias ~  3.072     params ~ grad: True\u001B[0m\n",
      "\u001B[32mwav2vec.wav2vec2.encoder.layers.9.feed_forward.output_dense.weight ~  2.359.296 params ~ grad: True\u001B[0m\n",
      "\u001B[32mwav2vec.wav2vec2.encoder.layers.9.feed_forward.output_dense.bias ~  768       params ~ grad: True\u001B[0m\n",
      "\u001B[32mwav2vec.wav2vec2.encoder.layers.9.final_layer_norm.weight ~  768       params ~ grad: True\u001B[0m\n",
      "\u001B[32mwav2vec.wav2vec2.encoder.layers.9.final_layer_norm.bias ~  768       params ~ grad: True\u001B[0m\n",
      "\u001B[32mwav2vec.wav2vec2.encoder.layers.10.attention.k_proj.weight ~  589.824   params ~ grad: True\u001B[0m\n",
      "\u001B[32mwav2vec.wav2vec2.encoder.layers.10.attention.k_proj.bias ~  768       params ~ grad: True\u001B[0m\n",
      "\u001B[32mwav2vec.wav2vec2.encoder.layers.10.attention.v_proj.weight ~  589.824   params ~ grad: True\u001B[0m\n",
      "\u001B[32mwav2vec.wav2vec2.encoder.layers.10.attention.v_proj.bias ~  768       params ~ grad: True\u001B[0m\n",
      "\u001B[32mwav2vec.wav2vec2.encoder.layers.10.attention.q_proj.weight ~  589.824   params ~ grad: True\u001B[0m\n",
      "\u001B[32mwav2vec.wav2vec2.encoder.layers.10.attention.q_proj.bias ~  768       params ~ grad: True\u001B[0m\n",
      "\u001B[32mwav2vec.wav2vec2.encoder.layers.10.attention.out_proj.weight ~  589.824   params ~ grad: True\u001B[0m\n",
      "\u001B[32mwav2vec.wav2vec2.encoder.layers.10.attention.out_proj.bias ~  768       params ~ grad: True\u001B[0m\n",
      "\u001B[32mwav2vec.wav2vec2.encoder.layers.10.layer_norm.weight ~  768       params ~ grad: True\u001B[0m\n",
      "\u001B[32mwav2vec.wav2vec2.encoder.layers.10.layer_norm.bias ~  768       params ~ grad: True\u001B[0m\n",
      "\u001B[32mwav2vec.wav2vec2.encoder.layers.10.feed_forward.intermediate_dense.weight ~  2.359.296 params ~ grad: True\u001B[0m\n",
      "\u001B[32mwav2vec.wav2vec2.encoder.layers.10.feed_forward.intermediate_dense.bias ~  3.072     params ~ grad: True\u001B[0m\n",
      "\u001B[32mwav2vec.wav2vec2.encoder.layers.10.feed_forward.output_dense.weight ~  2.359.296 params ~ grad: True\u001B[0m\n",
      "\u001B[32mwav2vec.wav2vec2.encoder.layers.10.feed_forward.output_dense.bias ~  768       params ~ grad: True\u001B[0m\n",
      "\u001B[32mwav2vec.wav2vec2.encoder.layers.10.final_layer_norm.weight ~  768       params ~ grad: True\u001B[0m\n",
      "\u001B[32mwav2vec.wav2vec2.encoder.layers.10.final_layer_norm.bias ~  768       params ~ grad: True\u001B[0m\n",
      "\u001B[32mwav2vec.wav2vec2.encoder.layers.11.attention.k_proj.weight ~  589.824   params ~ grad: True\u001B[0m\n",
      "\u001B[32mwav2vec.wav2vec2.encoder.layers.11.attention.k_proj.bias ~  768       params ~ grad: True\u001B[0m\n",
      "\u001B[32mwav2vec.wav2vec2.encoder.layers.11.attention.v_proj.weight ~  589.824   params ~ grad: True\u001B[0m\n",
      "\u001B[32mwav2vec.wav2vec2.encoder.layers.11.attention.v_proj.bias ~  768       params ~ grad: True\u001B[0m\n",
      "\u001B[32mwav2vec.wav2vec2.encoder.layers.11.attention.q_proj.weight ~  589.824   params ~ grad: True\u001B[0m\n",
      "\u001B[32mwav2vec.wav2vec2.encoder.layers.11.attention.q_proj.bias ~  768       params ~ grad: True\u001B[0m\n",
      "\u001B[32mwav2vec.wav2vec2.encoder.layers.11.attention.out_proj.weight ~  589.824   params ~ grad: True\u001B[0m\n",
      "\u001B[32mwav2vec.wav2vec2.encoder.layers.11.attention.out_proj.bias ~  768       params ~ grad: True\u001B[0m\n",
      "\u001B[32mwav2vec.wav2vec2.encoder.layers.11.layer_norm.weight ~  768       params ~ grad: True\u001B[0m\n",
      "\u001B[32mwav2vec.wav2vec2.encoder.layers.11.layer_norm.bias ~  768       params ~ grad: True\u001B[0m\n",
      "\u001B[32mwav2vec.wav2vec2.encoder.layers.11.feed_forward.intermediate_dense.weight ~  2.359.296 params ~ grad: True\u001B[0m\n",
      "\u001B[32mwav2vec.wav2vec2.encoder.layers.11.feed_forward.intermediate_dense.bias ~  3.072     params ~ grad: True\u001B[0m\n",
      "\u001B[32mwav2vec.wav2vec2.encoder.layers.11.feed_forward.output_dense.weight ~  2.359.296 params ~ grad: True\u001B[0m\n",
      "\u001B[32mwav2vec.wav2vec2.encoder.layers.11.feed_forward.output_dense.bias ~  768       params ~ grad: True\u001B[0m\n",
      "\u001B[32mwav2vec.wav2vec2.encoder.layers.11.final_layer_norm.weight ~  768       params ~ grad: True\u001B[0m\n",
      "\u001B[32mwav2vec.wav2vec2.encoder.layers.11.final_layer_norm.bias ~  768       params ~ grad: True\u001B[0m\n",
      "\u001B[32mwav2vec.projector.weight                   ~  196.608   params ~ grad: True\u001B[0m\n",
      "\u001B[32mwav2vec.projector.bias                     ~  256       params ~ grad: True\u001B[0m\n",
      "\u001B[32mwav2vec.classifier.weight                  ~  1.024     params ~ grad: True\u001B[0m\n",
      "\u001B[32mwav2vec.classifier.bias                    ~  4         params ~ grad: True\u001B[0m\n",
      "\n",
      "In total:\n",
      "  - 94.569.604 params\n",
      "  - 94.569.604 learnable params\n",
      "\n",
      " . wav2vec:\n",
      " .   - 94.569.604 params\n",
      " .   - 94.569.604 learnable params\n"
     ]
    }
   ],
   "execution_count": 14
  },
  {
   "metadata": {
    "ExecuteTime": {
     "end_time": "2025-04-15T22:09:10.782306Z",
     "start_time": "2025-04-15T21:20:47.135826Z"
    }
   },
   "cell_type": "code",
   "source": "wav2vec, train_l, val_l, train_acc, val_acc = train_model(wav2vec, train_dataloader, val_dataloader, epochs=30, lr=0.001, device=DEVICE)",
   "id": "b255922ef40c976b",
   "outputs": [
    {
     "name": "stderr",
     "output_type": "stream",
     "text": [
      "Training model:   3%|▎         | 1/30 [03:26<1:39:54, 206.72s/it]"
     ]
    },
    {
     "name": "stdout",
     "output_type": "stream",
     "text": [
      "Epoch 0: train loss: 1.370, train balanced acc: 0.26, test loss: 1.328, test balanced acc: 0.31, lr: 0.001\n"
     ]
    },
    {
     "name": "stderr",
     "output_type": "stream",
     "text": [
      "Training model:   7%|▋         | 2/30 [06:59<1:38:00, 210.01s/it]"
     ]
    },
    {
     "name": "stdout",
     "output_type": "stream",
     "text": [
      "Epoch 1: train loss: 1.362, train balanced acc: 0.26, test loss: 1.326, test balanced acc: 0.31, lr: 0.001\n"
     ]
    },
    {
     "name": "stderr",
     "output_type": "stream",
     "text": [
      "Training model:  10%|█         | 3/30 [10:31<1:35:04, 211.28s/it]"
     ]
    },
    {
     "name": "stdout",
     "output_type": "stream",
     "text": [
      "Epoch 2: train loss: 1.367, train balanced acc: 0.24, test loss: 1.344, test balanced acc: 0.31, lr: 0.001\n"
     ]
    },
    {
     "name": "stderr",
     "output_type": "stream",
     "text": [
      "Training model:  13%|█▎        | 4/30 [14:06<1:32:04, 212.49s/it]"
     ]
    },
    {
     "name": "stdout",
     "output_type": "stream",
     "text": [
      "Epoch 3: train loss: 1.362, train balanced acc: 0.25, test loss: 1.331, test balanced acc: 0.31, lr: 0.001\n"
     ]
    },
    {
     "name": "stderr",
     "output_type": "stream",
     "text": [
      "Training model:  17%|█▋        | 5/30 [17:41<1:28:56, 213.46s/it]"
     ]
    },
    {
     "name": "stdout",
     "output_type": "stream",
     "text": [
      "Epoch 4: train loss: 1.367, train balanced acc: 0.24, test loss: 1.318, test balanced acc: 0.31, lr: 0.001\n"
     ]
    },
    {
     "name": "stderr",
     "output_type": "stream",
     "text": [
      "Training model:  20%|██        | 6/30 [21:16<1:25:36, 214.04s/it]"
     ]
    },
    {
     "name": "stdout",
     "output_type": "stream",
     "text": [
      "Epoch 5: train loss: 1.367, train balanced acc: 0.24, test loss: 1.321, test balanced acc: 0.31, lr: 0.001\n"
     ]
    },
    {
     "name": "stderr",
     "output_type": "stream",
     "text": [
      "Training model:  23%|██▎       | 7/30 [24:50<1:22:05, 214.16s/it]"
     ]
    },
    {
     "name": "stdout",
     "output_type": "stream",
     "text": [
      "Epoch 6: train loss: 1.360, train balanced acc: 0.26, test loss: 1.302, test balanced acc: 0.31, lr: 0.001\n"
     ]
    },
    {
     "name": "stderr",
     "output_type": "stream",
     "text": [
      "Training model:  27%|██▋       | 8/30 [28:24<1:18:24, 213.82s/it]"
     ]
    },
    {
     "name": "stdout",
     "output_type": "stream",
     "text": [
      "Epoch 7: train loss: 1.366, train balanced acc: 0.24, test loss: 1.318, test balanced acc: 0.31, lr: 0.001\n"
     ]
    },
    {
     "name": "stderr",
     "output_type": "stream",
     "text": [
      "Training model:  30%|███       | 9/30 [31:56<1:14:40, 213.37s/it]"
     ]
    },
    {
     "name": "stdout",
     "output_type": "stream",
     "text": [
      "Epoch 8: train loss: 1.353, train balanced acc: 0.26, test loss: 1.312, test balanced acc: 0.31, lr: 0.001\n"
     ]
    },
    {
     "name": "stderr",
     "output_type": "stream",
     "text": [
      "Training model:  33%|███▎      | 10/30 [35:28<1:11:01, 213.09s/it]"
     ]
    },
    {
     "name": "stdout",
     "output_type": "stream",
     "text": [
      "Epoch 9: train loss: 1.354, train balanced acc: 0.25, test loss: 1.313, test balanced acc: 0.31, lr: 0.0005\n"
     ]
    },
    {
     "name": "stderr",
     "output_type": "stream",
     "text": [
      "Training model:  37%|███▋      | 11/30 [39:02<1:07:32, 213.27s/it]"
     ]
    },
    {
     "name": "stdout",
     "output_type": "stream",
     "text": [
      "Epoch 10: train loss: 1.361, train balanced acc: 0.25, test loss: 1.480, test balanced acc: 0.31, lr: 0.0005\n"
     ]
    },
    {
     "name": "stderr",
     "output_type": "stream",
     "text": [
      "Training model:  40%|████      | 12/30 [42:35<1:03:58, 213.24s/it]"
     ]
    },
    {
     "name": "stdout",
     "output_type": "stream",
     "text": [
      "Epoch 11: train loss: 1.359, train balanced acc: 0.24, test loss: 1.311, test balanced acc: 0.31, lr: 0.0005\n"
     ]
    },
    {
     "name": "stderr",
     "output_type": "stream",
     "text": [
      "Training model:  43%|████▎     | 13/30 [46:08<1:00:20, 212.96s/it]"
     ]
    },
    {
     "name": "stdout",
     "output_type": "stream",
     "text": [
      "Epoch 12: train loss: 1.362, train balanced acc: 0.24, test loss: 1.314, test balanced acc: 0.31, lr: 0.00025\n"
     ]
    },
    {
     "name": "stderr",
     "output_type": "stream",
     "text": [
      "Training model:  43%|████▎     | 13/30 [48:23<1:03:16, 223.33s/it]\n",
      "\n",
      "KeyboardInterrupt\n",
      "\n"
     ]
    }
   ],
   "execution_count": 15
  },
  {
   "metadata": {
    "ExecuteTime": {
     "end_time": "2025-04-15T11:49:03.285821Z",
     "start_time": "2025-04-15T10:23:50.833202Z"
    }
   },
   "cell_type": "code",
   "source": "wav2vec, train_l, val_l, train_acc, val_acc = train_model(wav2vec, train_dataloader, val_dataloader, epochs=30, lr=0.001, device=DEVICE)",
   "id": "d82a2182295302c6",
   "outputs": [
    {
     "name": "stderr",
     "output_type": "stream",
     "text": [
      "Training model:   3%|▎         | 1/30 [02:43<1:19:05, 163.63s/it]"
     ]
    },
    {
     "name": "stdout",
     "output_type": "stream",
     "text": [
      "Epoch 0: train loss: 1.349, train balanced acc: 0.25, test loss: 1.294, test balanced acc: 0.31, lr: 0.001\n"
     ]
    },
    {
     "name": "stderr",
     "output_type": "stream",
     "text": [
      "Training model:   7%|▋         | 2/30 [05:28<1:16:42, 164.38s/it]"
     ]
    },
    {
     "name": "stdout",
     "output_type": "stream",
     "text": [
      "Epoch 1: train loss: 1.351, train balanced acc: 0.24, test loss: 1.335, test balanced acc: 0.31, lr: 0.001\n"
     ]
    },
    {
     "name": "stderr",
     "output_type": "stream",
     "text": [
      "Training model:  10%|█         | 3/30 [08:14<1:14:21, 165.24s/it]"
     ]
    },
    {
     "name": "stdout",
     "output_type": "stream",
     "text": [
      "Epoch 2: train loss: 1.345, train balanced acc: 0.25, test loss: 1.311, test balanced acc: 0.31, lr: 0.001\n"
     ]
    },
    {
     "name": "stderr",
     "output_type": "stream",
     "text": [
      "Training model:  13%|█▎        | 4/30 [11:04<1:12:24, 167.11s/it]"
     ]
    },
    {
     "name": "stdout",
     "output_type": "stream",
     "text": [
      "Epoch 3: train loss: 1.334, train balanced acc: 0.26, test loss: 1.300, test balanced acc: 0.31, lr: 0.0005\n"
     ]
    },
    {
     "name": "stderr",
     "output_type": "stream",
     "text": [
      "Training model:  17%|█▋        | 5/30 [13:59<1:10:44, 169.79s/it]"
     ]
    },
    {
     "name": "stdout",
     "output_type": "stream",
     "text": [
      "Epoch 4: train loss: 1.347, train balanced acc: 0.24, test loss: 1.311, test balanced acc: 0.31, lr: 0.0005\n"
     ]
    },
    {
     "name": "stderr",
     "output_type": "stream",
     "text": [
      "Training model:  20%|██        | 6/30 [16:52<1:08:22, 170.92s/it]"
     ]
    },
    {
     "name": "stdout",
     "output_type": "stream",
     "text": [
      "Epoch 5: train loss: 1.331, train balanced acc: 0.26, test loss: 1.289, test balanced acc: 0.31, lr: 0.0005\n"
     ]
    },
    {
     "name": "stderr",
     "output_type": "stream",
     "text": [
      "Training model:  23%|██▎       | 7/30 [19:44<1:05:38, 171.23s/it]"
     ]
    },
    {
     "name": "stdout",
     "output_type": "stream",
     "text": [
      "Epoch 6: train loss: 1.324, train balanced acc: 0.27, test loss: 1.282, test balanced acc: 0.31, lr: 0.0005\n"
     ]
    },
    {
     "name": "stderr",
     "output_type": "stream",
     "text": [
      "Training model:  27%|██▋       | 8/30 [22:33<1:02:32, 170.58s/it]"
     ]
    },
    {
     "name": "stdout",
     "output_type": "stream",
     "text": [
      "Epoch 7: train loss: 1.339, train balanced acc: 0.25, test loss: 1.305, test balanced acc: 0.31, lr: 0.0005\n"
     ]
    },
    {
     "name": "stderr",
     "output_type": "stream",
     "text": [
      "Training model:  30%|███       | 9/30 [25:23<59:36, 170.29s/it]  "
     ]
    },
    {
     "name": "stdout",
     "output_type": "stream",
     "text": [
      "Epoch 8: train loss: 1.336, train balanced acc: 0.26, test loss: 1.285, test balanced acc: 0.31, lr: 0.0005\n"
     ]
    },
    {
     "name": "stderr",
     "output_type": "stream",
     "text": [
      "Training model:  33%|███▎      | 10/30 [28:14<56:53, 170.66s/it]"
     ]
    },
    {
     "name": "stdout",
     "output_type": "stream",
     "text": [
      "Epoch 9: train loss: 1.328, train balanced acc: 0.26, test loss: 1.283, test balanced acc: 0.31, lr: 0.00025\n"
     ]
    },
    {
     "name": "stderr",
     "output_type": "stream",
     "text": [
      "Training model:  37%|███▋      | 11/30 [31:07<54:12, 171.21s/it]"
     ]
    },
    {
     "name": "stdout",
     "output_type": "stream",
     "text": [
      "Epoch 10: train loss: 1.343, train balanced acc: 0.24, test loss: 1.291, test balanced acc: 0.31, lr: 0.00025\n"
     ]
    },
    {
     "name": "stderr",
     "output_type": "stream",
     "text": [
      "Training model:  40%|████      | 12/30 [33:57<51:17, 170.95s/it]"
     ]
    },
    {
     "name": "stdout",
     "output_type": "stream",
     "text": [
      "Epoch 11: train loss: 1.332, train balanced acc: 0.25, test loss: 1.281, test balanced acc: 0.31, lr: 0.00025\n"
     ]
    },
    {
     "name": "stderr",
     "output_type": "stream",
     "text": [
      "Training model:  43%|████▎     | 13/30 [36:44<48:06, 169.78s/it]"
     ]
    },
    {
     "name": "stdout",
     "output_type": "stream",
     "text": [
      "Epoch 12: train loss: 1.329, train balanced acc: 0.26, test loss: 1.282, test balanced acc: 0.31, lr: 0.00025\n"
     ]
    },
    {
     "name": "stderr",
     "output_type": "stream",
     "text": [
      "Training model:  47%|████▋     | 14/30 [39:31<45:01, 168.85s/it]"
     ]
    },
    {
     "name": "stdout",
     "output_type": "stream",
     "text": [
      "Epoch 13: train loss: 1.353, train balanced acc: 0.23, test loss: 1.301, test balanced acc: 0.31, lr: 0.00025\n"
     ]
    },
    {
     "name": "stderr",
     "output_type": "stream",
     "text": [
      "Training model:  50%|█████     | 15/30 [42:17<42:03, 168.21s/it]"
     ]
    },
    {
     "name": "stdout",
     "output_type": "stream",
     "text": [
      "Epoch 14: train loss: 1.339, train balanced acc: 0.25, test loss: 1.293, test balanced acc: 0.31, lr: 0.000125\n"
     ]
    },
    {
     "name": "stderr",
     "output_type": "stream",
     "text": [
      "Training model:  53%|█████▎    | 16/30 [45:04<39:06, 167.64s/it]"
     ]
    },
    {
     "name": "stdout",
     "output_type": "stream",
     "text": [
      "Epoch 15: train loss: 1.337, train balanced acc: 0.25, test loss: 1.290, test balanced acc: 0.31, lr: 0.000125\n"
     ]
    },
    {
     "name": "stderr",
     "output_type": "stream",
     "text": [
      "Training model:  57%|█████▋    | 17/30 [47:51<36:16, 167.39s/it]"
     ]
    },
    {
     "name": "stdout",
     "output_type": "stream",
     "text": [
      "Epoch 16: train loss: 1.345, train balanced acc: 0.24, test loss: 1.294, test balanced acc: 0.31, lr: 0.000125\n"
     ]
    },
    {
     "name": "stderr",
     "output_type": "stream",
     "text": [
      "Training model:  60%|██████    | 18/30 [50:40<33:37, 168.15s/it]"
     ]
    },
    {
     "name": "stdout",
     "output_type": "stream",
     "text": [
      "Epoch 17: train loss: 1.344, train balanced acc: 0.24, test loss: 1.294, test balanced acc: 0.31, lr: 6.25e-05\n"
     ]
    },
    {
     "name": "stderr",
     "output_type": "stream",
     "text": [
      "Training model:  63%|██████▎   | 19/30 [53:32<30:59, 169.06s/it]"
     ]
    },
    {
     "name": "stdout",
     "output_type": "stream",
     "text": [
      "Epoch 18: train loss: 1.344, train balanced acc: 0.24, test loss: 1.281, test balanced acc: 0.31, lr: 6.25e-05\n"
     ]
    },
    {
     "name": "stderr",
     "output_type": "stream",
     "text": [
      "Training model:  67%|██████▋   | 20/30 [56:23<28:18, 169.86s/it]"
     ]
    },
    {
     "name": "stdout",
     "output_type": "stream",
     "text": [
      "Epoch 19: train loss: 1.243, train balanced acc: 0.34, test loss: 1.037, test balanced acc: 0.48, lr: 6.25e-05\n"
     ]
    },
    {
     "name": "stderr",
     "output_type": "stream",
     "text": [
      "Training model:  70%|███████   | 21/30 [59:15<25:34, 170.48s/it]"
     ]
    },
    {
     "name": "stdout",
     "output_type": "stream",
     "text": [
      "Epoch 20: train loss: 1.149, train balanced acc: 0.40, test loss: 1.085, test balanced acc: 0.45, lr: 6.25e-05\n"
     ]
    },
    {
     "name": "stderr",
     "output_type": "stream",
     "text": [
      "Training model:  73%|███████▎  | 22/30 [1:02:07<22:46, 170.77s/it]"
     ]
    },
    {
     "name": "stdout",
     "output_type": "stream",
     "text": [
      "Epoch 21: train loss: 1.106, train balanced acc: 0.42, test loss: 1.077, test balanced acc: 0.46, lr: 6.25e-05\n"
     ]
    },
    {
     "name": "stderr",
     "output_type": "stream",
     "text": [
      "Training model:  77%|███████▋  | 23/30 [1:05:00<20:00, 171.52s/it]"
     ]
    },
    {
     "name": "stdout",
     "output_type": "stream",
     "text": [
      "Epoch 22: train loss: 1.091, train balanced acc: 0.43, test loss: 1.088, test balanced acc: 0.50, lr: 3.125e-05\n"
     ]
    },
    {
     "name": "stderr",
     "output_type": "stream",
     "text": [
      "Training model:  80%|████████  | 24/30 [1:07:52<17:10, 171.74s/it]"
     ]
    },
    {
     "name": "stdout",
     "output_type": "stream",
     "text": [
      "Epoch 23: train loss: 1.088, train balanced acc: 0.44, test loss: 1.022, test balanced acc: 0.47, lr: 3.125e-05\n"
     ]
    },
    {
     "name": "stderr",
     "output_type": "stream",
     "text": [
      "Training model:  83%|████████▎ | 25/30 [1:10:45<14:19, 171.99s/it]"
     ]
    },
    {
     "name": "stdout",
     "output_type": "stream",
     "text": [
      "Epoch 24: train loss: 1.056, train balanced acc: 0.45, test loss: 1.041, test balanced acc: 0.47, lr: 3.125e-05\n"
     ]
    },
    {
     "name": "stderr",
     "output_type": "stream",
     "text": [
      "Training model:  87%|████████▋ | 26/30 [1:13:38<11:28, 172.19s/it]"
     ]
    },
    {
     "name": "stdout",
     "output_type": "stream",
     "text": [
      "Epoch 25: train loss: 1.043, train balanced acc: 0.45, test loss: 1.079, test balanced acc: 0.47, lr: 3.125e-05\n"
     ]
    },
    {
     "name": "stderr",
     "output_type": "stream",
     "text": [
      "Training model:  90%|█████████ | 27/30 [1:16:31<08:37, 172.59s/it]"
     ]
    },
    {
     "name": "stdout",
     "output_type": "stream",
     "text": [
      "Epoch 26: train loss: 1.043, train balanced acc: 0.47, test loss: 0.999, test balanced acc: 0.48, lr: 3.125e-05\n"
     ]
    },
    {
     "name": "stderr",
     "output_type": "stream",
     "text": [
      "Training model:  93%|█████████▎| 28/30 [1:19:25<05:45, 172.89s/it]"
     ]
    },
    {
     "name": "stdout",
     "output_type": "stream",
     "text": [
      "Epoch 27: train loss: 1.060, train balanced acc: 0.45, test loss: 1.034, test balanced acc: 0.48, lr: 3.125e-05\n"
     ]
    },
    {
     "name": "stderr",
     "output_type": "stream",
     "text": [
      "Training model:  97%|█████████▋| 29/30 [1:22:18<02:52, 172.91s/it]"
     ]
    },
    {
     "name": "stdout",
     "output_type": "stream",
     "text": [
      "Epoch 28: train loss: 1.036, train balanced acc: 0.46, test loss: 1.065, test balanced acc: 0.50, lr: 3.125e-05\n"
     ]
    },
    {
     "name": "stderr",
     "output_type": "stream",
     "text": [
      "Training model: 100%|██████████| 30/30 [1:25:12<00:00, 170.41s/it]"
     ]
    },
    {
     "name": "stdout",
     "output_type": "stream",
     "text": [
      "Epoch 29: train loss: 1.029, train balanced acc: 0.47, test loss: 1.148, test balanced acc: 0.48, lr: 1.5625e-05\n"
     ]
    },
    {
     "name": "stderr",
     "output_type": "stream",
     "text": [
      "\n"
     ]
    }
   ],
   "execution_count": 16
  },
  {
   "metadata": {
    "ExecuteTime": {
     "end_time": "2025-04-15T14:14:57.797604Z",
     "start_time": "2025-04-15T11:51:13.093576Z"
    }
   },
   "cell_type": "code",
   "source": "wav2vec, train_l, val_l, train_acc, val_acc = train_model(wav2vec, train_dataloader, val_dataloader, epochs=60, lr=1.5625e-05, device=DEVICE)",
   "id": "abc6b37a645fe025",
   "outputs": [
    {
     "name": "stderr",
     "output_type": "stream",
     "text": [
      "Training model:   2%|▏         | 1/60 [02:44<2:42:02, 164.78s/it]"
     ]
    },
    {
     "name": "stdout",
     "output_type": "stream",
     "text": [
      "Epoch 0: train loss: 1.011, train balanced acc: 0.49, test loss: 1.105, test balanced acc: 0.49, lr: 1.5625e-05\n"
     ]
    },
    {
     "name": "stderr",
     "output_type": "stream",
     "text": [
      "Training model:   3%|▎         | 2/60 [05:32<2:40:57, 166.50s/it]"
     ]
    },
    {
     "name": "stdout",
     "output_type": "stream",
     "text": [
      "Epoch 1: train loss: 1.017, train balanced acc: 0.47, test loss: 1.117, test balanced acc: 0.49, lr: 1.5625e-05\n"
     ]
    },
    {
     "name": "stderr",
     "output_type": "stream",
     "text": [
      "Training model:   5%|▌         | 3/60 [08:19<2:38:25, 166.77s/it]"
     ]
    },
    {
     "name": "stdout",
     "output_type": "stream",
     "text": [
      "Epoch 2: train loss: 0.994, train balanced acc: 0.50, test loss: 1.100, test balanced acc: 0.49, lr: 1.5625e-05\n"
     ]
    },
    {
     "name": "stderr",
     "output_type": "stream",
     "text": [
      "Training model:   7%|▋         | 4/60 [11:07<2:36:08, 167.30s/it]"
     ]
    },
    {
     "name": "stdout",
     "output_type": "stream",
     "text": [
      "Epoch 3: train loss: 0.975, train balanced acc: 0.51, test loss: 1.056, test balanced acc: 0.50, lr: 1.5625e-05\n"
     ]
    },
    {
     "name": "stderr",
     "output_type": "stream",
     "text": [
      "Training model:   8%|▊         | 5/60 [13:59<2:34:58, 169.06s/it]"
     ]
    },
    {
     "name": "stdout",
     "output_type": "stream",
     "text": [
      "Epoch 4: train loss: 0.991, train balanced acc: 0.50, test loss: 1.069, test balanced acc: 0.50, lr: 1.5625e-05\n"
     ]
    },
    {
     "name": "stderr",
     "output_type": "stream",
     "text": [
      "Training model:  10%|█         | 6/60 [16:50<2:32:30, 169.45s/it]"
     ]
    },
    {
     "name": "stdout",
     "output_type": "stream",
     "text": [
      "Epoch 5: train loss: 0.954, train balanced acc: 0.52, test loss: 1.062, test balanced acc: 0.49, lr: 1.5625e-05\n"
     ]
    },
    {
     "name": "stderr",
     "output_type": "stream",
     "text": [
      "Training model:  12%|█▏        | 7/60 [19:44<2:31:04, 171.03s/it]"
     ]
    },
    {
     "name": "stdout",
     "output_type": "stream",
     "text": [
      "Epoch 6: train loss: 0.965, train balanced acc: 0.51, test loss: 1.093, test balanced acc: 0.49, lr: 7.8125e-06\n"
     ]
    },
    {
     "name": "stderr",
     "output_type": "stream",
     "text": [
      "Training model:  13%|█▎        | 8/60 [22:33<2:27:50, 170.59s/it]"
     ]
    },
    {
     "name": "stdout",
     "output_type": "stream",
     "text": [
      "Epoch 7: train loss: 0.953, train balanced acc: 0.51, test loss: 1.094, test balanced acc: 0.50, lr: 7.8125e-06\n"
     ]
    },
    {
     "name": "stderr",
     "output_type": "stream",
     "text": [
      "Training model:  15%|█▌        | 9/60 [25:23<2:24:42, 170.25s/it]"
     ]
    },
    {
     "name": "stdout",
     "output_type": "stream",
     "text": [
      "Epoch 8: train loss: 0.943, train balanced acc: 0.52, test loss: 1.069, test balanced acc: 0.49, lr: 7.8125e-06\n"
     ]
    },
    {
     "name": "stderr",
     "output_type": "stream",
     "text": [
      "Training model:  17%|█▋        | 10/60 [28:13<2:21:45, 170.10s/it]"
     ]
    },
    {
     "name": "stdout",
     "output_type": "stream",
     "text": [
      "Epoch 9: train loss: 0.948, train balanced acc: 0.52, test loss: 1.073, test balanced acc: 0.50, lr: 3.90625e-06\n"
     ]
    },
    {
     "name": "stderr",
     "output_type": "stream",
     "text": [
      "Training model:  18%|█▊        | 11/60 [31:04<2:19:08, 170.37s/it]"
     ]
    },
    {
     "name": "stdout",
     "output_type": "stream",
     "text": [
      "Epoch 10: train loss: 0.966, train balanced acc: 0.51, test loss: 1.059, test balanced acc: 0.50, lr: 3.90625e-06\n"
     ]
    },
    {
     "name": "stderr",
     "output_type": "stream",
     "text": [
      "Training model:  20%|██        | 12/60 [33:53<2:16:06, 170.13s/it]"
     ]
    },
    {
     "name": "stdout",
     "output_type": "stream",
     "text": [
      "Epoch 11: train loss: 0.948, train balanced acc: 0.52, test loss: 1.056, test balanced acc: 0.50, lr: 3.90625e-06\n"
     ]
    },
    {
     "name": "stderr",
     "output_type": "stream",
     "text": [
      "Training model:  22%|██▏       | 13/60 [36:42<2:13:00, 169.79s/it]"
     ]
    },
    {
     "name": "stdout",
     "output_type": "stream",
     "text": [
      "Epoch 12: train loss: 0.929, train balanced acc: 0.52, test loss: 1.075, test balanced acc: 0.50, lr: 1.953125e-06\n"
     ]
    },
    {
     "name": "stderr",
     "output_type": "stream",
     "text": [
      "Training model:  23%|██▎       | 14/60 [39:32<2:10:12, 169.83s/it]"
     ]
    },
    {
     "name": "stdout",
     "output_type": "stream",
     "text": [
      "Epoch 13: train loss: 0.944, train balanced acc: 0.52, test loss: 1.068, test balanced acc: 0.50, lr: 1.953125e-06\n"
     ]
    },
    {
     "name": "stderr",
     "output_type": "stream",
     "text": [
      "Training model:  25%|██▌       | 15/60 [42:23<2:07:40, 170.24s/it]"
     ]
    },
    {
     "name": "stdout",
     "output_type": "stream",
     "text": [
      "Epoch 14: train loss: 0.920, train balanced acc: 0.54, test loss: 1.071, test balanced acc: 0.50, lr: 1.953125e-06\n"
     ]
    },
    {
     "name": "stderr",
     "output_type": "stream",
     "text": [
      "Training model:  27%|██▋       | 16/60 [45:13<2:04:43, 170.08s/it]"
     ]
    },
    {
     "name": "stdout",
     "output_type": "stream",
     "text": [
      "Epoch 15: train loss: 0.948, train balanced acc: 0.51, test loss: 1.059, test balanced acc: 0.51, lr: 9.765625e-07\n"
     ]
    },
    {
     "name": "stderr",
     "output_type": "stream",
     "text": [
      "Training model:  28%|██▊       | 17/60 [48:03<2:01:51, 170.04s/it]"
     ]
    },
    {
     "name": "stdout",
     "output_type": "stream",
     "text": [
      "Epoch 16: train loss: 0.918, train balanced acc: 0.53, test loss: 1.072, test balanced acc: 0.50, lr: 9.765625e-07\n"
     ]
    },
    {
     "name": "stderr",
     "output_type": "stream",
     "text": [
      "Training model:  30%|███       | 18/60 [50:53<1:59:02, 170.05s/it]"
     ]
    },
    {
     "name": "stdout",
     "output_type": "stream",
     "text": [
      "Epoch 17: train loss: 0.898, train balanced acc: 0.54, test loss: 1.068, test balanced acc: 0.50, lr: 9.765625e-07\n"
     ]
    },
    {
     "name": "stderr",
     "output_type": "stream",
     "text": [
      "Training model:  32%|███▏      | 19/60 [53:45<1:56:36, 170.65s/it]"
     ]
    },
    {
     "name": "stdout",
     "output_type": "stream",
     "text": [
      "Epoch 18: train loss: 0.918, train balanced acc: 0.53, test loss: 1.067, test balanced acc: 0.50, lr: 4.8828125e-07\n"
     ]
    },
    {
     "name": "stderr",
     "output_type": "stream",
     "text": [
      "Training model:  33%|███▎      | 20/60 [56:36<1:53:43, 170.59s/it]"
     ]
    },
    {
     "name": "stdout",
     "output_type": "stream",
     "text": [
      "Epoch 19: train loss: 0.907, train balanced acc: 0.56, test loss: 1.068, test balanced acc: 0.50, lr: 4.8828125e-07\n"
     ]
    },
    {
     "name": "stderr",
     "output_type": "stream",
     "text": [
      "Training model:  35%|███▌      | 21/60 [59:26<1:50:43, 170.36s/it]"
     ]
    },
    {
     "name": "stdout",
     "output_type": "stream",
     "text": [
      "Epoch 20: train loss: 0.919, train balanced acc: 0.53, test loss: 1.070, test balanced acc: 0.50, lr: 4.8828125e-07\n"
     ]
    },
    {
     "name": "stderr",
     "output_type": "stream",
     "text": [
      "Training model:  37%|███▋      | 22/60 [1:02:17<1:48:03, 170.63s/it]"
     ]
    },
    {
     "name": "stdout",
     "output_type": "stream",
     "text": [
      "Epoch 21: train loss: 0.931, train balanced acc: 0.54, test loss: 1.069, test balanced acc: 0.51, lr: 2.44140625e-07\n"
     ]
    },
    {
     "name": "stderr",
     "output_type": "stream",
     "text": [
      "Training model:  38%|███▊      | 23/60 [1:05:08<1:45:14, 170.66s/it]"
     ]
    },
    {
     "name": "stdout",
     "output_type": "stream",
     "text": [
      "Epoch 22: train loss: 0.921, train balanced acc: 0.54, test loss: 1.072, test balanced acc: 0.51, lr: 2.44140625e-07\n"
     ]
    },
    {
     "name": "stderr",
     "output_type": "stream",
     "text": [
      "Training model:  40%|████      | 24/60 [1:07:57<1:42:14, 170.40s/it]"
     ]
    },
    {
     "name": "stdout",
     "output_type": "stream",
     "text": [
      "Epoch 23: train loss: 0.922, train balanced acc: 0.54, test loss: 1.071, test balanced acc: 0.50, lr: 2.44140625e-07\n"
     ]
    },
    {
     "name": "stderr",
     "output_type": "stream",
     "text": [
      "Training model:  42%|████▏     | 25/60 [1:10:48<1:39:28, 170.54s/it]"
     ]
    },
    {
     "name": "stdout",
     "output_type": "stream",
     "text": [
      "Epoch 24: train loss: 0.915, train balanced acc: 0.54, test loss: 1.069, test balanced acc: 0.51, lr: 1.220703125e-07\n"
     ]
    },
    {
     "name": "stderr",
     "output_type": "stream",
     "text": [
      "Training model:  43%|████▎     | 26/60 [1:13:40<1:36:51, 170.92s/it]"
     ]
    },
    {
     "name": "stdout",
     "output_type": "stream",
     "text": [
      "Epoch 25: train loss: 0.931, train balanced acc: 0.54, test loss: 1.068, test balanced acc: 0.51, lr: 1.220703125e-07\n"
     ]
    },
    {
     "name": "stderr",
     "output_type": "stream",
     "text": [
      "Training model:  45%|████▌     | 27/60 [1:16:31<1:34:00, 170.93s/it]"
     ]
    },
    {
     "name": "stdout",
     "output_type": "stream",
     "text": [
      "Epoch 26: train loss: 0.916, train balanced acc: 0.54, test loss: 1.070, test balanced acc: 0.51, lr: 1.220703125e-07\n"
     ]
    },
    {
     "name": "stderr",
     "output_type": "stream",
     "text": [
      "Training model:  47%|████▋     | 28/60 [1:19:24<1:31:27, 171.47s/it]"
     ]
    },
    {
     "name": "stdout",
     "output_type": "stream",
     "text": [
      "Epoch 27: train loss: 0.933, train balanced acc: 0.53, test loss: 1.071, test balanced acc: 0.50, lr: 6.103515625e-08\n"
     ]
    },
    {
     "name": "stderr",
     "output_type": "stream",
     "text": [
      "Training model:  48%|████▊     | 29/60 [1:22:17<1:28:55, 172.10s/it]"
     ]
    },
    {
     "name": "stdout",
     "output_type": "stream",
     "text": [
      "Epoch 28: train loss: 0.926, train balanced acc: 0.53, test loss: 1.072, test balanced acc: 0.50, lr: 6.103515625e-08\n"
     ]
    },
    {
     "name": "stderr",
     "output_type": "stream",
     "text": [
      "Training model:  50%|█████     | 30/60 [1:25:08<1:25:50, 171.70s/it]"
     ]
    },
    {
     "name": "stdout",
     "output_type": "stream",
     "text": [
      "Epoch 29: train loss: 0.928, train balanced acc: 0.53, test loss: 1.071, test balanced acc: 0.50, lr: 6.103515625e-08\n"
     ]
    },
    {
     "name": "stderr",
     "output_type": "stream",
     "text": [
      "Training model:  52%|█████▏    | 31/60 [1:27:59<1:22:54, 171.54s/it]"
     ]
    },
    {
     "name": "stdout",
     "output_type": "stream",
     "text": [
      "Epoch 30: train loss: 0.922, train balanced acc: 0.54, test loss: 1.071, test balanced acc: 0.50, lr: 3.0517578125e-08\n"
     ]
    },
    {
     "name": "stderr",
     "output_type": "stream",
     "text": [
      "Training model:  53%|█████▎    | 32/60 [1:30:51<1:20:01, 171.50s/it]"
     ]
    },
    {
     "name": "stdout",
     "output_type": "stream",
     "text": [
      "Epoch 31: train loss: 0.920, train balanced acc: 0.54, test loss: 1.071, test balanced acc: 0.50, lr: 3.0517578125e-08\n"
     ]
    },
    {
     "name": "stderr",
     "output_type": "stream",
     "text": [
      "Training model:  55%|█████▌    | 33/60 [1:33:40<1:16:53, 170.88s/it]"
     ]
    },
    {
     "name": "stdout",
     "output_type": "stream",
     "text": [
      "Epoch 32: train loss: 0.917, train balanced acc: 0.53, test loss: 1.071, test balanced acc: 0.50, lr: 3.0517578125e-08\n"
     ]
    },
    {
     "name": "stderr",
     "output_type": "stream",
     "text": [
      "Training model:  57%|█████▋    | 34/60 [1:36:29<1:13:49, 170.38s/it]"
     ]
    },
    {
     "name": "stdout",
     "output_type": "stream",
     "text": [
      "Epoch 33: train loss: 0.913, train balanced acc: 0.54, test loss: 1.071, test balanced acc: 0.50, lr: 1.52587890625e-08\n"
     ]
    },
    {
     "name": "stderr",
     "output_type": "stream",
     "text": [
      "Training model:  58%|█████▊    | 35/60 [1:39:21<1:11:10, 170.83s/it]"
     ]
    },
    {
     "name": "stdout",
     "output_type": "stream",
     "text": [
      "Epoch 34: train loss: 0.929, train balanced acc: 0.54, test loss: 1.071, test balanced acc: 0.50, lr: 1.52587890625e-08\n"
     ]
    },
    {
     "name": "stderr",
     "output_type": "stream",
     "text": [
      "Training model:  60%|██████    | 36/60 [1:42:11<1:08:12, 170.54s/it]"
     ]
    },
    {
     "name": "stdout",
     "output_type": "stream",
     "text": [
      "Epoch 35: train loss: 0.929, train balanced acc: 0.53, test loss: 1.071, test balanced acc: 0.50, lr: 1.52587890625e-08\n"
     ]
    },
    {
     "name": "stderr",
     "output_type": "stream",
     "text": [
      "Training model:  62%|██████▏   | 37/60 [1:45:01<1:05:18, 170.38s/it]"
     ]
    },
    {
     "name": "stdout",
     "output_type": "stream",
     "text": [
      "Epoch 36: train loss: 0.911, train balanced acc: 0.53, test loss: 1.071, test balanced acc: 0.50, lr: 1.52587890625e-08\n"
     ]
    },
    {
     "name": "stderr",
     "output_type": "stream",
     "text": [
      "Training model:  63%|██████▎   | 38/60 [1:47:51<1:02:27, 170.33s/it]"
     ]
    },
    {
     "name": "stdout",
     "output_type": "stream",
     "text": [
      "Epoch 37: train loss: 0.932, train balanced acc: 0.52, test loss: 1.071, test balanced acc: 0.50, lr: 1.52587890625e-08\n"
     ]
    },
    {
     "name": "stderr",
     "output_type": "stream",
     "text": [
      "Training model:  65%|██████▌   | 39/60 [1:50:42<59:37, 170.35s/it]  "
     ]
    },
    {
     "name": "stdout",
     "output_type": "stream",
     "text": [
      "Epoch 38: train loss: 0.924, train balanced acc: 0.53, test loss: 1.071, test balanced acc: 0.50, lr: 1.52587890625e-08\n"
     ]
    },
    {
     "name": "stderr",
     "output_type": "stream",
     "text": [
      "Training model:  67%|██████▋   | 40/60 [1:53:33<56:54, 170.72s/it]"
     ]
    },
    {
     "name": "stdout",
     "output_type": "stream",
     "text": [
      "Epoch 39: train loss: 0.952, train balanced acc: 0.53, test loss: 1.071, test balanced acc: 0.50, lr: 1.52587890625e-08\n"
     ]
    },
    {
     "name": "stderr",
     "output_type": "stream",
     "text": [
      "Training model:  68%|██████▊   | 41/60 [1:56:22<53:54, 170.22s/it]"
     ]
    },
    {
     "name": "stdout",
     "output_type": "stream",
     "text": [
      "Epoch 40: train loss: 0.936, train balanced acc: 0.51, test loss: 1.071, test balanced acc: 0.50, lr: 1.52587890625e-08\n"
     ]
    },
    {
     "name": "stderr",
     "output_type": "stream",
     "text": [
      "Training model:  70%|███████   | 42/60 [1:59:11<50:54, 169.72s/it]"
     ]
    },
    {
     "name": "stdout",
     "output_type": "stream",
     "text": [
      "Epoch 41: train loss: 0.925, train balanced acc: 0.54, test loss: 1.071, test balanced acc: 0.50, lr: 1.52587890625e-08\n"
     ]
    },
    {
     "name": "stderr",
     "output_type": "stream",
     "text": [
      "Training model:  72%|███████▏  | 43/60 [2:02:00<48:05, 169.71s/it]"
     ]
    },
    {
     "name": "stdout",
     "output_type": "stream",
     "text": [
      "Epoch 42: train loss: 0.923, train balanced acc: 0.53, test loss: 1.071, test balanced acc: 0.50, lr: 1.52587890625e-08\n"
     ]
    },
    {
     "name": "stderr",
     "output_type": "stream",
     "text": [
      "Training model:  73%|███████▎  | 44/60 [2:04:55<45:39, 171.19s/it]"
     ]
    },
    {
     "name": "stdout",
     "output_type": "stream",
     "text": [
      "Epoch 43: train loss: 0.926, train balanced acc: 0.53, test loss: 1.071, test balanced acc: 0.50, lr: 1.52587890625e-08\n"
     ]
    },
    {
     "name": "stderr",
     "output_type": "stream",
     "text": [
      "Training model:  75%|███████▌  | 45/60 [2:07:48<42:53, 171.59s/it]"
     ]
    },
    {
     "name": "stdout",
     "output_type": "stream",
     "text": [
      "Epoch 44: train loss: 0.943, train balanced acc: 0.51, test loss: 1.071, test balanced acc: 0.50, lr: 1.52587890625e-08\n"
     ]
    },
    {
     "name": "stderr",
     "output_type": "stream",
     "text": [
      "Training model:  77%|███████▋  | 46/60 [2:10:41<40:11, 172.25s/it]"
     ]
    },
    {
     "name": "stdout",
     "output_type": "stream",
     "text": [
      "Epoch 45: train loss: 0.926, train balanced acc: 0.53, test loss: 1.071, test balanced acc: 0.51, lr: 1.52587890625e-08\n"
     ]
    },
    {
     "name": "stderr",
     "output_type": "stream",
     "text": [
      "Training model:  78%|███████▊  | 47/60 [2:13:39<37:39, 173.82s/it]"
     ]
    },
    {
     "name": "stdout",
     "output_type": "stream",
     "text": [
      "Epoch 46: train loss: 0.935, train balanced acc: 0.52, test loss: 1.071, test balanced acc: 0.51, lr: 1.52587890625e-08\n"
     ]
    },
    {
     "name": "stderr",
     "output_type": "stream",
     "text": [
      "Training model:  80%|████████  | 48/60 [2:16:34<34:51, 174.27s/it]"
     ]
    },
    {
     "name": "stdout",
     "output_type": "stream",
     "text": [
      "Epoch 47: train loss: 0.914, train balanced acc: 0.54, test loss: 1.071, test balanced acc: 0.51, lr: 1.52587890625e-08\n"
     ]
    },
    {
     "name": "stderr",
     "output_type": "stream",
     "text": [
      "Training model:  82%|████████▏ | 49/60 [2:19:29<31:59, 174.52s/it]"
     ]
    },
    {
     "name": "stdout",
     "output_type": "stream",
     "text": [
      "Epoch 48: train loss: 0.923, train balanced acc: 0.54, test loss: 1.071, test balanced acc: 0.51, lr: 1.52587890625e-08\n"
     ]
    },
    {
     "name": "stderr",
     "output_type": "stream",
     "text": [
      "Training model:  83%|████████▎ | 50/60 [2:22:25<29:07, 174.77s/it]"
     ]
    },
    {
     "name": "stdout",
     "output_type": "stream",
     "text": [
      "Epoch 49: train loss: 0.934, train balanced acc: 0.53, test loss: 1.071, test balanced acc: 0.51, lr: 1.52587890625e-08\n"
     ]
    },
    {
     "name": "stderr",
     "output_type": "stream",
     "text": [
      "Training model:  83%|████████▎ | 50/60 [2:23:44<28:44, 172.49s/it]\n",
      "\n",
      "KeyboardInterrupt\n",
      "\n"
     ]
    }
   ],
   "execution_count": 17
  },
  {
   "metadata": {},
   "cell_type": "code",
   "outputs": [],
   "execution_count": null,
   "source": "",
   "id": "90a05f84b7fd493b"
  },
  {
   "metadata": {
    "ExecuteTime": {
     "end_time": "2025-04-15T14:15:00.569877Z",
     "start_time": "2025-04-15T14:15:00.560409Z"
    }
   },
   "cell_type": "code",
   "source": [
    "def test_model(model, test_dataset, max_seq=420):\n",
    "    model = model.to(DEVICE)\n",
    "        \n",
    "    model.eval()\n",
    "    preds = []\n",
    "    targets = []\n",
    "    with torch.no_grad():\n",
    "        for features, target in tqdm(test_dataset):\n",
    "            features = features.to(DEVICE)\n",
    "            target = target.to(DEVICE)\n",
    "            if model.__class__.__name__ == \"Wav2vecClassifier\":\n",
    "                label = model(features).logits.to(\"cpu\").detach().numpy().squeeze()\n",
    "            elif model.__class__.__name__ == \"MobileNet\":\n",
    "                label = model(features[None, ...]).to(\"cpu\").detach().numpy().squeeze()\n",
    "            else:\n",
    "                padded_features = torch.zeros(1, features.shape[0], max_seq, device=DEVICE)\n",
    "                padded_features[0, :, :features.shape[-1]] = features[..., :max_seq]\n",
    "                label = model(padded_features).to(\"cpu\").detach().numpy().squeeze()\n",
    "            preds.append(label.argmax(axis=-1))\n",
    "            targets.append(target.to(\"cpu\").item())\n",
    "\n",
    "    preds = np.array(preds)\n",
    "    # print(targets)\n",
    "    print(classification_report(targets, preds))    \n",
    "\n",
    "    return preds"
   ],
   "id": "bfe24440d7b01fe2",
   "outputs": [],
   "execution_count": 18
  },
  {
   "metadata": {
    "ExecuteTime": {
     "end_time": "2025-04-15T14:15:15.781823Z",
     "start_time": "2025-04-15T14:15:00.936428Z"
    }
   },
   "cell_type": "code",
   "source": "test_model(wav2vec, test_dataset)",
   "id": "c79d4223d596b62d",
   "outputs": [
    {
     "name": "stderr",
     "output_type": "stream",
     "text": [
      "100%|██████████| 806/806 [00:14<00:00, 54.41it/s]\n"
     ]
    },
    {
     "name": "stdout",
     "output_type": "stream",
     "text": [
      "              precision    recall  f1-score   support\n",
      "\n",
      "           0       0.80      0.89      0.85       104\n",
      "           1       0.24      0.07      0.11       185\n",
      "           2       0.41      0.73      0.52       268\n",
      "           3       0.60      0.37      0.46       249\n",
      "\n",
      "    accuracy                           0.49       806\n",
      "   macro avg       0.51      0.52      0.48       806\n",
      "weighted avg       0.48      0.49      0.45       806\n",
      "\n"
     ]
    },
    {
     "data": {
      "text/plain": [
       "array([0, 2, 3, 3, 2, 0, 2, 3, 2, 0, 2, 2, 3, 3, 2, 2, 3, 2, 3, 2, 2, 2,\n",
       "       3, 2, 2, 2, 2, 0, 3, 3, 2, 2, 0, 2, 2, 3, 0, 2, 3, 3, 2, 2, 0, 2,\n",
       "       2, 3, 2, 2, 2, 2, 3, 3, 1, 2, 2, 2, 2, 2, 2, 0, 2, 3, 3, 1, 0, 2,\n",
       "       2, 2, 2, 3, 2, 2, 2, 2, 2, 0, 2, 2, 2, 3, 3, 1, 2, 2, 2, 2, 2, 2,\n",
       "       2, 2, 1, 3, 3, 2, 2, 2, 2, 2, 2, 2, 1, 2, 2, 3, 3, 3, 2, 2, 3, 2,\n",
       "       2, 2, 2, 0, 2, 0, 0, 2, 0, 3, 2, 2, 0, 2, 2, 2, 3, 2, 0, 0, 0, 3,\n",
       "       2, 0, 3, 2, 0, 3, 0, 2, 1, 2, 2, 2, 2, 2, 3, 3, 2, 2, 2, 0, 2, 3,\n",
       "       2, 1, 1, 0, 2, 1, 1, 2, 0, 2, 2, 0, 0, 2, 2, 1, 2, 2, 2, 2, 2, 0,\n",
       "       3, 3, 2, 0, 0, 2, 2, 1, 2, 2, 2, 0, 3, 3, 3, 0, 3, 0, 2, 2, 2, 3,\n",
       "       2, 0, 3, 2, 2, 0, 2, 2, 2, 1, 2, 3, 2, 2, 3, 0, 2, 2, 2, 2, 3, 3,\n",
       "       2, 3, 0, 2, 2, 2, 2, 2, 0, 0, 1, 2, 0, 2, 2, 2, 2, 2, 2, 0, 1, 2,\n",
       "       2, 0, 2, 2, 2, 2, 3, 2, 2, 2, 2, 2, 2, 2, 0, 2, 0, 1, 2, 2, 3, 1,\n",
       "       2, 2, 2, 2, 2, 1, 2, 0, 3, 0, 3, 3, 2, 2, 2, 2, 0, 2, 0, 3, 0, 0,\n",
       "       2, 3, 2, 0, 2, 3, 3, 0, 3, 3, 1, 2, 1, 2, 3, 2, 0, 0, 2, 3, 1, 3,\n",
       "       3, 2, 2, 2, 2, 2, 2, 3, 2, 3, 2, 3, 2, 0, 2, 2, 3, 2, 1, 0, 2, 2,\n",
       "       1, 2, 2, 3, 1, 3, 3, 2, 1, 0, 2, 2, 0, 2, 2, 2, 2, 2, 3, 2, 0, 2,\n",
       "       2, 3, 2, 2, 2, 3, 0, 1, 2, 3, 2, 0, 2, 0, 2, 2, 2, 3, 1, 2, 0, 3,\n",
       "       3, 2, 3, 2, 2, 2, 2, 0, 2, 0, 3, 2, 2, 3, 3, 2, 2, 0, 2, 3, 2, 0,\n",
       "       2, 0, 1, 2, 3, 2, 2, 2, 2, 2, 2, 2, 3, 2, 3, 2, 0, 0, 2, 3, 2, 3,\n",
       "       3, 2, 2, 2, 0, 2, 2, 2, 2, 2, 3, 2, 2, 3, 2, 2, 0, 2, 2, 2, 2, 3,\n",
       "       0, 0, 3, 2, 0, 2, 2, 0, 0, 0, 2, 2, 3, 3, 0, 2, 3, 2, 2, 1, 3, 2,\n",
       "       2, 2, 3, 2, 2, 3, 1, 2, 2, 3, 2, 2, 0, 2, 2, 3, 0, 2, 2, 2, 2, 2,\n",
       "       2, 2, 2, 1, 2, 1, 2, 2, 2, 0, 2, 2, 2, 2, 3, 2, 2, 0, 2, 2, 3, 2,\n",
       "       1, 0, 3, 2, 3, 2, 1, 2, 2, 2, 2, 3, 3, 3, 2, 0, 3, 0, 2, 3, 2, 0,\n",
       "       2, 2, 2, 3, 2, 2, 2, 2, 2, 2, 2, 2, 2, 0, 2, 1, 3, 2, 3, 2, 2, 3,\n",
       "       2, 2, 3, 2, 2, 3, 2, 3, 3, 2, 2, 3, 2, 2, 2, 0, 2, 2, 3, 1, 3, 2,\n",
       "       2, 2, 2, 2, 0, 2, 2, 2, 0, 3, 2, 1, 3, 3, 3, 2, 3, 2, 2, 2, 2, 2,\n",
       "       0, 1, 2, 2, 2, 2, 2, 0, 1, 3, 2, 2, 1, 2, 2, 3, 2, 1, 2, 2, 2, 2,\n",
       "       1, 2, 2, 2, 2, 2, 0, 0, 2, 2, 2, 2, 2, 2, 2, 2, 2, 0, 2, 2, 2, 3,\n",
       "       2, 0, 3, 2, 1, 2, 3, 2, 2, 2, 2, 2, 2, 2, 2, 2, 0, 1, 2, 2, 2, 2,\n",
       "       2, 2, 1, 0, 3, 2, 2, 2, 2, 3, 3, 3, 2, 3, 2, 2, 1, 2, 2, 2, 2, 2,\n",
       "       2, 1, 2, 2, 2, 3, 2, 0, 2, 3, 2, 2, 2, 0, 0, 2, 2, 2, 2, 2, 2, 3,\n",
       "       0, 2, 2, 2, 1, 3, 2, 2, 2, 0, 2, 0, 2, 0, 2, 1, 2, 0, 0, 0, 2, 2,\n",
       "       2, 2, 2, 2, 2, 0, 0, 3, 0, 2, 2, 2, 2, 2, 2, 3, 2, 2, 3, 3, 3, 2,\n",
       "       0, 2, 2, 3, 3, 2, 2, 2, 2, 2, 2, 2, 2, 2, 1, 1, 3, 3, 0, 2, 2, 2,\n",
       "       3, 2, 1, 3, 2, 2, 3, 2, 3, 2, 0, 2, 2, 2, 2, 2, 2, 2, 0, 2, 2, 2,\n",
       "       1, 0, 2, 3, 1, 2, 2, 2, 3, 2, 3, 2, 2, 2])"
      ]
     },
     "execution_count": 19,
     "metadata": {},
     "output_type": "execute_result"
    }
   ],
   "execution_count": 19
  },
  {
   "metadata": {
    "ExecuteTime": {
     "end_time": "2025-04-14T20:02:25.118413Z",
     "start_time": "2025-04-14T20:02:25.113717Z"
    }
   },
   "cell_type": "code",
   "source": [
    "augmentations = Compose([\n",
    "                AddGaussianNoise(min_amplitude=0.001, max_amplitude=0.02, p=0.5),\n",
    "                TimeStretch(min_rate=0.3, max_rate=1.9, p=0.5),\n",
    "                PitchShift(min_semitones=-6, max_semitones=6, p=0.5),\n",
    "                Shift(min_shift=-0.6, max_shift=0.6, p=0.5),\n",
    "                Gain(min_gain_db=-14, max_gain_db=14, p=0.5),\n",
    "            ])"
   ],
   "id": "582b404c37d9cd4e",
   "outputs": [],
   "execution_count": 45
  },
  {
   "metadata": {
    "ExecuteTime": {
     "end_time": "2025-04-14T20:03:40.528606Z",
     "start_time": "2025-04-14T20:02:25.314217Z"
    }
   },
   "cell_type": "code",
   "source": [
    "train_dataset = AphasiaDatasetMFCC(os.path.join(DATA_DIR, \"train_filenames_mc_1.csv\"), VOICES_DIR, target_sample_rate=8_000, mfcc=MFCC, n_mels=128, fft_size=512,\n",
    "                 hop_length=256, win_length=512, min_duration=10, max_duration=15, file_format=\"wav\", rirs_dir=RIR_DIR, transforms=augmentations)\n",
    "test_dataset = AphasiaDatasetMFCC(os.path.join(DATA_DIR, \"val_filenames_mc_1.csv\"), VOICES_DIR, target_sample_rate=8_000, mfcc=MFCC, n_mels=128, fft_size=512,\n",
    "                 hop_length=256, win_length=512, min_duration=10, max_duration=15, file_format=\"wav\")\n",
    "val_dataset = AphasiaDatasetMFCC(os.path.join(DATA_DIR, \"test_filenames_mc_1.csv\"), VOICES_DIR, target_sample_rate=8_000, mfcc=MFCC, n_mels=128, fft_size=512,\n",
    "                 hop_length=256, win_length=512, min_duration=10, max_duration=15, file_format=\"wav\")\n",
    "\n",
    "# Балансировка классов для train\n",
    "train_labels = [label for _, label in train_dataset.data]\n",
    "class_counts = Counter(train_labels)\n",
    "if len(class_counts) < 4:\n",
    "    raise ValueError(\"Один из классов отсутствует в тренировочном наборе\")\n",
    "\n",
    "class_weights = {label: 1.0 / count for label, count in class_counts.items()}\n",
    "weights = [class_weights[label] for _, label in train_dataset.data]\n",
    "train_sampler = WeightedRandomSampler(weights, num_samples=len(train_dataset), replacement=True)"
   ],
   "id": "89017cba76dec673",
   "outputs": [],
   "execution_count": 46
  },
  {
   "metadata": {
    "ExecuteTime": {
     "end_time": "2025-04-14T20:03:40.532441Z",
     "start_time": "2025-04-14T20:03:40.529423Z"
    }
   },
   "cell_type": "code",
   "source": [
    "def pad_sequence(batch):\n",
    "    if not batch:\n",
    "        return torch.zeros(0), torch.zeros(0)\n",
    "    \n",
    "    seq, labels = zip(*batch)\n",
    "    max_len = max(s.shape[1] for s in seq)\n",
    "\n",
    "    padded = torch.zeros(len(seq), MFCC, SEQUENCE_LENGTH)\n",
    "    for i, s in enumerate(seq):\n",
    "        padded[i, ..., :s.shape[-1]] = s[..., :SEQUENCE_LENGTH]\n",
    "    \n",
    "    return padded, torch.stack(labels) "
   ],
   "id": "9ef1c690facff086",
   "outputs": [],
   "execution_count": 47
  },
  {
   "metadata": {
    "ExecuteTime": {
     "end_time": "2025-04-14T20:03:40.579291Z",
     "start_time": "2025-04-14T20:03:40.533073Z"
    }
   },
   "cell_type": "code",
   "source": [
    "train_dataloader = DataLoader(train_dataset, batch_size=16, sampler=train_sampler, collate_fn=pad_sequence, drop_last=True, num_workers=6)\n",
    "test_dataloader = DataLoader(test_dataset, batch_size=16, shuffle=False, collate_fn=pad_sequence, drop_last=True)\n",
    "val_dataloader = DataLoader(val_dataset, batch_size=16, shuffle=False, collate_fn=pad_sequence, drop_last=True, num_workers=6)"
   ],
   "id": "9493af9e5dda8502",
   "outputs": [],
   "execution_count": 48
  },
  {
   "metadata": {
    "ExecuteTime": {
     "end_time": "2025-04-14T20:03:40.588889Z",
     "start_time": "2025-04-14T20:03:40.582889Z"
    }
   },
   "cell_type": "code",
   "source": [
    "def train_model(model, dl_train, dl_val, epochs=1, lr=0.001, device=\"cpu\"):\n",
    "      \n",
    "    model = model.to(device)\n",
    "    criterion = nn.CrossEntropyLoss(weight=torch.tensor(list(class_weights.values()))).to(device)\n",
    "    \n",
    "    optimizer = torch.optim.Adam(model.parameters(), lr=lr, weight_decay=1e-3)\n",
    "        \n",
    "    scheduler = torch.optim.lr_scheduler.ReduceLROnPlateau(optimizer, factor=0.5, patience=3, threshold=1e-3)\n",
    "        \n",
    "    train_loss_list = []\n",
    "    val_loss_list = []\n",
    "    train_acc_list = []\n",
    "    val_acc_list = []\n",
    "    for epoch in tqdm(range(epochs), desc=\"Training model\"):\n",
    "        model.train()\n",
    "        total_train_loss = 0\n",
    "        total_val_loss = 0\n",
    "        \n",
    "        train_acc = []\n",
    "        val_acc = []\n",
    "        for features, target in dl_train:\n",
    "            features, target = features.to(device), target.to(device)\n",
    "            optimizer.zero_grad()\n",
    "            \n",
    "            output = model(features.unsqueeze(1)).squeeze()\n",
    "\n",
    "            preds = torch.argmax(output, dim=1).cpu().detach().numpy()\n",
    "            train_acc.append(accuracy_score(target.cpu().detach().numpy(), preds))\n",
    "            \n",
    "            loss = criterion(output, target)\n",
    "            loss.backward()\n",
    "            optimizer.step()\n",
    "            \n",
    "            total_train_loss += loss.detach().item()\n",
    "        \n",
    "        avg_train_acc = np.stack(train_acc, axis=0).mean()\n",
    "\n",
    "        avg_train_loss = total_train_loss / len(train_dataloader)\n",
    "        train_loss_list.append(avg_train_loss)\n",
    "        train_acc_list.append(avg_train_acc)\n",
    "                \n",
    "        model.eval()\n",
    "        \n",
    "        with torch.no_grad():\n",
    "            for features, target in dl_val:\n",
    "                features, target = features.to(device), target.to(device)\n",
    "                \n",
    "                output = model(features.unsqueeze(1)).squeeze()\n",
    "                \n",
    "                preds = torch.argmax(output, dim=1).cpu().detach().numpy()\n",
    "                val_acc.append(accuracy_score(target.cpu().detach().numpy(), preds))\n",
    "                loss = criterion(output, target)\n",
    "                total_val_loss += loss.detach().item()\n",
    "        \n",
    "        avg_val_acc = np.stack(val_acc, axis=0).mean()\n",
    "        avg_val_loss = total_val_loss / len(dl_val)\n",
    "        val_loss_list.append(avg_val_loss)\n",
    "        val_acc_list.append(avg_val_acc)\n",
    "        \n",
    "        if scheduler:\n",
    "            try:\n",
    "                scheduler.step()\n",
    "            except:\n",
    "                scheduler.step(avg_val_loss)\n",
    "        \n",
    "        # if epoch % 10 == 0:\n",
    "        tqdm.write(f\"Epoch {epoch}: train loss: {avg_train_loss:.3f}, train balanced acc: {avg_train_acc:.2f}, test loss: {avg_val_loss:.3f}, test balanced acc: {avg_val_acc:.2f}, lr: {optimizer.param_groups[0]['lr']}\")\n",
    "\n",
    "            \n",
    "    return model, train_loss_list, val_loss_list, train_acc_list, val_acc_list"
   ],
   "id": "d8e6c8c405e41249",
   "outputs": [],
   "execution_count": 49
  },
  {
   "metadata": {
    "ExecuteTime": {
     "end_time": "2025-04-14T20:03:40.657648Z",
     "start_time": "2025-04-14T20:03:40.590205Z"
    }
   },
   "cell_type": "code",
   "source": [
    "from models.cnn import MobileNet\n",
    "\n",
    "cnn = MobileNet(num_classes=4)"
   ],
   "id": "db6efd9ed1d7a542",
   "outputs": [],
   "execution_count": 50
  },
  {
   "metadata": {
    "ExecuteTime": {
     "end_time": "2025-04-14T20:04:04.925358Z",
     "start_time": "2025-04-14T20:03:40.659904Z"
    }
   },
   "cell_type": "code",
   "source": "cnn, train_l, val_l, train_accuracy, val_accuracy = train_model(cnn, train_dataloader, val_dataloader, epochs=10, lr=1e-4, device=DEVICE)",
   "id": "a59f5b0e9e938fc6",
   "outputs": [
    {
     "name": "stderr",
     "output_type": "stream",
     "text": [
      "Training model:  10%|█         | 1/10 [00:02<00:21,  2.41s/it]"
     ]
    },
    {
     "name": "stdout",
     "output_type": "stream",
     "text": [
      "Epoch 0: train loss: 1.352, train balanced acc: 0.24, test loss: 1.366, test balanced acc: 0.31, lr: 0.0001\n"
     ]
    },
    {
     "name": "stderr",
     "output_type": "stream",
     "text": [
      "Training model:  20%|██        | 2/10 [00:04<00:19,  2.39s/it]"
     ]
    },
    {
     "name": "stdout",
     "output_type": "stream",
     "text": [
      "Epoch 1: train loss: 1.269, train balanced acc: 0.33, test loss: 1.331, test balanced acc: 0.31, lr: 0.0001\n"
     ]
    },
    {
     "name": "stderr",
     "output_type": "stream",
     "text": [
      "Training model:  30%|███       | 3/10 [00:07<00:16,  2.40s/it]"
     ]
    },
    {
     "name": "stdout",
     "output_type": "stream",
     "text": [
      "Epoch 2: train loss: 1.132, train balanced acc: 0.45, test loss: 1.306, test balanced acc: 0.31, lr: 0.0001\n"
     ]
    },
    {
     "name": "stderr",
     "output_type": "stream",
     "text": [
      "Training model:  40%|████      | 4/10 [00:09<00:14,  2.41s/it]"
     ]
    },
    {
     "name": "stdout",
     "output_type": "stream",
     "text": [
      "Epoch 3: train loss: 0.987, train balanced acc: 0.54, test loss: 1.277, test balanced acc: 0.31, lr: 0.0001\n"
     ]
    },
    {
     "name": "stderr",
     "output_type": "stream",
     "text": [
      "Training model:  50%|█████     | 5/10 [00:12<00:12,  2.42s/it]"
     ]
    },
    {
     "name": "stdout",
     "output_type": "stream",
     "text": [
      "Epoch 4: train loss: 0.851, train balanced acc: 0.63, test loss: 1.318, test balanced acc: 0.32, lr: 0.0001\n"
     ]
    },
    {
     "name": "stderr",
     "output_type": "stream",
     "text": [
      "Training model:  60%|██████    | 6/10 [00:14<00:09,  2.42s/it]"
     ]
    },
    {
     "name": "stdout",
     "output_type": "stream",
     "text": [
      "Epoch 5: train loss: 0.735, train balanced acc: 0.68, test loss: 1.612, test balanced acc: 0.31, lr: 0.0001\n"
     ]
    },
    {
     "name": "stderr",
     "output_type": "stream",
     "text": [
      "Training model:  70%|███████   | 7/10 [00:16<00:07,  2.43s/it]"
     ]
    },
    {
     "name": "stdout",
     "output_type": "stream",
     "text": [
      "Epoch 6: train loss: 0.664, train balanced acc: 0.72, test loss: 1.686, test balanced acc: 0.30, lr: 0.0001\n"
     ]
    },
    {
     "name": "stderr",
     "output_type": "stream",
     "text": [
      "Training model:  80%|████████  | 8/10 [00:19<00:04,  2.43s/it]"
     ]
    },
    {
     "name": "stdout",
     "output_type": "stream",
     "text": [
      "Epoch 7: train loss: 0.617, train balanced acc: 0.74, test loss: 1.815, test balanced acc: 0.31, lr: 5e-05\n"
     ]
    },
    {
     "name": "stderr",
     "output_type": "stream",
     "text": [
      "Training model:  90%|█████████ | 9/10 [00:21<00:02,  2.43s/it]"
     ]
    },
    {
     "name": "stdout",
     "output_type": "stream",
     "text": [
      "Epoch 8: train loss: 0.509, train balanced acc: 0.79, test loss: 1.879, test balanced acc: 0.31, lr: 5e-05\n"
     ]
    },
    {
     "name": "stderr",
     "output_type": "stream",
     "text": [
      "Training model: 100%|██████████| 10/10 [00:24<00:00,  2.42s/it]"
     ]
    },
    {
     "name": "stdout",
     "output_type": "stream",
     "text": [
      "Epoch 9: train loss: 0.393, train balanced acc: 0.84, test loss: 2.085, test balanced acc: 0.31, lr: 5e-05\n"
     ]
    },
    {
     "name": "stderr",
     "output_type": "stream",
     "text": [
      "\n"
     ]
    }
   ],
   "execution_count": 51
  },
  {
   "metadata": {
    "ExecuteTime": {
     "end_time": "2025-04-14T19:32:29.578922Z",
     "start_time": "2025-04-14T19:32:27.712888Z"
    }
   },
   "cell_type": "code",
   "source": "test_model(cnn, test_dataset)",
   "id": "4e36ddd80fb0c3ec",
   "outputs": [
    {
     "name": "stderr",
     "output_type": "stream",
     "text": [
      "100%|██████████| 807/807 [00:01<00:00, 436.07it/s]"
     ]
    },
    {
     "name": "stdout",
     "output_type": "stream",
     "text": [
      "              precision    recall  f1-score   support\n",
      "\n",
      "           0       0.00      0.00      0.00       106\n",
      "           1       0.08      0.01      0.01       186\n",
      "           2       0.00      0.00      0.00       270\n",
      "           3       0.30      0.97      0.46       245\n",
      "\n",
      "    accuracy                           0.29       807\n",
      "   macro avg       0.09      0.24      0.12       807\n",
      "weighted avg       0.11      0.29      0.14       807\n",
      "\n"
     ]
    },
    {
     "name": "stderr",
     "output_type": "stream",
     "text": [
      "\n"
     ]
    },
    {
     "data": {
      "text/plain": [
       "array([3, 3, 3, 3, 3, 3, 3, 3, 1, 3, 3, 3, 3, 3, 3, 3, 3, 3, 3, 3, 3, 3,\n",
       "       3, 3, 3, 3, 3, 3, 3, 3, 3, 3, 3, 3, 3, 3, 3, 3, 3, 3, 3, 3, 3, 3,\n",
       "       3, 3, 3, 3, 3, 3, 3, 3, 3, 3, 3, 3, 3, 3, 3, 3, 3, 3, 3, 3, 3, 3,\n",
       "       3, 3, 3, 3, 3, 3, 3, 3, 3, 3, 3, 3, 3, 3, 3, 3, 3, 3, 3, 3, 3, 3,\n",
       "       3, 3, 3, 3, 3, 3, 3, 3, 3, 3, 3, 3, 3, 3, 3, 3, 3, 3, 3, 3, 3, 3,\n",
       "       3, 3, 3, 3, 3, 3, 3, 3, 3, 3, 3, 3, 3, 3, 3, 3, 3, 3, 3, 3, 3, 3,\n",
       "       3, 3, 3, 3, 3, 3, 3, 3, 3, 3, 3, 3, 3, 3, 3, 3, 3, 3, 3, 3, 3, 3,\n",
       "       3, 3, 3, 3, 3, 3, 3, 3, 3, 3, 3, 3, 3, 3, 3, 3, 3, 3, 3, 3, 3, 3,\n",
       "       3, 3, 3, 3, 3, 3, 3, 3, 3, 3, 3, 3, 3, 3, 3, 3, 3, 3, 3, 3, 3, 3,\n",
       "       3, 3, 3, 3, 3, 3, 3, 3, 3, 3, 3, 3, 3, 3, 3, 3, 3, 3, 3, 3, 3, 3,\n",
       "       3, 3, 1, 3, 3, 3, 3, 3, 3, 3, 3, 3, 3, 3, 3, 3, 3, 3, 3, 3, 3, 3,\n",
       "       3, 3, 3, 3, 3, 3, 3, 3, 3, 3, 3, 3, 3, 3, 3, 3, 3, 3, 3, 3, 3, 3,\n",
       "       3, 3, 3, 3, 3, 3, 3, 3, 3, 3, 3, 1, 3, 3, 3, 3, 3, 3, 3, 3, 3, 3,\n",
       "       3, 3, 3, 3, 3, 3, 3, 3, 3, 3, 3, 3, 3, 3, 3, 3, 3, 3, 3, 3, 3, 3,\n",
       "       3, 3, 3, 3, 3, 3, 3, 3, 3, 3, 3, 3, 3, 1, 3, 3, 3, 3, 3, 3, 3, 3,\n",
       "       3, 3, 3, 3, 3, 3, 3, 3, 3, 3, 3, 3, 3, 3, 3, 3, 3, 3, 3, 3, 3, 3,\n",
       "       3, 3, 3, 3, 3, 3, 3, 3, 3, 3, 3, 3, 3, 3, 3, 3, 3, 3, 3, 3, 3, 3,\n",
       "       3, 3, 3, 3, 3, 3, 3, 3, 1, 3, 3, 3, 3, 3, 3, 3, 3, 3, 3, 3, 3, 3,\n",
       "       3, 3, 3, 3, 3, 3, 3, 3, 3, 1, 3, 3, 3, 3, 3, 1, 1, 3, 3, 3, 3, 3,\n",
       "       3, 3, 3, 3, 3, 3, 3, 3, 3, 3, 3, 3, 3, 3, 3, 3, 3, 3, 3, 3, 3, 3,\n",
       "       3, 3, 1, 3, 3, 3, 3, 3, 3, 3, 3, 3, 3, 3, 3, 3, 3, 3, 3, 3, 3, 3,\n",
       "       3, 3, 3, 3, 3, 3, 3, 3, 3, 3, 3, 3, 3, 3, 3, 3, 3, 3, 3, 3, 3, 3,\n",
       "       3, 3, 3, 3, 3, 3, 3, 3, 3, 3, 3, 3, 3, 3, 3, 3, 3, 3, 3, 3, 3, 3,\n",
       "       3, 3, 3, 3, 3, 3, 3, 3, 3, 3, 3, 3, 3, 3, 3, 3, 3, 3, 3, 3, 3, 3,\n",
       "       3, 3, 3, 3, 3, 3, 3, 3, 3, 3, 3, 3, 3, 3, 3, 3, 3, 3, 3, 3, 3, 1,\n",
       "       3, 3, 3, 3, 3, 3, 3, 3, 3, 3, 3, 3, 3, 3, 3, 3, 3, 3, 3, 3, 3, 3,\n",
       "       3, 3, 3, 3, 3, 3, 3, 3, 3, 3, 3, 3, 3, 3, 3, 3, 3, 3, 3, 3, 3, 3,\n",
       "       3, 3, 3, 3, 3, 3, 3, 3, 3, 3, 3, 3, 3, 3, 3, 3, 3, 3, 3, 3, 3, 3,\n",
       "       3, 3, 3, 3, 3, 3, 3, 3, 3, 3, 3, 3, 3, 3, 3, 3, 1, 3, 3, 3, 3, 3,\n",
       "       3, 3, 3, 3, 3, 3, 3, 3, 3, 3, 3, 3, 3, 3, 3, 3, 3, 3, 3, 3, 3, 3,\n",
       "       3, 3, 3, 3, 3, 3, 3, 3, 3, 3, 3, 3, 3, 3, 3, 3, 3, 3, 1, 3, 3, 3,\n",
       "       3, 3, 3, 3, 3, 3, 3, 3, 3, 3, 3, 3, 3, 3, 3, 3, 3, 3, 3, 3, 3, 3,\n",
       "       3, 3, 3, 3, 3, 3, 3, 3, 3, 3, 3, 3, 3, 3, 3, 3, 3, 3, 3, 3, 3, 3,\n",
       "       3, 3, 3, 3, 3, 3, 3, 3, 3, 3, 3, 3, 3, 3, 3, 3, 3, 3, 3, 3, 3, 3,\n",
       "       3, 3, 3, 3, 3, 3, 3, 3, 3, 3, 3, 3, 3, 3, 3, 3, 3, 3, 3, 3, 3, 3,\n",
       "       3, 3, 3, 3, 3, 3, 3, 3, 3, 3, 3, 3, 3, 3, 3, 3, 3, 3, 3, 3, 3, 3,\n",
       "       1, 3, 3, 3, 3, 3, 3, 3, 3, 3, 3, 3, 3, 3, 3])"
      ]
     },
     "execution_count": 69,
     "metadata": {},
     "output_type": "execute_result"
    }
   ],
   "execution_count": 69
  },
  {
   "metadata": {
    "ExecuteTime": {
     "end_time": "2025-04-14T19:38:14.630176Z",
     "start_time": "2025-04-14T19:37:04.116420Z"
    }
   },
   "cell_type": "code",
   "source": [
    "train_dataset = AphasiaDatasetMFCC(os.path.join(DATA_DIR, \"train_filenames_mc_1.csv\"), VOICES_DIR, target_sample_rate=8_000, mfcc=MFCC, n_mels=128, fft_size=512,\n",
    "                 hop_length=256, win_length=512, min_duration=10, max_duration=15, file_format=\"wav\", transforms=augmentations)#  noise_dir=NORM_DIR, rirs_dir=RIR_DIR, snr=(-5, 20))\n",
    "test_dataset = AphasiaDatasetMFCC(os.path.join(DATA_DIR, \"val_filenames_mc_1.csv\"), VOICES_DIR, target_sample_rate=8_000, mfcc=MFCC, n_mels=128, fft_size=512,\n",
    "                 hop_length=256, win_length=512, min_duration=10, max_duration=15, file_format=\"wav\")\n",
    "val_dataset = AphasiaDatasetMFCC(os.path.join(DATA_DIR, \"test_filenames_mc_1.csv\"), VOICES_DIR, target_sample_rate=8_000, mfcc=MFCC, n_mels=128, fft_size=512,\n",
    "                 hop_length=256, win_length=512, min_duration=10, max_duration=15, file_format=\"wav\")\n",
    "# Балансировка классов для train\n",
    "train_labels = [label for _, label in train_dataset.data]\n",
    "class_counts = Counter(train_labels)\n",
    "if len(class_counts) < 2:\n",
    "    raise ValueError(\"Один из классов отсутствует в тренировочном наборе\")\n",
    "\n",
    "class_weights = {label: 1.0 / count for label, count in class_counts.items()}\n",
    "weights = [class_weights[label] for _, label in train_dataset.data]\n",
    "train_sampler = WeightedRandomSampler(weights, num_samples=len(train_dataset), replacement=True)"
   ],
   "id": "893d470a6ee4f331",
   "outputs": [],
   "execution_count": 5
  },
  {
   "metadata": {
    "ExecuteTime": {
     "end_time": "2025-04-14T19:38:14.633800Z",
     "start_time": "2025-04-14T19:38:14.631128Z"
    }
   },
   "cell_type": "code",
   "source": [
    "def pad_sequence(batch):\n",
    "    if not batch:\n",
    "        return torch.zeros(0), torch.zeros(0)\n",
    "    \n",
    "    seq, labels = zip(*batch)\n",
    "    # print(seq[1], labels)\n",
    "    max_len = max(s.shape[1] for s in seq)\n",
    "    # print(max_len)\n",
    "\n",
    "    # print(seq[0].shape)\n",
    "    padded = torch.zeros(len(seq), MFCC, SEQUENCE_LENGTH)\n",
    "    for i, s in enumerate(seq):\n",
    "        # print(s.shape)\n",
    "        padded[i, ..., :s.shape[-1]] = s[..., :SEQUENCE_LENGTH]\n",
    "    \n",
    "    return padded, torch.stack(labels) "
   ],
   "id": "95b9d1862ee576ba",
   "outputs": [],
   "execution_count": 6
  },
  {
   "metadata": {
    "ExecuteTime": {
     "end_time": "2025-04-14T19:38:14.653892Z",
     "start_time": "2025-04-14T19:38:14.634374Z"
    }
   },
   "cell_type": "code",
   "source": [
    "train_dataloader = DataLoader(train_dataset, batch_size=64, sampler=train_sampler, collate_fn=pad_sequence, drop_last=True, num_workers=6)\n",
    "test_dataloader = DataLoader(test_dataset, batch_size=64, shuffle=False, collate_fn=pad_sequence, drop_last=True)\n",
    "val_dataloader = DataLoader(val_dataset, batch_size=64, shuffle=False, collate_fn=pad_sequence, drop_last=True, num_workers=6)"
   ],
   "id": "567e2c73c280aa49",
   "outputs": [],
   "execution_count": 7
  },
  {
   "metadata": {
    "ExecuteTime": {
     "end_time": "2025-04-14T19:46:32.246647Z",
     "start_time": "2025-04-14T19:46:32.240176Z"
    }
   },
   "cell_type": "code",
   "source": [
    "def train_model(model, dl_train, dl_val, epochs=1, lr=0.001, device=\"cpu\"):\n",
    "      \n",
    "    model = model.to(device)\n",
    "    criterion = nn.CrossEntropyLoss().to(device)\n",
    "    \n",
    "    optimizer = torch.optim.Adam(model.parameters(), lr=lr, weight_decay=1e-3)\n",
    "        \n",
    "    scheduler = torch.optim.lr_scheduler.ReduceLROnPlateau(optimizer, factor=0.5, patience=3, threshold=1e-3)\n",
    "    # scheduler = step_scheduler(optimizer, 30) \n",
    "        \n",
    "    train_loss_list = []\n",
    "    val_loss_list = []\n",
    "    train_acc_list = []\n",
    "    val_acc_list = []\n",
    "    for epoch in tqdm(range(epochs), desc=\"Training model\"):\n",
    "        model.train()\n",
    "        total_train_loss = 0\n",
    "        total_val_loss = 0\n",
    "        \n",
    "        train_acc = []\n",
    "        val_acc = []\n",
    "        for features, target in dl_train:\n",
    "            features, target = features.to(device), target.to(device)\n",
    "            optimizer.zero_grad()\n",
    "            \n",
    "            output = model(features).squeeze()\n",
    "            # print(output.shape)\n",
    "            # train_acc.append(torch.tensor(torch.argmax(output, dim=1) == target).cpu().detach().numpy())\n",
    "            preds = torch.argmax(output, dim=1).cpu().detach().numpy()\n",
    "            train_acc.append(accuracy_score(target.cpu().detach().numpy(), preds))\n",
    "            \n",
    "            loss = criterion(output, target)\n",
    "            loss.backward()\n",
    "            optimizer.step()\n",
    "            \n",
    "            total_train_loss += loss.detach().item()\n",
    "        # print(f\"LR before: {optimizer.param_groups[0]['lr']}\")\n",
    "        # scheduler.step(epoch=epoch)\n",
    "        # print(f\"LR after: {optimizer.param_groups[0]['lr']}\")\n",
    "        \n",
    "        avg_train_acc = np.stack(train_acc, axis=0).mean()\n",
    "\n",
    "        avg_train_loss = total_train_loss / len(train_dataloader)\n",
    "        train_loss_list.append(avg_train_loss)\n",
    "        train_acc_list.append(avg_train_acc)\n",
    "                \n",
    "        model.eval()\n",
    "        \n",
    "        with torch.no_grad():\n",
    "            for features, target in dl_val:\n",
    "                features, target = features.to(device), target.to(device)\n",
    "                \n",
    "                output = model(features).squeeze()\n",
    "                \n",
    "                preds = torch.argmax(output, dim=1).cpu().detach().numpy()\n",
    "                val_acc.append(accuracy_score(target.cpu().detach().numpy(), preds))\n",
    "                loss = criterion(output, target)\n",
    "                total_val_loss += loss.detach().item()\n",
    "        \n",
    "        avg_val_acc = np.stack(val_acc, axis=0).mean()\n",
    "        avg_val_loss = total_val_loss / len(dl_val)\n",
    "        val_loss_list.append(avg_val_loss)\n",
    "        val_acc_list.append(avg_val_acc)\n",
    "        \n",
    "        if scheduler:\n",
    "            try:\n",
    "                scheduler.step()\n",
    "            except:\n",
    "                scheduler.step(avg_val_loss)\n",
    "        \n",
    "        # if epoch % 10 == 0:\n",
    "        tqdm.write(f\"Epoch {epoch}: train loss: {avg_train_loss:.3f}, train balanced acc: {avg_train_acc:.2f}, test loss: {avg_val_loss:.3f}, test balanced acc: {avg_val_acc:.2f}, lr: {optimizer.param_groups[0]['lr']}\")\n",
    "\n",
    "            \n",
    "    return model, train_loss_list, val_loss_list, train_acc_list, val_acc_list"
   ],
   "id": "37ae783c56d3fa74",
   "outputs": [],
   "execution_count": 16
  },
  {
   "metadata": {
    "ExecuteTime": {
     "end_time": "2025-04-14T19:46:32.673088Z",
     "start_time": "2025-04-14T19:46:32.666960Z"
    }
   },
   "cell_type": "code",
   "source": [
    "from models.swishnet import SwishNet\n",
    "\n",
    "swishnet = SwishNet(MFCC, 4, input_size=SEQUENCE_LENGTH, dropout_rate=0.55)"
   ],
   "id": "cb5a8048d665bd35",
   "outputs": [],
   "execution_count": 17
  },
  {
   "metadata": {
    "ExecuteTime": {
     "end_time": "2025-04-14T19:47:36.317451Z",
     "start_time": "2025-04-14T19:46:32.904573Z"
    }
   },
   "cell_type": "code",
   "source": "swishnet, train_l, val_l, train_accuracy, val_accuracy = train_model(swishnet, train_dataloader, val_dataloader, epochs=100, lr=1e-4, device=DEVICE)",
   "id": "7696568a4f699ac4",
   "outputs": [
    {
     "name": "stderr",
     "output_type": "stream",
     "text": [
      "Training model:   1%|          | 1/100 [00:00<01:08,  1.45it/s]"
     ]
    },
    {
     "name": "stdout",
     "output_type": "stream",
     "text": [
      "Epoch 0: train loss: 1.384, train balanced acc: 0.28, test loss: 1.384, test balanced acc: 0.31, lr: 0.0001\n"
     ]
    },
    {
     "name": "stderr",
     "output_type": "stream",
     "text": [
      "Training model:   2%|▏         | 2/100 [00:01<01:13,  1.33it/s]"
     ]
    },
    {
     "name": "stdout",
     "output_type": "stream",
     "text": [
      "Epoch 1: train loss: 1.383, train balanced acc: 0.28, test loss: 1.383, test balanced acc: 0.32, lr: 0.0001\n"
     ]
    },
    {
     "name": "stderr",
     "output_type": "stream",
     "text": [
      "Training model:   3%|▎         | 3/100 [00:02<01:10,  1.37it/s]"
     ]
    },
    {
     "name": "stdout",
     "output_type": "stream",
     "text": [
      "Epoch 2: train loss: 1.379, train balanced acc: 0.30, test loss: 1.382, test balanced acc: 0.32, lr: 0.0001\n"
     ]
    },
    {
     "name": "stderr",
     "output_type": "stream",
     "text": [
      "Training model:   4%|▍         | 4/100 [00:02<01:09,  1.38it/s]"
     ]
    },
    {
     "name": "stdout",
     "output_type": "stream",
     "text": [
      "Epoch 3: train loss: 1.376, train balanced acc: 0.31, test loss: 1.381, test balanced acc: 0.32, lr: 0.0001\n"
     ]
    },
    {
     "name": "stderr",
     "output_type": "stream",
     "text": [
      "Training model:   5%|▌         | 5/100 [00:03<01:08,  1.39it/s]"
     ]
    },
    {
     "name": "stdout",
     "output_type": "stream",
     "text": [
      "Epoch 4: train loss: 1.370, train balanced acc: 0.32, test loss: 1.379, test balanced acc: 0.33, lr: 0.0001\n"
     ]
    },
    {
     "name": "stderr",
     "output_type": "stream",
     "text": [
      "Training model:   6%|▌         | 6/100 [00:04<01:05,  1.43it/s]"
     ]
    },
    {
     "name": "stdout",
     "output_type": "stream",
     "text": [
      "Epoch 5: train loss: 1.367, train balanced acc: 0.33, test loss: 1.377, test balanced acc: 0.33, lr: 0.0001\n"
     ]
    },
    {
     "name": "stderr",
     "output_type": "stream",
     "text": [
      "Training model:   7%|▋         | 7/100 [00:04<01:04,  1.45it/s]"
     ]
    },
    {
     "name": "stdout",
     "output_type": "stream",
     "text": [
      "Epoch 6: train loss: 1.361, train balanced acc: 0.33, test loss: 1.377, test balanced acc: 0.33, lr: 0.0001\n"
     ]
    },
    {
     "name": "stderr",
     "output_type": "stream",
     "text": [
      "Training model:   8%|▊         | 8/100 [00:05<01:03,  1.46it/s]"
     ]
    },
    {
     "name": "stdout",
     "output_type": "stream",
     "text": [
      "Epoch 7: train loss: 1.358, train balanced acc: 0.34, test loss: 1.374, test balanced acc: 0.33, lr: 0.0001\n"
     ]
    },
    {
     "name": "stderr",
     "output_type": "stream",
     "text": [
      "Training model:   9%|▉         | 9/100 [00:06<01:01,  1.48it/s]"
     ]
    },
    {
     "name": "stdout",
     "output_type": "stream",
     "text": [
      "Epoch 8: train loss: 1.352, train balanced acc: 0.34, test loss: 1.372, test balanced acc: 0.34, lr: 0.0001\n"
     ]
    },
    {
     "name": "stderr",
     "output_type": "stream",
     "text": [
      "Training model:  10%|█         | 10/100 [00:07<01:02,  1.44it/s]"
     ]
    },
    {
     "name": "stdout",
     "output_type": "stream",
     "text": [
      "Epoch 9: train loss: 1.347, train balanced acc: 0.34, test loss: 1.372, test balanced acc: 0.33, lr: 0.0001\n"
     ]
    },
    {
     "name": "stderr",
     "output_type": "stream",
     "text": [
      "Training model:  11%|█         | 11/100 [00:07<01:01,  1.45it/s]"
     ]
    },
    {
     "name": "stdout",
     "output_type": "stream",
     "text": [
      "Epoch 10: train loss: 1.351, train balanced acc: 0.34, test loss: 1.369, test balanced acc: 0.34, lr: 0.0001\n"
     ]
    },
    {
     "name": "stderr",
     "output_type": "stream",
     "text": [
      "Training model:  12%|█▏        | 12/100 [00:08<00:59,  1.48it/s]"
     ]
    },
    {
     "name": "stdout",
     "output_type": "stream",
     "text": [
      "Epoch 11: train loss: 1.339, train balanced acc: 0.35, test loss: 1.369, test balanced acc: 0.33, lr: 0.0001\n"
     ]
    },
    {
     "name": "stderr",
     "output_type": "stream",
     "text": [
      "Training model:  13%|█▎        | 13/100 [00:08<00:56,  1.53it/s]"
     ]
    },
    {
     "name": "stdout",
     "output_type": "stream",
     "text": [
      "Epoch 12: train loss: 1.338, train balanced acc: 0.37, test loss: 1.367, test balanced acc: 0.34, lr: 0.0001\n"
     ]
    },
    {
     "name": "stderr",
     "output_type": "stream",
     "text": [
      "Training model:  14%|█▍        | 14/100 [00:09<00:55,  1.55it/s]"
     ]
    },
    {
     "name": "stdout",
     "output_type": "stream",
     "text": [
      "Epoch 13: train loss: 1.331, train balanced acc: 0.38, test loss: 1.368, test balanced acc: 0.33, lr: 0.0001\n"
     ]
    },
    {
     "name": "stderr",
     "output_type": "stream",
     "text": [
      "Training model:  15%|█▌        | 15/100 [00:10<00:54,  1.55it/s]"
     ]
    },
    {
     "name": "stdout",
     "output_type": "stream",
     "text": [
      "Epoch 14: train loss: 1.329, train balanced acc: 0.37, test loss: 1.364, test balanced acc: 0.34, lr: 0.0001\n"
     ]
    },
    {
     "name": "stderr",
     "output_type": "stream",
     "text": [
      "Training model:  16%|█▌        | 16/100 [00:10<00:53,  1.58it/s]"
     ]
    },
    {
     "name": "stdout",
     "output_type": "stream",
     "text": [
      "Epoch 15: train loss: 1.318, train balanced acc: 0.38, test loss: 1.368, test balanced acc: 0.33, lr: 0.0001\n"
     ]
    },
    {
     "name": "stderr",
     "output_type": "stream",
     "text": [
      "Training model:  17%|█▋        | 17/100 [00:11<00:52,  1.59it/s]"
     ]
    },
    {
     "name": "stdout",
     "output_type": "stream",
     "text": [
      "Epoch 16: train loss: 1.321, train balanced acc: 0.38, test loss: 1.362, test balanced acc: 0.34, lr: 0.0001\n"
     ]
    },
    {
     "name": "stderr",
     "output_type": "stream",
     "text": [
      "Training model:  18%|█▊        | 18/100 [00:12<00:50,  1.61it/s]"
     ]
    },
    {
     "name": "stdout",
     "output_type": "stream",
     "text": [
      "Epoch 17: train loss: 1.317, train balanced acc: 0.37, test loss: 1.359, test balanced acc: 0.34, lr: 0.0001\n"
     ]
    },
    {
     "name": "stderr",
     "output_type": "stream",
     "text": [
      "Training model:  19%|█▉        | 19/100 [00:12<00:50,  1.61it/s]"
     ]
    },
    {
     "name": "stdout",
     "output_type": "stream",
     "text": [
      "Epoch 18: train loss: 1.313, train balanced acc: 0.38, test loss: 1.364, test balanced acc: 0.33, lr: 0.0001\n"
     ]
    },
    {
     "name": "stderr",
     "output_type": "stream",
     "text": [
      "Training model:  20%|██        | 20/100 [00:13<00:49,  1.62it/s]"
     ]
    },
    {
     "name": "stdout",
     "output_type": "stream",
     "text": [
      "Epoch 19: train loss: 1.300, train balanced acc: 0.39, test loss: 1.363, test balanced acc: 0.33, lr: 0.0001\n"
     ]
    },
    {
     "name": "stderr",
     "output_type": "stream",
     "text": [
      "Training model:  21%|██        | 21/100 [00:13<00:48,  1.63it/s]"
     ]
    },
    {
     "name": "stdout",
     "output_type": "stream",
     "text": [
      "Epoch 20: train loss: 1.303, train balanced acc: 0.39, test loss: 1.365, test balanced acc: 0.33, lr: 0.0001\n"
     ]
    },
    {
     "name": "stderr",
     "output_type": "stream",
     "text": [
      "Training model:  22%|██▏       | 22/100 [00:14<00:47,  1.65it/s]"
     ]
    },
    {
     "name": "stdout",
     "output_type": "stream",
     "text": [
      "Epoch 21: train loss: 1.290, train balanced acc: 0.41, test loss: 1.360, test balanced acc: 0.33, lr: 5e-05\n"
     ]
    },
    {
     "name": "stderr",
     "output_type": "stream",
     "text": [
      "Training model:  23%|██▎       | 23/100 [00:15<00:47,  1.64it/s]"
     ]
    },
    {
     "name": "stdout",
     "output_type": "stream",
     "text": [
      "Epoch 22: train loss: 1.292, train balanced acc: 0.40, test loss: 1.362, test balanced acc: 0.33, lr: 5e-05\n"
     ]
    },
    {
     "name": "stderr",
     "output_type": "stream",
     "text": [
      "Training model:  24%|██▍       | 24/100 [00:15<00:45,  1.65it/s]"
     ]
    },
    {
     "name": "stdout",
     "output_type": "stream",
     "text": [
      "Epoch 23: train loss: 1.283, train balanced acc: 0.41, test loss: 1.362, test balanced acc: 0.33, lr: 5e-05\n"
     ]
    },
    {
     "name": "stderr",
     "output_type": "stream",
     "text": [
      "Training model:  25%|██▌       | 25/100 [00:16<00:45,  1.64it/s]"
     ]
    },
    {
     "name": "stdout",
     "output_type": "stream",
     "text": [
      "Epoch 24: train loss: 1.287, train balanced acc: 0.40, test loss: 1.360, test balanced acc: 0.33, lr: 5e-05\n"
     ]
    },
    {
     "name": "stderr",
     "output_type": "stream",
     "text": [
      "Training model:  26%|██▌       | 26/100 [00:16<00:44,  1.65it/s]"
     ]
    },
    {
     "name": "stdout",
     "output_type": "stream",
     "text": [
      "Epoch 25: train loss: 1.290, train balanced acc: 0.40, test loss: 1.362, test balanced acc: 0.33, lr: 2.5e-05\n"
     ]
    },
    {
     "name": "stderr",
     "output_type": "stream",
     "text": [
      "Training model:  27%|██▋       | 27/100 [00:17<00:45,  1.62it/s]"
     ]
    },
    {
     "name": "stdout",
     "output_type": "stream",
     "text": [
      "Epoch 26: train loss: 1.288, train balanced acc: 0.41, test loss: 1.359, test balanced acc: 0.33, lr: 2.5e-05\n"
     ]
    },
    {
     "name": "stderr",
     "output_type": "stream",
     "text": [
      "Training model:  28%|██▊       | 28/100 [00:18<00:44,  1.63it/s]"
     ]
    },
    {
     "name": "stdout",
     "output_type": "stream",
     "text": [
      "Epoch 27: train loss: 1.294, train balanced acc: 0.39, test loss: 1.363, test balanced acc: 0.33, lr: 2.5e-05\n"
     ]
    },
    {
     "name": "stderr",
     "output_type": "stream",
     "text": [
      "Training model:  29%|██▉       | 29/100 [00:18<00:44,  1.61it/s]"
     ]
    },
    {
     "name": "stdout",
     "output_type": "stream",
     "text": [
      "Epoch 28: train loss: 1.281, train balanced acc: 0.41, test loss: 1.362, test balanced acc: 0.33, lr: 2.5e-05\n"
     ]
    },
    {
     "name": "stderr",
     "output_type": "stream",
     "text": [
      "Training model:  30%|███       | 30/100 [00:19<00:44,  1.59it/s]"
     ]
    },
    {
     "name": "stdout",
     "output_type": "stream",
     "text": [
      "Epoch 29: train loss: 1.276, train balanced acc: 0.42, test loss: 1.360, test balanced acc: 0.33, lr: 1.25e-05\n"
     ]
    },
    {
     "name": "stderr",
     "output_type": "stream",
     "text": [
      "Training model:  31%|███       | 31/100 [00:20<00:43,  1.58it/s]"
     ]
    },
    {
     "name": "stdout",
     "output_type": "stream",
     "text": [
      "Epoch 30: train loss: 1.288, train balanced acc: 0.40, test loss: 1.359, test balanced acc: 0.33, lr: 1.25e-05\n"
     ]
    },
    {
     "name": "stderr",
     "output_type": "stream",
     "text": [
      "Training model:  32%|███▏      | 32/100 [00:20<00:43,  1.57it/s]"
     ]
    },
    {
     "name": "stdout",
     "output_type": "stream",
     "text": [
      "Epoch 31: train loss: 1.289, train balanced acc: 0.39, test loss: 1.361, test balanced acc: 0.33, lr: 1.25e-05\n"
     ]
    },
    {
     "name": "stderr",
     "output_type": "stream",
     "text": [
      "Training model:  33%|███▎      | 33/100 [00:21<00:42,  1.57it/s]"
     ]
    },
    {
     "name": "stdout",
     "output_type": "stream",
     "text": [
      "Epoch 32: train loss: 1.276, train balanced acc: 0.43, test loss: 1.362, test balanced acc: 0.33, lr: 1.25e-05\n"
     ]
    },
    {
     "name": "stderr",
     "output_type": "stream",
     "text": [
      "Training model:  34%|███▍      | 34/100 [00:21<00:41,  1.59it/s]"
     ]
    },
    {
     "name": "stdout",
     "output_type": "stream",
     "text": [
      "Epoch 33: train loss: 1.274, train balanced acc: 0.43, test loss: 1.362, test balanced acc: 0.33, lr: 6.25e-06\n"
     ]
    },
    {
     "name": "stderr",
     "output_type": "stream",
     "text": [
      "Training model:  35%|███▌      | 35/100 [00:22<00:40,  1.62it/s]"
     ]
    },
    {
     "name": "stdout",
     "output_type": "stream",
     "text": [
      "Epoch 34: train loss: 1.281, train balanced acc: 0.41, test loss: 1.362, test balanced acc: 0.33, lr: 6.25e-06\n"
     ]
    },
    {
     "name": "stderr",
     "output_type": "stream",
     "text": [
      "Training model:  36%|███▌      | 36/100 [00:23<00:39,  1.63it/s]"
     ]
    },
    {
     "name": "stdout",
     "output_type": "stream",
     "text": [
      "Epoch 35: train loss: 1.271, train balanced acc: 0.42, test loss: 1.361, test balanced acc: 0.33, lr: 6.25e-06\n"
     ]
    },
    {
     "name": "stderr",
     "output_type": "stream",
     "text": [
      "Training model:  37%|███▋      | 37/100 [00:23<00:38,  1.64it/s]"
     ]
    },
    {
     "name": "stdout",
     "output_type": "stream",
     "text": [
      "Epoch 36: train loss: 1.284, train balanced acc: 0.41, test loss: 1.361, test balanced acc: 0.33, lr: 6.25e-06\n"
     ]
    },
    {
     "name": "stderr",
     "output_type": "stream",
     "text": [
      "Training model:  38%|███▊      | 38/100 [00:24<00:37,  1.64it/s]"
     ]
    },
    {
     "name": "stdout",
     "output_type": "stream",
     "text": [
      "Epoch 37: train loss: 1.273, train balanced acc: 0.43, test loss: 1.362, test balanced acc: 0.33, lr: 3.125e-06\n"
     ]
    },
    {
     "name": "stderr",
     "output_type": "stream",
     "text": [
      "Training model:  39%|███▉      | 39/100 [00:24<00:36,  1.65it/s]"
     ]
    },
    {
     "name": "stdout",
     "output_type": "stream",
     "text": [
      "Epoch 38: train loss: 1.279, train balanced acc: 0.41, test loss: 1.362, test balanced acc: 0.33, lr: 3.125e-06\n"
     ]
    },
    {
     "name": "stderr",
     "output_type": "stream",
     "text": [
      "Training model:  40%|████      | 40/100 [00:25<00:36,  1.66it/s]"
     ]
    },
    {
     "name": "stdout",
     "output_type": "stream",
     "text": [
      "Epoch 39: train loss: 1.273, train balanced acc: 0.41, test loss: 1.361, test balanced acc: 0.33, lr: 3.125e-06\n"
     ]
    },
    {
     "name": "stderr",
     "output_type": "stream",
     "text": [
      "Training model:  41%|████      | 41/100 [00:26<00:36,  1.60it/s]"
     ]
    },
    {
     "name": "stdout",
     "output_type": "stream",
     "text": [
      "Epoch 40: train loss: 1.277, train balanced acc: 0.43, test loss: 1.361, test balanced acc: 0.33, lr: 3.125e-06\n"
     ]
    },
    {
     "name": "stderr",
     "output_type": "stream",
     "text": [
      "Training model:  42%|████▏     | 42/100 [00:26<00:35,  1.61it/s]"
     ]
    },
    {
     "name": "stdout",
     "output_type": "stream",
     "text": [
      "Epoch 41: train loss: 1.284, train balanced acc: 0.40, test loss: 1.361, test balanced acc: 0.33, lr: 1.5625e-06\n"
     ]
    },
    {
     "name": "stderr",
     "output_type": "stream",
     "text": [
      "Training model:  43%|████▎     | 43/100 [00:27<00:35,  1.61it/s]"
     ]
    },
    {
     "name": "stdout",
     "output_type": "stream",
     "text": [
      "Epoch 42: train loss: 1.275, train balanced acc: 0.42, test loss: 1.361, test balanced acc: 0.33, lr: 1.5625e-06\n"
     ]
    },
    {
     "name": "stderr",
     "output_type": "stream",
     "text": [
      "Training model:  44%|████▍     | 44/100 [00:28<00:34,  1.61it/s]"
     ]
    },
    {
     "name": "stdout",
     "output_type": "stream",
     "text": [
      "Epoch 43: train loss: 1.282, train balanced acc: 0.41, test loss: 1.361, test balanced acc: 0.33, lr: 1.5625e-06\n"
     ]
    },
    {
     "name": "stderr",
     "output_type": "stream",
     "text": [
      "Training model:  45%|████▌     | 45/100 [00:28<00:34,  1.61it/s]"
     ]
    },
    {
     "name": "stdout",
     "output_type": "stream",
     "text": [
      "Epoch 44: train loss: 1.278, train balanced acc: 0.41, test loss: 1.362, test balanced acc: 0.33, lr: 1.5625e-06\n"
     ]
    },
    {
     "name": "stderr",
     "output_type": "stream",
     "text": [
      "Training model:  46%|████▌     | 46/100 [00:29<00:33,  1.62it/s]"
     ]
    },
    {
     "name": "stdout",
     "output_type": "stream",
     "text": [
      "Epoch 45: train loss: 1.276, train balanced acc: 0.42, test loss: 1.361, test balanced acc: 0.33, lr: 7.8125e-07\n"
     ]
    },
    {
     "name": "stderr",
     "output_type": "stream",
     "text": [
      "Training model:  47%|████▋     | 47/100 [00:29<00:32,  1.62it/s]"
     ]
    },
    {
     "name": "stdout",
     "output_type": "stream",
     "text": [
      "Epoch 46: train loss: 1.267, train balanced acc: 0.44, test loss: 1.362, test balanced acc: 0.33, lr: 7.8125e-07\n"
     ]
    },
    {
     "name": "stderr",
     "output_type": "stream",
     "text": [
      "Training model:  48%|████▊     | 48/100 [00:30<00:32,  1.62it/s]"
     ]
    },
    {
     "name": "stdout",
     "output_type": "stream",
     "text": [
      "Epoch 47: train loss: 1.278, train balanced acc: 0.41, test loss: 1.361, test balanced acc: 0.33, lr: 7.8125e-07\n"
     ]
    },
    {
     "name": "stderr",
     "output_type": "stream",
     "text": [
      "Training model:  49%|████▉     | 49/100 [00:31<00:31,  1.63it/s]"
     ]
    },
    {
     "name": "stdout",
     "output_type": "stream",
     "text": [
      "Epoch 48: train loss: 1.277, train balanced acc: 0.41, test loss: 1.361, test balanced acc: 0.33, lr: 7.8125e-07\n"
     ]
    },
    {
     "name": "stderr",
     "output_type": "stream",
     "text": [
      "Training model:  50%|█████     | 50/100 [00:31<00:30,  1.63it/s]"
     ]
    },
    {
     "name": "stdout",
     "output_type": "stream",
     "text": [
      "Epoch 49: train loss: 1.284, train balanced acc: 0.40, test loss: 1.359, test balanced acc: 0.33, lr: 3.90625e-07\n"
     ]
    },
    {
     "name": "stderr",
     "output_type": "stream",
     "text": [
      "Training model:  51%|█████     | 51/100 [00:32<00:31,  1.57it/s]"
     ]
    },
    {
     "name": "stdout",
     "output_type": "stream",
     "text": [
      "Epoch 50: train loss: 1.274, train balanced acc: 0.42, test loss: 1.361, test balanced acc: 0.33, lr: 3.90625e-07\n"
     ]
    },
    {
     "name": "stderr",
     "output_type": "stream",
     "text": [
      "Training model:  52%|█████▏    | 52/100 [00:33<00:30,  1.58it/s]"
     ]
    },
    {
     "name": "stdout",
     "output_type": "stream",
     "text": [
      "Epoch 51: train loss: 1.289, train balanced acc: 0.39, test loss: 1.359, test balanced acc: 0.33, lr: 3.90625e-07\n"
     ]
    },
    {
     "name": "stderr",
     "output_type": "stream",
     "text": [
      "Training model:  53%|█████▎    | 53/100 [00:33<00:29,  1.59it/s]"
     ]
    },
    {
     "name": "stdout",
     "output_type": "stream",
     "text": [
      "Epoch 52: train loss: 1.267, train balanced acc: 0.43, test loss: 1.362, test balanced acc: 0.33, lr: 3.90625e-07\n"
     ]
    },
    {
     "name": "stderr",
     "output_type": "stream",
     "text": [
      "Training model:  54%|█████▍    | 54/100 [00:34<00:28,  1.59it/s]"
     ]
    },
    {
     "name": "stdout",
     "output_type": "stream",
     "text": [
      "Epoch 53: train loss: 1.273, train balanced acc: 0.43, test loss: 1.360, test balanced acc: 0.33, lr: 1.953125e-07\n"
     ]
    },
    {
     "name": "stderr",
     "output_type": "stream",
     "text": [
      "Training model:  55%|█████▌    | 55/100 [00:34<00:28,  1.56it/s]"
     ]
    },
    {
     "name": "stdout",
     "output_type": "stream",
     "text": [
      "Epoch 54: train loss: 1.277, train balanced acc: 0.40, test loss: 1.361, test balanced acc: 0.33, lr: 1.953125e-07\n"
     ]
    },
    {
     "name": "stderr",
     "output_type": "stream",
     "text": [
      "Training model:  56%|█████▌    | 56/100 [00:35<00:27,  1.57it/s]"
     ]
    },
    {
     "name": "stdout",
     "output_type": "stream",
     "text": [
      "Epoch 55: train loss: 1.271, train balanced acc: 0.42, test loss: 1.362, test balanced acc: 0.33, lr: 1.953125e-07\n"
     ]
    },
    {
     "name": "stderr",
     "output_type": "stream",
     "text": [
      "Training model:  57%|█████▋    | 57/100 [00:36<00:27,  1.58it/s]"
     ]
    },
    {
     "name": "stdout",
     "output_type": "stream",
     "text": [
      "Epoch 56: train loss: 1.266, train balanced acc: 0.44, test loss: 1.362, test balanced acc: 0.33, lr: 1.953125e-07\n"
     ]
    },
    {
     "name": "stderr",
     "output_type": "stream",
     "text": [
      "Training model:  58%|█████▊    | 58/100 [00:36<00:26,  1.58it/s]"
     ]
    },
    {
     "name": "stdout",
     "output_type": "stream",
     "text": [
      "Epoch 57: train loss: 1.278, train balanced acc: 0.41, test loss: 1.361, test balanced acc: 0.33, lr: 9.765625e-08\n"
     ]
    },
    {
     "name": "stderr",
     "output_type": "stream",
     "text": [
      "Training model:  59%|█████▉    | 59/100 [00:37<00:26,  1.56it/s]"
     ]
    },
    {
     "name": "stdout",
     "output_type": "stream",
     "text": [
      "Epoch 58: train loss: 1.276, train balanced acc: 0.41, test loss: 1.360, test balanced acc: 0.33, lr: 9.765625e-08\n"
     ]
    },
    {
     "name": "stderr",
     "output_type": "stream",
     "text": [
      "Training model:  60%|██████    | 60/100 [00:38<00:25,  1.57it/s]"
     ]
    },
    {
     "name": "stdout",
     "output_type": "stream",
     "text": [
      "Epoch 59: train loss: 1.277, train balanced acc: 0.42, test loss: 1.361, test balanced acc: 0.33, lr: 9.765625e-08\n"
     ]
    },
    {
     "name": "stderr",
     "output_type": "stream",
     "text": [
      "Training model:  61%|██████    | 61/100 [00:38<00:24,  1.59it/s]"
     ]
    },
    {
     "name": "stdout",
     "output_type": "stream",
     "text": [
      "Epoch 60: train loss: 1.280, train balanced acc: 0.40, test loss: 1.362, test balanced acc: 0.33, lr: 9.765625e-08\n"
     ]
    },
    {
     "name": "stderr",
     "output_type": "stream",
     "text": [
      "Training model:  62%|██████▏   | 62/100 [00:39<00:23,  1.62it/s]"
     ]
    },
    {
     "name": "stdout",
     "output_type": "stream",
     "text": [
      "Epoch 61: train loss: 1.276, train balanced acc: 0.42, test loss: 1.361, test balanced acc: 0.33, lr: 4.8828125e-08\n"
     ]
    },
    {
     "name": "stderr",
     "output_type": "stream",
     "text": [
      "Training model:  63%|██████▎   | 63/100 [00:39<00:22,  1.62it/s]"
     ]
    },
    {
     "name": "stdout",
     "output_type": "stream",
     "text": [
      "Epoch 62: train loss: 1.272, train balanced acc: 0.43, test loss: 1.360, test balanced acc: 0.33, lr: 4.8828125e-08\n"
     ]
    },
    {
     "name": "stderr",
     "output_type": "stream",
     "text": [
      "Training model:  64%|██████▍   | 64/100 [00:40<00:22,  1.61it/s]"
     ]
    },
    {
     "name": "stdout",
     "output_type": "stream",
     "text": [
      "Epoch 63: train loss: 1.273, train balanced acc: 0.43, test loss: 1.360, test balanced acc: 0.33, lr: 4.8828125e-08\n"
     ]
    },
    {
     "name": "stderr",
     "output_type": "stream",
     "text": [
      "Training model:  65%|██████▌   | 65/100 [00:41<00:21,  1.63it/s]"
     ]
    },
    {
     "name": "stdout",
     "output_type": "stream",
     "text": [
      "Epoch 64: train loss: 1.273, train balanced acc: 0.41, test loss: 1.361, test balanced acc: 0.33, lr: 4.8828125e-08\n"
     ]
    },
    {
     "name": "stderr",
     "output_type": "stream",
     "text": [
      "Training model:  66%|██████▌   | 66/100 [00:41<00:20,  1.65it/s]"
     ]
    },
    {
     "name": "stdout",
     "output_type": "stream",
     "text": [
      "Epoch 65: train loss: 1.277, train balanced acc: 0.41, test loss: 1.360, test balanced acc: 0.33, lr: 2.44140625e-08\n"
     ]
    },
    {
     "name": "stderr",
     "output_type": "stream",
     "text": [
      "Training model:  67%|██████▋   | 67/100 [00:42<00:20,  1.62it/s]"
     ]
    },
    {
     "name": "stdout",
     "output_type": "stream",
     "text": [
      "Epoch 66: train loss: 1.273, train balanced acc: 0.40, test loss: 1.360, test balanced acc: 0.33, lr: 2.44140625e-08\n"
     ]
    },
    {
     "name": "stderr",
     "output_type": "stream",
     "text": [
      "Training model:  68%|██████▊   | 68/100 [00:43<00:20,  1.58it/s]"
     ]
    },
    {
     "name": "stdout",
     "output_type": "stream",
     "text": [
      "Epoch 67: train loss: 1.277, train balanced acc: 0.42, test loss: 1.360, test balanced acc: 0.33, lr: 2.44140625e-08\n"
     ]
    },
    {
     "name": "stderr",
     "output_type": "stream",
     "text": [
      "Training model:  69%|██████▉   | 69/100 [00:43<00:19,  1.60it/s]"
     ]
    },
    {
     "name": "stdout",
     "output_type": "stream",
     "text": [
      "Epoch 68: train loss: 1.271, train balanced acc: 0.41, test loss: 1.362, test balanced acc: 0.33, lr: 2.44140625e-08\n"
     ]
    },
    {
     "name": "stderr",
     "output_type": "stream",
     "text": [
      "Training model:  70%|███████   | 70/100 [00:44<00:18,  1.59it/s]"
     ]
    },
    {
     "name": "stdout",
     "output_type": "stream",
     "text": [
      "Epoch 69: train loss: 1.282, train balanced acc: 0.41, test loss: 1.361, test balanced acc: 0.33, lr: 1.220703125e-08\n"
     ]
    },
    {
     "name": "stderr",
     "output_type": "stream",
     "text": [
      "Training model:  71%|███████   | 71/100 [00:44<00:18,  1.61it/s]"
     ]
    },
    {
     "name": "stdout",
     "output_type": "stream",
     "text": [
      "Epoch 70: train loss: 1.266, train balanced acc: 0.43, test loss: 1.362, test balanced acc: 0.33, lr: 1.220703125e-08\n"
     ]
    },
    {
     "name": "stderr",
     "output_type": "stream",
     "text": [
      "Training model:  72%|███████▏  | 72/100 [00:45<00:17,  1.60it/s]"
     ]
    },
    {
     "name": "stdout",
     "output_type": "stream",
     "text": [
      "Epoch 71: train loss: 1.276, train balanced acc: 0.42, test loss: 1.362, test balanced acc: 0.33, lr: 1.220703125e-08\n"
     ]
    },
    {
     "name": "stderr",
     "output_type": "stream",
     "text": [
      "Training model:  73%|███████▎  | 73/100 [00:46<00:18,  1.49it/s]"
     ]
    },
    {
     "name": "stdout",
     "output_type": "stream",
     "text": [
      "Epoch 72: train loss: 1.281, train balanced acc: 0.41, test loss: 1.359, test balanced acc: 0.33, lr: 1.220703125e-08\n"
     ]
    },
    {
     "name": "stderr",
     "output_type": "stream",
     "text": [
      "Training model:  74%|███████▍  | 74/100 [00:47<00:17,  1.49it/s]"
     ]
    },
    {
     "name": "stdout",
     "output_type": "stream",
     "text": [
      "Epoch 73: train loss: 1.275, train balanced acc: 0.41, test loss: 1.361, test balanced acc: 0.33, lr: 1.220703125e-08\n"
     ]
    },
    {
     "name": "stderr",
     "output_type": "stream",
     "text": [
      "Training model:  75%|███████▌  | 75/100 [00:47<00:16,  1.52it/s]"
     ]
    },
    {
     "name": "stdout",
     "output_type": "stream",
     "text": [
      "Epoch 74: train loss: 1.271, train balanced acc: 0.43, test loss: 1.361, test balanced acc: 0.33, lr: 1.220703125e-08\n"
     ]
    },
    {
     "name": "stderr",
     "output_type": "stream",
     "text": [
      "Training model:  76%|███████▌  | 76/100 [00:48<00:15,  1.54it/s]"
     ]
    },
    {
     "name": "stdout",
     "output_type": "stream",
     "text": [
      "Epoch 75: train loss: 1.278, train balanced acc: 0.41, test loss: 1.361, test balanced acc: 0.33, lr: 1.220703125e-08\n"
     ]
    },
    {
     "name": "stderr",
     "output_type": "stream",
     "text": [
      "Training model:  77%|███████▋  | 77/100 [00:48<00:14,  1.57it/s]"
     ]
    },
    {
     "name": "stdout",
     "output_type": "stream",
     "text": [
      "Epoch 76: train loss: 1.278, train balanced acc: 0.41, test loss: 1.360, test balanced acc: 0.33, lr: 1.220703125e-08\n"
     ]
    },
    {
     "name": "stderr",
     "output_type": "stream",
     "text": [
      "Training model:  78%|███████▊  | 78/100 [00:49<00:14,  1.56it/s]"
     ]
    },
    {
     "name": "stdout",
     "output_type": "stream",
     "text": [
      "Epoch 77: train loss: 1.278, train balanced acc: 0.41, test loss: 1.361, test balanced acc: 0.33, lr: 1.220703125e-08\n"
     ]
    },
    {
     "name": "stderr",
     "output_type": "stream",
     "text": [
      "Training model:  79%|███████▉  | 79/100 [00:50<00:13,  1.52it/s]"
     ]
    },
    {
     "name": "stdout",
     "output_type": "stream",
     "text": [
      "Epoch 78: train loss: 1.278, train balanced acc: 0.41, test loss: 1.360, test balanced acc: 0.33, lr: 1.220703125e-08\n"
     ]
    },
    {
     "name": "stderr",
     "output_type": "stream",
     "text": [
      "Training model:  80%|████████  | 80/100 [00:50<00:12,  1.55it/s]"
     ]
    },
    {
     "name": "stdout",
     "output_type": "stream",
     "text": [
      "Epoch 79: train loss: 1.280, train balanced acc: 0.41, test loss: 1.360, test balanced acc: 0.33, lr: 1.220703125e-08\n"
     ]
    },
    {
     "name": "stderr",
     "output_type": "stream",
     "text": [
      "Training model:  81%|████████  | 81/100 [00:51<00:12,  1.56it/s]"
     ]
    },
    {
     "name": "stdout",
     "output_type": "stream",
     "text": [
      "Epoch 80: train loss: 1.269, train balanced acc: 0.41, test loss: 1.362, test balanced acc: 0.33, lr: 1.220703125e-08\n"
     ]
    },
    {
     "name": "stderr",
     "output_type": "stream",
     "text": [
      "Training model:  82%|████████▏ | 82/100 [00:52<00:11,  1.59it/s]"
     ]
    },
    {
     "name": "stdout",
     "output_type": "stream",
     "text": [
      "Epoch 81: train loss: 1.277, train balanced acc: 0.41, test loss: 1.360, test balanced acc: 0.33, lr: 1.220703125e-08\n"
     ]
    },
    {
     "name": "stderr",
     "output_type": "stream",
     "text": [
      "Training model:  83%|████████▎ | 83/100 [00:52<00:10,  1.58it/s]"
     ]
    },
    {
     "name": "stdout",
     "output_type": "stream",
     "text": [
      "Epoch 82: train loss: 1.271, train balanced acc: 0.43, test loss: 1.362, test balanced acc: 0.33, lr: 1.220703125e-08\n"
     ]
    },
    {
     "name": "stderr",
     "output_type": "stream",
     "text": [
      "Training model:  84%|████████▍ | 84/100 [00:53<00:10,  1.58it/s]"
     ]
    },
    {
     "name": "stdout",
     "output_type": "stream",
     "text": [
      "Epoch 83: train loss: 1.272, train balanced acc: 0.42, test loss: 1.360, test balanced acc: 0.33, lr: 1.220703125e-08\n"
     ]
    },
    {
     "name": "stderr",
     "output_type": "stream",
     "text": [
      "Training model:  85%|████████▌ | 85/100 [00:53<00:09,  1.59it/s]"
     ]
    },
    {
     "name": "stdout",
     "output_type": "stream",
     "text": [
      "Epoch 84: train loss: 1.277, train balanced acc: 0.43, test loss: 1.362, test balanced acc: 0.33, lr: 1.220703125e-08\n"
     ]
    },
    {
     "name": "stderr",
     "output_type": "stream",
     "text": [
      "Training model:  86%|████████▌ | 86/100 [00:54<00:08,  1.61it/s]"
     ]
    },
    {
     "name": "stdout",
     "output_type": "stream",
     "text": [
      "Epoch 85: train loss: 1.267, train balanced acc: 0.43, test loss: 1.361, test balanced acc: 0.33, lr: 1.220703125e-08\n"
     ]
    },
    {
     "name": "stderr",
     "output_type": "stream",
     "text": [
      "Training model:  87%|████████▋ | 87/100 [00:55<00:08,  1.61it/s]"
     ]
    },
    {
     "name": "stdout",
     "output_type": "stream",
     "text": [
      "Epoch 86: train loss: 1.279, train balanced acc: 0.40, test loss: 1.361, test balanced acc: 0.33, lr: 1.220703125e-08\n"
     ]
    },
    {
     "name": "stderr",
     "output_type": "stream",
     "text": [
      "Training model:  88%|████████▊ | 88/100 [00:55<00:07,  1.62it/s]"
     ]
    },
    {
     "name": "stdout",
     "output_type": "stream",
     "text": [
      "Epoch 87: train loss: 1.278, train balanced acc: 0.40, test loss: 1.361, test balanced acc: 0.33, lr: 1.220703125e-08\n"
     ]
    },
    {
     "name": "stderr",
     "output_type": "stream",
     "text": [
      "Training model:  89%|████████▉ | 89/100 [00:56<00:06,  1.62it/s]"
     ]
    },
    {
     "name": "stdout",
     "output_type": "stream",
     "text": [
      "Epoch 88: train loss: 1.278, train balanced acc: 0.40, test loss: 1.362, test balanced acc: 0.33, lr: 1.220703125e-08\n"
     ]
    },
    {
     "name": "stderr",
     "output_type": "stream",
     "text": [
      "Training model:  90%|█████████ | 90/100 [00:57<00:06,  1.62it/s]"
     ]
    },
    {
     "name": "stdout",
     "output_type": "stream",
     "text": [
      "Epoch 89: train loss: 1.271, train balanced acc: 0.42, test loss: 1.362, test balanced acc: 0.33, lr: 1.220703125e-08\n"
     ]
    },
    {
     "name": "stderr",
     "output_type": "stream",
     "text": [
      "Training model:  91%|█████████ | 91/100 [00:57<00:05,  1.60it/s]"
     ]
    },
    {
     "name": "stdout",
     "output_type": "stream",
     "text": [
      "Epoch 90: train loss: 1.274, train balanced acc: 0.42, test loss: 1.361, test balanced acc: 0.33, lr: 1.220703125e-08\n"
     ]
    },
    {
     "name": "stderr",
     "output_type": "stream",
     "text": [
      "Training model:  92%|█████████▏| 92/100 [00:58<00:04,  1.60it/s]"
     ]
    },
    {
     "name": "stdout",
     "output_type": "stream",
     "text": [
      "Epoch 91: train loss: 1.276, train balanced acc: 0.42, test loss: 1.360, test balanced acc: 0.33, lr: 1.220703125e-08\n"
     ]
    },
    {
     "name": "stderr",
     "output_type": "stream",
     "text": [
      "Training model:  93%|█████████▎| 93/100 [00:58<00:04,  1.62it/s]"
     ]
    },
    {
     "name": "stdout",
     "output_type": "stream",
     "text": [
      "Epoch 92: train loss: 1.270, train balanced acc: 0.43, test loss: 1.360, test balanced acc: 0.33, lr: 1.220703125e-08\n"
     ]
    },
    {
     "name": "stderr",
     "output_type": "stream",
     "text": [
      "Training model:  94%|█████████▍| 94/100 [00:59<00:03,  1.60it/s]"
     ]
    },
    {
     "name": "stdout",
     "output_type": "stream",
     "text": [
      "Epoch 93: train loss: 1.278, train balanced acc: 0.42, test loss: 1.362, test balanced acc: 0.33, lr: 1.220703125e-08\n"
     ]
    },
    {
     "name": "stderr",
     "output_type": "stream",
     "text": [
      "Training model:  95%|█████████▌| 95/100 [01:00<00:03,  1.56it/s]"
     ]
    },
    {
     "name": "stdout",
     "output_type": "stream",
     "text": [
      "Epoch 94: train loss: 1.270, train balanced acc: 0.41, test loss: 1.361, test balanced acc: 0.33, lr: 1.220703125e-08\n"
     ]
    },
    {
     "name": "stderr",
     "output_type": "stream",
     "text": [
      "Training model:  96%|█████████▌| 96/100 [01:00<00:02,  1.58it/s]"
     ]
    },
    {
     "name": "stdout",
     "output_type": "stream",
     "text": [
      "Epoch 95: train loss: 1.273, train balanced acc: 0.40, test loss: 1.360, test balanced acc: 0.33, lr: 1.220703125e-08\n"
     ]
    },
    {
     "name": "stderr",
     "output_type": "stream",
     "text": [
      "Training model:  97%|█████████▋| 97/100 [01:01<00:01,  1.59it/s]"
     ]
    },
    {
     "name": "stdout",
     "output_type": "stream",
     "text": [
      "Epoch 96: train loss: 1.270, train balanced acc: 0.42, test loss: 1.361, test balanced acc: 0.33, lr: 1.220703125e-08\n"
     ]
    },
    {
     "name": "stderr",
     "output_type": "stream",
     "text": [
      "Training model:  98%|█████████▊| 98/100 [01:02<00:01,  1.58it/s]"
     ]
    },
    {
     "name": "stdout",
     "output_type": "stream",
     "text": [
      "Epoch 97: train loss: 1.280, train balanced acc: 0.41, test loss: 1.360, test balanced acc: 0.33, lr: 1.220703125e-08\n"
     ]
    },
    {
     "name": "stderr",
     "output_type": "stream",
     "text": [
      "Training model:  99%|█████████▉| 99/100 [01:02<00:00,  1.58it/s]"
     ]
    },
    {
     "name": "stdout",
     "output_type": "stream",
     "text": [
      "Epoch 98: train loss: 1.275, train balanced acc: 0.40, test loss: 1.361, test balanced acc: 0.33, lr: 1.220703125e-08\n"
     ]
    },
    {
     "name": "stderr",
     "output_type": "stream",
     "text": [
      "Training model: 100%|██████████| 100/100 [01:03<00:00,  1.58it/s]"
     ]
    },
    {
     "name": "stdout",
     "output_type": "stream",
     "text": [
      "Epoch 99: train loss: 1.278, train balanced acc: 0.41, test loss: 1.362, test balanced acc: 0.33, lr: 1.220703125e-08\n"
     ]
    },
    {
     "name": "stderr",
     "output_type": "stream",
     "text": [
      "\n"
     ]
    }
   ],
   "execution_count": 18
  },
  {
   "metadata": {},
   "cell_type": "code",
   "outputs": [],
   "execution_count": null,
   "source": "",
   "id": "b7efeba6f7e09c24"
  }
 ],
 "metadata": {
  "kernelspec": {
   "display_name": "Python 3",
   "language": "python",
   "name": "python3"
  },
  "language_info": {
   "codemirror_mode": {
    "name": "ipython",
    "version": 2
   },
   "file_extension": ".py",
   "mimetype": "text/x-python",
   "name": "python",
   "nbconvert_exporter": "python",
   "pygments_lexer": "ipython2",
   "version": "2.7.6"
  }
 },
 "nbformat": 4,
 "nbformat_minor": 5
}

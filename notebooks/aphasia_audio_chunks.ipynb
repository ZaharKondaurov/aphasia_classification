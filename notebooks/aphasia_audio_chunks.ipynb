{
 "cells": [
  {
   "cell_type": "code",
   "execution_count": 1,
   "id": "b1041a88-32d9-4235-a034-ca22f00cbf87",
   "metadata": {},
   "outputs": [],
   "source": [
    "import os\n",
    "import random\n",
    "import torch\n",
    "import torchaudio\n",
    "import librosa\n",
    "import time\n",
    "import numpy as np\n",
    "from io import BytesIO\n",
    "from tqdm import tqdm\n",
    "from pydub import AudioSegment\n",
    "from torch import nn, optim\n",
    "from torch.optim import Adam\n",
    "from torch.optim.lr_scheduler import ReduceLROnPlateau\n",
    "from torch.utils.data import Dataset, DataLoader, random_split, WeightedRandomSampler\n",
    "from torchaudio.transforms import Resample\n",
    "from sklearn.metrics import accuracy_score, precision_score, recall_score, f1_score\n",
    "from torch.utils.data import random_split\n",
    "from torchaudio.transforms import Resample\n",
    "from pydub import AudioSegment\n",
    "from collections import Counter"
   ]
  },
  {
   "cell_type": "code",
   "execution_count": 2,
   "id": "45acdd9a-997b-4e09-b63a-307fa3a4d8a0",
   "metadata": {},
   "outputs": [],
   "source": [
    "import os\n",
    "import random\n",
    "import torch\n",
    "import torchaudio\n",
    "from torch.utils.data import Dataset, DataLoader, WeightedRandomSampler\n",
    "from pydub import AudioSegment\n",
    "from io import BytesIO\n",
    "import librosa\n",
    "import numpy as np\n",
    "from torchaudio.transforms import Resample\n",
    "\n",
    "class AphasiaDataset(Dataset):\n",
    "    def __init__(self, root_dir, target_sample_rate=16000, fft_size=512, \n",
    "                hop_length=256, win_length=512, min_duration=10, max_duration=30):\n",
    "        self.root_dir = root_dir\n",
    "        self.target_sample_rate = target_sample_rate\n",
    "        self.fft_size = fft_size\n",
    "        self.hop_length = hop_length\n",
    "        self.win_length = win_length\n",
    "        self.min_duration = min_duration * 1000  # конвертируем в миллисекунды\n",
    "        self.max_duration = max_duration * 1000\n",
    "        self.data = []\n",
    "\n",
    "        # Собираем исходные данные\n",
    "        raw_data = []\n",
    "        for label, folder in enumerate([\"Aphasia\", \"Norm\"]):\n",
    "            folder_path = os.path.join(root_dir, folder)\n",
    "            if not os.path.exists(folder_path):\n",
    "                continue\n",
    "            for file_name in os.listdir(folder_path):\n",
    "                if file_name.endswith(\".3gp\"):\n",
    "                    file_path = os.path.join(folder_path, file_name)\n",
    "                    raw_data.append((file_path, label))\n",
    "\n",
    "        # Обработка и сегментация аудио\n",
    "        for file_path, label in raw_data:\n",
    "            try:\n",
    "                segments = self.process_audio(file_path)\n",
    "                self.data.extend([(s, label) for s in segments])\n",
    "            except Exception as e:\n",
    "                print(f\"Error processing {file_path}: {str(e)}\")\n",
    "\n",
    "        # Балансировка классов\n",
    "        self.balance_classes()\n",
    "        random.shuffle(self.data)\n",
    "\n",
    "    def balance_classes(self):\n",
    "        # Подсчет количества образцов для каждого класса\n",
    "        class_counts = {}\n",
    "        for _, label in self.data:\n",
    "            class_counts[label] = class_counts.get(label, 0) + 1\n",
    "        \n",
    "        if len(class_counts) < 2:\n",
    "            return\n",
    "            \n",
    "        # Определение весов для семплера\n",
    "        weights = [1/class_counts[label] for _, label in self.data]\n",
    "        sampler = WeightedRandomSampler(weights, len(weights), replacement=True)\n",
    "        self.sampler = sampler\n",
    "\n",
    "    def process_audio(self, file_path):\n",
    "        audio = AudioSegment.from_file(file_path, format=\"3gp\")\n",
    "        duration = len(audio)  # в миллисекундах\n",
    "        segments = []\n",
    "\n",
    "        # Короткие файлы обрабатываем целиком\n",
    "        if duration < self.min_duration:\n",
    "            return [self.create_spectrogram(audio)]\n",
    "            \n",
    "        # Нарезка на сегменты\n",
    "        start = 0\n",
    "        while start + self.min_duration <= duration:\n",
    "            segment_duration = min(\n",
    "                random.randint(self.min_duration, self.max_duration),\n",
    "                duration - start\n",
    "            )\n",
    "            end = start + segment_duration\n",
    "            segment = audio[start:end]\n",
    "            spectrogram = self.create_spectrogram(segment)\n",
    "            if spectrogram is not None:\n",
    "                segments.append(spectrogram)\n",
    "            start = end  # Следующий сегмент начинается с конца текущего\n",
    "\n",
    "        return segments\n",
    "\n",
    "    def create_spectrogram(self, segment):\n",
    "        try:\n",
    "            # Конвертация в waveform\n",
    "            buffer = BytesIO()\n",
    "            segment.export(buffer, format=\"wav\")\n",
    "            buffer.seek(0)\n",
    "            waveform, sample_rate = torchaudio.load(buffer)\n",
    "            \n",
    "            # Ресемплинг\n",
    "            if sample_rate != self.target_sample_rate:\n",
    "                resampler = Resample(sample_rate, self.target_sample_rate)\n",
    "                waveform = resampler(waveform)\n",
    "            \n",
    "            # Проверка минимальной длины\n",
    "            if waveform.shape[1] < self.fft_size:\n",
    "                return None\n",
    "                \n",
    "            # Создание спектрограммы\n",
    "            y = waveform.numpy().squeeze()\n",
    "            spectrogram = librosa.stft(\n",
    "                y, \n",
    "                n_fft=self.fft_size,\n",
    "                hop_length=self.hop_length,\n",
    "                win_length=self.win_length\n",
    "            )\n",
    "            mag = np.abs(spectrogram).astype(np.float32)\n",
    "            return torch.tensor(mag.T).unsqueeze(0)  # (1, T, F)\n",
    "            \n",
    "        except Exception as e:\n",
    "            print(f\"Spectrogram error: {str(e)}\")\n",
    "            return None\n",
    "\n",
    "    def __len__(self):\n",
    "        return len(self.data)\n",
    "\n",
    "    def __getitem__(self, idx):\n",
    "        spectrogram, label = self.data[idx]\n",
    "        return spectrogram, torch.tensor(label, dtype=torch.long)\n",
    "\n",
    "def pad_sequence(batch):\n",
    "    # Обработка пустых батчей\n",
    "    if not batch:\n",
    "        return torch.zeros(0), torch.zeros(0)\n",
    "    \n",
    "    spectrograms, labels = zip(*batch)\n",
    "    \n",
    "    # Определение максимальной длины\n",
    "    max_len = max(s.shape[1] for s in spectrograms)\n",
    "    freq_bins = spectrograms[0].shape[2]\n",
    "    \n",
    "    # Создание паддинг-тензора\n",
    "    padded = torch.zeros(len(spectrograms), 1, max_len, freq_bins)\n",
    "    for i, s in enumerate(spectrograms):\n",
    "        padded[i, :, :s.shape[1], :] = s\n",
    "        \n",
    "    return padded, torch.stack(labels)"
   ]
  },
  {
   "cell_type": "code",
   "execution_count": 3,
   "id": "75758b0c-6b42-4873-b093-f3d97930b6ed",
   "metadata": {},
   "outputs": [
    {
     "name": "stdout",
     "output_type": "stream",
     "text": [
      "Время на создание датасета: 198.43577003479004\n"
     ]
    }
   ],
   "source": [
    "t = time.time()\n",
    "dataset = AphasiaDataset(\"aphasia\")\n",
    "print(f\"Время на создание датасета: {time.time() - t}\")"
   ]
  },
  {
   "cell_type": "markdown",
   "id": "0bfb7445-f4bf-4a6d-a907-e3456a9b773e",
   "metadata": {},
   "source": [
    "было Train samples: 648, Test samples: 162"
   ]
  },
  {
   "cell_type": "markdown",
   "id": "db1450e6-5554-4caf-b69c-408db0e5a14b",
   "metadata": {},
   "source": [
    "Повыводил, в среднем примерно от 700 до 1800. Это базовая нарезка(то есть без учета того что может в кусок попатсь молчание)"
   ]
  },
  {
   "cell_type": "code",
   "execution_count": 4,
   "id": "9887303a-351d-419b-9b72-0258b7fab584",
   "metadata": {},
   "outputs": [],
   "source": [
    "# Удаляем балансировку из конструктора класса\n",
    "del dataset.sampler  # если sampler был создан в balance_classes()\n",
    "\n",
    "# Разделение на train/test БЕЗ использования sampler на этом этапе\n",
    "total_size = len(dataset)\n",
    "train_size = int(0.8 * total_size)\n",
    "test_size = total_size - train_size\n",
    "train_dataset, test_dataset = random_split(dataset, [train_size, test_size])\n",
    "\n",
    "# Создаем веса только для тренировочного набора\n",
    "train_labels = [dataset.data[i][1] for i in train_dataset.indices]\n",
    "class_counts = Counter(train_labels)\n",
    "\n",
    "# Проверяем что есть оба класса\n",
    "if len(class_counts) < 2:\n",
    "    raise ValueError(\"Один из классов отсутствует в тренировочном наборе\")\n",
    "\n",
    "class_weights = {label: 1.0 / count for label, count in class_counts.items()}\n",
    "weights = [class_weights[label] for label in train_labels]\n",
    "\n",
    "# Создаем sampler только для тренировочного набора\n",
    "train_sampler = WeightedRandomSampler(weights, num_samples=len(train_dataset), replacement=True)\n",
    "\n",
    "# Создаем DataLoader'ы\n",
    "train_dataloader = DataLoader(\n",
    "    train_dataset,\n",
    "    batch_size=4,\n",
    "    sampler=train_sampler,\n",
    "    collate_fn=pad_sequence,\n",
    "    drop_last=True  # добавляем для игнорирования последнего неполного батча\n",
    ")\n",
    "\n",
    "test_dataloader = DataLoader(\n",
    "    test_dataset,\n",
    "    batch_size=4,\n",
    "    shuffle=False,\n",
    "    collate_fn=pad_sequence,\n",
    "    drop_last=True\n",
    ")"
   ]
  },
  {
   "cell_type": "code",
   "execution_count": 5,
   "id": "4fd0d2a0-0bbd-445a-8d15-813597dff0ed",
   "metadata": {},
   "outputs": [
    {
     "name": "stdout",
     "output_type": "stream",
     "text": [
      "torch.Size([4, 1, 1837, 257]) torch.Size([4])\n",
      "tensor([0, 0, 0, 1])\n"
     ]
    }
   ],
   "source": [
    "for w, m in train_dataloader:\n",
    "    print(w.shape, m.shape)\n",
    "    print(m)\n",
    "    break"
   ]
  },
  {
   "cell_type": "code",
   "execution_count": 6,
   "id": "8ab596f2-6829-4f0c-993b-0a0e4376e425",
   "metadata": {},
   "outputs": [
    {
     "name": "stdout",
     "output_type": "stream",
     "text": [
      "583 146\n"
     ]
    }
   ],
   "source": [
    "print(len(train_dataloader), len(test_dataloader))"
   ]
  },
  {
   "cell_type": "code",
   "execution_count": 7,
   "id": "5ddaffa5-cff2-4e7d-af93-5bc502a26171",
   "metadata": {},
   "outputs": [
    {
     "name": "stdout",
     "output_type": "stream",
     "text": [
      "2917\n"
     ]
    }
   ],
   "source": [
    "print(total_size)"
   ]
  },
  {
   "cell_type": "code",
   "execution_count": 8,
   "id": "fceb21b1-4933-4ebe-b7a6-c75eed705751",
   "metadata": {},
   "outputs": [],
   "source": [
    "class TimeDistributed(nn.Module):\n",
    "    def __init__(self, module, batch_first=True):\n",
    "        super(TimeDistributed, self).__init__()\n",
    "        self.module = module\n",
    "        self.batch_first = batch_first\n",
    "\n",
    "    def forward(self, input_seq):\n",
    "        assert len(input_seq.size()) > 2\n",
    "        reshaped_input = input_seq.contiguous().view(-1, input_seq.size(-1))\n",
    "        output = self.module(reshaped_input)\n",
    "        if self.batch_first:\n",
    "            output = output.contiguous().view(input_seq.size(0), -1, output.size(-1))\n",
    "        else:\n",
    "            output = output.contiguous().view(-1, input_seq.size(1), output.size(-1))\n",
    "        return output\n",
    "\n",
    "\n",
    "class CNN_BLSTM(nn.Module):\n",
    "    def __init__(self, num_classes=2):\n",
    "        super(CNN_BLSTM, self).__init__()\n",
    "        # CNN\n",
    "        self.conv1 = nn.Sequential(\n",
    "            nn.Conv2d(in_channels=1, out_channels=16, kernel_size=(3, 3), stride=(1, 1), padding=1),\n",
    "            nn.ReLU(),\n",
    "            nn.Conv2d(16, 16, (3, 3), (1, 1), 1),\n",
    "            nn.ReLU(),\n",
    "            nn.Conv2d(16, 16, (3, 3), (1, 3), 1),\n",
    "            nn.ReLU(),\n",
    "        )\n",
    "        self.conv2 = nn.Sequential(\n",
    "            nn.Conv2d(in_channels=16, out_channels=32, kernel_size=(3, 3), stride=(1, 1), padding=1),\n",
    "            nn.ReLU(),\n",
    "            nn.Conv2d(32, 32, (3, 3), (1, 1), 1),\n",
    "            nn.ReLU(),\n",
    "            nn.Conv2d(32, 32, (3, 3), (1, 3), 1),\n",
    "            nn.ReLU(),\n",
    "        )\n",
    "        self.conv3 = nn.Sequential(\n",
    "            nn.Conv2d(in_channels=32, out_channels=64, kernel_size=(3, 3), stride=(1, 1), padding=1),\n",
    "            nn.ReLU(),\n",
    "            nn.Conv2d(64, 64, (3, 3), (1, 1), 1),\n",
    "            nn.ReLU(),\n",
    "            nn.Conv2d(64, 64, (3, 3), (1, 3), 1),\n",
    "            nn.ReLU(),\n",
    "        )\n",
    "        self.conv4 = nn.Sequential(\n",
    "            nn.Conv2d(in_channels=64, out_channels=128, kernel_size=(3, 3), stride=(1, 1), padding=1),\n",
    "            nn.ReLU(),\n",
    "            nn.Conv2d(128, 128, (3, 3), (1, 1), 1),\n",
    "            nn.ReLU(),\n",
    "            nn.Conv2d(128, 128, (3, 3), (1, 3), 1),\n",
    "            nn.ReLU(),\n",
    "        )\n",
    "\n",
    "        # BLSTM\n",
    "        self.blstm1 = nn.LSTM(512, 128, bidirectional=True, batch_first=True)\n",
    "        self.dropout = nn.Dropout(0.3)\n",
    "\n",
    "        # Fully Connected\n",
    "        self.flatten = TimeDistributed(nn.Flatten(), batch_first=True)\n",
    "        self.dense1 = nn.Sequential(\n",
    "            TimeDistributed(nn.Linear(in_features=256, out_features=128), batch_first=True),\n",
    "            nn.ReLU(),\n",
    "            nn.Dropout(0.3),\n",
    "        )\n",
    "\n",
    "        # Final classification layer\n",
    "        self.final_linear = nn.Linear(128, num_classes)\n",
    "\n",
    "    def forward(self, forward_input):\n",
    "        conv1_output = self.conv1(forward_input)\n",
    "        conv2_output = self.conv2(conv1_output)\n",
    "        conv3_output = self.conv3(conv2_output)\n",
    "        conv4_output = self.conv4(conv3_output)\n",
    "\n",
    "        # Reshape for LSTM\n",
    "        conv4_output = conv4_output.permute(0, 2, 1, 3)\n",
    "        conv4_output = torch.reshape(conv4_output, (conv4_output.shape[0], conv4_output.shape[1], 4 * 128))\n",
    "\n",
    "        # BLSTM\n",
    "        blstm_output, _ = self.blstm1(conv4_output)\n",
    "        blstm_output = self.dropout(blstm_output)\n",
    "\n",
    "        # Fully Connected\n",
    "        flatten_output = self.flatten(blstm_output)\n",
    "        fc_output = self.dense1(flatten_output)\n",
    "        #print(fc_output.shape)\n",
    "        # Apply final linear layer to the last time step\n",
    "        logits = self.final_linear(fc_output[:, -1, :])  # [batch_size, num_classes]\n",
    "  \n",
    "        return logits  # [batch_size, num_classes]"
   ]
  },
  {
   "cell_type": "code",
   "execution_count": 9,
   "id": "80fcf268-ab86-436e-84f9-eb91bdb0f585",
   "metadata": {},
   "outputs": [],
   "source": [
    "def evaluate_model(model, dataloader, criterion, device):\n",
    "    model.eval()\n",
    "    acc = 0.0\n",
    "    prec = 0.0\n",
    "    rec = 0.0\n",
    "\n",
    "    with torch.no_grad():\n",
    "        for spectrograms, labels in tqdm(dataloader, desc=\"Validation\"):\n",
    "            spectrograms = spectrograms.to(device)\n",
    "            labels = labels.to(device)\n",
    "            \n",
    "            outputs = model(spectrograms)\n",
    "            preds = torch.argmax(outputs, dim=1).cpu().numpy()  # Получаем предсказанные классы\n",
    "            labels = labels.cpu().numpy()\n",
    "            #print(preds, labels)\n",
    "            acc += accuracy_score(labels, preds)\n",
    "            prec += precision_score(labels, preds, zero_division=1)\n",
    "            rec += recall_score(labels, preds, zero_division=1)\n",
    "            #print(acc, prec, rec)\n",
    "\n",
    "    acc = acc / len(dataloader)\n",
    "    prec = prec / len(dataloader)\n",
    "    rec = rec / len(dataloader)\n",
    "\n",
    "    return acc, prec, rec"
   ]
  },
  {
   "cell_type": "code",
   "execution_count": 11,
   "id": "78abd4f1-7de6-40c6-8016-29bf42c3b257",
   "metadata": {},
   "outputs": [],
   "source": [
    "device = torch.device(\"cuda\" if torch.cuda.is_available() else \"cpu\")\n",
    "num_classes = 2\n",
    "model = CNN_BLSTM(num_classes).to(device)\n",
    "criterion = nn.CrossEntropyLoss()  # Используем CrossEntropyLoss для многоклассовой классификации\n",
    "optimizer = optim.Adam(model.parameters(), lr=1e-4)\n",
    "num_epochs = 50\n",
    "#scheduler = ReduceLROnPlateau(optimizer, mode='max', factor=0.5, patience=5, verbose=True)"
   ]
  },
  {
   "cell_type": "code",
   "execution_count": 12,
   "id": "1de518fa-e4e7-448c-8743-864c955196a9",
   "metadata": {},
   "outputs": [
    {
     "name": "stderr",
     "output_type": "stream",
     "text": [
      "Training Epoch 1: 100%|█████████████████████████████████████████████████████| 583/583 [01:16<00:00,  7.60it/s]\n",
      "Validation: 100%|███████████████████████████████████████████████████████████| 146/146 [00:07<00:00, 19.98it/s]\n"
     ]
    },
    {
     "name": "stdout",
     "output_type": "stream",
     "text": [
      "Epoch 1/50 - Train Loss: 0.6936\n",
      "Validation Metrics - Accuracy: 0.8699, Precision: 1.0000, Recall: 0.5616\n"
     ]
    },
    {
     "name": "stderr",
     "output_type": "stream",
     "text": [
      "Training Epoch 2: 100%|█████████████████████████████████████████████████████| 583/583 [01:55<00:00,  5.07it/s]\n",
      "Validation: 100%|███████████████████████████████████████████████████████████| 146/146 [00:07<00:00, 20.03it/s]\n"
     ]
    },
    {
     "name": "stdout",
     "output_type": "stream",
     "text": [
      "Epoch 2/50 - Train Loss: 0.6931\n",
      "Validation Metrics - Accuracy: 0.8699, Precision: 1.0000, Recall: 0.5616\n"
     ]
    },
    {
     "name": "stderr",
     "output_type": "stream",
     "text": [
      "Training Epoch 3: 100%|█████████████████████████████████████████████████████| 583/583 [01:21<00:00,  7.15it/s]\n",
      "Validation: 100%|███████████████████████████████████████████████████████████| 146/146 [00:07<00:00, 19.23it/s]\n"
     ]
    },
    {
     "name": "stdout",
     "output_type": "stream",
     "text": [
      "Epoch 3/50 - Train Loss: 0.6937\n",
      "Validation Metrics - Accuracy: 0.1301, Precision: 0.1301, Recall: 1.0000\n"
     ]
    },
    {
     "name": "stderr",
     "output_type": "stream",
     "text": [
      "Training Epoch 4: 100%|█████████████████████████████████████████████████████| 583/583 [01:25<00:00,  6.82it/s]\n",
      "Validation: 100%|███████████████████████████████████████████████████████████| 146/146 [00:07<00:00, 18.29it/s]\n"
     ]
    },
    {
     "name": "stdout",
     "output_type": "stream",
     "text": [
      "Epoch 4/50 - Train Loss: 0.6933\n",
      "Validation Metrics - Accuracy: 0.8699, Precision: 1.0000, Recall: 0.5616\n"
     ]
    },
    {
     "name": "stderr",
     "output_type": "stream",
     "text": [
      "Training Epoch 5: 100%|█████████████████████████████████████████████████████| 583/583 [01:27<00:00,  6.67it/s]\n",
      "Validation: 100%|███████████████████████████████████████████████████████████| 146/146 [00:08<00:00, 17.74it/s]\n"
     ]
    },
    {
     "name": "stdout",
     "output_type": "stream",
     "text": [
      "Epoch 5/50 - Train Loss: 0.6933\n",
      "Validation Metrics - Accuracy: 0.8476, Precision: 0.8699, Recall: 0.5947\n"
     ]
    },
    {
     "name": "stderr",
     "output_type": "stream",
     "text": [
      "Training Epoch 6: 100%|█████████████████████████████████████████████████████| 583/583 [01:30<00:00,  6.46it/s]\n",
      "Validation: 100%|███████████████████████████████████████████████████████████| 146/146 [00:08<00:00, 17.28it/s]\n"
     ]
    },
    {
     "name": "stdout",
     "output_type": "stream",
     "text": [
      "Epoch 6/50 - Train Loss: 0.6932\n",
      "Validation Metrics - Accuracy: 0.8476, Precision: 0.8973, Recall: 0.5753\n"
     ]
    },
    {
     "name": "stderr",
     "output_type": "stream",
     "text": [
      "Training Epoch 7: 100%|█████████████████████████████████████████████████████| 583/583 [01:31<00:00,  6.40it/s]\n",
      "Validation: 100%|███████████████████████████████████████████████████████████| 146/146 [00:08<00:00, 16.92it/s]\n"
     ]
    },
    {
     "name": "stdout",
     "output_type": "stream",
     "text": [
      "Epoch 7/50 - Train Loss: 0.6905\n",
      "Validation Metrics - Accuracy: 0.8236, Precision: 0.7671, Recall: 0.5982\n"
     ]
    },
    {
     "name": "stderr",
     "output_type": "stream",
     "text": [
      "Training Epoch 8: 100%|█████████████████████████████████████████████████████| 583/583 [01:34<00:00,  6.19it/s]\n",
      "Validation: 100%|███████████████████████████████████████████████████████████| 146/146 [00:08<00:00, 16.68it/s]\n"
     ]
    },
    {
     "name": "stdout",
     "output_type": "stream",
     "text": [
      "Epoch 8/50 - Train Loss: 0.6877\n",
      "Validation Metrics - Accuracy: 0.8185, Precision: 0.7397, Recall: 0.6050\n"
     ]
    },
    {
     "name": "stderr",
     "output_type": "stream",
     "text": [
      "Training Epoch 9: 100%|█████████████████████████████████████████████████████| 583/583 [01:37<00:00,  6.00it/s]\n",
      "Validation: 100%|███████████████████████████████████████████████████████████| 146/146 [00:08<00:00, 16.59it/s]\n"
     ]
    },
    {
     "name": "stdout",
     "output_type": "stream",
     "text": [
      "Epoch 9/50 - Train Loss: 0.6816\n",
      "Validation Metrics - Accuracy: 0.2705, Precision: 0.1427, Recall: 0.9703\n"
     ]
    },
    {
     "name": "stderr",
     "output_type": "stream",
     "text": [
      "Training Epoch 10: 100%|████████████████████████████████████████████████████| 583/583 [01:35<00:00,  6.11it/s]\n",
      "Validation: 100%|███████████████████████████████████████████████████████████| 146/146 [00:08<00:00, 16.60it/s]\n"
     ]
    },
    {
     "name": "stdout",
     "output_type": "stream",
     "text": [
      "Epoch 10/50 - Train Loss: 0.6678\n",
      "Validation Metrics - Accuracy: 0.2928, Precision: 0.1433, Recall: 0.9532\n"
     ]
    },
    {
     "name": "stderr",
     "output_type": "stream",
     "text": [
      "Training Epoch 11: 100%|████████████████████████████████████████████████████| 583/583 [01:35<00:00,  6.09it/s]\n",
      "Validation: 100%|███████████████████████████████████████████████████████████| 146/146 [00:08<00:00, 16.31it/s]\n"
     ]
    },
    {
     "name": "stdout",
     "output_type": "stream",
     "text": [
      "Epoch 11/50 - Train Loss: 0.6662\n",
      "Validation Metrics - Accuracy: 0.2825, Precision: 0.1461, Recall: 0.9737\n"
     ]
    },
    {
     "name": "stderr",
     "output_type": "stream",
     "text": [
      "Training Epoch 12: 100%|████████████████████████████████████████████████████| 583/583 [01:36<00:00,  6.03it/s]\n",
      "Validation: 100%|███████████████████████████████████████████████████████████| 146/146 [00:09<00:00, 16.18it/s]\n"
     ]
    },
    {
     "name": "stdout",
     "output_type": "stream",
     "text": [
      "Epoch 12/50 - Train Loss: 0.6541\n",
      "Validation Metrics - Accuracy: 0.2945, Precision: 0.1427, Recall: 0.9532\n"
     ]
    },
    {
     "name": "stderr",
     "output_type": "stream",
     "text": [
      "Training Epoch 13: 100%|████████████████████████████████████████████████████| 583/583 [01:36<00:00,  6.03it/s]\n",
      "Validation: 100%|███████████████████████████████████████████████████████████| 146/146 [00:08<00:00, 16.29it/s]\n"
     ]
    },
    {
     "name": "stdout",
     "output_type": "stream",
     "text": [
      "Epoch 13/50 - Train Loss: 0.6685\n",
      "Validation Metrics - Accuracy: 0.2774, Precision: 0.1461, Recall: 0.9772\n"
     ]
    },
    {
     "name": "stderr",
     "output_type": "stream",
     "text": [
      "Training Epoch 14: 100%|████████████████████████████████████████████████████| 583/583 [01:37<00:00,  5.95it/s]\n",
      "Validation: 100%|███████████████████████████████████████████████████████████| 146/146 [00:09<00:00, 16.11it/s]\n"
     ]
    },
    {
     "name": "stdout",
     "output_type": "stream",
     "text": [
      "Epoch 14/50 - Train Loss: 0.6544\n",
      "Validation Metrics - Accuracy: 0.2962, Precision: 0.1416, Recall: 0.9463\n"
     ]
    },
    {
     "name": "stderr",
     "output_type": "stream",
     "text": [
      "Training Epoch 15: 100%|████████████████████████████████████████████████████| 583/583 [01:37<00:00,  6.01it/s]\n",
      "Validation: 100%|███████████████████████████████████████████████████████████| 146/146 [00:09<00:00, 16.00it/s]\n"
     ]
    },
    {
     "name": "stdout",
     "output_type": "stream",
     "text": [
      "Epoch 15/50 - Train Loss: 0.6569\n",
      "Validation Metrics - Accuracy: 0.2894, Precision: 0.1404, Recall: 0.9463\n"
     ]
    },
    {
     "name": "stderr",
     "output_type": "stream",
     "text": [
      "Training Epoch 16: 100%|████████████████████████████████████████████████████| 583/583 [01:39<00:00,  5.88it/s]\n",
      "Validation: 100%|███████████████████████████████████████████████████████████| 146/146 [00:09<00:00, 15.63it/s]\n"
     ]
    },
    {
     "name": "stdout",
     "output_type": "stream",
     "text": [
      "Epoch 16/50 - Train Loss: 0.6489\n",
      "Validation Metrics - Accuracy: 0.2688, Precision: 0.1387, Recall: 0.9555\n"
     ]
    },
    {
     "name": "stderr",
     "output_type": "stream",
     "text": [
      "Training Epoch 17: 100%|████████████████████████████████████████████████████| 583/583 [01:40<00:00,  5.82it/s]\n",
      "Validation: 100%|███████████████████████████████████████████████████████████| 146/146 [00:09<00:00, 15.96it/s]\n"
     ]
    },
    {
     "name": "stdout",
     "output_type": "stream",
     "text": [
      "Epoch 17/50 - Train Loss: 0.6479\n",
      "Validation Metrics - Accuracy: 0.2791, Precision: 0.1393, Recall: 0.9486\n"
     ]
    },
    {
     "name": "stderr",
     "output_type": "stream",
     "text": [
      "Training Epoch 18: 100%|████████████████████████████████████████████████████| 583/583 [01:42<00:00,  5.67it/s]\n",
      "Validation: 100%|███████████████████████████████████████████████████████████| 146/146 [00:09<00:00, 15.89it/s]\n"
     ]
    },
    {
     "name": "stdout",
     "output_type": "stream",
     "text": [
      "Epoch 18/50 - Train Loss: 0.6437\n",
      "Validation Metrics - Accuracy: 0.3253, Precision: 0.1473, Recall: 0.9475\n"
     ]
    },
    {
     "name": "stderr",
     "output_type": "stream",
     "text": [
      "Training Epoch 19: 100%|████████████████████████████████████████████████████| 583/583 [01:43<00:00,  5.63it/s]\n",
      "Validation: 100%|███████████████████████████████████████████████████████████| 146/146 [00:09<00:00, 15.86it/s]\n"
     ]
    },
    {
     "name": "stdout",
     "output_type": "stream",
     "text": [
      "Epoch 19/50 - Train Loss: 0.5915\n",
      "Validation Metrics - Accuracy: 0.8048, Precision: 0.5811, Recall: 0.8893\n"
     ]
    },
    {
     "name": "stderr",
     "output_type": "stream",
     "text": [
      "Training Epoch 20: 100%|████████████████████████████████████████████████████| 583/583 [01:46<00:00,  5.49it/s]\n",
      "Validation: 100%|███████████████████████████████████████████████████████████| 146/146 [00:09<00:00, 15.56it/s]\n"
     ]
    },
    {
     "name": "stdout",
     "output_type": "stream",
     "text": [
      "Epoch 20/50 - Train Loss: 0.5108\n",
      "Validation Metrics - Accuracy: 0.5993, Precision: 0.2568, Recall: 0.9543\n"
     ]
    },
    {
     "name": "stderr",
     "output_type": "stream",
     "text": [
      "Training Epoch 21: 100%|████████████████████████████████████████████████████| 583/583 [01:44<00:00,  5.57it/s]\n",
      "Validation: 100%|███████████████████████████████████████████████████████████| 146/146 [00:09<00:00, 15.80it/s]\n"
     ]
    },
    {
     "name": "stdout",
     "output_type": "stream",
     "text": [
      "Epoch 21/50 - Train Loss: 0.5166\n",
      "Validation Metrics - Accuracy: 0.7158, Precision: 0.4304, Recall: 0.8779\n"
     ]
    },
    {
     "name": "stderr",
     "output_type": "stream",
     "text": [
      "Training Epoch 22: 100%|████████████████████████████████████████████████████| 583/583 [01:47<00:00,  5.43it/s]\n",
      "Validation: 100%|███████████████████████████████████████████████████████████| 146/146 [00:09<00:00, 15.75it/s]\n"
     ]
    },
    {
     "name": "stdout",
     "output_type": "stream",
     "text": [
      "Epoch 22/50 - Train Loss: 0.4808\n",
      "Validation Metrics - Accuracy: 0.8082, Precision: 0.5537, Recall: 0.8847\n"
     ]
    },
    {
     "name": "stderr",
     "output_type": "stream",
     "text": [
      "Training Epoch 23: 100%|████████████████████████████████████████████████████| 583/583 [01:47<00:00,  5.44it/s]\n",
      "Validation: 100%|███████████████████████████████████████████████████████████| 146/146 [00:09<00:00, 15.73it/s]\n"
     ]
    },
    {
     "name": "stdout",
     "output_type": "stream",
     "text": [
      "Epoch 23/50 - Train Loss: 0.4867\n",
      "Validation Metrics - Accuracy: 0.6747, Precision: 0.3664, Recall: 0.9053\n"
     ]
    },
    {
     "name": "stderr",
     "output_type": "stream",
     "text": [
      "Training Epoch 24: 100%|████████████████████████████████████████████████████| 583/583 [01:46<00:00,  5.49it/s]\n",
      "Validation: 100%|███████████████████████████████████████████████████████████| 146/146 [00:09<00:00, 15.61it/s]\n"
     ]
    },
    {
     "name": "stdout",
     "output_type": "stream",
     "text": [
      "Epoch 24/50 - Train Loss: 0.4494\n",
      "Validation Metrics - Accuracy: 0.8031, Precision: 0.5776, Recall: 0.9018\n"
     ]
    },
    {
     "name": "stderr",
     "output_type": "stream",
     "text": [
      "Training Epoch 25: 100%|████████████████████████████████████████████████████| 583/583 [01:46<00:00,  5.47it/s]\n",
      "Validation: 100%|███████████████████████████████████████████████████████████| 146/146 [00:09<00:00, 15.38it/s]\n"
     ]
    },
    {
     "name": "stdout",
     "output_type": "stream",
     "text": [
      "Epoch 25/50 - Train Loss: 0.4964\n",
      "Validation Metrics - Accuracy: 0.7894, Precision: 0.5479, Recall: 0.9212\n"
     ]
    },
    {
     "name": "stderr",
     "output_type": "stream",
     "text": [
      "Training Epoch 26: 100%|████████████████████████████████████████████████████| 583/583 [01:46<00:00,  5.47it/s]\n",
      "Validation: 100%|███████████████████████████████████████████████████████████| 146/146 [00:09<00:00, 15.54it/s]\n"
     ]
    },
    {
     "name": "stdout",
     "output_type": "stream",
     "text": [
      "Epoch 26/50 - Train Loss: 0.4720\n",
      "Validation Metrics - Accuracy: 0.8750, Precision: 0.7614, Recall: 0.8539\n"
     ]
    },
    {
     "name": "stderr",
     "output_type": "stream",
     "text": [
      "Training Epoch 27: 100%|████████████████████████████████████████████████████| 583/583 [01:46<00:00,  5.45it/s]\n",
      "Validation: 100%|███████████████████████████████████████████████████████████| 146/146 [00:09<00:00, 15.78it/s]\n"
     ]
    },
    {
     "name": "stdout",
     "output_type": "stream",
     "text": [
      "Epoch 27/50 - Train Loss: 0.4305\n",
      "Validation Metrics - Accuracy: 0.7860, Precision: 0.5126, Recall: 0.8995\n"
     ]
    },
    {
     "name": "stderr",
     "output_type": "stream",
     "text": [
      "Training Epoch 28: 100%|████████████████████████████████████████████████████| 583/583 [01:47<00:00,  5.43it/s]\n",
      "Validation: 100%|███████████████████████████████████████████████████████████| 146/146 [00:09<00:00, 15.68it/s]\n"
     ]
    },
    {
     "name": "stdout",
     "output_type": "stream",
     "text": [
      "Epoch 28/50 - Train Loss: 0.4219\n",
      "Validation Metrics - Accuracy: 0.8853, Precision: 0.8299, Recall: 0.8139\n"
     ]
    },
    {
     "name": "stderr",
     "output_type": "stream",
     "text": [
      "Training Epoch 29: 100%|████████████████████████████████████████████████████| 583/583 [01:47<00:00,  5.42it/s]\n",
      "Validation: 100%|███████████████████████████████████████████████████████████| 146/146 [00:09<00:00, 15.71it/s]\n"
     ]
    },
    {
     "name": "stdout",
     "output_type": "stream",
     "text": [
      "Epoch 29/50 - Train Loss: 0.4606\n",
      "Validation Metrics - Accuracy: 0.8904, Precision: 0.9212, Recall: 0.7295\n"
     ]
    },
    {
     "name": "stderr",
     "output_type": "stream",
     "text": [
      "Training Epoch 30: 100%|████████████████████████████████████████████████████| 583/583 [01:47<00:00,  5.43it/s]\n",
      "Validation: 100%|███████████████████████████████████████████████████████████| 146/146 [00:09<00:00, 15.49it/s]\n"
     ]
    },
    {
     "name": "stdout",
     "output_type": "stream",
     "text": [
      "Epoch 30/50 - Train Loss: 0.4595\n",
      "Validation Metrics - Accuracy: 0.7517, Precision: 0.4669, Recall: 0.8881\n"
     ]
    },
    {
     "name": "stderr",
     "output_type": "stream",
     "text": [
      "Training Epoch 31: 100%|████████████████████████████████████████████████████| 583/583 [01:45<00:00,  5.51it/s]\n",
      "Validation: 100%|███████████████████████████████████████████████████████████| 146/146 [00:09<00:00, 15.92it/s]\n"
     ]
    },
    {
     "name": "stdout",
     "output_type": "stream",
     "text": [
      "Epoch 31/50 - Train Loss: 0.4586\n",
      "Validation Metrics - Accuracy: 0.6764, Precision: 0.3191, Recall: 0.9406\n"
     ]
    },
    {
     "name": "stderr",
     "output_type": "stream",
     "text": [
      "Training Epoch 32: 100%|████████████████████████████████████████████████████| 583/583 [01:46<00:00,  5.49it/s]\n",
      "Validation: 100%|███████████████████████████████████████████████████████████| 146/146 [00:09<00:00, 15.53it/s]\n"
     ]
    },
    {
     "name": "stdout",
     "output_type": "stream",
     "text": [
      "Epoch 32/50 - Train Loss: 0.4198\n",
      "Validation Metrics - Accuracy: 0.8425, Precision: 0.6735, Recall: 0.8379\n"
     ]
    },
    {
     "name": "stderr",
     "output_type": "stream",
     "text": [
      "Training Epoch 33: 100%|████████████████████████████████████████████████████| 583/583 [01:43<00:00,  5.63it/s]\n",
      "Validation: 100%|███████████████████████████████████████████████████████████| 146/146 [00:09<00:00, 15.87it/s]\n"
     ]
    },
    {
     "name": "stdout",
     "output_type": "stream",
     "text": [
      "Epoch 33/50 - Train Loss: 0.4263\n",
      "Validation Metrics - Accuracy: 0.7072, Precision: 0.3864, Recall: 0.9463\n"
     ]
    },
    {
     "name": "stderr",
     "output_type": "stream",
     "text": [
      "Training Epoch 34: 100%|████████████████████████████████████████████████████| 583/583 [01:44<00:00,  5.55it/s]\n",
      "Validation: 100%|███████████████████████████████████████████████████████████| 146/146 [00:09<00:00, 15.81it/s]\n"
     ]
    },
    {
     "name": "stdout",
     "output_type": "stream",
     "text": [
      "Epoch 34/50 - Train Loss: 0.4732\n",
      "Validation Metrics - Accuracy: 0.8442, Precision: 0.6313, Recall: 0.8995\n"
     ]
    },
    {
     "name": "stderr",
     "output_type": "stream",
     "text": [
      "Training Epoch 35: 100%|████████████████████████████████████████████████████| 583/583 [01:44<00:00,  5.59it/s]\n",
      "Validation: 100%|███████████████████████████████████████████████████████████| 146/146 [00:09<00:00, 15.89it/s]\n"
     ]
    },
    {
     "name": "stdout",
     "output_type": "stream",
     "text": [
      "Epoch 35/50 - Train Loss: 0.4957\n",
      "Validation Metrics - Accuracy: 0.6610, Precision: 0.3539, Recall: 0.9486\n"
     ]
    },
    {
     "name": "stderr",
     "output_type": "stream",
     "text": [
      "Training Epoch 36: 100%|████████████████████████████████████████████████████| 583/583 [01:43<00:00,  5.64it/s]\n",
      "Validation: 100%|███████████████████████████████████████████████████████████| 146/146 [00:09<00:00, 15.85it/s]\n"
     ]
    },
    {
     "name": "stdout",
     "output_type": "stream",
     "text": [
      "Epoch 36/50 - Train Loss: 0.4388\n",
      "Validation Metrics - Accuracy: 0.7243, Precision: 0.4247, Recall: 0.9189\n"
     ]
    },
    {
     "name": "stderr",
     "output_type": "stream",
     "text": [
      "Training Epoch 37: 100%|████████████████████████████████████████████████████| 583/583 [01:44<00:00,  5.55it/s]\n",
      "Validation: 100%|███████████████████████████████████████████████████████████| 146/146 [00:09<00:00, 15.91it/s]\n"
     ]
    },
    {
     "name": "stdout",
     "output_type": "stream",
     "text": [
      "Epoch 37/50 - Train Loss: 0.4553\n",
      "Validation Metrics - Accuracy: 0.8236, Precision: 0.6159, Recall: 0.8779\n"
     ]
    },
    {
     "name": "stderr",
     "output_type": "stream",
     "text": [
      "Training Epoch 38: 100%|████████████████████████████████████████████████████| 583/583 [01:43<00:00,  5.61it/s]\n",
      "Validation: 100%|███████████████████████████████████████████████████████████| 146/146 [00:09<00:00, 15.78it/s]\n"
     ]
    },
    {
     "name": "stdout",
     "output_type": "stream",
     "text": [
      "Epoch 38/50 - Train Loss: 0.4260\n",
      "Validation Metrics - Accuracy: 0.8545, Precision: 0.6769, Recall: 0.8687\n"
     ]
    },
    {
     "name": "stderr",
     "output_type": "stream",
     "text": [
      "Training Epoch 39: 100%|████████████████████████████████████████████████████| 583/583 [01:44<00:00,  5.60it/s]\n",
      "Validation: 100%|███████████████████████████████████████████████████████████| 146/146 [00:09<00:00, 15.86it/s]\n"
     ]
    },
    {
     "name": "stdout",
     "output_type": "stream",
     "text": [
      "Epoch 39/50 - Train Loss: 0.4257\n",
      "Validation Metrics - Accuracy: 0.7860, Precision: 0.5325, Recall: 0.9041\n"
     ]
    },
    {
     "name": "stderr",
     "output_type": "stream",
     "text": [
      "Training Epoch 40: 100%|████████████████████████████████████████████████████| 583/583 [01:43<00:00,  5.64it/s]\n",
      "Validation: 100%|███████████████████████████████████████████████████████████| 146/146 [00:09<00:00, 15.61it/s]\n"
     ]
    },
    {
     "name": "stdout",
     "output_type": "stream",
     "text": [
      "Epoch 40/50 - Train Loss: 0.3913\n",
      "Validation Metrics - Accuracy: 0.8510, Precision: 0.6929, Recall: 0.8584\n"
     ]
    },
    {
     "name": "stderr",
     "output_type": "stream",
     "text": [
      "Training Epoch 41: 100%|████████████████████████████████████████████████████| 583/583 [01:43<00:00,  5.62it/s]\n",
      "Validation: 100%|███████████████████████████████████████████████████████████| 146/146 [00:09<00:00, 15.88it/s]\n"
     ]
    },
    {
     "name": "stdout",
     "output_type": "stream",
     "text": [
      "Epoch 41/50 - Train Loss: 0.4120\n",
      "Validation Metrics - Accuracy: 0.8099, Precision: 0.5725, Recall: 0.9075\n"
     ]
    },
    {
     "name": "stderr",
     "output_type": "stream",
     "text": [
      "Training Epoch 42: 100%|████████████████████████████████████████████████████| 583/583 [01:43<00:00,  5.62it/s]\n",
      "Validation: 100%|███████████████████████████████████████████████████████████| 146/146 [00:09<00:00, 15.96it/s]\n"
     ]
    },
    {
     "name": "stdout",
     "output_type": "stream",
     "text": [
      "Epoch 42/50 - Train Loss: 0.4276\n",
      "Validation Metrics - Accuracy: 0.8682, Precision: 0.7397, Recall: 0.8527\n"
     ]
    },
    {
     "name": "stderr",
     "output_type": "stream",
     "text": [
      "Training Epoch 43: 100%|████████████████████████████████████████████████████| 583/583 [01:45<00:00,  5.55it/s]\n",
      "Validation: 100%|███████████████████████████████████████████████████████████| 146/146 [00:09<00:00, 15.78it/s]\n"
     ]
    },
    {
     "name": "stdout",
     "output_type": "stream",
     "text": [
      "Epoch 43/50 - Train Loss: 0.4169\n",
      "Validation Metrics - Accuracy: 0.8253, Precision: 0.6079, Recall: 0.8847\n"
     ]
    },
    {
     "name": "stderr",
     "output_type": "stream",
     "text": [
      "Training Epoch 44: 100%|████████████████████████████████████████████████████| 583/583 [01:43<00:00,  5.61it/s]\n",
      "Validation: 100%|███████████████████████████████████████████████████████████| 146/146 [00:09<00:00, 15.69it/s]\n"
     ]
    },
    {
     "name": "stdout",
     "output_type": "stream",
     "text": [
      "Epoch 44/50 - Train Loss: 0.4061\n",
      "Validation Metrics - Accuracy: 0.7620, Precision: 0.4658, Recall: 0.9155\n"
     ]
    },
    {
     "name": "stderr",
     "output_type": "stream",
     "text": [
      "Training Epoch 45: 100%|████████████████████████████████████████████████████| 583/583 [01:44<00:00,  5.58it/s]\n",
      "Validation: 100%|███████████████████████████████████████████████████████████| 146/146 [00:09<00:00, 15.79it/s]\n"
     ]
    },
    {
     "name": "stdout",
     "output_type": "stream",
     "text": [
      "Epoch 45/50 - Train Loss: 0.4221\n",
      "Validation Metrics - Accuracy: 0.8459, Precision: 0.7078, Recall: 0.7991\n"
     ]
    },
    {
     "name": "stderr",
     "output_type": "stream",
     "text": [
      "Training Epoch 46: 100%|████████████████████████████████████████████████████| 583/583 [01:45<00:00,  5.53it/s]\n",
      "Validation: 100%|███████████████████████████████████████████████████████████| 146/146 [00:09<00:00, 15.58it/s]\n"
     ]
    },
    {
     "name": "stdout",
     "output_type": "stream",
     "text": [
      "Epoch 46/50 - Train Loss: 0.4093\n",
      "Validation Metrics - Accuracy: 0.8236, Precision: 0.6221, Recall: 0.8893\n"
     ]
    },
    {
     "name": "stderr",
     "output_type": "stream",
     "text": [
      "Training Epoch 47: 100%|████████████████████████████████████████████████████| 583/583 [01:45<00:00,  5.51it/s]\n",
      "Validation: 100%|███████████████████████████████████████████████████████████| 146/146 [00:09<00:00, 15.79it/s]\n"
     ]
    },
    {
     "name": "stdout",
     "output_type": "stream",
     "text": [
      "Epoch 47/50 - Train Loss: 0.4133\n",
      "Validation Metrics - Accuracy: 0.8664, Precision: 0.7477, Recall: 0.8425\n"
     ]
    },
    {
     "name": "stderr",
     "output_type": "stream",
     "text": [
      "Training Epoch 48: 100%|████████████████████████████████████████████████████| 583/583 [01:48<00:00,  5.37it/s]\n",
      "Validation: 100%|███████████████████████████████████████████████████████████| 146/146 [00:09<00:00, 15.61it/s]\n"
     ]
    },
    {
     "name": "stdout",
     "output_type": "stream",
     "text": [
      "Epoch 48/50 - Train Loss: 0.4044\n",
      "Validation Metrics - Accuracy: 0.8134, Precision: 0.5833, Recall: 0.9087\n"
     ]
    },
    {
     "name": "stderr",
     "output_type": "stream",
     "text": [
      "Training Epoch 49: 100%|████████████████████████████████████████████████████| 583/583 [01:47<00:00,  5.43it/s]\n",
      "Validation: 100%|███████████████████████████████████████████████████████████| 146/146 [00:09<00:00, 15.65it/s]\n"
     ]
    },
    {
     "name": "stdout",
     "output_type": "stream",
     "text": [
      "Epoch 49/50 - Train Loss: 0.3921\n",
      "Validation Metrics - Accuracy: 0.8493, Precision: 0.6627, Recall: 0.9041\n"
     ]
    },
    {
     "name": "stderr",
     "output_type": "stream",
     "text": [
      "Training Epoch 50: 100%|████████████████████████████████████████████████████| 583/583 [01:48<00:00,  5.37it/s]\n",
      "Validation: 100%|███████████████████████████████████████████████████████████| 146/146 [00:09<00:00, 15.56it/s]"
     ]
    },
    {
     "name": "stdout",
     "output_type": "stream",
     "text": [
      "Epoch 50/50 - Train Loss: 0.4690\n",
      "Validation Metrics - Accuracy: 0.8271, Precision: 0.6495, Recall: 0.8733\n"
     ]
    },
    {
     "name": "stderr",
     "output_type": "stream",
     "text": [
      "\n"
     ]
    }
   ],
   "source": [
    "for epoch in range(1, num_epochs + 1):\n",
    "    model.train()\n",
    "    train_loss_list = []\n",
    "    \n",
    "    for spectrograms, labels in tqdm(train_dataloader, desc=f\"Training Epoch {epoch}\"):\n",
    "        spectrograms = spectrograms.to(device)\n",
    "        labels = labels.long().to(device)  # Метки должны быть типа long для CrossEntropyLoss\n",
    "\n",
    "        outputs = model(spectrograms)\n",
    "        \n",
    "        loss = criterion(outputs, labels)\n",
    "        optimizer.zero_grad()\n",
    "        loss.backward()\n",
    "        optimizer.step()\n",
    "        train_loss_list.append(loss.item())\n",
    "\n",
    "    avg_train_loss = torch.tensor(train_loss_list).mean().item()\n",
    "    acc, prec, rec = evaluate_model(model, test_dataloader, criterion, device)\n",
    "    \n",
    "    #scheduler.step(acc)\n",
    "    \n",
    "    print(f\"Epoch {epoch}/{num_epochs} - Train Loss: {avg_train_loss:.4f}\")\n",
    "    print(f\"Validation Metrics - Accuracy: {acc:.4f}, Precision: {prec:.4f}, Recall: {rec:.4f}\")"
   ]
  },
  {
   "cell_type": "code",
   "execution_count": 13,
   "id": "18476408-1f6c-4fed-9aa2-dc18b6d469d3",
   "metadata": {},
   "outputs": [],
   "source": [
    "device = torch.device(\"cuda\" if torch.cuda.is_available() else \"cpu\")\n",
    "num_classes = 2\n",
    "model = CNN_BLSTM(num_classes).to(device)\n",
    "criterion = nn.CrossEntropyLoss()  # Используем CrossEntropyLoss для многоклассовой классификации\n",
    "optimizer = optim.Adam(model.parameters(), lr=1e-4)\n",
    "num_epochs = 70\n",
    "#scheduler = ReduceLROnPlateau(optimizer, mode='max', factor=0.5, patience=5, verbose=True)"
   ]
  },
  {
   "cell_type": "code",
   "execution_count": 14,
   "id": "8a0a2c13-6aa4-42ca-b4dc-ef5472cf60e7",
   "metadata": {},
   "outputs": [
    {
     "name": "stderr",
     "output_type": "stream",
     "text": [
      "Training Epoch 1: 100%|█████████████████████████████████████████████████████| 583/583 [01:20<00:00,  7.27it/s]\n",
      "Validation: 100%|███████████████████████████████████████████████████████████| 146/146 [00:07<00:00, 19.14it/s]\n"
     ]
    },
    {
     "name": "stdout",
     "output_type": "stream",
     "text": [
      "Epoch 1/70 - Train Loss: 0.6935\n",
      "Validation Metrics - Accuracy: 0.1301, Precision: 0.1301, Recall: 1.0000\n"
     ]
    },
    {
     "name": "stderr",
     "output_type": "stream",
     "text": [
      "Training Epoch 2: 100%|█████████████████████████████████████████████████████| 583/583 [01:23<00:00,  6.98it/s]\n",
      "Validation: 100%|███████████████████████████████████████████████████████████| 146/146 [00:08<00:00, 17.46it/s]\n"
     ]
    },
    {
     "name": "stdout",
     "output_type": "stream",
     "text": [
      "Epoch 2/70 - Train Loss: 0.6929\n",
      "Validation Metrics - Accuracy: 0.8699, Precision: 1.0000, Recall: 0.5616\n"
     ]
    },
    {
     "name": "stderr",
     "output_type": "stream",
     "text": [
      "Training Epoch 3: 100%|█████████████████████████████████████████████████████| 583/583 [01:31<00:00,  6.38it/s]\n",
      "Validation: 100%|███████████████████████████████████████████████████████████| 146/146 [00:08<00:00, 16.88it/s]\n"
     ]
    },
    {
     "name": "stdout",
     "output_type": "stream",
     "text": [
      "Epoch 3/70 - Train Loss: 0.6934\n",
      "Validation Metrics - Accuracy: 0.8699, Precision: 1.0000, Recall: 0.5616\n"
     ]
    },
    {
     "name": "stderr",
     "output_type": "stream",
     "text": [
      "Training Epoch 4: 100%|█████████████████████████████████████████████████████| 583/583 [01:33<00:00,  6.24it/s]\n",
      "Validation: 100%|███████████████████████████████████████████████████████████| 146/146 [00:08<00:00, 16.46it/s]\n"
     ]
    },
    {
     "name": "stdout",
     "output_type": "stream",
     "text": [
      "Epoch 4/70 - Train Loss: 0.6935\n",
      "Validation Metrics - Accuracy: 0.8699, Precision: 1.0000, Recall: 0.5616\n"
     ]
    },
    {
     "name": "stderr",
     "output_type": "stream",
     "text": [
      "Training Epoch 5: 100%|█████████████████████████████████████████████████████| 583/583 [01:38<00:00,  5.95it/s]\n",
      "Validation: 100%|███████████████████████████████████████████████████████████| 146/146 [00:08<00:00, 16.25it/s]\n"
     ]
    },
    {
     "name": "stdout",
     "output_type": "stream",
     "text": [
      "Epoch 5/70 - Train Loss: 0.6935\n",
      "Validation Metrics - Accuracy: 0.8425, Precision: 0.8767, Recall: 0.5753\n"
     ]
    },
    {
     "name": "stderr",
     "output_type": "stream",
     "text": [
      "Training Epoch 6: 100%|█████████████████████████████████████████████████████| 583/583 [01:36<00:00,  6.01it/s]\n",
      "Validation: 100%|███████████████████████████████████████████████████████████| 146/146 [00:09<00:00, 16.17it/s]\n"
     ]
    },
    {
     "name": "stdout",
     "output_type": "stream",
     "text": [
      "Epoch 6/70 - Train Loss: 0.6935\n",
      "Validation Metrics - Accuracy: 0.8613, Precision: 0.9589, Recall: 0.5685\n"
     ]
    },
    {
     "name": "stderr",
     "output_type": "stream",
     "text": [
      "Training Epoch 7: 100%|█████████████████████████████████████████████████████| 583/583 [01:36<00:00,  6.02it/s]\n",
      "Validation: 100%|███████████████████████████████████████████████████████████| 146/146 [00:09<00:00, 16.05it/s]\n"
     ]
    },
    {
     "name": "stdout",
     "output_type": "stream",
     "text": [
      "Epoch 7/70 - Train Loss: 0.6928\n",
      "Validation Metrics - Accuracy: 0.8493, Precision: 0.8767, Recall: 0.5947\n"
     ]
    },
    {
     "name": "stderr",
     "output_type": "stream",
     "text": [
      "Training Epoch 8: 100%|█████████████████████████████████████████████████████| 583/583 [01:40<00:00,  5.81it/s]\n",
      "Validation: 100%|███████████████████████████████████████████████████████████| 146/146 [00:09<00:00, 15.78it/s]\n"
     ]
    },
    {
     "name": "stdout",
     "output_type": "stream",
     "text": [
      "Epoch 8/70 - Train Loss: 0.6919\n",
      "Validation Metrics - Accuracy: 0.2277, Precision: 0.1381, Recall: 0.9772\n"
     ]
    },
    {
     "name": "stderr",
     "output_type": "stream",
     "text": [
      "Training Epoch 9: 100%|█████████████████████████████████████████████████████| 583/583 [01:43<00:00,  5.62it/s]\n",
      "Validation: 100%|███████████████████████████████████████████████████████████| 146/146 [00:09<00:00, 15.53it/s]\n"
     ]
    },
    {
     "name": "stdout",
     "output_type": "stream",
     "text": [
      "Epoch 9/70 - Train Loss: 0.6847\n",
      "Validation Metrics - Accuracy: 0.2603, Precision: 0.1393, Recall: 0.9703\n"
     ]
    },
    {
     "name": "stderr",
     "output_type": "stream",
     "text": [
      "Training Epoch 10: 100%|████████████████████████████████████████████████████| 583/583 [01:43<00:00,  5.64it/s]\n",
      "Validation: 100%|███████████████████████████████████████████████████████████| 146/146 [00:09<00:00, 15.01it/s]\n"
     ]
    },
    {
     "name": "stdout",
     "output_type": "stream",
     "text": [
      "Epoch 10/70 - Train Loss: 0.6757\n",
      "Validation Metrics - Accuracy: 0.2466, Precision: 0.1404, Recall: 0.9703\n"
     ]
    },
    {
     "name": "stderr",
     "output_type": "stream",
     "text": [
      "Training Epoch 11: 100%|████████████████████████████████████████████████████| 583/583 [01:45<00:00,  5.53it/s]\n",
      "Validation: 100%|███████████████████████████████████████████████████████████| 146/146 [00:09<00:00, 15.26it/s]\n"
     ]
    },
    {
     "name": "stdout",
     "output_type": "stream",
     "text": [
      "Epoch 11/70 - Train Loss: 0.6684\n",
      "Validation Metrics - Accuracy: 0.3014, Precision: 0.1455, Recall: 0.9703\n"
     ]
    },
    {
     "name": "stderr",
     "output_type": "stream",
     "text": [
      "Training Epoch 12: 100%|████████████████████████████████████████████████████| 583/583 [01:45<00:00,  5.51it/s]\n",
      "Validation: 100%|███████████████████████████████████████████████████████████| 146/146 [00:09<00:00, 14.78it/s]\n"
     ]
    },
    {
     "name": "stdout",
     "output_type": "stream",
     "text": [
      "Epoch 12/70 - Train Loss: 0.6631\n",
      "Validation Metrics - Accuracy: 0.3134, Precision: 0.1450, Recall: 0.9566\n"
     ]
    },
    {
     "name": "stderr",
     "output_type": "stream",
     "text": [
      "Training Epoch 13: 100%|████████████████████████████████████████████████████| 583/583 [01:47<00:00,  5.42it/s]\n",
      "Validation: 100%|███████████████████████████████████████████████████████████| 146/146 [00:09<00:00, 15.06it/s]\n"
     ]
    },
    {
     "name": "stdout",
     "output_type": "stream",
     "text": [
      "Epoch 13/70 - Train Loss: 0.6628\n",
      "Validation Metrics - Accuracy: 0.2877, Precision: 0.1444, Recall: 0.9658\n"
     ]
    },
    {
     "name": "stderr",
     "output_type": "stream",
     "text": [
      "Training Epoch 14: 100%|████████████████████████████████████████████████████| 583/583 [01:49<00:00,  5.33it/s]\n",
      "Validation: 100%|███████████████████████████████████████████████████████████| 146/146 [00:09<00:00, 15.09it/s]\n"
     ]
    },
    {
     "name": "stdout",
     "output_type": "stream",
     "text": [
      "Epoch 14/70 - Train Loss: 0.6682\n",
      "Validation Metrics - Accuracy: 0.2928, Precision: 0.1438, Recall: 0.9635\n"
     ]
    },
    {
     "name": "stderr",
     "output_type": "stream",
     "text": [
      "Training Epoch 15: 100%|████████████████████████████████████████████████████| 583/583 [01:49<00:00,  5.33it/s]\n",
      "Validation: 100%|███████████████████████████████████████████████████████████| 146/146 [00:09<00:00, 14.71it/s]\n"
     ]
    },
    {
     "name": "stdout",
     "output_type": "stream",
     "text": [
      "Epoch 15/70 - Train Loss: 0.6694\n",
      "Validation Metrics - Accuracy: 0.3116, Precision: 0.1438, Recall: 0.9475\n"
     ]
    },
    {
     "name": "stderr",
     "output_type": "stream",
     "text": [
      "Training Epoch 16: 100%|████████████████████████████████████████████████████| 583/583 [01:50<00:00,  5.28it/s]\n",
      "Validation: 100%|███████████████████████████████████████████████████████████| 146/146 [00:10<00:00, 14.55it/s]\n"
     ]
    },
    {
     "name": "stdout",
     "output_type": "stream",
     "text": [
      "Epoch 16/70 - Train Loss: 0.6560\n",
      "Validation Metrics - Accuracy: 0.3065, Precision: 0.1433, Recall: 0.9498\n"
     ]
    },
    {
     "name": "stderr",
     "output_type": "stream",
     "text": [
      "Training Epoch 17: 100%|████████████████████████████████████████████████████| 583/583 [01:50<00:00,  5.29it/s]\n",
      "Validation: 100%|███████████████████████████████████████████████████████████| 146/146 [00:10<00:00, 14.51it/s]\n"
     ]
    },
    {
     "name": "stdout",
     "output_type": "stream",
     "text": [
      "Epoch 17/70 - Train Loss: 0.6692\n",
      "Validation Metrics - Accuracy: 0.6541, Precision: 0.3259, Recall: 0.7454\n"
     ]
    },
    {
     "name": "stderr",
     "output_type": "stream",
     "text": [
      "Training Epoch 18: 100%|████████████████████████████████████████████████████| 583/583 [01:48<00:00,  5.38it/s]\n",
      "Validation: 100%|███████████████████████████████████████████████████████████| 146/146 [00:10<00:00, 14.38it/s]\n"
     ]
    },
    {
     "name": "stdout",
     "output_type": "stream",
     "text": [
      "Epoch 18/70 - Train Loss: 0.6980\n",
      "Validation Metrics - Accuracy: 0.8305, Precision: 0.7877, Recall: 0.6050\n"
     ]
    },
    {
     "name": "stderr",
     "output_type": "stream",
     "text": [
      "Training Epoch 19: 100%|████████████████████████████████████████████████████| 583/583 [01:49<00:00,  5.32it/s]\n",
      "Validation: 100%|███████████████████████████████████████████████████████████| 146/146 [00:10<00:00, 14.43it/s]\n"
     ]
    },
    {
     "name": "stdout",
     "output_type": "stream",
     "text": [
      "Epoch 19/70 - Train Loss: 0.6964\n",
      "Validation Metrics - Accuracy: 0.1301, Precision: 0.1301, Recall: 1.0000\n"
     ]
    },
    {
     "name": "stderr",
     "output_type": "stream",
     "text": [
      "Training Epoch 20: 100%|████████████████████████████████████████████████████| 583/583 [01:47<00:00,  5.44it/s]\n",
      "Validation: 100%|███████████████████████████████████████████████████████████| 146/146 [00:09<00:00, 14.88it/s]\n"
     ]
    },
    {
     "name": "stdout",
     "output_type": "stream",
     "text": [
      "Epoch 20/70 - Train Loss: 0.6934\n",
      "Validation Metrics - Accuracy: 0.8253, Precision: 0.7842, Recall: 0.6016\n"
     ]
    },
    {
     "name": "stderr",
     "output_type": "stream",
     "text": [
      "Training Epoch 21: 100%|████████████████████████████████████████████████████| 583/583 [01:50<00:00,  5.28it/s]\n",
      "Validation: 100%|███████████████████████████████████████████████████████████| 146/146 [00:09<00:00, 14.63it/s]\n"
     ]
    },
    {
     "name": "stdout",
     "output_type": "stream",
     "text": [
      "Epoch 21/70 - Train Loss: 0.6818\n",
      "Validation Metrics - Accuracy: 0.7637, Precision: 0.5856, Recall: 0.7192\n"
     ]
    },
    {
     "name": "stderr",
     "output_type": "stream",
     "text": [
      "Training Epoch 22: 100%|████████████████████████████████████████████████████| 583/583 [01:50<00:00,  5.28it/s]\n",
      "Validation: 100%|███████████████████████████████████████████████████████████| 146/146 [00:10<00:00, 14.43it/s]\n"
     ]
    },
    {
     "name": "stdout",
     "output_type": "stream",
     "text": [
      "Epoch 22/70 - Train Loss: 0.6939\n",
      "Validation Metrics - Accuracy: 0.8596, Precision: 0.9521, Recall: 0.5651\n"
     ]
    },
    {
     "name": "stderr",
     "output_type": "stream",
     "text": [
      "Training Epoch 23: 100%|████████████████████████████████████████████████████| 583/583 [01:48<00:00,  5.38it/s]\n",
      "Validation: 100%|███████████████████████████████████████████████████████████| 146/146 [00:09<00:00, 14.74it/s]\n"
     ]
    },
    {
     "name": "stdout",
     "output_type": "stream",
     "text": [
      "Epoch 23/70 - Train Loss: 0.6958\n",
      "Validation Metrics - Accuracy: 0.8459, Precision: 0.8767, Recall: 0.5879\n"
     ]
    },
    {
     "name": "stderr",
     "output_type": "stream",
     "text": [
      "Training Epoch 24: 100%|████████████████████████████████████████████████████| 583/583 [01:50<00:00,  5.27it/s]\n",
      "Validation: 100%|███████████████████████████████████████████████████████████| 146/146 [00:09<00:00, 14.69it/s]\n"
     ]
    },
    {
     "name": "stdout",
     "output_type": "stream",
     "text": [
      "Epoch 24/70 - Train Loss: 0.6924\n",
      "Validation Metrics - Accuracy: 0.3990, Precision: 0.1313, Recall: 0.8288\n"
     ]
    },
    {
     "name": "stderr",
     "output_type": "stream",
     "text": [
      "Training Epoch 25: 100%|████████████████████████████████████████████████████| 583/583 [01:50<00:00,  5.29it/s]\n",
      "Validation: 100%|███████████████████████████████████████████████████████████| 146/146 [00:09<00:00, 14.66it/s]\n"
     ]
    },
    {
     "name": "stdout",
     "output_type": "stream",
     "text": [
      "Epoch 25/70 - Train Loss: 0.6872\n",
      "Validation Metrics - Accuracy: 0.2380, Precision: 0.1370, Recall: 0.9772\n"
     ]
    },
    {
     "name": "stderr",
     "output_type": "stream",
     "text": [
      "Training Epoch 26: 100%|████████████████████████████████████████████████████| 583/583 [01:50<00:00,  5.28it/s]\n",
      "Validation: 100%|███████████████████████████████████████████████████████████| 146/146 [00:10<00:00, 14.45it/s]\n"
     ]
    },
    {
     "name": "stdout",
     "output_type": "stream",
     "text": [
      "Epoch 26/70 - Train Loss: 0.6891\n",
      "Validation Metrics - Accuracy: 0.7140, Precision: 0.4640, Recall: 0.7215\n"
     ]
    },
    {
     "name": "stderr",
     "output_type": "stream",
     "text": [
      "Training Epoch 27: 100%|████████████████████████████████████████████████████| 583/583 [01:51<00:00,  5.22it/s]\n",
      "Validation: 100%|███████████████████████████████████████████████████████████| 146/146 [00:10<00:00, 14.42it/s]\n"
     ]
    },
    {
     "name": "stdout",
     "output_type": "stream",
     "text": [
      "Epoch 27/70 - Train Loss: 0.6806\n",
      "Validation Metrics - Accuracy: 0.7038, Precision: 0.4258, Recall: 0.7409\n"
     ]
    },
    {
     "name": "stderr",
     "output_type": "stream",
     "text": [
      "Training Epoch 28: 100%|████████████████████████████████████████████████████| 583/583 [01:51<00:00,  5.24it/s]\n",
      "Validation: 100%|███████████████████████████████████████████████████████████| 146/146 [00:09<00:00, 14.63it/s]\n"
     ]
    },
    {
     "name": "stdout",
     "output_type": "stream",
     "text": [
      "Epoch 28/70 - Train Loss: 0.6893\n",
      "Validation Metrics - Accuracy: 0.8253, Precision: 0.7568, Recall: 0.6187\n"
     ]
    },
    {
     "name": "stderr",
     "output_type": "stream",
     "text": [
      "Training Epoch 29: 100%|████████████████████████████████████████████████████| 583/583 [01:49<00:00,  5.33it/s]\n",
      "Validation: 100%|███████████████████████████████████████████████████████████| 146/146 [00:10<00:00, 14.50it/s]\n"
     ]
    },
    {
     "name": "stdout",
     "output_type": "stream",
     "text": [
      "Epoch 29/70 - Train Loss: 0.6984\n",
      "Validation Metrics - Accuracy: 0.7791, Precision: 0.5651, Recall: 0.6256\n"
     ]
    },
    {
     "name": "stderr",
     "output_type": "stream",
     "text": [
      "Training Epoch 30: 100%|████████████████████████████████████████████████████| 583/583 [01:51<00:00,  5.22it/s]\n",
      "Validation: 100%|███████████████████████████████████████████████████████████| 146/146 [00:10<00:00, 14.51it/s]\n"
     ]
    },
    {
     "name": "stdout",
     "output_type": "stream",
     "text": [
      "Epoch 30/70 - Train Loss: 0.6945\n",
      "Validation Metrics - Accuracy: 0.7842, Precision: 0.5925, Recall: 0.6187\n"
     ]
    },
    {
     "name": "stderr",
     "output_type": "stream",
     "text": [
      "Training Epoch 31: 100%|████████████████████████████████████████████████████| 583/583 [01:50<00:00,  5.28it/s]\n",
      "Validation: 100%|███████████████████████████████████████████████████████████| 146/146 [00:10<00:00, 14.54it/s]\n"
     ]
    },
    {
     "name": "stdout",
     "output_type": "stream",
     "text": [
      "Epoch 31/70 - Train Loss: 0.6984\n",
      "Validation Metrics - Accuracy: 0.7911, Precision: 0.6199, Recall: 0.6187\n"
     ]
    },
    {
     "name": "stderr",
     "output_type": "stream",
     "text": [
      "Training Epoch 32: 100%|████████████████████████████████████████████████████| 583/583 [01:50<00:00,  5.27it/s]\n",
      "Validation: 100%|███████████████████████████████████████████████████████████| 146/146 [00:10<00:00, 14.46it/s]\n"
     ]
    },
    {
     "name": "stdout",
     "output_type": "stream",
     "text": [
      "Epoch 32/70 - Train Loss: 0.6953\n",
      "Validation Metrics - Accuracy: 0.7842, Precision: 0.5925, Recall: 0.6187\n"
     ]
    },
    {
     "name": "stderr",
     "output_type": "stream",
     "text": [
      "Training Epoch 33: 100%|████████████████████████████████████████████████████| 583/583 [01:52<00:00,  5.19it/s]\n",
      "Validation: 100%|███████████████████████████████████████████████████████████| 146/146 [00:10<00:00, 14.50it/s]\n"
     ]
    },
    {
     "name": "stdout",
     "output_type": "stream",
     "text": [
      "Epoch 33/70 - Train Loss: 0.6948\n",
      "Validation Metrics - Accuracy: 0.7979, Precision: 0.6404, Recall: 0.6256\n"
     ]
    },
    {
     "name": "stderr",
     "output_type": "stream",
     "text": [
      "Training Epoch 34: 100%|████████████████████████████████████████████████████| 583/583 [01:49<00:00,  5.34it/s]\n",
      "Validation: 100%|███████████████████████████████████████████████████████████| 146/146 [00:09<00:00, 14.70it/s]\n"
     ]
    },
    {
     "name": "stdout",
     "output_type": "stream",
     "text": [
      "Epoch 34/70 - Train Loss: 0.6951\n",
      "Validation Metrics - Accuracy: 0.8373, Precision: 0.8185, Recall: 0.6050\n"
     ]
    },
    {
     "name": "stderr",
     "output_type": "stream",
     "text": [
      "Training Epoch 35: 100%|████████████████████████████████████████████████████| 583/583 [01:49<00:00,  5.31it/s]\n",
      "Validation: 100%|███████████████████████████████████████████████████████████| 146/146 [00:10<00:00, 14.46it/s]\n"
     ]
    },
    {
     "name": "stdout",
     "output_type": "stream",
     "text": [
      "Epoch 35/70 - Train Loss: 0.6936\n",
      "Validation Metrics - Accuracy: 0.8356, Precision: 0.8116, Recall: 0.6050\n"
     ]
    },
    {
     "name": "stderr",
     "output_type": "stream",
     "text": [
      "Training Epoch 36: 100%|████████████████████████████████████████████████████| 583/583 [01:49<00:00,  5.31it/s]\n",
      "Validation: 100%|███████████████████████████████████████████████████████████| 146/146 [00:10<00:00, 14.38it/s]\n"
     ]
    },
    {
     "name": "stdout",
     "output_type": "stream",
     "text": [
      "Epoch 36/70 - Train Loss: 0.6942\n",
      "Validation Metrics - Accuracy: 0.1301, Precision: 0.1301, Recall: 1.0000\n"
     ]
    },
    {
     "name": "stderr",
     "output_type": "stream",
     "text": [
      "Training Epoch 37: 100%|████████████████████████████████████████████████████| 583/583 [01:49<00:00,  5.32it/s]\n",
      "Validation: 100%|███████████████████████████████████████████████████████████| 146/146 [00:09<00:00, 14.67it/s]\n"
     ]
    },
    {
     "name": "stdout",
     "output_type": "stream",
     "text": [
      "Epoch 37/70 - Train Loss: 0.6954\n",
      "Validation Metrics - Accuracy: 0.8236, Precision: 0.7568, Recall: 0.6119\n"
     ]
    },
    {
     "name": "stderr",
     "output_type": "stream",
     "text": [
      "Training Epoch 38: 100%|████████████████████████████████████████████████████| 583/583 [01:52<00:00,  5.20it/s]\n",
      "Validation: 100%|███████████████████████████████████████████████████████████| 146/146 [00:09<00:00, 14.86it/s]\n"
     ]
    },
    {
     "name": "stdout",
     "output_type": "stream",
     "text": [
      "Epoch 38/70 - Train Loss: 0.6947\n",
      "Validation Metrics - Accuracy: 0.8682, Precision: 0.9863, Recall: 0.5685\n"
     ]
    },
    {
     "name": "stderr",
     "output_type": "stream",
     "text": [
      "Training Epoch 39: 100%|████████████████████████████████████████████████████| 583/583 [01:51<00:00,  5.23it/s]\n",
      "Validation: 100%|███████████████████████████████████████████████████████████| 146/146 [00:10<00:00, 14.42it/s]\n"
     ]
    },
    {
     "name": "stdout",
     "output_type": "stream",
     "text": [
      "Epoch 39/70 - Train Loss: 0.6950\n",
      "Validation Metrics - Accuracy: 0.2500, Precision: 0.1410, Recall: 0.9772\n"
     ]
    },
    {
     "name": "stderr",
     "output_type": "stream",
     "text": [
      "Training Epoch 40: 100%|████████████████████████████████████████████████████| 583/583 [01:49<00:00,  5.30it/s]\n",
      "Validation: 100%|███████████████████████████████████████████████████████████| 146/146 [00:10<00:00, 14.39it/s]\n"
     ]
    },
    {
     "name": "stdout",
     "output_type": "stream",
     "text": [
      "Epoch 40/70 - Train Loss: 0.6933\n",
      "Validation Metrics - Accuracy: 0.2962, Precision: 0.1376, Recall: 0.9338\n"
     ]
    },
    {
     "name": "stderr",
     "output_type": "stream",
     "text": [
      "Training Epoch 41: 100%|████████████████████████████████████████████████████| 583/583 [01:50<00:00,  5.27it/s]\n",
      "Validation: 100%|███████████████████████████████████████████████████████████| 146/146 [00:10<00:00, 14.51it/s]\n"
     ]
    },
    {
     "name": "stdout",
     "output_type": "stream",
     "text": [
      "Epoch 41/70 - Train Loss: 0.6951\n",
      "Validation Metrics - Accuracy: 0.8716, Precision: 1.0000, Recall: 0.5685\n"
     ]
    },
    {
     "name": "stderr",
     "output_type": "stream",
     "text": [
      "Training Epoch 42: 100%|████████████████████████████████████████████████████| 583/583 [01:48<00:00,  5.36it/s]\n",
      "Validation: 100%|███████████████████████████████████████████████████████████| 146/146 [00:10<00:00, 14.23it/s]\n"
     ]
    },
    {
     "name": "stdout",
     "output_type": "stream",
     "text": [
      "Epoch 42/70 - Train Loss: 0.6917\n",
      "Validation Metrics - Accuracy: 0.2997, Precision: 0.1376, Recall: 0.9269\n"
     ]
    },
    {
     "name": "stderr",
     "output_type": "stream",
     "text": [
      "Training Epoch 43: 100%|████████████████████████████████████████████████████| 583/583 [01:51<00:00,  5.24it/s]\n",
      "Validation: 100%|███████████████████████████████████████████████████████████| 146/146 [00:10<00:00, 14.36it/s]\n"
     ]
    },
    {
     "name": "stdout",
     "output_type": "stream",
     "text": [
      "Epoch 43/70 - Train Loss: 0.6928\n",
      "Validation Metrics - Accuracy: 0.3185, Precision: 0.1370, Recall: 0.9132\n"
     ]
    },
    {
     "name": "stderr",
     "output_type": "stream",
     "text": [
      "Training Epoch 44: 100%|████████████████████████████████████████████████████| 583/583 [01:53<00:00,  5.15it/s]\n",
      "Validation: 100%|███████████████████████████████████████████████████████████| 146/146 [00:10<00:00, 14.41it/s]\n"
     ]
    },
    {
     "name": "stdout",
     "output_type": "stream",
     "text": [
      "Epoch 44/70 - Train Loss: 0.6919\n",
      "Validation Metrics - Accuracy: 0.8699, Precision: 1.0000, Recall: 0.5616\n"
     ]
    },
    {
     "name": "stderr",
     "output_type": "stream",
     "text": [
      "Training Epoch 45: 100%|████████████████████████████████████████████████████| 583/583 [01:51<00:00,  5.22it/s]\n",
      "Validation: 100%|███████████████████████████████████████████████████████████| 146/146 [00:10<00:00, 14.36it/s]\n"
     ]
    },
    {
     "name": "stdout",
     "output_type": "stream",
     "text": [
      "Epoch 45/70 - Train Loss: 0.6920\n",
      "Validation Metrics - Accuracy: 0.3202, Precision: 0.1393, Recall: 0.9201\n"
     ]
    },
    {
     "name": "stderr",
     "output_type": "stream",
     "text": [
      "Training Epoch 46: 100%|████████████████████████████████████████████████████| 583/583 [01:53<00:00,  5.12it/s]\n",
      "Validation: 100%|███████████████████████████████████████████████████████████| 146/146 [00:10<00:00, 14.25it/s]\n"
     ]
    },
    {
     "name": "stdout",
     "output_type": "stream",
     "text": [
      "Epoch 46/70 - Train Loss: 0.6889\n",
      "Validation Metrics - Accuracy: 0.3202, Precision: 0.1387, Recall: 0.9201\n"
     ]
    },
    {
     "name": "stderr",
     "output_type": "stream",
     "text": [
      "Training Epoch 47: 100%|████████████████████████████████████████████████████| 583/583 [01:54<00:00,  5.10it/s]\n",
      "Validation: 100%|███████████████████████████████████████████████████████████| 146/146 [00:10<00:00, 14.39it/s]\n"
     ]
    },
    {
     "name": "stdout",
     "output_type": "stream",
     "text": [
      "Epoch 47/70 - Train Loss: 0.6924\n",
      "Validation Metrics - Accuracy: 0.3065, Precision: 0.1381, Recall: 0.9269\n"
     ]
    },
    {
     "name": "stderr",
     "output_type": "stream",
     "text": [
      "Training Epoch 48: 100%|████████████████████████████████████████████████████| 583/583 [01:51<00:00,  5.22it/s]\n",
      "Validation: 100%|███████████████████████████████████████████████████████████| 146/146 [00:10<00:00, 14.23it/s]\n"
     ]
    },
    {
     "name": "stdout",
     "output_type": "stream",
     "text": [
      "Epoch 48/70 - Train Loss: 0.6892\n",
      "Validation Metrics - Accuracy: 0.3116, Precision: 0.1353, Recall: 0.9132\n"
     ]
    },
    {
     "name": "stderr",
     "output_type": "stream",
     "text": [
      "Training Epoch 49: 100%|████████████████████████████████████████████████████| 583/583 [01:52<00:00,  5.19it/s]\n",
      "Validation: 100%|███████████████████████████████████████████████████████████| 146/146 [00:10<00:00, 14.38it/s]\n"
     ]
    },
    {
     "name": "stdout",
     "output_type": "stream",
     "text": [
      "Epoch 49/70 - Train Loss: 0.6916\n",
      "Validation Metrics - Accuracy: 0.3082, Precision: 0.1376, Recall: 0.9201\n"
     ]
    },
    {
     "name": "stderr",
     "output_type": "stream",
     "text": [
      "Training Epoch 50: 100%|████████████████████████████████████████████████████| 583/583 [01:53<00:00,  5.12it/s]\n",
      "Validation: 100%|███████████████████████████████████████████████████████████| 146/146 [00:09<00:00, 14.74it/s]\n"
     ]
    },
    {
     "name": "stdout",
     "output_type": "stream",
     "text": [
      "Epoch 50/70 - Train Loss: 0.6895\n",
      "Validation Metrics - Accuracy: 0.3031, Precision: 0.1381, Recall: 0.9269\n"
     ]
    },
    {
     "name": "stderr",
     "output_type": "stream",
     "text": [
      "Training Epoch 51: 100%|████████████████████████████████████████████████████| 583/583 [01:53<00:00,  5.14it/s]\n",
      "Validation: 100%|███████████████████████████████████████████████████████████| 146/146 [00:10<00:00, 14.19it/s]\n"
     ]
    },
    {
     "name": "stdout",
     "output_type": "stream",
     "text": [
      "Epoch 51/70 - Train Loss: 0.6885\n",
      "Validation Metrics - Accuracy: 0.3099, Precision: 0.1376, Recall: 0.9201\n"
     ]
    },
    {
     "name": "stderr",
     "output_type": "stream",
     "text": [
      "Training Epoch 52: 100%|████████████████████████████████████████████████████| 583/583 [01:52<00:00,  5.20it/s]\n",
      "Validation: 100%|███████████████████████████████████████████████████████████| 146/146 [00:10<00:00, 14.46it/s]\n"
     ]
    },
    {
     "name": "stdout",
     "output_type": "stream",
     "text": [
      "Epoch 52/70 - Train Loss: 0.6871\n",
      "Validation Metrics - Accuracy: 0.3014, Precision: 0.1364, Recall: 0.9201\n"
     ]
    },
    {
     "name": "stderr",
     "output_type": "stream",
     "text": [
      "Training Epoch 53: 100%|████████████████████████████████████████████████████| 583/583 [01:54<00:00,  5.08it/s]\n",
      "Validation: 100%|███████████████████████████████████████████████████████████| 146/146 [00:10<00:00, 14.03it/s]\n"
     ]
    },
    {
     "name": "stdout",
     "output_type": "stream",
     "text": [
      "Epoch 53/70 - Train Loss: 0.6868\n",
      "Validation Metrics - Accuracy: 0.3151, Precision: 0.1364, Recall: 0.9132\n"
     ]
    },
    {
     "name": "stderr",
     "output_type": "stream",
     "text": [
      "Training Epoch 54: 100%|████████████████████████████████████████████████████| 583/583 [01:54<00:00,  5.10it/s]\n",
      "Validation: 100%|███████████████████████████████████████████████████████████| 146/146 [00:10<00:00, 14.39it/s]\n"
     ]
    },
    {
     "name": "stdout",
     "output_type": "stream",
     "text": [
      "Epoch 54/70 - Train Loss: 0.6873\n",
      "Validation Metrics - Accuracy: 0.3048, Precision: 0.1364, Recall: 0.9201\n"
     ]
    },
    {
     "name": "stderr",
     "output_type": "stream",
     "text": [
      "Training Epoch 55: 100%|████████████████████████████████████████████████████| 583/583 [01:53<00:00,  5.12it/s]\n",
      "Validation: 100%|███████████████████████████████████████████████████████████| 146/146 [00:10<00:00, 14.13it/s]\n"
     ]
    },
    {
     "name": "stdout",
     "output_type": "stream",
     "text": [
      "Epoch 55/70 - Train Loss: 0.6858\n",
      "Validation Metrics - Accuracy: 0.3014, Precision: 0.1341, Recall: 0.9132\n"
     ]
    },
    {
     "name": "stderr",
     "output_type": "stream",
     "text": [
      "Training Epoch 56: 100%|████████████████████████████████████████████████████| 583/583 [01:55<00:00,  5.04it/s]\n",
      "Validation: 100%|███████████████████████████████████████████████████████████| 146/146 [00:10<00:00, 14.12it/s]\n"
     ]
    },
    {
     "name": "stdout",
     "output_type": "stream",
     "text": [
      "Epoch 56/70 - Train Loss: 0.6850\n",
      "Validation Metrics - Accuracy: 0.3048, Precision: 0.1347, Recall: 0.9132\n"
     ]
    },
    {
     "name": "stderr",
     "output_type": "stream",
     "text": [
      "Training Epoch 57: 100%|████████████████████████████████████████████████████| 583/583 [01:56<00:00,  4.98it/s]\n",
      "Validation: 100%|███████████████████████████████████████████████████████████| 146/146 [00:10<00:00, 13.92it/s]\n"
     ]
    },
    {
     "name": "stdout",
     "output_type": "stream",
     "text": [
      "Epoch 57/70 - Train Loss: 0.6901\n",
      "Validation Metrics - Accuracy: 0.3014, Precision: 0.1381, Recall: 0.9269\n"
     ]
    },
    {
     "name": "stderr",
     "output_type": "stream",
     "text": [
      "Training Epoch 58: 100%|████████████████████████████████████████████████████| 583/583 [01:56<00:00,  5.02it/s]\n",
      "Validation: 100%|███████████████████████████████████████████████████████████| 146/146 [00:10<00:00, 13.79it/s]\n"
     ]
    },
    {
     "name": "stdout",
     "output_type": "stream",
     "text": [
      "Epoch 58/70 - Train Loss: 0.6855\n",
      "Validation Metrics - Accuracy: 0.3082, Precision: 0.1347, Recall: 0.9132\n"
     ]
    },
    {
     "name": "stderr",
     "output_type": "stream",
     "text": [
      "Training Epoch 59: 100%|████████████████████████████████████████████████████| 583/583 [01:58<00:00,  4.92it/s]\n",
      "Validation: 100%|███████████████████████████████████████████████████████████| 146/146 [00:10<00:00, 13.61it/s]\n"
     ]
    },
    {
     "name": "stdout",
     "output_type": "stream",
     "text": [
      "Epoch 59/70 - Train Loss: 0.6869\n",
      "Validation Metrics - Accuracy: 0.3099, Precision: 0.1353, Recall: 0.9132\n"
     ]
    },
    {
     "name": "stderr",
     "output_type": "stream",
     "text": [
      "Training Epoch 60: 100%|████████████████████████████████████████████████████| 583/583 [01:56<00:00,  5.01it/s]\n",
      "Validation: 100%|███████████████████████████████████████████████████████████| 146/146 [00:10<00:00, 14.33it/s]\n"
     ]
    },
    {
     "name": "stdout",
     "output_type": "stream",
     "text": [
      "Epoch 60/70 - Train Loss: 0.6922\n",
      "Validation Metrics - Accuracy: 0.3116, Precision: 0.1353, Recall: 0.9132\n"
     ]
    },
    {
     "name": "stderr",
     "output_type": "stream",
     "text": [
      "Training Epoch 61: 100%|████████████████████████████████████████████████████| 583/583 [01:58<00:00,  4.91it/s]\n",
      "Validation: 100%|███████████████████████████████████████████████████████████| 146/146 [00:10<00:00, 13.61it/s]\n"
     ]
    },
    {
     "name": "stdout",
     "output_type": "stream",
     "text": [
      "Epoch 61/70 - Train Loss: 0.6873\n",
      "Validation Metrics - Accuracy: 0.3116, Precision: 0.1353, Recall: 0.9132\n"
     ]
    },
    {
     "name": "stderr",
     "output_type": "stream",
     "text": [
      "Training Epoch 62: 100%|████████████████████████████████████████████████████| 583/583 [01:58<00:00,  4.92it/s]\n",
      "Validation: 100%|███████████████████████████████████████████████████████████| 146/146 [00:10<00:00, 14.03it/s]\n"
     ]
    },
    {
     "name": "stdout",
     "output_type": "stream",
     "text": [
      "Epoch 62/70 - Train Loss: 0.6836\n",
      "Validation Metrics - Accuracy: 0.3031, Precision: 0.1370, Recall: 0.9235\n"
     ]
    },
    {
     "name": "stderr",
     "output_type": "stream",
     "text": [
      "Training Epoch 63: 100%|████████████████████████████████████████████████████| 583/583 [01:58<00:00,  4.94it/s]\n",
      "Validation: 100%|███████████████████████████████████████████████████████████| 146/146 [00:10<00:00, 13.81it/s]\n"
     ]
    },
    {
     "name": "stdout",
     "output_type": "stream",
     "text": [
      "Epoch 63/70 - Train Loss: 0.6841\n",
      "Validation Metrics - Accuracy: 0.8699, Precision: 1.0000, Recall: 0.5616\n"
     ]
    },
    {
     "name": "stderr",
     "output_type": "stream",
     "text": [
      "Training Epoch 64: 100%|████████████████████████████████████████████████████| 583/583 [01:55<00:00,  5.04it/s]\n",
      "Validation: 100%|███████████████████████████████████████████████████████████| 146/146 [00:10<00:00, 13.91it/s]\n"
     ]
    },
    {
     "name": "stdout",
     "output_type": "stream",
     "text": [
      "Epoch 64/70 - Train Loss: 0.6784\n",
      "Validation Metrics - Accuracy: 0.3048, Precision: 0.1393, Recall: 0.9304\n"
     ]
    },
    {
     "name": "stderr",
     "output_type": "stream",
     "text": [
      "Training Epoch 65: 100%|████████████████████████████████████████████████████| 583/583 [01:56<00:00,  5.01it/s]\n",
      "Validation: 100%|███████████████████████████████████████████████████████████| 146/146 [00:10<00:00, 13.73it/s]\n"
     ]
    },
    {
     "name": "stdout",
     "output_type": "stream",
     "text": [
      "Epoch 65/70 - Train Loss: 0.6710\n",
      "Validation Metrics - Accuracy: 0.3065, Precision: 0.1398, Recall: 0.9304\n"
     ]
    },
    {
     "name": "stderr",
     "output_type": "stream",
     "text": [
      "Training Epoch 66: 100%|████████████████████████████████████████████████████| 583/583 [01:55<00:00,  5.05it/s]\n",
      "Validation: 100%|███████████████████████████████████████████████████████████| 146/146 [00:10<00:00, 13.93it/s]\n"
     ]
    },
    {
     "name": "stdout",
     "output_type": "stream",
     "text": [
      "Epoch 66/70 - Train Loss: 0.6792\n",
      "Validation Metrics - Accuracy: 0.6524, Precision: 0.3219, Recall: 0.8231\n"
     ]
    },
    {
     "name": "stderr",
     "output_type": "stream",
     "text": [
      "Training Epoch 67: 100%|████████████████████████████████████████████████████| 583/583 [01:56<00:00,  4.99it/s]\n",
      "Validation: 100%|███████████████████████████████████████████████████████████| 146/146 [00:10<00:00, 13.99it/s]\n"
     ]
    },
    {
     "name": "stdout",
     "output_type": "stream",
     "text": [
      "Epoch 67/70 - Train Loss: 0.6864\n",
      "Validation Metrics - Accuracy: 0.3014, Precision: 0.1364, Recall: 0.9235\n"
     ]
    },
    {
     "name": "stderr",
     "output_type": "stream",
     "text": [
      "Training Epoch 68: 100%|████████████████████████████████████████████████████| 583/583 [01:53<00:00,  5.12it/s]\n",
      "Validation: 100%|███████████████████████████████████████████████████████████| 146/146 [00:10<00:00, 14.04it/s]\n"
     ]
    },
    {
     "name": "stdout",
     "output_type": "stream",
     "text": [
      "Epoch 68/70 - Train Loss: 0.6780\n",
      "Validation Metrics - Accuracy: 0.2894, Precision: 0.1376, Recall: 0.9304\n"
     ]
    },
    {
     "name": "stderr",
     "output_type": "stream",
     "text": [
      "Training Epoch 69: 100%|████████████████████████████████████████████████████| 583/583 [01:56<00:00,  5.02it/s]\n",
      "Validation: 100%|███████████████████████████████████████████████████████████| 146/146 [00:10<00:00, 14.34it/s]\n"
     ]
    },
    {
     "name": "stdout",
     "output_type": "stream",
     "text": [
      "Epoch 69/70 - Train Loss: 0.6869\n",
      "Validation Metrics - Accuracy: 0.3065, Precision: 0.1364, Recall: 0.9167\n"
     ]
    },
    {
     "name": "stderr",
     "output_type": "stream",
     "text": [
      "Training Epoch 70: 100%|████████████████████████████████████████████████████| 583/583 [01:54<00:00,  5.08it/s]\n",
      "Validation: 100%|███████████████████████████████████████████████████████████| 146/146 [00:10<00:00, 14.35it/s]"
     ]
    },
    {
     "name": "stdout",
     "output_type": "stream",
     "text": [
      "Epoch 70/70 - Train Loss: 0.6805\n",
      "Validation Metrics - Accuracy: 0.3082, Precision: 0.1427, Recall: 0.9395\n"
     ]
    },
    {
     "name": "stderr",
     "output_type": "stream",
     "text": [
      "\n"
     ]
    }
   ],
   "source": [
    "for epoch in range(1, num_epochs + 1):\n",
    "    model.train()\n",
    "    train_loss_list = []\n",
    "    \n",
    "    for spectrograms, labels in tqdm(train_dataloader, desc=f\"Training Epoch {epoch}\"):\n",
    "        spectrograms = spectrograms.to(device)\n",
    "        labels = labels.long().to(device)  # Метки должны быть типа long для CrossEntropyLoss\n",
    "\n",
    "        outputs = model(spectrograms)\n",
    "        \n",
    "        loss = criterion(outputs, labels)\n",
    "        optimizer.zero_grad()\n",
    "        loss.backward()\n",
    "        optimizer.step()\n",
    "        train_loss_list.append(loss.item())\n",
    "\n",
    "    avg_train_loss = torch.tensor(train_loss_list).mean().item()\n",
    "    acc, prec, rec = evaluate_model(model, test_dataloader, criterion, device)\n",
    "    \n",
    "    #scheduler.step(acc)\n",
    "    \n",
    "    print(f\"Epoch {epoch}/{num_epochs} - Train Loss: {avg_train_loss:.4f}\")\n",
    "    print(f\"Validation Metrics - Accuracy: {acc:.4f}, Precision: {prec:.4f}, Recall: {rec:.4f}\")"
   ]
  },
  {
   "cell_type": "markdown",
   "id": "693c0d7a-c707-4157-83ea-45489e54ab83",
   "metadata": {},
   "source": [
    "Теперь попробуем с разбиением Захара"
   ]
  },
  {
   "cell_type": "code",
   "execution_count": 6,
   "id": "20505eb1-6a9f-45ab-ba55-ba0fb5fa54f7",
   "metadata": {},
   "outputs": [
    {
     "data": {
      "text/html": [
       "<div>\n",
       "<style scoped>\n",
       "    .dataframe tbody tr th:only-of-type {\n",
       "        vertical-align: middle;\n",
       "    }\n",
       "\n",
       "    .dataframe tbody tr th {\n",
       "        vertical-align: top;\n",
       "    }\n",
       "\n",
       "    .dataframe thead th {\n",
       "        text-align: right;\n",
       "    }\n",
       "</style>\n",
       "<table border=\"1\" class=\"dataframe\">\n",
       "  <thead>\n",
       "    <tr style=\"text-align: right;\">\n",
       "      <th></th>\n",
       "      <th>file_name</th>\n",
       "      <th>label</th>\n",
       "    </tr>\n",
       "  </thead>\n",
       "  <tbody>\n",
       "    <tr>\n",
       "      <th>0</th>\n",
       "      <td>N-0919-RAT-1-bike.wav</td>\n",
       "      <td>0</td>\n",
       "    </tr>\n",
       "    <tr>\n",
       "      <th>1</th>\n",
       "      <td>N-0919-RAT-1-robb.wav</td>\n",
       "      <td>0</td>\n",
       "    </tr>\n",
       "    <tr>\n",
       "      <th>2</th>\n",
       "      <td>N-0927-RAT-1-robb.wav</td>\n",
       "      <td>0</td>\n",
       "    </tr>\n",
       "    <tr>\n",
       "      <th>3</th>\n",
       "      <td>N-0927-RAT-1-bike.wav</td>\n",
       "      <td>0</td>\n",
       "    </tr>\n",
       "    <tr>\n",
       "      <th>4</th>\n",
       "      <td>N-0926-RAT-1-bike.wav</td>\n",
       "      <td>0</td>\n",
       "    </tr>\n",
       "    <tr>\n",
       "      <th>...</th>\n",
       "      <td>...</td>\n",
       "      <td>...</td>\n",
       "    </tr>\n",
       "    <tr>\n",
       "      <th>467</th>\n",
       "      <td>A-396-RAT-1-robb.wav</td>\n",
       "      <td>1</td>\n",
       "    </tr>\n",
       "    <tr>\n",
       "      <th>468</th>\n",
       "      <td>A-473-RAT-4-bike.wav</td>\n",
       "      <td>1</td>\n",
       "    </tr>\n",
       "    <tr>\n",
       "      <th>469</th>\n",
       "      <td>A-473-RAT-1-robb.wav</td>\n",
       "      <td>1</td>\n",
       "    </tr>\n",
       "    <tr>\n",
       "      <th>470</th>\n",
       "      <td>A-473-RAT-1-bike.wav</td>\n",
       "      <td>1</td>\n",
       "    </tr>\n",
       "    <tr>\n",
       "      <th>471</th>\n",
       "      <td>A-473-RAT-2-robb.wav</td>\n",
       "      <td>1</td>\n",
       "    </tr>\n",
       "  </tbody>\n",
       "</table>\n",
       "<p>472 rows × 2 columns</p>\n",
       "</div>"
      ],
      "text/plain": [
       "                 file_name  label\n",
       "0    N-0919-RAT-1-bike.wav      0\n",
       "1    N-0919-RAT-1-robb.wav      0\n",
       "2    N-0927-RAT-1-robb.wav      0\n",
       "3    N-0927-RAT-1-bike.wav      0\n",
       "4    N-0926-RAT-1-bike.wav      0\n",
       "..                     ...    ...\n",
       "467   A-396-RAT-1-robb.wav      1\n",
       "468   A-473-RAT-4-bike.wav      1\n",
       "469   A-473-RAT-1-robb.wav      1\n",
       "470   A-473-RAT-1-bike.wav      1\n",
       "471   A-473-RAT-2-robb.wav      1\n",
       "\n",
       "[472 rows x 2 columns]"
      ]
     },
     "execution_count": 6,
     "metadata": {},
     "output_type": "execute_result"
    }
   ],
   "source": [
    "import pandas as pd\n",
    "df = pd.read_csv(\"splited_data/train_filenames.csv\")\n",
    "df"
   ]
  },
  {
   "cell_type": "code",
   "execution_count": 11,
   "id": "a819ec3c-c898-4ade-8107-9d94c8d0d750",
   "metadata": {},
   "outputs": [],
   "source": [
    "import os\n",
    "import random\n",
    "import torch\n",
    "import pandas as pd\n",
    "import torchaudio\n",
    "from torch.utils.data import Dataset, DataLoader, WeightedRandomSampler\n",
    "from pydub import AudioSegment\n",
    "from io import BytesIO\n",
    "import librosa\n",
    "import numpy as np\n",
    "from torchaudio.transforms import Resample\n",
    "from collections import Counter\n",
    "\n",
    "class AphasiaDataset(Dataset):\n",
    "    def __init__(self, csv_file, root_dir, target_sample_rate=16000, fft_size=512, \n",
    "                 hop_length=256, win_length=512, min_duration=10, max_duration=30):\n",
    "        self.root_dir = root_dir\n",
    "        self.target_sample_rate = target_sample_rate\n",
    "        self.fft_size = fft_size\n",
    "        self.hop_length = hop_length\n",
    "        self.win_length = win_length\n",
    "        self.min_duration = min_duration * 1000  # конвертируем в миллисекунды\n",
    "        self.max_duration = max_duration * 1000\n",
    "        self.data = []\n",
    "\n",
    "        # Загружаем список файлов из CSV\n",
    "        df = pd.read_csv(csv_file)\n",
    "\n",
    "        # Обработка и сегментация аудио\n",
    "        for _, row in df.iterrows():\n",
    "            file_name, label = row['file_name'], row['label']\n",
    "            file_path = self.find_audio_file(file_name, label)\n",
    "            if file_path:\n",
    "                try:\n",
    "                    segments = self.process_audio(file_path)\n",
    "                    self.data.extend([(s, label) for s in segments])\n",
    "                except Exception as e:\n",
    "                    print(f\"Error processing {file_path}: {str(e)}\")\n",
    "        \n",
    "        random.shuffle(self.data)\n",
    "    \n",
    "    def find_audio_file(self, file_name, label):\n",
    "        \"\"\"Ищем файл в соответствующей папке по метке\"\"\"\n",
    "        folder = \"Aphasia\" if label == 1 else \"Norm\"\n",
    "        file_name = file_name[:-4]\n",
    "        file_path = os.path.join(self.root_dir, folder, f\"{file_name}.3gp\")  # Убрано \".wav\"\n",
    "        if os.path.exists(file_path):\n",
    "            return file_path\n",
    "        print(f\"Warning: {file_name}.3gp not found in {folder} folder.\")\n",
    "        return None\n",
    "\n",
    "    def process_audio(self, file_path):\n",
    "        audio = AudioSegment.from_file(file_path, format=\"3gp\")\n",
    "        duration = len(audio)  # в миллисекундах\n",
    "        segments = []\n",
    "\n",
    "        if duration < self.min_duration:\n",
    "            return [self.create_spectrogram(audio)]\n",
    "\n",
    "        start = 0\n",
    "        while start + self.min_duration <= duration:\n",
    "            segment_duration = min(random.randint(self.min_duration, self.max_duration), duration - start)\n",
    "            end = start + segment_duration\n",
    "            segment = audio[start:end]\n",
    "            spectrogram = self.create_spectrogram(segment)\n",
    "            if spectrogram is not None:\n",
    "                segments.append(spectrogram)\n",
    "            start = end\n",
    "        return segments\n",
    "\n",
    "    def create_spectrogram(self, segment):\n",
    "        try:\n",
    "            buffer = BytesIO()\n",
    "            segment.export(buffer, format=\"wav\")\n",
    "            buffer.seek(0)\n",
    "            waveform, sample_rate = torchaudio.load(buffer)\n",
    "            \n",
    "            if sample_rate != self.target_sample_rate:\n",
    "                resampler = Resample(sample_rate, self.target_sample_rate)\n",
    "                waveform = resampler(waveform)\n",
    "            \n",
    "            if waveform.shape[1] < self.fft_size:\n",
    "                return None\n",
    "            \n",
    "            y = waveform.numpy().squeeze()\n",
    "            spectrogram = librosa.stft(y, n_fft=self.fft_size, hop_length=self.hop_length, win_length=self.win_length)\n",
    "            mag = np.abs(spectrogram).astype(np.float32)\n",
    "            return torch.tensor(mag.T).unsqueeze(0)  # (1, T, F)\n",
    "        except Exception as e:\n",
    "            print(f\"Spectrogram error: {str(e)}\")\n",
    "            return None\n",
    "\n",
    "    def __len__(self):\n",
    "        return len(self.data)\n",
    "\n",
    "    def __getitem__(self, idx):\n",
    "        spectrogram, label = self.data[idx]\n",
    "        return spectrogram, torch.tensor(label, dtype=torch.long)\n",
    "\n",
    "def pad_sequence(batch):\n",
    "    if not batch:\n",
    "        return torch.zeros(0), torch.zeros(0)\n",
    "    \n",
    "    spectrograms, labels = zip(*batch)\n",
    "    max_len = max(s.shape[1] for s in spectrograms)\n",
    "    freq_bins = spectrograms[0].shape[2]\n",
    "    \n",
    "    padded = torch.zeros(len(spectrograms), 1, max_len, freq_bins)\n",
    "    for i, s in enumerate(spectrograms):\n",
    "        padded[i, :, :s.shape[1], :] = s\n",
    "    \n",
    "    return padded, torch.stack(labels) \n"
   ]
  },
  {
   "cell_type": "code",
   "execution_count": 12,
   "id": "65cb144a-ed2a-46d0-ade7-210ed1f89826",
   "metadata": {},
   "outputs": [],
   "source": [
    "root_dir = \"aphasia\"\n",
    "train_dataset = AphasiaDataset(\"splited_data/train_filenames.csv\", root_dir)\n",
    "test_dataset = AphasiaDataset(\"splited_data/test_filenames.csv\", root_dir)\n",
    "val_dataset = AphasiaDataset(\"splited_data/val_filenames.csv\", root_dir)\n",
    "\n",
    "# Балансировка классов для train\n",
    "train_labels = [label for _, label in train_dataset.data]\n",
    "class_counts = Counter(train_labels)\n",
    "if len(class_counts) < 2:\n",
    "    raise ValueError(\"Один из классов отсутствует в тренировочном наборе\")\n",
    "\n",
    "class_weights = {label: 1.0 / count for label, count in class_counts.items()}\n",
    "weights = [class_weights[label] for _, label in train_dataset.data]\n",
    "train_sampler = WeightedRandomSampler(weights, num_samples=len(train_dataset), replacement=True)\n",
    "\n",
    "# DataLoader'ы\n",
    "train_dataloader = DataLoader(train_dataset, batch_size=4, sampler=train_sampler, collate_fn=pad_sequence, drop_last=True)\n",
    "test_dataloader = DataLoader(test_dataset, batch_size=4, shuffle=False, collate_fn=pad_sequence, drop_last=True)\n",
    "val_dataloader = DataLoader(val_dataset, batch_size=4, shuffle=False, collate_fn=pad_sequence, drop_last=True)\n"
   ]
  },
  {
   "cell_type": "code",
   "execution_count": 14,
   "id": "e5ffee28-9ae3-47cc-9fb4-f4150ea2ee5a",
   "metadata": {},
   "outputs": [
    {
     "name": "stdout",
     "output_type": "stream",
     "text": [
      "415 160\n"
     ]
    }
   ],
   "source": [
    "print(len(train_dataloader), len(test_dataloader))"
   ]
  },
  {
   "cell_type": "code",
   "execution_count": 16,
   "id": "dce1f7b0-1fc5-4b58-bd5f-faf13b67b779",
   "metadata": {},
   "outputs": [],
   "source": [
    "class TimeDistributed(nn.Module):\n",
    "    def __init__(self, module, batch_first=True):\n",
    "        super(TimeDistributed, self).__init__()\n",
    "        self.module = module\n",
    "        self.batch_first = batch_first\n",
    "\n",
    "    def forward(self, input_seq):\n",
    "        assert len(input_seq.size()) > 2\n",
    "        reshaped_input = input_seq.contiguous().view(-1, input_seq.size(-1))\n",
    "        output = self.module(reshaped_input)\n",
    "        if self.batch_first:\n",
    "            output = output.contiguous().view(input_seq.size(0), -1, output.size(-1))\n",
    "        else:\n",
    "            output = output.contiguous().view(-1, input_seq.size(1), output.size(-1))\n",
    "        return output\n",
    "\n",
    "\n",
    "class CNN_BLSTM(nn.Module):\n",
    "    def __init__(self, num_classes=2):\n",
    "        super(CNN_BLSTM, self).__init__()\n",
    "        # CNN\n",
    "        self.conv1 = nn.Sequential(\n",
    "            nn.Conv2d(in_channels=1, out_channels=16, kernel_size=(3, 3), stride=(1, 1), padding=1),\n",
    "            nn.ReLU(),\n",
    "            nn.Conv2d(16, 16, (3, 3), (1, 1), 1),\n",
    "            nn.ReLU(),\n",
    "            nn.Conv2d(16, 16, (3, 3), (1, 3), 1),\n",
    "            nn.ReLU(),\n",
    "        )\n",
    "        self.conv2 = nn.Sequential(\n",
    "            nn.Conv2d(in_channels=16, out_channels=32, kernel_size=(3, 3), stride=(1, 1), padding=1),\n",
    "            nn.ReLU(),\n",
    "            nn.Conv2d(32, 32, (3, 3), (1, 1), 1),\n",
    "            nn.ReLU(),\n",
    "            nn.Conv2d(32, 32, (3, 3), (1, 3), 1),\n",
    "            nn.ReLU(),\n",
    "        )\n",
    "        self.conv3 = nn.Sequential(\n",
    "            nn.Conv2d(in_channels=32, out_channels=64, kernel_size=(3, 3), stride=(1, 1), padding=1),\n",
    "            nn.ReLU(),\n",
    "            nn.Conv2d(64, 64, (3, 3), (1, 1), 1),\n",
    "            nn.ReLU(),\n",
    "            nn.Conv2d(64, 64, (3, 3), (1, 3), 1),\n",
    "            nn.ReLU(),\n",
    "        )\n",
    "        self.conv4 = nn.Sequential(\n",
    "            nn.Conv2d(in_channels=64, out_channels=128, kernel_size=(3, 3), stride=(1, 1), padding=1),\n",
    "            nn.ReLU(),\n",
    "            nn.Conv2d(128, 128, (3, 3), (1, 1), 1),\n",
    "            nn.ReLU(),\n",
    "            nn.Conv2d(128, 128, (3, 3), (1, 3), 1),\n",
    "            nn.ReLU(),\n",
    "        )\n",
    "\n",
    "        # BLSTM\n",
    "        self.blstm1 = nn.LSTM(512, 128, bidirectional=True, batch_first=True)\n",
    "        self.dropout = nn.Dropout(0.3)\n",
    "\n",
    "        # Fully Connected\n",
    "        self.flatten = TimeDistributed(nn.Flatten(), batch_first=True)\n",
    "        self.dense1 = nn.Sequential(\n",
    "            TimeDistributed(nn.Linear(in_features=256, out_features=128), batch_first=True),\n",
    "            nn.ReLU(),\n",
    "            nn.Dropout(0.3),\n",
    "        )\n",
    "\n",
    "        # Final classification layer\n",
    "        self.final_linear = nn.Linear(128, num_classes)\n",
    "\n",
    "    def forward(self, forward_input):\n",
    "        conv1_output = self.conv1(forward_input)\n",
    "        conv2_output = self.conv2(conv1_output)\n",
    "        conv3_output = self.conv3(conv2_output)\n",
    "        conv4_output = self.conv4(conv3_output)\n",
    "\n",
    "        # Reshape for LSTM\n",
    "        conv4_output = conv4_output.permute(0, 2, 1, 3)\n",
    "        conv4_output = torch.reshape(conv4_output, (conv4_output.shape[0], conv4_output.shape[1], 4 * 128))\n",
    "\n",
    "        # BLSTM\n",
    "        blstm_output, _ = self.blstm1(conv4_output)\n",
    "        blstm_output = self.dropout(blstm_output)\n",
    "\n",
    "        # Fully Connected\n",
    "        flatten_output = self.flatten(blstm_output)\n",
    "        fc_output = self.dense1(flatten_output)\n",
    "        #print(fc_output.shape)\n",
    "        # Apply final linear layer to the last time step\n",
    "        logits = self.final_linear(fc_output[:, -1, :])  # [batch_size, num_classes]\n",
    "  \n",
    "        return logits  # [batch_size, num_classes]"
   ]
  },
  {
   "cell_type": "code",
   "execution_count": 17,
   "id": "ea722e3d-8d5a-4fda-84a4-1061cec4d0ae",
   "metadata": {},
   "outputs": [],
   "source": [
    "def evaluate_model(model, dataloader, criterion, device):\n",
    "    model.eval()\n",
    "    acc = 0.0\n",
    "    prec = 0.0\n",
    "    rec = 0.0\n",
    "\n",
    "    with torch.no_grad():\n",
    "        for spectrograms, labels in tqdm(dataloader, desc=\"Validation\"):\n",
    "            spectrograms = spectrograms.to(device)\n",
    "            labels = labels.to(device)\n",
    "            \n",
    "            outputs = model(spectrograms)\n",
    "            preds = torch.argmax(outputs, dim=1).cpu().numpy()  # Получаем предсказанные классы\n",
    "            labels = labels.cpu().numpy()\n",
    "            #print(preds, labels)\n",
    "            acc += accuracy_score(labels, preds)\n",
    "            prec += precision_score(labels, preds, zero_division=1)\n",
    "            rec += recall_score(labels, preds, zero_division=1)\n",
    "            #print(acc, prec, rec)\n",
    "\n",
    "    acc = acc / len(dataloader)\n",
    "    prec = prec / len(dataloader)\n",
    "    rec = rec / len(dataloader)\n",
    "\n",
    "    return acc, prec, rec"
   ]
  },
  {
   "cell_type": "code",
   "execution_count": 18,
   "id": "b36b67a8-4650-4acf-ba8d-0d73e63e5e8a",
   "metadata": {},
   "outputs": [],
   "source": [
    "device = torch.device(\"cuda\" if torch.cuda.is_available() else \"cpu\")\n",
    "num_classes = 2\n",
    "model = CNN_BLSTM(num_classes).to(device)\n",
    "criterion = nn.CrossEntropyLoss()  # Используем CrossEntropyLoss для многоклассовой классификации\n",
    "optimizer = optim.Adam(model.parameters(), lr=1e-4)\n",
    "num_epochs = 50\n",
    "#scheduler = ReduceLROnPlateau(optimizer, mode='max', factor=0.5, patience=5, verbose=True)"
   ]
  },
  {
   "cell_type": "code",
   "execution_count": 19,
   "id": "7301b3ba-7de7-4bfc-a421-14a8fdd8897e",
   "metadata": {},
   "outputs": [
    {
     "name": "stderr",
     "output_type": "stream",
     "text": [
      "Training Epoch 1: 100%|█████████████████████████████████████████████████████| 415/415 [00:56<00:00,  7.36it/s]\n",
      "Validation: 100%|███████████████████████████████████████████████████████████| 160/160 [00:08<00:00, 19.77it/s]\n"
     ]
    },
    {
     "name": "stdout",
     "output_type": "stream",
     "text": [
      "Epoch 1/50 - Train Loss: 0.6931\n",
      "Validation Metrics - Accuracy: 0.1484, Precision: 1.0000, Recall: 0.0000\n"
     ]
    },
    {
     "name": "stderr",
     "output_type": "stream",
     "text": [
      "Training Epoch 2: 100%|█████████████████████████████████████████████████████| 415/415 [00:58<00:00,  7.14it/s]\n",
      "Validation: 100%|███████████████████████████████████████████████████████████| 160/160 [00:08<00:00, 19.41it/s]\n"
     ]
    },
    {
     "name": "stdout",
     "output_type": "stream",
     "text": [
      "Epoch 2/50 - Train Loss: 0.6931\n",
      "Validation Metrics - Accuracy: 0.8516, Precision: 0.8516, Recall: 1.0000\n"
     ]
    },
    {
     "name": "stderr",
     "output_type": "stream",
     "text": [
      "Training Epoch 3: 100%|█████████████████████████████████████████████████████| 415/415 [01:02<00:00,  6.66it/s]\n",
      "Validation: 100%|███████████████████████████████████████████████████████████| 160/160 [00:09<00:00, 17.56it/s]\n"
     ]
    },
    {
     "name": "stdout",
     "output_type": "stream",
     "text": [
      "Epoch 3/50 - Train Loss: 0.6931\n",
      "Validation Metrics - Accuracy: 0.8516, Precision: 0.8516, Recall: 1.0000\n"
     ]
    },
    {
     "name": "stderr",
     "output_type": "stream",
     "text": [
      "Training Epoch 4: 100%|█████████████████████████████████████████████████████| 415/415 [01:07<00:00,  6.15it/s]\n",
      "Validation: 100%|███████████████████████████████████████████████████████████| 160/160 [00:09<00:00, 16.71it/s]\n"
     ]
    },
    {
     "name": "stdout",
     "output_type": "stream",
     "text": [
      "Epoch 4/50 - Train Loss: 0.6936\n",
      "Validation Metrics - Accuracy: 0.8516, Precision: 0.8516, Recall: 1.0000\n"
     ]
    },
    {
     "name": "stderr",
     "output_type": "stream",
     "text": [
      "Training Epoch 5: 100%|█████████████████████████████████████████████████████| 415/415 [01:08<00:00,  6.04it/s]\n",
      "Validation: 100%|███████████████████████████████████████████████████████████| 160/160 [00:09<00:00, 16.41it/s]\n"
     ]
    },
    {
     "name": "stdout",
     "output_type": "stream",
     "text": [
      "Epoch 5/50 - Train Loss: 0.6933\n",
      "Validation Metrics - Accuracy: 0.1484, Precision: 1.0000, Recall: 0.0000\n"
     ]
    },
    {
     "name": "stderr",
     "output_type": "stream",
     "text": [
      "Training Epoch 6: 100%|█████████████████████████████████████████████████████| 415/415 [01:10<00:00,  5.89it/s]\n",
      "Validation: 100%|███████████████████████████████████████████████████████████| 160/160 [00:09<00:00, 16.33it/s]\n"
     ]
    },
    {
     "name": "stdout",
     "output_type": "stream",
     "text": [
      "Epoch 6/50 - Train Loss: 0.6935\n",
      "Validation Metrics - Accuracy: 0.1484, Precision: 1.0000, Recall: 0.0000\n"
     ]
    },
    {
     "name": "stderr",
     "output_type": "stream",
     "text": [
      "Training Epoch 7: 100%|█████████████████████████████████████████████████████| 415/415 [01:11<00:00,  5.83it/s]\n",
      "Validation: 100%|███████████████████████████████████████████████████████████| 160/160 [00:09<00:00, 16.30it/s]\n"
     ]
    },
    {
     "name": "stdout",
     "output_type": "stream",
     "text": [
      "Epoch 7/50 - Train Loss: 0.6933\n",
      "Validation Metrics - Accuracy: 0.1484, Precision: 1.0000, Recall: 0.0000\n"
     ]
    },
    {
     "name": "stderr",
     "output_type": "stream",
     "text": [
      "Training Epoch 8: 100%|█████████████████████████████████████████████████████| 415/415 [01:10<00:00,  5.89it/s]\n",
      "Validation: 100%|███████████████████████████████████████████████████████████| 160/160 [00:09<00:00, 16.21it/s]\n"
     ]
    },
    {
     "name": "stdout",
     "output_type": "stream",
     "text": [
      "Epoch 8/50 - Train Loss: 0.6936\n",
      "Validation Metrics - Accuracy: 0.1484, Precision: 1.0000, Recall: 0.0000\n"
     ]
    },
    {
     "name": "stderr",
     "output_type": "stream",
     "text": [
      "Training Epoch 9: 100%|█████████████████████████████████████████████████████| 415/415 [01:09<00:00,  5.93it/s]\n",
      "Validation: 100%|███████████████████████████████████████████████████████████| 160/160 [00:10<00:00, 15.80it/s]\n"
     ]
    },
    {
     "name": "stdout",
     "output_type": "stream",
     "text": [
      "Epoch 9/50 - Train Loss: 0.6936\n",
      "Validation Metrics - Accuracy: 0.1484, Precision: 1.0000, Recall: 0.0000\n"
     ]
    },
    {
     "name": "stderr",
     "output_type": "stream",
     "text": [
      "Training Epoch 10: 100%|████████████████████████████████████████████████████| 415/415 [01:14<00:00,  5.54it/s]\n",
      "Validation: 100%|███████████████████████████████████████████████████████████| 160/160 [00:10<00:00, 15.58it/s]\n"
     ]
    },
    {
     "name": "stdout",
     "output_type": "stream",
     "text": [
      "Epoch 10/50 - Train Loss: 0.6915\n",
      "Validation Metrics - Accuracy: 0.1484, Precision: 1.0000, Recall: 0.0000\n"
     ]
    },
    {
     "name": "stderr",
     "output_type": "stream",
     "text": [
      "Training Epoch 11: 100%|████████████████████████████████████████████████████| 415/415 [01:13<00:00,  5.61it/s]\n",
      "Validation: 100%|███████████████████████████████████████████████████████████| 160/160 [00:10<00:00, 15.89it/s]\n"
     ]
    },
    {
     "name": "stdout",
     "output_type": "stream",
     "text": [
      "Epoch 11/50 - Train Loss: 0.6928\n",
      "Validation Metrics - Accuracy: 0.8203, Precision: 0.8562, Recall: 0.9516\n"
     ]
    },
    {
     "name": "stderr",
     "output_type": "stream",
     "text": [
      "Training Epoch 12: 100%|████████████████████████████████████████████████████| 415/415 [01:14<00:00,  5.56it/s]\n",
      "Validation: 100%|███████████████████████████████████████████████████████████| 160/160 [00:10<00:00, 15.51it/s]\n"
     ]
    },
    {
     "name": "stdout",
     "output_type": "stream",
     "text": [
      "Epoch 12/50 - Train Loss: 0.6889\n",
      "Validation Metrics - Accuracy: 0.8422, Precision: 0.8552, Recall: 0.9823\n"
     ]
    },
    {
     "name": "stderr",
     "output_type": "stream",
     "text": [
      "Training Epoch 13: 100%|████████████████████████████████████████████████████| 415/415 [01:13<00:00,  5.62it/s]\n",
      "Validation: 100%|███████████████████████████████████████████████████████████| 160/160 [00:10<00:00, 15.56it/s]\n"
     ]
    },
    {
     "name": "stdout",
     "output_type": "stream",
     "text": [
      "Epoch 13/50 - Train Loss: 0.6905\n",
      "Validation Metrics - Accuracy: 0.8406, Precision: 0.8573, Recall: 0.9771\n"
     ]
    },
    {
     "name": "stderr",
     "output_type": "stream",
     "text": [
      "Training Epoch 14: 100%|████████████████████████████████████████████████████| 415/415 [01:14<00:00,  5.59it/s]\n",
      "Validation: 100%|███████████████████████████████████████████████████████████| 160/160 [00:10<00:00, 15.34it/s]\n"
     ]
    },
    {
     "name": "stdout",
     "output_type": "stream",
     "text": [
      "Epoch 14/50 - Train Loss: 0.6856\n",
      "Validation Metrics - Accuracy: 0.3312, Precision: 0.9344, Recall: 0.2427\n"
     ]
    },
    {
     "name": "stderr",
     "output_type": "stream",
     "text": [
      "Training Epoch 15: 100%|████████████████████████████████████████████████████| 415/415 [01:16<00:00,  5.44it/s]\n",
      "Validation: 100%|███████████████████████████████████████████████████████████| 160/160 [00:10<00:00, 15.11it/s]\n"
     ]
    },
    {
     "name": "stdout",
     "output_type": "stream",
     "text": [
      "Epoch 15/50 - Train Loss: 0.6892\n",
      "Validation Metrics - Accuracy: 0.8438, Precision: 0.8552, Recall: 0.9839\n"
     ]
    },
    {
     "name": "stderr",
     "output_type": "stream",
     "text": [
      "Training Epoch 16: 100%|████████████████████████████████████████████████████| 415/415 [01:16<00:00,  5.46it/s]\n",
      "Validation: 100%|███████████████████████████████████████████████████████████| 160/160 [00:10<00:00, 15.25it/s]\n"
     ]
    },
    {
     "name": "stdout",
     "output_type": "stream",
     "text": [
      "Epoch 16/50 - Train Loss: 0.6805\n",
      "Validation Metrics - Accuracy: 0.3141, Precision: 0.9437, Recall: 0.2208\n"
     ]
    },
    {
     "name": "stderr",
     "output_type": "stream",
     "text": [
      "Training Epoch 17: 100%|████████████████████████████████████████████████████| 415/415 [01:17<00:00,  5.36it/s]\n",
      "Validation: 100%|███████████████████████████████████████████████████████████| 160/160 [00:10<00:00, 14.86it/s]\n"
     ]
    },
    {
     "name": "stdout",
     "output_type": "stream",
     "text": [
      "Epoch 17/50 - Train Loss: 0.6765\n",
      "Validation Metrics - Accuracy: 0.3125, Precision: 0.9500, Recall: 0.2161\n"
     ]
    },
    {
     "name": "stderr",
     "output_type": "stream",
     "text": [
      "Training Epoch 18: 100%|████████████████████████████████████████████████████| 415/415 [01:18<00:00,  5.27it/s]\n",
      "Validation: 100%|███████████████████████████████████████████████████████████| 160/160 [00:10<00:00, 15.18it/s]\n"
     ]
    },
    {
     "name": "stdout",
     "output_type": "stream",
     "text": [
      "Epoch 18/50 - Train Loss: 0.6696\n",
      "Validation Metrics - Accuracy: 0.3203, Precision: 0.9656, Recall: 0.2135\n"
     ]
    },
    {
     "name": "stderr",
     "output_type": "stream",
     "text": [
      "Training Epoch 19: 100%|████████████████████████████████████████████████████| 415/415 [01:18<00:00,  5.26it/s]\n",
      "Validation: 100%|███████████████████████████████████████████████████████████| 160/160 [00:10<00:00, 14.91it/s]\n"
     ]
    },
    {
     "name": "stdout",
     "output_type": "stream",
     "text": [
      "Epoch 19/50 - Train Loss: 0.6680\n",
      "Validation Metrics - Accuracy: 0.3391, Precision: 0.9094, Recall: 0.2568\n"
     ]
    },
    {
     "name": "stderr",
     "output_type": "stream",
     "text": [
      "Training Epoch 20: 100%|████████████████████████████████████████████████████| 415/415 [01:18<00:00,  5.26it/s]\n",
      "Validation: 100%|███████████████████████████████████████████████████████████| 160/160 [00:10<00:00, 14.63it/s]\n"
     ]
    },
    {
     "name": "stdout",
     "output_type": "stream",
     "text": [
      "Epoch 20/50 - Train Loss: 0.6748\n",
      "Validation Metrics - Accuracy: 0.3500, Precision: 0.9094, Recall: 0.2688\n"
     ]
    },
    {
     "name": "stderr",
     "output_type": "stream",
     "text": [
      "Training Epoch 21: 100%|████████████████████████████████████████████████████| 415/415 [01:19<00:00,  5.22it/s]\n",
      "Validation: 100%|███████████████████████████████████████████████████████████| 160/160 [00:10<00:00, 14.67it/s]\n"
     ]
    },
    {
     "name": "stdout",
     "output_type": "stream",
     "text": [
      "Epoch 21/50 - Train Loss: 0.6556\n",
      "Validation Metrics - Accuracy: 0.3500, Precision: 0.9406, Recall: 0.2552\n"
     ]
    },
    {
     "name": "stderr",
     "output_type": "stream",
     "text": [
      "Training Epoch 22: 100%|████████████████████████████████████████████████████| 415/415 [01:20<00:00,  5.13it/s]\n",
      "Validation: 100%|███████████████████████████████████████████████████████████| 160/160 [00:11<00:00, 14.38it/s]\n"
     ]
    },
    {
     "name": "stdout",
     "output_type": "stream",
     "text": [
      "Epoch 22/50 - Train Loss: 0.6518\n",
      "Validation Metrics - Accuracy: 0.3484, Precision: 0.9000, Recall: 0.2703\n"
     ]
    },
    {
     "name": "stderr",
     "output_type": "stream",
     "text": [
      "Training Epoch 23: 100%|████████████████████████████████████████████████████| 415/415 [01:19<00:00,  5.23it/s]\n",
      "Validation: 100%|███████████████████████████████████████████████████████████| 160/160 [00:10<00:00, 14.79it/s]\n"
     ]
    },
    {
     "name": "stdout",
     "output_type": "stream",
     "text": [
      "Epoch 23/50 - Train Loss: 0.6670\n",
      "Validation Metrics - Accuracy: 0.3516, Precision: 0.9219, Recall: 0.2672\n"
     ]
    },
    {
     "name": "stderr",
     "output_type": "stream",
     "text": [
      "Training Epoch 24: 100%|████████████████████████████████████████████████████| 415/415 [01:20<00:00,  5.16it/s]\n",
      "Validation: 100%|███████████████████████████████████████████████████████████| 160/160 [00:11<00:00, 14.20it/s]\n"
     ]
    },
    {
     "name": "stdout",
     "output_type": "stream",
     "text": [
      "Epoch 24/50 - Train Loss: 0.6464\n",
      "Validation Metrics - Accuracy: 0.3641, Precision: 0.9094, Recall: 0.2859\n"
     ]
    },
    {
     "name": "stderr",
     "output_type": "stream",
     "text": [
      "Training Epoch 25: 100%|████████████████████████████████████████████████████| 415/415 [01:21<00:00,  5.11it/s]\n",
      "Validation: 100%|███████████████████████████████████████████████████████████| 160/160 [00:11<00:00, 14.18it/s]\n"
     ]
    },
    {
     "name": "stdout",
     "output_type": "stream",
     "text": [
      "Epoch 25/50 - Train Loss: 0.6466\n",
      "Validation Metrics - Accuracy: 0.3422, Precision: 0.9406, Recall: 0.2510\n"
     ]
    },
    {
     "name": "stderr",
     "output_type": "stream",
     "text": [
      "Training Epoch 26: 100%|████████████████████████████████████████████████████| 415/415 [01:22<00:00,  5.01it/s]\n",
      "Validation: 100%|███████████████████████████████████████████████████████████| 160/160 [00:10<00:00, 14.60it/s]\n"
     ]
    },
    {
     "name": "stdout",
     "output_type": "stream",
     "text": [
      "Epoch 26/50 - Train Loss: 0.6527\n",
      "Validation Metrics - Accuracy: 0.8406, Precision: 0.8818, Recall: 0.9385\n"
     ]
    },
    {
     "name": "stderr",
     "output_type": "stream",
     "text": [
      "Training Epoch 27: 100%|████████████████████████████████████████████████████| 415/415 [01:24<00:00,  4.90it/s]\n",
      "Validation: 100%|███████████████████████████████████████████████████████████| 160/160 [00:11<00:00, 14.18it/s]\n"
     ]
    },
    {
     "name": "stdout",
     "output_type": "stream",
     "text": [
      "Epoch 27/50 - Train Loss: 0.6588\n",
      "Validation Metrics - Accuracy: 0.8500, Precision: 0.8547, Recall: 0.9927\n"
     ]
    },
    {
     "name": "stderr",
     "output_type": "stream",
     "text": [
      "Training Epoch 28: 100%|████████████████████████████████████████████████████| 415/415 [01:25<00:00,  4.83it/s]\n",
      "Validation: 100%|███████████████████████████████████████████████████████████| 160/160 [00:11<00:00, 13.89it/s]\n"
     ]
    },
    {
     "name": "stdout",
     "output_type": "stream",
     "text": [
      "Epoch 28/50 - Train Loss: 0.6667\n",
      "Validation Metrics - Accuracy: 0.5750, Precision: 0.9510, Recall: 0.5214\n"
     ]
    },
    {
     "name": "stderr",
     "output_type": "stream",
     "text": [
      "Training Epoch 29: 100%|████████████████████████████████████████████████████| 415/415 [01:24<00:00,  4.92it/s]\n",
      "Validation: 100%|███████████████████████████████████████████████████████████| 160/160 [00:11<00:00, 14.38it/s]\n"
     ]
    },
    {
     "name": "stdout",
     "output_type": "stream",
     "text": [
      "Epoch 29/50 - Train Loss: 0.6648\n",
      "Validation Metrics - Accuracy: 0.3859, Precision: 0.9448, Recall: 0.3010\n"
     ]
    },
    {
     "name": "stderr",
     "output_type": "stream",
     "text": [
      "Training Epoch 30: 100%|████████████████████████████████████████████████████| 415/415 [01:24<00:00,  4.93it/s]\n",
      "Validation: 100%|███████████████████████████████████████████████████████████| 160/160 [00:11<00:00, 14.00it/s]\n"
     ]
    },
    {
     "name": "stdout",
     "output_type": "stream",
     "text": [
      "Epoch 30/50 - Train Loss: 0.6665\n",
      "Validation Metrics - Accuracy: 0.3328, Precision: 0.9594, Recall: 0.2365\n"
     ]
    },
    {
     "name": "stderr",
     "output_type": "stream",
     "text": [
      "Training Epoch 31: 100%|████████████████████████████████████████████████████| 415/415 [01:24<00:00,  4.94it/s]\n",
      "Validation: 100%|███████████████████████████████████████████████████████████| 160/160 [00:11<00:00, 14.52it/s]\n"
     ]
    },
    {
     "name": "stdout",
     "output_type": "stream",
     "text": [
      "Epoch 31/50 - Train Loss: 0.6517\n",
      "Validation Metrics - Accuracy: 0.8500, Precision: 0.8646, Recall: 0.9771\n"
     ]
    },
    {
     "name": "stderr",
     "output_type": "stream",
     "text": [
      "Training Epoch 32: 100%|████████████████████████████████████████████████████| 415/415 [01:23<00:00,  4.98it/s]\n",
      "Validation: 100%|███████████████████████████████████████████████████████████| 160/160 [00:11<00:00, 14.35it/s]\n"
     ]
    },
    {
     "name": "stdout",
     "output_type": "stream",
     "text": [
      "Epoch 32/50 - Train Loss: 0.6499\n",
      "Validation Metrics - Accuracy: 0.3297, Precision: 0.9437, Recall: 0.2307\n"
     ]
    },
    {
     "name": "stderr",
     "output_type": "stream",
     "text": [
      "Training Epoch 33: 100%|████████████████████████████████████████████████████| 415/415 [01:21<00:00,  5.11it/s]\n",
      "Validation: 100%|███████████████████████████████████████████████████████████| 160/160 [00:11<00:00, 14.33it/s]\n"
     ]
    },
    {
     "name": "stdout",
     "output_type": "stream",
     "text": [
      "Epoch 33/50 - Train Loss: 0.6477\n",
      "Validation Metrics - Accuracy: 0.4391, Precision: 0.9323, Recall: 0.3698\n"
     ]
    },
    {
     "name": "stderr",
     "output_type": "stream",
     "text": [
      "Training Epoch 34: 100%|████████████████████████████████████████████████████| 415/415 [01:23<00:00,  4.97it/s]\n",
      "Validation: 100%|███████████████████████████████████████████████████████████| 160/160 [00:11<00:00, 13.87it/s]\n"
     ]
    },
    {
     "name": "stdout",
     "output_type": "stream",
     "text": [
      "Epoch 34/50 - Train Loss: 0.6364\n",
      "Validation Metrics - Accuracy: 0.8359, Precision: 0.8688, Recall: 0.9453\n"
     ]
    },
    {
     "name": "stderr",
     "output_type": "stream",
     "text": [
      "Training Epoch 35: 100%|████████████████████████████████████████████████████| 415/415 [01:26<00:00,  4.81it/s]\n",
      "Validation: 100%|███████████████████████████████████████████████████████████| 160/160 [00:11<00:00, 14.00it/s]\n"
     ]
    },
    {
     "name": "stdout",
     "output_type": "stream",
     "text": [
      "Epoch 35/50 - Train Loss: 0.6219\n",
      "Validation Metrics - Accuracy: 0.8609, Precision: 0.8740, Recall: 0.9818\n"
     ]
    },
    {
     "name": "stderr",
     "output_type": "stream",
     "text": [
      "Training Epoch 36: 100%|████████████████████████████████████████████████████| 415/415 [01:25<00:00,  4.88it/s]\n",
      "Validation: 100%|███████████████████████████████████████████████████████████| 160/160 [00:11<00:00, 14.03it/s]\n"
     ]
    },
    {
     "name": "stdout",
     "output_type": "stream",
     "text": [
      "Epoch 36/50 - Train Loss: 0.6199\n",
      "Validation Metrics - Accuracy: 0.8344, Precision: 0.9385, Recall: 0.8719\n"
     ]
    },
    {
     "name": "stderr",
     "output_type": "stream",
     "text": [
      "Training Epoch 37: 100%|████████████████████████████████████████████████████| 415/415 [01:27<00:00,  4.77it/s]\n",
      "Validation: 100%|███████████████████████████████████████████████████████████| 160/160 [00:11<00:00, 14.08it/s]\n"
     ]
    },
    {
     "name": "stdout",
     "output_type": "stream",
     "text": [
      "Epoch 37/50 - Train Loss: 0.5498\n",
      "Validation Metrics - Accuracy: 0.8656, Precision: 0.8703, Recall: 0.9938\n"
     ]
    },
    {
     "name": "stderr",
     "output_type": "stream",
     "text": [
      "Training Epoch 38: 100%|████████████████████████████████████████████████████| 415/415 [01:29<00:00,  4.65it/s]\n",
      "Validation: 100%|███████████████████████████████████████████████████████████| 160/160 [00:11<00:00, 13.82it/s]\n"
     ]
    },
    {
     "name": "stdout",
     "output_type": "stream",
     "text": [
      "Epoch 38/50 - Train Loss: 0.5993\n",
      "Validation Metrics - Accuracy: 0.8953, Precision: 0.9229, Recall: 0.9594\n"
     ]
    },
    {
     "name": "stderr",
     "output_type": "stream",
     "text": [
      "Training Epoch 39: 100%|████████████████████████████████████████████████████| 415/415 [01:28<00:00,  4.68it/s]\n",
      "Validation: 100%|███████████████████████████████████████████████████████████| 160/160 [00:11<00:00, 13.83it/s]\n"
     ]
    },
    {
     "name": "stdout",
     "output_type": "stream",
     "text": [
      "Epoch 39/50 - Train Loss: 0.6022\n",
      "Validation Metrics - Accuracy: 0.8812, Precision: 0.8990, Recall: 0.9693\n"
     ]
    },
    {
     "name": "stderr",
     "output_type": "stream",
     "text": [
      "Training Epoch 40: 100%|████████████████████████████████████████████████████| 415/415 [01:29<00:00,  4.63it/s]\n",
      "Validation: 100%|███████████████████████████████████████████████████████████| 160/160 [00:11<00:00, 14.00it/s]\n"
     ]
    },
    {
     "name": "stdout",
     "output_type": "stream",
     "text": [
      "Epoch 40/50 - Train Loss: 0.5753\n",
      "Validation Metrics - Accuracy: 0.8562, Precision: 0.9536, Recall: 0.8682\n"
     ]
    },
    {
     "name": "stderr",
     "output_type": "stream",
     "text": [
      "Training Epoch 41: 100%|████████████████████████████████████████████████████| 415/415 [01:29<00:00,  4.64it/s]\n",
      "Validation: 100%|███████████████████████████████████████████████████████████| 160/160 [00:12<00:00, 13.18it/s]\n"
     ]
    },
    {
     "name": "stdout",
     "output_type": "stream",
     "text": [
      "Epoch 41/50 - Train Loss: 0.5974\n",
      "Validation Metrics - Accuracy: 0.8156, Precision: 0.9448, Recall: 0.8161\n"
     ]
    },
    {
     "name": "stderr",
     "output_type": "stream",
     "text": [
      "Training Epoch 42: 100%|████████████████████████████████████████████████████| 415/415 [01:29<00:00,  4.65it/s]\n",
      "Validation: 100%|███████████████████████████████████████████████████████████| 160/160 [00:11<00:00, 13.83it/s]\n"
     ]
    },
    {
     "name": "stdout",
     "output_type": "stream",
     "text": [
      "Epoch 42/50 - Train Loss: 0.6060\n",
      "Validation Metrics - Accuracy: 0.9031, Precision: 0.9224, Recall: 0.9698\n"
     ]
    },
    {
     "name": "stderr",
     "output_type": "stream",
     "text": [
      "Training Epoch 43: 100%|████████████████████████████████████████████████████| 415/415 [01:27<00:00,  4.73it/s]\n",
      "Validation: 100%|███████████████████████████████████████████████████████████| 160/160 [00:11<00:00, 13.86it/s]\n"
     ]
    },
    {
     "name": "stdout",
     "output_type": "stream",
     "text": [
      "Epoch 43/50 - Train Loss: 0.6207\n",
      "Validation Metrics - Accuracy: 0.8688, Precision: 0.8682, Recall: 0.9964\n"
     ]
    },
    {
     "name": "stderr",
     "output_type": "stream",
     "text": [
      "Training Epoch 44: 100%|████████████████████████████████████████████████████| 415/415 [01:28<00:00,  4.67it/s]\n",
      "Validation: 100%|███████████████████████████████████████████████████████████| 160/160 [00:11<00:00, 14.06it/s]\n"
     ]
    },
    {
     "name": "stdout",
     "output_type": "stream",
     "text": [
      "Epoch 44/50 - Train Loss: 0.6275\n",
      "Validation Metrics - Accuracy: 0.8922, Precision: 0.9484, Recall: 0.9240\n"
     ]
    },
    {
     "name": "stderr",
     "output_type": "stream",
     "text": [
      "Training Epoch 45: 100%|████████████████████████████████████████████████████| 415/415 [01:27<00:00,  4.74it/s]\n",
      "Validation: 100%|███████████████████████████████████████████████████████████| 160/160 [00:11<00:00, 14.17it/s]\n"
     ]
    },
    {
     "name": "stdout",
     "output_type": "stream",
     "text": [
      "Epoch 45/50 - Train Loss: 0.6400\n",
      "Validation Metrics - Accuracy: 0.6547, Precision: 0.9604, Recall: 0.6182\n"
     ]
    },
    {
     "name": "stderr",
     "output_type": "stream",
     "text": [
      "Training Epoch 46: 100%|████████████████████████████████████████████████████| 415/415 [01:27<00:00,  4.72it/s]\n",
      "Validation: 100%|███████████████████████████████████████████████████████████| 160/160 [00:11<00:00, 13.95it/s]\n"
     ]
    },
    {
     "name": "stdout",
     "output_type": "stream",
     "text": [
      "Epoch 46/50 - Train Loss: 0.5873\n",
      "Validation Metrics - Accuracy: 0.7328, Precision: 0.9646, Recall: 0.7052\n"
     ]
    },
    {
     "name": "stderr",
     "output_type": "stream",
     "text": [
      "Training Epoch 47: 100%|████████████████████████████████████████████████████| 415/415 [01:27<00:00,  4.76it/s]\n",
      "Validation: 100%|███████████████████████████████████████████████████████████| 160/160 [00:11<00:00, 13.89it/s]\n"
     ]
    },
    {
     "name": "stdout",
     "output_type": "stream",
     "text": [
      "Epoch 47/50 - Train Loss: 0.6078\n",
      "Validation Metrics - Accuracy: 0.7016, Precision: 0.9552, Recall: 0.6823\n"
     ]
    },
    {
     "name": "stderr",
     "output_type": "stream",
     "text": [
      "Training Epoch 48: 100%|████████████████████████████████████████████████████| 415/415 [01:27<00:00,  4.73it/s]\n",
      "Validation: 100%|███████████████████████████████████████████████████████████| 160/160 [00:11<00:00, 14.17it/s]\n"
     ]
    },
    {
     "name": "stdout",
     "output_type": "stream",
     "text": [
      "Epoch 48/50 - Train Loss: 0.5801\n",
      "Validation Metrics - Accuracy: 0.6766, Precision: 0.9646, Recall: 0.6401\n"
     ]
    },
    {
     "name": "stderr",
     "output_type": "stream",
     "text": [
      "Training Epoch 49: 100%|████████████████████████████████████████████████████| 415/415 [01:25<00:00,  4.85it/s]\n",
      "Validation: 100%|███████████████████████████████████████████████████████████| 160/160 [00:11<00:00, 13.88it/s]\n"
     ]
    },
    {
     "name": "stdout",
     "output_type": "stream",
     "text": [
      "Epoch 49/50 - Train Loss: 0.6120\n",
      "Validation Metrics - Accuracy: 0.5109, Precision: 0.9719, Recall: 0.4333\n"
     ]
    },
    {
     "name": "stderr",
     "output_type": "stream",
     "text": [
      "Training Epoch 50: 100%|████████████████████████████████████████████████████| 415/415 [01:26<00:00,  4.80it/s]\n",
      "Validation: 100%|███████████████████████████████████████████████████████████| 160/160 [00:11<00:00, 14.25it/s]"
     ]
    },
    {
     "name": "stdout",
     "output_type": "stream",
     "text": [
      "Epoch 50/50 - Train Loss: 0.6232\n",
      "Validation Metrics - Accuracy: 0.8781, Precision: 0.8969, Recall: 0.9604\n"
     ]
    },
    {
     "name": "stderr",
     "output_type": "stream",
     "text": [
      "\n"
     ]
    }
   ],
   "source": [
    "for epoch in range(1, num_epochs + 1):\n",
    "    model.train()\n",
    "    train_loss_list = []\n",
    "    \n",
    "    for spectrograms, labels in tqdm(train_dataloader, desc=f\"Training Epoch {epoch}\"):\n",
    "        spectrograms = spectrograms.to(device)\n",
    "        labels = labels.long().to(device)  # Метки должны быть типа long для CrossEntropyLoss\n",
    "\n",
    "        outputs = model(spectrograms)\n",
    "        \n",
    "        loss = criterion(outputs, labels)\n",
    "        optimizer.zero_grad()\n",
    "        loss.backward()\n",
    "        optimizer.step()\n",
    "        train_loss_list.append(loss.item())\n",
    "\n",
    "    avg_train_loss = torch.tensor(train_loss_list).mean().item()\n",
    "    acc, prec, rec = evaluate_model(model, test_dataloader, criterion, device)\n",
    "    \n",
    "    #scheduler.step(acc)\n",
    "    \n",
    "    print(f\"Epoch {epoch}/{num_epochs} - Train Loss: {avg_train_loss:.4f}\")\n",
    "    print(f\"Validation Metrics - Accuracy: {acc:.4f}, Precision: {prec:.4f}, Recall: {rec:.4f}\")"
   ]
  },
  {
   "cell_type": "code",
   "execution_count": 20,
   "id": "d2d0e2b0-bdcb-4321-b39c-0eda14e38771",
   "metadata": {},
   "outputs": [
    {
     "name": "stderr",
     "output_type": "stream",
     "text": [
      "Validation: 100%|███████████████████████████████████████████████████████████| 138/138 [00:10<00:00, 12.95it/s]\n"
     ]
    }
   ],
   "source": [
    "acc, prec, rec = evaluate_model(model, val_dataloader, criterion, device)"
   ]
  },
  {
   "cell_type": "code",
   "execution_count": 21,
   "id": "db4a448c-ef89-473e-a57e-d22ac3296513",
   "metadata": {},
   "outputs": [
    {
     "name": "stdout",
     "output_type": "stream",
     "text": [
      "Validation Metrics - Accuracy: 0.8460, Precision: 0.9179, Recall: 0.9010\n"
     ]
    }
   ],
   "source": [
    "print(f\"Validation Metrics - Accuracy: {acc:.4f}, Precision: {prec:.4f}, Recall: {rec:.4f}\")"
   ]
  }
 ],
 "metadata": {
  "kernelspec": {
   "display_name": "Python 3 (ipykernel)",
   "language": "python",
   "name": "python3"
  },
  "language_info": {
   "codemirror_mode": {
    "name": "ipython",
    "version": 3
   },
   "file_extension": ".py",
   "mimetype": "text/x-python",
   "name": "python",
   "nbconvert_exporter": "python",
   "pygments_lexer": "ipython3",
   "version": "3.8.18"
  }
 },
 "nbformat": 4,
 "nbformat_minor": 5
}

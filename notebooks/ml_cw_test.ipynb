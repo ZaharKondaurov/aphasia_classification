{
 "cells": [
  {
   "cell_type": "code",
   "id": "initial_id",
   "metadata": {
    "collapsed": true,
    "ExecuteTime": {
     "end_time": "2025-09-02T16:05:50.179805Z",
     "start_time": "2025-09-02T16:05:45.104365Z"
    }
   },
   "source": [
    "import warnings\n",
    "\n",
    "for warn in [UserWarning, FutureWarning]: warnings.filterwarnings(\"ignore\", category = warn)\n",
    "\n",
    "import os\n",
    "import time\n",
    "import torch\n",
    "import torchaudio\n",
    "\n",
    "import numpy as np\n",
    "import pandas as pd\n",
    "\n",
    "from sklearn.metrics import f1_score, recall_score, precision_score, balanced_accuracy_score, accuracy_score, classification_report\n",
    "from sklearn.linear_model import LogisticRegression\n",
    "from sklearn.model_selection import train_test_split\n",
    "\n",
    "import scipy\n",
    "\n",
    "from tqdm import tqdm\n",
    "import librosa\n",
    "\n",
    "from src.utils import *\n",
    "\n",
    "from flaml import AutoML"
   ],
   "outputs": [],
   "execution_count": 1
  },
  {
   "metadata": {
    "ExecuteTime": {
     "end_time": "2025-09-02T16:05:50.187596Z",
     "start_time": "2025-09-02T16:05:50.181341Z"
    }
   },
   "cell_type": "code",
   "source": [
    "SEED = 1984\n",
    "\n",
    "np.random.seed(SEED)\n",
    "torch.manual_seed(SEED)\n",
    "\n",
    "gen = torch.Generator()\n",
    "gen.manual_seed(SEED)\n",
    "\n",
    "SR = 16_000"
   ],
   "id": "e84101b2d5ec4514",
   "outputs": [],
   "execution_count": 2
  },
  {
   "metadata": {
    "ExecuteTime": {
     "end_time": "2025-09-02T16:05:50.206365Z",
     "start_time": "2025-09-02T16:05:50.189435Z"
    }
   },
   "cell_type": "code",
   "source": [
    "DATA_DIR = os.path.join('..', 'data')\n",
    "VOICES_DIR = os.path.join(DATA_DIR, 'Voices_wav')\n",
    "APHASIA_DIR = os.path.join(VOICES_DIR, 'Aphasia')\n",
    "NORM_DIR = os.path.join(VOICES_DIR, 'Norm')"
   ],
   "id": "21e1627f4bf5e2c3",
   "outputs": [],
   "execution_count": 3
  },
  {
   "metadata": {
    "ExecuteTime": {
     "end_time": "2025-09-02T16:05:50.221358Z",
     "start_time": "2025-09-02T16:05:50.211514Z"
    }
   },
   "cell_type": "code",
   "source": [
    "train_data = np.load(os.path.join(DATA_DIR, 'train_data_careful_whisper.npy'), allow_pickle=True)\n",
    "val_data = np.load(os.path.join(DATA_DIR, 'val_data_careful_whisper.npy'), allow_pickle=True)\n",
    "test_data = np.load(os.path.join(DATA_DIR, 'test_data_careful_whisper.npy'), allow_pickle=True)"
   ],
   "id": "2d6ac31ca52441ee",
   "outputs": [],
   "execution_count": 4
  },
  {
   "metadata": {
    "ExecuteTime": {
     "end_time": "2025-09-02T16:05:50.236085Z",
     "start_time": "2025-09-02T16:05:50.222645Z"
    }
   },
   "cell_type": "code",
   "source": [
    "train_features, train_target = train_data[..., :-1], train_data[..., -1]\n",
    "val_features, val_target = val_data[..., :-1], val_data[..., -1]\n",
    "test_features, test_target = test_data[..., :-1], test_data[..., -1]"
   ],
   "id": "53856e54379f17eb",
   "outputs": [],
   "execution_count": 5
  },
  {
   "metadata": {
    "ExecuteTime": {
     "end_time": "2025-09-02T16:05:50.250591Z",
     "start_time": "2025-09-02T16:05:50.237516Z"
    }
   },
   "cell_type": "code",
   "source": [
    "from sklearn.preprocessing import StandardScaler\n",
    "\n",
    "scaler = StandardScaler()\n",
    "train_features = scaler.fit_transform(train_features)\n",
    "val_features = scaler.transform(val_features)\n",
    "test_features = scaler.transform(test_features)"
   ],
   "id": "33ec63a20274609f",
   "outputs": [],
   "execution_count": 6
  },
  {
   "metadata": {
    "ExecuteTime": {
     "end_time": "2025-09-02T16:05:50.266163Z",
     "start_time": "2025-09-02T16:05:50.252279Z"
    }
   },
   "cell_type": "code",
   "source": "train_features.shape, train_target.shape, val_features.shape, val_target.shape, test_features.shape, test_target.shape",
   "id": "569b6a0bd847e87c",
   "outputs": [
    {
     "data": {
      "text/plain": [
       "((472, 23), (472,), (159, 23), (159,), (172, 23), (172,))"
      ]
     },
     "execution_count": 7,
     "metadata": {},
     "output_type": "execute_result"
    }
   ],
   "execution_count": 7
  },
  {
   "metadata": {
    "ExecuteTime": {
     "end_time": "2025-09-02T16:21:40.540775Z",
     "start_time": "2025-09-02T16:05:50.267968Z"
    }
   },
   "cell_type": "code",
   "source": [
    "pre_automl = AutoML()\n",
    "pre_automl.fit(train_features, train_target, task=\"classification\", time_budget=150, X_val=val_features, y_val=val_target, seed=SEED, estimator_list=['lgbm', 'xgboost', 'xgb_limitdepth', 'rf', 'extra_tree', 'catboost'], verbose=False)\n",
    "\n",
    "automl = AutoML()\n",
    "automl.fit(train_features, train_target, task=\"classification\", time_budget=800, X_val=val_features, y_val=val_target, seed=SEED, estimator_list=['lgbm', 'xgboost', 'xgb_limitdepth', 'rf', 'extra_tree', 'catboost'], starting_points=pre_automl.best_config_per_estimator, verbose=False)"
   ],
   "id": "ecddcea99a83571a",
   "outputs": [],
   "execution_count": 8
  },
  {
   "metadata": {
    "ExecuteTime": {
     "end_time": "2025-09-02T16:21:40.562523Z",
     "start_time": "2025-09-02T16:21:40.541540Z"
    }
   },
   "cell_type": "code",
   "source": [
    "preds = automl.predict(test_features) \n",
    "\n",
    "print(classification_report(test_target, preds))"
   ],
   "id": "1b66b85889cb82b4",
   "outputs": [
    {
     "name": "stdout",
     "output_type": "stream",
     "text": [
      "              precision    recall  f1-score   support\n",
      "\n",
      "         0.0       0.73      0.71      0.72        42\n",
      "         1.0       0.91      0.92      0.91       130\n",
      "\n",
      "    accuracy                           0.87       172\n",
      "   macro avg       0.82      0.81      0.82       172\n",
      "weighted avg       0.87      0.87      0.87       172\n",
      "\n"
     ]
    }
   ],
   "execution_count": 9
  },
  {
   "metadata": {
    "ExecuteTime": {
     "end_time": "2025-09-02T16:26:24.669768Z",
     "start_time": "2025-09-02T16:26:24.665123Z"
    }
   },
   "cell_type": "code",
   "source": [
    "train_data = np.load(os.path.join(DATA_DIR, 'train_data_careful_whisper_mc.npy'), allow_pickle=True)\n",
    "val_data = np.load(os.path.join(DATA_DIR, 'val_data_careful_whisper_mc.npy'), allow_pickle=True)\n",
    "test_data = np.load(os.path.join(DATA_DIR, 'test_data_careful_whisper_mc.npy'), allow_pickle=True)\n",
    "train_features, train_target = train_data[..., :-1], train_data[..., -1]\n",
    "val_features, val_target = val_data[..., :-1], val_data[..., -1]\n",
    "test_features, test_target = test_data[..., :-1], test_data[..., -1]"
   ],
   "id": "166d6bcbd96c73c1",
   "outputs": [],
   "execution_count": 10
  },
  {
   "metadata": {
    "ExecuteTime": {
     "end_time": "2025-09-02T16:26:24.945005Z",
     "start_time": "2025-09-02T16:26:24.939485Z"
    }
   },
   "cell_type": "code",
   "source": [
    "scaler = StandardScaler()\n",
    "train_features = scaler.fit_transform(train_features)\n",
    "val_features = scaler.transform(val_features)\n",
    "test_features = scaler.transform(test_features)"
   ],
   "id": "92facd4116a6e9e4",
   "outputs": [],
   "execution_count": 11
  },
  {
   "metadata": {
    "ExecuteTime": {
     "end_time": "2025-09-02T16:42:15.465357Z",
     "start_time": "2025-09-02T16:26:25.221122Z"
    }
   },
   "cell_type": "code",
   "source": [
    "pre_automl = AutoML()\n",
    "pre_automl.fit(train_features, train_target, task=\"classification\", time_budget=150, X_val=val_features, y_val=val_target, seed=SEED, estimator_list=['lgbm', 'xgboost', 'xgb_limitdepth', 'rf', 'extra_tree', 'catboost'], verbose=False)\n",
    "\n",
    "automl = AutoML()\n",
    "automl.fit(train_features, train_target, task=\"classification\", time_budget=800, X_val=val_features, y_val=val_target, seed=SEED, estimator_list=['lgbm', 'xgboost', 'xgb_limitdepth', 'rf', 'extra_tree', 'catboost'], starting_points=pre_automl.best_config_per_estimator, verbose=False)"
   ],
   "id": "45e5ebcd78d7e1fd",
   "outputs": [],
   "execution_count": 12
  },
  {
   "metadata": {
    "ExecuteTime": {
     "end_time": "2025-09-02T16:42:15.480441Z",
     "start_time": "2025-09-02T16:42:15.470558Z"
    }
   },
   "cell_type": "code",
   "source": [
    "preds = automl.predict(test_features) \n",
    "\n",
    "print(classification_report(test_target, preds))"
   ],
   "id": "478ed0b14dac5d87",
   "outputs": [
    {
     "name": "stdout",
     "output_type": "stream",
     "text": [
      "              precision    recall  f1-score   support\n",
      "\n",
      "         0.0       0.74      0.83      0.79        42\n",
      "         1.0       0.27      0.46      0.34        26\n",
      "         2.0       0.43      0.28      0.34        36\n",
      "         3.0       0.36      0.30      0.33        30\n",
      "         4.0       0.00      0.00      0.00         6\n",
      "\n",
      "    accuracy                           0.47       140\n",
      "   macro avg       0.36      0.37      0.36       140\n",
      "weighted avg       0.46      0.47      0.46       140\n",
      "\n"
     ]
    }
   ],
   "execution_count": 13
  },
  {
   "metadata": {},
   "cell_type": "code",
   "outputs": [],
   "execution_count": null,
   "source": "",
   "id": "cf725d48feb37881"
  }
 ],
 "metadata": {
  "kernelspec": {
   "display_name": "Python 3",
   "language": "python",
   "name": "python3"
  },
  "language_info": {
   "codemirror_mode": {
    "name": "ipython",
    "version": 2
   },
   "file_extension": ".py",
   "mimetype": "text/x-python",
   "name": "python",
   "nbconvert_exporter": "python",
   "pygments_lexer": "ipython2",
   "version": "2.7.6"
  }
 },
 "nbformat": 4,
 "nbformat_minor": 5
}

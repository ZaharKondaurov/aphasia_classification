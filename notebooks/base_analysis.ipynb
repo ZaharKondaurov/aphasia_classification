{
 "cells": [
  {
   "cell_type": "code",
   "execution_count": 1,
   "id": "initial_id",
   "metadata": {
    "ExecuteTime": {
     "end_time": "2025-02-01T16:13:03.084293Z",
     "start_time": "2025-02-01T16:13:01.760173Z"
    },
    "collapsed": true
   },
   "outputs": [],
   "source": [
    "import os\n",
    "import numpy as np\n",
    "import pandas as pd\n",
    "import scipy.stats as stats\n",
    "from datetime import datetime\n",
    "from collections import Counter\n",
    "\n",
    "import torch\n",
    "\n",
    "from pydub import AudioSegment\n",
    "import ffmpeg\n",
    "import librosa\n",
    "\n",
    "from tqdm import tqdm\n",
    "\n",
    "import matplotlib.pyplot as plt\n",
    "import seaborn as sns"
   ]
  },
  {
   "cell_type": "markdown",
   "id": "9f661636a6cc1b1e",
   "metadata": {},
   "source": [
    "В этом ноутбуке будет базовый анализ мета данных и самих аудиофайлов."
   ]
  },
  {
   "cell_type": "markdown",
   "id": "7174fc2dc9fec2d6",
   "metadata": {},
   "source": [
    "## 1. Загрузка мета-данных"
   ]
  },
  {
   "cell_type": "code",
   "execution_count": 2,
   "id": "2b8b5d931798e103",
   "metadata": {
    "ExecuteTime": {
     "end_time": "2025-02-01T16:13:03.091046Z",
     "start_time": "2025-02-01T16:13:03.087103Z"
    }
   },
   "outputs": [],
   "source": [
    "DATA_PATH = os.path.join(os.getcwd(), 'data')\n",
    "META_PATH = os.path.join(DATA_PATH, 'Demo RAT discourse production.xlsx')\n",
    "AUDIO_PATH = os.path.join(DATA_PATH, 'Voices')\n",
    "APHASIA_PATH = os.path.join(AUDIO_PATH, \"Aphasia\")\n",
    "NORM_PATH = os.path.join(AUDIO_PATH, \"Norm\")"
   ]
  },
  {
   "cell_type": "code",
   "execution_count": 3,
   "id": "0b92e344",
   "metadata": {},
   "outputs": [],
   "source": [
    "aphasia_filenames = [x[:-4].split(\"-\")[1] for x in os.listdir(APHASIA_PATH)]\n",
    "norm_filenames = [x[:-4].split(\"-\")[1] for x in os.listdir(NORM_PATH)]\n",
    "norm_filenames = [x + '-НРАТ' if x[0] != \"0\" else x[1:] + '-НРАТ' for x in norm_filenames]"
   ]
  },
  {
   "cell_type": "code",
   "execution_count": 4,
   "id": "7cf3ad31",
   "metadata": {},
   "outputs": [
    {
     "data": {
      "text/plain": [
       "608"
      ]
     },
     "execution_count": 4,
     "metadata": {},
     "output_type": "execute_result"
    }
   ],
   "source": [
    "sum(list(Counter(aphasia_filenames).values()))"
   ]
  },
  {
   "cell_type": "code",
   "execution_count": 5,
   "id": "a486990adf5ab6f8",
   "metadata": {
    "ExecuteTime": {
     "end_time": "2025-02-01T16:13:03.430281Z",
     "start_time": "2025-02-01T16:13:03.092984Z"
    }
   },
   "outputs": [
    {
     "data": {
      "text/plain": [
       "((353, 34), (101, 17))"
      ]
     },
     "execution_count": 5,
     "metadata": {},
     "output_type": "execute_result"
    }
   ],
   "source": [
    "meta_data_aphasia = pd.read_excel(META_PATH, sheet_name='пациенты')\n",
    "meta_data_norm = pd.read_excel(META_PATH, sheet_name='норма')\n",
    "\n",
    "meta_data_norm.drop(meta_data_norm.index[-1], axis=0, inplace=True)\n",
    "meta_data_aphasia.shape, meta_data_norm.shape"
   ]
  },
  {
   "cell_type": "code",
   "execution_count": 6,
   "id": "fd357140",
   "metadata": {},
   "outputs": [],
   "source": [
    "meta_data_aphasia[\"Subj_ID\"] = meta_data_aphasia[\"Subj_ID\"].astype(str)"
   ]
  },
  {
   "cell_type": "markdown",
   "id": "b64db5b7",
   "metadata": {},
   "source": [
    "Берём только тех, чьи аудиозаписи есть в датасете"
   ]
  },
  {
   "cell_type": "code",
   "execution_count": 7,
   "id": "8fb69a43",
   "metadata": {},
   "outputs": [
    {
     "data": {
      "text/plain": [
       "(253, 34)"
      ]
     },
     "execution_count": 7,
     "metadata": {},
     "output_type": "execute_result"
    }
   ],
   "source": [
    "meta_data_aphasia = meta_data_aphasia[meta_data_aphasia.iloc[:, 1:2].isin(aphasia_filenames).any(axis=1)]\n",
    "meta_data_aphasia.shape"
   ]
  },
  {
   "cell_type": "code",
   "execution_count": 8,
   "id": "e9d1b80d",
   "metadata": {},
   "outputs": [
    {
     "data": {
      "text/plain": [
       "(101, 17)"
      ]
     },
     "execution_count": 8,
     "metadata": {},
     "output_type": "execute_result"
    }
   ],
   "source": [
    "meta_data_norm = meta_data_norm[meta_data_norm.iloc[:, 0:1].isin(norm_filenames).any(axis=1)]\n",
    "meta_data_norm.shape"
   ]
  },
  {
   "cell_type": "code",
   "execution_count": 9,
   "id": "b93658f84153ca66",
   "metadata": {
    "ExecuteTime": {
     "end_time": "2025-02-01T16:13:03.448932Z",
     "start_time": "2025-02-01T16:13:03.431417Z"
    }
   },
   "outputs": [
    {
     "data": {
      "text/html": [
       "<div>\n",
       "<style scoped>\n",
       "    .dataframe tbody tr th:only-of-type {\n",
       "        vertical-align: middle;\n",
       "    }\n",
       "\n",
       "    .dataframe tbody tr th {\n",
       "        vertical-align: top;\n",
       "    }\n",
       "\n",
       "    .dataframe thead th {\n",
       "        text-align: right;\n",
       "    }\n",
       "</style>\n",
       "<table border=\"1\" class=\"dataframe\">\n",
       "  <thead>\n",
       "    <tr style=\"text-align: right;\">\n",
       "      <th></th>\n",
       "      <th>Unnamed: 0</th>\n",
       "      <th>Subj_ID</th>\n",
       "      <th>Date_of_birth</th>\n",
       "      <th>Age</th>\n",
       "      <th>Sex (m/f)</th>\n",
       "      <th>Education in years</th>\n",
       "      <th>Education level</th>\n",
       "      <th>Stroke_date</th>\n",
       "      <th>Stroked hemisphere (L/R/LR)</th>\n",
       "      <th>N of strokes</th>\n",
       "      <th>...</th>\n",
       "      <th>Time2.1_file_name</th>\n",
       "      <th>Time2.2_file_name</th>\n",
       "      <th>Time3.1_file_name</th>\n",
       "      <th>Time3.2_file_name</th>\n",
       "      <th>Time4.1_file_name</th>\n",
       "      <th>Time4.2_file_name</th>\n",
       "      <th>Time5.1_file_name</th>\n",
       "      <th>Time5.2_file_name</th>\n",
       "      <th>Time6.1_file_name</th>\n",
       "      <th>Time6.2_file_name</th>\n",
       "    </tr>\n",
       "  </thead>\n",
       "  <tbody>\n",
       "    <tr>\n",
       "      <th>0</th>\n",
       "      <td>13-РАТ</td>\n",
       "      <td>1</td>\n",
       "      <td>1957-12-04 00:00:00</td>\n",
       "      <td>58.0</td>\n",
       "      <td>f</td>\n",
       "      <td>NaN</td>\n",
       "      <td>высшее</td>\n",
       "      <td>2005-03-27 00:00:00</td>\n",
       "      <td>L</td>\n",
       "      <td>1.0</td>\n",
       "      <td>...</td>\n",
       "      <td>NaN</td>\n",
       "      <td>NaN</td>\n",
       "      <td>NaN</td>\n",
       "      <td>NaN</td>\n",
       "      <td>NaN</td>\n",
       "      <td>NaN</td>\n",
       "      <td>NaN</td>\n",
       "      <td>NaN</td>\n",
       "      <td>NaN</td>\n",
       "      <td>NaN</td>\n",
       "    </tr>\n",
       "    <tr>\n",
       "      <th>1</th>\n",
       "      <td>22-РАТ</td>\n",
       "      <td>7</td>\n",
       "      <td>1964-03-21 00:00:00</td>\n",
       "      <td>52.0</td>\n",
       "      <td>m</td>\n",
       "      <td>NaN</td>\n",
       "      <td>высшее</td>\n",
       "      <td>2006-06-20 00:00:00</td>\n",
       "      <td>L</td>\n",
       "      <td>1.0</td>\n",
       "      <td>...</td>\n",
       "      <td>NaN</td>\n",
       "      <td>NaN</td>\n",
       "      <td>NaN</td>\n",
       "      <td>NaN</td>\n",
       "      <td>NaN</td>\n",
       "      <td>NaN</td>\n",
       "      <td>NaN</td>\n",
       "      <td>NaN</td>\n",
       "      <td>NaN</td>\n",
       "      <td>NaN</td>\n",
       "    </tr>\n",
       "    <tr>\n",
       "      <th>2</th>\n",
       "      <td>55-РАТ</td>\n",
       "      <td>13</td>\n",
       "      <td>1962-12-06 00:00:00</td>\n",
       "      <td>53.0</td>\n",
       "      <td>m</td>\n",
       "      <td>NaN</td>\n",
       "      <td>сред спец</td>\n",
       "      <td>2008-09-19 00:00:00</td>\n",
       "      <td>L</td>\n",
       "      <td>1.0</td>\n",
       "      <td>...</td>\n",
       "      <td>A-13-RAT-2-robb</td>\n",
       "      <td>NaN</td>\n",
       "      <td>A-13-RAT-3-robb</td>\n",
       "      <td>NaN</td>\n",
       "      <td>A-13-RAT-4-bike</td>\n",
       "      <td>NaN</td>\n",
       "      <td>NaN</td>\n",
       "      <td>NaN</td>\n",
       "      <td>NaN</td>\n",
       "      <td>NaN</td>\n",
       "    </tr>\n",
       "    <tr>\n",
       "      <th>3</th>\n",
       "      <td>Афанасенко СС</td>\n",
       "      <td>35</td>\n",
       "      <td>1963-10-21 00:00:00</td>\n",
       "      <td>53.0</td>\n",
       "      <td>m</td>\n",
       "      <td>NaN</td>\n",
       "      <td>сред спец</td>\n",
       "      <td>2011-09-27 00:00:00</td>\n",
       "      <td>L</td>\n",
       "      <td>1.0</td>\n",
       "      <td>...</td>\n",
       "      <td>A-35-RAT-2-bike</td>\n",
       "      <td>NaN</td>\n",
       "      <td>A-35-RAT-3-bike</td>\n",
       "      <td>A-35-RAT-3-robb</td>\n",
       "      <td>NaN</td>\n",
       "      <td>NaN</td>\n",
       "      <td>NaN</td>\n",
       "      <td>NaN</td>\n",
       "      <td>NaN</td>\n",
       "      <td>NaN</td>\n",
       "    </tr>\n",
       "    <tr>\n",
       "      <th>4</th>\n",
       "      <td>Муксеева ЕА</td>\n",
       "      <td>51</td>\n",
       "      <td>1971-09-22 00:00:00</td>\n",
       "      <td>45.0</td>\n",
       "      <td>f</td>\n",
       "      <td>NaN</td>\n",
       "      <td>высшее</td>\n",
       "      <td>2012-06-16 00:00:00</td>\n",
       "      <td>L</td>\n",
       "      <td>1.0</td>\n",
       "      <td>...</td>\n",
       "      <td>NaN</td>\n",
       "      <td>NaN</td>\n",
       "      <td>NaN</td>\n",
       "      <td>NaN</td>\n",
       "      <td>NaN</td>\n",
       "      <td>NaN</td>\n",
       "      <td>NaN</td>\n",
       "      <td>NaN</td>\n",
       "      <td>NaN</td>\n",
       "      <td>NaN</td>\n",
       "    </tr>\n",
       "  </tbody>\n",
       "</table>\n",
       "<p>5 rows × 34 columns</p>\n",
       "</div>"
      ],
      "text/plain": [
       "      Unnamed: 0 Subj_ID        Date_of_birth   Age Sex (m/f)  \\\n",
       "0         13-РАТ       1  1957-12-04 00:00:00  58.0         f   \n",
       "1         22-РАТ       7  1964-03-21 00:00:00  52.0         m   \n",
       "2         55-РАТ      13  1962-12-06 00:00:00  53.0         m   \n",
       "3  Афанасенко СС      35  1963-10-21 00:00:00  53.0         m   \n",
       "4    Муксеева ЕА      51  1971-09-22 00:00:00  45.0         f   \n",
       "\n",
       "  Education in years Education level          Stroke_date  \\\n",
       "0                NaN          высшее  2005-03-27 00:00:00   \n",
       "1                NaN          высшее  2006-06-20 00:00:00   \n",
       "2                NaN       сред спец  2008-09-19 00:00:00   \n",
       "3                NaN       сред спец  2011-09-27 00:00:00   \n",
       "4                NaN          высшее  2012-06-16 00:00:00   \n",
       "\n",
       "  Stroked hemisphere (L/R/LR)  N of strokes  ... Time2.1_file_name  \\\n",
       "0                           L           1.0  ...               NaN   \n",
       "1                           L           1.0  ...               NaN   \n",
       "2                           L           1.0  ...   A-13-RAT-2-robb   \n",
       "3                           L           1.0  ...   A-35-RAT-2-bike   \n",
       "4                           L           1.0  ...               NaN   \n",
       "\n",
       "   Time2.2_file_name Time3.1_file_name Time3.2_file_name  Time4.1_file_name  \\\n",
       "0                NaN               NaN               NaN                NaN   \n",
       "1                NaN               NaN               NaN                NaN   \n",
       "2                NaN   A-13-RAT-3-robb               NaN    A-13-RAT-4-bike   \n",
       "3                NaN   A-35-RAT-3-bike   A-35-RAT-3-robb                NaN   \n",
       "4                NaN               NaN               NaN                NaN   \n",
       "\n",
       "   Time4.2_file_name Time5.1_file_name Time5.2_file_name Time6.1_file_name  \\\n",
       "0                NaN               NaN               NaN               NaN   \n",
       "1                NaN               NaN               NaN               NaN   \n",
       "2                NaN               NaN               NaN               NaN   \n",
       "3                NaN               NaN               NaN               NaN   \n",
       "4                NaN               NaN               NaN               NaN   \n",
       "\n",
       "  Time6.2_file_name  \n",
       "0               NaN  \n",
       "1               NaN  \n",
       "2               NaN  \n",
       "3               NaN  \n",
       "4               NaN  \n",
       "\n",
       "[5 rows x 34 columns]"
      ]
     },
     "execution_count": 9,
     "metadata": {},
     "output_type": "execute_result"
    }
   ],
   "source": [
    "meta_data_aphasia.head()"
   ]
  },
  {
   "cell_type": "code",
   "execution_count": 10,
   "id": "aea975bbda596fd",
   "metadata": {
    "ExecuteTime": {
     "end_time": "2025-02-01T16:13:03.464581Z",
     "start_time": "2025-02-01T16:13:03.449743Z"
    }
   },
   "outputs": [
    {
     "data": {
      "text/html": [
       "<div>\n",
       "<style scoped>\n",
       "    .dataframe tbody tr th:only-of-type {\n",
       "        vertical-align: middle;\n",
       "    }\n",
       "\n",
       "    .dataframe tbody tr th {\n",
       "        vertical-align: top;\n",
       "    }\n",
       "\n",
       "    .dataframe thead th {\n",
       "        text-align: right;\n",
       "    }\n",
       "</style>\n",
       "<table border=\"1\" class=\"dataframe\">\n",
       "  <thead>\n",
       "    <tr style=\"text-align: right;\">\n",
       "      <th></th>\n",
       "      <th>№</th>\n",
       "      <th>Порядок предъявления проб</th>\n",
       "      <th>Дата проведения РАТа</th>\n",
       "      <th>Возрастная группа</th>\n",
       "      <th>Дата рождения</th>\n",
       "      <th>Пол</th>\n",
       "      <th>Образование</th>\n",
       "      <th>Профессия</th>\n",
       "      <th>Место жительства</th>\n",
       "      <th>Рукость</th>\n",
       "      <th>Биллингвизм</th>\n",
       "      <th>Неврологические/психиатрические расстройства</th>\n",
       "      <th>Медицинские препараты</th>\n",
       "      <th>Проблемы со слухом/зрением</th>\n",
       "      <th>Комментарии</th>\n",
       "      <th>bike_file_name</th>\n",
       "      <th>robbery_file_name</th>\n",
       "    </tr>\n",
       "  </thead>\n",
       "  <tbody>\n",
       "    <tr>\n",
       "      <th>0</th>\n",
       "      <td>901-НРАТ</td>\n",
       "      <td>2</td>\n",
       "      <td>28.08.2016</td>\n",
       "      <td>2</td>\n",
       "      <td>19.05.1972</td>\n",
       "      <td>м</td>\n",
       "      <td>ученая степень</td>\n",
       "      <td>военнослужащий</td>\n",
       "      <td>Москва</td>\n",
       "      <td>правша</td>\n",
       "      <td>нет</td>\n",
       "      <td>нет</td>\n",
       "      <td>нет</td>\n",
       "      <td>нет</td>\n",
       "      <td>в порядке предъявления 2 (для нечетных) сначал...</td>\n",
       "      <td>N-0901-RAT-1-bike</td>\n",
       "      <td>N-0901-RAT-1-robb</td>\n",
       "    </tr>\n",
       "    <tr>\n",
       "      <th>1</th>\n",
       "      <td>902-НРАТ</td>\n",
       "      <td>1</td>\n",
       "      <td>28.08.2016</td>\n",
       "      <td>3</td>\n",
       "      <td>1965</td>\n",
       "      <td>ж</td>\n",
       "      <td>среднее специальное</td>\n",
       "      <td>медцина</td>\n",
       "      <td>Москва</td>\n",
       "      <td>правша</td>\n",
       "      <td>нет</td>\n",
       "      <td>нет</td>\n",
       "      <td>нет</td>\n",
       "      <td>нет</td>\n",
       "      <td>NaN</td>\n",
       "      <td>N-0902-RAT-1-bike</td>\n",
       "      <td>N-0902-RAT-1-robb</td>\n",
       "    </tr>\n",
       "    <tr>\n",
       "      <th>2</th>\n",
       "      <td>903-НРАТ</td>\n",
       "      <td>2</td>\n",
       "      <td>30.08.2016</td>\n",
       "      <td>1</td>\n",
       "      <td>07.07.1995</td>\n",
       "      <td>ж</td>\n",
       "      <td>неоконченное высшее</td>\n",
       "      <td>студент</td>\n",
       "      <td>Санкт-Петербург</td>\n",
       "      <td>правша</td>\n",
       "      <td>нет</td>\n",
       "      <td>нет</td>\n",
       "      <td>нет</td>\n",
       "      <td>нет</td>\n",
       "      <td>NaN</td>\n",
       "      <td>N-0903-RAT-1-bike</td>\n",
       "      <td>N-0903-RAT-1-robb</td>\n",
       "    </tr>\n",
       "    <tr>\n",
       "      <th>3</th>\n",
       "      <td>904-НРАТ</td>\n",
       "      <td>1</td>\n",
       "      <td>06.09.2016</td>\n",
       "      <td>1</td>\n",
       "      <td>09.01.1994</td>\n",
       "      <td>ж</td>\n",
       "      <td>неоконченное высшее</td>\n",
       "      <td>лингвистика</td>\n",
       "      <td>Москва</td>\n",
       "      <td>правша</td>\n",
       "      <td>да(чувашский)</td>\n",
       "      <td>нет</td>\n",
       "      <td>нет</td>\n",
       "      <td>нет</td>\n",
       "      <td>NaN</td>\n",
       "      <td>N-0904-RAT-1-bike</td>\n",
       "      <td>N-0904-RAT-1-robb</td>\n",
       "    </tr>\n",
       "    <tr>\n",
       "      <th>4</th>\n",
       "      <td>905-НРАТ</td>\n",
       "      <td>2</td>\n",
       "      <td>06.09.2016</td>\n",
       "      <td>1</td>\n",
       "      <td>03.10.1995</td>\n",
       "      <td>ж</td>\n",
       "      <td>неоконченное высшее</td>\n",
       "      <td>лингвистика</td>\n",
       "      <td>Химки</td>\n",
       "      <td>правша</td>\n",
       "      <td>нет</td>\n",
       "      <td>нет</td>\n",
       "      <td>нет</td>\n",
       "      <td>нет</td>\n",
       "      <td>NaN</td>\n",
       "      <td>N-0905-RAT-1-bike</td>\n",
       "      <td>N-0905-RAT-1-robb</td>\n",
       "    </tr>\n",
       "  </tbody>\n",
       "</table>\n",
       "</div>"
      ],
      "text/plain": [
       "          № Порядок предъявления проб Дата проведения РАТа Возрастная группа  \\\n",
       "0  901-НРАТ                         2           28.08.2016                 2   \n",
       "1  902-НРАТ                         1           28.08.2016                 3   \n",
       "2  903-НРАТ                         2           30.08.2016                 1   \n",
       "3  904-НРАТ                         1           06.09.2016                 1   \n",
       "4  905-НРАТ                         2           06.09.2016                 1   \n",
       "\n",
       "  Дата рождения Пол          Образование       Профессия Место жительства  \\\n",
       "0    19.05.1972   м       ученая степень  военнослужащий           Москва   \n",
       "1          1965   ж  среднее специальное         медцина           Москва   \n",
       "2    07.07.1995   ж  неоконченное высшее         студент  Санкт-Петербург   \n",
       "3    09.01.1994   ж  неоконченное высшее     лингвистика           Москва   \n",
       "4    03.10.1995   ж  неоконченное высшее     лингвистика            Химки   \n",
       "\n",
       "  Рукость    Биллингвизм Неврологические/психиатрические расстройства  \\\n",
       "0  правша            нет                                          нет   \n",
       "1  правша            нет                                          нет   \n",
       "2  правша            нет                                          нет   \n",
       "3  правша  да(чувашский)                                          нет   \n",
       "4  правша            нет                                          нет   \n",
       "\n",
       "  Медицинские препараты Проблемы со слухом/зрением  \\\n",
       "0                   нет                        нет   \n",
       "1                   нет                        нет   \n",
       "2                   нет                        нет   \n",
       "3                   нет                        нет   \n",
       "4                   нет                        нет   \n",
       "\n",
       "                                         Комментарии     bike_file_name  \\\n",
       "0  в порядке предъявления 2 (для нечетных) сначал...  N-0901-RAT-1-bike   \n",
       "1                                                NaN  N-0902-RAT-1-bike   \n",
       "2                                                NaN  N-0903-RAT-1-bike   \n",
       "3                                                NaN  N-0904-RAT-1-bike   \n",
       "4                                                NaN  N-0905-RAT-1-bike   \n",
       "\n",
       "   robbery_file_name  \n",
       "0  N-0901-RAT-1-robb  \n",
       "1  N-0902-RAT-1-robb  \n",
       "2  N-0903-RAT-1-robb  \n",
       "3  N-0904-RAT-1-robb  \n",
       "4  N-0905-RAT-1-robb  "
      ]
     },
     "execution_count": 10,
     "metadata": {},
     "output_type": "execute_result"
    }
   ],
   "source": [
    "meta_data_norm.head()"
   ]
  },
  {
   "cell_type": "code",
   "execution_count": 11,
   "id": "3d04271726e3317",
   "metadata": {
    "ExecuteTime": {
     "end_time": "2025-02-01T16:13:03.475357Z",
     "start_time": "2025-02-01T16:13:03.465215Z"
    }
   },
   "outputs": [
    {
     "data": {
      "text/plain": [
       "Index(['Unnamed: 0', 'Subj_ID', 'Date_of_birth', 'Age', 'Sex (m/f)',\n",
       "       'Education in years', 'Education level', 'Stroke_date',\n",
       "       'Stroked hemisphere (L/R/LR)', 'N of strokes',\n",
       "       'Aphasia/Norm (A/N), A includes all patients, even with just dysarthria',\n",
       "       'Aphasia_Severity \\n0 - no aphasia\\n1 - very mild\\n2 - mild\\n3 - mild-moderate\\n4 - moderate\\n5 - moderate-severe\\n6 - severe\\n7 - very severe',\n",
       "       'Aphasia_Types\\n1 - efferent motor\\n2 - afferent motor\\n3 - complex motor\\n4 - dynamic\\n5 - acoustic-mnestic\\n6 - sensory\\n7 - semantic\\n8 - other',\n",
       "       'Dominant_Aphasia\\n1 - efferent motor\\n2 - afferent motor\\n3 - complex motor\\n4 - dynamic\\n5 - acoustic-mnestic\\n6 - sensory\\n7 - semantic\\n8 - other',\n",
       "       'Dysarthria (1/0)',\n",
       "       'Dysarthria_Severity \\n0 - no dysarthria\\n1 - very mild\\n2 - mild\\n3 - mild-moderate\\n4 - moderate\\n5 - moderate-severe\\n6 - severe\\n7 - very severe',\n",
       "       'Time1_date', 'Time2_date', 'Time3_date', 'Time4_date', 'Time5_date',\n",
       "       'Time6_date', 'Time1.1_file_name', 'Time1.2_file_name',\n",
       "       'Time2.1_file_name', 'Time2.2_file_name', 'Time3.1_file_name',\n",
       "       'Time3.2_file_name', 'Time4.1_file_name', 'Time4.2_file_name',\n",
       "       'Time5.1_file_name', 'Time5.2_file_name', 'Time6.1_file_name',\n",
       "       'Time6.2_file_name'],\n",
       "      dtype='object')"
      ]
     },
     "execution_count": 11,
     "metadata": {},
     "output_type": "execute_result"
    }
   ],
   "source": [
    "meta_data_aphasia.columns"
   ]
  },
  {
   "cell_type": "markdown",
   "id": "a403108523345b32",
   "metadata": {},
   "source": [
    "Переименуем колонки."
   ]
  },
  {
   "cell_type": "code",
   "execution_count": 12,
   "id": "1711f23c0edee2eb",
   "metadata": {
    "ExecuteTime": {
     "end_time": "2025-02-01T16:13:03.486179Z",
     "start_time": "2025-02-01T16:13:03.476453Z"
    }
   },
   "outputs": [],
   "source": [
    "meta_data_aphasia.rename(columns={'Stroked hemisphere (L/R/LR)': 'Stroked hemisphere',\n",
    "                          'Aphasia/Norm (A/N), A includes all patients, even with just dysarthria': 'Aphasia/Norm', \n",
    "                          'Aphasia_Severity \\n0 - no aphasia\\n1 - very mild\\n2 - mild\\n3 - mild-moderate\\n4 - moderate\\n5 - moderate-severe\\n6 - severe\\n7 - very severe': 'Aphasia_Severity',\n",
    "                          'Aphasia_Types\\n1 - efferent motor\\n2 - afferent motor\\n3 - complex motor\\n4 - dynamic\\n5 - acoustic-mnestic\\n6 - sensory\\n7 - semantic\\n8 - other': 'Aphasia_Types',\n",
    "                          'Dominant_Aphasia\\n1 - efferent motor\\n2 - afferent motor\\n3 - complex motor\\n4 - dynamic\\n5 - acoustic-mnestic\\n6 - sensory\\n7 - semantic\\n8 - other': 'Dominant_Aphasia',\n",
    "                          'Dysarthria (1/0)': 'Dysarthria',\n",
    "                          'Dysarthria_Severity \\n0 - no dysarthria\\n1 - very mild\\n2 - mild\\n3 - mild-moderate\\n4 - moderate\\n5 - moderate-severe\\n6 - severe\\n7 - very severe': 'Dysarthria_Severity',\n",
    "                          }, inplace=True)"
   ]
  },
  {
   "cell_type": "markdown",
   "id": "802b011e4ee75980",
   "metadata": {},
   "source": [
    "В афазии довольно много пропусков, но они в основном связаны с именем испытуемого и образованием."
   ]
  },
  {
   "cell_type": "code",
   "execution_count": 13,
   "id": "5a0cbc8f69865218",
   "metadata": {
    "ExecuteTime": {
     "end_time": "2025-02-01T16:13:03.504705Z",
     "start_time": "2025-02-01T16:13:03.486752Z"
    }
   },
   "outputs": [
    {
     "data": {
      "text/plain": [
       "Unnamed: 0              77\n",
       "Subj_ID                  0\n",
       "Date_of_birth            4\n",
       "Age                      3\n",
       "Sex (m/f)                4\n",
       "Education in years     179\n",
       "Education level         30\n",
       "Stroke_date              3\n",
       "Stroked hemisphere      14\n",
       "N of strokes            16\n",
       "Aphasia/Norm             0\n",
       "Aphasia_Severity        10\n",
       "Aphasia_Types            9\n",
       "Dominant_Aphasia        11\n",
       "Dysarthria               9\n",
       "Dysarthria_Severity     11\n",
       "Time1_date               4\n",
       "Time2_date             148\n",
       "Time3_date             191\n",
       "Time4_date             203\n",
       "Time5_date             250\n",
       "Time6_date             251\n",
       "Time1.1_file_name        5\n",
       "Time1.2_file_name      163\n",
       "Time2.1_file_name      158\n",
       "Time2.2_file_name      229\n",
       "Time3.1_file_name      195\n",
       "Time3.2_file_name      243\n",
       "Time4.1_file_name      211\n",
       "Time4.2_file_name      247\n",
       "Time5.1_file_name      248\n",
       "Time5.2_file_name      253\n",
       "Time6.1_file_name      251\n",
       "Time6.2_file_name      252\n",
       "dtype: int64"
      ]
     },
     "execution_count": 13,
     "metadata": {},
     "output_type": "execute_result"
    }
   ],
   "source": [
    "meta_data_aphasia.isna().sum()"
   ]
  },
  {
   "cell_type": "markdown",
   "id": "82ef31f5f532bf19",
   "metadata": {},
   "source": [
    "В здоровых пропуски только в дате рождения, что некритично."
   ]
  },
  {
   "cell_type": "code",
   "execution_count": 14,
   "id": "7a73938a7b346336",
   "metadata": {
    "ExecuteTime": {
     "end_time": "2025-02-01T16:13:03.516795Z",
     "start_time": "2025-02-01T16:13:03.505531Z"
    }
   },
   "outputs": [
    {
     "data": {
      "text/plain": [
       "№                                                0\n",
       "Порядок предъявления проб                        0\n",
       "Дата проведения РАТа                             0\n",
       "Возрастная группа                                0\n",
       "Дата рождения                                    6\n",
       "Пол                                              0\n",
       "Образование                                      0\n",
       "Профессия                                        0\n",
       "Место жительства                                 0\n",
       "Рукость                                          0\n",
       "Биллингвизм                                      0\n",
       "Неврологические/психиатрические расстройства     0\n",
       "Медицинские препараты                            2\n",
       "Проблемы со слухом/зрением                       2\n",
       "Комментарии                                     70\n",
       "bike_file_name                                   0\n",
       "robbery_file_name                                0\n",
       "dtype: int64"
      ]
     },
     "execution_count": 14,
     "metadata": {},
     "output_type": "execute_result"
    }
   ],
   "source": [
    "meta_data_norm.isna().sum()"
   ]
  },
  {
   "cell_type": "markdown",
   "id": "5aeda4080ba38298",
   "metadata": {},
   "source": [
    "Судя по всему, каждый participant учтён таблицах единожды"
   ]
  },
  {
   "cell_type": "code",
   "execution_count": 15,
   "id": "3e2af7a76855b16c",
   "metadata": {
    "ExecuteTime": {
     "end_time": "2025-02-01T16:13:03.527907Z",
     "start_time": "2025-02-01T16:13:03.517477Z"
    }
   },
   "outputs": [
    {
     "name": "stdout",
     "output_type": "stream",
     "text": [
      "Count of aphasia participants:  253\n",
      "Count of normal participants:  101\n",
      "Count of participants: 354\n"
     ]
    }
   ],
   "source": [
    "PARTICIPANT_APHASIA_ID = meta_data_aphasia[\"Subj_ID\"].tolist()\n",
    "PARTICIPANT_NORM_ID = meta_data_norm[\"№\"].tolist()\n",
    "\n",
    "participant_count = len(PARTICIPANT_APHASIA_ID) + len(PARTICIPANT_NORM_ID)\n",
    "print(\"Count of aphasia participants: \", len(PARTICIPANT_APHASIA_ID))\n",
    "print(\"Count of normal participants: \", len(PARTICIPANT_NORM_ID))\n",
    "print(\"Count of participants:\", participant_count)"
   ]
  },
  {
   "cell_type": "markdown",
   "id": "ff1cda9ded8b5181",
   "metadata": {},
   "source": [
    "## 2. Demographic data"
   ]
  },
  {
   "cell_type": "markdown",
   "id": "cd060320bb0e8740",
   "metadata": {},
   "source": [
    "### 2.1 Возраст"
   ]
  },
  {
   "cell_type": "code",
   "execution_count": 16,
   "id": "7216e036808a2d53",
   "metadata": {
    "ExecuteTime": {
     "end_time": "2025-02-01T16:13:03.540217Z",
     "start_time": "2025-02-01T16:13:03.528560Z"
    }
   },
   "outputs": [
    {
     "data": {
      "text/plain": [
       "Index(['№', 'Порядок предъявления проб', 'Дата проведения РАТа',\n",
       "       'Возрастная группа', 'Дата рождения', 'Пол', 'Образование', 'Профессия',\n",
       "       'Место жительства', 'Рукость', 'Биллингвизм',\n",
       "       'Неврологические/психиатрические расстройства', 'Медицинские препараты',\n",
       "       'Проблемы со слухом/зрением', 'Комментарии', 'bike_file_name',\n",
       "       'robbery_file_name'],\n",
       "      dtype='object')"
      ]
     },
     "execution_count": 16,
     "metadata": {},
     "output_type": "execute_result"
    }
   ],
   "source": [
    "meta_data_norm.columns "
   ]
  },
  {
   "cell_type": "code",
   "execution_count": 17,
   "id": "5d70b7d2f7c96ee3",
   "metadata": {
    "ExecuteTime": {
     "end_time": "2025-02-01T16:13:03.551571Z",
     "start_time": "2025-02-01T16:13:03.540854Z"
    }
   },
   "outputs": [],
   "source": [
    "meta_data_norm.iloc[64, 4] = \"30.11.1948\"   # В данных есть артефакты\n",
    "\n",
    "age_group = [24, 40, 55, 65, 71]"
   ]
  },
  {
   "cell_type": "code",
   "execution_count": 18,
   "id": "6f478eca13e4dd43",
   "metadata": {
    "ExecuteTime": {
     "end_time": "2025-02-01T16:13:03.562950Z",
     "start_time": "2025-02-01T16:13:03.552341Z"
    }
   },
   "outputs": [],
   "source": [
    "def get_age(df: pd.DataFrame, first_data: str, second_data: str, group_columns: str = None) -> pd.Series:\n",
    "    age = []\n",
    "    for i, row in df.iterrows():\n",
    "        if pd.isnull(row[first_data]) or pd.isnull(row[second_data]):\n",
    "            if group_columns is None:\n",
    "                age.append(None)\n",
    "            else:\n",
    "                age.append(age_group[int(row[group_columns]) - 1])\n",
    "            continue\n",
    "            \n",
    "        data_1 = [int(x) for x in str(row[first_data]).strip().split('.')]\n",
    "        data_2 = [int(x) for x in str(row[second_data]).strip().split('.')]\n",
    "        \n",
    "        year_1 = data_1[-1]\n",
    "        year_2 = data_2[-1]\n",
    "        age.append(int(year_2 - year_1))\n",
    "        if len(data_1) > 1 and len(data_2) > 1:\n",
    "            age[-1] -= int(((data_2[0] < data_1[0]) and (data_2[1] < data_1[1])))\n",
    "    \n",
    "    return pd.Series(age, name=\"Возраст\")"
   ]
  },
  {
   "cell_type": "code",
   "execution_count": 19,
   "id": "a0fdcc58224f7e88",
   "metadata": {
    "ExecuteTime": {
     "end_time": "2025-02-01T16:13:03.591177Z",
     "start_time": "2025-02-01T16:13:03.563547Z"
    }
   },
   "outputs": [],
   "source": [
    "meta_data_norm[\"Возраст\"] = get_age(meta_data_norm, \"Дата рождения\", \"Дата проведения РАТа\", \"Возрастная группа\")"
   ]
  },
  {
   "cell_type": "code",
   "execution_count": 20,
   "id": "161608eb2f55f5a8",
   "metadata": {
    "ExecuteTime": {
     "end_time": "2025-02-01T16:13:03.604671Z",
     "start_time": "2025-02-01T16:13:03.591940Z"
    }
   },
   "outputs": [
    {
     "data": {
      "text/plain": [
       "count    101.000000\n",
       "mean      48.712871\n",
       "std       18.032935\n",
       "min       19.000000\n",
       "25%       35.000000\n",
       "50%       51.000000\n",
       "75%       63.000000\n",
       "max       86.000000\n",
       "Name: Возраст, dtype: float64"
      ]
     },
     "execution_count": 20,
     "metadata": {},
     "output_type": "execute_result"
    }
   ],
   "source": [
    "meta_data_norm[\"Возраст\"].describe()"
   ]
  },
  {
   "cell_type": "code",
   "execution_count": 21,
   "id": "b7de842e96245e63",
   "metadata": {
    "ExecuteTime": {
     "end_time": "2025-02-01T16:13:03.615491Z",
     "start_time": "2025-02-01T16:13:03.605474Z"
    }
   },
   "outputs": [],
   "source": [
    "meta_data_aphasia[\"Age\"] = meta_data_aphasia[\"Age\"].fillna(meta_data_aphasia[\"Age\"].mean()).astype(int)"
   ]
  },
  {
   "cell_type": "markdown",
   "id": "9daec4b92dad1401",
   "metadata": {},
   "source": [
    "Статистики для возраста (с афазией)."
   ]
  },
  {
   "cell_type": "code",
   "execution_count": 22,
   "id": "25011d0512feb044",
   "metadata": {
    "ExecuteTime": {
     "end_time": "2025-02-01T16:13:03.628767Z",
     "start_time": "2025-02-01T16:13:03.616368Z"
    }
   },
   "outputs": [
    {
     "data": {
      "text/plain": [
       "count    253.000000\n",
       "mean      57.948617\n",
       "std       10.720536\n",
       "min       25.000000\n",
       "25%       52.000000\n",
       "50%       59.000000\n",
       "75%       66.000000\n",
       "max       82.000000\n",
       "Name: Age, dtype: float64"
      ]
     },
     "execution_count": 22,
     "metadata": {},
     "output_type": "execute_result"
    }
   ],
   "source": [
    "meta_data_aphasia[\"Age\"].describe()"
   ]
  },
  {
   "cell_type": "code",
   "execution_count": 23,
   "id": "dfb61827bf28d712",
   "metadata": {
    "ExecuteTime": {
     "end_time": "2025-02-01T16:13:03.765398Z",
     "start_time": "2025-02-01T16:13:03.629862Z"
    }
   },
   "outputs": [
    {
     "data": {
      "image/png": "[encoded data removed]",
      "text/plain": [
       "<Figure size 1000x700 with 1 Axes>"
      ]
     },
     "metadata": {},
     "output_type": "display_data"
    }
   ],
   "source": [
    "plt.figure(figsize=(10, 7))\n",
    "plt.hist(meta_data_aphasia[\"Age\"], bins=20, color=\"blue\", label=\"Афазия\", edgecolor='black')\n",
    "plt.hist(meta_data_norm[\"Возраст\"], bins=20, color=\"red\", label=\"Норма\", edgecolor='black')\n",
    "plt.xlabel(\"Age\")\n",
    "plt.ylabel(\"Count\")\n",
    "plt.legend();"
   ]
  },
  {
   "cell_type": "markdown",
   "id": "49cf86c303e1a81",
   "metadata": {},
   "source": [
    "Проверим на нормальность возраст больных афазией (нулевая гипотеза — данные распределены нормально)."
   ]
  },
  {
   "cell_type": "code",
   "execution_count": 24,
   "id": "368c712ec52bf745",
   "metadata": {
    "ExecuteTime": {
     "end_time": "2025-02-01T16:13:03.771108Z",
     "start_time": "2025-02-01T16:13:03.766443Z"
    }
   },
   "outputs": [
    {
     "name": "stdout",
     "output_type": "stream",
     "text": [
      "Aphasia P-value:  0.10999312354402757\n"
     ]
    }
   ],
   "source": [
    "stat, p_value = stats.kstest(meta_data_aphasia[\"Age\"], 'norm', args=(np.mean(meta_data_aphasia[\"Age\"]), np.std(meta_data_aphasia[\"Age\"])))\n",
    "print(\"Aphasia P-value: \", p_value)"
   ]
  },
  {
   "cell_type": "code",
   "execution_count": 25,
   "id": "af5603cc",
   "metadata": {},
   "outputs": [],
   "source": [
    "meta_data_aphasia[\"group\"] = \"aphasia\"\n",
    "meta_data_norm[\"group\"] = \"norm\"\n",
    "\n",
    "df_all = pd.concat([meta_data_aphasia[[\"Age\", \"group\"]], meta_data_norm[[\"Возраст\", \"group\"]].rename(columns={\"Возраст\": \"Age\", \"group\": \"group\"})], ignore_index=True)\n",
    "df_all.head()\n",
    "\n",
    "df_all[\"Age\"] = df_all['Age'].map(lambda x: \"[20; 30)\" if x < 30 else \"[30; 40)\" \n",
    "                                  if x < 40 else \"[40; 50)\" if x < 50 else \"[50; 60)\" \n",
    "                                  if x < 60 else \"[60; 70)\" if x < 70 else \"[70; 80)\" \n",
    "                                  if x < 80 else \"[80; 90)\")\n",
    "\n",
    "table = pd.crosstab(df_all['group'], df_all['Age'])"
   ]
  },
  {
   "cell_type": "code",
   "execution_count": 26,
   "id": "e7ec3cd5",
   "metadata": {},
   "outputs": [
    {
     "data": {
      "image/png": "[encoded data removed]",
      "text/plain": [
       "<Figure size 600x300 with 1 Axes>"
      ]
     },
     "metadata": {},
     "output_type": "display_data"
    }
   ],
   "source": [
    "plt.figure(figsize=(6, 3))\n",
    "plt.axis('off')\n",
    "plt.table(cellText=table.values,\n",
    "          colLabels=table.columns,\n",
    "          rowLabels=table.index,\n",
    "          loc='center')\n",
    "plt.title('Распределение возраста по группам')\n",
    "plt.show()"
   ]
  },
  {
   "cell_type": "markdown",
   "id": "3440d1f17f689399",
   "metadata": {},
   "source": [
    "### 2.2 Пол"
   ]
  },
  {
   "cell_type": "markdown",
   "id": "d0d8b1b160b142e9",
   "metadata": {},
   "source": [
    "Посмотрим, какие значения бывают."
   ]
  },
  {
   "cell_type": "code",
   "execution_count": 27,
   "id": "8b7d9f20f1af3e00",
   "metadata": {
    "ExecuteTime": {
     "end_time": "2025-02-01T16:13:03.781852Z",
     "start_time": "2025-02-01T16:13:03.772009Z"
    }
   },
   "outputs": [
    {
     "data": {
      "text/plain": [
       "(array(['f', 'm', nan, 'ff'], dtype=object), array(['м', 'ж'], dtype=object))"
      ]
     },
     "execution_count": 27,
     "metadata": {},
     "output_type": "execute_result"
    }
   ],
   "source": [
    "meta_data_aphasia[\"Sex (m/f)\"].drop_duplicates().values, meta_data_norm[\"Пол\"].drop_duplicates().values"
   ]
  },
  {
   "cell_type": "markdown",
   "id": "f3df84bacbd5a59c",
   "metadata": {},
   "source": [
    "Почистим артефакты."
   ]
  },
  {
   "cell_type": "code",
   "execution_count": 28,
   "id": "15cc86ca4bb3271e",
   "metadata": {
    "ExecuteTime": {
     "end_time": "2025-02-01T16:13:03.793190Z",
     "start_time": "2025-02-01T16:13:03.782632Z"
    }
   },
   "outputs": [],
   "source": [
    "meta_data_aphasia[\"Sex (m/f)\"] = meta_data_aphasia[\"Sex (m/f)\"].apply(lambda x: \"f\" if x == \"ff\" else x)"
   ]
  },
  {
   "cell_type": "code",
   "execution_count": 29,
   "id": "e641c7f675c37f66",
   "metadata": {
    "ExecuteTime": {
     "end_time": "2025-02-01T16:13:03.804657Z",
     "start_time": "2025-02-01T16:13:03.795887Z"
    }
   },
   "outputs": [],
   "source": [
    "meta_data_norm[\"Пол\"] = meta_data_norm[\"Пол\"].map({\"м\": \"m\", \"ж\": \"f\"}) "
   ]
  },
  {
   "cell_type": "code",
   "execution_count": 30,
   "id": "4398deea65f8b495",
   "metadata": {
    "ExecuteTime": {
     "end_time": "2025-02-01T16:13:03.906115Z",
     "start_time": "2025-02-01T16:13:03.805565Z"
    }
   },
   "outputs": [
    {
     "data": {
      "image/png": "[encoded data removed]",
      "text/plain": [
       "<Figure size 640x480 with 1 Axes>"
      ]
     },
     "metadata": {},
     "output_type": "display_data"
    }
   ],
   "source": [
    "plt.hist(meta_data_aphasia[\"Sex (m/f)\"].to_list(), bins=20, color=\"blue\", label=\"Афазия\", edgecolor='black')\n",
    "plt.hist(meta_data_norm[\"Пол\"].to_list(), bins=20, color=\"red\", label=\"Норма\", edgecolor='black')\n",
    "plt.xlabel(\"Sex (f/m)\")\n",
    "plt.ylabel(\"Count\")\n",
    "plt.legend();"
   ]
  },
  {
   "cell_type": "code",
   "execution_count": 31,
   "id": "48a5035d",
   "metadata": {},
   "outputs": [],
   "source": [
    "df_all = pd.concat([meta_data_aphasia[[\"Sex (m/f)\", \"group\"]], meta_data_norm[[\"Пол\", \"group\"]].rename(columns={\"Пол\": \"Sex (m/f)\", \"group\": \"group\"})], ignore_index=True)\n",
    "df_all.head()\n",
    "\n",
    "df_all[\"Sex (m/f)\"] = df_all['Sex (m/f)'].map({\"f\": \"female\", \"m\": \"male\"})\n",
    "\n",
    "table = pd.crosstab(df_all['group'], df_all['Sex (m/f)'], dropna=False)"
   ]
  },
  {
   "cell_type": "code",
   "execution_count": 32,
   "id": "c66274dd",
   "metadata": {},
   "outputs": [
    {
     "data": {
      "image/png": "[encoded data removed]",
      "text/plain": [
       "<Figure size 400x200 with 1 Axes>"
      ]
     },
     "metadata": {},
     "output_type": "display_data"
    }
   ],
   "source": [
    "plt.figure(figsize=(4, 2))\n",
    "plt.axis('off')\n",
    "plt.table(cellText=table.values,\n",
    "          colLabels=table.columns,\n",
    "          rowLabels=table.index,\n",
    "          loc='center')\n",
    "plt.title('Распределение пола по группам')\n",
    "plt.show()"
   ]
  },
  {
   "cell_type": "markdown",
   "id": "ff95ce70caf95962",
   "metadata": {},
   "source": [
    "### 2.3 Образование"
   ]
  },
  {
   "cell_type": "markdown",
   "id": "f10a97f52e5f2f38",
   "metadata": {},
   "source": [
    "Посмотрим на значения, видим, что очень много повторяющихся классов. Исправим это."
   ]
  },
  {
   "cell_type": "code",
   "execution_count": 33,
   "id": "989d72e65d29e4a9",
   "metadata": {
    "ExecuteTime": {
     "end_time": "2025-02-01T16:13:03.909982Z",
     "start_time": "2025-02-01T16:13:03.906923Z"
    }
   },
   "outputs": [
    {
     "data": {
      "text/plain": [
       "array(['высшее', 'сред спец', 'среднее', 'неок высшее', nan, 'ср спец',\n",
       "       'неполное среднее', '2 высших', '8 классов', '7 классов',\n",
       "       'среднее ', 'средне специальное', 'средне техническое',\n",
       "       'средне-техническое', 'ср. спец.', 'ср. техн.',\n",
       "       'неоконч. сред. спец.'], dtype=object)"
      ]
     },
     "execution_count": 33,
     "metadata": {},
     "output_type": "execute_result"
    }
   ],
   "source": [
    "meta_data_aphasia[\"Education level\"].drop_duplicates().values"
   ]
  },
  {
   "cell_type": "code",
   "execution_count": 34,
   "id": "883a294bdcb3661b",
   "metadata": {
    "ExecuteTime": {
     "end_time": "2025-02-01T16:13:03.920583Z",
     "start_time": "2025-02-01T16:13:03.910635Z"
    }
   },
   "outputs": [
    {
     "data": {
      "text/plain": [
       "array(['ученая степень', 'среднее специальное', 'неоконченное высшее',\n",
       "       'высшее', 'среднее ', 'среднее'], dtype=object)"
      ]
     },
     "execution_count": 34,
     "metadata": {},
     "output_type": "execute_result"
    }
   ],
   "source": [
    "meta_data_norm[\"Образование\"].drop_duplicates().values"
   ]
  },
  {
   "cell_type": "code",
   "execution_count": 35,
   "id": "90f54296a327e104",
   "metadata": {
    "ExecuteTime": {
     "end_time": "2025-02-01T16:13:03.932970Z",
     "start_time": "2025-02-01T16:13:03.921308Z"
    }
   },
   "outputs": [],
   "source": [
    "education_map = {\n",
    "    'высшее': 'высшее', \n",
    "    'сред спец': 'спо', \n",
    "    'среднее': 'среднее', \n",
    "    'неок высшее': 'неп высшее', \n",
    "    'ср спец': 'спо',\n",
    "    'неполное среднее': 'неп среднее', \n",
    "    '2 высших': 'высшее+', \n",
    "    '8 классов': 'неп среднее', \n",
    "    '7 классов': 'неп среднее',\n",
    "    'среднее ': 'среднее', \n",
    "    'средне специальное': 'спо', \n",
    "    'средне техническое': 'спо',\n",
    "    'средне-техническое': 'спо', \n",
    "    'ср. спец.': 'спо', \n",
    "    'ср. техн.': 'спо',\n",
    "    'неоконч. сред. спец.': 'спо',\n",
    "    'ученая степень': 'PhD', \n",
    "    'среднее специальное': 'спо', \n",
    "    'неоконченное высшее': 'неп высшее',\n",
    "}\n",
    "\n",
    "meta_data_aphasia[\"Education level\"] = meta_data_aphasia[\"Education level\"].map(education_map)\n",
    "meta_data_norm[\"Образование\"] = meta_data_norm[\"Образование\"].map(education_map)"
   ]
  },
  {
   "cell_type": "code",
   "execution_count": 36,
   "id": "db180b3ced5d2f66",
   "metadata": {
    "ExecuteTime": {
     "end_time": "2025-02-01T16:13:04.048673Z",
     "start_time": "2025-02-01T16:13:03.933824Z"
    }
   },
   "outputs": [
    {
     "data": {
      "image/png": "[encoded data removed]",
      "text/plain": [
       "<Figure size 1000x700 with 1 Axes>"
      ]
     },
     "metadata": {},
     "output_type": "display_data"
    }
   ],
   "source": [
    "plt.figure(figsize=(10, 7))\n",
    "plt.hist(meta_data_aphasia[\"Education level\"].to_list(), bins=20, color=\"blue\", label=\"Афазия\", edgecolor='black')\n",
    "plt.hist(meta_data_norm[\"Образование\"].to_list(), bins=20, color=\"red\", label=\"Норма\", edgecolor='black')\n",
    "plt.xlabel(\"Education level\")\n",
    "plt.ylabel(\"Count\")\n",
    "plt.legend();"
   ]
  },
  {
   "cell_type": "markdown",
   "id": "e6dc94a2570d39c4",
   "metadata": {},
   "source": [
    "Посмотрим на количество всех классов."
   ]
  },
  {
   "cell_type": "code",
   "execution_count": 37,
   "id": "1fed2d5bf7ed16b3",
   "metadata": {
    "ExecuteTime": {
     "end_time": "2025-02-01T16:13:04.052013Z",
     "start_time": "2025-02-01T16:13:04.049618Z"
    }
   },
   "outputs": [
    {
     "data": {
      "text/plain": [
       "Counter({'высшее': 115,\n",
       "         'спо': 67,\n",
       "         'среднее': 32,\n",
       "         nan: 30,\n",
       "         'неп высшее': 5,\n",
       "         'неп среднее': 3,\n",
       "         'высшее+': 1})"
      ]
     },
     "execution_count": 37,
     "metadata": {},
     "output_type": "execute_result"
    }
   ],
   "source": [
    "Counter(meta_data_aphasia[\"Education level\"].to_list())"
   ]
  },
  {
   "cell_type": "code",
   "execution_count": 38,
   "id": "5726296a01cc7ae2",
   "metadata": {
    "ExecuteTime": {
     "end_time": "2025-02-01T16:13:04.062845Z",
     "start_time": "2025-02-01T16:13:04.052554Z"
    }
   },
   "outputs": [
    {
     "data": {
      "text/plain": [
       "Counter({'высшее': 61, 'спо': 15, 'неп высшее': 15, 'PhD': 8, 'среднее': 2})"
      ]
     },
     "execution_count": 38,
     "metadata": {},
     "output_type": "execute_result"
    }
   ],
   "source": [
    "Counter(meta_data_norm[\"Образование\"].to_list())"
   ]
  },
  {
   "cell_type": "markdown",
   "id": "1338291127635109",
   "metadata": {},
   "source": [
    "### 2.4 Stroked hemisphere\n",
    "Посмотрим на то, какое полушарие головного мозга поражено в большинстве случаев"
   ]
  },
  {
   "cell_type": "code",
   "execution_count": 39,
   "id": "3f3746f5e0f6448c",
   "metadata": {
    "ExecuteTime": {
     "end_time": "2025-02-01T16:13:04.163292Z",
     "start_time": "2025-02-01T16:13:04.063385Z"
    }
   },
   "outputs": [
    {
     "data": {
      "image/png": "[encoded data removed]",
      "text/plain": [
       "<Figure size 1000x700 with 1 Axes>"
      ]
     },
     "metadata": {},
     "output_type": "display_data"
    }
   ],
   "source": [
    "plt.figure(figsize=(10, 7))\n",
    "plt.hist(meta_data_aphasia[\"Stroked hemisphere\"].to_list(), bins=20, color=\"blue\", label=\"Афазия\", edgecolor='black')\n",
    "plt.xlabel(\"Stroked hemisphere\")\n",
    "plt.ylabel(\"Count\")\n",
    "plt.legend();"
   ]
  },
  {
   "cell_type": "markdown",
   "id": "26f0c4c225c5800b",
   "metadata": {},
   "source": [
    "### 2.5 Виды афазии"
   ]
  },
  {
   "cell_type": "markdown",
   "id": "b1c25e5c0c0b524d",
   "metadata": {},
   "source": [
    "#### 2.5.1 Тяжесть заболевания"
   ]
  },
  {
   "cell_type": "code",
   "execution_count": 40,
   "id": "1dae2dddb42bd2fc",
   "metadata": {
    "ExecuteTime": {
     "end_time": "2025-02-01T16:13:04.167287Z",
     "start_time": "2025-02-01T16:13:04.164224Z"
    }
   },
   "outputs": [
    {
     "data": {
      "text/plain": [
       "array(['A'], dtype=object)"
      ]
     },
     "execution_count": 40,
     "metadata": {},
     "output_type": "execute_result"
    }
   ],
   "source": [
    "meta_data_aphasia[\"Aphasia/Norm\"].drop_duplicates().values"
   ]
  },
  {
   "cell_type": "markdown",
   "id": "c7bc3d4162ad2401",
   "metadata": {},
   "source": [
    "* 0 - no aphasia\n",
    "* 1 - very mild\n",
    "* 2 - mild\n",
    "* 3 - mild-moderate\n",
    "* 4 - moderate\n",
    "* 5 - moderate-severe\n",
    "* 6 - severe\n",
    "* 7 - very severe"
   ]
  },
  {
   "cell_type": "code",
   "execution_count": 41,
   "id": "68a250e885a28d65",
   "metadata": {
    "ExecuteTime": {
     "end_time": "2025-02-01T16:13:04.275936Z",
     "start_time": "2025-02-01T16:13:04.168232Z"
    }
   },
   "outputs": [
    {
     "data": {
      "image/png": "[encoded data removed]",
      "text/plain": [
       "<Figure size 1000x700 with 1 Axes>"
      ]
     },
     "metadata": {},
     "output_type": "display_data"
    }
   ],
   "source": [
    "plt.figure(figsize=(10, 7))\n",
    "plt.hist(meta_data_aphasia[\"Aphasia_Severity\"].to_list(), bins=20, color=\"blue\", label=\"Афазия\", edgecolor='black')\n",
    "plt.xlabel(\"Aphasia severity\")\n",
    "plt.ylabel(\"Count\")\n",
    "plt.legend();"
   ]
  },
  {
   "cell_type": "code",
   "execution_count": 42,
   "id": "d50b917c",
   "metadata": {},
   "outputs": [
    {
     "data": {
      "image/png": "[encoded data removed]",
      "text/plain": [
       "<Figure size 400x200 with 1 Axes>"
      ]
     },
     "metadata": {},
     "output_type": "display_data"
    }
   ],
   "source": [
    "table = meta_data_aphasia[\"Aphasia_Severity\"]\n",
    "plt.figure(figsize=(4, 2))\n",
    "plt.axis('off')\n",
    "plt.table(cellText=[[c] for c in table.value_counts().sort_index()],\n",
    "          rowLabels=[i for i in table.value_counts().sort_index().index],\n",
    "          colLabels=[\"Aphasia Severity\"],\n",
    "          loc='center')\n",
    "\n",
    "plt.show()"
   ]
  },
  {
   "cell_type": "markdown",
   "id": "266c0e512076f9f",
   "metadata": {},
   "source": [
    "#### 2.5.2 Типы заболевания "
   ]
  },
  {
   "cell_type": "code",
   "execution_count": 43,
   "id": "594dff13b26eb50b",
   "metadata": {
    "ExecuteTime": {
     "end_time": "2025-02-01T16:13:04.280158Z",
     "start_time": "2025-02-01T16:13:04.276694Z"
    }
   },
   "outputs": [
    {
     "data": {
      "text/plain": [
       "array(['1,5', '3,4', '1', '7,1,6', '3', '6', '5,6', 3, '5,2', '1,2', nan,\n",
       "       6.5, '3,6', '4', '8,6', '4,1', 1, '4,3', 4.3, '8(когн нар-я)',\n",
       "       '6,5', '4,2,1', '5,1', 8, '5', '3,2', '3,1', '1,2,3,6', '5,6,2',\n",
       "       '1,2,3', '8', '3,5', '1,2,5', '6,3', 1.4, 1.6, 6.3, 4, 1.2, '0',\n",
       "       3.6, 5, '4,6', '3,4,5', '1,6', 6, '1,4,6', '5,3', '3,7', '1,4',\n",
       "       '5,6,1', '4,1,2', '6,8', 4.1, 2.1, 0], dtype=object)"
      ]
     },
     "execution_count": 43,
     "metadata": {},
     "output_type": "execute_result"
    }
   ],
   "source": [
    "meta_data_aphasia[\"Aphasia_Types\"].drop_duplicates().values"
   ]
  },
  {
   "cell_type": "markdown",
   "id": "9d1e85815556668a",
   "metadata": {},
   "source": [
    "Посмотрим, какие типы афазии встречаются чаще всего."
   ]
  },
  {
   "cell_type": "code",
   "execution_count": 44,
   "id": "abdaa30001d72527",
   "metadata": {
    "ExecuteTime": {
     "end_time": "2025-02-01T16:13:04.291274Z",
     "start_time": "2025-02-01T16:13:04.280798Z"
    }
   },
   "outputs": [],
   "source": [
    "aphasia_types = []\n",
    "aphasia_col = meta_data_aphasia[\"Aphasia_Types\"].to_list()\n",
    "for elem in aphasia_col:\n",
    "    if pd.isnull(elem):\n",
    "        aphasia_types.append(elem)\n",
    "        continue\n",
    "    elem = str(elem)\n",
    "    if ',' in elem:\n",
    "        to_add = elem.split(',')\n",
    "        aphasia_types.extend([int(x) for x in to_add])\n",
    "    elif '.' in elem:\n",
    "        to_add = elem.split('.')\n",
    "        aphasia_types.extend([int(x) for x in to_add])\n",
    "    elif '(' in elem:\n",
    "        to_add = elem.split('(')\n",
    "        aphasia_types.extend([int(x) for x in to_add[:-1]])\n",
    "    else:\n",
    "        aphasia_types.append(int(elem))"
   ]
  },
  {
   "cell_type": "markdown",
   "id": "2ebca914b679d224",
   "metadata": {},
   "source": [
    "Типы афазии:\n",
    "1. efferent motor\n",
    "2. afferent motor\n",
    "3. complex motor\n",
    "4. dynamic\n",
    "5. acoustic-mnestic\n",
    "6. sensory\n",
    "7. semantic\n",
    "8. other"
   ]
  },
  {
   "cell_type": "code",
   "execution_count": 45,
   "id": "ec00a21adf699640",
   "metadata": {
    "ExecuteTime": {
     "end_time": "2025-02-01T16:13:04.387342Z",
     "start_time": "2025-02-01T16:13:04.291980Z"
    }
   },
   "outputs": [
    {
     "data": {
      "image/png": "[encoded data removed]",
      "text/plain": [
       "<Figure size 1000x700 with 1 Axes>"
      ]
     },
     "metadata": {},
     "output_type": "display_data"
    }
   ],
   "source": [
    "plt.figure(figsize=(10, 7))\n",
    "plt.hist(aphasia_types, bins=20, color=\"blue\", edgecolor='black')\n",
    "plt.xlabel(\"Aphasia Types\")\n",
    "plt.ylabel(\"Count\");"
   ]
  },
  {
   "cell_type": "code",
   "execution_count": 46,
   "id": "ce219169",
   "metadata": {},
   "outputs": [
    {
     "data": {
      "image/png": "[encoded data removed]",
      "text/plain": [
       "<Figure size 400x200 with 1 Axes>"
      ]
     },
     "metadata": {},
     "output_type": "display_data"
    }
   ],
   "source": [
    "table = pd.Series(aphasia_types)\n",
    "plt.figure(figsize=(4, 2))\n",
    "plt.axis('off')\n",
    "plt.table(cellText=[[c] for c in table.value_counts().sort_index()],\n",
    "          rowLabels=[i for i in table.value_counts().sort_index().index],\n",
    "          colLabels=[\"Aphasia Types\"],\n",
    "          loc='center')\n",
    "\n",
    "plt.show()"
   ]
  },
  {
   "cell_type": "markdown",
   "id": "1b1a3676c20f816c",
   "metadata": {},
   "source": [
    "#### 2.5.3 Преобладающий тип афазии у пациента"
   ]
  },
  {
   "cell_type": "code",
   "execution_count": 47,
   "id": "50098e2de0af675b",
   "metadata": {
    "ExecuteTime": {
     "end_time": "2025-02-01T16:13:04.393378Z",
     "start_time": "2025-02-01T16:13:04.388702Z"
    }
   },
   "outputs": [
    {
     "data": {
      "text/plain": [
       "array([1, 3, 7, 2, 6, 5, nan, 4, '8(проводниковая)', '8(когн нар-я)',\n",
       "       '8(нейродинамика)', 8, 0, '8(дизартрия)', '8(амнестическая)'],\n",
       "      dtype=object)"
      ]
     },
     "execution_count": 47,
     "metadata": {},
     "output_type": "execute_result"
    }
   ],
   "source": [
    "meta_data_aphasia[\"Dominant_Aphasia\"].drop_duplicates().values"
   ]
  },
  {
   "cell_type": "code",
   "execution_count": 48,
   "id": "e7cf0c945b019efd",
   "metadata": {
    "ExecuteTime": {
     "end_time": "2025-02-01T16:13:04.404461Z",
     "start_time": "2025-02-01T16:13:04.394162Z"
    }
   },
   "outputs": [],
   "source": [
    "meta_data_aphasia[\"Dominant_Aphasia\"] = meta_data_aphasia[\"Dominant_Aphasia\"].map({\n",
    "    1: 1, 2: 2, 3: 3, 4: 4, 5: 5, 6: 6, 7: 7, 8: 8, 0: 0, '8(проводниковая)': 8, '8(когн нар-я)': 8, '8(нейродинамика)': 8, '8(дизартрия)': 8, '8(амнестическая)': 8\n",
    "})"
   ]
  },
  {
   "cell_type": "code",
   "execution_count": 49,
   "id": "3788c22aa0e49ed2",
   "metadata": {
    "ExecuteTime": {
     "end_time": "2025-02-01T16:13:04.486384Z",
     "start_time": "2025-02-01T16:13:04.405146Z"
    }
   },
   "outputs": [
    {
     "data": {
      "image/png": "[encoded data removed]",
      "text/plain": [
       "<Figure size 1000x700 with 1 Axes>"
      ]
     },
     "metadata": {},
     "output_type": "display_data"
    }
   ],
   "source": [
    "plt.figure(figsize=(10, 7))\n",
    "plt.hist(meta_data_aphasia[\"Dominant_Aphasia\"].to_list(), bins=20, color=\"blue\", edgecolor='black')\n",
    "plt.xlabel(\"Dominant Aphasia\")\n",
    "plt.ylabel(\"Count\");"
   ]
  },
  {
   "cell_type": "code",
   "execution_count": 50,
   "id": "b1e725b6",
   "metadata": {},
   "outputs": [
    {
     "data": {
      "image/png": "[encoded data removed]",
      "text/plain": [
       "<Figure size 400x200 with 1 Axes>"
      ]
     },
     "metadata": {},
     "output_type": "display_data"
    }
   ],
   "source": [
    "table = meta_data_aphasia[\"Dominant_Aphasia\"]\n",
    "plt.figure(figsize=(4, 2))\n",
    "plt.axis('off')\n",
    "plt.table(cellText=[[c] for c in table.value_counts().sort_index()],\n",
    "          rowLabels=[i for i in table.value_counts().sort_index().index],\n",
    "          colLabels=[\"Dominant Aphasia\"],\n",
    "          loc='center')\n",
    "plt.show()"
   ]
  },
  {
   "cell_type": "markdown",
   "id": "f0a99dcb4c92cad9",
   "metadata": {},
   "source": [
    "Графики не особо отличаются"
   ]
  },
  {
   "cell_type": "markdown",
   "id": "190b155c5d60aca2",
   "metadata": {},
   "source": [
    "### 2.6.1 Дизартрия"
   ]
  },
  {
   "cell_type": "code",
   "execution_count": 51,
   "id": "aab9b9bb1db43203",
   "metadata": {
    "ExecuteTime": {
     "end_time": "2025-02-01T16:13:04.490310Z",
     "start_time": "2025-02-01T16:13:04.487236Z"
    }
   },
   "outputs": [
    {
     "data": {
      "text/plain": [
       "array([ 0.,  1., nan])"
      ]
     },
     "execution_count": 51,
     "metadata": {},
     "output_type": "execute_result"
    }
   ],
   "source": [
    "meta_data_aphasia[\"Dysarthria\"].drop_duplicates().values"
   ]
  },
  {
   "cell_type": "code",
   "execution_count": 52,
   "id": "b5bfe79d79dd5fe5",
   "metadata": {
    "ExecuteTime": {
     "end_time": "2025-02-01T16:13:04.553589Z",
     "start_time": "2025-02-01T16:13:04.491010Z"
    }
   },
   "outputs": [
    {
     "data": {
      "image/png": "[encoded data removed]",
      "text/plain": [
       "<Figure size 1000x700 with 1 Axes>"
      ]
     },
     "metadata": {},
     "output_type": "display_data"
    }
   ],
   "source": [
    "plt.figure(figsize=(10, 7))\n",
    "sns.countplot(x=meta_data_aphasia[\"Dysarthria\"]);"
   ]
  },
  {
   "cell_type": "markdown",
   "id": "b55c03b41009ef38",
   "metadata": {},
   "source": [
    "#### 2.6.2 Тяжесть дизартрии"
   ]
  },
  {
   "cell_type": "code",
   "execution_count": 53,
   "id": "b29b70dde4044f79",
   "metadata": {
    "ExecuteTime": {
     "end_time": "2025-02-01T16:13:04.557135Z",
     "start_time": "2025-02-01T16:13:04.554195Z"
    }
   },
   "outputs": [
    {
     "data": {
      "text/plain": [
       "array([ 0.,  1.,  4.,  3., nan,  5.,  6.,  2.])"
      ]
     },
     "execution_count": 53,
     "metadata": {},
     "output_type": "execute_result"
    }
   ],
   "source": [
    "meta_data_aphasia[\"Dysarthria_Severity\"].drop_duplicates().values"
   ]
  },
  {
   "cell_type": "code",
   "execution_count": 54,
   "id": "b9ca9928c63ac54b",
   "metadata": {
    "ExecuteTime": {
     "end_time": "2025-02-01T16:13:04.636841Z",
     "start_time": "2025-02-01T16:13:04.557998Z"
    }
   },
   "outputs": [
    {
     "data": {
      "image/png": "[encoded data removed]",
      "text/plain": [
       "<Figure size 1000x700 with 1 Axes>"
      ]
     },
     "metadata": {},
     "output_type": "display_data"
    }
   ],
   "source": [
    "plt.figure(figsize=(10, 7))\n",
    "plt.hist(meta_data_aphasia[\"Dysarthria_Severity\"].to_list(), bins=20, color=\"blue\", edgecolor='black')\n",
    "plt.xlabel(\"Dysarthria severity\")\n",
    "plt.ylabel(\"Count\");"
   ]
  },
  {
   "cell_type": "markdown",
   "id": "32dcfc5e1fce8760",
   "metadata": {},
   "source": [
    "Посмотрим сколько людей с дизартрией, без неё, и без заболеваний вообще."
   ]
  },
  {
   "cell_type": "code",
   "execution_count": 55,
   "id": "5d8641060e6eea4d",
   "metadata": {
    "ExecuteTime": {
     "end_time": "2025-02-01T16:13:04.639630Z",
     "start_time": "2025-02-01T16:13:04.637528Z"
    }
   },
   "outputs": [],
   "source": [
    "aphasia_severity = meta_data_aphasia[\"Aphasia_Severity\"].to_numpy()\n",
    "dysarthria_severity = meta_data_aphasia[\"Dysarthria_Severity\"].to_numpy()"
   ]
  },
  {
   "cell_type": "code",
   "execution_count": 56,
   "id": "1739b11ff76c4ed3",
   "metadata": {
    "ExecuteTime": {
     "end_time": "2025-02-01T16:13:04.651295Z",
     "start_time": "2025-02-01T16:13:04.640209Z"
    }
   },
   "outputs": [
    {
     "name": "stdout",
     "output_type": "stream",
     "text": [
      "Without aphasia, but with dysarthria: 26\n"
     ]
    }
   ],
   "source": [
    "print(f\"Without aphasia, but with dysarthria: {np.sum((aphasia_severity == 0) * (dysarthria_severity > 0))}\")"
   ]
  },
  {
   "cell_type": "code",
   "execution_count": 57,
   "id": "dfa1e430d2b01216",
   "metadata": {
    "ExecuteTime": {
     "end_time": "2025-02-01T16:13:04.662110Z",
     "start_time": "2025-02-01T16:13:04.651914Z"
    }
   },
   "outputs": [
    {
     "name": "stdout",
     "output_type": "stream",
     "text": [
      "Without dysarthria, but with aphasia: 156\n"
     ]
    }
   ],
   "source": [
    "print(f\"Without dysarthria, but with aphasia: {np.sum((aphasia_severity > 0) * (dysarthria_severity == 0))}\")"
   ]
  },
  {
   "cell_type": "code",
   "execution_count": 58,
   "id": "97566791b36291b",
   "metadata": {
    "ExecuteTime": {
     "end_time": "2025-02-01T16:13:04.672606Z",
     "start_time": "2025-02-01T16:13:04.662940Z"
    }
   },
   "outputs": [
    {
     "name": "stdout",
     "output_type": "stream",
     "text": [
      "Aphasia and dysarthria: 56\n"
     ]
    }
   ],
   "source": [
    "print(f\"Aphasia and dysarthria: {np.sum((aphasia_severity > 0) * (dysarthria_severity > 0))}\")"
   ]
  },
  {
   "cell_type": "code",
   "execution_count": 59,
   "id": "3df2694c2203efac",
   "metadata": {
    "ExecuteTime": {
     "end_time": "2025-02-01T16:13:04.683371Z",
     "start_time": "2025-02-01T16:13:04.673271Z"
    }
   },
   "outputs": [
    {
     "name": "stdout",
     "output_type": "stream",
     "text": [
      "Without Aphasia and dysarthria: 3\n"
     ]
    }
   ],
   "source": [
    "print(f\"Without Aphasia and dysarthria: {np.sum((aphasia_severity == 0) * (dysarthria_severity == 0))}\")"
   ]
  },
  {
   "cell_type": "markdown",
   "id": "eac1eb36cfca9e06",
   "metadata": {},
   "source": [
    "Только один из двух действительно нет указанных заболевний, но есть конитивные расстройства"
   ]
  },
  {
   "cell_type": "code",
   "execution_count": 60,
   "id": "6dc05b3c48ef069c",
   "metadata": {
    "ExecuteTime": {
     "end_time": "2025-02-01T16:13:04.700421Z",
     "start_time": "2025-02-01T16:13:04.684063Z"
    }
   },
   "outputs": [
    {
     "data": {
      "text/html": [
       "<div>\n",
       "<style scoped>\n",
       "    .dataframe tbody tr th:only-of-type {\n",
       "        vertical-align: middle;\n",
       "    }\n",
       "\n",
       "    .dataframe tbody tr th {\n",
       "        vertical-align: top;\n",
       "    }\n",
       "\n",
       "    .dataframe thead th {\n",
       "        text-align: right;\n",
       "    }\n",
       "</style>\n",
       "<table border=\"1\" class=\"dataframe\">\n",
       "  <thead>\n",
       "    <tr style=\"text-align: right;\">\n",
       "      <th></th>\n",
       "      <th>Unnamed: 0</th>\n",
       "      <th>Subj_ID</th>\n",
       "      <th>Date_of_birth</th>\n",
       "      <th>Age</th>\n",
       "      <th>Sex (m/f)</th>\n",
       "      <th>Education in years</th>\n",
       "      <th>Education level</th>\n",
       "      <th>Stroke_date</th>\n",
       "      <th>Stroked hemisphere</th>\n",
       "      <th>N of strokes</th>\n",
       "      <th>...</th>\n",
       "      <th>Time2.2_file_name</th>\n",
       "      <th>Time3.1_file_name</th>\n",
       "      <th>Time3.2_file_name</th>\n",
       "      <th>Time4.1_file_name</th>\n",
       "      <th>Time4.2_file_name</th>\n",
       "      <th>Time5.1_file_name</th>\n",
       "      <th>Time5.2_file_name</th>\n",
       "      <th>Time6.1_file_name</th>\n",
       "      <th>Time6.2_file_name</th>\n",
       "      <th>group</th>\n",
       "    </tr>\n",
       "  </thead>\n",
       "  <tbody>\n",
       "    <tr>\n",
       "      <th>38</th>\n",
       "      <td>85-РАТ</td>\n",
       "      <td>251</td>\n",
       "      <td>1963-08-01 00:00:00</td>\n",
       "      <td>53</td>\n",
       "      <td>m</td>\n",
       "      <td>NaN</td>\n",
       "      <td>высшее</td>\n",
       "      <td>2016-09-25 00:00:00</td>\n",
       "      <td>L</td>\n",
       "      <td>1.0</td>\n",
       "      <td>...</td>\n",
       "      <td>NaN</td>\n",
       "      <td>NaN</td>\n",
       "      <td>NaN</td>\n",
       "      <td>NaN</td>\n",
       "      <td>NaN</td>\n",
       "      <td>NaN</td>\n",
       "      <td>NaN</td>\n",
       "      <td>NaN</td>\n",
       "      <td>NaN</td>\n",
       "      <td>aphasia</td>\n",
       "    </tr>\n",
       "    <tr>\n",
       "      <th>321</th>\n",
       "      <td>NaN</td>\n",
       "      <td>1130</td>\n",
       "      <td>1954-11-29 00:00:00</td>\n",
       "      <td>69</td>\n",
       "      <td>f</td>\n",
       "      <td>15,5</td>\n",
       "      <td>высшее</td>\n",
       "      <td>2020-10-14 00:00:00</td>\n",
       "      <td>L</td>\n",
       "      <td>1.0</td>\n",
       "      <td>...</td>\n",
       "      <td>NaN</td>\n",
       "      <td>NaN</td>\n",
       "      <td>NaN</td>\n",
       "      <td>NaN</td>\n",
       "      <td>NaN</td>\n",
       "      <td>NaN</td>\n",
       "      <td>NaN</td>\n",
       "      <td>NaN</td>\n",
       "      <td>NaN</td>\n",
       "      <td>aphasia</td>\n",
       "    </tr>\n",
       "    <tr>\n",
       "      <th>352</th>\n",
       "      <td>NaN</td>\n",
       "      <td>1359</td>\n",
       "      <td>04.07.0195</td>\n",
       "      <td>70</td>\n",
       "      <td>f</td>\n",
       "      <td>15</td>\n",
       "      <td>высшее</td>\n",
       "      <td>2023-09-20 00:00:00</td>\n",
       "      <td>R</td>\n",
       "      <td>1.0</td>\n",
       "      <td>...</td>\n",
       "      <td>NaN</td>\n",
       "      <td>NaN</td>\n",
       "      <td>NaN</td>\n",
       "      <td>NaN</td>\n",
       "      <td>NaN</td>\n",
       "      <td>NaN</td>\n",
       "      <td>NaN</td>\n",
       "      <td>NaN</td>\n",
       "      <td>NaN</td>\n",
       "      <td>aphasia</td>\n",
       "    </tr>\n",
       "  </tbody>\n",
       "</table>\n",
       "<p>3 rows × 35 columns</p>\n",
       "</div>"
      ],
      "text/plain": [
       "    Unnamed: 0 Subj_ID        Date_of_birth  Age Sex (m/f) Education in years  \\\n",
       "38      85-РАТ     251  1963-08-01 00:00:00   53         m                NaN   \n",
       "321        NaN    1130  1954-11-29 00:00:00   69         f               15,5   \n",
       "352        NaN    1359           04.07.0195   70         f                 15   \n",
       "\n",
       "    Education level          Stroke_date Stroked hemisphere  N of strokes  \\\n",
       "38           высшее  2016-09-25 00:00:00                  L           1.0   \n",
       "321          высшее  2020-10-14 00:00:00                  L           1.0   \n",
       "352          высшее  2023-09-20 00:00:00                  R           1.0   \n",
       "\n",
       "     ... Time2.2_file_name  Time3.1_file_name Time3.2_file_name  \\\n",
       "38   ...               NaN                NaN               NaN   \n",
       "321  ...               NaN                NaN               NaN   \n",
       "352  ...               NaN                NaN               NaN   \n",
       "\n",
       "     Time4.1_file_name  Time4.2_file_name  Time5.1_file_name  \\\n",
       "38                 NaN                NaN                NaN   \n",
       "321                NaN                NaN                NaN   \n",
       "352                NaN                NaN                NaN   \n",
       "\n",
       "    Time5.2_file_name Time6.1_file_name Time6.2_file_name    group  \n",
       "38                NaN               NaN               NaN  aphasia  \n",
       "321               NaN               NaN               NaN  aphasia  \n",
       "352               NaN               NaN               NaN  aphasia  \n",
       "\n",
       "[3 rows x 35 columns]"
      ]
     },
     "execution_count": 60,
     "metadata": {},
     "output_type": "execute_result"
    }
   ],
   "source": [
    "meta_data_aphasia[(meta_data_aphasia['Aphasia_Severity'] == 0) & (meta_data_aphasia['Dysarthria_Severity'] == 0)]"
   ]
  },
  {
   "cell_type": "markdown",
   "id": "179f943904f302d2",
   "metadata": {},
   "source": [
    "Испытуемый под номером 1359 говорит с небольшими дефектами, однако сложно сказать, болен ли он."
   ]
  },
  {
   "cell_type": "code",
   "execution_count": 61,
   "id": "1fff19240792ccd8",
   "metadata": {
    "ExecuteTime": {
     "end_time": "2025-02-01T16:13:04.712206Z",
     "start_time": "2025-02-01T16:13:04.700966Z"
    }
   },
   "outputs": [],
   "source": [
    "meta_data_aphasia['Dominant_Aphasia'] = meta_data_aphasia['Dominant_Aphasia'].apply(lambda x: int(x[0]) if '(' in str(x) else x)"
   ]
  },
  {
   "cell_type": "code",
   "execution_count": 62,
   "id": "c02ec619045b0730",
   "metadata": {
    "ExecuteTime": {
     "end_time": "2025-02-01T16:13:04.723470Z",
     "start_time": "2025-02-01T16:13:04.712779Z"
    }
   },
   "outputs": [
    {
     "name": "stdout",
     "output_type": "stream",
     "text": [
      "Count of participants without records: 0\n"
     ]
    }
   ],
   "source": [
    "print(\"Count of participants without records:\", meta_data_aphasia.iloc[:, -12:].isna().all(axis=1).sum())"
   ]
  },
  {
   "cell_type": "markdown",
   "id": "7e6c5914",
   "metadata": {},
   "source": [
    "#### 2.7 Количество аудиозаписей для каждого человка"
   ]
  },
  {
   "cell_type": "code",
   "execution_count": 63,
   "id": "1587aec6",
   "metadata": {},
   "outputs": [],
   "source": [
    "aphasia_file_count = list(Counter(aphasia_filenames).values())\n",
    "norm_file_count = list(Counter(norm_filenames).values())\n",
    "all_file_count = aphasia_file_count + norm_file_count"
   ]
  },
  {
   "cell_type": "markdown",
   "id": "a46b34de",
   "metadata": {},
   "source": [
    "Распределение количества аудиофайлов для каждого испытуемого с афазией"
   ]
  },
  {
   "cell_type": "code",
   "execution_count": 64,
   "id": "4f3a0bd9",
   "metadata": {},
   "outputs": [
    {
     "data": {
      "text/plain": [
       "Counter({1: 93, 2: 84, 4: 44, 3: 17, 5: 7, 7: 5, 8: 4, 6: 3})"
      ]
     },
     "execution_count": 64,
     "metadata": {},
     "output_type": "execute_result"
    }
   ],
   "source": [
    "Counter(aphasia_file_count)"
   ]
  },
  {
   "cell_type": "code",
   "execution_count": 65,
   "id": "27ccb80d",
   "metadata": {},
   "outputs": [
    {
     "name": "stdout",
     "output_type": "stream",
     "text": [
      "Среднее количество файлов для класса Aphasia: 2.37\n"
     ]
    }
   ],
   "source": [
    "print(f\"Среднее количество файлов для класса Aphasia: {sum(aphasia_file_count) / len(aphasia_file_count):.2f}\")"
   ]
  },
  {
   "cell_type": "markdown",
   "id": "a0e32c85",
   "metadata": {},
   "source": [
    "Распределение количества аудиофайлов для каждого испытуемого без афазии"
   ]
  },
  {
   "cell_type": "code",
   "execution_count": 66,
   "id": "f74ab301",
   "metadata": {},
   "outputs": [
    {
     "data": {
      "text/plain": [
       "Counter({2: 101})"
      ]
     },
     "execution_count": 66,
     "metadata": {},
     "output_type": "execute_result"
    }
   ],
   "source": [
    "Counter(norm_file_count)"
   ]
  },
  {
   "cell_type": "code",
   "execution_count": 67,
   "id": "3a9d35ee",
   "metadata": {},
   "outputs": [
    {
     "name": "stdout",
     "output_type": "stream",
     "text": [
      "Среднее количество файлов для класса Norm: 2.00\n"
     ]
    }
   ],
   "source": [
    "print(f\"Среднее количество файлов для класса Norm: {sum(norm_file_count) / len(norm_file_count):.2f}\")"
   ]
  },
  {
   "cell_type": "markdown",
   "id": "8f93e16c",
   "metadata": {},
   "source": [
    "Распределение количества аудиофайлов для каждого испытуемого"
   ]
  },
  {
   "cell_type": "code",
   "execution_count": 68,
   "id": "07ab8bdf",
   "metadata": {},
   "outputs": [
    {
     "data": {
      "text/plain": [
       "Counter({2: 185, 1: 93, 4: 44, 3: 17, 5: 7, 7: 5, 8: 4, 6: 3})"
      ]
     },
     "execution_count": 68,
     "metadata": {},
     "output_type": "execute_result"
    }
   ],
   "source": [
    "Counter(all_file_count)"
   ]
  },
  {
   "cell_type": "code",
   "execution_count": 69,
   "id": "f9146e34",
   "metadata": {},
   "outputs": [
    {
     "name": "stdout",
     "output_type": "stream",
     "text": [
      "Среднее количество файлов для каждого испытуемого: 2.26\n"
     ]
    }
   ],
   "source": [
    "print(f\"Среднее количество файлов для каждого испытуемого: {sum(all_file_count) / len(all_file_count):.2f}\")"
   ]
  },
  {
   "cell_type": "markdown",
   "id": "23c4d1f84051cbba",
   "metadata": {},
   "source": [
    "## 3. Анализ аудиозаписей\n",
    "Сначала переведём все аудиофайлы в .wav, т.к. большинство библиотек не работает с .3gp"
   ]
  },
  {
   "cell_type": "code",
   "execution_count": 70,
   "id": "1f3be4e1d26cf6dc",
   "metadata": {
    "ExecuteTime": {
     "end_time": "2025-02-01T16:13:04.734166Z",
     "start_time": "2025-02-01T16:13:04.724104Z"
    }
   },
   "outputs": [],
   "source": [
    "NEW_DATA = os.path.join(DATA_PATH, \"Voices_wav\")\n",
    "NEW_APHASIA = os.path.join(NEW_DATA, \"Aphasia\")\n",
    "NEW_NORM = os.path.join(NEW_DATA, \"Norm\")"
   ]
  },
  {
   "cell_type": "code",
   "execution_count": 71,
   "id": "24463aabf2ef67b0",
   "metadata": {
    "ExecuteTime": {
     "end_time": "2025-02-01T16:13:04.744502Z",
     "start_time": "2025-02-01T16:13:04.734750Z"
    }
   },
   "outputs": [],
   "source": [
    "# for audio_file in os.listdir(APHASIA_PATH):\n",
    "#     ffmpeg.input(os.path.join(APHASIA_PATH, audio_file)).output(os.path.join(NEW_APHASIA, audio_file[:-4] + '.wav')).run()"
   ]
  },
  {
   "cell_type": "code",
   "execution_count": 72,
   "id": "bed186f529af6863",
   "metadata": {
    "ExecuteTime": {
     "end_time": "2025-02-01T16:13:04.754671Z",
     "start_time": "2025-02-01T16:13:04.745155Z"
    }
   },
   "outputs": [],
   "source": [
    "# for audio_file in os.listdir(NORM_PATH):\n",
    "#     ffmpeg.input(os.path.join(NORM_PATH, audio_file)).output(os.path.join(NEW_NORM, audio_file[:-4] + '.wav')).run()"
   ]
  },
  {
   "cell_type": "markdown",
   "id": "e3cbb9b2e63ccc71",
   "metadata": {},
   "source": [
    "Для оценки качества звукозаписей будем использовать несколько метрик:\n",
    "* RMS — считаем root mean square для аудио сигнала. Т.е. высчитываем среднюю громкость всей записи. Если RMS довольно высокий, то, возможно, это может быть следствием наличия шумов.\n",
    "* Spectral Flatness — или же коэффициент тональности. Т.е. эта величина показывает насколько \"гладкая\" (отсутствуют пики) мощность сигнала. Если величина высокая (ближе к 1.0), то звук больше напоминает белый шум. Если же значение низкое, то наоборот. Формула расчёта: <br>$\\mathrm{Flatness} = \\frac{\\sqrt[N]{\\prod_{n=0}^{N-1}x(n)}}{\\frac{\\sum_{n=0}^{N-1}x(n)}{N}} = \\frac{\\exp\\left(\\frac{1}{N}\\sum_{n=0}^{N-1} \\ln x(n)\\right)}{\\frac{1}{N} \\sum_{n=0}^{N-1}x(n)}$ \n",
    "<br> где x(n) — мощность спектра.\n",
    "* Spectral Roll-Off — частота, на которой находится большая часть спектра сигнала. Высокое значение может означать, что в сигнале очень много высокочастотных компонент(шум, резкие звуки). Если же низкое значение, то это означать сосредоточение на низких частотах (гул, басс)."
   ]
  },
  {
   "cell_type": "code",
   "execution_count": 73,
   "id": "ab9b64eeac2a7169",
   "metadata": {
    "ExecuteTime": {
     "end_time": "2025-02-01T16:13:49.255729Z",
     "start_time": "2025-02-01T16:13:04.755249Z"
    }
   },
   "outputs": [
    {
     "name": "stderr",
     "output_type": "stream",
     "text": [
      "100%|██████████| 608/608 [00:37<00:00, 16.39it/s]\n"
     ]
    }
   ],
   "source": [
    "def rms(signal):\n",
    "    return np.sqrt(np.mean(signal**2))\n",
    "\n",
    "audio_quality_features = []\n",
    "\n",
    "for audio_file in tqdm(os.listdir(NEW_APHASIA)):\n",
    "    y, sr = librosa.load(os.path.join(NEW_APHASIA, audio_file), sr=None)\n",
    "    duration = librosa.get_duration(y=y, sr=sr)\n",
    "    \n",
    "    rms_value = rms(y)\n",
    "    spectral_flatness = np.mean(librosa.feature.spectral_flatness(y=y))\n",
    "    roll_off = np.mean(librosa.feature.spectral_rolloff(y=y, sr=sr))\n",
    "    audio_quality_features.append([audio_file, duration, rms_value, spectral_flatness, roll_off])"
   ]
  },
  {
   "cell_type": "code",
   "execution_count": 74,
   "id": "9873c2348d276d74",
   "metadata": {
    "ExecuteTime": {
     "end_time": "2025-02-01T16:13:49.263158Z",
     "start_time": "2025-02-01T16:13:49.256364Z"
    }
   },
   "outputs": [
    {
     "data": {
      "text/html": [
       "<div>\n",
       "<style scoped>\n",
       "    .dataframe tbody tr th:only-of-type {\n",
       "        vertical-align: middle;\n",
       "    }\n",
       "\n",
       "    .dataframe tbody tr th {\n",
       "        vertical-align: top;\n",
       "    }\n",
       "\n",
       "    .dataframe thead th {\n",
       "        text-align: right;\n",
       "    }\n",
       "</style>\n",
       "<table border=\"1\" class=\"dataframe\">\n",
       "  <thead>\n",
       "    <tr style=\"text-align: right;\">\n",
       "      <th></th>\n",
       "      <th>file_name</th>\n",
       "      <th>duration</th>\n",
       "      <th>rms_value</th>\n",
       "      <th>spectral_flatness</th>\n",
       "      <th>roll_off</th>\n",
       "    </tr>\n",
       "  </thead>\n",
       "  <tbody>\n",
       "    <tr>\n",
       "      <th>0</th>\n",
       "      <td>A-409-RAT-2-robb.wav</td>\n",
       "      <td>45.020000</td>\n",
       "      <td>0.030957</td>\n",
       "      <td>0.037325</td>\n",
       "      <td>1588.589755</td>\n",
       "    </tr>\n",
       "    <tr>\n",
       "      <th>1</th>\n",
       "      <td>A-681-RAT-3-robb.wav</td>\n",
       "      <td>92.700000</td>\n",
       "      <td>0.033755</td>\n",
       "      <td>0.038229</td>\n",
       "      <td>1683.148939</td>\n",
       "    </tr>\n",
       "    <tr>\n",
       "      <th>2</th>\n",
       "      <td>A-1052-RAT-1-bike.wav</td>\n",
       "      <td>55.054512</td>\n",
       "      <td>0.068966</td>\n",
       "      <td>0.006978</td>\n",
       "      <td>3608.729672</td>\n",
       "    </tr>\n",
       "    <tr>\n",
       "      <th>3</th>\n",
       "      <td>A-120-RAT-2-robb.wav</td>\n",
       "      <td>205.060000</td>\n",
       "      <td>0.021126</td>\n",
       "      <td>0.160914</td>\n",
       "      <td>2871.559331</td>\n",
       "    </tr>\n",
       "    <tr>\n",
       "      <th>4</th>\n",
       "      <td>A-145-RAT-1-bike.wav</td>\n",
       "      <td>91.440000</td>\n",
       "      <td>0.072746</td>\n",
       "      <td>0.008091</td>\n",
       "      <td>957.717372</td>\n",
       "    </tr>\n",
       "  </tbody>\n",
       "</table>\n",
       "</div>"
      ],
      "text/plain": [
       "               file_name    duration  rms_value  spectral_flatness  \\\n",
       "0   A-409-RAT-2-robb.wav   45.020000   0.030957           0.037325   \n",
       "1   A-681-RAT-3-robb.wav   92.700000   0.033755           0.038229   \n",
       "2  A-1052-RAT-1-bike.wav   55.054512   0.068966           0.006978   \n",
       "3   A-120-RAT-2-robb.wav  205.060000   0.021126           0.160914   \n",
       "4   A-145-RAT-1-bike.wav   91.440000   0.072746           0.008091   \n",
       "\n",
       "      roll_off  \n",
       "0  1588.589755  \n",
       "1  1683.148939  \n",
       "2  3608.729672  \n",
       "3  2871.559331  \n",
       "4   957.717372  "
      ]
     },
     "execution_count": 74,
     "metadata": {},
     "output_type": "execute_result"
    }
   ],
   "source": [
    "df_audio_quality_aphasia = pd.DataFrame(audio_quality_features, columns=[\"file_name\", \"duration\", \"rms_value\", \"spectral_flatness\", \"roll_off\"])\n",
    "df_audio_quality_aphasia.head()"
   ]
  },
  {
   "cell_type": "code",
   "execution_count": 75,
   "id": "9f10b50223168ff4",
   "metadata": {
    "ExecuteTime": {
     "end_time": "2025-02-01T16:13:53.498541Z",
     "start_time": "2025-02-01T16:13:49.263842Z"
    }
   },
   "outputs": [
    {
     "name": "stderr",
     "output_type": "stream",
     "text": [
      "100%|██████████| 202/202 [00:04<00:00, 45.10it/s]\n"
     ]
    }
   ],
   "source": [
    "audio_quality_features = []\n",
    "\n",
    "for audio_file in tqdm(os.listdir(NEW_NORM)):\n",
    "    y, sr = librosa.load(os.path.join(NEW_NORM, audio_file), sr=None)\n",
    "    duration = librosa.get_duration(y=y, sr=sr)\n",
    "    \n",
    "    rms_value = rms(y)\n",
    "    spectral_flatness = np.mean(librosa.feature.spectral_flatness(y=y))\n",
    "    roll_off = np.mean(librosa.feature.spectral_rolloff(y=y, sr=sr))\n",
    "    audio_quality_features.append([audio_file, duration, rms_value, spectral_flatness, roll_off])"
   ]
  },
  {
   "cell_type": "code",
   "execution_count": 76,
   "id": "b4cc250ee686fcae",
   "metadata": {
    "ExecuteTime": {
     "end_time": "2025-02-01T16:13:53.505300Z",
     "start_time": "2025-02-01T16:13:53.499465Z"
    }
   },
   "outputs": [
    {
     "data": {
      "text/html": [
       "<div>\n",
       "<style scoped>\n",
       "    .dataframe tbody tr th:only-of-type {\n",
       "        vertical-align: middle;\n",
       "    }\n",
       "\n",
       "    .dataframe tbody tr th {\n",
       "        vertical-align: top;\n",
       "    }\n",
       "\n",
       "    .dataframe thead th {\n",
       "        text-align: right;\n",
       "    }\n",
       "</style>\n",
       "<table border=\"1\" class=\"dataframe\">\n",
       "  <thead>\n",
       "    <tr style=\"text-align: right;\">\n",
       "      <th></th>\n",
       "      <th>file_name</th>\n",
       "      <th>duration</th>\n",
       "      <th>rms_value</th>\n",
       "      <th>spectral_flatness</th>\n",
       "      <th>roll_off</th>\n",
       "    </tr>\n",
       "  </thead>\n",
       "  <tbody>\n",
       "    <tr>\n",
       "      <th>0</th>\n",
       "      <td>N-0941-RAT-1-bike.wav</td>\n",
       "      <td>40.30</td>\n",
       "      <td>0.065215</td>\n",
       "      <td>0.066660</td>\n",
       "      <td>2082.335069</td>\n",
       "    </tr>\n",
       "    <tr>\n",
       "      <th>1</th>\n",
       "      <td>N-0995-RAT-1-bike.wav</td>\n",
       "      <td>48.46</td>\n",
       "      <td>0.050279</td>\n",
       "      <td>0.044317</td>\n",
       "      <td>2184.536816</td>\n",
       "    </tr>\n",
       "    <tr>\n",
       "      <th>2</th>\n",
       "      <td>N-1011-RAT-1-robb.wav</td>\n",
       "      <td>39.30</td>\n",
       "      <td>0.015791</td>\n",
       "      <td>0.143836</td>\n",
       "      <td>2544.042175</td>\n",
       "    </tr>\n",
       "    <tr>\n",
       "      <th>3</th>\n",
       "      <td>N-0982-RAT-1-robb.wav</td>\n",
       "      <td>38.58</td>\n",
       "      <td>0.059314</td>\n",
       "      <td>0.081281</td>\n",
       "      <td>2243.301721</td>\n",
       "    </tr>\n",
       "    <tr>\n",
       "      <th>4</th>\n",
       "      <td>N-1006-RAT-1-bike.wav</td>\n",
       "      <td>56.60</td>\n",
       "      <td>0.094168</td>\n",
       "      <td>0.066184</td>\n",
       "      <td>2049.646893</td>\n",
       "    </tr>\n",
       "  </tbody>\n",
       "</table>\n",
       "</div>"
      ],
      "text/plain": [
       "               file_name  duration  rms_value  spectral_flatness     roll_off\n",
       "0  N-0941-RAT-1-bike.wav     40.30   0.065215           0.066660  2082.335069\n",
       "1  N-0995-RAT-1-bike.wav     48.46   0.050279           0.044317  2184.536816\n",
       "2  N-1011-RAT-1-robb.wav     39.30   0.015791           0.143836  2544.042175\n",
       "3  N-0982-RAT-1-robb.wav     38.58   0.059314           0.081281  2243.301721\n",
       "4  N-1006-RAT-1-bike.wav     56.60   0.094168           0.066184  2049.646893"
      ]
     },
     "execution_count": 76,
     "metadata": {},
     "output_type": "execute_result"
    }
   ],
   "source": [
    "df_audio_quality_norm = pd.DataFrame(audio_quality_features, columns=[\"file_name\", \"duration\", \"rms_value\", \"spectral_flatness\", \"roll_off\"])\n",
    "df_audio_quality_norm.head()"
   ]
  },
  {
   "cell_type": "code",
   "execution_count": 77,
   "id": "fae630bf04eacaf6",
   "metadata": {
    "ExecuteTime": {
     "end_time": "2025-02-01T16:13:53.521839Z",
     "start_time": "2025-02-01T16:13:53.506135Z"
    }
   },
   "outputs": [
    {
     "data": {
      "text/html": [
       "<div>\n",
       "<style scoped>\n",
       "    .dataframe tbody tr th:only-of-type {\n",
       "        vertical-align: middle;\n",
       "    }\n",
       "\n",
       "    .dataframe tbody tr th {\n",
       "        vertical-align: top;\n",
       "    }\n",
       "\n",
       "    .dataframe thead th {\n",
       "        text-align: right;\n",
       "    }\n",
       "</style>\n",
       "<table border=\"1\" class=\"dataframe\">\n",
       "  <thead>\n",
       "    <tr style=\"text-align: right;\">\n",
       "      <th></th>\n",
       "      <th>duration</th>\n",
       "      <th>rms_value</th>\n",
       "      <th>spectral_flatness</th>\n",
       "      <th>roll_off</th>\n",
       "    </tr>\n",
       "  </thead>\n",
       "  <tbody>\n",
       "    <tr>\n",
       "      <th>count</th>\n",
       "      <td>608.000000</td>\n",
       "      <td>608.000000</td>\n",
       "      <td>608.000000</td>\n",
       "      <td>608.000000</td>\n",
       "    </tr>\n",
       "    <tr>\n",
       "      <th>mean</th>\n",
       "      <td>81.061094</td>\n",
       "      <td>0.048458</td>\n",
       "      <td>0.031463</td>\n",
       "      <td>1716.993592</td>\n",
       "    </tr>\n",
       "    <tr>\n",
       "      <th>std</th>\n",
       "      <td>51.682336</td>\n",
       "      <td>0.029054</td>\n",
       "      <td>0.039130</td>\n",
       "      <td>895.588373</td>\n",
       "    </tr>\n",
       "    <tr>\n",
       "      <th>min</th>\n",
       "      <td>7.180000</td>\n",
       "      <td>0.000033</td>\n",
       "      <td>0.002353</td>\n",
       "      <td>633.968054</td>\n",
       "    </tr>\n",
       "    <tr>\n",
       "      <th>25%</th>\n",
       "      <td>46.702222</td>\n",
       "      <td>0.026113</td>\n",
       "      <td>0.013383</td>\n",
       "      <td>1241.386128</td>\n",
       "    </tr>\n",
       "    <tr>\n",
       "      <th>50%</th>\n",
       "      <td>67.972063</td>\n",
       "      <td>0.042637</td>\n",
       "      <td>0.022131</td>\n",
       "      <td>1474.588512</td>\n",
       "    </tr>\n",
       "    <tr>\n",
       "      <th>75%</th>\n",
       "      <td>99.090000</td>\n",
       "      <td>0.065180</td>\n",
       "      <td>0.035750</td>\n",
       "      <td>1813.098106</td>\n",
       "    </tr>\n",
       "    <tr>\n",
       "      <th>max</th>\n",
       "      <td>427.500000</td>\n",
       "      <td>0.168308</td>\n",
       "      <td>0.688038</td>\n",
       "      <td>7077.025142</td>\n",
       "    </tr>\n",
       "  </tbody>\n",
       "</table>\n",
       "</div>"
      ],
      "text/plain": [
       "         duration   rms_value  spectral_flatness     roll_off\n",
       "count  608.000000  608.000000         608.000000   608.000000\n",
       "mean    81.061094    0.048458           0.031463  1716.993592\n",
       "std     51.682336    0.029054           0.039130   895.588373\n",
       "min      7.180000    0.000033           0.002353   633.968054\n",
       "25%     46.702222    0.026113           0.013383  1241.386128\n",
       "50%     67.972063    0.042637           0.022131  1474.588512\n",
       "75%     99.090000    0.065180           0.035750  1813.098106\n",
       "max    427.500000    0.168308           0.688038  7077.025142"
      ]
     },
     "execution_count": 77,
     "metadata": {},
     "output_type": "execute_result"
    }
   ],
   "source": [
    "df_audio_quality_aphasia.describe()"
   ]
  },
  {
   "cell_type": "code",
   "execution_count": 78,
   "id": "3a89aa221566eca1",
   "metadata": {
    "ExecuteTime": {
     "end_time": "2025-02-01T16:13:53.531987Z",
     "start_time": "2025-02-01T16:13:53.522517Z"
    }
   },
   "outputs": [
    {
     "data": {
      "text/html": [
       "<div>\n",
       "<style scoped>\n",
       "    .dataframe tbody tr th:only-of-type {\n",
       "        vertical-align: middle;\n",
       "    }\n",
       "\n",
       "    .dataframe tbody tr th {\n",
       "        vertical-align: top;\n",
       "    }\n",
       "\n",
       "    .dataframe thead th {\n",
       "        text-align: right;\n",
       "    }\n",
       "</style>\n",
       "<table border=\"1\" class=\"dataframe\">\n",
       "  <thead>\n",
       "    <tr style=\"text-align: right;\">\n",
       "      <th></th>\n",
       "      <th>duration</th>\n",
       "      <th>rms_value</th>\n",
       "      <th>spectral_flatness</th>\n",
       "      <th>roll_off</th>\n",
       "    </tr>\n",
       "  </thead>\n",
       "  <tbody>\n",
       "    <tr>\n",
       "      <th>count</th>\n",
       "      <td>202.000000</td>\n",
       "      <td>202.000000</td>\n",
       "      <td>202.000000</td>\n",
       "      <td>202.000000</td>\n",
       "    </tr>\n",
       "    <tr>\n",
       "      <th>mean</th>\n",
       "      <td>40.748416</td>\n",
       "      <td>0.065121</td>\n",
       "      <td>0.054272</td>\n",
       "      <td>1784.645118</td>\n",
       "    </tr>\n",
       "    <tr>\n",
       "      <th>std</th>\n",
       "      <td>22.020718</td>\n",
       "      <td>0.037527</td>\n",
       "      <td>0.032609</td>\n",
       "      <td>448.137677</td>\n",
       "    </tr>\n",
       "    <tr>\n",
       "      <th>min</th>\n",
       "      <td>14.400000</td>\n",
       "      <td>0.011289</td>\n",
       "      <td>0.003337</td>\n",
       "      <td>330.561414</td>\n",
       "    </tr>\n",
       "    <tr>\n",
       "      <th>25%</th>\n",
       "      <td>26.595000</td>\n",
       "      <td>0.036716</td>\n",
       "      <td>0.028764</td>\n",
       "      <td>1476.141538</td>\n",
       "    </tr>\n",
       "    <tr>\n",
       "      <th>50%</th>\n",
       "      <td>34.910000</td>\n",
       "      <td>0.055645</td>\n",
       "      <td>0.045730</td>\n",
       "      <td>1800.036458</td>\n",
       "    </tr>\n",
       "    <tr>\n",
       "      <th>75%</th>\n",
       "      <td>49.810000</td>\n",
       "      <td>0.087520</td>\n",
       "      <td>0.075037</td>\n",
       "      <td>2102.470314</td>\n",
       "    </tr>\n",
       "    <tr>\n",
       "      <th>max</th>\n",
       "      <td>144.180000</td>\n",
       "      <td>0.186925</td>\n",
       "      <td>0.155080</td>\n",
       "      <td>2845.199275</td>\n",
       "    </tr>\n",
       "  </tbody>\n",
       "</table>\n",
       "</div>"
      ],
      "text/plain": [
       "         duration   rms_value  spectral_flatness     roll_off\n",
       "count  202.000000  202.000000         202.000000   202.000000\n",
       "mean    40.748416    0.065121           0.054272  1784.645118\n",
       "std     22.020718    0.037527           0.032609   448.137677\n",
       "min     14.400000    0.011289           0.003337   330.561414\n",
       "25%     26.595000    0.036716           0.028764  1476.141538\n",
       "50%     34.910000    0.055645           0.045730  1800.036458\n",
       "75%     49.810000    0.087520           0.075037  2102.470314\n",
       "max    144.180000    0.186925           0.155080  2845.199275"
      ]
     },
     "execution_count": 78,
     "metadata": {},
     "output_type": "execute_result"
    }
   ],
   "source": [
    "df_audio_quality_norm.describe()"
   ]
  },
  {
   "cell_type": "markdown",
   "id": "5ba32e0c97458259",
   "metadata": {},
   "source": [
    "### 3.1 Длительность звукозаписи"
   ]
  },
  {
   "cell_type": "code",
   "execution_count": 79,
   "id": "8fd5cd80c143aa1c",
   "metadata": {
    "ExecuteTime": {
     "end_time": "2025-02-01T16:13:53.635381Z",
     "start_time": "2025-02-01T16:13:53.532600Z"
    }
   },
   "outputs": [
    {
     "data": {
      "image/png": "[encoded data removed]",
      "text/plain": [
       "<Figure size 1000x700 with 1 Axes>"
      ]
     },
     "metadata": {},
     "output_type": "display_data"
    }
   ],
   "source": [
    "plt.figure(figsize=(10, 7), )\n",
    "plt.hist(df_audio_quality_aphasia[\"duration\"].to_list(), bins=20, color=\"blue\", label=\"Aphasia duration\", edgecolor='black')\n",
    "plt.hist(df_audio_quality_norm[\"duration\"].to_list(), bins=20, color=\"red\", label=\"Norm duration\", edgecolor='black')\n",
    "plt.xlabel(\"Duration\")\n",
    "plt.ylabel(\"Count\")\n",
    "plt.legend();"
   ]
  },
  {
   "cell_type": "markdown",
   "id": "cff67b65",
   "metadata": {},
   "source": [
    " Статистики продолжительности аудио файлов у людей с афазией"
   ]
  },
  {
   "cell_type": "code",
   "execution_count": 80,
   "id": "310ae168",
   "metadata": {},
   "outputs": [
    {
     "data": {
      "text/plain": [
       "count    608.000000\n",
       "mean      81.061094\n",
       "std       51.682336\n",
       "min        7.180000\n",
       "25%       46.702222\n",
       "50%       67.972063\n",
       "75%       99.090000\n",
       "max      427.500000\n",
       "Name: duration, dtype: float64"
      ]
     },
     "execution_count": 80,
     "metadata": {},
     "output_type": "execute_result"
    }
   ],
   "source": [
    "df_audio_quality_aphasia[\"duration\"].describe()"
   ]
  },
  {
   "cell_type": "markdown",
   "id": "bd1ea369",
   "metadata": {},
   "source": [
    " Статистики продолжительности аудио файлов у людей без афазии"
   ]
  },
  {
   "cell_type": "code",
   "execution_count": 81,
   "id": "13c800a0",
   "metadata": {},
   "outputs": [
    {
     "data": {
      "text/plain": [
       "count    202.000000\n",
       "mean      40.748416\n",
       "std       22.020718\n",
       "min       14.400000\n",
       "25%       26.595000\n",
       "50%       34.910000\n",
       "75%       49.810000\n",
       "max      144.180000\n",
       "Name: duration, dtype: float64"
      ]
     },
     "execution_count": 81,
     "metadata": {},
     "output_type": "execute_result"
    }
   ],
   "source": [
    "df_audio_quality_norm[\"duration\"].describe()"
   ]
  },
  {
   "cell_type": "markdown",
   "id": "3a71b1abee9f079b",
   "metadata": {},
   "source": [
    "### 3.2 RMS"
   ]
  },
  {
   "cell_type": "code",
   "execution_count": 82,
   "id": "7feef08fd05f6d00",
   "metadata": {
    "ExecuteTime": {
     "end_time": "2025-02-01T16:13:53.740520Z",
     "start_time": "2025-02-01T16:13:53.636266Z"
    }
   },
   "outputs": [
    {
     "data": {
      "image/png": "[encoded data removed]",
      "text/plain": [
       "<Figure size 1000x700 with 1 Axes>"
      ]
     },
     "metadata": {},
     "output_type": "display_data"
    }
   ],
   "source": [
    "plt.figure(figsize=(10, 7), )\n",
    "plt.hist(df_audio_quality_aphasia[\"rms_value\"].to_list(), bins=20, color=\"blue\", label=\"Aphasia RMS\", edgecolor='black')\n",
    "plt.hist(df_audio_quality_norm[\"rms_value\"].to_list(), bins=20, color=\"red\", label=\"Norm RMS\", edgecolor='black')\n",
    "plt.xlabel(\"RMS\")\n",
    "plt.ylabel(\"Count\")\n",
    "plt.legend();"
   ]
  },
  {
   "cell_type": "code",
   "execution_count": 83,
   "id": "33202f19853e6c71",
   "metadata": {
    "ExecuteTime": {
     "end_time": "2025-02-01T16:13:53.747676Z",
     "start_time": "2025-02-01T16:13:53.741436Z"
    }
   },
   "outputs": [
    {
     "data": {
      "text/html": [
       "<div>\n",
       "<style scoped>\n",
       "    .dataframe tbody tr th:only-of-type {\n",
       "        vertical-align: middle;\n",
       "    }\n",
       "\n",
       "    .dataframe tbody tr th {\n",
       "        vertical-align: top;\n",
       "    }\n",
       "\n",
       "    .dataframe thead th {\n",
       "        text-align: right;\n",
       "    }\n",
       "</style>\n",
       "<table border=\"1\" class=\"dataframe\">\n",
       "  <thead>\n",
       "    <tr style=\"text-align: right;\">\n",
       "      <th></th>\n",
       "      <th>file_name</th>\n",
       "      <th>duration</th>\n",
       "      <th>rms_value</th>\n",
       "      <th>spectral_flatness</th>\n",
       "      <th>roll_off</th>\n",
       "    </tr>\n",
       "  </thead>\n",
       "  <tbody>\n",
       "    <tr>\n",
       "      <th>337</th>\n",
       "      <td>A-1342-RAT-1-bike.wav</td>\n",
       "      <td>25.40263</td>\n",
       "      <td>0.168308</td>\n",
       "      <td>0.014649</td>\n",
       "      <td>5793.976050</td>\n",
       "    </tr>\n",
       "    <tr>\n",
       "      <th>105</th>\n",
       "      <td>A-820-RAT-1-bike.wav</td>\n",
       "      <td>51.82000</td>\n",
       "      <td>0.149516</td>\n",
       "      <td>0.021020</td>\n",
       "      <td>1303.882137</td>\n",
       "    </tr>\n",
       "    <tr>\n",
       "      <th>390</th>\n",
       "      <td>A-224-RAT-2-bike.wav</td>\n",
       "      <td>21.38000</td>\n",
       "      <td>0.146005</td>\n",
       "      <td>0.032139</td>\n",
       "      <td>1277.098881</td>\n",
       "    </tr>\n",
       "    <tr>\n",
       "      <th>37</th>\n",
       "      <td>A-820-RAT-1-robb.wav</td>\n",
       "      <td>35.50000</td>\n",
       "      <td>0.143091</td>\n",
       "      <td>0.025839</td>\n",
       "      <td>1371.635698</td>\n",
       "    </tr>\n",
       "    <tr>\n",
       "      <th>101</th>\n",
       "      <td>A-820-RAT-2-bike.wav</td>\n",
       "      <td>51.68000</td>\n",
       "      <td>0.140819</td>\n",
       "      <td>0.019219</td>\n",
       "      <td>1275.874072</td>\n",
       "    </tr>\n",
       "  </tbody>\n",
       "</table>\n",
       "</div>"
      ],
      "text/plain": [
       "                 file_name  duration  rms_value  spectral_flatness  \\\n",
       "337  A-1342-RAT-1-bike.wav  25.40263   0.168308           0.014649   \n",
       "105   A-820-RAT-1-bike.wav  51.82000   0.149516           0.021020   \n",
       "390   A-224-RAT-2-bike.wav  21.38000   0.146005           0.032139   \n",
       "37    A-820-RAT-1-robb.wav  35.50000   0.143091           0.025839   \n",
       "101   A-820-RAT-2-bike.wav  51.68000   0.140819           0.019219   \n",
       "\n",
       "        roll_off  \n",
       "337  5793.976050  \n",
       "105  1303.882137  \n",
       "390  1277.098881  \n",
       "37   1371.635698  \n",
       "101  1275.874072  "
      ]
     },
     "execution_count": 83,
     "metadata": {},
     "output_type": "execute_result"
    }
   ],
   "source": [
    "df_audio_quality_aphasia.nlargest(5, columns=['rms_value'])"
   ]
  },
  {
   "cell_type": "code",
   "execution_count": 84,
   "id": "650e1cdea56c3081",
   "metadata": {
    "ExecuteTime": {
     "end_time": "2025-02-01T16:13:53.766590Z",
     "start_time": "2025-02-01T16:13:53.748367Z"
    }
   },
   "outputs": [
    {
     "data": {
      "text/html": [
       "<div>\n",
       "<style scoped>\n",
       "    .dataframe tbody tr th:only-of-type {\n",
       "        vertical-align: middle;\n",
       "    }\n",
       "\n",
       "    .dataframe tbody tr th {\n",
       "        vertical-align: top;\n",
       "    }\n",
       "\n",
       "    .dataframe thead th {\n",
       "        text-align: right;\n",
       "    }\n",
       "</style>\n",
       "<table border=\"1\" class=\"dataframe\">\n",
       "  <thead>\n",
       "    <tr style=\"text-align: right;\">\n",
       "      <th></th>\n",
       "      <th>file_name</th>\n",
       "      <th>duration</th>\n",
       "      <th>rms_value</th>\n",
       "      <th>spectral_flatness</th>\n",
       "      <th>roll_off</th>\n",
       "    </tr>\n",
       "  </thead>\n",
       "  <tbody>\n",
       "    <tr>\n",
       "      <th>327</th>\n",
       "      <td>A-928-RAT-1-robb.wav</td>\n",
       "      <td>25.56</td>\n",
       "      <td>0.000033</td>\n",
       "      <td>0.688038</td>\n",
       "      <td>2020.849609</td>\n",
       "    </tr>\n",
       "    <tr>\n",
       "      <th>439</th>\n",
       "      <td>A-260-RAT-1-bike.wav</td>\n",
       "      <td>27.68</td>\n",
       "      <td>0.002172</td>\n",
       "      <td>0.022087</td>\n",
       "      <td>1220.427973</td>\n",
       "    </tr>\n",
       "    <tr>\n",
       "      <th>583</th>\n",
       "      <td>A-505-RAT-1-bike.wav</td>\n",
       "      <td>36.04</td>\n",
       "      <td>0.003160</td>\n",
       "      <td>0.065826</td>\n",
       "      <td>2055.657137</td>\n",
       "    </tr>\n",
       "    <tr>\n",
       "      <th>71</th>\n",
       "      <td>A-260-RAT-3-robb.wav</td>\n",
       "      <td>18.80</td>\n",
       "      <td>0.003810</td>\n",
       "      <td>0.128243</td>\n",
       "      <td>2390.811012</td>\n",
       "    </tr>\n",
       "    <tr>\n",
       "      <th>60</th>\n",
       "      <td>A-387-RAT-1-bike.wav</td>\n",
       "      <td>90.98</td>\n",
       "      <td>0.005060</td>\n",
       "      <td>0.066954</td>\n",
       "      <td>2043.617045</td>\n",
       "    </tr>\n",
       "  </tbody>\n",
       "</table>\n",
       "</div>"
      ],
      "text/plain": [
       "                file_name  duration  rms_value  spectral_flatness     roll_off\n",
       "327  A-928-RAT-1-robb.wav     25.56   0.000033           0.688038  2020.849609\n",
       "439  A-260-RAT-1-bike.wav     27.68   0.002172           0.022087  1220.427973\n",
       "583  A-505-RAT-1-bike.wav     36.04   0.003160           0.065826  2055.657137\n",
       "71   A-260-RAT-3-robb.wav     18.80   0.003810           0.128243  2390.811012\n",
       "60   A-387-RAT-1-bike.wav     90.98   0.005060           0.066954  2043.617045"
      ]
     },
     "execution_count": 84,
     "metadata": {},
     "output_type": "execute_result"
    }
   ],
   "source": [
    "df_audio_quality_aphasia.nsmallest(5, columns=['rms_value'])"
   ]
  },
  {
   "cell_type": "code",
   "execution_count": 85,
   "id": "b02e10d68542cfc4",
   "metadata": {
    "ExecuteTime": {
     "end_time": "2025-02-01T16:13:53.780202Z",
     "start_time": "2025-02-01T16:13:53.768030Z"
    }
   },
   "outputs": [
    {
     "data": {
      "text/html": [
       "<div>\n",
       "<style scoped>\n",
       "    .dataframe tbody tr th:only-of-type {\n",
       "        vertical-align: middle;\n",
       "    }\n",
       "\n",
       "    .dataframe tbody tr th {\n",
       "        vertical-align: top;\n",
       "    }\n",
       "\n",
       "    .dataframe thead th {\n",
       "        text-align: right;\n",
       "    }\n",
       "</style>\n",
       "<table border=\"1\" class=\"dataframe\">\n",
       "  <thead>\n",
       "    <tr style=\"text-align: right;\">\n",
       "      <th></th>\n",
       "      <th>file_name</th>\n",
       "      <th>duration</th>\n",
       "      <th>rms_value</th>\n",
       "      <th>spectral_flatness</th>\n",
       "      <th>roll_off</th>\n",
       "    </tr>\n",
       "  </thead>\n",
       "  <tbody>\n",
       "    <tr>\n",
       "      <th>149</th>\n",
       "      <td>N-1008-RAT-1-robb.wav</td>\n",
       "      <td>80.36</td>\n",
       "      <td>0.186925</td>\n",
       "      <td>0.027966</td>\n",
       "      <td>2098.334246</td>\n",
       "    </tr>\n",
       "    <tr>\n",
       "      <th>57</th>\n",
       "      <td>N-0916-RAT-1-bike.wav</td>\n",
       "      <td>68.48</td>\n",
       "      <td>0.180357</td>\n",
       "      <td>0.027870</td>\n",
       "      <td>1441.672502</td>\n",
       "    </tr>\n",
       "    <tr>\n",
       "      <th>144</th>\n",
       "      <td>N-0916-RAT-1-robb.wav</td>\n",
       "      <td>28.20</td>\n",
       "      <td>0.165062</td>\n",
       "      <td>0.028180</td>\n",
       "      <td>1629.517432</td>\n",
       "    </tr>\n",
       "    <tr>\n",
       "      <th>20</th>\n",
       "      <td>N-1008-RAT-1-bike.wav</td>\n",
       "      <td>71.54</td>\n",
       "      <td>0.163322</td>\n",
       "      <td>0.037011</td>\n",
       "      <td>2288.349732</td>\n",
       "    </tr>\n",
       "    <tr>\n",
       "      <th>14</th>\n",
       "      <td>N-1017-RAT-1-bike.wav</td>\n",
       "      <td>40.00</td>\n",
       "      <td>0.162778</td>\n",
       "      <td>0.055435</td>\n",
       "      <td>2227.361222</td>\n",
       "    </tr>\n",
       "  </tbody>\n",
       "</table>\n",
       "</div>"
      ],
      "text/plain": [
       "                 file_name  duration  rms_value  spectral_flatness  \\\n",
       "149  N-1008-RAT-1-robb.wav     80.36   0.186925           0.027966   \n",
       "57   N-0916-RAT-1-bike.wav     68.48   0.180357           0.027870   \n",
       "144  N-0916-RAT-1-robb.wav     28.20   0.165062           0.028180   \n",
       "20   N-1008-RAT-1-bike.wav     71.54   0.163322           0.037011   \n",
       "14   N-1017-RAT-1-bike.wav     40.00   0.162778           0.055435   \n",
       "\n",
       "        roll_off  \n",
       "149  2098.334246  \n",
       "57   1441.672502  \n",
       "144  1629.517432  \n",
       "20   2288.349732  \n",
       "14   2227.361222  "
      ]
     },
     "execution_count": 85,
     "metadata": {},
     "output_type": "execute_result"
    }
   ],
   "source": [
    "df_audio_quality_norm.nlargest(5, columns=['rms_value'])"
   ]
  },
  {
   "cell_type": "code",
   "execution_count": 86,
   "id": "ee5fac5c3e45dfbf",
   "metadata": {
    "ExecuteTime": {
     "end_time": "2025-02-01T16:13:53.793966Z",
     "start_time": "2025-02-01T16:13:53.780910Z"
    }
   },
   "outputs": [
    {
     "data": {
      "text/html": [
       "<div>\n",
       "<style scoped>\n",
       "    .dataframe tbody tr th:only-of-type {\n",
       "        vertical-align: middle;\n",
       "    }\n",
       "\n",
       "    .dataframe tbody tr th {\n",
       "        vertical-align: top;\n",
       "    }\n",
       "\n",
       "    .dataframe thead th {\n",
       "        text-align: right;\n",
       "    }\n",
       "</style>\n",
       "<table border=\"1\" class=\"dataframe\">\n",
       "  <thead>\n",
       "    <tr style=\"text-align: right;\">\n",
       "      <th></th>\n",
       "      <th>file_name</th>\n",
       "      <th>duration</th>\n",
       "      <th>rms_value</th>\n",
       "      <th>spectral_flatness</th>\n",
       "      <th>roll_off</th>\n",
       "    </tr>\n",
       "  </thead>\n",
       "  <tbody>\n",
       "    <tr>\n",
       "      <th>77</th>\n",
       "      <td>N-0929-RAT-1-bike.wav</td>\n",
       "      <td>95.28</td>\n",
       "      <td>0.011289</td>\n",
       "      <td>0.003337</td>\n",
       "      <td>427.630751</td>\n",
       "    </tr>\n",
       "    <tr>\n",
       "      <th>179</th>\n",
       "      <td>N-0962-RAT-1-robb.wav</td>\n",
       "      <td>45.06</td>\n",
       "      <td>0.011850</td>\n",
       "      <td>0.015134</td>\n",
       "      <td>1005.740248</td>\n",
       "    </tr>\n",
       "    <tr>\n",
       "      <th>84</th>\n",
       "      <td>N-0960-RAT-1-bike.wav</td>\n",
       "      <td>55.12</td>\n",
       "      <td>0.012032</td>\n",
       "      <td>0.036905</td>\n",
       "      <td>1272.177712</td>\n",
       "    </tr>\n",
       "    <tr>\n",
       "      <th>191</th>\n",
       "      <td>N-0986-RAT-1-bike.wav</td>\n",
       "      <td>18.40</td>\n",
       "      <td>0.014360</td>\n",
       "      <td>0.059139</td>\n",
       "      <td>2120.795356</td>\n",
       "    </tr>\n",
       "    <tr>\n",
       "      <th>101</th>\n",
       "      <td>N-0912-RAT-1-robb.wav</td>\n",
       "      <td>31.24</td>\n",
       "      <td>0.014531</td>\n",
       "      <td>0.007838</td>\n",
       "      <td>330.561414</td>\n",
       "    </tr>\n",
       "  </tbody>\n",
       "</table>\n",
       "</div>"
      ],
      "text/plain": [
       "                 file_name  duration  rms_value  spectral_flatness  \\\n",
       "77   N-0929-RAT-1-bike.wav     95.28   0.011289           0.003337   \n",
       "179  N-0962-RAT-1-robb.wav     45.06   0.011850           0.015134   \n",
       "84   N-0960-RAT-1-bike.wav     55.12   0.012032           0.036905   \n",
       "191  N-0986-RAT-1-bike.wav     18.40   0.014360           0.059139   \n",
       "101  N-0912-RAT-1-robb.wav     31.24   0.014531           0.007838   \n",
       "\n",
       "        roll_off  \n",
       "77    427.630751  \n",
       "179  1005.740248  \n",
       "84   1272.177712  \n",
       "191  2120.795356  \n",
       "101   330.561414  "
      ]
     },
     "execution_count": 86,
     "metadata": {},
     "output_type": "execute_result"
    }
   ],
   "source": [
    "df_audio_quality_norm.nsmallest(5, columns=['rms_value'])"
   ]
  },
  {
   "cell_type": "markdown",
   "id": "898638d77da31db7",
   "metadata": {},
   "source": [
    "### 3.3 Spectral flatness\n",
    "Если значения близки к 0, то сигнал чистый, если > 0.6, то довольно шумный. "
   ]
  },
  {
   "cell_type": "code",
   "execution_count": 87,
   "id": "f26dec76f6201f32",
   "metadata": {
    "ExecuteTime": {
     "end_time": "2025-02-01T16:13:53.898308Z",
     "start_time": "2025-02-01T16:13:53.794488Z"
    }
   },
   "outputs": [
    {
     "data": {
      "image/png": "[encoded data removed]",
      "text/plain": [
       "<Figure size 1000x700 with 1 Axes>"
      ]
     },
     "metadata": {},
     "output_type": "display_data"
    }
   ],
   "source": [
    "plt.figure(figsize=(10, 7))\n",
    "plt.hist(df_audio_quality_aphasia[\"spectral_flatness\"].to_list(), bins=20, color=\"blue\", label=\"Aphasia spectral flatness\", edgecolor='black')\n",
    "plt.hist(df_audio_quality_norm[\"spectral_flatness\"].to_list(), bins=20, color=\"red\", label=\"Norm spectral flatness\", edgecolor='black')\n",
    "plt.xlabel(\"Spectral flatness\")\n",
    "plt.ylabel(\"Count\")\n",
    "plt.legend();"
   ]
  },
  {
   "cell_type": "code",
   "execution_count": 88,
   "id": "70b90d2c2cf1616d",
   "metadata": {
    "ExecuteTime": {
     "end_time": "2025-02-01T16:13:53.909007Z",
     "start_time": "2025-02-01T16:13:53.901697Z"
    }
   },
   "outputs": [
    {
     "data": {
      "text/html": [
       "<div>\n",
       "<style scoped>\n",
       "    .dataframe tbody tr th:only-of-type {\n",
       "        vertical-align: middle;\n",
       "    }\n",
       "\n",
       "    .dataframe tbody tr th {\n",
       "        vertical-align: top;\n",
       "    }\n",
       "\n",
       "    .dataframe thead th {\n",
       "        text-align: right;\n",
       "    }\n",
       "</style>\n",
       "<table border=\"1\" class=\"dataframe\">\n",
       "  <thead>\n",
       "    <tr style=\"text-align: right;\">\n",
       "      <th></th>\n",
       "      <th>file_name</th>\n",
       "      <th>duration</th>\n",
       "      <th>rms_value</th>\n",
       "      <th>spectral_flatness</th>\n",
       "      <th>roll_off</th>\n",
       "    </tr>\n",
       "  </thead>\n",
       "  <tbody>\n",
       "    <tr>\n",
       "      <th>327</th>\n",
       "      <td>A-928-RAT-1-robb.wav</td>\n",
       "      <td>25.56</td>\n",
       "      <td>0.000033</td>\n",
       "      <td>0.688038</td>\n",
       "      <td>2020.849609</td>\n",
       "    </tr>\n",
       "    <tr>\n",
       "      <th>175</th>\n",
       "      <td>A-120-RAT-1-robb.wav</td>\n",
       "      <td>204.94</td>\n",
       "      <td>0.012462</td>\n",
       "      <td>0.212196</td>\n",
       "      <td>2852.696691</td>\n",
       "    </tr>\n",
       "    <tr>\n",
       "      <th>340</th>\n",
       "      <td>A-233-RAT-1-bike.wav</td>\n",
       "      <td>97.80</td>\n",
       "      <td>0.009695</td>\n",
       "      <td>0.170631</td>\n",
       "      <td>2642.423561</td>\n",
       "    </tr>\n",
       "    <tr>\n",
       "      <th>29</th>\n",
       "      <td>A-120-RAT-2-bike.wav</td>\n",
       "      <td>237.46</td>\n",
       "      <td>0.021707</td>\n",
       "      <td>0.168104</td>\n",
       "      <td>2848.472026</td>\n",
       "    </tr>\n",
       "    <tr>\n",
       "      <th>589</th>\n",
       "      <td>A-196-RAT-1-robb.wav</td>\n",
       "      <td>84.42</td>\n",
       "      <td>0.025061</td>\n",
       "      <td>0.167879</td>\n",
       "      <td>2854.456676</td>\n",
       "    </tr>\n",
       "  </tbody>\n",
       "</table>\n",
       "</div>"
      ],
      "text/plain": [
       "                file_name  duration  rms_value  spectral_flatness     roll_off\n",
       "327  A-928-RAT-1-robb.wav     25.56   0.000033           0.688038  2020.849609\n",
       "175  A-120-RAT-1-robb.wav    204.94   0.012462           0.212196  2852.696691\n",
       "340  A-233-RAT-1-bike.wav     97.80   0.009695           0.170631  2642.423561\n",
       "29   A-120-RAT-2-bike.wav    237.46   0.021707           0.168104  2848.472026\n",
       "589  A-196-RAT-1-robb.wav     84.42   0.025061           0.167879  2854.456676"
      ]
     },
     "execution_count": 88,
     "metadata": {},
     "output_type": "execute_result"
    }
   ],
   "source": [
    "df_audio_quality_aphasia.nlargest(5, columns=['spectral_flatness'])"
   ]
  },
  {
   "cell_type": "code",
   "execution_count": 89,
   "id": "317a58a4244c11c6",
   "metadata": {
    "ExecuteTime": {
     "end_time": "2025-02-01T16:13:53.918670Z",
     "start_time": "2025-02-01T16:13:53.909742Z"
    }
   },
   "outputs": [
    {
     "data": {
      "text/html": [
       "<div>\n",
       "<style scoped>\n",
       "    .dataframe tbody tr th:only-of-type {\n",
       "        vertical-align: middle;\n",
       "    }\n",
       "\n",
       "    .dataframe tbody tr th {\n",
       "        vertical-align: top;\n",
       "    }\n",
       "\n",
       "    .dataframe thead th {\n",
       "        text-align: right;\n",
       "    }\n",
       "</style>\n",
       "<table border=\"1\" class=\"dataframe\">\n",
       "  <thead>\n",
       "    <tr style=\"text-align: right;\">\n",
       "      <th></th>\n",
       "      <th>file_name</th>\n",
       "      <th>duration</th>\n",
       "      <th>rms_value</th>\n",
       "      <th>spectral_flatness</th>\n",
       "      <th>roll_off</th>\n",
       "    </tr>\n",
       "  </thead>\n",
       "  <tbody>\n",
       "    <tr>\n",
       "      <th>11</th>\n",
       "      <td>A-1309-RAT-1-bike.wav</td>\n",
       "      <td>222.958005</td>\n",
       "      <td>0.036142</td>\n",
       "      <td>0.002353</td>\n",
       "      <td>3143.265738</td>\n",
       "    </tr>\n",
       "    <tr>\n",
       "      <th>560</th>\n",
       "      <td>A-480-RAT-1-robb.wav</td>\n",
       "      <td>209.840000</td>\n",
       "      <td>0.011517</td>\n",
       "      <td>0.003391</td>\n",
       "      <td>633.968054</td>\n",
       "    </tr>\n",
       "    <tr>\n",
       "      <th>167</th>\n",
       "      <td>A-1352-RAT-1-bike.wav</td>\n",
       "      <td>117.028571</td>\n",
       "      <td>0.076647</td>\n",
       "      <td>0.003657</td>\n",
       "      <td>4580.407716</td>\n",
       "    </tr>\n",
       "    <tr>\n",
       "      <th>202</th>\n",
       "      <td>A-1360-RAT-1-bike.wav</td>\n",
       "      <td>112.802540</td>\n",
       "      <td>0.080100</td>\n",
       "      <td>0.004187</td>\n",
       "      <td>4096.609347</td>\n",
       "    </tr>\n",
       "    <tr>\n",
       "      <th>79</th>\n",
       "      <td>A-1354-RAT-1-bike.wav</td>\n",
       "      <td>92.670839</td>\n",
       "      <td>0.049441</td>\n",
       "      <td>0.004532</td>\n",
       "      <td>4445.507262</td>\n",
       "    </tr>\n",
       "  </tbody>\n",
       "</table>\n",
       "</div>"
      ],
      "text/plain": [
       "                 file_name    duration  rms_value  spectral_flatness  \\\n",
       "11   A-1309-RAT-1-bike.wav  222.958005   0.036142           0.002353   \n",
       "560   A-480-RAT-1-robb.wav  209.840000   0.011517           0.003391   \n",
       "167  A-1352-RAT-1-bike.wav  117.028571   0.076647           0.003657   \n",
       "202  A-1360-RAT-1-bike.wav  112.802540   0.080100           0.004187   \n",
       "79   A-1354-RAT-1-bike.wav   92.670839   0.049441           0.004532   \n",
       "\n",
       "        roll_off  \n",
       "11   3143.265738  \n",
       "560   633.968054  \n",
       "167  4580.407716  \n",
       "202  4096.609347  \n",
       "79   4445.507262  "
      ]
     },
     "execution_count": 89,
     "metadata": {},
     "output_type": "execute_result"
    }
   ],
   "source": [
    "df_audio_quality_aphasia.nsmallest(5, columns=['spectral_flatness'])"
   ]
  },
  {
   "cell_type": "code",
   "execution_count": 90,
   "id": "cd2ac61cd5ff72c7",
   "metadata": {
    "ExecuteTime": {
     "end_time": "2025-02-01T16:13:53.932129Z",
     "start_time": "2025-02-01T16:13:53.919164Z"
    }
   },
   "outputs": [
    {
     "data": {
      "text/html": [
       "<div>\n",
       "<style scoped>\n",
       "    .dataframe tbody tr th:only-of-type {\n",
       "        vertical-align: middle;\n",
       "    }\n",
       "\n",
       "    .dataframe tbody tr th {\n",
       "        vertical-align: top;\n",
       "    }\n",
       "\n",
       "    .dataframe thead th {\n",
       "        text-align: right;\n",
       "    }\n",
       "</style>\n",
       "<table border=\"1\" class=\"dataframe\">\n",
       "  <thead>\n",
       "    <tr style=\"text-align: right;\">\n",
       "      <th></th>\n",
       "      <th>file_name</th>\n",
       "      <th>duration</th>\n",
       "      <th>rms_value</th>\n",
       "      <th>spectral_flatness</th>\n",
       "      <th>roll_off</th>\n",
       "    </tr>\n",
       "  </thead>\n",
       "  <tbody>\n",
       "    <tr>\n",
       "      <th>194</th>\n",
       "      <td>N-0992-RAT-1-bike.wav</td>\n",
       "      <td>35.40</td>\n",
       "      <td>0.065966</td>\n",
       "      <td>0.155080</td>\n",
       "      <td>2519.051782</td>\n",
       "    </tr>\n",
       "    <tr>\n",
       "      <th>49</th>\n",
       "      <td>N-0928-RAT-1-robb.wav</td>\n",
       "      <td>33.16</td>\n",
       "      <td>0.068879</td>\n",
       "      <td>0.152084</td>\n",
       "      <td>1660.020773</td>\n",
       "    </tr>\n",
       "    <tr>\n",
       "      <th>70</th>\n",
       "      <td>N-0992-RAT-1-robb.wav</td>\n",
       "      <td>49.52</td>\n",
       "      <td>0.066779</td>\n",
       "      <td>0.150519</td>\n",
       "      <td>2548.414285</td>\n",
       "    </tr>\n",
       "    <tr>\n",
       "      <th>171</th>\n",
       "      <td>N-0924-RAT-1-robb.wav</td>\n",
       "      <td>42.04</td>\n",
       "      <td>0.020028</td>\n",
       "      <td>0.149088</td>\n",
       "      <td>2103.578054</td>\n",
       "    </tr>\n",
       "    <tr>\n",
       "      <th>31</th>\n",
       "      <td>N-0998-RAT-1-bike.wav</td>\n",
       "      <td>47.88</td>\n",
       "      <td>0.036517</td>\n",
       "      <td>0.145665</td>\n",
       "      <td>2522.910756</td>\n",
       "    </tr>\n",
       "  </tbody>\n",
       "</table>\n",
       "</div>"
      ],
      "text/plain": [
       "                 file_name  duration  rms_value  spectral_flatness  \\\n",
       "194  N-0992-RAT-1-bike.wav     35.40   0.065966           0.155080   \n",
       "49   N-0928-RAT-1-robb.wav     33.16   0.068879           0.152084   \n",
       "70   N-0992-RAT-1-robb.wav     49.52   0.066779           0.150519   \n",
       "171  N-0924-RAT-1-robb.wav     42.04   0.020028           0.149088   \n",
       "31   N-0998-RAT-1-bike.wav     47.88   0.036517           0.145665   \n",
       "\n",
       "        roll_off  \n",
       "194  2519.051782  \n",
       "49   1660.020773  \n",
       "70   2548.414285  \n",
       "171  2103.578054  \n",
       "31   2522.910756  "
      ]
     },
     "execution_count": 90,
     "metadata": {},
     "output_type": "execute_result"
    }
   ],
   "source": [
    "df_audio_quality_norm.nlargest(5, columns=['spectral_flatness'])"
   ]
  },
  {
   "cell_type": "code",
   "execution_count": 91,
   "id": "d2e70a13f8ea72ef",
   "metadata": {
    "ExecuteTime": {
     "end_time": "2025-02-01T16:13:53.946287Z",
     "start_time": "2025-02-01T16:13:53.932788Z"
    }
   },
   "outputs": [
    {
     "data": {
      "text/html": [
       "<div>\n",
       "<style scoped>\n",
       "    .dataframe tbody tr th:only-of-type {\n",
       "        vertical-align: middle;\n",
       "    }\n",
       "\n",
       "    .dataframe tbody tr th {\n",
       "        vertical-align: top;\n",
       "    }\n",
       "\n",
       "    .dataframe thead th {\n",
       "        text-align: right;\n",
       "    }\n",
       "</style>\n",
       "<table border=\"1\" class=\"dataframe\">\n",
       "  <thead>\n",
       "    <tr style=\"text-align: right;\">\n",
       "      <th></th>\n",
       "      <th>file_name</th>\n",
       "      <th>duration</th>\n",
       "      <th>rms_value</th>\n",
       "      <th>spectral_flatness</th>\n",
       "      <th>roll_off</th>\n",
       "    </tr>\n",
       "  </thead>\n",
       "  <tbody>\n",
       "    <tr>\n",
       "      <th>77</th>\n",
       "      <td>N-0929-RAT-1-bike.wav</td>\n",
       "      <td>95.28</td>\n",
       "      <td>0.011289</td>\n",
       "      <td>0.003337</td>\n",
       "      <td>427.630751</td>\n",
       "    </tr>\n",
       "    <tr>\n",
       "      <th>27</th>\n",
       "      <td>N-0929-RAT-1-robb.wav</td>\n",
       "      <td>66.62</td>\n",
       "      <td>0.017814</td>\n",
       "      <td>0.005526</td>\n",
       "      <td>806.030860</td>\n",
       "    </tr>\n",
       "    <tr>\n",
       "      <th>101</th>\n",
       "      <td>N-0912-RAT-1-robb.wav</td>\n",
       "      <td>31.24</td>\n",
       "      <td>0.014531</td>\n",
       "      <td>0.007838</td>\n",
       "      <td>330.561414</td>\n",
       "    </tr>\n",
       "    <tr>\n",
       "      <th>26</th>\n",
       "      <td>N-0961-RAT-1-robb.wav</td>\n",
       "      <td>35.08</td>\n",
       "      <td>0.045482</td>\n",
       "      <td>0.010214</td>\n",
       "      <td>570.099044</td>\n",
       "    </tr>\n",
       "    <tr>\n",
       "      <th>140</th>\n",
       "      <td>N-0967-RAT-1-bike.wav</td>\n",
       "      <td>41.58</td>\n",
       "      <td>0.135288</td>\n",
       "      <td>0.010806</td>\n",
       "      <td>949.723558</td>\n",
       "    </tr>\n",
       "  </tbody>\n",
       "</table>\n",
       "</div>"
      ],
      "text/plain": [
       "                 file_name  duration  rms_value  spectral_flatness    roll_off\n",
       "77   N-0929-RAT-1-bike.wav     95.28   0.011289           0.003337  427.630751\n",
       "27   N-0929-RAT-1-robb.wav     66.62   0.017814           0.005526  806.030860\n",
       "101  N-0912-RAT-1-robb.wav     31.24   0.014531           0.007838  330.561414\n",
       "26   N-0961-RAT-1-robb.wav     35.08   0.045482           0.010214  570.099044\n",
       "140  N-0967-RAT-1-bike.wav     41.58   0.135288           0.010806  949.723558"
      ]
     },
     "execution_count": 91,
     "metadata": {},
     "output_type": "execute_result"
    }
   ],
   "source": [
    "df_audio_quality_norm.nsmallest(5, columns=['spectral_flatness'])"
   ]
  },
  {
   "cell_type": "markdown",
   "id": "a0f312bb9e8f8086",
   "metadata": {},
   "source": [
    "### 3.4 Spectral Roll-off\n",
    "Если значения довольно высокие (> 6 кГц), то, возможно, в записи много шумов."
   ]
  },
  {
   "cell_type": "code",
   "execution_count": 92,
   "id": "3b8c2add9b5795e2",
   "metadata": {
    "ExecuteTime": {
     "end_time": "2025-02-01T16:13:54.064140Z",
     "start_time": "2025-02-01T16:13:53.947028Z"
    }
   },
   "outputs": [
    {
     "data": {
      "image/png": "[encoded data removed]",
      "text/plain": [
       "<Figure size 1000x700 with 1 Axes>"
      ]
     },
     "metadata": {},
     "output_type": "display_data"
    }
   ],
   "source": [
    "plt.figure(figsize=(10, 7))\n",
    "plt.hist(df_audio_quality_aphasia[\"roll_off\"].to_list(), bins=20, color=\"blue\", label=\"Aphasia spectral roll-off\", edgecolor='black')\n",
    "plt.hist(df_audio_quality_norm[\"roll_off\"].to_list(), bins=20, color=\"red\", label=\"Norm spectral roll-off\", edgecolor='black')\n",
    "plt.xlabel(\"Roll-off\")\n",
    "plt.ylabel(\"Count\")\n",
    "plt.legend();"
   ]
  },
  {
   "cell_type": "code",
   "execution_count": 93,
   "id": "1fd7fbf43519bae7",
   "metadata": {
    "ExecuteTime": {
     "end_time": "2025-02-01T16:13:54.070473Z",
     "start_time": "2025-02-01T16:13:54.064771Z"
    }
   },
   "outputs": [
    {
     "data": {
      "text/html": [
       "<div>\n",
       "<style scoped>\n",
       "    .dataframe tbody tr th:only-of-type {\n",
       "        vertical-align: middle;\n",
       "    }\n",
       "\n",
       "    .dataframe tbody tr th {\n",
       "        vertical-align: top;\n",
       "    }\n",
       "\n",
       "    .dataframe thead th {\n",
       "        text-align: right;\n",
       "    }\n",
       "</style>\n",
       "<table border=\"1\" class=\"dataframe\">\n",
       "  <thead>\n",
       "    <tr style=\"text-align: right;\">\n",
       "      <th></th>\n",
       "      <th>file_name</th>\n",
       "      <th>duration</th>\n",
       "      <th>rms_value</th>\n",
       "      <th>spectral_flatness</th>\n",
       "      <th>roll_off</th>\n",
       "    </tr>\n",
       "  </thead>\n",
       "  <tbody>\n",
       "    <tr>\n",
       "      <th>329</th>\n",
       "      <td>A-1016-RAT-1-bike.wav</td>\n",
       "      <td>90.882902</td>\n",
       "      <td>0.061742</td>\n",
       "      <td>0.005860</td>\n",
       "      <td>7077.025142</td>\n",
       "    </tr>\n",
       "    <tr>\n",
       "      <th>467</th>\n",
       "      <td>A-1071-RAT-1-bike.wav</td>\n",
       "      <td>101.378322</td>\n",
       "      <td>0.035528</td>\n",
       "      <td>0.006283</td>\n",
       "      <td>6603.426859</td>\n",
       "    </tr>\n",
       "    <tr>\n",
       "      <th>496</th>\n",
       "      <td>A-1308-RAT-1-bike.wav</td>\n",
       "      <td>40.681361</td>\n",
       "      <td>0.019456</td>\n",
       "      <td>0.010234</td>\n",
       "      <td>6338.840510</td>\n",
       "    </tr>\n",
       "    <tr>\n",
       "      <th>245</th>\n",
       "      <td>A-103-RAT-1-bike.wav</td>\n",
       "      <td>102.353560</td>\n",
       "      <td>0.097427</td>\n",
       "      <td>0.005486</td>\n",
       "      <td>6116.220972</td>\n",
       "    </tr>\n",
       "    <tr>\n",
       "      <th>491</th>\n",
       "      <td>A-1329-RAT-1-bike.wav</td>\n",
       "      <td>107.624490</td>\n",
       "      <td>0.047770</td>\n",
       "      <td>0.004581</td>\n",
       "      <td>5864.296471</td>\n",
       "    </tr>\n",
       "  </tbody>\n",
       "</table>\n",
       "</div>"
      ],
      "text/plain": [
       "                 file_name    duration  rms_value  spectral_flatness  \\\n",
       "329  A-1016-RAT-1-bike.wav   90.882902   0.061742           0.005860   \n",
       "467  A-1071-RAT-1-bike.wav  101.378322   0.035528           0.006283   \n",
       "496  A-1308-RAT-1-bike.wav   40.681361   0.019456           0.010234   \n",
       "245   A-103-RAT-1-bike.wav  102.353560   0.097427           0.005486   \n",
       "491  A-1329-RAT-1-bike.wav  107.624490   0.047770           0.004581   \n",
       "\n",
       "        roll_off  \n",
       "329  7077.025142  \n",
       "467  6603.426859  \n",
       "496  6338.840510  \n",
       "245  6116.220972  \n",
       "491  5864.296471  "
      ]
     },
     "execution_count": 93,
     "metadata": {},
     "output_type": "execute_result"
    }
   ],
   "source": [
    "df_audio_quality_aphasia.nlargest(5, columns=['roll_off'])"
   ]
  },
  {
   "cell_type": "code",
   "execution_count": 94,
   "id": "2e783d59654d5e31",
   "metadata": {
    "ExecuteTime": {
     "end_time": "2025-02-01T16:13:54.085048Z",
     "start_time": "2025-02-01T16:13:54.071135Z"
    }
   },
   "outputs": [
    {
     "data": {
      "text/html": [
       "<div>\n",
       "<style scoped>\n",
       "    .dataframe tbody tr th:only-of-type {\n",
       "        vertical-align: middle;\n",
       "    }\n",
       "\n",
       "    .dataframe tbody tr th {\n",
       "        vertical-align: top;\n",
       "    }\n",
       "\n",
       "    .dataframe thead th {\n",
       "        text-align: right;\n",
       "    }\n",
       "</style>\n",
       "<table border=\"1\" class=\"dataframe\">\n",
       "  <thead>\n",
       "    <tr style=\"text-align: right;\">\n",
       "      <th></th>\n",
       "      <th>file_name</th>\n",
       "      <th>duration</th>\n",
       "      <th>rms_value</th>\n",
       "      <th>spectral_flatness</th>\n",
       "      <th>roll_off</th>\n",
       "    </tr>\n",
       "  </thead>\n",
       "  <tbody>\n",
       "    <tr>\n",
       "      <th>560</th>\n",
       "      <td>A-480-RAT-1-robb.wav</td>\n",
       "      <td>209.84</td>\n",
       "      <td>0.011517</td>\n",
       "      <td>0.003391</td>\n",
       "      <td>633.968054</td>\n",
       "    </tr>\n",
       "    <tr>\n",
       "      <th>308</th>\n",
       "      <td>A-13-RAT-2-robb.wav</td>\n",
       "      <td>70.70</td>\n",
       "      <td>0.048918</td>\n",
       "      <td>0.005990</td>\n",
       "      <td>715.342195</td>\n",
       "    </tr>\n",
       "    <tr>\n",
       "      <th>592</th>\n",
       "      <td>A-732-RAT-1-robb.wav</td>\n",
       "      <td>75.10</td>\n",
       "      <td>0.025182</td>\n",
       "      <td>0.005891</td>\n",
       "      <td>716.880057</td>\n",
       "    </tr>\n",
       "    <tr>\n",
       "      <th>168</th>\n",
       "      <td>A-257-RAT-3-bike.wav</td>\n",
       "      <td>75.18</td>\n",
       "      <td>0.023437</td>\n",
       "      <td>0.006383</td>\n",
       "      <td>735.837766</td>\n",
       "    </tr>\n",
       "    <tr>\n",
       "      <th>486</th>\n",
       "      <td>A-257-RAT-1-bike.wav</td>\n",
       "      <td>75.18</td>\n",
       "      <td>0.023437</td>\n",
       "      <td>0.006383</td>\n",
       "      <td>735.837766</td>\n",
       "    </tr>\n",
       "  </tbody>\n",
       "</table>\n",
       "</div>"
      ],
      "text/plain": [
       "                file_name  duration  rms_value  spectral_flatness    roll_off\n",
       "560  A-480-RAT-1-robb.wav    209.84   0.011517           0.003391  633.968054\n",
       "308   A-13-RAT-2-robb.wav     70.70   0.048918           0.005990  715.342195\n",
       "592  A-732-RAT-1-robb.wav     75.10   0.025182           0.005891  716.880057\n",
       "168  A-257-RAT-3-bike.wav     75.18   0.023437           0.006383  735.837766\n",
       "486  A-257-RAT-1-bike.wav     75.18   0.023437           0.006383  735.837766"
      ]
     },
     "execution_count": 94,
     "metadata": {},
     "output_type": "execute_result"
    }
   ],
   "source": [
    "df_audio_quality_aphasia.nsmallest(5, columns=['roll_off'])"
   ]
  },
  {
   "cell_type": "code",
   "execution_count": 95,
   "id": "199736f52cfd1652",
   "metadata": {
    "ExecuteTime": {
     "end_time": "2025-02-01T16:13:54.099278Z",
     "start_time": "2025-02-01T16:13:54.085761Z"
    }
   },
   "outputs": [
    {
     "data": {
      "text/html": [
       "<div>\n",
       "<style scoped>\n",
       "    .dataframe tbody tr th:only-of-type {\n",
       "        vertical-align: middle;\n",
       "    }\n",
       "\n",
       "    .dataframe tbody tr th {\n",
       "        vertical-align: top;\n",
       "    }\n",
       "\n",
       "    .dataframe thead th {\n",
       "        text-align: right;\n",
       "    }\n",
       "</style>\n",
       "<table border=\"1\" class=\"dataframe\">\n",
       "  <thead>\n",
       "    <tr style=\"text-align: right;\">\n",
       "      <th></th>\n",
       "      <th>file_name</th>\n",
       "      <th>duration</th>\n",
       "      <th>rms_value</th>\n",
       "      <th>spectral_flatness</th>\n",
       "      <th>roll_off</th>\n",
       "    </tr>\n",
       "  </thead>\n",
       "  <tbody>\n",
       "    <tr>\n",
       "      <th>133</th>\n",
       "      <td>N-1016-RAT-1-bike.wav</td>\n",
       "      <td>22.04</td>\n",
       "      <td>0.106128</td>\n",
       "      <td>0.071664</td>\n",
       "      <td>2845.199275</td>\n",
       "    </tr>\n",
       "    <tr>\n",
       "      <th>83</th>\n",
       "      <td>N-1016-RAT-1-robb.wav</td>\n",
       "      <td>15.28</td>\n",
       "      <td>0.100793</td>\n",
       "      <td>0.064883</td>\n",
       "      <td>2644.089958</td>\n",
       "    </tr>\n",
       "    <tr>\n",
       "      <th>109</th>\n",
       "      <td>N-0996-RAT-1-bike.wav</td>\n",
       "      <td>100.66</td>\n",
       "      <td>0.055221</td>\n",
       "      <td>0.108750</td>\n",
       "      <td>2576.975226</td>\n",
       "    </tr>\n",
       "    <tr>\n",
       "      <th>116</th>\n",
       "      <td>N-0996-RAT-1-robb.wav</td>\n",
       "      <td>88.34</td>\n",
       "      <td>0.061934</td>\n",
       "      <td>0.087411</td>\n",
       "      <td>2572.592324</td>\n",
       "    </tr>\n",
       "    <tr>\n",
       "      <th>70</th>\n",
       "      <td>N-0992-RAT-1-robb.wav</td>\n",
       "      <td>49.52</td>\n",
       "      <td>0.066779</td>\n",
       "      <td>0.150519</td>\n",
       "      <td>2548.414285</td>\n",
       "    </tr>\n",
       "  </tbody>\n",
       "</table>\n",
       "</div>"
      ],
      "text/plain": [
       "                 file_name  duration  rms_value  spectral_flatness  \\\n",
       "133  N-1016-RAT-1-bike.wav     22.04   0.106128           0.071664   \n",
       "83   N-1016-RAT-1-robb.wav     15.28   0.100793           0.064883   \n",
       "109  N-0996-RAT-1-bike.wav    100.66   0.055221           0.108750   \n",
       "116  N-0996-RAT-1-robb.wav     88.34   0.061934           0.087411   \n",
       "70   N-0992-RAT-1-robb.wav     49.52   0.066779           0.150519   \n",
       "\n",
       "        roll_off  \n",
       "133  2845.199275  \n",
       "83   2644.089958  \n",
       "109  2576.975226  \n",
       "116  2572.592324  \n",
       "70   2548.414285  "
      ]
     },
     "execution_count": 95,
     "metadata": {},
     "output_type": "execute_result"
    }
   ],
   "source": [
    "df_audio_quality_norm.nlargest(5, columns=['roll_off'])"
   ]
  },
  {
   "cell_type": "code",
   "execution_count": 96,
   "id": "a152cfbb1133bd30",
   "metadata": {
    "ExecuteTime": {
     "end_time": "2025-02-01T16:13:54.112600Z",
     "start_time": "2025-02-01T16:13:54.100283Z"
    }
   },
   "outputs": [
    {
     "data": {
      "text/html": [
       "<div>\n",
       "<style scoped>\n",
       "    .dataframe tbody tr th:only-of-type {\n",
       "        vertical-align: middle;\n",
       "    }\n",
       "\n",
       "    .dataframe tbody tr th {\n",
       "        vertical-align: top;\n",
       "    }\n",
       "\n",
       "    .dataframe thead th {\n",
       "        text-align: right;\n",
       "    }\n",
       "</style>\n",
       "<table border=\"1\" class=\"dataframe\">\n",
       "  <thead>\n",
       "    <tr style=\"text-align: right;\">\n",
       "      <th></th>\n",
       "      <th>file_name</th>\n",
       "      <th>duration</th>\n",
       "      <th>rms_value</th>\n",
       "      <th>spectral_flatness</th>\n",
       "      <th>roll_off</th>\n",
       "    </tr>\n",
       "  </thead>\n",
       "  <tbody>\n",
       "    <tr>\n",
       "      <th>101</th>\n",
       "      <td>N-0912-RAT-1-robb.wav</td>\n",
       "      <td>31.24</td>\n",
       "      <td>0.014531</td>\n",
       "      <td>0.007838</td>\n",
       "      <td>330.561414</td>\n",
       "    </tr>\n",
       "    <tr>\n",
       "      <th>77</th>\n",
       "      <td>N-0929-RAT-1-bike.wav</td>\n",
       "      <td>95.28</td>\n",
       "      <td>0.011289</td>\n",
       "      <td>0.003337</td>\n",
       "      <td>427.630751</td>\n",
       "    </tr>\n",
       "    <tr>\n",
       "      <th>26</th>\n",
       "      <td>N-0961-RAT-1-robb.wav</td>\n",
       "      <td>35.08</td>\n",
       "      <td>0.045482</td>\n",
       "      <td>0.010214</td>\n",
       "      <td>570.099044</td>\n",
       "    </tr>\n",
       "    <tr>\n",
       "      <th>27</th>\n",
       "      <td>N-0929-RAT-1-robb.wav</td>\n",
       "      <td>66.62</td>\n",
       "      <td>0.017814</td>\n",
       "      <td>0.005526</td>\n",
       "      <td>806.030860</td>\n",
       "    </tr>\n",
       "    <tr>\n",
       "      <th>140</th>\n",
       "      <td>N-0967-RAT-1-bike.wav</td>\n",
       "      <td>41.58</td>\n",
       "      <td>0.135288</td>\n",
       "      <td>0.010806</td>\n",
       "      <td>949.723558</td>\n",
       "    </tr>\n",
       "  </tbody>\n",
       "</table>\n",
       "</div>"
      ],
      "text/plain": [
       "                 file_name  duration  rms_value  spectral_flatness    roll_off\n",
       "101  N-0912-RAT-1-robb.wav     31.24   0.014531           0.007838  330.561414\n",
       "77   N-0929-RAT-1-bike.wav     95.28   0.011289           0.003337  427.630751\n",
       "26   N-0961-RAT-1-robb.wav     35.08   0.045482           0.010214  570.099044\n",
       "27   N-0929-RAT-1-robb.wav     66.62   0.017814           0.005526  806.030860\n",
       "140  N-0967-RAT-1-bike.wav     41.58   0.135288           0.010806  949.723558"
      ]
     },
     "execution_count": 96,
     "metadata": {},
     "output_type": "execute_result"
    }
   ],
   "source": [
    "df_audio_quality_norm.nsmallest(5, columns=['roll_off'])"
   ]
  },
  {
   "cell_type": "markdown",
   "id": "5a9c9459",
   "metadata": {},
   "source": [
    "Статистики для spectral roll-off"
   ]
  },
  {
   "cell_type": "code",
   "execution_count": 97,
   "id": "fe4df4cc",
   "metadata": {},
   "outputs": [
    {
     "data": {
      "text/plain": [
       "count     202.000000\n",
       "mean     1784.645118\n",
       "std       448.137677\n",
       "min       330.561414\n",
       "25%      1476.141538\n",
       "50%      1800.036458\n",
       "75%      2102.470314\n",
       "max      2845.199275\n",
       "Name: roll_off, dtype: float64"
      ]
     },
     "execution_count": 97,
     "metadata": {},
     "output_type": "execute_result"
    }
   ],
   "source": [
    "df_audio_quality_norm[\"roll_off\"].describe()"
   ]
  },
  {
   "cell_type": "markdown",
   "id": "d53216b50bbdc490",
   "metadata": {},
   "source": [
    "## 4. Анализ промежутков тишины и речи"
   ]
  },
  {
   "cell_type": "code",
   "execution_count": 98,
   "id": "d0df688e4ce644ee",
   "metadata": {
    "ExecuteTime": {
     "end_time": "2025-02-01T16:13:54.857322Z",
     "start_time": "2025-02-01T16:13:54.113276Z"
    }
   },
   "outputs": [
    {
     "name": "stderr",
     "output_type": "stream",
     "text": [
      "Using cache found in /home/zakhar/.cache/torch/hub/snakers4_silero-vad_master\n"
     ]
    }
   ],
   "source": [
    "speech_model, utils = torch.hub.load(repo_or_dir='snakers4/silero-vad', model='silero_vad')"
   ]
  },
  {
   "cell_type": "code",
   "execution_count": 99,
   "id": "f458300b02628d46",
   "metadata": {
    "ExecuteTime": {
     "end_time": "2025-02-01T16:13:54.859850Z",
     "start_time": "2025-02-01T16:13:54.858034Z"
    }
   },
   "outputs": [],
   "source": [
    "(get_speech_timestamps, _, read_audio, _, _) = utils"
   ]
  },
  {
   "cell_type": "code",
   "execution_count": 100,
   "id": "2f135745d8df0f61",
   "metadata": {
    "ExecuteTime": {
     "end_time": "2025-02-01T16:13:54.871103Z",
     "start_time": "2025-02-01T16:13:54.860354Z"
    }
   },
   "outputs": [],
   "source": [
    "def get_speech_and_silence_timestamps(dir_name: str):\n",
    "    output = []\n",
    "    for audio_file in tqdm(os.listdir(dir_name)):\n",
    "        y, sr = librosa.load(os.path.join(dir_name, audio_file), sr=8000)\n",
    "        duration = librosa.get_duration(y=y, sr=sr)\n",
    "        \n",
    "        speech_timestamps = get_speech_timestamps(y, speech_model, threshold=0.75, min_speech_duration_ms=500, min_silence_duration_ms=1000, sampling_rate=sr, return_seconds=True)\n",
    "        \n",
    "        silence_timestamps = []\n",
    "        speech_duration = 0\n",
    "        speech_end = 0\n",
    "        \n",
    "        for x in speech_timestamps:\n",
    "            silence_timestamps.append({'start': speech_end, 'end': x['start'] - speech_end})\n",
    "            speech_duration += x['end'] - x['start']\n",
    "            \n",
    "            speech_end = x['end']\n",
    "        silence_timestamps.append({'start': speech_end, 'end': duration - speech_end})\n",
    "        \n",
    "        mean_speach_duration = 0\n",
    "        if len(speech_timestamps) > 0:\n",
    "            mean_speach_duration = speech_duration / len(speech_timestamps)\n",
    "        mean_silence_duration = 0\n",
    "        if len(silence_timestamps) > 0:\n",
    "            mean_silence_duration = (duration - speech_duration) / len(silence_timestamps) \n",
    "        \n",
    "        output.append([audio_file, speech_duration, len(speech_timestamps), speech_timestamps, mean_speach_duration, duration - speech_duration, len(silence_timestamps), silence_timestamps, mean_silence_duration])\n",
    "    return output"
   ]
  },
  {
   "cell_type": "code",
   "execution_count": 101,
   "id": "7533f437fc8608e2",
   "metadata": {
    "ExecuteTime": {
     "end_time": "2025-02-01T16:16:47.884262Z",
     "start_time": "2025-02-01T16:13:54.871576Z"
    }
   },
   "outputs": [
    {
     "name": "stderr",
     "output_type": "stream",
     "text": [
      "100%|██████████| 608/608 [03:18<00:00,  3.07it/s]\n"
     ]
    }
   ],
   "source": [
    "aphasia_timestamps = get_speech_and_silence_timestamps(NEW_APHASIA)"
   ]
  },
  {
   "cell_type": "code",
   "execution_count": 102,
   "id": "ae493b9e8efa5e9d",
   "metadata": {
    "ExecuteTime": {
     "end_time": "2025-02-01T16:17:16.673295Z",
     "start_time": "2025-02-01T16:16:47.884837Z"
    }
   },
   "outputs": [
    {
     "name": "stderr",
     "output_type": "stream",
     "text": [
      "100%|██████████| 202/202 [00:33<00:00,  5.99it/s]\n"
     ]
    }
   ],
   "source": [
    "norm_timestamps = get_speech_and_silence_timestamps(NEW_NORM)"
   ]
  },
  {
   "cell_type": "code",
   "execution_count": 103,
   "id": "55faf749f325ffcb",
   "metadata": {
    "ExecuteTime": {
     "end_time": "2025-02-01T16:17:16.677954Z",
     "start_time": "2025-02-01T16:17:16.674244Z"
    }
   },
   "outputs": [],
   "source": [
    "df_aphasia_timestamps = pd.DataFrame(aphasia_timestamps, columns=[\"file_name\", \"duration_of_speech\", \"count_of_speech\", \"speech_timestamps\", \"mean_speach_duration\", \"duration_of_silence\", \"count_of_silence\", \"silence_timestamps\", \"mean_silence_duration\"])\n",
    "df_norm_timestamps = pd.DataFrame(norm_timestamps, columns=[\"file_name\", \"duration_of_speech\", \"count_of_speech\", \"speech_timestamps\", \"mean_speach_duration\", \"duration_of_silence\", \"count_of_silence\", \"silence_timestamps\", \"mean_silence_duration\"])"
   ]
  },
  {
   "cell_type": "code",
   "execution_count": 104,
   "id": "80dc23854dc8014c",
   "metadata": {
    "ExecuteTime": {
     "end_time": "2025-02-01T16:17:16.717248Z",
     "start_time": "2025-02-01T16:17:16.678591Z"
    }
   },
   "outputs": [
    {
     "data": {
      "text/html": [
       "<div>\n",
       "<style scoped>\n",
       "    .dataframe tbody tr th:only-of-type {\n",
       "        vertical-align: middle;\n",
       "    }\n",
       "\n",
       "    .dataframe tbody tr th {\n",
       "        vertical-align: top;\n",
       "    }\n",
       "\n",
       "    .dataframe thead th {\n",
       "        text-align: right;\n",
       "    }\n",
       "</style>\n",
       "<table border=\"1\" class=\"dataframe\">\n",
       "  <thead>\n",
       "    <tr style=\"text-align: right;\">\n",
       "      <th></th>\n",
       "      <th>file_name</th>\n",
       "      <th>duration_of_speech</th>\n",
       "      <th>count_of_speech</th>\n",
       "      <th>speech_timestamps</th>\n",
       "      <th>mean_speach_duration</th>\n",
       "      <th>duration_of_silence</th>\n",
       "      <th>count_of_silence</th>\n",
       "      <th>silence_timestamps</th>\n",
       "      <th>mean_silence_duration</th>\n",
       "    </tr>\n",
       "  </thead>\n",
       "  <tbody>\n",
       "    <tr>\n",
       "      <th>0</th>\n",
       "      <td>A-409-RAT-2-robb.wav</td>\n",
       "      <td>20.400000</td>\n",
       "      <td>11</td>\n",
       "      <td>[{'start': 5.7, 'end': 9.2}, {'start': 10.2, '...</td>\n",
       "      <td>1.854545</td>\n",
       "      <td>24.62</td>\n",
       "      <td>12</td>\n",
       "      <td>[{'start': 0, 'end': 5.7}, {'start': 9.2, 'end...</td>\n",
       "      <td>2.051667</td>\n",
       "    </tr>\n",
       "    <tr>\n",
       "      <th>1</th>\n",
       "      <td>A-681-RAT-3-robb.wav</td>\n",
       "      <td>31.400000</td>\n",
       "      <td>12</td>\n",
       "      <td>[{'start': 8.0, 'end': 8.9}, {'start': 11.6, '...</td>\n",
       "      <td>2.616667</td>\n",
       "      <td>61.30</td>\n",
       "      <td>13</td>\n",
       "      <td>[{'start': 0, 'end': 8.0}, {'start': 8.9, 'end...</td>\n",
       "      <td>4.715385</td>\n",
       "    </tr>\n",
       "    <tr>\n",
       "      <th>2</th>\n",
       "      <td>A-1052-RAT-1-bike.wav</td>\n",
       "      <td>36.254625</td>\n",
       "      <td>4</td>\n",
       "      <td>[{'start': 10.6, 'end': 36.4}, {'start': 38.9,...</td>\n",
       "      <td>9.063656</td>\n",
       "      <td>18.80</td>\n",
       "      <td>5</td>\n",
       "      <td>[{'start': 0, 'end': 10.6}, {'start': 36.4, 'e...</td>\n",
       "      <td>3.760000</td>\n",
       "    </tr>\n",
       "    <tr>\n",
       "      <th>3</th>\n",
       "      <td>A-120-RAT-2-robb.wav</td>\n",
       "      <td>36.660000</td>\n",
       "      <td>20</td>\n",
       "      <td>[{'start': 31.3, 'end': 32.1}, {'start': 42.4,...</td>\n",
       "      <td>1.833000</td>\n",
       "      <td>168.40</td>\n",
       "      <td>21</td>\n",
       "      <td>[{'start': 0, 'end': 31.3}, {'start': 32.1, 'e...</td>\n",
       "      <td>8.019048</td>\n",
       "    </tr>\n",
       "    <tr>\n",
       "      <th>4</th>\n",
       "      <td>A-145-RAT-1-bike.wav</td>\n",
       "      <td>62.100000</td>\n",
       "      <td>13</td>\n",
       "      <td>[{'start': 4.2, 'end': 6.4}, {'start': 7.8, 'e...</td>\n",
       "      <td>4.776923</td>\n",
       "      <td>29.34</td>\n",
       "      <td>14</td>\n",
       "      <td>[{'start': 0, 'end': 4.2}, {'start': 6.4, 'end...</td>\n",
       "      <td>2.095714</td>\n",
       "    </tr>\n",
       "  </tbody>\n",
       "</table>\n",
       "</div>"
      ],
      "text/plain": [
       "               file_name  duration_of_speech  count_of_speech  \\\n",
       "0   A-409-RAT-2-robb.wav           20.400000               11   \n",
       "1   A-681-RAT-3-robb.wav           31.400000               12   \n",
       "2  A-1052-RAT-1-bike.wav           36.254625                4   \n",
       "3   A-120-RAT-2-robb.wav           36.660000               20   \n",
       "4   A-145-RAT-1-bike.wav           62.100000               13   \n",
       "\n",
       "                                   speech_timestamps  mean_speach_duration  \\\n",
       "0  [{'start': 5.7, 'end': 9.2}, {'start': 10.2, '...              1.854545   \n",
       "1  [{'start': 8.0, 'end': 8.9}, {'start': 11.6, '...              2.616667   \n",
       "2  [{'start': 10.6, 'end': 36.4}, {'start': 38.9,...              9.063656   \n",
       "3  [{'start': 31.3, 'end': 32.1}, {'start': 42.4,...              1.833000   \n",
       "4  [{'start': 4.2, 'end': 6.4}, {'start': 7.8, 'e...              4.776923   \n",
       "\n",
       "   duration_of_silence  count_of_silence  \\\n",
       "0                24.62                12   \n",
       "1                61.30                13   \n",
       "2                18.80                 5   \n",
       "3               168.40                21   \n",
       "4                29.34                14   \n",
       "\n",
       "                                  silence_timestamps  mean_silence_duration  \n",
       "0  [{'start': 0, 'end': 5.7}, {'start': 9.2, 'end...               2.051667  \n",
       "1  [{'start': 0, 'end': 8.0}, {'start': 8.9, 'end...               4.715385  \n",
       "2  [{'start': 0, 'end': 10.6}, {'start': 36.4, 'e...               3.760000  \n",
       "3  [{'start': 0, 'end': 31.3}, {'start': 32.1, 'e...               8.019048  \n",
       "4  [{'start': 0, 'end': 4.2}, {'start': 6.4, 'end...               2.095714  "
      ]
     },
     "execution_count": 104,
     "metadata": {},
     "output_type": "execute_result"
    }
   ],
   "source": [
    "df_aphasia_timestamps.head()"
   ]
  },
  {
   "cell_type": "code",
   "execution_count": 105,
   "id": "e5c4d1d7204b13a7",
   "metadata": {
    "ExecuteTime": {
     "end_time": "2025-02-01T16:17:16.734953Z",
     "start_time": "2025-02-01T16:17:16.718134Z"
    }
   },
   "outputs": [
    {
     "data": {
      "text/html": [
       "<div>\n",
       "<style scoped>\n",
       "    .dataframe tbody tr th:only-of-type {\n",
       "        vertical-align: middle;\n",
       "    }\n",
       "\n",
       "    .dataframe tbody tr th {\n",
       "        vertical-align: top;\n",
       "    }\n",
       "\n",
       "    .dataframe thead th {\n",
       "        text-align: right;\n",
       "    }\n",
       "</style>\n",
       "<table border=\"1\" class=\"dataframe\">\n",
       "  <thead>\n",
       "    <tr style=\"text-align: right;\">\n",
       "      <th></th>\n",
       "      <th>duration_of_speech</th>\n",
       "      <th>count_of_speech</th>\n",
       "      <th>mean_speach_duration</th>\n",
       "      <th>duration_of_silence</th>\n",
       "      <th>count_of_silence</th>\n",
       "      <th>mean_silence_duration</th>\n",
       "    </tr>\n",
       "  </thead>\n",
       "  <tbody>\n",
       "    <tr>\n",
       "      <th>count</th>\n",
       "      <td>608.000000</td>\n",
       "      <td>608.000000</td>\n",
       "      <td>608.000000</td>\n",
       "      <td>608.000000</td>\n",
       "      <td>608.000000</td>\n",
       "      <td>608.000000</td>\n",
       "    </tr>\n",
       "    <tr>\n",
       "      <th>mean</th>\n",
       "      <td>40.611305</td>\n",
       "      <td>9.175987</td>\n",
       "      <td>5.998842</td>\n",
       "      <td>40.449793</td>\n",
       "      <td>10.175987</td>\n",
       "      <td>4.317013</td>\n",
       "    </tr>\n",
       "    <tr>\n",
       "      <th>std</th>\n",
       "      <td>22.872952</td>\n",
       "      <td>6.253325</td>\n",
       "      <td>5.784263</td>\n",
       "      <td>42.827363</td>\n",
       "      <td>6.253325</td>\n",
       "      <td>6.190454</td>\n",
       "    </tr>\n",
       "    <tr>\n",
       "      <th>min</th>\n",
       "      <td>0.000000</td>\n",
       "      <td>0.000000</td>\n",
       "      <td>0.000000</td>\n",
       "      <td>0.300000</td>\n",
       "      <td>1.000000</td>\n",
       "      <td>0.150000</td>\n",
       "    </tr>\n",
       "    <tr>\n",
       "      <th>25%</th>\n",
       "      <td>25.475000</td>\n",
       "      <td>5.000000</td>\n",
       "      <td>3.004500</td>\n",
       "      <td>14.375000</td>\n",
       "      <td>6.000000</td>\n",
       "      <td>2.056250</td>\n",
       "    </tr>\n",
       "    <tr>\n",
       "      <th>50%</th>\n",
       "      <td>36.660000</td>\n",
       "      <td>8.000000</td>\n",
       "      <td>4.416667</td>\n",
       "      <td>26.150000</td>\n",
       "      <td>9.000000</td>\n",
       "      <td>2.810556</td>\n",
       "    </tr>\n",
       "    <tr>\n",
       "      <th>75%</th>\n",
       "      <td>51.291000</td>\n",
       "      <td>12.000000</td>\n",
       "      <td>6.812768</td>\n",
       "      <td>51.400000</td>\n",
       "      <td>13.000000</td>\n",
       "      <td>4.163750</td>\n",
       "    </tr>\n",
       "    <tr>\n",
       "      <th>max</th>\n",
       "      <td>190.980000</td>\n",
       "      <td>41.000000</td>\n",
       "      <td>73.200000</td>\n",
       "      <td>352.000000</td>\n",
       "      <td>42.000000</td>\n",
       "      <td>57.370000</td>\n",
       "    </tr>\n",
       "  </tbody>\n",
       "</table>\n",
       "</div>"
      ],
      "text/plain": [
       "       duration_of_speech  count_of_speech  mean_speach_duration  \\\n",
       "count          608.000000       608.000000            608.000000   \n",
       "mean            40.611305         9.175987              5.998842   \n",
       "std             22.872952         6.253325              5.784263   \n",
       "min              0.000000         0.000000              0.000000   \n",
       "25%             25.475000         5.000000              3.004500   \n",
       "50%             36.660000         8.000000              4.416667   \n",
       "75%             51.291000        12.000000              6.812768   \n",
       "max            190.980000        41.000000             73.200000   \n",
       "\n",
       "       duration_of_silence  count_of_silence  mean_silence_duration  \n",
       "count           608.000000        608.000000             608.000000  \n",
       "mean             40.449793         10.175987               4.317013  \n",
       "std              42.827363          6.253325               6.190454  \n",
       "min               0.300000          1.000000               0.150000  \n",
       "25%              14.375000          6.000000               2.056250  \n",
       "50%              26.150000          9.000000               2.810556  \n",
       "75%              51.400000         13.000000               4.163750  \n",
       "max             352.000000         42.000000              57.370000  "
      ]
     },
     "execution_count": 105,
     "metadata": {},
     "output_type": "execute_result"
    }
   ],
   "source": [
    "df_aphasia_timestamps.describe()"
   ]
  },
  {
   "cell_type": "code",
   "execution_count": 106,
   "id": "8016922d3adf9262",
   "metadata": {
    "ExecuteTime": {
     "end_time": "2025-02-01T16:17:16.744229Z",
     "start_time": "2025-02-01T16:17:16.735777Z"
    }
   },
   "outputs": [
    {
     "data": {
      "text/html": [
       "<div>\n",
       "<style scoped>\n",
       "    .dataframe tbody tr th:only-of-type {\n",
       "        vertical-align: middle;\n",
       "    }\n",
       "\n",
       "    .dataframe tbody tr th {\n",
       "        vertical-align: top;\n",
       "    }\n",
       "\n",
       "    .dataframe thead th {\n",
       "        text-align: right;\n",
       "    }\n",
       "</style>\n",
       "<table border=\"1\" class=\"dataframe\">\n",
       "  <thead>\n",
       "    <tr style=\"text-align: right;\">\n",
       "      <th></th>\n",
       "      <th>duration_of_speech</th>\n",
       "      <th>count_of_speech</th>\n",
       "      <th>mean_speach_duration</th>\n",
       "      <th>duration_of_silence</th>\n",
       "      <th>count_of_silence</th>\n",
       "      <th>mean_silence_duration</th>\n",
       "    </tr>\n",
       "  </thead>\n",
       "  <tbody>\n",
       "    <tr>\n",
       "      <th>count</th>\n",
       "      <td>202.000000</td>\n",
       "      <td>202.000000</td>\n",
       "      <td>202.000000</td>\n",
       "      <td>202.000000</td>\n",
       "      <td>202.000000</td>\n",
       "      <td>202.000000</td>\n",
       "    </tr>\n",
       "    <tr>\n",
       "      <th>mean</th>\n",
       "      <td>29.730000</td>\n",
       "      <td>4.252475</td>\n",
       "      <td>10.483028</td>\n",
       "      <td>11.018416</td>\n",
       "      <td>5.252475</td>\n",
       "      <td>2.091850</td>\n",
       "    </tr>\n",
       "    <tr>\n",
       "      <th>std</th>\n",
       "      <td>18.840059</td>\n",
       "      <td>3.004246</td>\n",
       "      <td>9.986447</td>\n",
       "      <td>10.013276</td>\n",
       "      <td>3.004246</td>\n",
       "      <td>2.488808</td>\n",
       "    </tr>\n",
       "    <tr>\n",
       "      <th>min</th>\n",
       "      <td>0.000000</td>\n",
       "      <td>0.000000</td>\n",
       "      <td>0.000000</td>\n",
       "      <td>0.400000</td>\n",
       "      <td>1.000000</td>\n",
       "      <td>0.200000</td>\n",
       "    </tr>\n",
       "    <tr>\n",
       "      <th>25%</th>\n",
       "      <td>18.375000</td>\n",
       "      <td>2.000000</td>\n",
       "      <td>4.216667</td>\n",
       "      <td>4.505000</td>\n",
       "      <td>3.000000</td>\n",
       "      <td>1.283393</td>\n",
       "    </tr>\n",
       "    <tr>\n",
       "      <th>50%</th>\n",
       "      <td>25.200000</td>\n",
       "      <td>4.000000</td>\n",
       "      <td>7.085000</td>\n",
       "      <td>8.710000</td>\n",
       "      <td>5.000000</td>\n",
       "      <td>1.824000</td>\n",
       "    </tr>\n",
       "    <tr>\n",
       "      <th>75%</th>\n",
       "      <td>35.195000</td>\n",
       "      <td>6.000000</td>\n",
       "      <td>12.887500</td>\n",
       "      <td>15.095000</td>\n",
       "      <td>7.000000</td>\n",
       "      <td>2.200000</td>\n",
       "    </tr>\n",
       "    <tr>\n",
       "      <th>max</th>\n",
       "      <td>123.860000</td>\n",
       "      <td>21.000000</td>\n",
       "      <td>78.660000</td>\n",
       "      <td>85.680000</td>\n",
       "      <td>22.000000</td>\n",
       "      <td>31.240000</td>\n",
       "    </tr>\n",
       "  </tbody>\n",
       "</table>\n",
       "</div>"
      ],
      "text/plain": [
       "       duration_of_speech  count_of_speech  mean_speach_duration  \\\n",
       "count          202.000000       202.000000            202.000000   \n",
       "mean            29.730000         4.252475             10.483028   \n",
       "std             18.840059         3.004246              9.986447   \n",
       "min              0.000000         0.000000              0.000000   \n",
       "25%             18.375000         2.000000              4.216667   \n",
       "50%             25.200000         4.000000              7.085000   \n",
       "75%             35.195000         6.000000             12.887500   \n",
       "max            123.860000        21.000000             78.660000   \n",
       "\n",
       "       duration_of_silence  count_of_silence  mean_silence_duration  \n",
       "count           202.000000        202.000000             202.000000  \n",
       "mean             11.018416          5.252475               2.091850  \n",
       "std              10.013276          3.004246               2.488808  \n",
       "min               0.400000          1.000000               0.200000  \n",
       "25%               4.505000          3.000000               1.283393  \n",
       "50%               8.710000          5.000000               1.824000  \n",
       "75%              15.095000          7.000000               2.200000  \n",
       "max              85.680000         22.000000              31.240000  "
      ]
     },
     "execution_count": 106,
     "metadata": {},
     "output_type": "execute_result"
    }
   ],
   "source": [
    "df_norm_timestamps.describe()"
   ]
  },
  {
   "cell_type": "code",
   "execution_count": 107,
   "id": "1f12b17984614149",
   "metadata": {
    "ExecuteTime": {
     "end_time": "2025-02-01T16:17:16.877758Z",
     "start_time": "2025-02-01T16:17:16.744692Z"
    }
   },
   "outputs": [
    {
     "data": {
      "image/png": "[encoded data removed]",
      "text/plain": [
       "<Figure size 1000x700 with 1 Axes>"
      ]
     },
     "metadata": {},
     "output_type": "display_data"
    }
   ],
   "source": [
    "plt.figure(figsize=(10, 7))\n",
    "plt.hist(df_aphasia_timestamps[\"duration_of_speech\"].to_list(), bins=40, color=\"blue\", label=\"Aphasia\", edgecolor='black')\n",
    "plt.hist(df_norm_timestamps[\"duration_of_speech\"].to_list(), bins=40, color=\"red\", label=\"Norm\", edgecolor='black')\n",
    "plt.xlabel(\"Duration of speech\")\n",
    "plt.ylabel(\"Count\")\n",
    "plt.legend();"
   ]
  },
  {
   "cell_type": "code",
   "execution_count": 108,
   "id": "daa43773d68d4bcd",
   "metadata": {
    "ExecuteTime": {
     "end_time": "2025-02-01T16:17:17.009802Z",
     "start_time": "2025-02-01T16:17:16.879044Z"
    }
   },
   "outputs": [
    {
     "data": {
      "image/png": "[encoded data removed]",
      "text/plain": [
       "<Figure size 1000x700 with 1 Axes>"
      ]
     },
     "metadata": {},
     "output_type": "display_data"
    }
   ],
   "source": [
    "plt.figure(figsize=(10, 7))\n",
    "plt.hist(df_aphasia_timestamps[\"count_of_speech\"].to_list(), bins=40, color=\"blue\", label=\"Aphasia\", edgecolor='black')\n",
    "plt.hist(df_norm_timestamps[\"count_of_speech\"].to_list(), bins=40, color=\"red\", label=\"Norm\", edgecolor='black')\n",
    "plt.xlabel(\"Number of speech segments\")\n",
    "plt.ylabel(\"Count\")\n",
    "plt.legend();"
   ]
  },
  {
   "cell_type": "code",
   "execution_count": 109,
   "id": "76a1b25c2a872858",
   "metadata": {
    "ExecuteTime": {
     "end_time": "2025-02-01T16:17:17.138375Z",
     "start_time": "2025-02-01T16:17:17.011041Z"
    }
   },
   "outputs": [
    {
     "data": {
      "image/png": "[encoded data removed]",
      "text/plain": [
       "<Figure size 1000x700 with 1 Axes>"
      ]
     },
     "metadata": {},
     "output_type": "display_data"
    }
   ],
   "source": [
    "plt.figure(figsize=(10, 7))\n",
    "plt.hist(df_aphasia_timestamps[\"duration_of_silence\"].to_list(), bins=40, color=\"blue\", label=\"Aphasia\", edgecolor='black')\n",
    "plt.hist(df_norm_timestamps[\"duration_of_silence\"].to_list(), bins=40, color=\"red\", label=\"Norm\", edgecolor='black')\n",
    "plt.xlabel(\"Duration of silence\")\n",
    "plt.ylabel(\"Count\")\n",
    "plt.legend();"
   ]
  },
  {
   "cell_type": "code",
   "execution_count": 110,
   "id": "57d1ad2674795a0",
   "metadata": {
    "ExecuteTime": {
     "end_time": "2025-02-01T16:17:17.255390Z",
     "start_time": "2025-02-01T16:17:17.139320Z"
    }
   },
   "outputs": [
    {
     "data": {
      "image/png": "[encoded data removed]",
      "text/plain": [
       "<Figure size 1000x700 with 1 Axes>"
      ]
     },
     "metadata": {},
     "output_type": "display_data"
    }
   ],
   "source": [
    "plt.figure(figsize=(10, 7))\n",
    "plt.hist(df_aphasia_timestamps[\"count_of_silence\"].to_list(), bins=40, color=\"blue\", label=\"Aphasia\", edgecolor='black')\n",
    "plt.hist(df_norm_timestamps[\"count_of_silence\"].to_list(), bins=40, color=\"red\", label=\"Norm\", edgecolor='black')\n",
    "plt.xlabel(\"Number of silence segments\")\n",
    "plt.ylabel(\"Count\")\n",
    "plt.legend();"
   ]
  },
  {
   "cell_type": "code",
   "execution_count": 111,
   "id": "a2667a0bb6c1e77f",
   "metadata": {
    "ExecuteTime": {
     "end_time": "2025-02-01T16:17:17.390580Z",
     "start_time": "2025-02-01T16:17:17.256360Z"
    }
   },
   "outputs": [
    {
     "data": {
      "image/png": "[encoded data removed]",
      "text/plain": [
       "<Figure size 1000x700 with 1 Axes>"
      ]
     },
     "metadata": {},
     "output_type": "display_data"
    }
   ],
   "source": [
    "plt.figure(figsize=(10, 7))\n",
    "plt.hist(df_aphasia_timestamps[\"mean_speach_duration\"].to_list(), bins=40, color=\"blue\", label=\"Aphasia\", edgecolor='black')\n",
    "plt.hist(df_norm_timestamps[\"mean_speach_duration\"].to_list(), bins=40, color=\"red\", label=\"Norm\", edgecolor='black')\n",
    "plt.xlabel(\"Mean duration of speech segments\")\n",
    "plt.ylabel(\"Count\")\n",
    "plt.legend();"
   ]
  },
  {
   "cell_type": "code",
   "execution_count": 112,
   "id": "82770ec67bf39cef",
   "metadata": {
    "ExecuteTime": {
     "end_time": "2025-02-01T16:17:17.512380Z",
     "start_time": "2025-02-01T16:17:17.391467Z"
    }
   },
   "outputs": [
    {
     "data": {
      "image/png": "[encoded data removed]",
      "text/plain": [
       "<Figure size 1000x700 with 1 Axes>"
      ]
     },
     "metadata": {},
     "output_type": "display_data"
    }
   ],
   "source": [
    "plt.figure(figsize=(10, 7))\n",
    "plt.hist(df_aphasia_timestamps[\"mean_silence_duration\"].to_list(), bins=40, color=\"blue\", label=\"Aphasia\", edgecolor='black')\n",
    "plt.hist(df_norm_timestamps[\"mean_silence_duration\"].to_list(), bins=40, color=\"red\", label=\"Norm\", edgecolor='black')\n",
    "plt.xlabel(\"Mean duration of silence segments\")\n",
    "plt.ylabel(\"Count\")\n",
    "plt.legend();"
   ]
  },
  {
   "cell_type": "code",
   "execution_count": 113,
   "id": "1ee7158ed1b157e7",
   "metadata": {
    "ExecuteTime": {
     "end_time": "2025-02-01T16:17:17.534568Z",
     "start_time": "2025-02-01T16:17:17.513267Z"
    }
   },
   "outputs": [],
   "source": [
    "# df_aphasia_timestamps.to_csv(os.path.join(\"..\", \"data\", \"aphasia_timestamps.csv\"), index=False)\n",
    "# df_norm_timestamps.to_csv(os.path.join(\"..\", \"data\", \"norm_timestamps.csv\"), index=False)"
   ]
  }
 ],
 "metadata": {
  "kernelspec": {
   "display_name": "aphasia_env",
   "language": "python",
   "name": "python3"
  },
  "language_info": {
   "codemirror_mode": {
    "name": "ipython",
    "version": 3
   },
   "file_extension": ".py",
   "mimetype": "text/x-python",
   "name": "python",
   "nbconvert_exporter": "python",
   "pygments_lexer": "ipython3",
   "version": "3.10.18"
  }
 },
 "nbformat": 4,
 "nbformat_minor": 5
}

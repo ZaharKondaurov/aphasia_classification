{
 "cells": [
  {
   "cell_type": "code",
   "id": "initial_id",
   "metadata": {
    "collapsed": true,
    "ExecuteTime": {
     "end_time": "2025-03-15T10:24:09.238277Z",
     "start_time": "2025-03-15T10:24:03.277824Z"
    }
   },
   "source": [
    "import warnings\n",
    "\n",
    "for warn in [UserWarning, FutureWarning]: warnings.filterwarnings(\"ignore\", category = warn)\n",
    "\n",
    "import os\n",
    "import time\n",
    "import torch\n",
    "import torchaudio\n",
    "\n",
    "import numpy as np\n",
    "import pandas as pd\n",
    "\n",
    "from sklearn.metrics import f1_score, recall_score, precision_score, balanced_accuracy_score, accuracy_score, classification_report\n",
    "from sklearn.linear_model import LogisticRegression\n",
    "from sklearn.model_selection import train_test_split\n",
    "\n",
    "import scipy\n",
    "\n",
    "from tqdm import tqdm\n",
    "import librosa\n",
    "\n",
    "from src.utils import *\n",
    "\n",
    "from flaml import AutoML\n",
    "\n",
    "from transformers import AutoFeatureExtractor\n",
    "\n",
    "from disvoice.prosody.prosody import Prosody"
   ],
   "outputs": [
    {
     "name": "stderr",
     "output_type": "stream",
     "text": [
      "################################################################################\n",
      "### WARNING, path does not exist: KALDI_ROOT=/mnt/matylda5/iveselyk/Tools/kaldi-trunk\n",
      "###          (please add 'export KALDI_ROOT=<your_path>' in your $HOME/.profile)\n",
      "###          (or run as: KALDI_ROOT=<your_path> python <your_script>.py)\n",
      "################################################################################\n",
      "\n",
      "2025-03-15 13:24:06.896380: I tensorflow/core/util/port.cc:153] oneDNN custom operations are on. You may see slightly different numerical results due to floating-point round-off errors from different computation orders. To turn them off, set the environment variable `TF_ENABLE_ONEDNN_OPTS=0`.\n",
      "2025-03-15 13:24:06.905462: E external/local_xla/xla/stream_executor/cuda/cuda_fft.cc:477] Unable to register cuFFT factory: Attempting to register factory for plugin cuFFT when one has already been registered\n",
      "WARNING: All log messages before absl::InitializeLog() is called are written to STDERR\n",
      "E0000 00:00:1742034246.917670   10831 cuda_dnn.cc:8310] Unable to register cuDNN factory: Attempting to register factory for plugin cuDNN when one has already been registered\n",
      "E0000 00:00:1742034246.921600   10831 cuda_blas.cc:1418] Unable to register cuBLAS factory: Attempting to register factory for plugin cuBLAS when one has already been registered\n",
      "2025-03-15 13:24:06.934698: I tensorflow/core/platform/cpu_feature_guard.cc:210] This TensorFlow binary is optimized to use available CPU instructions in performance-critical operations.\n",
      "To enable the following instructions: AVX2 AVX_VNNI FMA, in other operations, rebuild TensorFlow with the appropriate compiler flags.\n"
     ]
    }
   ],
   "execution_count": 1
  },
  {
   "metadata": {
    "ExecuteTime": {
     "end_time": "2025-03-15T10:24:09.245396Z",
     "start_time": "2025-03-15T10:24:09.240198Z"
    }
   },
   "cell_type": "code",
   "source": [
    "SEED = 1984\n",
    "\n",
    "np.random.seed(SEED)\n",
    "torch.manual_seed(SEED)\n",
    "\n",
    "gen = torch.Generator()\n",
    "gen.manual_seed(SEED)\n",
    "\n",
    "SR = 8_000\n",
    "SEQUENCE_LENGTH = 300 * SR\n",
    "MFCC = 64"
   ],
   "id": "787766693fdab936",
   "outputs": [],
   "execution_count": 2
  },
  {
   "metadata": {
    "ExecuteTime": {
     "end_time": "2025-03-15T10:24:09.255201Z",
     "start_time": "2025-03-15T10:24:09.246300Z"
    }
   },
   "cell_type": "code",
   "source": [
    "DATA_DIR = os.path.join('..', 'data')\n",
    "VOICES_DIR = os.path.join(DATA_DIR, 'Voices_wav')\n",
    "APHASIA_DIR = os.path.join(VOICES_DIR, 'Aphasia')\n",
    "NORM_DIR = os.path.join(VOICES_DIR, 'Norm')"
   ],
   "id": "a59d2322235479ba",
   "outputs": [],
   "execution_count": 3
  },
  {
   "metadata": {
    "ExecuteTime": {
     "end_time": "2025-03-15T10:24:09.270417Z",
     "start_time": "2025-03-15T10:24:09.256461Z"
    }
   },
   "cell_type": "code",
   "source": [
    "train_data = pd.read_csv(os.path.join(DATA_DIR, 'train_filenames.csv'))\n",
    "val_data = pd.read_csv(os.path.join(DATA_DIR, 'val_filenames.csv'))\n",
    "test_data = pd.read_csv(os.path.join(DATA_DIR, 'test_filenames.csv'))"
   ],
   "id": "e03b516236c4f5a5",
   "outputs": [],
   "execution_count": 4
  },
  {
   "metadata": {
    "ExecuteTime": {
     "end_time": "2025-03-15T10:24:09.287686Z",
     "start_time": "2025-03-15T10:24:09.271725Z"
    }
   },
   "cell_type": "code",
   "source": [
    "train_data[\"file_name\"] = train_data.apply(lambda x: os.path.join(APHASIA_DIR, x['file_name']) if x['label'] == 1 else os.path.join(NORM_DIR, x['file_name']), axis=1)\n",
    "val_data[\"file_name\"] = val_data.apply(lambda x: os.path.join(APHASIA_DIR, x['file_name']) if x['label'] == 1 else os.path.join(NORM_DIR, x['file_name']), axis=1)\n",
    "test_data[\"file_name\"] = test_data.apply(lambda x: os.path.join(APHASIA_DIR, x['file_name']) if x['label'] == 1 else os.path.join(NORM_DIR, x['file_name']), axis=1)"
   ],
   "id": "691f53a95991a38c",
   "outputs": [],
   "execution_count": 5
  },
  {
   "metadata": {
    "ExecuteTime": {
     "end_time": "2025-03-15T10:24:09.316947Z",
     "start_time": "2025-03-15T10:24:09.288999Z"
    }
   },
   "cell_type": "code",
   "source": "mfcc_class = torchaudio.transforms.MFCC(sample_rate=SR, n_mfcc=MFCC, log_mels=True, melkwargs={\"n_fft\": 20_000, \"win_length\": 10_000, \"hop_length\": 5_000, \"n_mels\": 200})",
   "id": "656c5fadb9901959",
   "outputs": [],
   "execution_count": 6
  },
  {
   "metadata": {
    "ExecuteTime": {
     "end_time": "2025-03-15T10:24:09.320077Z",
     "start_time": "2025-03-15T10:24:09.318020Z"
    }
   },
   "cell_type": "code",
   "source": [
    "chroma_stft_kwargs = {\"n_fft\": 20_000, \"win_length\": 10_000, \"hop_length\": 5_000, \"n_chroma\": 12}\n",
    "spectral_stft_kwargs = {\"n_fft\": 20_000, \"win_length\": 10_000, \"hop_length\": 5_000}"
   ],
   "id": "f447214f65816546",
   "outputs": [],
   "execution_count": 7
  },
  {
   "metadata": {
    "ExecuteTime": {
     "end_time": "2025-03-15T10:24:09.334674Z",
     "start_time": "2025-03-15T10:24:09.320768Z"
    }
   },
   "cell_type": "code",
   "source": "prosody = Prosody()",
   "id": "c2e02126b00423b3",
   "outputs": [],
   "execution_count": 8
  },
  {
   "metadata": {
    "ExecuteTime": {
     "end_time": "2025-03-15T10:24:09.346093Z",
     "start_time": "2025-03-15T10:24:09.335330Z"
    }
   },
   "cell_type": "code",
   "source": [
    "def preprocess_function_mfcc(path):\n",
    "    y, sr = librosa.load(path, sr=SR)\n",
    "    y = y[..., :SEQUENCE_LENGTH]\n",
    "    y = np.pad(y, (0, SEQUENCE_LENGTH - y.shape[0]), mode='constant')\n",
    "    mfcc = mfcc_class(torch.Tensor(y))\n",
    "\n",
    "    return mfcc.numpy().flatten().squeeze()\n",
    "\n",
    "def preprocess_function_chroma(path):\n",
    "    y, sr = librosa.load(path, sr=SR)\n",
    "    y = y[..., :SEQUENCE_LENGTH]\n",
    "    y = np.pad(y, (0, SEQUENCE_LENGTH - y.shape[0]), mode='constant')\n",
    "    \n",
    "    chroma = librosa.feature.chroma_stft(y=y, sr=SR, **chroma_stft_kwargs)\n",
    "\n",
    "    return chroma.flatten().squeeze()\n",
    "\n",
    "def preprocess_function_spectral(path):\n",
    "    y, sr = librosa.load(path, sr=SR)\n",
    "    y = y[..., :SEQUENCE_LENGTH]\n",
    "    y = np.pad(y, (0, SEQUENCE_LENGTH - y.shape[0]), mode='constant')\n",
    "    \n",
    "    centroid = librosa.feature.spectral_centroid(y=y, sr=sr, **spectral_stft_kwargs)\n",
    "    bandwidth = librosa.feature.spectral_bandwidth(y=y, sr=sr, p=2, **spectral_stft_kwargs)\n",
    "    contrast = librosa.feature.spectral_contrast(y=y, sr=sr, fmin=50, **spectral_stft_kwargs)\n",
    "    flatness = librosa.feature.spectral_flatness(y=y, **spectral_stft_kwargs)\n",
    "    rolloff = librosa.feature.spectral_rolloff(y=y, **spectral_stft_kwargs)\n",
    "\n",
    "    return np.hstack((centroid, bandwidth, contrast.flatten().squeeze()[None, ...], flatness, rolloff))\n",
    "\n",
    "def preprocess_function_zcr(path):\n",
    "    y, sr = librosa.load(path, sr=SR)\n",
    "    y = y[..., :SEQUENCE_LENGTH]\n",
    "    y = np.pad(y, (0, SEQUENCE_LENGTH - y.shape[0]), mode='constant')\n",
    "    \n",
    "    zcr = librosa.feature.zero_crossing_rate(y, frame_length=10_000, hop_length=5_000)\n",
    "    return zcr\n",
    "    \n",
    "def preprocess_function_simple(path):\n",
    "    y, sr = librosa.load(path, sr=SR)\n",
    "    y = y[..., :SEQUENCE_LENGTH]\n",
    "    y = np.pad(y, (0, SEQUENCE_LENGTH - y.shape[0]), mode='constant')\n",
    "    \n",
    "    speech_duration, speech_count, _, mean_speach_duration, silence_duration, duration_count, _, mean_silence_duration = get_speech_and_silence_timestamps(torch.Tensor(y), sr=SR)\n",
    "    return np.array([speech_duration, speech_count, mean_speach_duration, silence_duration, duration_count, mean_silence_duration, speech_duration / (silence_duration + 1e-6)])\n",
    "\n",
    "def preprocess_function_prosody(path):\n",
    "    features = prosody.prosody_static(path, plots=False)\n",
    "    \n",
    "    return features\n",
    "    "
   ],
   "id": "bdd9b352dfaaa426",
   "outputs": [],
   "execution_count": 9
  },
  {
   "metadata": {
    "ExecuteTime": {
     "end_time": "2025-03-15T10:24:09.361740Z",
     "start_time": "2025-03-15T10:24:09.347242Z"
    }
   },
   "cell_type": "code",
   "source": [
    "def get_features(data_name, prep_function=None):\n",
    "    if not os.path.exists(os.path.join(DATA_DIR, f\"train_data_{data_name}.npy\")) and not (prep_function is None):\n",
    "        _train_data = np.vstack((train_data[\"file_name\"].apply(prep_function)).to_numpy())\n",
    "        _val_data = np.vstack((val_data[\"file_name\"].apply(prep_function)).to_numpy())\n",
    "        _test_data = np.vstack((test_data[\"file_name\"].apply(prep_function)).to_numpy())\n",
    "    \n",
    "        np.save(os.path.join(DATA_DIR, f\"train_data_{data_name}.npy\"), _train_data)\n",
    "        np.save(os.path.join(DATA_DIR, f\"val_data_{data_name}.npy\"), _val_data)\n",
    "        np.save(os.path.join(DATA_DIR, f\"test_data_{data_name}.npy\"), _test_data)\n",
    "    else:\n",
    "        _train_data = np.load(os.path.join(DATA_DIR, f\"train_data_{data_name}.npy\"))\n",
    "        _val_data = np.load(os.path.join(DATA_DIR, f\"val_data_{data_name}.npy\"))\n",
    "        _test_data = np.load(os.path.join(DATA_DIR, f\"test_data_{data_name}.npy\"))\n",
    "    \n",
    "    return _train_data, _val_data, _test_data"
   ],
   "id": "4154d58ef77bcb71",
   "outputs": [],
   "execution_count": 10
  },
  {
   "metadata": {
    "ExecuteTime": {
     "end_time": "2025-03-15T10:24:09.374434Z",
     "start_time": "2025-03-15T10:24:09.362543Z"
    }
   },
   "cell_type": "code",
   "source": "train_data_prosody, val_data_prosody, test_data_prosody = get_features(\"prosody\", preprocess_function_prosody)",
   "id": "657aab51281fd0bd",
   "outputs": [],
   "execution_count": 11
  },
  {
   "metadata": {
    "ExecuteTime": {
     "end_time": "2025-03-15T10:24:09.504390Z",
     "start_time": "2025-03-15T10:24:09.375378Z"
    }
   },
   "cell_type": "code",
   "source": "train_data_mfcc, val_data_mfcc, test_data_mfcc = get_features(\"mfcc\", preprocess_function_mfcc)",
   "id": "3e0d5d33cf089118",
   "outputs": [],
   "execution_count": 12
  },
  {
   "metadata": {
    "ExecuteTime": {
     "end_time": "2025-03-15T10:24:09.540825Z",
     "start_time": "2025-03-15T10:24:09.505256Z"
    }
   },
   "cell_type": "code",
   "source": "train_data_chroma, val_data_chroma, test_data_chroma = get_features(\"chroma\", preprocess_function_chroma)",
   "id": "602fa477329f4ad4",
   "outputs": [],
   "execution_count": 13
  },
  {
   "metadata": {
    "ExecuteTime": {
     "end_time": "2025-03-15T10:24:09.575257Z",
     "start_time": "2025-03-15T10:24:09.541540Z"
    }
   },
   "cell_type": "code",
   "source": "train_data_spectral, val_data_spectral, test_data_spectral = get_features(\"spectral\", preprocess_function_spectral)",
   "id": "edecf928852725a9",
   "outputs": [],
   "execution_count": 14
  },
  {
   "metadata": {
    "ExecuteTime": {
     "end_time": "2025-03-15T10:24:09.584394Z",
     "start_time": "2025-03-15T10:24:09.576076Z"
    }
   },
   "cell_type": "code",
   "source": "train_data_zrc, val_data_zrc, test_data_zrc = get_features(\"zrc\", preprocess_function_zcr)",
   "id": "c466b18b072d7edf",
   "outputs": [],
   "execution_count": 15
  },
  {
   "metadata": {
    "ExecuteTime": {
     "end_time": "2025-03-15T10:24:09.590385Z",
     "start_time": "2025-03-15T10:24:09.585337Z"
    }
   },
   "cell_type": "code",
   "source": "train_data_simple, val_data_simple, test_data_simple = get_features(\"simple\", preprocess_function_simple)",
   "id": "1541760ecb5aa63a",
   "outputs": [],
   "execution_count": 16
  },
  {
   "metadata": {
    "ExecuteTime": {
     "end_time": "2025-03-15T10:24:09.857066Z",
     "start_time": "2025-03-15T10:24:09.591471Z"
    }
   },
   "cell_type": "code",
   "source": [
    "train_all_features = np.hstack((train_data_mfcc, train_data_chroma, train_data_spectral, train_data_simple, train_data_zrc, train_data_prosody))\n",
    "val_all_features = np.hstack((val_data_mfcc, val_data_chroma, val_data_spectral, val_data_simple, val_data_zrc, val_data_prosody))\n",
    "test_all_features = np.hstack((test_data_mfcc, test_data_chroma, test_data_spectral, test_data_simple, test_data_zrc, test_data_prosody))"
   ],
   "id": "45a63c5648734032",
   "outputs": [],
   "execution_count": 17
  },
  {
   "metadata": {
    "ExecuteTime": {
     "end_time": "2025-03-15T10:24:09.942336Z",
     "start_time": "2025-03-15T10:24:09.858155Z"
    }
   },
   "cell_type": "code",
   "source": [
    "train_data_mfcc = np.hstack((train_data_mfcc, train_data_zrc))\n",
    "val_data_mfcc = np.hstack((val_data_mfcc, val_data_zrc))\n",
    "test_data_mfcc = np.hstack((test_data_mfcc, test_data_zrc))"
   ],
   "id": "aadbcfcb435d4dab",
   "outputs": [],
   "execution_count": 18
  },
  {
   "metadata": {
    "ExecuteTime": {
     "end_time": "2025-03-15T10:24:09.957757Z",
     "start_time": "2025-03-15T10:24:09.943164Z"
    }
   },
   "cell_type": "code",
   "source": [
    "train_data_chroma = np.hstack((train_data_chroma, train_data_zrc))\n",
    "val_data_chroma = np.hstack((val_data_chroma, val_data_zrc))\n",
    "test_data_chroma = np.hstack((test_data_chroma, test_data_zrc))"
   ],
   "id": "11ed33185c8372eb",
   "outputs": [],
   "execution_count": 19
  },
  {
   "metadata": {
    "ExecuteTime": {
     "end_time": "2025-03-15T10:24:09.972773Z",
     "start_time": "2025-03-15T10:24:09.959025Z"
    }
   },
   "cell_type": "code",
   "source": [
    "train_data_spectral = np.hstack((train_data_spectral, train_data_zrc))\n",
    "val_data_spectral = np.hstack((val_data_spectral, val_data_zrc))\n",
    "test_data_spectral = np.hstack((test_data_spectral, test_data_zrc))"
   ],
   "id": "a5ff23bd0c79953e",
   "outputs": [],
   "execution_count": 20
  },
  {
   "metadata": {
    "ExecuteTime": {
     "end_time": "2025-03-15T10:24:09.976886Z",
     "start_time": "2025-03-15T10:24:09.973773Z"
    }
   },
   "cell_type": "code",
   "source": [
    "train_data_simple = np.hstack((train_data_simple, train_data_zrc))\n",
    "val_data_simple = np.hstack((val_data_simple, val_data_zrc))\n",
    "test_data_simple = np.hstack((test_data_simple, test_data_zrc))"
   ],
   "id": "4935a54f78a9bd5f",
   "outputs": [],
   "execution_count": 21
  },
  {
   "metadata": {
    "ExecuteTime": {
     "end_time": "2025-03-15T10:24:43.859335Z",
     "start_time": "2025-03-15T10:24:43.856258Z"
    }
   },
   "cell_type": "code",
   "source": [
    "train_data_prosody = np.hstack((train_data_prosody, train_data_zrc))\n",
    "val_data_prosody = np.hstack((val_data_prosody, val_data_zrc))\n",
    "test_data_prosody = np.hstack((test_data_prosody, test_data_zrc))"
   ],
   "id": "35956a7629321d18",
   "outputs": [],
   "execution_count": 22
  },
  {
   "metadata": {
    "ExecuteTime": {
     "end_time": "2025-03-15T10:24:44.325516Z",
     "start_time": "2025-03-15T10:24:44.322245Z"
    }
   },
   "cell_type": "code",
   "source": [
    "def custom_balanced_accuracy(\n",
    "    X_val,\n",
    "    y_val,\n",
    "    estimator,\n",
    "    labels,\n",
    "    X_train,\n",
    "    y_train,\n",
    "    weight_val=None,\n",
    "    weight_train=None,\n",
    "    *args,\n",
    "):\n",
    "    start = time.time()\n",
    "    y_pred = estimator.predict_proba(X_val)\n",
    "    pred_time = (time.time() - start) / len(X_val)\n",
    "    val_acc = balanced_accuracy_score(y_val, np.argmax(y_pred, axis=-1), sample_weight=weight_val)\n",
    "    return 1 - val_acc, {\n",
    "        \"val_acc\": val_acc,\n",
    "        \"pred_time\": pred_time,\n",
    "    }"
   ],
   "id": "13c21a29f447a441",
   "outputs": [],
   "execution_count": 23
  },
  {
   "metadata": {},
   "cell_type": "markdown",
   "source": "## Prosody features",
   "id": "c2756c265bf5b925"
  },
  {
   "metadata": {
    "ExecuteTime": {
     "end_time": "2025-03-15T10:40:35.691405Z",
     "start_time": "2025-03-15T10:24:45.420825Z"
    }
   },
   "cell_type": "code",
   "source": [
    "pre_automl = AutoML()\n",
    "pre_automl.fit(train_data_prosody, train_data[\"label\"], task=\"classification\", time_budget=150, X_val=val_data_prosody, y_val=val_data[\"label\"], metric=custom_balanced_accuracy, seed=SEED, estimator_list=['lgbm', 'xgboost', 'xgb_limitdepth', 'rf', 'extra_tree', 'catboost'], verbose=False)\n",
    "\n",
    "automl_prosody = AutoML()\n",
    "automl_prosody.fit(train_data_prosody, train_data[\"label\"], task=\"classification\", time_budget=800, X_val=val_data_prosody, y_val=val_data[\"label\"], metric=custom_balanced_accuracy, seed=SEED, estimator_list=['lgbm', 'xgboost', 'xgb_limitdepth', 'rf', 'extra_tree', 'catboost'], starting_points=pre_automl.best_config_per_estimator, verbose=False)"
   ],
   "id": "278a9a768e300d24",
   "outputs": [],
   "execution_count": 24
  },
  {
   "metadata": {
    "ExecuteTime": {
     "end_time": "2025-03-15T10:40:35.720783Z",
     "start_time": "2025-03-15T10:40:35.693540Z"
    }
   },
   "cell_type": "code",
   "source": [
    "preds = automl_prosody.predict(test_data_prosody) \n",
    "\n",
    "print(classification_report(test_data[\"label\"], preds))"
   ],
   "id": "dcef87612fabd94c",
   "outputs": [
    {
     "name": "stdout",
     "output_type": "stream",
     "text": [
      "              precision    recall  f1-score   support\n",
      "\n",
      "           0       0.83      0.60      0.69        42\n",
      "           1       0.88      0.96      0.92       130\n",
      "\n",
      "    accuracy                           0.87       172\n",
      "   macro avg       0.86      0.78      0.81       172\n",
      "weighted avg       0.87      0.87      0.86       172\n",
      "\n"
     ]
    }
   ],
   "execution_count": 25
  },
  {
   "metadata": {},
   "cell_type": "markdown",
   "source": "## MFCC features",
   "id": "d9cdc693ad87084"
  },
  {
   "metadata": {
    "ExecuteTime": {
     "end_time": "2025-03-15T10:57:07.916283Z",
     "start_time": "2025-03-15T10:40:35.722173Z"
    }
   },
   "cell_type": "code",
   "source": [
    "pre_automl = AutoML()\n",
    "pre_automl.fit(train_data_mfcc, train_data[\"label\"], task=\"classification\", time_budget=150, X_val=val_data_mfcc, y_val=val_data[\"label\"], metric=custom_balanced_accuracy, seed=SEED, estimator_list=['lgbm', 'xgboost', 'xgb_limitdepth', 'rf', 'extra_tree', 'catboost'], verbose=False)\n",
    "\n",
    "automl_mfcc = AutoML()\n",
    "automl_mfcc.fit(train_data_mfcc, train_data[\"label\"], task=\"classification\", time_budget=800, X_val=val_data_mfcc, y_val=val_data[\"label\"], metric=custom_balanced_accuracy, seed=SEED, estimator_list=['lgbm', 'xgboost', 'xgb_limitdepth', 'rf', 'extra_tree', 'catboost'], starting_points=pre_automl.best_config_per_estimator, verbose=False)"
   ],
   "id": "2b6982573fe8cf55",
   "outputs": [],
   "execution_count": 26
  },
  {
   "metadata": {
    "ExecuteTime": {
     "end_time": "2025-03-15T10:57:07.940036Z",
     "start_time": "2025-03-15T10:57:07.917473Z"
    }
   },
   "cell_type": "code",
   "source": [
    "preds = automl_mfcc.predict(test_data_mfcc) \n",
    "\n",
    "print(classification_report(test_data[\"label\"], preds))"
   ],
   "id": "8ca870a34d3af271",
   "outputs": [
    {
     "name": "stdout",
     "output_type": "stream",
     "text": [
      "              precision    recall  f1-score   support\n",
      "\n",
      "           0       0.58      0.52      0.55        42\n",
      "           1       0.85      0.88      0.86       130\n",
      "\n",
      "    accuracy                           0.79       172\n",
      "   macro avg       0.71      0.70      0.71       172\n",
      "weighted avg       0.78      0.79      0.79       172\n",
      "\n"
     ]
    }
   ],
   "execution_count": 27
  },
  {
   "metadata": {},
   "cell_type": "markdown",
   "source": "## Chroma features",
   "id": "b540e91f062e8997"
  },
  {
   "metadata": {
    "ExecuteTime": {
     "end_time": "2025-03-15T11:12:59.812141Z",
     "start_time": "2025-03-15T10:57:07.941244Z"
    }
   },
   "cell_type": "code",
   "source": [
    "pre_automl = AutoML()\n",
    "pre_automl.fit(train_data_chroma, train_data[\"label\"], task=\"classification\", time_budget=150, X_val=val_data_chroma, y_val=val_data[\"label\"], metric=custom_balanced_accuracy, seed=SEED, estimator_list=['lgbm', 'xgboost', 'xgb_limitdepth', 'rf', 'extra_tree', 'catboost'], verbose=False)\n",
    "\n",
    "automl_chroma = AutoML()\n",
    "automl_chroma.fit(train_data_chroma, train_data[\"label\"], task=\"classification\", time_budget=800, X_val=val_data_chroma, y_val=val_data[\"label\"], metric=custom_balanced_accuracy, seed=SEED, estimator_list=['lgbm', 'xgboost', 'xgb_limitdepth', 'rf', 'extra_tree', 'catboost'], starting_points=pre_automl.best_config_per_estimator, verbose=False)"
   ],
   "id": "501d8ed929e8c385",
   "outputs": [],
   "execution_count": 28
  },
  {
   "metadata": {
    "ExecuteTime": {
     "end_time": "2025-03-15T11:12:59.842474Z",
     "start_time": "2025-03-15T11:12:59.813323Z"
    }
   },
   "cell_type": "code",
   "source": [
    "preds = automl_chroma.predict(test_data_chroma) \n",
    "\n",
    "print(classification_report(test_data[\"label\"], preds))"
   ],
   "id": "12a48303b7090157",
   "outputs": [
    {
     "name": "stdout",
     "output_type": "stream",
     "text": [
      "              precision    recall  f1-score   support\n",
      "\n",
      "           0       0.66      0.60      0.62        42\n",
      "           1       0.87      0.90      0.89       130\n",
      "\n",
      "    accuracy                           0.83       172\n",
      "   macro avg       0.77      0.75      0.76       172\n",
      "weighted avg       0.82      0.83      0.82       172\n",
      "\n"
     ]
    }
   ],
   "execution_count": 29
  },
  {
   "metadata": {},
   "cell_type": "markdown",
   "source": "## Spectral features",
   "id": "9e9bf1714950f092"
  },
  {
   "metadata": {
    "ExecuteTime": {
     "end_time": "2025-03-15T11:29:23.588440Z",
     "start_time": "2025-03-15T11:12:59.843760Z"
    }
   },
   "cell_type": "code",
   "source": [
    "pre_automl = AutoML()\n",
    "pre_automl.fit(train_data_spectral, train_data[\"label\"], task=\"classification\", time_budget=150, X_val=val_data_spectral, y_val=val_data[\"label\"], metric=custom_balanced_accuracy, seed=SEED, estimator_list=['lgbm', 'xgboost', 'xgb_limitdepth', 'rf', 'extra_tree', 'catboost'], verbose=False)\n",
    "\n",
    "automl_spectral = AutoML()\n",
    "automl_spectral.fit(train_data_spectral, train_data[\"label\"], task=\"classification\", time_budget=800, X_val=val_data_spectral, y_val=val_data[\"label\"], metric=custom_balanced_accuracy, seed=SEED, estimator_list=['lgbm', 'xgboost', 'xgb_limitdepth', 'rf', 'extra_tree', 'catboost'], starting_points=pre_automl.best_config_per_estimator, verbose=False)"
   ],
   "id": "e60bcf586d9fe63c",
   "outputs": [],
   "execution_count": 30
  },
  {
   "metadata": {
    "ExecuteTime": {
     "end_time": "2025-03-15T11:29:23.623253Z",
     "start_time": "2025-03-15T11:29:23.590744Z"
    }
   },
   "cell_type": "code",
   "source": [
    "preds = automl_spectral.predict(test_data_spectral) \n",
    "\n",
    "print(classification_report(test_data[\"label\"], preds))"
   ],
   "id": "80456cd4ccff5d92",
   "outputs": [
    {
     "name": "stdout",
     "output_type": "stream",
     "text": [
      "              precision    recall  f1-score   support\n",
      "\n",
      "           0       0.63      0.52      0.57        42\n",
      "           1       0.85      0.90      0.88       130\n",
      "\n",
      "    accuracy                           0.81       172\n",
      "   macro avg       0.74      0.71      0.72       172\n",
      "weighted avg       0.80      0.81      0.80       172\n",
      "\n"
     ]
    }
   ],
   "execution_count": 31
  },
  {
   "metadata": {},
   "cell_type": "markdown",
   "source": "## Simple features",
   "id": "99e45d12d522863c"
  },
  {
   "metadata": {
    "ExecuteTime": {
     "end_time": "2025-03-15T11:45:13.734380Z",
     "start_time": "2025-03-15T11:29:23.624394Z"
    }
   },
   "cell_type": "code",
   "source": [
    "pre_automl = AutoML()\n",
    "pre_automl.fit(train_data_simple, train_data[\"label\"], task=\"classification\", time_budget=150, X_val=val_data_simple, y_val=val_data[\"label\"], metric=custom_balanced_accuracy, seed=SEED, estimator_list=['lgbm', 'xgboost', 'xgb_limitdepth', 'rf', 'extra_tree', 'catboost'], verbose=False)\n",
    "\n",
    "automl_spectral = AutoML()\n",
    "automl_spectral.fit(train_data_simple, train_data[\"label\"], task=\"classification\", time_budget=800, X_val=val_data_simple, y_val=val_data[\"label\"], metric=custom_balanced_accuracy, seed=SEED, estimator_list=['lgbm', 'xgboost', 'xgb_limitdepth', 'rf', 'extra_tree', 'catboost'], starting_points=pre_automl.best_config_per_estimator, verbose=False)"
   ],
   "id": "f42d7576566c8b80",
   "outputs": [],
   "execution_count": 32
  },
  {
   "metadata": {
    "ExecuteTime": {
     "end_time": "2025-03-15T11:45:13.766276Z",
     "start_time": "2025-03-15T11:45:13.737443Z"
    }
   },
   "cell_type": "code",
   "source": [
    "preds = automl_spectral.predict(test_data_simple) \n",
    "\n",
    "print(classification_report(test_data[\"label\"], preds))"
   ],
   "id": "98ec3171b662cfcd",
   "outputs": [
    {
     "name": "stdout",
     "output_type": "stream",
     "text": [
      "              precision    recall  f1-score   support\n",
      "\n",
      "           0       0.58      0.62      0.60        42\n",
      "           1       0.87      0.85      0.86       130\n",
      "\n",
      "    accuracy                           0.80       172\n",
      "   macro avg       0.73      0.74      0.73       172\n",
      "weighted avg       0.80      0.80      0.80       172\n",
      "\n"
     ]
    }
   ],
   "execution_count": 33
  },
  {
   "metadata": {},
   "cell_type": "markdown",
   "source": "## All features",
   "id": "c0b92e218e32d189"
  },
  {
   "metadata": {
    "ExecuteTime": {
     "end_time": "2025-03-15T12:01:52.396585Z",
     "start_time": "2025-03-15T11:45:13.767459Z"
    }
   },
   "cell_type": "code",
   "source": [
    "pre_automl = AutoML()\n",
    "pre_automl.fit(train_all_features, train_data[\"label\"], task=\"classification\", time_budget=150, X_val=val_all_features, y_val=val_data[\"label\"], metric=custom_balanced_accuracy, seed=SEED, estimator_list=['lgbm', 'xgboost', 'xgb_limitdepth', 'rf', 'extra_tree', 'catboost'], verbose=False)\n",
    "\n",
    "automl_all_features = AutoML()\n",
    "automl_all_features.fit(train_all_features, train_data[\"label\"], task=\"classification\", time_budget=800, X_val=val_all_features, y_val=val_data[\"label\"], metric=custom_balanced_accuracy, seed=SEED, estimator_list=['lgbm', 'xgboost', 'xgb_limitdepth', 'rf', 'extra_tree', 'catboost'], starting_points=pre_automl.best_config_per_estimator, verbose=False)"
   ],
   "id": "3f57d9263daec1a9",
   "outputs": [],
   "execution_count": 34
  },
  {
   "metadata": {
    "ExecuteTime": {
     "end_time": "2025-03-15T12:01:52.507916Z",
     "start_time": "2025-03-15T12:01:52.399498Z"
    }
   },
   "cell_type": "code",
   "source": [
    "preds = automl_all_features.predict(test_all_features) \n",
    "\n",
    "print(classification_report(test_data[\"label\"], preds))"
   ],
   "id": "b529debe9ad0aa36",
   "outputs": [
    {
     "name": "stdout",
     "output_type": "stream",
     "text": [
      "              precision    recall  f1-score   support\n",
      "\n",
      "           0       0.83      0.60      0.69        42\n",
      "           1       0.88      0.96      0.92       130\n",
      "\n",
      "    accuracy                           0.87       172\n",
      "   macro avg       0.86      0.78      0.81       172\n",
      "weighted avg       0.87      0.87      0.86       172\n",
      "\n"
     ]
    }
   ],
   "execution_count": 35
  },
  {
   "metadata": {},
   "cell_type": "markdown",
   "source": "## Simple + MFCC",
   "id": "ded36ec8ed2afd30"
  },
  {
   "metadata": {
    "ExecuteTime": {
     "end_time": "2025-03-15T12:01:52.607426Z",
     "start_time": "2025-03-15T12:01:52.510274Z"
    }
   },
   "cell_type": "code",
   "source": [
    "train_all_features = np.hstack((train_data_mfcc[:, :-1], train_data_simple))\n",
    "val_all_features = np.hstack((val_data_mfcc[:, :-1], val_data_simple))\n",
    "test_all_features = np.hstack((test_data_mfcc[:, :-1], test_data_simple))"
   ],
   "id": "f7fe2ac504c365e9",
   "outputs": [],
   "execution_count": 36
  },
  {
   "metadata": {
    "ExecuteTime": {
     "end_time": "2025-03-15T12:18:18.315358Z",
     "start_time": "2025-03-15T12:01:52.608659Z"
    }
   },
   "cell_type": "code",
   "source": [
    "pre_automl = AutoML()\n",
    "pre_automl.fit(train_all_features, train_data[\"label\"], task=\"classification\", time_budget=150, X_val=val_all_features, y_val=val_data[\"label\"], metric=custom_balanced_accuracy, seed=SEED, estimator_list=['lgbm', 'xgboost', 'xgb_limitdepth', 'rf', 'extra_tree', 'catboost'], verbose=False)\n",
    "\n",
    "automl_all_features = AutoML()\n",
    "automl_all_features.fit(train_all_features, train_data[\"label\"], task=\"classification\", time_budget=800, X_val=val_all_features, y_val=val_data[\"label\"], metric=custom_balanced_accuracy, seed=SEED, estimator_list=['lgbm', 'xgboost', 'xgb_limitdepth', 'rf', 'extra_tree', 'catboost'], starting_points=pre_automl.best_config_per_estimator, verbose=False)"
   ],
   "id": "2513a83f1d0f2a61",
   "outputs": [],
   "execution_count": 37
  },
  {
   "metadata": {
    "ExecuteTime": {
     "end_time": "2025-03-15T12:18:18.349001Z",
     "start_time": "2025-03-15T12:18:18.326228Z"
    }
   },
   "cell_type": "code",
   "source": [
    "preds = automl_all_features.predict(test_all_features) \n",
    "\n",
    "print(classification_report(test_data[\"label\"], preds))"
   ],
   "id": "b6d4fb2987ef3c45",
   "outputs": [
    {
     "name": "stdout",
     "output_type": "stream",
     "text": [
      "              precision    recall  f1-score   support\n",
      "\n",
      "           0       0.76      0.62      0.68        42\n",
      "           1       0.88      0.94      0.91       130\n",
      "\n",
      "    accuracy                           0.86       172\n",
      "   macro avg       0.82      0.78      0.80       172\n",
      "weighted avg       0.85      0.86      0.86       172\n",
      "\n"
     ]
    }
   ],
   "execution_count": 38
  },
  {
   "metadata": {},
   "cell_type": "markdown",
   "source": "## Experiments with wav2vec",
   "id": "3dcc4f96c6c4eaee"
  },
  {
   "metadata": {
    "ExecuteTime": {
     "end_time": "2025-03-15T12:18:19.197966Z",
     "start_time": "2025-03-15T12:18:18.350201Z"
    }
   },
   "cell_type": "code",
   "source": "feature_extractor = AutoFeatureExtractor.from_pretrained(\"facebook/wav2vec2-base\", sampling_rate=SR, )",
   "id": "ce5234b3fc071f53",
   "outputs": [],
   "execution_count": 39
  },
  {
   "metadata": {
    "ExecuteTime": {
     "end_time": "2025-03-15T12:18:19.207193Z",
     "start_time": "2025-03-15T12:18:19.201011Z"
    }
   },
   "cell_type": "code",
   "source": [
    "def preprocess_function_wav2vec(path):\n",
    "    y, sr = librosa.load(path, sr=SR)\n",
    "    y = y[..., :SEQUENCE_LENGTH]\n",
    "    y = np.pad(y, (0, SEQUENCE_LENGTH - y.shape[0]), mode='constant')\n",
    "    \n",
    "    inputs = feature_extractor(\n",
    "        torch.tensor(y), sampling_rate=feature_extractor.sampling_rate, max_length=4_000, truncation=True, padding=\"max_length\"\n",
    "    )\n",
    "    # print(inputs)\n",
    "    return inputs['input_values']"
   ],
   "id": "a63598660030a41e",
   "outputs": [],
   "execution_count": 40
  },
  {
   "metadata": {
    "ExecuteTime": {
     "end_time": "2025-03-15T12:18:22.666459Z",
     "start_time": "2025-03-15T12:18:19.208712Z"
    }
   },
   "cell_type": "code",
   "source": [
    "train_data_wav2vec = np.vstack(train_data[\"file_name\"].apply(preprocess_function_wav2vec))\n",
    "val_data_wav2vec = np.vstack(val_data[\"file_name\"].apply(preprocess_function_wav2vec))\n",
    "test_data_wav2vec = np.vstack(test_data[\"file_name\"].apply(preprocess_function_wav2vec))"
   ],
   "id": "8eb5524779000afd",
   "outputs": [],
   "execution_count": 41
  },
  {
   "metadata": {
    "ExecuteTime": {
     "end_time": "2025-03-15T12:34:12.542679Z",
     "start_time": "2025-03-15T12:18:22.667766Z"
    }
   },
   "cell_type": "code",
   "source": [
    "pre_automl = AutoML()\n",
    "pre_automl.fit(train_data_wav2vec, train_data[\"label\"], task=\"classification\", time_budget=150, X_val=val_data_wav2vec, y_val=val_data[\"label\"], metric=custom_balanced_accuracy, seed=SEED, estimator_list=['lgbm', 'xgboost', 'xgb_limitdepth', 'rf', 'extra_tree', 'catboost'], verbose=False)\n",
    "\n",
    "automl_wav2vec = AutoML()\n",
    "automl_wav2vec.fit(train_data_wav2vec, train_data[\"label\"], task=\"classification\", time_budget=800, X_val=val_data_wav2vec, y_val=val_data[\"label\"], metric=custom_balanced_accuracy, seed=SEED, estimator_list=['lgbm', 'xgboost', 'xgb_limitdepth', 'rf', 'extra_tree', 'catboost'], starting_points=pre_automl.best_config_per_estimator, verbose=False)"
   ],
   "id": "8ca7ce8f98417a32",
   "outputs": [],
   "execution_count": 42
  },
  {
   "metadata": {
    "ExecuteTime": {
     "end_time": "2025-03-15T12:34:12.583889Z",
     "start_time": "2025-03-15T12:34:12.553782Z"
    }
   },
   "cell_type": "code",
   "source": [
    "preds = automl_wav2vec.predict(test_data_wav2vec) \n",
    "print(classification_report(test_data[\"label\"], preds))"
   ],
   "id": "11e6706caf6f6719",
   "outputs": [
    {
     "name": "stdout",
     "output_type": "stream",
     "text": [
      "              precision    recall  f1-score   support\n",
      "\n",
      "           0       0.67      0.52      0.59        42\n",
      "           1       0.86      0.92      0.88       130\n",
      "\n",
      "    accuracy                           0.82       172\n",
      "   macro avg       0.76      0.72      0.74       172\n",
      "weighted avg       0.81      0.82      0.81       172\n",
      "\n"
     ]
    }
   ],
   "execution_count": 43
  },
  {
   "metadata": {},
   "cell_type": "markdown",
   "source": "## Wav2vec with PCA (for some reason....)",
   "id": "9425ea137563b05c"
  },
  {
   "metadata": {
    "ExecuteTime": {
     "end_time": "2025-03-15T12:34:12.592050Z",
     "start_time": "2025-03-15T12:34:12.585298Z"
    }
   },
   "cell_type": "code",
   "source": "train_data_wav2vec.T.shape",
   "id": "7fb1e77c4593526f",
   "outputs": [
    {
     "data": {
      "text/plain": [
       "(4000, 472)"
      ]
     },
     "execution_count": 44,
     "metadata": {},
     "output_type": "execute_result"
    }
   ],
   "execution_count": 44
  },
  {
   "metadata": {
    "ExecuteTime": {
     "end_time": "2025-03-15T12:34:14.321995Z",
     "start_time": "2025-03-15T12:34:12.593672Z"
    }
   },
   "cell_type": "code",
   "source": [
    "from sklearn.decomposition import PCA\n",
    "\n",
    "pca = PCA(n_components=250)\n",
    "\n",
    "train_data_wav2vec_pca = pca.fit_transform(train_data_wav2vec)\n",
    "val_data_wav2vec_pca = pca.transform(val_data_wav2vec)\n",
    "test_data_wav2vec_pca = pca.transform(test_data_wav2vec)"
   ],
   "id": "82a7c74188ac937c",
   "outputs": [],
   "execution_count": 45
  },
  {
   "metadata": {
    "ExecuteTime": {
     "end_time": "2025-03-15T12:50:04.889407Z",
     "start_time": "2025-03-15T12:34:14.323235Z"
    }
   },
   "cell_type": "code",
   "source": [
    "pre_automl = AutoML()\n",
    "pre_automl.fit(train_data_wav2vec_pca, train_data[\"label\"], task=\"classification\", time_budget=150, X_val=val_data_wav2vec_pca, y_val=val_data[\"label\"], metric=custom_balanced_accuracy, seed=SEED, estimator_list=['lgbm', 'xgboost', 'xgb_limitdepth', 'rf', 'extra_tree', 'catboost'], verbose=False)\n",
    "\n",
    "automl_wav2vec_pca = AutoML()\n",
    "automl_wav2vec_pca.fit(train_data_wav2vec_pca, train_data[\"label\"], task=\"classification\", time_budget=800, X_val=val_data_wav2vec_pca, y_val=val_data[\"label\"], metric=custom_balanced_accuracy, seed=SEED, estimator_list=['lgbm', 'xgboost', 'xgb_limitdepth', 'rf', 'extra_tree', 'catboost'], starting_points=pre_automl.best_config_per_estimator, verbose=False)"
   ],
   "id": "ba4d1410d06c0444",
   "outputs": [],
   "execution_count": 46
  },
  {
   "metadata": {
    "ExecuteTime": {
     "end_time": "2025-03-15T12:50:04.920851Z",
     "start_time": "2025-03-15T12:50:04.899468Z"
    }
   },
   "cell_type": "code",
   "source": [
    "preds = automl_wav2vec_pca.predict(test_data_wav2vec_pca) \n",
    "print(classification_report(test_data[\"label\"], preds))"
   ],
   "id": "82be9e8515418700",
   "outputs": [
    {
     "name": "stdout",
     "output_type": "stream",
     "text": [
      "              precision    recall  f1-score   support\n",
      "\n",
      "           0       0.67      0.43      0.52        42\n",
      "           1       0.83      0.93      0.88       130\n",
      "\n",
      "    accuracy                           0.81       172\n",
      "   macro avg       0.75      0.68      0.70       172\n",
      "weighted avg       0.79      0.81      0.79       172\n",
      "\n"
     ]
    }
   ],
   "execution_count": 47
  },
  {
   "metadata": {},
   "cell_type": "markdown",
   "source": "## Meta classification",
   "id": "789810188db36b67"
  },
  {
   "metadata": {
    "ExecuteTime": {
     "end_time": "2025-03-15T12:50:04.949968Z",
     "start_time": "2025-03-15T12:50:04.921725Z"
    }
   },
   "cell_type": "code",
   "source": [
    "test_data_mfcc = pd.concat([test_data, pd.DataFrame(test_data_mfcc)], axis=1)\n",
    "test_data_mfcc.head()"
   ],
   "id": "486aaa780056cf01",
   "outputs": [
    {
     "data": {
      "text/plain": [
       "                                       file_name  label           0  \\\n",
       "0  ../data/Voices_wav/Norm/N-0988-RAT-1-robb.wav      0 -133.220810   \n",
       "1  ../data/Voices_wav/Norm/N-0988-RAT-1-bike.wav      0 -127.859444   \n",
       "2  ../data/Voices_wav/Norm/N-0982-RAT-1-robb.wav      0 -133.322495   \n",
       "3  ../data/Voices_wav/Norm/N-0982-RAT-1-bike.wav      0 -133.801498   \n",
       "4  ../data/Voices_wav/Norm/N-0922-RAT-1-bike.wav      0 -132.111694   \n",
       "\n",
       "           1          2          3          4          5          6  \\\n",
       "0 -86.438217 -50.233150   2.749326 -67.728760 -75.160988 -42.209667   \n",
       "1 -57.902290   4.641314  19.603796  38.635742  42.423389  42.932121   \n",
       "2 -91.622047 -31.579760 -27.227444  26.310484  67.676003  48.572411   \n",
       "3 -88.440720 -59.631699 -19.610685 -25.806852  48.195946  70.444359   \n",
       "4 -78.014793 -81.933823 -88.991348 -93.623466 -76.771866 -21.169638   \n",
       "\n",
       "           7  ...  31735  31736  31737  31738  31739  31740  31741  31742  \\\n",
       "0 -38.456062  ...    0.0    0.0    0.0    0.0    0.0    0.0    0.0    0.0   \n",
       "1  39.175602  ...    0.0    0.0    0.0    0.0    0.0    0.0    0.0    0.0   \n",
       "2 -63.792099  ...    0.0    0.0    0.0    0.0    0.0    0.0    0.0    0.0   \n",
       "3  26.359131  ...    0.0    0.0    0.0    0.0    0.0    0.0    0.0    0.0   \n",
       "4  -0.507260  ...    0.0    0.0    0.0    0.0    0.0    0.0    0.0    0.0   \n",
       "\n",
       "   31743  31744  \n",
       "0    0.0    0.0  \n",
       "1    0.0    0.0  \n",
       "2    0.0    0.0  \n",
       "3    0.0    0.0  \n",
       "4    0.0    0.0  \n",
       "\n",
       "[5 rows x 31747 columns]"
      ],
      "text/html": [
       "<div>\n",
       "<style scoped>\n",
       "    .dataframe tbody tr th:only-of-type {\n",
       "        vertical-align: middle;\n",
       "    }\n",
       "\n",
       "    .dataframe tbody tr th {\n",
       "        vertical-align: top;\n",
       "    }\n",
       "\n",
       "    .dataframe thead th {\n",
       "        text-align: right;\n",
       "    }\n",
       "</style>\n",
       "<table border=\"1\" class=\"dataframe\">\n",
       "  <thead>\n",
       "    <tr style=\"text-align: right;\">\n",
       "      <th></th>\n",
       "      <th>file_name</th>\n",
       "      <th>label</th>\n",
       "      <th>0</th>\n",
       "      <th>1</th>\n",
       "      <th>2</th>\n",
       "      <th>3</th>\n",
       "      <th>4</th>\n",
       "      <th>5</th>\n",
       "      <th>6</th>\n",
       "      <th>7</th>\n",
       "      <th>...</th>\n",
       "      <th>31735</th>\n",
       "      <th>31736</th>\n",
       "      <th>31737</th>\n",
       "      <th>31738</th>\n",
       "      <th>31739</th>\n",
       "      <th>31740</th>\n",
       "      <th>31741</th>\n",
       "      <th>31742</th>\n",
       "      <th>31743</th>\n",
       "      <th>31744</th>\n",
       "    </tr>\n",
       "  </thead>\n",
       "  <tbody>\n",
       "    <tr>\n",
       "      <th>0</th>\n",
       "      <td>../data/Voices_wav/Norm/N-0988-RAT-1-robb.wav</td>\n",
       "      <td>0</td>\n",
       "      <td>-133.220810</td>\n",
       "      <td>-86.438217</td>\n",
       "      <td>-50.233150</td>\n",
       "      <td>2.749326</td>\n",
       "      <td>-67.728760</td>\n",
       "      <td>-75.160988</td>\n",
       "      <td>-42.209667</td>\n",
       "      <td>-38.456062</td>\n",
       "      <td>...</td>\n",
       "      <td>0.0</td>\n",
       "      <td>0.0</td>\n",
       "      <td>0.0</td>\n",
       "      <td>0.0</td>\n",
       "      <td>0.0</td>\n",
       "      <td>0.0</td>\n",
       "      <td>0.0</td>\n",
       "      <td>0.0</td>\n",
       "      <td>0.0</td>\n",
       "      <td>0.0</td>\n",
       "    </tr>\n",
       "    <tr>\n",
       "      <th>1</th>\n",
       "      <td>../data/Voices_wav/Norm/N-0988-RAT-1-bike.wav</td>\n",
       "      <td>0</td>\n",
       "      <td>-127.859444</td>\n",
       "      <td>-57.902290</td>\n",
       "      <td>4.641314</td>\n",
       "      <td>19.603796</td>\n",
       "      <td>38.635742</td>\n",
       "      <td>42.423389</td>\n",
       "      <td>42.932121</td>\n",
       "      <td>39.175602</td>\n",
       "      <td>...</td>\n",
       "      <td>0.0</td>\n",
       "      <td>0.0</td>\n",
       "      <td>0.0</td>\n",
       "      <td>0.0</td>\n",
       "      <td>0.0</td>\n",
       "      <td>0.0</td>\n",
       "      <td>0.0</td>\n",
       "      <td>0.0</td>\n",
       "      <td>0.0</td>\n",
       "      <td>0.0</td>\n",
       "    </tr>\n",
       "    <tr>\n",
       "      <th>2</th>\n",
       "      <td>../data/Voices_wav/Norm/N-0982-RAT-1-robb.wav</td>\n",
       "      <td>0</td>\n",
       "      <td>-133.322495</td>\n",
       "      <td>-91.622047</td>\n",
       "      <td>-31.579760</td>\n",
       "      <td>-27.227444</td>\n",
       "      <td>26.310484</td>\n",
       "      <td>67.676003</td>\n",
       "      <td>48.572411</td>\n",
       "      <td>-63.792099</td>\n",
       "      <td>...</td>\n",
       "      <td>0.0</td>\n",
       "      <td>0.0</td>\n",
       "      <td>0.0</td>\n",
       "      <td>0.0</td>\n",
       "      <td>0.0</td>\n",
       "      <td>0.0</td>\n",
       "      <td>0.0</td>\n",
       "      <td>0.0</td>\n",
       "      <td>0.0</td>\n",
       "      <td>0.0</td>\n",
       "    </tr>\n",
       "    <tr>\n",
       "      <th>3</th>\n",
       "      <td>../data/Voices_wav/Norm/N-0982-RAT-1-bike.wav</td>\n",
       "      <td>0</td>\n",
       "      <td>-133.801498</td>\n",
       "      <td>-88.440720</td>\n",
       "      <td>-59.631699</td>\n",
       "      <td>-19.610685</td>\n",
       "      <td>-25.806852</td>\n",
       "      <td>48.195946</td>\n",
       "      <td>70.444359</td>\n",
       "      <td>26.359131</td>\n",
       "      <td>...</td>\n",
       "      <td>0.0</td>\n",
       "      <td>0.0</td>\n",
       "      <td>0.0</td>\n",
       "      <td>0.0</td>\n",
       "      <td>0.0</td>\n",
       "      <td>0.0</td>\n",
       "      <td>0.0</td>\n",
       "      <td>0.0</td>\n",
       "      <td>0.0</td>\n",
       "      <td>0.0</td>\n",
       "    </tr>\n",
       "    <tr>\n",
       "      <th>4</th>\n",
       "      <td>../data/Voices_wav/Norm/N-0922-RAT-1-bike.wav</td>\n",
       "      <td>0</td>\n",
       "      <td>-132.111694</td>\n",
       "      <td>-78.014793</td>\n",
       "      <td>-81.933823</td>\n",
       "      <td>-88.991348</td>\n",
       "      <td>-93.623466</td>\n",
       "      <td>-76.771866</td>\n",
       "      <td>-21.169638</td>\n",
       "      <td>-0.507260</td>\n",
       "      <td>...</td>\n",
       "      <td>0.0</td>\n",
       "      <td>0.0</td>\n",
       "      <td>0.0</td>\n",
       "      <td>0.0</td>\n",
       "      <td>0.0</td>\n",
       "      <td>0.0</td>\n",
       "      <td>0.0</td>\n",
       "      <td>0.0</td>\n",
       "      <td>0.0</td>\n",
       "      <td>0.0</td>\n",
       "    </tr>\n",
       "  </tbody>\n",
       "</table>\n",
       "<p>5 rows × 31747 columns</p>\n",
       "</div>"
      ]
     },
     "execution_count": 48,
     "metadata": {},
     "output_type": "execute_result"
    }
   ],
   "execution_count": 48
  },
  {
   "metadata": {
    "ExecuteTime": {
     "end_time": "2025-03-15T12:50:04.962364Z",
     "start_time": "2025-03-15T12:50:04.950791Z"
    }
   },
   "cell_type": "code",
   "source": [
    "test_data_mfcc[\"ID\"] = test_data_mfcc[\"file_name\"].apply(lambda x: str(x).split(\"-\")[0] + str(x).split(\"-\")[1])\n",
    "test_data_mfcc.head()"
   ],
   "id": "5310384fea178f45",
   "outputs": [
    {
     "data": {
      "text/plain": [
       "                                       file_name  label           0  \\\n",
       "0  ../data/Voices_wav/Norm/N-0988-RAT-1-robb.wav      0 -133.220810   \n",
       "1  ../data/Voices_wav/Norm/N-0988-RAT-1-bike.wav      0 -127.859444   \n",
       "2  ../data/Voices_wav/Norm/N-0982-RAT-1-robb.wav      0 -133.322495   \n",
       "3  ../data/Voices_wav/Norm/N-0982-RAT-1-bike.wav      0 -133.801498   \n",
       "4  ../data/Voices_wav/Norm/N-0922-RAT-1-bike.wav      0 -132.111694   \n",
       "\n",
       "           1          2          3          4          5          6  \\\n",
       "0 -86.438217 -50.233150   2.749326 -67.728760 -75.160988 -42.209667   \n",
       "1 -57.902290   4.641314  19.603796  38.635742  42.423389  42.932121   \n",
       "2 -91.622047 -31.579760 -27.227444  26.310484  67.676003  48.572411   \n",
       "3 -88.440720 -59.631699 -19.610685 -25.806852  48.195946  70.444359   \n",
       "4 -78.014793 -81.933823 -88.991348 -93.623466 -76.771866 -21.169638   \n",
       "\n",
       "           7  ...  31736  31737  31738  31739  31740  31741  31742  31743  \\\n",
       "0 -38.456062  ...    0.0    0.0    0.0    0.0    0.0    0.0    0.0    0.0   \n",
       "1  39.175602  ...    0.0    0.0    0.0    0.0    0.0    0.0    0.0    0.0   \n",
       "2 -63.792099  ...    0.0    0.0    0.0    0.0    0.0    0.0    0.0    0.0   \n",
       "3  26.359131  ...    0.0    0.0    0.0    0.0    0.0    0.0    0.0    0.0   \n",
       "4  -0.507260  ...    0.0    0.0    0.0    0.0    0.0    0.0    0.0    0.0   \n",
       "\n",
       "   31744                             ID  \n",
       "0    0.0  ../data/Voices_wav/Norm/N0988  \n",
       "1    0.0  ../data/Voices_wav/Norm/N0988  \n",
       "2    0.0  ../data/Voices_wav/Norm/N0982  \n",
       "3    0.0  ../data/Voices_wav/Norm/N0982  \n",
       "4    0.0  ../data/Voices_wav/Norm/N0922  \n",
       "\n",
       "[5 rows x 31748 columns]"
      ],
      "text/html": [
       "<div>\n",
       "<style scoped>\n",
       "    .dataframe tbody tr th:only-of-type {\n",
       "        vertical-align: middle;\n",
       "    }\n",
       "\n",
       "    .dataframe tbody tr th {\n",
       "        vertical-align: top;\n",
       "    }\n",
       "\n",
       "    .dataframe thead th {\n",
       "        text-align: right;\n",
       "    }\n",
       "</style>\n",
       "<table border=\"1\" class=\"dataframe\">\n",
       "  <thead>\n",
       "    <tr style=\"text-align: right;\">\n",
       "      <th></th>\n",
       "      <th>file_name</th>\n",
       "      <th>label</th>\n",
       "      <th>0</th>\n",
       "      <th>1</th>\n",
       "      <th>2</th>\n",
       "      <th>3</th>\n",
       "      <th>4</th>\n",
       "      <th>5</th>\n",
       "      <th>6</th>\n",
       "      <th>7</th>\n",
       "      <th>...</th>\n",
       "      <th>31736</th>\n",
       "      <th>31737</th>\n",
       "      <th>31738</th>\n",
       "      <th>31739</th>\n",
       "      <th>31740</th>\n",
       "      <th>31741</th>\n",
       "      <th>31742</th>\n",
       "      <th>31743</th>\n",
       "      <th>31744</th>\n",
       "      <th>ID</th>\n",
       "    </tr>\n",
       "  </thead>\n",
       "  <tbody>\n",
       "    <tr>\n",
       "      <th>0</th>\n",
       "      <td>../data/Voices_wav/Norm/N-0988-RAT-1-robb.wav</td>\n",
       "      <td>0</td>\n",
       "      <td>-133.220810</td>\n",
       "      <td>-86.438217</td>\n",
       "      <td>-50.233150</td>\n",
       "      <td>2.749326</td>\n",
       "      <td>-67.728760</td>\n",
       "      <td>-75.160988</td>\n",
       "      <td>-42.209667</td>\n",
       "      <td>-38.456062</td>\n",
       "      <td>...</td>\n",
       "      <td>0.0</td>\n",
       "      <td>0.0</td>\n",
       "      <td>0.0</td>\n",
       "      <td>0.0</td>\n",
       "      <td>0.0</td>\n",
       "      <td>0.0</td>\n",
       "      <td>0.0</td>\n",
       "      <td>0.0</td>\n",
       "      <td>0.0</td>\n",
       "      <td>../data/Voices_wav/Norm/N0988</td>\n",
       "    </tr>\n",
       "    <tr>\n",
       "      <th>1</th>\n",
       "      <td>../data/Voices_wav/Norm/N-0988-RAT-1-bike.wav</td>\n",
       "      <td>0</td>\n",
       "      <td>-127.859444</td>\n",
       "      <td>-57.902290</td>\n",
       "      <td>4.641314</td>\n",
       "      <td>19.603796</td>\n",
       "      <td>38.635742</td>\n",
       "      <td>42.423389</td>\n",
       "      <td>42.932121</td>\n",
       "      <td>39.175602</td>\n",
       "      <td>...</td>\n",
       "      <td>0.0</td>\n",
       "      <td>0.0</td>\n",
       "      <td>0.0</td>\n",
       "      <td>0.0</td>\n",
       "      <td>0.0</td>\n",
       "      <td>0.0</td>\n",
       "      <td>0.0</td>\n",
       "      <td>0.0</td>\n",
       "      <td>0.0</td>\n",
       "      <td>../data/Voices_wav/Norm/N0988</td>\n",
       "    </tr>\n",
       "    <tr>\n",
       "      <th>2</th>\n",
       "      <td>../data/Voices_wav/Norm/N-0982-RAT-1-robb.wav</td>\n",
       "      <td>0</td>\n",
       "      <td>-133.322495</td>\n",
       "      <td>-91.622047</td>\n",
       "      <td>-31.579760</td>\n",
       "      <td>-27.227444</td>\n",
       "      <td>26.310484</td>\n",
       "      <td>67.676003</td>\n",
       "      <td>48.572411</td>\n",
       "      <td>-63.792099</td>\n",
       "      <td>...</td>\n",
       "      <td>0.0</td>\n",
       "      <td>0.0</td>\n",
       "      <td>0.0</td>\n",
       "      <td>0.0</td>\n",
       "      <td>0.0</td>\n",
       "      <td>0.0</td>\n",
       "      <td>0.0</td>\n",
       "      <td>0.0</td>\n",
       "      <td>0.0</td>\n",
       "      <td>../data/Voices_wav/Norm/N0982</td>\n",
       "    </tr>\n",
       "    <tr>\n",
       "      <th>3</th>\n",
       "      <td>../data/Voices_wav/Norm/N-0982-RAT-1-bike.wav</td>\n",
       "      <td>0</td>\n",
       "      <td>-133.801498</td>\n",
       "      <td>-88.440720</td>\n",
       "      <td>-59.631699</td>\n",
       "      <td>-19.610685</td>\n",
       "      <td>-25.806852</td>\n",
       "      <td>48.195946</td>\n",
       "      <td>70.444359</td>\n",
       "      <td>26.359131</td>\n",
       "      <td>...</td>\n",
       "      <td>0.0</td>\n",
       "      <td>0.0</td>\n",
       "      <td>0.0</td>\n",
       "      <td>0.0</td>\n",
       "      <td>0.0</td>\n",
       "      <td>0.0</td>\n",
       "      <td>0.0</td>\n",
       "      <td>0.0</td>\n",
       "      <td>0.0</td>\n",
       "      <td>../data/Voices_wav/Norm/N0982</td>\n",
       "    </tr>\n",
       "    <tr>\n",
       "      <th>4</th>\n",
       "      <td>../data/Voices_wav/Norm/N-0922-RAT-1-bike.wav</td>\n",
       "      <td>0</td>\n",
       "      <td>-132.111694</td>\n",
       "      <td>-78.014793</td>\n",
       "      <td>-81.933823</td>\n",
       "      <td>-88.991348</td>\n",
       "      <td>-93.623466</td>\n",
       "      <td>-76.771866</td>\n",
       "      <td>-21.169638</td>\n",
       "      <td>-0.507260</td>\n",
       "      <td>...</td>\n",
       "      <td>0.0</td>\n",
       "      <td>0.0</td>\n",
       "      <td>0.0</td>\n",
       "      <td>0.0</td>\n",
       "      <td>0.0</td>\n",
       "      <td>0.0</td>\n",
       "      <td>0.0</td>\n",
       "      <td>0.0</td>\n",
       "      <td>0.0</td>\n",
       "      <td>../data/Voices_wav/Norm/N0922</td>\n",
       "    </tr>\n",
       "  </tbody>\n",
       "</table>\n",
       "<p>5 rows × 31748 columns</p>\n",
       "</div>"
      ]
     },
     "execution_count": 49,
     "metadata": {},
     "output_type": "execute_result"
    }
   ],
   "execution_count": 49
  },
  {
   "metadata": {},
   "cell_type": "markdown",
   "source": "Здесь мы просто поменяли метрику. Т.к. у большинства пациентов есть по несколько аудиозаписей, то здесь было решено предсказывать не класс аудиозаписи, а класс самого пациента. (Получаем предсказания для всех аудио и берём моду от них)",
   "id": "5f4c6ddb8b033f40"
  },
  {
   "metadata": {
    "ExecuteTime": {
     "end_time": "2025-03-15T12:50:05.266800Z",
     "start_time": "2025-03-15T12:50:04.963427Z"
    }
   },
   "cell_type": "code",
   "source": [
    "IDs = test_data_mfcc[\"ID\"].unique()\n",
    "\n",
    "all_preds = []\n",
    "all_labels = []\n",
    "\n",
    "for participant_id in tqdm(IDs):\n",
    "    participant_samples = test_data_mfcc[test_data_mfcc[\"ID\"] == participant_id]\n",
    "    labels = participant_samples[\"label\"]\n",
    "    features = participant_samples.iloc[:, 2:-1]\n",
    "\n",
    "    pred = scipy.stats.mode(automl_mfcc.predict(features.values))\n",
    "\n",
    "    all_preds.append(pred.mode)\n",
    "\n",
    "    all_labels.append(labels.values[0])\n",
    "\n",
    "all_preds = np.array(all_preds)\n",
    "all_labels = np.array(all_labels)\n",
    "\n",
    "print(classification_report(all_labels, all_preds))"
   ],
   "id": "4ce66a75458621af",
   "outputs": [
    {
     "name": "stderr",
     "output_type": "stream",
     "text": [
      "100%|██████████| 72/72 [00:00<00:00, 248.67it/s]"
     ]
    },
    {
     "name": "stdout",
     "output_type": "stream",
     "text": [
      "              precision    recall  f1-score   support\n",
      "\n",
      "           0       0.67      0.76      0.71        21\n",
      "           1       0.90      0.84      0.87        51\n",
      "\n",
      "    accuracy                           0.82        72\n",
      "   macro avg       0.78      0.80      0.79        72\n",
      "weighted avg       0.83      0.82      0.82        72\n",
      "\n"
     ]
    },
    {
     "name": "stderr",
     "output_type": "stream",
     "text": [
      "\n"
     ]
    }
   ],
   "execution_count": 50
  },
  {
   "metadata": {
    "ExecuteTime": {
     "end_time": "2025-03-15T13:07:45.998181Z",
     "start_time": "2025-03-15T13:07:45.993540Z"
    }
   },
   "cell_type": "code",
   "source": [
    "test_data_prosody = pd.concat([test_data, pd.DataFrame(test_data_prosody)], axis=1)\n",
    "test_data_prosody[\"ID\"] = test_data_prosody[\"file_name\"].apply(lambda x: str(x).split(\"-\")[0] + str(x).split(\"-\")[1])"
   ],
   "id": "9402e9cb2cfa4158",
   "outputs": [],
   "execution_count": 51
  },
  {
   "metadata": {
    "ExecuteTime": {
     "end_time": "2025-03-15T13:08:15.001836Z",
     "start_time": "2025-03-15T13:08:14.693802Z"
    }
   },
   "cell_type": "code",
   "source": [
    "IDs = test_data_prosody[\"ID\"].unique()\n",
    "\n",
    "all_preds = []\n",
    "all_labels = []\n",
    "\n",
    "for participant_id in tqdm(IDs):\n",
    "    participant_samples = test_data_prosody[test_data_prosody[\"ID\"] == participant_id]\n",
    "    labels = participant_samples[\"label\"]\n",
    "    features = participant_samples.iloc[:, 2:-1]\n",
    "\n",
    "    pred = scipy.stats.mode(automl_prosody.predict(features.values))\n",
    "\n",
    "    all_preds.append(pred.mode)\n",
    "\n",
    "    all_labels.append(labels.values[0])\n",
    "\n",
    "all_preds = np.array(all_preds)\n",
    "all_labels = np.array(all_labels)\n",
    "\n",
    "print(classification_report(all_labels, all_preds))"
   ],
   "id": "14ee38db754a9ba6",
   "outputs": [
    {
     "name": "stderr",
     "output_type": "stream",
     "text": [
      "100%|██████████| 72/72 [00:00<00:00, 246.54it/s]\n"
     ]
    },
    {
     "name": "stdout",
     "output_type": "stream",
     "text": [
      "              precision    recall  f1-score   support\n",
      "\n",
      "           0       0.88      0.71      0.79        21\n",
      "           1       0.89      0.96      0.92        51\n",
      "\n",
      "    accuracy                           0.89        72\n",
      "   macro avg       0.89      0.84      0.86        72\n",
      "weighted avg       0.89      0.89      0.89        72\n",
      "\n"
     ]
    }
   ],
   "execution_count": 52
  },
  {
   "metadata": {},
   "cell_type": "code",
   "outputs": [],
   "execution_count": null,
   "source": "",
   "id": "46e5c417cef93b69"
  }
 ],
 "metadata": {
  "kernelspec": {
   "display_name": "Python 3",
   "language": "python",
   "name": "python3"
  },
  "language_info": {
   "codemirror_mode": {
    "name": "ipython",
    "version": 2
   },
   "file_extension": ".py",
   "mimetype": "text/x-python",
   "name": "python",
   "nbconvert_exporter": "python",
   "pygments_lexer": "ipython2",
   "version": "2.7.6"
  }
 },
 "nbformat": 4,
 "nbformat_minor": 5
}

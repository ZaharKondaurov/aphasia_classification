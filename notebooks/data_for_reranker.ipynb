{
 "cells": [
  {
   "cell_type": "code",
   "id": "initial_id",
   "metadata": {
    "collapsed": true,
    "ExecuteTime": {
     "end_time": "2025-08-30T10:11:42.089652Z",
     "start_time": "2025-08-30T10:11:32.804053Z"
    }
   },
   "source": [
    "import warnings\n",
    "for warn in [UserWarning, FutureWarning]: warnings.filterwarnings(\"ignore\", category = warn)\n",
    "\n",
    "import os\n",
    "import time\n",
    "import torch\n",
    "import torch.nn as nn\n",
    "import torch.nn.functional as F\n",
    "import torch.optim as optim\n",
    "from torch import hub\n",
    "from torch.utils.data import Dataset, DataLoader\n",
    "import torchaudio\n",
    "from torchaudio.transforms import Resample\n",
    "\n",
    "import numpy as np\n",
    "import pandas as pd\n",
    "\n",
    "from sklearn.metrics import f1_score, recall_score, precision_score, balanced_accuracy_score, accuracy_score, classification_report\n",
    "from sklearn.model_selection import train_test_split\n",
    "from sklearn.utils import shuffle\n",
    "\n",
    "import scipy\n",
    "\n",
    "from src.utils import *\n",
    "\n",
    "from tqdm import tqdm\n",
    "\n",
    "from datasets import load_dataset, Dataset, Audio\n",
    "import librosa\n",
    "\n",
    "from models.cnn import MobileNet\n",
    "from models.CarefulWhisper import CarefulWhisper, WhisperW2V\n",
    "\n",
    "from flaml import AutoML"
   ],
   "outputs": [
    {
     "name": "stderr",
     "output_type": "stream",
     "text": [
      "2025-08-30 13:11:39.243092: I tensorflow/core/util/port.cc:153] oneDNN custom operations are on. You may see slightly different numerical results due to floating-point round-off errors from different computation orders. To turn them off, set the environment variable `TF_ENABLE_ONEDNN_OPTS=0`.\n",
      "2025-08-30 13:11:39.358997: E external/local_xla/xla/stream_executor/cuda/cuda_fft.cc:467] Unable to register cuFFT factory: Attempting to register factory for plugin cuFFT when one has already been registered\n",
      "WARNING: All log messages before absl::InitializeLog() is called are written to STDERR\n",
      "E0000 00:00:1756548699.411335   36262 cuda_dnn.cc:8579] Unable to register cuDNN factory: Attempting to register factory for plugin cuDNN when one has already been registered\n",
      "E0000 00:00:1756548699.424148   36262 cuda_blas.cc:1407] Unable to register cuBLAS factory: Attempting to register factory for plugin cuBLAS when one has already been registered\n",
      "W0000 00:00:1756548699.532917   36262 computation_placer.cc:177] computation placer already registered. Please check linkage and avoid linking the same target more than once.\n",
      "W0000 00:00:1756548699.532935   36262 computation_placer.cc:177] computation placer already registered. Please check linkage and avoid linking the same target more than once.\n",
      "W0000 00:00:1756548699.532936   36262 computation_placer.cc:177] computation placer already registered. Please check linkage and avoid linking the same target more than once.\n",
      "W0000 00:00:1756548699.532937   36262 computation_placer.cc:177] computation placer already registered. Please check linkage and avoid linking the same target more than once.\n",
      "2025-08-30 13:11:39.540784: I tensorflow/core/platform/cpu_feature_guard.cc:210] This TensorFlow binary is optimized to use available CPU instructions in performance-critical operations.\n",
      "To enable the following instructions: AVX2 AVX_VNNI FMA, in other operations, rebuild TensorFlow with the appropriate compiler flags.\n"
     ]
    }
   ],
   "execution_count": 1
  },
  {
   "metadata": {
    "ExecuteTime": {
     "end_time": "2025-08-30T10:11:42.096608Z",
     "start_time": "2025-08-30T10:11:42.090645Z"
    }
   },
   "cell_type": "code",
   "source": [
    "SEED = 1984\n",
    "\n",
    "np.random.seed(SEED)\n",
    "torch.manual_seed(SEED)\n",
    "\n",
    "gen = torch.Generator()\n",
    "gen.manual_seed(SEED)"
   ],
   "id": "fe094a6cf05a1b55",
   "outputs": [
    {
     "data": {
      "text/plain": [
       "<torch._C.Generator at 0x735039631eb0>"
      ]
     },
     "execution_count": 2,
     "metadata": {},
     "output_type": "execute_result"
    }
   ],
   "execution_count": 2
  },
  {
   "metadata": {
    "ExecuteTime": {
     "end_time": "2025-08-30T10:11:42.104131Z",
     "start_time": "2025-08-30T10:11:42.097176Z"
    }
   },
   "cell_type": "code",
   "source": [
    "DATA_DIR = os.path.join('..', 'data')\n",
    "VOICES_DIR = os.path.join(DATA_DIR, 'Voices_wav')\n",
    "APHASIA_DIR = os.path.join(VOICES_DIR, 'Aphasia')\n",
    "NORM_DIR = os.path.join(VOICES_DIR, 'Norm')\n",
    "\n",
    "# dataset_train = AphasiaDatasetWaveform(os.path.join(DATA_DIR, \"train_filenames_mc.csv\"), VOICES_DIR, target_sample_rate=16_000, file_format=\"wav\")\n",
    "# dataset_val = AphasiaDatasetWaveform(os.path.join(DATA_DIR, \"val_filenames_mc.csv\"), VOICES_DIR, target_sample_rate=16_000, file_format=\"wav\")\n",
    "# dataset_test = AphasiaDatasetWaveform(os.path.join(DATA_DIR, \"test_filenames_mc.csv\"), VOICES_DIR, target_sample_rate=16_000, file_format=\"wav\")"
   ],
   "id": "412a4cc09f288e9b",
   "outputs": [],
   "execution_count": 3
  },
  {
   "metadata": {
    "ExecuteTime": {
     "end_time": "2025-08-30T10:11:50.968484Z",
     "start_time": "2025-08-30T10:11:42.105189Z"
    }
   },
   "cell_type": "code",
   "source": "model = WhisperW2V(\"cuda\")",
   "id": "b389f8cbfd5fcd31",
   "outputs": [
    {
     "name": "stderr",
     "output_type": "stream",
     "text": [
      "Device set to use cuda\n"
     ]
    }
   ],
   "execution_count": 4
  },
  {
   "metadata": {
    "ExecuteTime": {
     "end_time": "2025-08-30T10:11:50.972589Z",
     "start_time": "2025-08-30T10:11:50.969437Z"
    }
   },
   "cell_type": "code",
   "source": [
    "def preprocess_audio(dataset):\n",
    "    data = []\n",
    "    for ind, x in tqdm(dataset.iterrows()):\n",
    "        if x[\"label\"] == 0:\n",
    "            file_path = os.path.join(NORM_DIR, x[\"file_name\"])\n",
    "        else:\n",
    "            file_path = os.path.join(APHASIA_DIR, x[\"file_name\"])\n",
    "        waveform, sample_rate = torchaudio.load(file_path)\n",
    "    \n",
    "        if sample_rate != 16_000:\n",
    "            resampler = Resample(sample_rate, 16_000)\n",
    "            waveform = resampler(waveform)\n",
    "        waveform = waveform[..., :16_000 * 20]\n",
    "        clean, acoustic = model(waveform)\n",
    "        data.append((clean, acoustic, x[\"label\"]))\n",
    "    return data"
   ],
   "id": "864368089077f098",
   "outputs": [],
   "execution_count": 5
  },
  {
   "metadata": {
    "ExecuteTime": {
     "end_time": "2025-08-30T10:11:50.995602Z",
     "start_time": "2025-08-30T10:11:50.973244Z"
    }
   },
   "cell_type": "code",
   "source": "dataset_train = pd.read_csv(os.path.join(DATA_DIR, 'test_filenames.csv'))",
   "id": "af6f3c012747f3a1",
   "outputs": [],
   "execution_count": 6
  },
  {
   "metadata": {
    "ExecuteTime": {
     "end_time": "2025-08-30T11:18:47.874170Z",
     "start_time": "2025-08-30T10:11:50.996371Z"
    }
   },
   "cell_type": "code",
   "source": "train_texts = preprocess_audio(dataset_train)",
   "id": "5be0b436fee8a2ea",
   "outputs": [
    {
     "name": "stderr",
     "output_type": "stream",
     "text": [
      "0it [00:00, ?it/s]The attention mask is not set and cannot be inferred from input because pad token is same as eos token. As a consequence, you may observe unexpected behavior. Please pass your input's `attention_mask` to obtain reliable results.\n",
      "10it [04:10, 24.88s/it]You seem to be using the pipelines sequentially on GPU. In order to maximize efficiency please use a dataset\n",
      "172it [1:06:56, 23.35s/it]\n"
     ]
    }
   ],
   "execution_count": 7
  },
  {
   "metadata": {
    "ExecuteTime": {
     "end_time": "2025-08-30T11:18:47.928683Z",
     "start_time": "2025-08-30T11:18:47.891253Z"
    }
   },
   "cell_type": "code",
   "source": "df = pd.DataFrame(data=train_texts, columns=['clean', 'acoustic', 'target'])",
   "id": "cb8c2cc0a2208e5b",
   "outputs": [],
   "execution_count": 8
  },
  {
   "metadata": {
    "ExecuteTime": {
     "end_time": "2025-08-30T11:18:48.013671Z",
     "start_time": "2025-08-30T11:18:47.930252Z"
    }
   },
   "cell_type": "code",
   "source": "df.to_csv(os.path.join(DATA_DIR, 'test_text_data.csv'), index=False)",
   "id": "bf9accf4de0cae6e",
   "outputs": [],
   "execution_count": 9
  },
  {
   "metadata": {
    "ExecuteTime": {
     "end_time": "2025-08-30T11:18:48.041887Z",
     "start_time": "2025-08-30T11:18:48.015284Z"
    }
   },
   "cell_type": "code",
   "source": "df = pd.read_csv(os.path.join(DATA_DIR, 'test_text_data.csv'))",
   "id": "8800ea5b9f68a3a6",
   "outputs": [],
   "execution_count": 10
  },
  {
   "metadata": {
    "ExecuteTime": {
     "end_time": "2025-08-30T11:18:48.127918Z",
     "start_time": "2025-08-30T11:18:48.048710Z"
    }
   },
   "cell_type": "code",
   "source": [
    "train_data_json = []\n",
    "\n",
    "for i, row in df.iterrows():\n",
    "    instance = {}\n",
    "    instance[\"query\"] = row[\"clean\"]\n",
    "    if row[\"target\"] == 0:\n",
    "        positive_text = df[df[\"target\"] != 0].sample(1)[\"acoustic\"].values[0]\n",
    "        instance[\"pos\"] = [positive_text]\n",
    "        instance[\"neg\"] = [row[\"acoustic\"]]\n",
    "    if row[\"target\"] == 1:\n",
    "        instance[\"pos\"] = [row[\"acoustic\"]]\n",
    "        negative_text = df[df[\"target\"] == 0].sample(1)[\"acoustic\"].values[0]\n",
    "        instance[\"neg\"] = [negative_text]\n",
    "    instance[\"pos_scores\"] = [1.0]\n",
    "    instance[\"neg_scores\"] = [0.0]\n",
    "    instance[\"prompt\"] = row[\"acoustic\"]\n",
    "    train_data_json.append(instance)"
   ],
   "id": "6a65fe4530e587a0",
   "outputs": [],
   "execution_count": 11
  },
  {
   "metadata": {
    "ExecuteTime": {
     "end_time": "2025-08-30T11:18:48.140659Z",
     "start_time": "2025-08-30T11:18:48.128869Z"
    }
   },
   "cell_type": "code",
   "source": "train_data_json[0]",
   "id": "480fbc4d686afad7",
   "outputs": [
    {
     "data": {
      "text/plain": [
       "{'query': 'Было прекрасное осеннее утро, ну, или августовское, можно сказать, даже, теплое такое, хорошее.',\n",
       " 'pos': ['ать историю рассказать беди двушка шел с качина звиной звершино проехала и моне изяскила это собери себе вот'],\n",
       " 'neg': ['было прекрасное синее утро нуля августовское можно скоять дляжен теплое такое хорошее и'],\n",
       " 'pos_scores': [1.0],\n",
       " 'neg_scores': [0.0],\n",
       " 'prompt': 'было прекрасное синее утро нуля августовское можно скоять дляжен теплое такое хорошее и'}"
      ]
     },
     "execution_count": 12,
     "metadata": {},
     "output_type": "execute_result"
    }
   ],
   "execution_count": 12
  },
  {
   "metadata": {
    "ExecuteTime": {
     "end_time": "2025-08-30T11:18:48.154749Z",
     "start_time": "2025-08-30T11:18:48.141581Z"
    }
   },
   "cell_type": "code",
   "source": [
    "import json\n",
    "\n",
    "json.dump(train_data_json, open(os.path.join(DATA_DIR, 'train.json'), 'w'))"
   ],
   "id": "34c1c696b43b819a",
   "outputs": [],
   "execution_count": 13
  },
  {
   "metadata": {
    "ExecuteTime": {
     "end_time": "2025-08-30T11:18:48.157568Z",
     "start_time": "2025-08-30T11:18:48.155916Z"
    }
   },
   "cell_type": "code",
   "source": "",
   "id": "6fb76165f89ba021",
   "outputs": [],
   "execution_count": 13
  }
 ],
 "metadata": {
  "kernelspec": {
   "display_name": "Python 3",
   "language": "python",
   "name": "python3"
  },
  "language_info": {
   "codemirror_mode": {
    "name": "ipython",
    "version": 2
   },
   "file_extension": ".py",
   "mimetype": "text/x-python",
   "name": "python",
   "nbconvert_exporter": "python",
   "pygments_lexer": "ipython2",
   "version": "2.7.6"
  }
 },
 "nbformat": 4,
 "nbformat_minor": 5
}

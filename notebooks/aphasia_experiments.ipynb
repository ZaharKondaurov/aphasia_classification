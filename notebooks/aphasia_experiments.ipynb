{
  "cells": [
    {
      "cell_type": "markdown",
      "id": "c77b5e42-c4ad-45c7-9b65-0364b4b1dd10",
      "metadata": {},
      "source": [
        "В 1 случае мы нарезаем аудио всего датасета на фрагменты по 10-15 секунд, валидация - также на нарезанных кусках аудио.\n",
        "\n",
        "Обучение было на суперкомпе, здесь только результаты и код:"
      ]
    },
    {
      "cell_type": "code",
      "execution_count": 1,
      "id": "38eecf7d-acc4-4c4d-b779-ec868d827408",
      "metadata": {},
      "outputs": [],
      "source": [
        "import os\n",
        "import random\n",
        "import time\n",
        "from collections import Counter\n",
        "from io import BytesIO\n",
        "\n",
        "import librosa\n",
        "import numpy as np\n",
        "import torch\n",
        "import torchaudio\n",
        "from pydub import AudioSegment\n",
        "from sklearn.metrics import accuracy_score, precision_score, recall_score, f1_score\n",
        "from torch import nn, optim\n",
        "from torch.optim import Adam\n",
        "from torch.optim.lr_scheduler import CosineAnnealingLR, ReduceLROnPlateau\n",
        "from torch.utils.data import Dataset, DataLoader, random_split, WeightedRandomSampler\n",
        "from torchaudio.transforms import Resample\n",
        "from tqdm import tqdm"
      ]
    },
    {
      "cell_type": "code",
      "execution_count": 2,
      "id": "59342f88-931d-4b59-9c8f-6cf55e619761",
      "metadata": {},
      "outputs": [],
      "source": [
        "class AphasiaDataset(Dataset):\n",
        "    def __init__(self, csv_file, root_dir, target_sample_rate=16000, fft_size=512, \n",
        "                 hop_length=256, win_length=512, min_duration=10, max_duration=15):\n",
        "        self.root_dir = root_dir\n",
        "        self.target_sample_rate = target_sample_rate\n",
        "        self.fft_size = fft_size\n",
        "        self.hop_length = hop_length\n",
        "        self.win_length = win_length\n",
        "        self.min_duration = min_duration * 1000  # конвертируем в миллисекунды\n",
        "        self.max_duration = max_duration * 1000\n",
        "        self.data = []\n",
        "\n",
        "        # Загружаем список файлов из CSV\n",
        "        df = pd.read_csv(csv_file)\n",
        "\n",
        "        # Обработка и сегментация аудио\n",
        "        for _, row in df.iterrows():\n",
        "            file_name, label = row['file_name'], row['label']\n",
        "            file_path = self.find_audio_file(file_name, label)\n",
        "            if file_path:\n",
        "                try:\n",
        "                    segments = self.process_audio(file_path)\n",
        "                    self.data.extend([(s, label) for s in segments])\n",
        "                except Exception as e:\n",
        "                    print(f\"Error processing {file_path}: {str(e)}\")\n",
        "        \n",
        "        random.shuffle(self.data)\n",
        "    \n",
        "    def find_audio_file(self, file_name, label):\n",
        "        \"\"\"Ищем файл в соответствующей папке по метке\"\"\"\n",
        "        folder = \"Aphasia\" if label == 1 else \"Norm\"\n",
        "        file_name = file_name[:-4]\n",
        "        file_path = os.path.join(self.root_dir, folder, f\"{file_name}.3gp\")  # Убрано \".wav\"\n",
        "        if os.path.exists(file_path):\n",
        "            return file_path\n",
        "        print(f\"Warning: {file_name}.3gp not found in {folder} folder.\")\n",
        "        return None\n",
        "\n",
        "    def process_audio(self, file_path):\n",
        "        audio = AudioSegment.from_file(file_path, format=\"3gp\")\n",
        "        duration = len(audio)  # в миллисекундах\n",
        "        segments = []\n",
        "\n",
        "        if duration < self.min_duration:\n",
        "            return [self.create_spectrogram(audio)]\n",
        "\n",
        "        start = 0\n",
        "        while start + self.min_duration <= duration:\n",
        "            segment_duration = min(random.randint(self.min_duration, self.max_duration), duration - start)\n",
        "            end = start + segment_duration\n",
        "            segment = audio[start:end]\n",
        "            spectrogram = self.create_spectrogram(segment)\n",
        "            if spectrogram is not None:\n",
        "                segments.append(spectrogram)\n",
        "            start = end\n",
        "        return segments\n",
        "\n",
        "    def create_spectrogram(self, segment):\n",
        "        try:\n",
        "            buffer = BytesIO()\n",
        "            segment.export(buffer, format=\"wav\")\n",
        "            buffer.seek(0)\n",
        "            waveform, sample_rate = torchaudio.load(buffer)\n",
        "            \n",
        "            if sample_rate != self.target_sample_rate:\n",
        "                resampler = Resample(sample_rate, self.target_sample_rate)\n",
        "                waveform = resampler(waveform)\n",
        "            \n",
        "            if waveform.shape[1] < self.fft_size:\n",
        "                return None\n",
        "            \n",
        "            y = waveform.numpy().squeeze()\n",
        "            spectrogram = librosa.stft(y, n_fft=self.fft_size, hop_length=self.hop_length, win_length=self.win_length)\n",
        "            mag = np.abs(spectrogram).astype(np.float32)\n",
        "            return torch.tensor(mag.T).unsqueeze(0)  # (1, T, F)\n",
        "        except Exception as e:\n",
        "            print(f\"Spectrogram error: {str(e)}\")\n",
        "            return None\n",
        "\n",
        "    def __len__(self):\n",
        "        return len(self.data)\n",
        "\n",
        "    def __getitem__(self, idx):\n",
        "        spectrogram, label = self.data[idx]\n",
        "        return spectrogram, torch.tensor(label, dtype=torch.long)\n",
        "\n",
        "def pad_sequence(batch):\n",
        "    if not batch:\n",
        "        return torch.zeros(0), torch.zeros(0)\n",
        "    \n",
        "    spectrograms, labels = zip(*batch)\n",
        "    max_len = max(s.shape[1] for s in spectrograms)\n",
        "    freq_bins = spectrograms[0].shape[2]\n",
        "    \n",
        "    padded = torch.zeros(len(spectrograms), 1, max_len, freq_bins)\n",
        "    for i, s in enumerate(spectrograms):\n",
        "        padded[i, :, :s.shape[1], :] = s\n",
        "    \n",
        "    return padded, torch.stack(labels) \n"
      ]
    },
    {
      "cell_type": "markdown",
      "id": "c3a06832-3e51-43dd-b507-0cf98d78cf7e",
      "metadata": {},
      "source": [
        "Сэмплер"
      ]
    },
    {
      "cell_type": "code",
      "execution_count": 3,
      "id": "958adce4-2f53-4681-891d-0bbc60cd69ba",
      "metadata": {},
      "outputs": [],
      "source": [
        "root_dir = \"aphasia\"\n",
        "train_dataset = AphasiaDataset(\"splited_data/train_filenames.csv\", root_dir)\n",
        "test_dataset = AphasiaDataset(\"splited_data/test_filenames.csv\", root_dir)\n",
        "val_dataset = AphasiaDataset(\"splited_data/val_filenames.csv\", root_dir)\n",
        "\n",
        "# Балансировка классов для train\n",
        "train_labels = [label for _, label in train_dataset.data]\n",
        "class_counts = Counter(train_labels)\n",
        "if len(class_counts) < 2:\n",
        "    raise ValueError(\"Один из классов отсутствует в тренировочном наборе\")\n",
        "\n",
        "class_weights = {label: 1.0 / count for label, count in class_counts.items()}\n",
        "weights = [class_weights[label] for _, label in train_dataset.data]\n",
        "train_sampler = WeightedRandomSampler(weights, num_samples=len(train_dataset), replacement=True)"
      ]
    },
    {
      "cell_type": "code",
      "execution_count": 4,
      "id": "8feef3c2-cd46-404a-85c6-3a170fd9468f",
      "metadata": {},
      "outputs": [],
      "source": [
        "train_dataloader = DataLoader(train_dataset, batch_size=8, sampler=train_sampler, collate_fn=pad_sequence, drop_last=True)\n",
        "test_dataloader = DataLoader(test_dataset, batch_size=8, shuffle=False, collate_fn=pad_sequence, drop_last=True)\n",
        "val_dataloader = DataLoader(val_dataset, batch_size=8, shuffle=False, collate_fn=pad_sequence, drop_last=True)"
      ]
    },
    {
      "cell_type": "code",
      "execution_count": 5,
      "id": "feb3ca03-c111-489e-9d24-e4ca9c283fa5",
      "metadata": {},
      "outputs": [
        {
          "name": "stdout",
          "output_type": "stream",
          "text": [
            "313 120 107\n"
          ]
        }
      ],
      "source": [
        "print(len(train_dataloader), len(test_dataloader), len(val_dataloader))"
      ]
    },
    {
      "cell_type": "code",
      "execution_count": 6,
      "id": "ff5b17a7-4963-458b-b347-d748c139df89",
      "metadata": {},
      "outputs": [],
      "source": [
        "class CNNModel(nn.Module):\n",
        "    def __init__(self, num_classes=2):\n",
        "        super(CNNModel, self).__init__()\n",
        "\n",
        "        self.conv_layers = nn.Sequential(\n",
        "            nn.Conv2d(1, 32, kernel_size=(3, 3), stride=(1, 1), padding=(1, 1)),  # Conv 1\n",
        "            nn.BatchNorm2d(32),\n",
        "            nn.ReLU(),\n",
        "            nn.Conv2d(32, 64, kernel_size=(3, 3), stride=(1, 1), padding=(1, 1)), # Conv 2\n",
        "            nn.BatchNorm2d(64),\n",
        "            nn.ReLU(),\n",
        "            nn.MaxPool2d(kernel_size=(2, 2)),\n",
        "\n",
        "            nn.Conv2d(64, 128, kernel_size=(3, 3), stride=(1, 1), padding=(1, 1)), # Conv 3\n",
        "            nn.BatchNorm2d(128),\n",
        "            nn.ReLU(),\n",
        "            nn.Conv2d(128, 256, kernel_size=(3, 3), stride=(1, 1), padding=(1, 1)), # Conv 4\n",
        "            nn.BatchNorm2d(256),\n",
        "            nn.ReLU(),\n",
        "            nn.MaxPool2d(kernel_size=(2, 2)),\n",
        "\n",
        "            nn.Conv2d(256, 512, kernel_size=(3, 3), stride=(1, 1), padding=(1, 1)), # Conv 5\n",
        "            nn.BatchNorm2d(512),\n",
        "            nn.ReLU(),\n",
        "            nn.MaxPool2d(kernel_size=(2, 2)),\n",
        "        )\n",
        "\n",
        "        self.global_avg_pool = nn.AdaptiveAvgPool2d((1, 1))  # Усреднение перед FC-слоями\n",
        "\n",
        "        self.fc_layers = nn.Sequential(\n",
        "            nn.Flatten(),\n",
        "            nn.Linear(512, 256),\n",
        "            nn.ReLU(),\n",
        "            nn.Dropout(0.5),\n",
        "            nn.Linear(256, num_classes)\n",
        "        )\n",
        "\n",
        "    def forward(self, x):\n",
        "        x = self.conv_layers(x)\n",
        "        x = self.global_avg_pool(x)\n",
        "        x = self.fc_layers(x)\n",
        "        return x\n"
      ]
    },
    {
      "cell_type": "code",
      "execution_count": 7,
      "id": "c0b90564-cf63-4ee5-bc73-bd1e49b758d3",
      "metadata": {},
      "outputs": [],
      "source": [
        "def evaluate_model(model, dataloader, criterion, device):\n",
        "    model.eval()\n",
        "    acc = 0.0\n",
        "    prec = 0.0\n",
        "    rec = 0.0\n",
        "\n",
        "    with torch.no_grad():\n",
        "        for spectrograms, labels in tqdm(dataloader, desc=\"Validation\"):\n",
        "            spectrograms = spectrograms.to(device)\n",
        "            labels = labels.to(device)\n",
        "            \n",
        "            outputs = model(spectrograms)\n",
        "            preds = torch.argmax(outputs, dim=1).cpu().numpy()  # Получаем предсказанные классы\n",
        "            labels = labels.cpu().numpy()\n",
        "            #print(preds, labels)\n",
        "            acc += accuracy_score(labels, preds)\n",
        "            prec += precision_score(labels, preds, zero_division=1)\n",
        "            rec += recall_score(labels, preds, zero_division=1)\n",
        "            #print(acc, prec, rec)\n",
        "\n",
        "    acc = acc / len(dataloader)\n",
        "    prec = prec / len(dataloader)\n",
        "    rec = rec / len(dataloader)\n",
        "\n",
        "    return acc, prec, rec"
      ]
    },
    {
      "cell_type": "code",
      "execution_count": 8,
      "id": "402b1292-5cce-4729-be0a-dad444084b0e",
      "metadata": {},
      "outputs": [],
      "source": [
        "device = torch.device(\"cuda\" if torch.cuda.is_available() else \"cpu\")\n",
        "num_classes = 2\n",
        "model = CNNModel(num_classes=2).to(device)\n",
        "\n",
        "criterion = criterion = nn.CrossEntropyLoss()\n",
        "optimizer = optim.AdamW(model.parameters(), lr=1e-3, weight_decay=1e-4)  # AdamW лучше для регуляризации\n",
        "scheduler = CosineAnnealingLR(optimizer, T_max=10, eta_min=1e-6)  # Косинусный планировщик\n",
        "\n",
        "num_epochs = 30\n",
        "los, ac, pre, re = [], [], [], []"
      ]
    },
    {
      "cell_type": "markdown",
      "id": "c4e1fb81-9c50-4c3a-86ba-ab66a3949799",
      "metadata": {},
      "source": [
        "Скрипт обучения не трогаем, идем дальше:"
      ]
    },
    {
      "cell_type": "code",
      "execution_count": 9,
      "id": "02ade558-e15c-4766-b1f0-2922a35e1303",
      "metadata": {},
      "outputs": [
        {
          "data": {
            "text/plain": [
              "'\\nfor epoch in range(1, num_epochs + 1):\\n    model.train()\\n    train_loss_list = []\\n\\n    for spectrograms, labels in tqdm(train_dataloader, desc=f\"Training Epoch {epoch}\"):\\n        spectrograms, labels = spectrograms.to(device), labels.long().to(device)\\n\\n        outputs = model(spectrograms)\\n        loss = criterion(outputs, labels)\\n\\n        optimizer.zero_grad()\\n        loss.backward()\\n        optimizer.step()\\n        train_loss_list.append(loss.item())\\n\\n    avg_train_loss = torch.tensor(train_loss_list).mean().item()\\n    acc, prec, rec = evaluate_model(model, test_dataloader, criterion, device)\\n\\n    scheduler.step()  # Обновление learning rate\\n\\n    los.append(avg_train_loss)\\n    ac.append(acc)\\n    pre.append(prec)\\n    re.append(rec)\\n\\n    print(f\"Epoch {epoch}/{num_epochs} - Train Loss: {avg_train_loss:.4f}\")\\n    print(f\"Test Metrics - Accuracy: {acc:.4f}, Precision: {prec:.4f}, Recall: {rec:.4f}\")\\n'"
            ]
          },
          "execution_count": 9,
          "metadata": {},
          "output_type": "execute_result"
        }
      ],
      "source": [
        "'''\n",
        "for epoch in range(1, num_epochs + 1):\n",
        "    model.train()\n",
        "    train_loss_list = []\n",
        "\n",
        "    for spectrograms, labels in tqdm(train_dataloader, desc=f\"Training Epoch {epoch}\"):\n",
        "        spectrograms, labels = spectrograms.to(device), labels.long().to(device)\n",
        "\n",
        "        outputs = model(spectrograms)\n",
        "        loss = criterion(outputs, labels)\n",
        "\n",
        "        optimizer.zero_grad()\n",
        "        loss.backward()\n",
        "        optimizer.step()\n",
        "        train_loss_list.append(loss.item())\n",
        "\n",
        "    avg_train_loss = torch.tensor(train_loss_list).mean().item()\n",
        "    acc, prec, rec = evaluate_model(model, test_dataloader, criterion, device)\n",
        "\n",
        "    scheduler.step()  # Обновление learning rate\n",
        "\n",
        "    los.append(avg_train_loss)\n",
        "    ac.append(acc)\n",
        "    pre.append(prec)\n",
        "    re.append(rec)\n",
        "\n",
        "    print(f\"Epoch {epoch}/{num_epochs} - Train Loss: {avg_train_loss:.4f}\")\n",
        "    print(f\"Test Metrics - Accuracy: {acc:.4f}, Precision: {prec:.4f}, Recall: {rec:.4f}\")\n",
        "'''"
      ]
    },
    {
      "cell_type": "markdown",
      "id": "6c6b7491-fc86-4b9e-a425-7fd7b53385f1",
      "metadata": {},
      "source": [
        "Валидируем лучшую модель на данный момент:\n",
        "\n",
        "параметры:\n",
        "\n",
        "30 эпоха,\n",
        "\n",
        "нарезка именно на 10-15 аудио,\n",
        "\n",
        "optimizer = optim.AdamW(model.parameters(), lr=1e-3, weight_decay=1e-4)\n",
        "\n",
        "scheduler = CosineAnnealingLR(optimizer, T_max=10, eta_min=1e-6)"
      ]
    },
    {
      "cell_type": "code",
      "execution_count": 10,
      "id": "c59ca411-2d70-4705-8c98-f14ae2c6e654",
      "metadata": {},
      "outputs": [
        {
          "data": {
            "text/plain": [
              "<All keys matched successfully>"
            ]
          },
          "execution_count": 10,
          "metadata": {},
          "output_type": "execute_result"
        }
      ],
      "source": [
        "state_dict = torch.load('aphasia_30.pt')\n",
        "model.load_state_dict(state_dict)"
      ]
    },
    {
      "cell_type": "code",
      "execution_count": 11,
      "id": "6808428b-3d09-47b0-85bd-a838e1e36df2",
      "metadata": {},
      "outputs": [
        {
          "name": "stderr",
          "output_type": "stream",
          "text": [
            "Validation: 100%|███████████████████████████████████████████████████████████| 107/107 [00:27<00:00,  3.94it/s]"
          ]
        },
        {
          "name": "stdout",
          "output_type": "stream",
          "text": [
            "Validation Metrics - Accuracy: 0.9638, Precision: 0.9848, Recall: 0.9749\n"
          ]
        },
        {
          "name": "stderr",
          "output_type": "stream",
          "text": [
            "\n"
          ]
        }
      ],
      "source": [
        "acc, prec, rec = evaluate_model(model, val_dataloader, criterion, device)\n",
        "print(f\"Validation Metrics - Accuracy: {acc:.4f}, Precision: {prec:.4f}, Recall: {rec:.4f}\")"
      ]
    },
    {
      "cell_type": "code",
      "execution_count": 12,
      "id": "abbb43da-d96a-472e-b8d9-ba8699cf94c9",
      "metadata": {},
      "outputs": [
        {
          "name": "stderr",
          "output_type": "stream",
          "text": [
            "Final Evaluation: 100%|█████████████████████████████████████████████████████| 107/107 [00:24<00:00,  4.39it/s]"
          ]
        },
        {
          "name": "stdout",
          "output_type": "stream",
          "text": [
            "\n",
            "Final Classification Report:\n",
            "               precision    recall  f1-score   support\n",
            "\n",
            "        Norm       0.83      0.89      0.86       106\n",
            "     Aphasia       0.98      0.97      0.98       750\n",
            "\n",
            "    accuracy                           0.96       856\n",
            "   macro avg       0.91      0.93      0.92       856\n",
            "weighted avg       0.97      0.96      0.96       856\n",
            "\n"
          ]
        },
        {
          "name": "stderr",
          "output_type": "stream",
          "text": [
            "\n"
          ]
        }
      ],
      "source": [
        "from sklearn.metrics import classification_report\n",
        "\n",
        "# Получаем предсказания на тестовом наборе\n",
        "model.eval()\n",
        "y_true = []\n",
        "y_pred = []\n",
        "\n",
        "with torch.no_grad():\n",
        "    for spectrograms, labels in tqdm(val_dataloader, desc=\"Final Evaluation\"):\n",
        "        spectrograms = spectrograms.to(device)\n",
        "        labels = labels.to(device)\n",
        "\n",
        "        outputs = model(spectrograms)\n",
        "        preds = torch.argmax(outputs, dim=1).cpu().numpy()\n",
        "        \n",
        "        y_true.extend(labels.cpu().numpy())\n",
        "        y_pred.extend(preds)\n",
        "        \n",
        "report = classification_report(y_true, y_pred, target_names=[\"Norm\", \"Aphasia\"])\n",
        "print(\"\\nFinal Classification Report:\\n\", report)\n"
      ]
    },
    {
      "cell_type": "code",
      "execution_count": 13,
      "id": "f54e5785-1af4-4dc2-b5d9-0affcb264ad9",
      "metadata": {},
      "outputs": [
        {
          "data": {
            "image/png": "[encoded data removed]",
            "text/plain": [
              "<Figure size 640x480 with 1 Axes>"
            ]
          },
          "metadata": {},
          "output_type": "display_data"
        }
      ],
      "source": [
        "from PIL import Image\n",
        "import matplotlib.pyplot as plt\n",
        "image_path = \"Best_training.jpg\"\n",
        "image = Image.open(image_path)\n",
        "plt.imshow(image)\n",
        "plt.axis('off')\n",
        "plt.show()"
      ]
    },
    {
      "cell_type": "markdown",
      "id": "57df89c2-59b1-4243-9cf6-163c6f646280",
      "metadata": {},
      "source": [
        "Теперь провалидируем на изначальных валидационных аудио, не нарезая их(однако для обучения во всех случаях мы нарезали на 10-15 сек)\n",
        "\n",
        "Для этого немного изменим класс датасет и проинициализируем валидационный даталоадер заново:"
      ]
    },
    {
      "cell_type": "code",
      "execution_count": 14,
      "id": "67c6292c-5c0c-4659-8067-7e543ab4af26",
      "metadata": {},
      "outputs": [],
      "source": [
        "class AphasiaDataset(Dataset):\n",
        "    def __init__(self, csv_file, root_dir, target_sample_rate=16000, fft_size=512, \n",
        "                 hop_length=256, win_length=512, min_duration=10, max_duration=15):\n",
        "        self.root_dir = root_dir\n",
        "        self.target_sample_rate = target_sample_rate\n",
        "        self.fft_size = fft_size\n",
        "        self.hop_length = hop_length\n",
        "        self.win_length = win_length\n",
        "        self.min_duration = min_duration * 1000  # миллисекунды\n",
        "        self.max_duration = max_duration * 1000\n",
        "        self.data = []\n",
        "        self.is_validation = \"val_filenames.csv\" in csv_file  # Проверяем, является ли датасет валидацией\n",
        "\n",
        "        df = pd.read_csv(csv_file)\n",
        "\n",
        "        for _, row in df.iterrows():\n",
        "            file_name, label = row['file_name'], row['label']\n",
        "            file_path = self.find_audio_file(file_name, label)\n",
        "            if file_path:\n",
        "                try:\n",
        "                    segments = self.process_audio(file_path)\n",
        "                    self.data.extend([(s, label) for s in segments])\n",
        "                except Exception as e:\n",
        "                    print(f\"Error processing {file_path}: {str(e)}\")\n",
        "        \n",
        "        random.shuffle(self.data)\n",
        "    \n",
        "    def find_audio_file(self, file_name, label):\n",
        "        folder = \"Aphasia\" if label == 1 else \"Norm\"\n",
        "        file_name = file_name[:-4]\n",
        "        file_path = os.path.join(self.root_dir, folder, f\"{file_name}.3gp\")\n",
        "        if os.path.exists(file_path):\n",
        "            return file_path\n",
        "        print(f\"Warning: {file_name}.3gp not found in {folder} folder.\")\n",
        "        return None\n",
        "\n",
        "    def process_audio(self, file_path):\n",
        "        audio = AudioSegment.from_file(file_path, format=\"3gp\")\n",
        "        if self.is_validation:\n",
        "            return [self.create_spectrogram(audio)]  # Возвращаем аудио целиком\n",
        "        \n",
        "        duration = len(audio)\n",
        "        segments = []\n",
        "\n",
        "        if duration < self.min_duration:\n",
        "            return [self.create_spectrogram(audio)]\n",
        "\n",
        "        start = 0\n",
        "        while start + self.min_duration <= duration:\n",
        "            segment_duration = min(random.randint(self.min_duration, self.max_duration), duration - start)\n",
        "            end = start + segment_duration\n",
        "            segment = audio[start:end]\n",
        "            spectrogram = self.create_spectrogram(segment)\n",
        "            if spectrogram is not None:\n",
        "                segments.append(spectrogram)\n",
        "            start = end\n",
        "        return segments\n",
        "\n",
        "    def create_spectrogram(self, segment):\n",
        "        try:\n",
        "            buffer = BytesIO()\n",
        "            segment.export(buffer, format=\"wav\")\n",
        "            buffer.seek(0)\n",
        "            waveform, sample_rate = torchaudio.load(buffer)\n",
        "            \n",
        "            if sample_rate != self.target_sample_rate:\n",
        "                resampler = Resample(sample_rate, self.target_sample_rate)\n",
        "                waveform = resampler(waveform)\n",
        "            \n",
        "            if waveform.shape[1] < self.fft_size:\n",
        "                return None\n",
        "            \n",
        "            y = waveform.numpy().squeeze()\n",
        "            spectrogram = librosa.stft(y, n_fft=self.fft_size, hop_length=self.hop_length, win_length=self.win_length)\n",
        "            mag = np.abs(spectrogram).astype(np.float32)\n",
        "            return torch.tensor(mag.T).unsqueeze(0)  # (1, T, F)\n",
        "        except Exception as e:\n",
        "            print(f\"Spectrogram error: {str(e)}\")\n",
        "            return None\n",
        "\n",
        "\n",
        "    def __len__(self):\n",
        "        return len(self.data)\n",
        "\n",
        "    def __getitem__(self, idx):\n",
        "        spectrogram, label = self.data[idx]\n",
        "        return spectrogram, torch.tensor(label, dtype=torch.long)\n",
        "\n",
        "def pad_sequence(batch):\n",
        "    if not batch:\n",
        "        return torch.zeros(0), torch.zeros(0)\n",
        "    \n",
        "    spectrograms, labels = zip(*batch)\n",
        "    max_len = max(s.shape[1] for s in spectrograms)\n",
        "    freq_bins = spectrograms[0].shape[2]\n",
        "    \n",
        "    padded = torch.zeros(len(spectrograms), 1, max_len, freq_bins)\n",
        "    for i, s in enumerate(spectrograms):\n",
        "        padded[i, :, :s.shape[1], :] = s\n",
        "    \n",
        "    return padded, torch.stack(labels) \n"
      ]
    },
    {
      "cell_type": "markdown",
      "id": "78dca8c3-b47d-4499-bd81-854989b4e36c",
      "metadata": {},
      "source": [
        "(Поскольку этот ноутбук оформляю локально, батчсайз тут меньше будет(ненарезанные аудио слишком большие), но на валидацию это никак не влияет)"
      ]
    },
    {
      "cell_type": "code",
      "execution_count": 15,
      "id": "9cd452c8-923d-4fc7-b01f-0c3e215d0283",
      "metadata": {},
      "outputs": [
        {
          "name": "stdout",
          "output_type": "stream",
          "text": [
            "79\n"
          ]
        }
      ],
      "source": [
        "root_dir = \"aphasia\"\n",
        "val_dataset = AphasiaDataset(\"splited_data/val_filenames.csv\", root_dir)\n",
        "val_dataloader = DataLoader(val_dataset, batch_size=2, shuffle=False, collate_fn=pad_sequence, drop_last=True)\n",
        "print(len(val_dataloader))"
      ]
    },
    {
      "cell_type": "markdown",
      "id": "6503f563-8d29-44cb-8712-f28549e23a9b",
      "metadata": {},
      "source": [
        "Аналогично иницализируем лучшую версию модели на данный момент и валидируем на изначальных аудио валидации:"
      ]
    },
    {
      "cell_type": "code",
      "execution_count": 16,
      "id": "64fded91-9944-4656-95d2-762d3310a855",
      "metadata": {},
      "outputs": [
        {
          "data": {
            "text/plain": [
              "<All keys matched successfully>"
            ]
          },
          "execution_count": 16,
          "metadata": {},
          "output_type": "execute_result"
        }
      ],
      "source": [
        "device = torch.device(\"cuda\" if torch.cuda.is_available() else \"cpu\")\n",
        "num_classes = 2\n",
        "model = CNNModel(num_classes=2).to(device)\n",
        "\n",
        "state_dict = torch.load('aphasia_30.pt')\n",
        "model.load_state_dict(state_dict)"
      ]
    },
    {
      "cell_type": "code",
      "execution_count": 17,
      "id": "ec43f59a-269b-46ec-8404-92ab586dda3a",
      "metadata": {},
      "outputs": [
        {
          "name": "stderr",
          "output_type": "stream",
          "text": [
            "Validation: 100%|█████████████████████████████████████████████████████████████| 79/79 [04:52<00:00,  3.71s/it]"
          ]
        },
        {
          "name": "stdout",
          "output_type": "stream",
          "text": [
            "Validation Metrics - Accuracy: 0.9494, Precision: 0.9557, Recall: 0.9620\n"
          ]
        },
        {
          "name": "stderr",
          "output_type": "stream",
          "text": [
            "\n"
          ]
        }
      ],
      "source": [
        "acc, prec, rec = evaluate_model(model, val_dataloader, criterion, device)\n",
        "print(f\"Validation Metrics - Accuracy: {acc:.4f}, Precision: {prec:.4f}, Recall: {rec:.4f}\")"
      ]
    },
    {
      "cell_type": "code",
      "execution_count": 18,
      "id": "a6e24c48-4075-43f0-b0c3-593251868faa",
      "metadata": {},
      "outputs": [
        {
          "name": "stderr",
          "output_type": "stream",
          "text": [
            "Final Evaluation: 100%|███████████████████████████████████████████████████████| 79/79 [06:00<00:00,  4.56s/it]"
          ]
        },
        {
          "name": "stdout",
          "output_type": "stream",
          "text": [
            "\n",
            "Final Classification Report:\n",
            "               precision    recall  f1-score   support\n",
            "\n",
            "        Norm       0.90      0.90      0.90        40\n",
            "     Aphasia       0.97      0.97      0.97       118\n",
            "\n",
            "    accuracy                           0.95       158\n",
            "   macro avg       0.93      0.93      0.93       158\n",
            "weighted avg       0.95      0.95      0.95       158\n",
            "\n"
          ]
        },
        {
          "name": "stderr",
          "output_type": "stream",
          "text": [
            "\n"
          ]
        }
      ],
      "source": [
        "from sklearn.metrics import classification_report\n",
        "\n",
        "model.eval()\n",
        "y_true = []\n",
        "y_pred = []\n",
        "\n",
        "with torch.no_grad():\n",
        "    for spectrograms, labels in tqdm(val_dataloader, desc=\"Final Evaluation\"):\n",
        "        spectrograms = spectrograms.to(device)\n",
        "        labels = labels.to(device)\n",
        "\n",
        "        outputs = model(spectrograms)\n",
        "        preds = torch.argmax(outputs, dim=1).cpu().numpy()\n",
        "        \n",
        "        y_true.extend(labels.cpu().numpy())\n",
        "        y_pred.extend(preds)\n",
        "        \n",
        "report = classification_report(y_true, y_pred, target_names=[\"Norm\", \"Aphasia\"])\n",
        "print(\"\\nFinal Classification Report:\\n\", report)\n"
      ]
    },
    {
      "cell_type": "markdown",
      "id": "d81ae7a9-6d7b-442f-95c7-4a5e938b6c30",
      "metadata": {},
      "source": [
        "Метрики в случае нарезанного валидационного лоадера и исходного хорошие:)"
      ]
    }
  ],
  "metadata": {
    "kernelspec": {
      "display_name": "Python 3 (ipykernel)",
      "language": "python",
      "name": "python3"
    },
    "language_info": {
      "codemirror_mode": {
        "name": "ipython",
        "version": 3
      },
      "file_extension": ".py",
      "mimetype": "text/x-python",
      "name": "python",
      "nbconvert_exporter": "python",
      "pygments_lexer": "ipython3",
      "version": "3.8.18"
    }
  },
  "nbformat": 4,
  "nbformat_minor": 5
}
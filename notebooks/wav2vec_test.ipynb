{
 "cells": [
  {
   "cell_type": "code",
   "id": "initial_id",
   "metadata": {
    "collapsed": true,
    "ExecuteTime": {
     "end_time": "2025-03-15T20:34:40.529259Z",
     "start_time": "2025-03-15T20:34:34.348483Z"
    }
   },
   "source": [
    "import warnings\n",
    "for warn in [UserWarning, FutureWarning]: warnings.filterwarnings(\"ignore\", category = warn)\n",
    "\n",
    "import os\n",
    "import torch\n",
    "import torch.nn as nn\n",
    "import torch.nn.functional as F\n",
    "import torch.optim as optim\n",
    "from torch import hub\n",
    "from torch.utils.data import Dataset, DataLoader, WeightedRandomSampler\n",
    "import torchaudio\n",
    "\n",
    "import numpy as np\n",
    "import pandas as pd\n",
    "\n",
    "from sklearn.metrics import f1_score, recall_score, precision_score, balanced_accuracy_score, accuracy_score, classification_report\n",
    "from sklearn.utils import shuffle\n",
    "\n",
    "import scipy\n",
    "\n",
    "from tqdm import tqdm\n",
    "\n",
    "from datasets import load_dataset, Dataset, Audio\n",
    "import librosa\n",
    "from transformers import AutoFeatureExtractor, Wav2Vec2ForSequenceClassification\n",
    "\n",
    "from models.basic_transformer import BasicTransformer\n",
    "\n",
    "from src.utils import AphasiaDatasetMFCC, AphasiaDatasetSpectrogram, AphasiaDatasetWaveform\n",
    "\n",
    "from collections import Counter"
   ],
   "outputs": [
    {
     "name": "stderr",
     "output_type": "stream",
     "text": [
      "2025-03-15 23:34:38.593481: I tensorflow/core/util/port.cc:153] oneDNN custom operations are on. You may see slightly different numerical results due to floating-point round-off errors from different computation orders. To turn them off, set the environment variable `TF_ENABLE_ONEDNN_OPTS=0`.\n",
      "2025-03-15 23:34:38.704442: E external/local_xla/xla/stream_executor/cuda/cuda_fft.cc:477] Unable to register cuFFT factory: Attempting to register factory for plugin cuFFT when one has already been registered\n",
      "WARNING: All log messages before absl::InitializeLog() is called are written to STDERR\n",
      "E0000 00:00:1742070878.749374 1312974 cuda_dnn.cc:8310] Unable to register cuDNN factory: Attempting to register factory for plugin cuDNN when one has already been registered\n",
      "E0000 00:00:1742070878.762195 1312974 cuda_blas.cc:1418] Unable to register cuBLAS factory: Attempting to register factory for plugin cuBLAS when one has already been registered\n",
      "2025-03-15 23:34:38.853343: I tensorflow/core/platform/cpu_feature_guard.cc:210] This TensorFlow binary is optimized to use available CPU instructions in performance-critical operations.\n",
      "To enable the following instructions: AVX2 AVX_VNNI FMA, in other operations, rebuild TensorFlow with the appropriate compiler flags.\n"
     ]
    }
   ],
   "execution_count": 1
  },
  {
   "metadata": {
    "ExecuteTime": {
     "end_time": "2025-03-15T20:34:42.342161Z",
     "start_time": "2025-03-15T20:34:40.530106Z"
    }
   },
   "cell_type": "code",
   "source": [
    "DEVICE = torch.device('cuda' if torch.cuda.is_available() else 'cpu')\n",
    "AUDIO_LENGTH = 6_000\n",
    "SEQUENCE_LENGTH = 31\n",
    "MFCC = 128\n",
    "print(f\"It's {DEVICE} time!!!\")"
   ],
   "id": "ae7aee0689d67ca9",
   "outputs": [
    {
     "name": "stdout",
     "output_type": "stream",
     "text": [
      "It's cuda time!!!\n"
     ]
    }
   ],
   "execution_count": 2
  },
  {
   "metadata": {
    "ExecuteTime": {
     "end_time": "2025-03-15T20:34:42.353686Z",
     "start_time": "2025-03-15T20:34:42.342866Z"
    }
   },
   "cell_type": "code",
   "source": [
    "DATA_DIR = os.path.join('..', 'data')\n",
    "VOICES_DIR = os.path.join(DATA_DIR, 'Voices')\n",
    "APHASIA_DIR = os.path.join(VOICES_DIR, 'Aphasia')\n",
    "NORM_DIR = os.path.join(VOICES_DIR, 'Norm')"
   ],
   "id": "258a6b50d0d7f4cd",
   "outputs": [],
   "execution_count": 3
  },
  {
   "metadata": {
    "ExecuteTime": {
     "end_time": "2025-03-15T20:37:57.339465Z",
     "start_time": "2025-03-15T20:34:42.354669Z"
    }
   },
   "cell_type": "code",
   "source": [
    "train_dataset = AphasiaDatasetWaveform(os.path.join(DATA_DIR, \"train_filenames.csv\"), VOICES_DIR, target_sample_rate=8_000)\n",
    "test_dataset = AphasiaDatasetWaveform(os.path.join(DATA_DIR, \"val_filenames.csv\"), VOICES_DIR, target_sample_rate=8_000)\n",
    "val_dataset = AphasiaDatasetWaveform(os.path.join(DATA_DIR, \"test_filenames.csv\"), VOICES_DIR, target_sample_rate=8_000)\n",
    "\n",
    "# Балансировка классов для train\n",
    "train_labels = [label for _, label in train_dataset.data]\n",
    "class_counts = Counter(train_labels)\n",
    "if len(class_counts) < 2:\n",
    "    raise ValueError(\"Один из классов отсутствует в тренировочном наборе\")\n",
    "\n",
    "class_weights = {label: 1.0 / count for label, count in class_counts.items()}\n",
    "weights = [class_weights[label] for _, label in train_dataset.data]\n",
    "train_sampler = WeightedRandomSampler(weights, num_samples=len(train_dataset), replacement=True)\n"
   ],
   "id": "c14c8794c18264e8",
   "outputs": [],
   "execution_count": 4
  },
  {
   "metadata": {
    "ExecuteTime": {
     "end_time": "2025-03-15T20:37:57.362368Z",
     "start_time": "2025-03-15T20:37:57.344797Z"
    }
   },
   "cell_type": "code",
   "source": "MAX_LEN = 120_000",
   "id": "9097ac9ff449437",
   "outputs": [],
   "execution_count": 6
  },
  {
   "metadata": {
    "ExecuteTime": {
     "end_time": "2025-03-15T20:37:57.374956Z",
     "start_time": "2025-03-15T20:37:57.363385Z"
    }
   },
   "cell_type": "code",
   "source": [
    "def pad_sequence(batch):\n",
    "    if not batch:\n",
    "        return torch.zeros(0), torch.zeros(0)\n",
    "    \n",
    "    seq, labels = zip(*batch)\n",
    "    # print(seq[1], labels)\n",
    "    max_len = max(s.shape[1] for s in seq)\n",
    "    # print(seq[0].shape)\n",
    "\n",
    "    # print(seq[0].shape)\n",
    "    padded = torch.zeros(len(seq), MAX_LEN)\n",
    "    for i, s in enumerate(seq):\n",
    "        padded[i, :s.shape[1]] = s[0, :MAX_LEN]\n",
    "    \n",
    "    return padded, torch.stack(labels) "
   ],
   "id": "d787d8cdefad4f72",
   "outputs": [],
   "execution_count": 7
  },
  {
   "metadata": {
    "ExecuteTime": {
     "end_time": "2025-03-15T20:37:57.385920Z",
     "start_time": "2025-03-15T20:37:57.377353Z"
    }
   },
   "cell_type": "code",
   "source": [
    "train_dataloader = DataLoader(train_dataset, batch_size=16, sampler=train_sampler, collate_fn=pad_sequence, drop_last=True, num_workers=6)\n",
    "# test_dataloader = DataLoader(test_dataset, batch_size=16, shuffle=False, collate_fn=pad_sequence, drop_last=True)\n",
    "val_dataloader = DataLoader(val_dataset, batch_size=16, shuffle=False, collate_fn=pad_sequence, drop_last=True, num_workers=6)"
   ],
   "id": "76efd1dec99ee237",
   "outputs": [],
   "execution_count": 8
  },
  {
   "metadata": {
    "ExecuteTime": {
     "end_time": "2025-03-15T20:37:57.397300Z",
     "start_time": "2025-03-15T20:37:57.386986Z"
    }
   },
   "cell_type": "code",
   "source": "# tmp = next(iter(train_dataloader))",
   "id": "f2adf75eadaded91",
   "outputs": [],
   "execution_count": 9
  },
  {
   "metadata": {
    "ExecuteTime": {
     "end_time": "2025-03-15T20:37:57.408479Z",
     "start_time": "2025-03-15T20:37:57.399725Z"
    }
   },
   "cell_type": "code",
   "source": "# tmp[0].shape",
   "id": "f9cb8912737f166b",
   "outputs": [],
   "execution_count": 10
  },
  {
   "metadata": {
    "ExecuteTime": {
     "end_time": "2025-03-15T20:37:57.419683Z",
     "start_time": "2025-03-15T20:37:57.409614Z"
    }
   },
   "cell_type": "code",
   "source": [
    "class Wav2vecClassifier(nn.Module):\n",
    "    \n",
    "    def __init__(self, num_labels: int=2, unfreeze: float=0.5):\n",
    "        super(Wav2vecClassifier, self).__init__()\n",
    "        \n",
    "        self.wav2vec = Wav2Vec2ForSequenceClassification.from_pretrained(\n",
    "                            \"facebook/wav2vec2-base\",\n",
    "                            num_labels=num_labels,\n",
    "                        )\n",
    "        # if unfreeze == 0.0:\n",
    "        #     self.wav2vec.wav2vec2.masked_spec_embed.requires_grad = True\n",
    "        # else:\n",
    "        #     self.wav2vec.wav2vec2.masked_spec_embed.requires_grad = False\n",
    "        \n",
    "        # num_children = len(list(self.wav2vec.wav2vec2.children()))\n",
    "        # print(int(num_children * unfreeze))\n",
    "        self.num_parameters = len(list(self.wav2vec.parameters())) # sum(p.numel() for p in self.wav2vec.parameters())\n",
    "        \n",
    "        # for children in list(self.wav2vec.wav2vec2.children()):\n",
    "        for ind, param in enumerate(self.wav2vec.parameters()):\n",
    "            \n",
    "            if ind + 4 < int(self.num_parameters * unfreeze):\n",
    "                param.requires_grad = False\n",
    "            else:\n",
    "                param.requires_grad = True\n",
    "                \n",
    "    def forward(self, audio):\n",
    "        return self.wav2vec(audio)"
   ],
   "id": "50a61f8ae921c084",
   "outputs": [],
   "execution_count": 11
  },
  {
   "metadata": {
    "ExecuteTime": {
     "end_time": "2025-03-15T20:37:57.442441Z",
     "start_time": "2025-03-15T20:37:57.421198Z"
    }
   },
   "cell_type": "code",
   "source": [
    "def train_model(model, dl_train, dl_val, epochs=1, lr=0.001, device=\"cpu\"):\n",
    "      \n",
    "    model = model.to(device)\n",
    "    criterion = nn.CrossEntropyLoss().to(device)\n",
    "    \n",
    "    optimizer = torch.optim.Adam(model.parameters(), lr=lr, weight_decay=1e-5)\n",
    "        \n",
    "    scheduler = torch.optim.lr_scheduler.ReduceLROnPlateau(optimizer, factor=0.5, patience=2, threshold=1e-3)\n",
    "    # scheduler = step_scheduler(optimizer, 30) \n",
    "        \n",
    "    train_loss_list = []\n",
    "    val_loss_list = []\n",
    "    train_acc_list = []\n",
    "    val_acc_list = []\n",
    "    for epoch in tqdm(range(epochs), desc=\"Training model\"):\n",
    "        model.train()\n",
    "        total_train_loss = 0\n",
    "        total_val_loss = 0\n",
    "        \n",
    "        train_acc = []\n",
    "        val_acc = []\n",
    "        for features, target in dl_train:\n",
    "            features, target = features.to(device), target.to(device)\n",
    "            optimizer.zero_grad()\n",
    "            \n",
    "            output = model(features).logits\n",
    "            # print(output)\n",
    "            # train_acc.append(torch.tensor(torch.argmax(output, dim=1) == target).cpu().detach().numpy())\n",
    "            preds = torch.argmax(output, dim=1).cpu().detach().numpy()\n",
    "            train_acc.append(accuracy_score(target.cpu().detach().numpy(), preds))\n",
    "            \n",
    "            loss = criterion(output, target)\n",
    "            loss.backward()\n",
    "            optimizer.step()\n",
    "            \n",
    "            total_train_loss += loss.detach().item()\n",
    "        # print(f\"LR before: {optimizer.param_groups[0]['lr']}\")\n",
    "        # scheduler.step(epoch=epoch)\n",
    "        # print(f\"LR after: {optimizer.param_groups[0]['lr']}\")\n",
    "        \n",
    "        avg_train_acc = np.stack(train_acc, axis=0).mean()\n",
    "\n",
    "        avg_train_loss = total_train_loss / len(train_dataloader)\n",
    "        train_loss_list.append(avg_train_loss)\n",
    "        train_acc_list.append(avg_train_acc)\n",
    "                \n",
    "        model.eval()\n",
    "        \n",
    "        with torch.no_grad():\n",
    "            for features, target in dl_val:\n",
    "                features, target = features.to(device), target.to(device)\n",
    "                \n",
    "                output = model(features).logits\n",
    "                \n",
    "                preds = torch.argmax(output, dim=1).cpu().detach().numpy()\n",
    "                val_acc.append(accuracy_score(target.cpu().detach().numpy(), preds))\n",
    "                loss = criterion(output, target)\n",
    "                total_val_loss += loss.detach().item()\n",
    "        \n",
    "        avg_val_acc = np.stack(val_acc, axis=0).mean()\n",
    "        avg_val_loss = total_val_loss / len(dl_val)\n",
    "        val_loss_list.append(avg_val_loss)\n",
    "        val_acc_list.append(avg_val_acc)\n",
    "        \n",
    "        if scheduler:\n",
    "            try:\n",
    "                scheduler.step()\n",
    "            except:\n",
    "                scheduler.step(avg_val_loss)\n",
    "        \n",
    "        # if epoch % 10 == 0:\n",
    "        tqdm.write(f\"Epoch {epoch}: train loss: {avg_train_loss:.3f}, train balanced acc: {avg_train_acc:.2f}, test loss: {avg_val_loss:.3f}, test balanced acc: {avg_val_acc:.2f}, lr: {optimizer.param_groups[0]['lr']}\")\n",
    "\n",
    "            \n",
    "    return model, train_loss_list, val_loss_list, train_acc_list, val_acc_list"
   ],
   "id": "4e17df12c0197678",
   "outputs": [],
   "execution_count": 12
  },
  {
   "metadata": {
    "ExecuteTime": {
     "end_time": "2025-03-15T20:38:57.643607Z",
     "start_time": "2025-03-15T20:37:57.444034Z"
    }
   },
   "cell_type": "code",
   "source": "wav2vec = Wav2vecClassifier(unfreeze=0.75)",
   "id": "de887d475b95ac1e",
   "outputs": [
    {
     "name": "stderr",
     "output_type": "stream",
     "text": [
      "Some weights of Wav2Vec2ForSequenceClassification were not initialized from the model checkpoint at facebook/wav2vec2-base and are newly initialized: ['classifier.bias', 'classifier.weight', 'projector.bias', 'projector.weight']\n",
      "You should probably TRAIN this model on a down-stream task to be able to use it for predictions and inference.\n"
     ]
    }
   ],
   "execution_count": 13
  },
  {
   "metadata": {
    "ExecuteTime": {
     "end_time": "2025-03-15T20:38:57.652652Z",
     "start_time": "2025-03-15T20:38:57.644541Z"
    }
   },
   "cell_type": "code",
   "source": [
    "from termcolor import colored\n",
    "from collections import defaultdict\n",
    "\n",
    "def beautiful_int(i):\n",
    "    i = str(i)\n",
    "    return \".\".join(reversed([i[max(j, 0):j+3] for j in range(len(i) - 3, -3, -3)]))\n",
    "\n",
    "# Считаем общее число параметров в нашей модели\n",
    "def model_num_params(model, verbose_all=True, verbose_only_learnable=False):\n",
    "    sum_params = 0\n",
    "    sum_learnable_params = 0\n",
    "    submodules = defaultdict(lambda : [0, 0])\n",
    "    for name, param in model.named_parameters():\n",
    "        num_params = np.prod(param.shape)\n",
    "        if verbose_all or (verbose_only_learnable and param[1].requires_grad):\n",
    "            print(\n",
    "                colored(\n",
    "                    '{: <42} ~  {: <9} params ~ grad: {}'.format(\n",
    "                        name,\n",
    "                        beautiful_int(num_params),\n",
    "                        param.requires_grad,\n",
    "                    ),\n",
    "                    {True: \"green\", False: \"red\"}[param.requires_grad],\n",
    "                )\n",
    "            )\n",
    "        sum_params += num_params\n",
    "        sm = name.split(\".\")[0]\n",
    "        submodules[sm][0] += num_params\n",
    "        if param.requires_grad:\n",
    "            sum_learnable_params += num_params\n",
    "            submodules[sm][1] += num_params\n",
    "    print(\n",
    "        f'\\nIn total:\\n  - {beautiful_int(sum_params)} params\\n  - {beautiful_int(sum_learnable_params)} learnable params'\n",
    "    )\n",
    "\n",
    "    for sm, v in submodules.items():\n",
    "        print(\n",
    "            f\"\\n . {sm}:\\n .   - {beautiful_int(submodules[sm][0])} params\\n .   - {beautiful_int(submodules[sm][1])} learnable params\"\n",
    "        )\n",
    "    return sum_params, sum_learnable_params\n",
    "\n",
    "\n",
    "sum_params, sum_learnable_params = model_num_params(wav2vec)"
   ],
   "id": "c8c9fffe45374faa",
   "outputs": [
    {
     "name": "stdout",
     "output_type": "stream",
     "text": [
      "\u001B[31mwav2vec.wav2vec2.masked_spec_embed         ~  768       params ~ grad: False\u001B[0m\n",
      "\u001B[31mwav2vec.wav2vec2.feature_extractor.conv_layers.0.conv.weight ~  5.120     params ~ grad: False\u001B[0m\n",
      "\u001B[31mwav2vec.wav2vec2.feature_extractor.conv_layers.0.layer_norm.weight ~  512       params ~ grad: False\u001B[0m\n",
      "\u001B[31mwav2vec.wav2vec2.feature_extractor.conv_layers.0.layer_norm.bias ~  512       params ~ grad: False\u001B[0m\n",
      "\u001B[31mwav2vec.wav2vec2.feature_extractor.conv_layers.1.conv.weight ~  786.432   params ~ grad: False\u001B[0m\n",
      "\u001B[31mwav2vec.wav2vec2.feature_extractor.conv_layers.2.conv.weight ~  786.432   params ~ grad: False\u001B[0m\n",
      "\u001B[31mwav2vec.wav2vec2.feature_extractor.conv_layers.3.conv.weight ~  786.432   params ~ grad: False\u001B[0m\n",
      "\u001B[31mwav2vec.wav2vec2.feature_extractor.conv_layers.4.conv.weight ~  786.432   params ~ grad: False\u001B[0m\n",
      "\u001B[31mwav2vec.wav2vec2.feature_extractor.conv_layers.5.conv.weight ~  524.288   params ~ grad: False\u001B[0m\n",
      "\u001B[31mwav2vec.wav2vec2.feature_extractor.conv_layers.6.conv.weight ~  524.288   params ~ grad: False\u001B[0m\n",
      "\u001B[31mwav2vec.wav2vec2.feature_projection.layer_norm.weight ~  512       params ~ grad: False\u001B[0m\n",
      "\u001B[31mwav2vec.wav2vec2.feature_projection.layer_norm.bias ~  512       params ~ grad: False\u001B[0m\n",
      "\u001B[31mwav2vec.wav2vec2.feature_projection.projection.weight ~  393.216   params ~ grad: False\u001B[0m\n",
      "\u001B[31mwav2vec.wav2vec2.feature_projection.projection.bias ~  768       params ~ grad: False\u001B[0m\n",
      "\u001B[31mwav2vec.wav2vec2.encoder.pos_conv_embed.conv.bias ~  768       params ~ grad: False\u001B[0m\n",
      "\u001B[31mwav2vec.wav2vec2.encoder.pos_conv_embed.conv.parametrizations.weight.original0 ~  128       params ~ grad: False\u001B[0m\n",
      "\u001B[31mwav2vec.wav2vec2.encoder.pos_conv_embed.conv.parametrizations.weight.original1 ~  4.718.592 params ~ grad: False\u001B[0m\n",
      "\u001B[31mwav2vec.wav2vec2.encoder.layer_norm.weight ~  768       params ~ grad: False\u001B[0m\n",
      "\u001B[31mwav2vec.wav2vec2.encoder.layer_norm.bias   ~  768       params ~ grad: False\u001B[0m\n",
      "\u001B[31mwav2vec.wav2vec2.encoder.layers.0.attention.k_proj.weight ~  589.824   params ~ grad: False\u001B[0m\n",
      "\u001B[31mwav2vec.wav2vec2.encoder.layers.0.attention.k_proj.bias ~  768       params ~ grad: False\u001B[0m\n",
      "\u001B[31mwav2vec.wav2vec2.encoder.layers.0.attention.v_proj.weight ~  589.824   params ~ grad: False\u001B[0m\n",
      "\u001B[31mwav2vec.wav2vec2.encoder.layers.0.attention.v_proj.bias ~  768       params ~ grad: False\u001B[0m\n",
      "\u001B[31mwav2vec.wav2vec2.encoder.layers.0.attention.q_proj.weight ~  589.824   params ~ grad: False\u001B[0m\n",
      "\u001B[31mwav2vec.wav2vec2.encoder.layers.0.attention.q_proj.bias ~  768       params ~ grad: False\u001B[0m\n",
      "\u001B[31mwav2vec.wav2vec2.encoder.layers.0.attention.out_proj.weight ~  589.824   params ~ grad: False\u001B[0m\n",
      "\u001B[31mwav2vec.wav2vec2.encoder.layers.0.attention.out_proj.bias ~  768       params ~ grad: False\u001B[0m\n",
      "\u001B[31mwav2vec.wav2vec2.encoder.layers.0.layer_norm.weight ~  768       params ~ grad: False\u001B[0m\n",
      "\u001B[31mwav2vec.wav2vec2.encoder.layers.0.layer_norm.bias ~  768       params ~ grad: False\u001B[0m\n",
      "\u001B[31mwav2vec.wav2vec2.encoder.layers.0.feed_forward.intermediate_dense.weight ~  2.359.296 params ~ grad: False\u001B[0m\n",
      "\u001B[31mwav2vec.wav2vec2.encoder.layers.0.feed_forward.intermediate_dense.bias ~  3.072     params ~ grad: False\u001B[0m\n",
      "\u001B[31mwav2vec.wav2vec2.encoder.layers.0.feed_forward.output_dense.weight ~  2.359.296 params ~ grad: False\u001B[0m\n",
      "\u001B[31mwav2vec.wav2vec2.encoder.layers.0.feed_forward.output_dense.bias ~  768       params ~ grad: False\u001B[0m\n",
      "\u001B[31mwav2vec.wav2vec2.encoder.layers.0.final_layer_norm.weight ~  768       params ~ grad: False\u001B[0m\n",
      "\u001B[31mwav2vec.wav2vec2.encoder.layers.0.final_layer_norm.bias ~  768       params ~ grad: False\u001B[0m\n",
      "\u001B[31mwav2vec.wav2vec2.encoder.layers.1.attention.k_proj.weight ~  589.824   params ~ grad: False\u001B[0m\n",
      "\u001B[31mwav2vec.wav2vec2.encoder.layers.1.attention.k_proj.bias ~  768       params ~ grad: False\u001B[0m\n",
      "\u001B[31mwav2vec.wav2vec2.encoder.layers.1.attention.v_proj.weight ~  589.824   params ~ grad: False\u001B[0m\n",
      "\u001B[31mwav2vec.wav2vec2.encoder.layers.1.attention.v_proj.bias ~  768       params ~ grad: False\u001B[0m\n",
      "\u001B[31mwav2vec.wav2vec2.encoder.layers.1.attention.q_proj.weight ~  589.824   params ~ grad: False\u001B[0m\n",
      "\u001B[31mwav2vec.wav2vec2.encoder.layers.1.attention.q_proj.bias ~  768       params ~ grad: False\u001B[0m\n",
      "\u001B[31mwav2vec.wav2vec2.encoder.layers.1.attention.out_proj.weight ~  589.824   params ~ grad: False\u001B[0m\n",
      "\u001B[31mwav2vec.wav2vec2.encoder.layers.1.attention.out_proj.bias ~  768       params ~ grad: False\u001B[0m\n",
      "\u001B[31mwav2vec.wav2vec2.encoder.layers.1.layer_norm.weight ~  768       params ~ grad: False\u001B[0m\n",
      "\u001B[31mwav2vec.wav2vec2.encoder.layers.1.layer_norm.bias ~  768       params ~ grad: False\u001B[0m\n",
      "\u001B[31mwav2vec.wav2vec2.encoder.layers.1.feed_forward.intermediate_dense.weight ~  2.359.296 params ~ grad: False\u001B[0m\n",
      "\u001B[31mwav2vec.wav2vec2.encoder.layers.1.feed_forward.intermediate_dense.bias ~  3.072     params ~ grad: False\u001B[0m\n",
      "\u001B[31mwav2vec.wav2vec2.encoder.layers.1.feed_forward.output_dense.weight ~  2.359.296 params ~ grad: False\u001B[0m\n",
      "\u001B[31mwav2vec.wav2vec2.encoder.layers.1.feed_forward.output_dense.bias ~  768       params ~ grad: False\u001B[0m\n",
      "\u001B[31mwav2vec.wav2vec2.encoder.layers.1.final_layer_norm.weight ~  768       params ~ grad: False\u001B[0m\n",
      "\u001B[31mwav2vec.wav2vec2.encoder.layers.1.final_layer_norm.bias ~  768       params ~ grad: False\u001B[0m\n",
      "\u001B[31mwav2vec.wav2vec2.encoder.layers.2.attention.k_proj.weight ~  589.824   params ~ grad: False\u001B[0m\n",
      "\u001B[31mwav2vec.wav2vec2.encoder.layers.2.attention.k_proj.bias ~  768       params ~ grad: False\u001B[0m\n",
      "\u001B[31mwav2vec.wav2vec2.encoder.layers.2.attention.v_proj.weight ~  589.824   params ~ grad: False\u001B[0m\n",
      "\u001B[31mwav2vec.wav2vec2.encoder.layers.2.attention.v_proj.bias ~  768       params ~ grad: False\u001B[0m\n",
      "\u001B[31mwav2vec.wav2vec2.encoder.layers.2.attention.q_proj.weight ~  589.824   params ~ grad: False\u001B[0m\n",
      "\u001B[31mwav2vec.wav2vec2.encoder.layers.2.attention.q_proj.bias ~  768       params ~ grad: False\u001B[0m\n",
      "\u001B[31mwav2vec.wav2vec2.encoder.layers.2.attention.out_proj.weight ~  589.824   params ~ grad: False\u001B[0m\n",
      "\u001B[31mwav2vec.wav2vec2.encoder.layers.2.attention.out_proj.bias ~  768       params ~ grad: False\u001B[0m\n",
      "\u001B[31mwav2vec.wav2vec2.encoder.layers.2.layer_norm.weight ~  768       params ~ grad: False\u001B[0m\n",
      "\u001B[31mwav2vec.wav2vec2.encoder.layers.2.layer_norm.bias ~  768       params ~ grad: False\u001B[0m\n",
      "\u001B[31mwav2vec.wav2vec2.encoder.layers.2.feed_forward.intermediate_dense.weight ~  2.359.296 params ~ grad: False\u001B[0m\n",
      "\u001B[31mwav2vec.wav2vec2.encoder.layers.2.feed_forward.intermediate_dense.bias ~  3.072     params ~ grad: False\u001B[0m\n",
      "\u001B[31mwav2vec.wav2vec2.encoder.layers.2.feed_forward.output_dense.weight ~  2.359.296 params ~ grad: False\u001B[0m\n",
      "\u001B[31mwav2vec.wav2vec2.encoder.layers.2.feed_forward.output_dense.bias ~  768       params ~ grad: False\u001B[0m\n",
      "\u001B[31mwav2vec.wav2vec2.encoder.layers.2.final_layer_norm.weight ~  768       params ~ grad: False\u001B[0m\n",
      "\u001B[31mwav2vec.wav2vec2.encoder.layers.2.final_layer_norm.bias ~  768       params ~ grad: False\u001B[0m\n",
      "\u001B[31mwav2vec.wav2vec2.encoder.layers.3.attention.k_proj.weight ~  589.824   params ~ grad: False\u001B[0m\n",
      "\u001B[31mwav2vec.wav2vec2.encoder.layers.3.attention.k_proj.bias ~  768       params ~ grad: False\u001B[0m\n",
      "\u001B[31mwav2vec.wav2vec2.encoder.layers.3.attention.v_proj.weight ~  589.824   params ~ grad: False\u001B[0m\n",
      "\u001B[31mwav2vec.wav2vec2.encoder.layers.3.attention.v_proj.bias ~  768       params ~ grad: False\u001B[0m\n",
      "\u001B[31mwav2vec.wav2vec2.encoder.layers.3.attention.q_proj.weight ~  589.824   params ~ grad: False\u001B[0m\n",
      "\u001B[31mwav2vec.wav2vec2.encoder.layers.3.attention.q_proj.bias ~  768       params ~ grad: False\u001B[0m\n",
      "\u001B[31mwav2vec.wav2vec2.encoder.layers.3.attention.out_proj.weight ~  589.824   params ~ grad: False\u001B[0m\n",
      "\u001B[31mwav2vec.wav2vec2.encoder.layers.3.attention.out_proj.bias ~  768       params ~ grad: False\u001B[0m\n",
      "\u001B[31mwav2vec.wav2vec2.encoder.layers.3.layer_norm.weight ~  768       params ~ grad: False\u001B[0m\n",
      "\u001B[31mwav2vec.wav2vec2.encoder.layers.3.layer_norm.bias ~  768       params ~ grad: False\u001B[0m\n",
      "\u001B[31mwav2vec.wav2vec2.encoder.layers.3.feed_forward.intermediate_dense.weight ~  2.359.296 params ~ grad: False\u001B[0m\n",
      "\u001B[31mwav2vec.wav2vec2.encoder.layers.3.feed_forward.intermediate_dense.bias ~  3.072     params ~ grad: False\u001B[0m\n",
      "\u001B[31mwav2vec.wav2vec2.encoder.layers.3.feed_forward.output_dense.weight ~  2.359.296 params ~ grad: False\u001B[0m\n",
      "\u001B[31mwav2vec.wav2vec2.encoder.layers.3.feed_forward.output_dense.bias ~  768       params ~ grad: False\u001B[0m\n",
      "\u001B[31mwav2vec.wav2vec2.encoder.layers.3.final_layer_norm.weight ~  768       params ~ grad: False\u001B[0m\n",
      "\u001B[31mwav2vec.wav2vec2.encoder.layers.3.final_layer_norm.bias ~  768       params ~ grad: False\u001B[0m\n",
      "\u001B[31mwav2vec.wav2vec2.encoder.layers.4.attention.k_proj.weight ~  589.824   params ~ grad: False\u001B[0m\n",
      "\u001B[31mwav2vec.wav2vec2.encoder.layers.4.attention.k_proj.bias ~  768       params ~ grad: False\u001B[0m\n",
      "\u001B[31mwav2vec.wav2vec2.encoder.layers.4.attention.v_proj.weight ~  589.824   params ~ grad: False\u001B[0m\n",
      "\u001B[31mwav2vec.wav2vec2.encoder.layers.4.attention.v_proj.bias ~  768       params ~ grad: False\u001B[0m\n",
      "\u001B[31mwav2vec.wav2vec2.encoder.layers.4.attention.q_proj.weight ~  589.824   params ~ grad: False\u001B[0m\n",
      "\u001B[31mwav2vec.wav2vec2.encoder.layers.4.attention.q_proj.bias ~  768       params ~ grad: False\u001B[0m\n",
      "\u001B[31mwav2vec.wav2vec2.encoder.layers.4.attention.out_proj.weight ~  589.824   params ~ grad: False\u001B[0m\n",
      "\u001B[31mwav2vec.wav2vec2.encoder.layers.4.attention.out_proj.bias ~  768       params ~ grad: False\u001B[0m\n",
      "\u001B[31mwav2vec.wav2vec2.encoder.layers.4.layer_norm.weight ~  768       params ~ grad: False\u001B[0m\n",
      "\u001B[31mwav2vec.wav2vec2.encoder.layers.4.layer_norm.bias ~  768       params ~ grad: False\u001B[0m\n",
      "\u001B[31mwav2vec.wav2vec2.encoder.layers.4.feed_forward.intermediate_dense.weight ~  2.359.296 params ~ grad: False\u001B[0m\n",
      "\u001B[31mwav2vec.wav2vec2.encoder.layers.4.feed_forward.intermediate_dense.bias ~  3.072     params ~ grad: False\u001B[0m\n",
      "\u001B[31mwav2vec.wav2vec2.encoder.layers.4.feed_forward.output_dense.weight ~  2.359.296 params ~ grad: False\u001B[0m\n",
      "\u001B[31mwav2vec.wav2vec2.encoder.layers.4.feed_forward.output_dense.bias ~  768       params ~ grad: False\u001B[0m\n",
      "\u001B[31mwav2vec.wav2vec2.encoder.layers.4.final_layer_norm.weight ~  768       params ~ grad: False\u001B[0m\n",
      "\u001B[31mwav2vec.wav2vec2.encoder.layers.4.final_layer_norm.bias ~  768       params ~ grad: False\u001B[0m\n",
      "\u001B[31mwav2vec.wav2vec2.encoder.layers.5.attention.k_proj.weight ~  589.824   params ~ grad: False\u001B[0m\n",
      "\u001B[31mwav2vec.wav2vec2.encoder.layers.5.attention.k_proj.bias ~  768       params ~ grad: False\u001B[0m\n",
      "\u001B[31mwav2vec.wav2vec2.encoder.layers.5.attention.v_proj.weight ~  589.824   params ~ grad: False\u001B[0m\n",
      "\u001B[31mwav2vec.wav2vec2.encoder.layers.5.attention.v_proj.bias ~  768       params ~ grad: False\u001B[0m\n",
      "\u001B[31mwav2vec.wav2vec2.encoder.layers.5.attention.q_proj.weight ~  589.824   params ~ grad: False\u001B[0m\n",
      "\u001B[31mwav2vec.wav2vec2.encoder.layers.5.attention.q_proj.bias ~  768       params ~ grad: False\u001B[0m\n",
      "\u001B[31mwav2vec.wav2vec2.encoder.layers.5.attention.out_proj.weight ~  589.824   params ~ grad: False\u001B[0m\n",
      "\u001B[31mwav2vec.wav2vec2.encoder.layers.5.attention.out_proj.bias ~  768       params ~ grad: False\u001B[0m\n",
      "\u001B[31mwav2vec.wav2vec2.encoder.layers.5.layer_norm.weight ~  768       params ~ grad: False\u001B[0m\n",
      "\u001B[31mwav2vec.wav2vec2.encoder.layers.5.layer_norm.bias ~  768       params ~ grad: False\u001B[0m\n",
      "\u001B[31mwav2vec.wav2vec2.encoder.layers.5.feed_forward.intermediate_dense.weight ~  2.359.296 params ~ grad: False\u001B[0m\n",
      "\u001B[31mwav2vec.wav2vec2.encoder.layers.5.feed_forward.intermediate_dense.bias ~  3.072     params ~ grad: False\u001B[0m\n",
      "\u001B[31mwav2vec.wav2vec2.encoder.layers.5.feed_forward.output_dense.weight ~  2.359.296 params ~ grad: False\u001B[0m\n",
      "\u001B[31mwav2vec.wav2vec2.encoder.layers.5.feed_forward.output_dense.bias ~  768       params ~ grad: False\u001B[0m\n",
      "\u001B[31mwav2vec.wav2vec2.encoder.layers.5.final_layer_norm.weight ~  768       params ~ grad: False\u001B[0m\n",
      "\u001B[31mwav2vec.wav2vec2.encoder.layers.5.final_layer_norm.bias ~  768       params ~ grad: False\u001B[0m\n",
      "\u001B[31mwav2vec.wav2vec2.encoder.layers.6.attention.k_proj.weight ~  589.824   params ~ grad: False\u001B[0m\n",
      "\u001B[31mwav2vec.wav2vec2.encoder.layers.6.attention.k_proj.bias ~  768       params ~ grad: False\u001B[0m\n",
      "\u001B[31mwav2vec.wav2vec2.encoder.layers.6.attention.v_proj.weight ~  589.824   params ~ grad: False\u001B[0m\n",
      "\u001B[31mwav2vec.wav2vec2.encoder.layers.6.attention.v_proj.bias ~  768       params ~ grad: False\u001B[0m\n",
      "\u001B[31mwav2vec.wav2vec2.encoder.layers.6.attention.q_proj.weight ~  589.824   params ~ grad: False\u001B[0m\n",
      "\u001B[31mwav2vec.wav2vec2.encoder.layers.6.attention.q_proj.bias ~  768       params ~ grad: False\u001B[0m\n",
      "\u001B[31mwav2vec.wav2vec2.encoder.layers.6.attention.out_proj.weight ~  589.824   params ~ grad: False\u001B[0m\n",
      "\u001B[31mwav2vec.wav2vec2.encoder.layers.6.attention.out_proj.bias ~  768       params ~ grad: False\u001B[0m\n",
      "\u001B[31mwav2vec.wav2vec2.encoder.layers.6.layer_norm.weight ~  768       params ~ grad: False\u001B[0m\n",
      "\u001B[31mwav2vec.wav2vec2.encoder.layers.6.layer_norm.bias ~  768       params ~ grad: False\u001B[0m\n",
      "\u001B[31mwav2vec.wav2vec2.encoder.layers.6.feed_forward.intermediate_dense.weight ~  2.359.296 params ~ grad: False\u001B[0m\n",
      "\u001B[31mwav2vec.wav2vec2.encoder.layers.6.feed_forward.intermediate_dense.bias ~  3.072     params ~ grad: False\u001B[0m\n",
      "\u001B[31mwav2vec.wav2vec2.encoder.layers.6.feed_forward.output_dense.weight ~  2.359.296 params ~ grad: False\u001B[0m\n",
      "\u001B[31mwav2vec.wav2vec2.encoder.layers.6.feed_forward.output_dense.bias ~  768       params ~ grad: False\u001B[0m\n",
      "\u001B[31mwav2vec.wav2vec2.encoder.layers.6.final_layer_norm.weight ~  768       params ~ grad: False\u001B[0m\n",
      "\u001B[31mwav2vec.wav2vec2.encoder.layers.6.final_layer_norm.bias ~  768       params ~ grad: False\u001B[0m\n",
      "\u001B[31mwav2vec.wav2vec2.encoder.layers.7.attention.k_proj.weight ~  589.824   params ~ grad: False\u001B[0m\n",
      "\u001B[31mwav2vec.wav2vec2.encoder.layers.7.attention.k_proj.bias ~  768       params ~ grad: False\u001B[0m\n",
      "\u001B[31mwav2vec.wav2vec2.encoder.layers.7.attention.v_proj.weight ~  589.824   params ~ grad: False\u001B[0m\n",
      "\u001B[31mwav2vec.wav2vec2.encoder.layers.7.attention.v_proj.bias ~  768       params ~ grad: False\u001B[0m\n",
      "\u001B[31mwav2vec.wav2vec2.encoder.layers.7.attention.q_proj.weight ~  589.824   params ~ grad: False\u001B[0m\n",
      "\u001B[31mwav2vec.wav2vec2.encoder.layers.7.attention.q_proj.bias ~  768       params ~ grad: False\u001B[0m\n",
      "\u001B[31mwav2vec.wav2vec2.encoder.layers.7.attention.out_proj.weight ~  589.824   params ~ grad: False\u001B[0m\n",
      "\u001B[31mwav2vec.wav2vec2.encoder.layers.7.attention.out_proj.bias ~  768       params ~ grad: False\u001B[0m\n",
      "\u001B[31mwav2vec.wav2vec2.encoder.layers.7.layer_norm.weight ~  768       params ~ grad: False\u001B[0m\n",
      "\u001B[31mwav2vec.wav2vec2.encoder.layers.7.layer_norm.bias ~  768       params ~ grad: False\u001B[0m\n",
      "\u001B[31mwav2vec.wav2vec2.encoder.layers.7.feed_forward.intermediate_dense.weight ~  2.359.296 params ~ grad: False\u001B[0m\n",
      "\u001B[31mwav2vec.wav2vec2.encoder.layers.7.feed_forward.intermediate_dense.bias ~  3.072     params ~ grad: False\u001B[0m\n",
      "\u001B[31mwav2vec.wav2vec2.encoder.layers.7.feed_forward.output_dense.weight ~  2.359.296 params ~ grad: False\u001B[0m\n",
      "\u001B[31mwav2vec.wav2vec2.encoder.layers.7.feed_forward.output_dense.bias ~  768       params ~ grad: False\u001B[0m\n",
      "\u001B[31mwav2vec.wav2vec2.encoder.layers.7.final_layer_norm.weight ~  768       params ~ grad: False\u001B[0m\n",
      "\u001B[31mwav2vec.wav2vec2.encoder.layers.7.final_layer_norm.bias ~  768       params ~ grad: False\u001B[0m\n",
      "\u001B[31mwav2vec.wav2vec2.encoder.layers.8.attention.k_proj.weight ~  589.824   params ~ grad: False\u001B[0m\n",
      "\u001B[31mwav2vec.wav2vec2.encoder.layers.8.attention.k_proj.bias ~  768       params ~ grad: False\u001B[0m\n",
      "\u001B[31mwav2vec.wav2vec2.encoder.layers.8.attention.v_proj.weight ~  589.824   params ~ grad: False\u001B[0m\n",
      "\u001B[31mwav2vec.wav2vec2.encoder.layers.8.attention.v_proj.bias ~  768       params ~ grad: False\u001B[0m\n",
      "\u001B[31mwav2vec.wav2vec2.encoder.layers.8.attention.q_proj.weight ~  589.824   params ~ grad: False\u001B[0m\n",
      "\u001B[31mwav2vec.wav2vec2.encoder.layers.8.attention.q_proj.bias ~  768       params ~ grad: False\u001B[0m\n",
      "\u001B[31mwav2vec.wav2vec2.encoder.layers.8.attention.out_proj.weight ~  589.824   params ~ grad: False\u001B[0m\n",
      "\u001B[31mwav2vec.wav2vec2.encoder.layers.8.attention.out_proj.bias ~  768       params ~ grad: False\u001B[0m\n",
      "\u001B[31mwav2vec.wav2vec2.encoder.layers.8.layer_norm.weight ~  768       params ~ grad: False\u001B[0m\n",
      "\u001B[31mwav2vec.wav2vec2.encoder.layers.8.layer_norm.bias ~  768       params ~ grad: False\u001B[0m\n",
      "\u001B[32mwav2vec.wav2vec2.encoder.layers.8.feed_forward.intermediate_dense.weight ~  2.359.296 params ~ grad: True\u001B[0m\n",
      "\u001B[32mwav2vec.wav2vec2.encoder.layers.8.feed_forward.intermediate_dense.bias ~  3.072     params ~ grad: True\u001B[0m\n",
      "\u001B[32mwav2vec.wav2vec2.encoder.layers.8.feed_forward.output_dense.weight ~  2.359.296 params ~ grad: True\u001B[0m\n",
      "\u001B[32mwav2vec.wav2vec2.encoder.layers.8.feed_forward.output_dense.bias ~  768       params ~ grad: True\u001B[0m\n",
      "\u001B[32mwav2vec.wav2vec2.encoder.layers.8.final_layer_norm.weight ~  768       params ~ grad: True\u001B[0m\n",
      "\u001B[32mwav2vec.wav2vec2.encoder.layers.8.final_layer_norm.bias ~  768       params ~ grad: True\u001B[0m\n",
      "\u001B[32mwav2vec.wav2vec2.encoder.layers.9.attention.k_proj.weight ~  589.824   params ~ grad: True\u001B[0m\n",
      "\u001B[32mwav2vec.wav2vec2.encoder.layers.9.attention.k_proj.bias ~  768       params ~ grad: True\u001B[0m\n",
      "\u001B[32mwav2vec.wav2vec2.encoder.layers.9.attention.v_proj.weight ~  589.824   params ~ grad: True\u001B[0m\n",
      "\u001B[32mwav2vec.wav2vec2.encoder.layers.9.attention.v_proj.bias ~  768       params ~ grad: True\u001B[0m\n",
      "\u001B[32mwav2vec.wav2vec2.encoder.layers.9.attention.q_proj.weight ~  589.824   params ~ grad: True\u001B[0m\n",
      "\u001B[32mwav2vec.wav2vec2.encoder.layers.9.attention.q_proj.bias ~  768       params ~ grad: True\u001B[0m\n",
      "\u001B[32mwav2vec.wav2vec2.encoder.layers.9.attention.out_proj.weight ~  589.824   params ~ grad: True\u001B[0m\n",
      "\u001B[32mwav2vec.wav2vec2.encoder.layers.9.attention.out_proj.bias ~  768       params ~ grad: True\u001B[0m\n",
      "\u001B[32mwav2vec.wav2vec2.encoder.layers.9.layer_norm.weight ~  768       params ~ grad: True\u001B[0m\n",
      "\u001B[32mwav2vec.wav2vec2.encoder.layers.9.layer_norm.bias ~  768       params ~ grad: True\u001B[0m\n",
      "\u001B[32mwav2vec.wav2vec2.encoder.layers.9.feed_forward.intermediate_dense.weight ~  2.359.296 params ~ grad: True\u001B[0m\n",
      "\u001B[32mwav2vec.wav2vec2.encoder.layers.9.feed_forward.intermediate_dense.bias ~  3.072     params ~ grad: True\u001B[0m\n",
      "\u001B[32mwav2vec.wav2vec2.encoder.layers.9.feed_forward.output_dense.weight ~  2.359.296 params ~ grad: True\u001B[0m\n",
      "\u001B[32mwav2vec.wav2vec2.encoder.layers.9.feed_forward.output_dense.bias ~  768       params ~ grad: True\u001B[0m\n",
      "\u001B[32mwav2vec.wav2vec2.encoder.layers.9.final_layer_norm.weight ~  768       params ~ grad: True\u001B[0m\n",
      "\u001B[32mwav2vec.wav2vec2.encoder.layers.9.final_layer_norm.bias ~  768       params ~ grad: True\u001B[0m\n",
      "\u001B[32mwav2vec.wav2vec2.encoder.layers.10.attention.k_proj.weight ~  589.824   params ~ grad: True\u001B[0m\n",
      "\u001B[32mwav2vec.wav2vec2.encoder.layers.10.attention.k_proj.bias ~  768       params ~ grad: True\u001B[0m\n",
      "\u001B[32mwav2vec.wav2vec2.encoder.layers.10.attention.v_proj.weight ~  589.824   params ~ grad: True\u001B[0m\n",
      "\u001B[32mwav2vec.wav2vec2.encoder.layers.10.attention.v_proj.bias ~  768       params ~ grad: True\u001B[0m\n",
      "\u001B[32mwav2vec.wav2vec2.encoder.layers.10.attention.q_proj.weight ~  589.824   params ~ grad: True\u001B[0m\n",
      "\u001B[32mwav2vec.wav2vec2.encoder.layers.10.attention.q_proj.bias ~  768       params ~ grad: True\u001B[0m\n",
      "\u001B[32mwav2vec.wav2vec2.encoder.layers.10.attention.out_proj.weight ~  589.824   params ~ grad: True\u001B[0m\n",
      "\u001B[32mwav2vec.wav2vec2.encoder.layers.10.attention.out_proj.bias ~  768       params ~ grad: True\u001B[0m\n",
      "\u001B[32mwav2vec.wav2vec2.encoder.layers.10.layer_norm.weight ~  768       params ~ grad: True\u001B[0m\n",
      "\u001B[32mwav2vec.wav2vec2.encoder.layers.10.layer_norm.bias ~  768       params ~ grad: True\u001B[0m\n",
      "\u001B[32mwav2vec.wav2vec2.encoder.layers.10.feed_forward.intermediate_dense.weight ~  2.359.296 params ~ grad: True\u001B[0m\n",
      "\u001B[32mwav2vec.wav2vec2.encoder.layers.10.feed_forward.intermediate_dense.bias ~  3.072     params ~ grad: True\u001B[0m\n",
      "\u001B[32mwav2vec.wav2vec2.encoder.layers.10.feed_forward.output_dense.weight ~  2.359.296 params ~ grad: True\u001B[0m\n",
      "\u001B[32mwav2vec.wav2vec2.encoder.layers.10.feed_forward.output_dense.bias ~  768       params ~ grad: True\u001B[0m\n",
      "\u001B[32mwav2vec.wav2vec2.encoder.layers.10.final_layer_norm.weight ~  768       params ~ grad: True\u001B[0m\n",
      "\u001B[32mwav2vec.wav2vec2.encoder.layers.10.final_layer_norm.bias ~  768       params ~ grad: True\u001B[0m\n",
      "\u001B[32mwav2vec.wav2vec2.encoder.layers.11.attention.k_proj.weight ~  589.824   params ~ grad: True\u001B[0m\n",
      "\u001B[32mwav2vec.wav2vec2.encoder.layers.11.attention.k_proj.bias ~  768       params ~ grad: True\u001B[0m\n",
      "\u001B[32mwav2vec.wav2vec2.encoder.layers.11.attention.v_proj.weight ~  589.824   params ~ grad: True\u001B[0m\n",
      "\u001B[32mwav2vec.wav2vec2.encoder.layers.11.attention.v_proj.bias ~  768       params ~ grad: True\u001B[0m\n",
      "\u001B[32mwav2vec.wav2vec2.encoder.layers.11.attention.q_proj.weight ~  589.824   params ~ grad: True\u001B[0m\n",
      "\u001B[32mwav2vec.wav2vec2.encoder.layers.11.attention.q_proj.bias ~  768       params ~ grad: True\u001B[0m\n",
      "\u001B[32mwav2vec.wav2vec2.encoder.layers.11.attention.out_proj.weight ~  589.824   params ~ grad: True\u001B[0m\n",
      "\u001B[32mwav2vec.wav2vec2.encoder.layers.11.attention.out_proj.bias ~  768       params ~ grad: True\u001B[0m\n",
      "\u001B[32mwav2vec.wav2vec2.encoder.layers.11.layer_norm.weight ~  768       params ~ grad: True\u001B[0m\n",
      "\u001B[32mwav2vec.wav2vec2.encoder.layers.11.layer_norm.bias ~  768       params ~ grad: True\u001B[0m\n",
      "\u001B[32mwav2vec.wav2vec2.encoder.layers.11.feed_forward.intermediate_dense.weight ~  2.359.296 params ~ grad: True\u001B[0m\n",
      "\u001B[32mwav2vec.wav2vec2.encoder.layers.11.feed_forward.intermediate_dense.bias ~  3.072     params ~ grad: True\u001B[0m\n",
      "\u001B[32mwav2vec.wav2vec2.encoder.layers.11.feed_forward.output_dense.weight ~  2.359.296 params ~ grad: True\u001B[0m\n",
      "\u001B[32mwav2vec.wav2vec2.encoder.layers.11.feed_forward.output_dense.bias ~  768       params ~ grad: True\u001B[0m\n",
      "\u001B[32mwav2vec.wav2vec2.encoder.layers.11.final_layer_norm.weight ~  768       params ~ grad: True\u001B[0m\n",
      "\u001B[32mwav2vec.wav2vec2.encoder.layers.11.final_layer_norm.bias ~  768       params ~ grad: True\u001B[0m\n",
      "\u001B[32mwav2vec.projector.weight                   ~  196.608   params ~ grad: True\u001B[0m\n",
      "\u001B[32mwav2vec.projector.bias                     ~  256       params ~ grad: True\u001B[0m\n",
      "\u001B[32mwav2vec.classifier.weight                  ~  512       params ~ grad: True\u001B[0m\n",
      "\u001B[32mwav2vec.classifier.bias                    ~  2         params ~ grad: True\u001B[0m\n",
      "\n",
      "In total:\n",
      "  - 94.569.090 params\n",
      "  - 26.184.962 learnable params\n",
      "\n",
      " . wav2vec:\n",
      " .   - 94.569.090 params\n",
      " .   - 26.184.962 learnable params\n"
     ]
    }
   ],
   "execution_count": 14
  },
  {
   "metadata": {
    "ExecuteTime": {
     "end_time": "2025-03-15T22:09:32.759821Z",
     "start_time": "2025-03-15T20:38:57.653255Z"
    }
   },
   "cell_type": "code",
   "source": "wav2vec, train_l, val_l, train_acc, val_acc = train_model(wav2vec, train_dataloader, val_dataloader, epochs=30, lr=0.001, device=DEVICE)",
   "id": "de0658685ff3bab0",
   "outputs": [
    {
     "name": "stderr",
     "output_type": "stream",
     "text": [
      "Training model:   3%|▎         | 1/30 [02:52<1:23:21, 172.46s/it]"
     ]
    },
    {
     "name": "stdout",
     "output_type": "stream",
     "text": [
      "Epoch 0: train loss: 0.702, train balanced acc: 0.50, test loss: 0.681, test balanced acc: 0.85, lr: 0.001\n"
     ]
    },
    {
     "name": "stderr",
     "output_type": "stream",
     "text": [
      "Training model:   7%|▋         | 2/30 [05:52<1:22:38, 177.07s/it]"
     ]
    },
    {
     "name": "stdout",
     "output_type": "stream",
     "text": [
      "Epoch 1: train loss: 0.694, train balanced acc: 0.49, test loss: 0.693, test balanced acc: 0.15, lr: 0.001\n"
     ]
    },
    {
     "name": "stderr",
     "output_type": "stream",
     "text": [
      "Training model:  10%|█         | 3/30 [08:55<1:20:46, 179.51s/it]"
     ]
    },
    {
     "name": "stdout",
     "output_type": "stream",
     "text": [
      "Epoch 2: train loss: 0.693, train balanced acc: 0.51, test loss: 0.703, test balanced acc: 0.15, lr: 0.001\n"
     ]
    },
    {
     "name": "stderr",
     "output_type": "stream",
     "text": [
      "Training model:  13%|█▎        | 4/30 [12:00<1:18:46, 181.80s/it]"
     ]
    },
    {
     "name": "stdout",
     "output_type": "stream",
     "text": [
      "Epoch 3: train loss: 0.694, train balanced acc: 0.49, test loss: 0.660, test balanced acc: 0.85, lr: 0.001\n"
     ]
    },
    {
     "name": "stderr",
     "output_type": "stream",
     "text": [
      "Training model:  17%|█▋        | 5/30 [15:06<1:16:20, 183.22s/it]"
     ]
    },
    {
     "name": "stdout",
     "output_type": "stream",
     "text": [
      "Epoch 4: train loss: 0.694, train balanced acc: 0.49, test loss: 0.698, test balanced acc: 0.15, lr: 0.001\n"
     ]
    },
    {
     "name": "stderr",
     "output_type": "stream",
     "text": [
      "Training model:  20%|██        | 6/30 [18:13<1:13:47, 184.49s/it]"
     ]
    },
    {
     "name": "stdout",
     "output_type": "stream",
     "text": [
      "Epoch 5: train loss: 0.694, train balanced acc: 0.49, test loss: 0.696, test balanced acc: 0.15, lr: 0.001\n"
     ]
    },
    {
     "name": "stderr",
     "output_type": "stream",
     "text": [
      "Training model:  23%|██▎       | 7/30 [21:21<1:11:08, 185.60s/it]"
     ]
    },
    {
     "name": "stdout",
     "output_type": "stream",
     "text": [
      "Epoch 6: train loss: 0.694, train balanced acc: 0.49, test loss: 0.686, test balanced acc: 0.85, lr: 0.0005\n"
     ]
    },
    {
     "name": "stderr",
     "output_type": "stream",
     "text": [
      "Training model:  27%|██▋       | 8/30 [24:27<1:08:11, 185.97s/it]"
     ]
    },
    {
     "name": "stdout",
     "output_type": "stream",
     "text": [
      "Epoch 7: train loss: 0.693, train balanced acc: 0.50, test loss: 0.683, test balanced acc: 0.85, lr: 0.0005\n"
     ]
    },
    {
     "name": "stderr",
     "output_type": "stream",
     "text": [
      "Training model:  30%|███       | 9/30 [27:35<1:05:17, 186.55s/it]"
     ]
    },
    {
     "name": "stdout",
     "output_type": "stream",
     "text": [
      "Epoch 8: train loss: 0.693, train balanced acc: 0.51, test loss: 0.685, test balanced acc: 0.85, lr: 0.0005\n"
     ]
    },
    {
     "name": "stderr",
     "output_type": "stream",
     "text": [
      "Training model:  33%|███▎      | 10/30 [30:41<1:02:06, 186.31s/it]"
     ]
    },
    {
     "name": "stdout",
     "output_type": "stream",
     "text": [
      "Epoch 9: train loss: 0.693, train balanced acc: 0.49, test loss: 0.689, test balanced acc: 0.85, lr: 0.00025\n"
     ]
    },
    {
     "name": "stderr",
     "output_type": "stream",
     "text": [
      "Training model:  37%|███▋      | 11/30 [33:44<58:42, 185.40s/it]  "
     ]
    },
    {
     "name": "stdout",
     "output_type": "stream",
     "text": [
      "Epoch 10: train loss: 0.693, train balanced acc: 0.50, test loss: 0.690, test balanced acc: 0.85, lr: 0.00025\n"
     ]
    },
    {
     "name": "stderr",
     "output_type": "stream",
     "text": [
      "Training model:  40%|████      | 12/30 [36:49<55:32, 185.11s/it]"
     ]
    },
    {
     "name": "stdout",
     "output_type": "stream",
     "text": [
      "Epoch 11: train loss: 0.693, train balanced acc: 0.50, test loss: 0.691, test balanced acc: 0.85, lr: 0.00025\n"
     ]
    },
    {
     "name": "stderr",
     "output_type": "stream",
     "text": [
      "Training model:  43%|████▎     | 13/30 [39:53<52:24, 185.00s/it]"
     ]
    },
    {
     "name": "stdout",
     "output_type": "stream",
     "text": [
      "Epoch 12: train loss: 0.693, train balanced acc: 0.52, test loss: 0.688, test balanced acc: 0.85, lr: 0.000125\n"
     ]
    },
    {
     "name": "stderr",
     "output_type": "stream",
     "text": [
      "Training model:  47%|████▋     | 14/30 [43:03<49:40, 186.28s/it]"
     ]
    },
    {
     "name": "stdout",
     "output_type": "stream",
     "text": [
      "Epoch 13: train loss: 0.693, train balanced acc: 0.50, test loss: 0.689, test balanced acc: 0.85, lr: 0.000125\n"
     ]
    },
    {
     "name": "stderr",
     "output_type": "stream",
     "text": [
      "Training model:  50%|█████     | 15/30 [46:11<46:44, 186.95s/it]"
     ]
    },
    {
     "name": "stdout",
     "output_type": "stream",
     "text": [
      "Epoch 14: train loss: 0.693, train balanced acc: 0.49, test loss: 0.690, test balanced acc: 0.85, lr: 0.000125\n"
     ]
    },
    {
     "name": "stderr",
     "output_type": "stream",
     "text": [
      "Training model:  53%|█████▎    | 16/30 [49:20<43:46, 187.57s/it]"
     ]
    },
    {
     "name": "stdout",
     "output_type": "stream",
     "text": [
      "Epoch 15: train loss: 0.693, train balanced acc: 0.51, test loss: 0.689, test balanced acc: 0.85, lr: 6.25e-05\n"
     ]
    },
    {
     "name": "stderr",
     "output_type": "stream",
     "text": [
      "Training model:  57%|█████▋    | 17/30 [52:35<41:05, 189.68s/it]"
     ]
    },
    {
     "name": "stdout",
     "output_type": "stream",
     "text": [
      "Epoch 16: train loss: 0.693, train balanced acc: 0.50, test loss: 0.690, test balanced acc: 0.85, lr: 6.25e-05\n"
     ]
    },
    {
     "name": "stderr",
     "output_type": "stream",
     "text": [
      "Training model:  60%|██████    | 18/30 [55:38<37:33, 187.79s/it]"
     ]
    },
    {
     "name": "stdout",
     "output_type": "stream",
     "text": [
      "Epoch 17: train loss: 0.693, train balanced acc: 0.50, test loss: 0.690, test balanced acc: 0.85, lr: 6.25e-05\n"
     ]
    },
    {
     "name": "stderr",
     "output_type": "stream",
     "text": [
      "Training model:  63%|██████▎   | 19/30 [58:43<34:14, 186.78s/it]"
     ]
    },
    {
     "name": "stdout",
     "output_type": "stream",
     "text": [
      "Epoch 18: train loss: 0.693, train balanced acc: 0.49, test loss: 0.692, test balanced acc: 0.85, lr: 3.125e-05\n"
     ]
    },
    {
     "name": "stderr",
     "output_type": "stream",
     "text": [
      "Training model:  67%|██████▋   | 20/30 [1:01:47<31:00, 186.07s/it]"
     ]
    },
    {
     "name": "stdout",
     "output_type": "stream",
     "text": [
      "Epoch 19: train loss: 0.674, train balanced acc: 0.56, test loss: 0.314, test balanced acc: 0.91, lr: 3.125e-05\n"
     ]
    },
    {
     "name": "stderr",
     "output_type": "stream",
     "text": [
      "Training model:  70%|███████   | 21/30 [1:04:49<27:43, 184.83s/it]"
     ]
    },
    {
     "name": "stdout",
     "output_type": "stream",
     "text": [
      "Epoch 20: train loss: 0.405, train balanced acc: 0.84, test loss: 0.472, test balanced acc: 0.82, lr: 3.125e-05\n"
     ]
    },
    {
     "name": "stderr",
     "output_type": "stream",
     "text": [
      "Training model:  73%|███████▎  | 22/30 [1:07:46<24:18, 182.36s/it]"
     ]
    },
    {
     "name": "stdout",
     "output_type": "stream",
     "text": [
      "Epoch 21: train loss: 0.306, train balanced acc: 0.89, test loss: 0.176, test balanced acc: 0.93, lr: 3.125e-05\n"
     ]
    },
    {
     "name": "stderr",
     "output_type": "stream",
     "text": [
      "Training model:  77%|███████▋  | 23/30 [1:10:38<20:56, 179.53s/it]"
     ]
    },
    {
     "name": "stdout",
     "output_type": "stream",
     "text": [
      "Epoch 22: train loss: 0.211, train balanced acc: 0.92, test loss: 0.220, test balanced acc: 0.92, lr: 3.125e-05\n"
     ]
    },
    {
     "name": "stderr",
     "output_type": "stream",
     "text": [
      "Training model:  80%|████████  | 24/30 [1:13:30<17:43, 177.18s/it]"
     ]
    },
    {
     "name": "stdout",
     "output_type": "stream",
     "text": [
      "Epoch 23: train loss: 0.173, train balanced acc: 0.94, test loss: 0.179, test balanced acc: 0.93, lr: 3.125e-05\n"
     ]
    },
    {
     "name": "stderr",
     "output_type": "stream",
     "text": [
      "Training model:  83%|████████▎ | 25/30 [1:16:21<14:35, 175.18s/it]"
     ]
    },
    {
     "name": "stdout",
     "output_type": "stream",
     "text": [
      "Epoch 24: train loss: 0.170, train balanced acc: 0.94, test loss: 0.162, test balanced acc: 0.94, lr: 3.125e-05\n"
     ]
    },
    {
     "name": "stderr",
     "output_type": "stream",
     "text": [
      "Training model:  87%|████████▋ | 26/30 [1:19:11<11:34, 173.73s/it]"
     ]
    },
    {
     "name": "stdout",
     "output_type": "stream",
     "text": [
      "Epoch 25: train loss: 0.180, train balanced acc: 0.93, test loss: 0.165, test balanced acc: 0.94, lr: 3.125e-05\n"
     ]
    },
    {
     "name": "stderr",
     "output_type": "stream",
     "text": [
      "Training model:  90%|█████████ | 27/30 [1:22:01<08:38, 172.68s/it]"
     ]
    },
    {
     "name": "stdout",
     "output_type": "stream",
     "text": [
      "Epoch 26: train loss: 0.142, train balanced acc: 0.95, test loss: 0.192, test balanced acc: 0.94, lr: 3.125e-05\n"
     ]
    },
    {
     "name": "stderr",
     "output_type": "stream",
     "text": [
      "Training model:  93%|█████████▎| 28/30 [1:24:52<05:43, 171.97s/it]"
     ]
    },
    {
     "name": "stdout",
     "output_type": "stream",
     "text": [
      "Epoch 27: train loss: 0.147, train balanced acc: 0.95, test loss: 0.192, test balanced acc: 0.93, lr: 1.5625e-05\n"
     ]
    },
    {
     "name": "stderr",
     "output_type": "stream",
     "text": [
      "Training model:  97%|█████████▋| 29/30 [1:27:42<02:51, 171.54s/it]"
     ]
    },
    {
     "name": "stdout",
     "output_type": "stream",
     "text": [
      "Epoch 28: train loss: 0.126, train balanced acc: 0.96, test loss: 0.187, test balanced acc: 0.93, lr: 1.5625e-05\n"
     ]
    },
    {
     "name": "stderr",
     "output_type": "stream",
     "text": [
      "Training model: 100%|██████████| 30/30 [1:30:34<00:00, 181.16s/it]"
     ]
    },
    {
     "name": "stdout",
     "output_type": "stream",
     "text": [
      "Epoch 29: train loss: 0.098, train balanced acc: 0.97, test loss: 0.192, test balanced acc: 0.94, lr: 1.5625e-05\n"
     ]
    },
    {
     "name": "stderr",
     "output_type": "stream",
     "text": [
      "\n"
     ]
    }
   ],
   "execution_count": 15
  },
  {
   "metadata": {
    "ExecuteTime": {
     "end_time": "2025-03-15T22:09:32.765977Z",
     "start_time": "2025-03-15T22:09:32.761112Z"
    }
   },
   "cell_type": "code",
   "source": [
    "def test_model(model, test_data):\n",
    "    model = model.to(DEVICE)\n",
    "        \n",
    "    model.eval()\n",
    "    preds = []\n",
    "    targets = []\n",
    "    with torch.no_grad():\n",
    "        for features, target in tqdm(test_dataset):\n",
    "            features = features.to(DEVICE)\n",
    "            target = target.to(DEVICE)\n",
    "            \n",
    "            label = model(features).logits.to(\"cpu\").detach().numpy().squeeze()\n",
    "            preds.append(label.argmax(axis=-1))\n",
    "            targets.append(target.to(\"cpu\").item())\n",
    "\n",
    "    preds = np.array(preds)\n",
    "    # print(targets)\n",
    "    print(classification_report(targets, preds))    \n",
    "\n",
    "    return preds"
   ],
   "id": "7ba94cbf83d2c1ad",
   "outputs": [],
   "execution_count": 16
  },
  {
   "metadata": {
    "ExecuteTime": {
     "end_time": "2025-03-15T22:09:47.655186Z",
     "start_time": "2025-03-15T22:09:32.766613Z"
    }
   },
   "cell_type": "code",
   "source": "test_model(wav2vec, test_dataset)",
   "id": "3654d915c3490aa6",
   "outputs": [
    {
     "name": "stderr",
     "output_type": "stream",
     "text": [
      "100%|██████████| 851/851 [00:14<00:00, 57.26it/s]"
     ]
    },
    {
     "name": "stdout",
     "output_type": "stream",
     "text": [
      "              precision    recall  f1-score   support\n",
      "\n",
      "           0       0.86      0.95      0.90       105\n",
      "           1       0.99      0.98      0.99       746\n",
      "\n",
      "    accuracy                           0.98       851\n",
      "   macro avg       0.93      0.97      0.95       851\n",
      "weighted avg       0.98      0.98      0.98       851\n",
      "\n"
     ]
    },
    {
     "name": "stderr",
     "output_type": "stream",
     "text": [
      "\n"
     ]
    },
    {
     "data": {
      "text/plain": [
       "array([1, 1, 1, 1, 0, 1, 1, 1, 1, 1, 1, 0, 1, 1, 1, 1, 1, 1, 1, 1, 1, 1,\n",
       "       1, 1, 1, 1, 1, 1, 1, 1, 1, 1, 1, 1, 0, 0, 1, 1, 1, 1, 1, 1, 0, 1,\n",
       "       1, 1, 1, 1, 1, 1, 1, 1, 1, 1, 1, 1, 1, 1, 1, 1, 1, 1, 0, 0, 1, 1,\n",
       "       1, 1, 1, 1, 1, 1, 0, 1, 1, 0, 1, 1, 1, 0, 1, 1, 0, 1, 1, 1, 1, 0,\n",
       "       1, 1, 1, 1, 1, 1, 1, 1, 1, 0, 0, 1, 1, 0, 0, 1, 1, 1, 1, 0, 1, 1,\n",
       "       1, 1, 1, 1, 1, 1, 1, 1, 1, 0, 1, 0, 1, 1, 1, 1, 1, 1, 0, 1, 0, 1,\n",
       "       1, 1, 1, 1, 0, 1, 1, 0, 0, 0, 1, 1, 1, 1, 1, 1, 1, 1, 1, 0, 1, 1,\n",
       "       0, 1, 1, 1, 1, 1, 0, 1, 1, 1, 1, 1, 1, 1, 1, 1, 1, 1, 1, 1, 1, 1,\n",
       "       1, 0, 1, 1, 1, 1, 1, 1, 1, 1, 1, 1, 1, 1, 1, 1, 1, 1, 0, 0, 1, 1,\n",
       "       1, 1, 1, 0, 1, 1, 1, 1, 1, 1, 1, 1, 1, 1, 1, 1, 0, 1, 1, 0, 1, 0,\n",
       "       1, 1, 1, 1, 0, 1, 1, 0, 1, 1, 1, 1, 1, 0, 1, 1, 0, 1, 1, 1, 1, 1,\n",
       "       1, 0, 0, 1, 1, 1, 1, 1, 1, 1, 1, 0, 1, 1, 1, 0, 0, 1, 0, 1, 1, 1,\n",
       "       1, 1, 1, 1, 0, 1, 1, 1, 1, 1, 1, 1, 1, 1, 0, 1, 1, 1, 1, 1, 1, 1,\n",
       "       1, 1, 1, 1, 1, 1, 1, 1, 1, 1, 1, 1, 1, 1, 1, 1, 1, 1, 1, 1, 0, 1,\n",
       "       1, 1, 1, 1, 0, 0, 1, 0, 1, 1, 1, 1, 1, 1, 1, 1, 1, 1, 1, 1, 1, 1,\n",
       "       1, 0, 1, 1, 0, 1, 1, 0, 0, 1, 1, 1, 1, 0, 1, 1, 1, 1, 1, 1, 1, 1,\n",
       "       1, 0, 1, 1, 1, 1, 0, 1, 1, 1, 1, 1, 1, 1, 1, 1, 0, 1, 1, 1, 1, 1,\n",
       "       1, 0, 1, 1, 0, 1, 1, 1, 0, 1, 1, 1, 0, 1, 1, 1, 0, 1, 1, 0, 1, 1,\n",
       "       1, 1, 1, 1, 1, 1, 1, 1, 1, 1, 1, 1, 1, 1, 1, 0, 1, 1, 1, 1, 1, 1,\n",
       "       1, 1, 1, 1, 1, 0, 1, 1, 1, 1, 1, 0, 1, 1, 0, 0, 1, 1, 1, 1, 1, 1,\n",
       "       1, 1, 1, 1, 1, 1, 1, 0, 1, 1, 1, 1, 1, 1, 1, 0, 1, 1, 1, 0, 0, 1,\n",
       "       1, 0, 1, 1, 1, 1, 1, 1, 1, 1, 1, 1, 0, 0, 1, 1, 1, 1, 1, 0, 1, 1,\n",
       "       1, 1, 1, 1, 0, 1, 1, 1, 1, 1, 1, 1, 1, 1, 1, 1, 1, 1, 1, 1, 1, 1,\n",
       "       1, 1, 1, 1, 1, 1, 1, 1, 1, 0, 1, 1, 1, 0, 1, 1, 1, 1, 1, 1, 1, 1,\n",
       "       1, 1, 1, 1, 1, 1, 1, 1, 1, 1, 1, 1, 1, 1, 1, 1, 1, 1, 1, 1, 1, 0,\n",
       "       1, 1, 1, 1, 0, 1, 1, 0, 1, 1, 1, 1, 1, 1, 1, 1, 0, 1, 1, 1, 1, 1,\n",
       "       1, 1, 1, 1, 1, 1, 1, 1, 1, 1, 1, 1, 1, 1, 1, 1, 0, 1, 1, 1, 0, 1,\n",
       "       1, 1, 1, 0, 1, 1, 1, 1, 1, 1, 1, 1, 1, 1, 1, 1, 1, 0, 1, 1, 1, 1,\n",
       "       1, 1, 1, 1, 1, 1, 1, 1, 1, 1, 1, 1, 1, 1, 1, 1, 1, 1, 1, 0, 1, 1,\n",
       "       1, 1, 1, 1, 0, 1, 1, 1, 1, 1, 1, 1, 1, 1, 1, 1, 1, 1, 0, 1, 1, 1,\n",
       "       0, 1, 1, 1, 1, 1, 1, 1, 1, 1, 1, 1, 1, 0, 1, 1, 1, 1, 1, 0, 0, 1,\n",
       "       0, 1, 1, 1, 1, 1, 1, 1, 1, 1, 1, 0, 1, 1, 1, 1, 1, 1, 1, 1, 1, 1,\n",
       "       1, 1, 1, 1, 1, 1, 1, 1, 1, 0, 0, 1, 0, 1, 1, 1, 1, 0, 0, 0, 1, 1,\n",
       "       1, 1, 0, 1, 1, 1, 1, 1, 1, 1, 0, 1, 1, 1, 1, 1, 1, 1, 1, 0, 1, 1,\n",
       "       1, 1, 1, 1, 1, 1, 1, 1, 1, 1, 1, 1, 1, 1, 1, 1, 1, 1, 1, 0, 1, 0,\n",
       "       1, 1, 1, 1, 1, 1, 1, 0, 1, 1, 1, 1, 1, 1, 1, 1, 1, 1, 1, 1, 1, 1,\n",
       "       1, 0, 1, 1, 1, 1, 1, 1, 1, 1, 1, 1, 1, 1, 1, 1, 0, 1, 1, 0, 1, 1,\n",
       "       1, 0, 1, 1, 1, 1, 1, 0, 1, 1, 1, 1, 1, 1, 1, 1, 1, 1, 1, 1, 0, 1,\n",
       "       1, 1, 1, 1, 1, 1, 1, 1, 1, 1, 1, 1, 1, 1, 1])"
      ]
     },
     "execution_count": 17,
     "metadata": {},
     "output_type": "execute_result"
    }
   ],
   "execution_count": 17
  },
  {
   "metadata": {
    "ExecuteTime": {
     "end_time": "2025-03-15T22:12:23.740055Z",
     "start_time": "2025-03-15T22:12:23.232599Z"
    }
   },
   "cell_type": "code",
   "source": [
    "import matplotlib.pyplot as plt\n",
    "\n",
    "fig, axes = plt.subplots(nrows=2, ncols=2, figsize=(20, 20))\n",
    "\n",
    "axes[0][0].plot(train_l)\n",
    "axes[0][0].set_title(\"Train loss\", fontsize=30)\n",
    "axes[0][0].set_xlabel(\"Epoch\", fontsize=15)\n",
    "\n",
    "axes[0][1].plot(val_l)\n",
    "axes[0][1].set_title(\"Validation loss\", fontsize=30)\n",
    "axes[0][1].set_xlabel(\"Epoch\", fontsize=15)\n",
    "\n",
    "axes[1][0].plot(train_acc)\n",
    "axes[1][0].set_title(\"Train accuracy\", fontsize=30)\n",
    "axes[1][0].set_xlabel(\"Epoch\", fontsize=15)\n",
    "\n",
    "axes[1][1].plot(val_acc)\n",
    "axes[1][1].set_title(\"Validation accuracy\", fontsize=30)\n",
    "axes[1][1].set_xlabel(\"Epoch\", fontsize=15)"
   ],
   "id": "97372065c3ed4b22",
   "outputs": [
    {
     "data": {
      "text/plain": [
       "Text(0.5, 0, 'Epoch')"
      ]
     },
     "execution_count": 18,
     "metadata": {},
     "output_type": "execute_result"
    },
    {
     "data": {
      "text/plain": [
       "<Figure size 2000x2000 with 4 Axes>"
      ],
      "image/png": "[encoded data removed]"
     },
     "metadata": {},
     "output_type": "display_data"
    }
   ],
   "execution_count": 18
  },
  {
   "metadata": {
    "ExecuteTime": {
     "end_time": "2025-03-15T22:19:22.947665Z",
     "start_time": "2025-03-15T22:19:22.944147Z"
    }
   },
   "cell_type": "code",
   "source": "CHECKPOINTS_DIR = os.path.join(\"..\", \"checkpoints\")",
   "id": "a24148aae3f5e8e2",
   "outputs": [],
   "execution_count": 21
  },
  {
   "metadata": {
    "ExecuteTime": {
     "end_time": "2025-03-15T22:19:23.666393Z",
     "start_time": "2025-03-15T22:19:23.368763Z"
    }
   },
   "cell_type": "code",
   "source": [
    "if not os.path.exists(os.path.join(CHECKPOINTS_DIR, \"wav2vec_chkp\")):\n",
    "    os.makedirs(os.path.join(CHECKPOINTS_DIR, \"wav2vec_chkp\"))\n",
    "\n",
    "torch.save(\n",
    "{\n",
    "    'epoch': 30,\n",
    "    'model_state_dict': wav2vec.state_dict(),\n",
    "    # 'optimizer_state_dict': optimizer.state_dict(),\n",
    "    # 'scheduler_state_dict': scheduler.state_dict(),\n",
    "    'losses_train': train_l,\n",
    "    'losses_val': val_l,\n",
    "},\n",
    "os.path.join(CHECKPOINTS_DIR, \"wav2vec_chkp\", \"wav2vec\" + \"_\" + \"0.75\" + \"_\" + str(val_acc[-1]) + '.pt'),\n",
    ")"
   ],
   "id": "17da294498f33545",
   "outputs": [],
   "execution_count": 22
  },
  {
   "metadata": {},
   "cell_type": "code",
   "outputs": [],
   "execution_count": null,
   "source": "",
   "id": "6d63dc86652dc6fd"
  }
 ],
 "metadata": {
  "kernelspec": {
   "display_name": "Python 3",
   "language": "python",
   "name": "python3"
  },
  "language_info": {
   "codemirror_mode": {
    "name": "ipython",
    "version": 2
   },
   "file_extension": ".py",
   "mimetype": "text/x-python",
   "name": "python",
   "nbconvert_exporter": "python",
   "pygments_lexer": "ipython2",
   "version": "2.7.6"
  }
 },
 "nbformat": 4,
 "nbformat_minor": 5
}

{
 "cells": [
  {
   "cell_type": "code",
   "id": "initial_id",
   "metadata": {
    "collapsed": true,
    "ExecuteTime": {
     "end_time": "2025-03-15T14:01:09.384619Z",
     "start_time": "2025-03-15T14:01:02.680925Z"
    }
   },
   "source": [
    "import warnings\n",
    "\n",
    "from catboost import CatBoostClassifier\n",
    "\n",
    "for warn in [UserWarning, FutureWarning]: warnings.filterwarnings(\"ignore\", category = warn)\n",
    "\n",
    "import os\n",
    "import time\n",
    "import torch\n",
    "import torchaudio\n",
    "\n",
    "import numpy as np\n",
    "import pandas as pd\n",
    "\n",
    "from sklearn.metrics import f1_score, recall_score, precision_score, balanced_accuracy_score, accuracy_score, classification_report\n",
    "from sklearn.linear_model import LogisticRegression\n",
    "from sklearn.model_selection import train_test_split\n",
    "\n",
    "import scipy\n",
    "\n",
    "from tqdm import tqdm\n",
    "import librosa\n",
    "\n",
    "from src.utils import *\n",
    "\n",
    "from flaml import AutoML\n",
    "\n",
    "from transformers import AutoFeatureExtractor\n",
    "\n",
    "from disvoice.prosody.prosody import Prosody\n",
    "\n",
    "from catboost import CatBoostClassifier\n",
    "import optuna"
   ],
   "outputs": [
    {
     "name": "stderr",
     "output_type": "stream",
     "text": [
      "################################################################################\n",
      "### WARNING, path does not exist: KALDI_ROOT=/mnt/matylda5/iveselyk/Tools/kaldi-trunk\n",
      "###          (please add 'export KALDI_ROOT=<your_path>' in your $HOME/.profile)\n",
      "###          (or run as: KALDI_ROOT=<your_path> python <your_script>.py)\n",
      "################################################################################\n",
      "\n",
      "2025-03-15 17:01:06.950473: I tensorflow/core/util/port.cc:153] oneDNN custom operations are on. You may see slightly different numerical results due to floating-point round-off errors from different computation orders. To turn them off, set the environment variable `TF_ENABLE_ONEDNN_OPTS=0`.\n",
      "2025-03-15 17:01:06.959583: E external/local_xla/xla/stream_executor/cuda/cuda_fft.cc:477] Unable to register cuFFT factory: Attempting to register factory for plugin cuFFT when one has already been registered\n",
      "WARNING: All log messages before absl::InitializeLog() is called are written to STDERR\n",
      "E0000 00:00:1742047266.971511 1119188 cuda_dnn.cc:8310] Unable to register cuDNN factory: Attempting to register factory for plugin cuDNN when one has already been registered\n",
      "E0000 00:00:1742047266.974994 1119188 cuda_blas.cc:1418] Unable to register cuBLAS factory: Attempting to register factory for plugin cuBLAS when one has already been registered\n",
      "2025-03-15 17:01:06.988121: I tensorflow/core/platform/cpu_feature_guard.cc:210] This TensorFlow binary is optimized to use available CPU instructions in performance-critical operations.\n",
      "To enable the following instructions: AVX2 AVX_VNNI FMA, in other operations, rebuild TensorFlow with the appropriate compiler flags.\n"
     ]
    }
   ],
   "execution_count": 1
  },
  {
   "metadata": {
    "ExecuteTime": {
     "end_time": "2025-03-15T14:01:09.399065Z",
     "start_time": "2025-03-15T14:01:09.385599Z"
    }
   },
   "cell_type": "code",
   "source": [
    "SEED = 1984\n",
    "\n",
    "np.random.seed(SEED)\n",
    "torch.manual_seed(SEED)\n",
    "\n",
    "gen = torch.Generator()\n",
    "gen.manual_seed(SEED)\n",
    "\n",
    "SR = 8_000\n",
    "SEQUENCE_LENGTH = 300 * SR\n",
    "MFCC = 64\n",
    "DATA_DIR = os.path.join('..', 'data')\n",
    "VOICES_DIR = os.path.join(DATA_DIR, 'Voices_wav')\n",
    "APHASIA_DIR = os.path.join(VOICES_DIR, 'Aphasia')\n",
    "NORM_DIR = os.path.join(VOICES_DIR, 'Norm')\n",
    "train_data = pd.read_csv(os.path.join(DATA_DIR, 'train_filenames.csv'))\n",
    "val_data = pd.read_csv(os.path.join(DATA_DIR, 'val_filenames.csv'))\n",
    "test_data = pd.read_csv(os.path.join(DATA_DIR, 'test_filenames.csv'))\n",
    "train_data[\"file_name\"] = train_data.apply(\n",
    "    lambda x: os.path.join(APHASIA_DIR, x['file_name']) if x['label'] == 1 else os.path.join(NORM_DIR, x['file_name']),\n",
    "    axis=1)\n",
    "val_data[\"file_name\"] = val_data.apply(\n",
    "    lambda x: os.path.join(APHASIA_DIR, x['file_name']) if x['label'] == 1 else os.path.join(NORM_DIR, x['file_name']),\n",
    "    axis=1)\n",
    "test_data[\"file_name\"] = test_data.apply(\n",
    "    lambda x: os.path.join(APHASIA_DIR, x['file_name']) if x['label'] == 1 else os.path.join(NORM_DIR, x['file_name']),\n",
    "    axis=1)"
   ],
   "id": "aeea3c9dfd33a3a",
   "outputs": [],
   "execution_count": 2
  },
  {
   "metadata": {
    "ExecuteTime": {
     "end_time": "2025-03-15T14:01:09.405526Z",
     "start_time": "2025-03-15T14:01:09.399844Z"
    }
   },
   "cell_type": "code",
   "source": [
    "def get_features(data_name, prep_function=None):\n",
    "    if not os.path.exists(os.path.join(DATA_DIR, f\"train_data_{data_name}.npy\")) and not (prep_function is None):\n",
    "        _train_data = np.vstack((train_data[\"file_name\"].apply(prep_function)).to_numpy())\n",
    "        _val_data = np.vstack((val_data[\"file_name\"].apply(prep_function)).to_numpy())\n",
    "        _test_data = np.vstack((test_data[\"file_name\"].apply(prep_function)).to_numpy())\n",
    "    \n",
    "        np.save(os.path.join(DATA_DIR, f\"train_data_{data_name}.npy\"), _train_data)\n",
    "        np.save(os.path.join(DATA_DIR, f\"val_data_{data_name}.npy\"), _val_data)\n",
    "        np.save(os.path.join(DATA_DIR, f\"test_data_{data_name}.npy\"), _test_data)\n",
    "    else:\n",
    "        _train_data = np.load(os.path.join(DATA_DIR, f\"train_data_{data_name}.npy\"))\n",
    "        _val_data = np.load(os.path.join(DATA_DIR, f\"val_data_{data_name}.npy\"))\n",
    "        _test_data = np.load(os.path.join(DATA_DIR, f\"test_data_{data_name}.npy\"))\n",
    "    \n",
    "    return _train_data, _val_data, _test_data"
   ],
   "id": "fc72d29186013662",
   "outputs": [],
   "execution_count": 3
  },
  {
   "metadata": {
    "ExecuteTime": {
     "end_time": "2025-03-15T14:01:09.566522Z",
     "start_time": "2025-03-15T14:01:09.406686Z"
    }
   },
   "cell_type": "code",
   "source": [
    "train_data_prosody, val_data_prosody, test_data_prosody = get_features(\"prosody\")\n",
    "train_data_mfcc, val_data_mfcc, test_data_mfcc = get_features(\"mfcc\")\n",
    "train_data_chroma, val_data_chroma, test_data_chroma = get_features(\"chroma\")\n",
    "train_data_spectral, val_data_spectral, test_data_spectral = get_features(\"spectral\")\n",
    "train_data_zrc, val_data_zrc, test_data_zrc = get_features(\"zrc\")\n",
    "train_data_simple, val_data_simple, test_data_simple = get_features(\"simple\")"
   ],
   "id": "23a45efb42334ae",
   "outputs": [],
   "execution_count": 4
  },
  {
   "metadata": {
    "ExecuteTime": {
     "end_time": "2025-03-15T14:01:09.569842Z",
     "start_time": "2025-03-15T14:01:09.567324Z"
    }
   },
   "cell_type": "code",
   "source": [
    "def objective_catboost(trial, X_train, X_val, y_train, y_val):\n",
    "    params = {\n",
    "        # \"iterations\": 1000,\n",
    "        \"learning_rate\": trial.suggest_float(\"learning_rate\", 1e-3, 0.1, log=False),\n",
    "        \"depth\": trial.suggest_int(\"depth\", 2, 10, log=False),\n",
    "        \"subsample\": trial.suggest_float(\"subsample\", 0.05, 1.0, log=False),\n",
    "        \"colsample_bylevel\": trial.suggest_float(\"colsample_bylevel\", 0.05, 1.0, log=False),\n",
    "        \"min_data_in_leaf\": trial.suggest_int(\"min_data_in_leaf\", 1, 100, log=False),\n",
    "        \"n_estimators\": trial.suggest_int(\"n_estimators\", 50, 150, log=True),\n",
    "    }\n",
    "    \n",
    "    classifier = CatBoostClassifier(**params, verbose=False)\n",
    "    \n",
    "    classifier.fit(X_train, y_train)\n",
    "    y_pred = classifier.predict(X_val)\n",
    "    balanced_acc = balanced_accuracy_score(y_val, y_pred)\n",
    "    return balanced_acc"
   ],
   "id": "29dc7c906006f2b9",
   "outputs": [],
   "execution_count": 5
  },
  {
   "metadata": {
    "ExecuteTime": {
     "end_time": "2025-03-15T14:01:09.585484Z",
     "start_time": "2025-03-15T14:01:09.570578Z"
    }
   },
   "cell_type": "code",
   "source": "# X_tune_train_mfcc, X_tune_val_mfcc, y_tune_train_mfcc, y_tune_val_mfcc = train_test_split(val_data_mfcc, val_data[\"label\"], random_state=SEED, stratify=val_data[\"label\"], train_size=0.7) ",
   "id": "c16f17b61b93095d",
   "outputs": [],
   "execution_count": 6
  },
  {
   "metadata": {
    "ExecuteTime": {
     "end_time": "2025-03-15T14:01:09.597314Z",
     "start_time": "2025-03-15T14:01:09.587343Z"
    }
   },
   "cell_type": "code",
   "source": [
    "# study = optuna.create_study(direction=\"maximize\")\n",
    "# optuna.logging.disable_default_handler()\n",
    "# study.optimize(lambda trial: objective_catboost(trial, X_train=X_tune_train_mfcc, X_val=X_tune_val_mfcc, y_train=y_tune_train_mfcc, y_val=y_tune_val_mfcc), n_trials=100, gc_after_trial=True)\n",
    "# mfcc_catboost_params = study.best_params"
   ],
   "id": "a19c2f8cb0d4a609",
   "outputs": [],
   "execution_count": 7
  },
  {
   "metadata": {},
   "cell_type": "markdown",
   "source": "### Catboost and MFCC data",
   "id": "3b05a5e5e9ece472"
  },
  {
   "metadata": {
    "ExecuteTime": {
     "end_time": "2025-03-15T14:01:09.608926Z",
     "start_time": "2025-03-15T14:01:09.598801Z"
    }
   },
   "cell_type": "code",
   "source": [
    "mfcc_catboost_params = {'learning_rate': 0.06604054650459307,\n",
    " 'depth': 3,\n",
    " 'subsample': 0.8079542483536528,\n",
    " 'colsample_bylevel': 0.5638899261036381,\n",
    " 'min_data_in_leaf': 91,\n",
    " 'n_estimators': 52}"
   ],
   "id": "62a37589d3879d8c",
   "outputs": [],
   "execution_count": 8
  },
  {
   "metadata": {
    "ExecuteTime": {
     "end_time": "2025-03-15T14:01:20.446413Z",
     "start_time": "2025-03-15T14:01:09.611400Z"
    }
   },
   "cell_type": "code",
   "source": [
    "cb_mfcc = CatBoostClassifier(**mfcc_catboost_params, verbose=False)\n",
    "\n",
    "cb_mfcc.fit(train_data_mfcc, train_data[\"label\"])"
   ],
   "id": "f779a7c1464b10cc",
   "outputs": [
    {
     "data": {
      "text/plain": [
       "<catboost.core.CatBoostClassifier at 0x79e0e7e04440>"
      ]
     },
     "execution_count": 9,
     "metadata": {},
     "output_type": "execute_result"
    }
   ],
   "execution_count": 9
  },
  {
   "metadata": {
    "ExecuteTime": {
     "end_time": "2025-03-15T14:01:21.429828Z",
     "start_time": "2025-03-15T14:01:20.447644Z"
    }
   },
   "cell_type": "code",
   "source": [
    "preds = cb_mfcc.predict(test_data_mfcc)\n",
    "\n",
    "print(classification_report(test_data[\"label\"], preds))"
   ],
   "id": "ce7e1cfdb578007b",
   "outputs": [
    {
     "name": "stdout",
     "output_type": "stream",
     "text": [
      "              precision    recall  f1-score   support\n",
      "\n",
      "           0       0.76      0.45      0.57        42\n",
      "           1       0.84      0.95      0.90       130\n",
      "\n",
      "    accuracy                           0.83       172\n",
      "   macro avg       0.80      0.70      0.73       172\n",
      "weighted avg       0.82      0.83      0.82       172\n",
      "\n"
     ]
    }
   ],
   "execution_count": 10
  },
  {
   "metadata": {
    "ExecuteTime": {
     "end_time": "2025-03-15T14:01:27.191899Z",
     "start_time": "2025-03-15T14:01:21.430563Z"
    }
   },
   "cell_type": "code",
   "source": [
    "test_data_mfcc_ids = pd.concat([test_data, pd.DataFrame(test_data_mfcc)], axis=1)\n",
    "test_data_mfcc_ids[\"ID\"] = test_data_mfcc_ids[\"file_name\"].apply(lambda x: str(x).split(\"-\")[0] + str(x).split(\"-\")[1])\n",
    "IDs = test_data_mfcc_ids[\"ID\"].unique()\n",
    "\n",
    "all_preds = []\n",
    "all_labels = []\n",
    "\n",
    "for participant_id in tqdm(IDs):\n",
    "    participant_samples = test_data_mfcc_ids[test_data_mfcc_ids[\"ID\"] == participant_id]\n",
    "    labels = participant_samples[\"label\"]\n",
    "    features = participant_samples.iloc[:, 2:-1]\n",
    "\n",
    "    pred = scipy.stats.mode(cb_mfcc.predict(features.values))\n",
    "\n",
    "    all_preds.append(pred.mode)\n",
    "\n",
    "    all_labels.append(labels.values[0])\n",
    "\n",
    "all_preds = np.array(all_preds)\n",
    "all_labels = np.array(all_labels)\n",
    "\n",
    "print(classification_report(all_labels, all_preds))"
   ],
   "id": "63177a4eee1ebfb4",
   "outputs": [
    {
     "name": "stderr",
     "output_type": "stream",
     "text": [
      "100%|██████████| 72/72 [00:05<00:00, 12.57it/s]"
     ]
    },
    {
     "name": "stdout",
     "output_type": "stream",
     "text": [
      "              precision    recall  f1-score   support\n",
      "\n",
      "           0       0.87      0.62      0.72        21\n",
      "           1       0.86      0.96      0.91        51\n",
      "\n",
      "    accuracy                           0.86        72\n",
      "   macro avg       0.86      0.79      0.81        72\n",
      "weighted avg       0.86      0.86      0.85        72\n",
      "\n"
     ]
    },
    {
     "name": "stderr",
     "output_type": "stream",
     "text": [
      "\n"
     ]
    }
   ],
   "execution_count": 11
  },
  {
   "metadata": {},
   "cell_type": "markdown",
   "source": "### Catboost and Prosody data",
   "id": "6eb4d9fbacbe087a"
  },
  {
   "metadata": {
    "ExecuteTime": {
     "end_time": "2025-03-15T14:01:27.195108Z",
     "start_time": "2025-03-15T14:01:27.192875Z"
    }
   },
   "cell_type": "code",
   "source": [
    "# X_tune_train_prosody, X_tune_val_prosody, y_tune_train_prosody, y_tune_val_prosody = train_test_split(val_data_prosody,\n",
    "#                                                                                           val_data[\"label\"],\n",
    "#                                                                                           random_state=SEED,\n",
    "#                                                                                           stratify=val_data[\"label\"],\n",
    "#                                                                                           train_size=0.7)\n",
    "# study = optuna.create_study(direction=\"maximize\")\n",
    "# optuna.logging.disable_default_handler()\n",
    "# study.optimize(lambda trial: objective_catboost(trial, X_train=X_tune_train_prosody, X_val=X_tune_val_prosody, y_train=y_tune_train_prosody, y_val=y_tune_val_prosody), n_trials=100, gc_after_trial=True)\n",
    "# prosody_catboost_params = study.best_params\n",
    "prosody_catboost_params = {'learning_rate': 0.05111140841167912,\n",
    "                         'depth': 5,\n",
    "                         'subsample': 0.5829725032194245,\n",
    "                         'colsample_bylevel': 0.5560076535650318,\n",
    "                         'min_data_in_leaf': 3,\n",
    "                         'n_estimators': 80}"
   ],
   "id": "4506ec08981d2e5a",
   "outputs": [],
   "execution_count": 12
  },
  {
   "metadata": {
    "ExecuteTime": {
     "end_time": "2025-03-15T14:01:27.479460Z",
     "start_time": "2025-03-15T14:01:27.195724Z"
    }
   },
   "cell_type": "code",
   "source": [
    "cb_prosody = CatBoostClassifier(**prosody_catboost_params, verbose=False)\n",
    "\n",
    "cb_prosody.fit(train_data_prosody, train_data[\"label\"])\n",
    "preds = cb_prosody.predict(test_data_prosody)\n",
    "\n",
    "print(classification_report(test_data[\"label\"], preds))"
   ],
   "id": "b7950d0f4b13facf",
   "outputs": [
    {
     "name": "stdout",
     "output_type": "stream",
     "text": [
      "              precision    recall  f1-score   support\n",
      "\n",
      "           0       0.88      0.52      0.66        42\n",
      "           1       0.86      0.98      0.92       130\n",
      "\n",
      "    accuracy                           0.87       172\n",
      "   macro avg       0.87      0.75      0.79       172\n",
      "weighted avg       0.87      0.87      0.85       172\n",
      "\n"
     ]
    }
   ],
   "execution_count": 13
  },
  {
   "metadata": {
    "ExecuteTime": {
     "end_time": "2025-03-15T14:01:27.585537Z",
     "start_time": "2025-03-15T14:01:27.480120Z"
    }
   },
   "cell_type": "code",
   "source": [
    "test_data_prosody_ids = pd.concat([test_data, pd.DataFrame(test_data_prosody)], axis=1)\n",
    "test_data_prosody_ids[\"ID\"] = test_data_prosody_ids[\"file_name\"].apply(lambda x: str(x).split(\"-\")[0] + str(x).split(\"-\")[1])\n",
    "IDs = test_data_prosody_ids[\"ID\"].unique()\n",
    "\n",
    "all_preds = []\n",
    "all_labels = []\n",
    "\n",
    "for participant_id in tqdm(IDs):\n",
    "    participant_samples = test_data_prosody_ids[test_data_prosody_ids[\"ID\"] == participant_id]\n",
    "    labels = participant_samples[\"label\"]\n",
    "    features = participant_samples.iloc[:, 2:-1]\n",
    "\n",
    "    pred = scipy.stats.mode(cb_prosody.predict(features.values))\n",
    "\n",
    "    all_preds.append(pred.mode)\n",
    "\n",
    "    all_labels.append(labels.values[0])\n",
    "\n",
    "all_preds = np.array(all_preds)\n",
    "all_labels = np.array(all_labels)\n",
    "\n",
    "print(classification_report(all_labels, all_preds))"
   ],
   "id": "1af4b61c9d513ffa",
   "outputs": [
    {
     "name": "stderr",
     "output_type": "stream",
     "text": [
      "100%|██████████| 72/72 [00:00<00:00, 763.38it/s]"
     ]
    },
    {
     "name": "stdout",
     "output_type": "stream",
     "text": [
      "              precision    recall  f1-score   support\n",
      "\n",
      "           0       0.93      0.62      0.74        21\n",
      "           1       0.86      0.98      0.92        51\n",
      "\n",
      "    accuracy                           0.88        72\n",
      "   macro avg       0.90      0.80      0.83        72\n",
      "weighted avg       0.88      0.88      0.87        72\n",
      "\n"
     ]
    },
    {
     "name": "stderr",
     "output_type": "stream",
     "text": [
      "\n"
     ]
    }
   ],
   "execution_count": 14
  },
  {
   "metadata": {},
   "cell_type": "markdown",
   "source": "### Catboost and all features",
   "id": "26966a9811634467"
  },
  {
   "metadata": {
    "ExecuteTime": {
     "end_time": "2025-03-15T14:01:27.652089Z",
     "start_time": "2025-03-15T14:01:27.587164Z"
    }
   },
   "cell_type": "code",
   "source": [
    "train_data_all_features = np.hstack([train_data_mfcc, train_data_prosody, train_data_chroma, train_data_spectral, train_data_zrc, train_data_simple])\n",
    "val_data_all_features = np.hstack([val_data_mfcc, val_data_prosody, val_data_chroma, val_data_spectral, val_data_zrc, val_data_simple])\n",
    "test_data_all_features = np.hstack([test_data_mfcc, test_data_prosody, test_data_chroma, test_data_spectral, test_data_zrc, test_data_simple])"
   ],
   "id": "75b6e828499fe159",
   "outputs": [],
   "execution_count": 15
  },
  {
   "metadata": {
    "ExecuteTime": {
     "end_time": "2025-03-15T14:01:27.655906Z",
     "start_time": "2025-03-15T14:01:27.653087Z"
    }
   },
   "cell_type": "code",
   "source": [
    "# del train_data_mfcc, train_data_prosody, train_data_chroma, train_data_spectral, train_data_zrc, train_data_simple\n",
    "# del val_data_mfcc, val_data_prosody, val_data_chroma, val_data_spectral, val_data_zrc, val_data_simple\n",
    "# del test_data_mfcc, test_data_prosody, test_data_chroma, test_data_spectral, test_data_zrc, test_data_simple"
   ],
   "id": "6b8f4977d406ba25",
   "outputs": [],
   "execution_count": 16
  },
  {
   "metadata": {
    "ExecuteTime": {
     "end_time": "2025-03-15T14:11:02.063575Z",
     "start_time": "2025-03-15T14:01:27.656703Z"
    }
   },
   "cell_type": "code",
   "source": [
    "cb_all = CatBoostClassifier(verbose=False)\n",
    "\n",
    "cb_all.fit(train_data_all_features, train_data[\"label\"])"
   ],
   "id": "d2b2274dc96b65bc",
   "outputs": [
    {
     "data": {
      "text/plain": [
       "<catboost.core.CatBoostClassifier at 0x79e0e7db50a0>"
      ]
     },
     "execution_count": 17,
     "metadata": {},
     "output_type": "execute_result"
    }
   ],
   "execution_count": 17
  },
  {
   "metadata": {
    "ExecuteTime": {
     "end_time": "2025-03-15T14:11:03.625132Z",
     "start_time": "2025-03-15T14:11:02.080475Z"
    }
   },
   "cell_type": "code",
   "source": [
    "preds = cb_all.predict(test_data_all_features)\n",
    "\n",
    "print(classification_report(test_data[\"label\"], preds))"
   ],
   "id": "fa6e5e01f3354348",
   "outputs": [
    {
     "name": "stdout",
     "output_type": "stream",
     "text": [
      "              precision    recall  f1-score   support\n",
      "\n",
      "           0       0.80      0.57      0.67        42\n",
      "           1       0.87      0.95      0.91       130\n",
      "\n",
      "    accuracy                           0.86       172\n",
      "   macro avg       0.84      0.76      0.79       172\n",
      "weighted avg       0.86      0.86      0.85       172\n",
      "\n"
     ]
    }
   ],
   "execution_count": 18
  },
  {
   "metadata": {
    "ExecuteTime": {
     "end_time": "2025-03-15T14:11:12.122698Z",
     "start_time": "2025-03-15T14:11:03.626487Z"
    }
   },
   "cell_type": "code",
   "source": [
    "test_data_all_features_ids = pd.concat([test_data, pd.DataFrame(test_data_all_features)], axis=1)\n",
    "test_data_all_features_ids[\"ID\"] = test_data_all_features_ids[\"file_name\"].apply(lambda x: str(x).split(\"-\")[0] + str(x).split(\"-\")[1])\n",
    "IDs = test_data_all_features_ids[\"ID\"].unique()\n",
    "\n",
    "all_preds = []\n",
    "all_labels = []\n",
    "\n",
    "for participant_id in tqdm(IDs):\n",
    "    participant_samples = test_data_all_features_ids[test_data_all_features_ids[\"ID\"] == participant_id]\n",
    "    labels = participant_samples[\"label\"]\n",
    "    features = participant_samples.iloc[:, 2:-1]\n",
    "\n",
    "    pred = scipy.stats.mode(cb_all.predict(features.values))\n",
    "\n",
    "    all_preds.append(pred.mode)\n",
    "\n",
    "    all_labels.append(labels.values[0])\n",
    "\n",
    "all_preds = np.array(all_preds)\n",
    "all_labels = np.array(all_labels)\n",
    "\n",
    "print(classification_report(all_labels, all_preds))"
   ],
   "id": "581a4d59ce8e5bf0",
   "outputs": [
    {
     "name": "stderr",
     "output_type": "stream",
     "text": [
      "100%|██████████| 72/72 [00:08<00:00,  8.55it/s]"
     ]
    },
    {
     "name": "stdout",
     "output_type": "stream",
     "text": [
      "              precision    recall  f1-score   support\n",
      "\n",
      "           0       0.83      0.71      0.77        21\n",
      "           1       0.89      0.94      0.91        51\n",
      "\n",
      "    accuracy                           0.88        72\n",
      "   macro avg       0.86      0.83      0.84        72\n",
      "weighted avg       0.87      0.88      0.87        72\n",
      "\n"
     ]
    },
    {
     "name": "stderr",
     "output_type": "stream",
     "text": [
      "\n"
     ]
    }
   ],
   "execution_count": 19
  },
  {
   "metadata": {
    "ExecuteTime": {
     "end_time": "2025-03-15T14:11:12.126210Z",
     "start_time": "2025-03-15T14:11:12.123974Z"
    }
   },
   "cell_type": "code",
   "source": "",
   "id": "cf2ecf4c259df5a2",
   "outputs": [],
   "execution_count": 19
  }
 ],
 "metadata": {
  "kernelspec": {
   "display_name": "Python 3",
   "language": "python",
   "name": "python3"
  },
  "language_info": {
   "codemirror_mode": {
    "name": "ipython",
    "version": 2
   },
   "file_extension": ".py",
   "mimetype": "text/x-python",
   "name": "python",
   "nbconvert_exporter": "python",
   "pygments_lexer": "ipython2",
   "version": "2.7.6"
  }
 },
 "nbformat": 4,
 "nbformat_minor": 5
}

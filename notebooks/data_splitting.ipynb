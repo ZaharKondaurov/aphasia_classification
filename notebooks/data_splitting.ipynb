{
 "cells": [
  {
   "cell_type": "code",
   "id": "initial_id",
   "metadata": {
    "collapsed": true,
    "ExecuteTime": {
     "end_time": "2025-02-20T17:51:16.247248Z",
     "start_time": "2025-02-20T17:51:15.134943Z"
    }
   },
   "source": [
    "from src.utils import *\n",
    "\n",
    "import numpy as np\n",
    "import pandas as pd\n",
    "\n",
    "import matplotlib.pyplot as plt\n",
    "\n",
    "from tqdm import tqdm\n",
    "\n",
    "import torch\n",
    "\n",
    "import scipy\n",
    "import librosa\n",
    "\n",
    "from sklearn.model_selection import train_test_split\n",
    "\n",
    "# from pyannote.audio import Pipeline\n",
    "# from pyannote.audio.pipelines.utils.hook import ProgressHook"
   ],
   "outputs": [],
   "execution_count": 1
  },
  {
   "metadata": {
    "ExecuteTime": {
     "end_time": "2025-02-20T17:51:16.250260Z",
     "start_time": "2025-02-20T17:51:16.248Z"
    }
   },
   "cell_type": "code",
   "source": [
    "DATA_DIR = os.path.join('..', 'data')\n",
    "VOICES_DIR = os.path.join(DATA_DIR, 'Voices_wav')\n",
    "APHASIA_DIR = os.path.join(VOICES_DIR, 'Aphasia')\n",
    "NORM_DIR = os.path.join(VOICES_DIR, 'Norm')"
   ],
   "id": "6230c66dc7ce8833",
   "outputs": [],
   "execution_count": 2
  },
  {
   "metadata": {
    "ExecuteTime": {
     "end_time": "2025-02-20T17:51:16.541015Z",
     "start_time": "2025-02-20T17:51:16.251066Z"
    }
   },
   "cell_type": "code",
   "source": [
    "meta_data_aphasia = pd.read_excel(os.path.join(DATA_DIR, \"Demo RAT discourse production.xlsx\"), sheet_name='пациенты')\n",
    "meta_data_norm = pd.read_excel(os.path.join(DATA_DIR, \"Demo RAT discourse production.xlsx\"), sheet_name='норма')\n",
    "\n",
    "meta_data_norm.drop(meta_data_norm.index[-1], axis=0, inplace=True)\n",
    "meta_data_aphasia[\"Subj_ID\"] = meta_data_aphasia[\"Subj_ID\"].astype(str)\n",
    "meta_data_norm.rename(columns={\"№\": \"Subj_ID\"}, inplace=True)\n",
    "meta_data_norm[\"Subj_ID\"] = meta_data_norm[\"Subj_ID\"].astype(str)"
   ],
   "id": "da3742a7c7e7c4d4",
   "outputs": [],
   "execution_count": 3
  },
  {
   "metadata": {
    "ExecuteTime": {
     "end_time": "2025-02-20T17:51:16.544474Z",
     "start_time": "2025-02-20T17:51:16.541964Z"
    }
   },
   "cell_type": "code",
   "source": [
    "meta_data_aphasia.rename(columns={'Stroked hemisphere (L/R/LR)': 'Stroked hemisphere',\n",
    "                          'Aphasia/Norm (A/N), A includes all patients, even with just dysarthria': 'Aphasia/Norm', \n",
    "                          'Aphasia_Severity \\n0 - no aphasia\\n1 - very mild\\n2 - mild\\n3 - mild-moderate\\n4 - moderate\\n5 - moderate-severe\\n6 - severe\\n7 - very severe': 'Aphasia_Severity',\n",
    "                          'Aphasia_Types\\n1 - efferent motor\\n2 - afferent motor\\n3 - complex motor\\n4 - dynamic\\n5 - acoustic-mnestic\\n6 - sensory\\n7 - semantic\\n8 - other': 'Aphasia_Types',\n",
    "                          'Dominant_Aphasia\\n1 - efferent motor\\n2 - afferent motor\\n3 - complex motor\\n4 - dynamic\\n5 - acoustic-mnestic\\n6 - sensory\\n7 - semantic\\n8 - other': 'Dominant_Aphasia',\n",
    "                          'Dysarthria (1/0)': 'Dysarthria',\n",
    "                          'Dysarthria_Severity \\n0 - no dysarthria\\n1 - very mild\\n2 - mild\\n3 - mild-moderate\\n4 - moderate\\n5 - moderate-severe\\n6 - severe\\n7 - very severe': 'Dysarthria_Severity',\n",
    "                          }, inplace=True)"
   ],
   "id": "231256818a71e2fc",
   "outputs": [],
   "execution_count": 4
  },
  {
   "metadata": {
    "ExecuteTime": {
     "end_time": "2025-02-20T17:51:16.564507Z",
     "start_time": "2025-02-20T17:51:16.545004Z"
    }
   },
   "cell_type": "code",
   "source": [
    "sf_aphasia = []\n",
    "sf_norm = []\n",
    "\n",
    "noise_aphasia = {}\n",
    "noise_norm = {}\n",
    "\n",
    "empty_files = []"
   ],
   "id": "b8203d233d391168",
   "outputs": [],
   "execution_count": 5
  },
  {
   "metadata": {
    "ExecuteTime": {
     "end_time": "2025-02-20T17:51:48.614383Z",
     "start_time": "2025-02-20T17:51:16.565213Z"
    }
   },
   "cell_type": "code",
   "source": [
    "for audio_file in tqdm(os.listdir(APHASIA_DIR)):\n",
    "    y, sr = librosa.load(os.path.join(APHASIA_DIR, audio_file), sr=None)\n",
    "    duration = librosa.get_duration(y=y, sr=sr)\n",
    "    \n",
    "    spectral_flatness = np.mean(librosa.feature.spectral_flatness(y=y))\n",
    "    roll_off = np.mean(librosa.feature.spectral_rolloff(y=y, sr=sr))\n",
    "    \n",
    "    if spectral_flatness > 0.5:\n",
    "        empty_files.append(audio_file)\n",
    "        continue\n",
    "        \n",
    "    sf_aphasia.append([audio_file, spectral_flatness, roll_off])\n",
    "    ind = audio_file.split('-')[1]\n",
    "    if ind not in noise_aphasia:\n",
    "        noise_aphasia[str(ind)] = False\n",
    "    if roll_off < 1_000:\n",
    "        noise_aphasia[str(ind)] = True"
   ],
   "id": "e7acd0635168c6eb",
   "outputs": [
    {
     "name": "stderr",
     "output_type": "stream",
     "text": [
      "100%|██████████| 608/608 [00:32<00:00, 18.98it/s]\n"
     ]
    }
   ],
   "execution_count": 6
  },
  {
   "metadata": {
    "ExecuteTime": {
     "end_time": "2025-02-20T17:51:52.577781Z",
     "start_time": "2025-02-20T17:51:48.615329Z"
    }
   },
   "cell_type": "code",
   "source": [
    "for audio_file in tqdm(os.listdir(NORM_DIR)):\n",
    "    y, sr = librosa.load(os.path.join(NORM_DIR, audio_file), sr=None)\n",
    "    duration = librosa.get_duration(y=y, sr=sr)\n",
    "    \n",
    "    spectral_flatness = np.mean(librosa.feature.spectral_flatness(y=y))\n",
    "    roll_off = np.mean(librosa.feature.spectral_rolloff(y=y, sr=sr))\n",
    "    \n",
    "    if spectral_flatness > 0.5:\n",
    "        empty_files.append(audio_file)\n",
    "        continue\n",
    "    \n",
    "    sf_norm.append([audio_file, spectral_flatness, roll_off])\n",
    "    ind = audio_file.split('-')[1]\n",
    "    if ind[0] == '0':\n",
    "        ind = ind[1:]\n",
    "    ind += '-НРАТ'\n",
    "    \n",
    "    if ind not in noise_norm:\n",
    "        noise_norm[str(ind)] = False\n",
    "    if roll_off < 1_000:\n",
    "        noise_norm[str(ind)] = True"
   ],
   "id": "bfa58acbcb7cc23",
   "outputs": [
    {
     "name": "stderr",
     "output_type": "stream",
     "text": [
      "100%|██████████| 202/202 [00:03<00:00, 51.04it/s]\n"
     ]
    }
   ],
   "execution_count": 7
  },
  {
   "metadata": {
    "ExecuteTime": {
     "end_time": "2025-02-20T17:51:52.585061Z",
     "start_time": "2025-02-20T17:51:52.578662Z"
    }
   },
   "cell_type": "code",
   "source": "[x for x in noise_aphasia.keys() if x not in meta_data_aphasia[\"Subj_ID\"].tolist()]",
   "id": "a5f179a932191f22",
   "outputs": [
    {
     "data": {
      "text/plain": [
       "['409', '426', 'L45']"
      ]
     },
     "execution_count": 8,
     "metadata": {},
     "output_type": "execute_result"
    }
   ],
   "execution_count": 8
  },
  {
   "metadata": {
    "ExecuteTime": {
     "end_time": "2025-02-20T17:51:52.597561Z",
     "start_time": "2025-02-20T17:51:52.586623Z"
    }
   },
   "cell_type": "code",
   "source": "[x for x in noise_norm.keys() if x not in meta_data_norm[\"Subj_ID\"].tolist()]",
   "id": "5fa3f5e0ca4c5ba6",
   "outputs": [
    {
     "data": {
      "text/plain": [
       "[]"
      ]
     },
     "execution_count": 9,
     "metadata": {},
     "output_type": "execute_result"
    }
   ],
   "execution_count": 9
  },
  {
   "metadata": {
    "ExecuteTime": {
     "end_time": "2025-02-20T17:51:52.607835Z",
     "start_time": "2025-02-20T17:51:52.598117Z"
    }
   },
   "cell_type": "code",
   "source": "meta_data_aphasia.shape",
   "id": "20e8b6b976f42408",
   "outputs": [
    {
     "data": {
      "text/plain": [
       "(353, 34)"
      ]
     },
     "execution_count": 10,
     "metadata": {},
     "output_type": "execute_result"
    }
   ],
   "execution_count": 10
  },
  {
   "metadata": {
    "ExecuteTime": {
     "end_time": "2025-02-20T17:51:52.619341Z",
     "start_time": "2025-02-20T17:51:52.608697Z"
    }
   },
   "cell_type": "code",
   "source": [
    "meta_data_aphasia = meta_data_aphasia[meta_data_aphasia[\"Subj_ID\"].isin(noise_aphasia.keys())]\n",
    "meta_data_aphasia.shape"
   ],
   "id": "c2596f0cdf388c9",
   "outputs": [
    {
     "data": {
      "text/plain": [
       "(253, 34)"
      ]
     },
     "execution_count": 11,
     "metadata": {},
     "output_type": "execute_result"
    }
   ],
   "execution_count": 11
  },
  {
   "metadata": {
    "ExecuteTime": {
     "end_time": "2025-02-20T17:51:52.629170Z",
     "start_time": "2025-02-20T17:51:52.620053Z"
    }
   },
   "cell_type": "code",
   "source": "meta_data_norm.shape",
   "id": "ea741c6f8bcfc69d",
   "outputs": [
    {
     "data": {
      "text/plain": [
       "(101, 17)"
      ]
     },
     "execution_count": 12,
     "metadata": {},
     "output_type": "execute_result"
    }
   ],
   "execution_count": 12
  },
  {
   "metadata": {
    "ExecuteTime": {
     "end_time": "2025-02-20T17:51:52.640285Z",
     "start_time": "2025-02-20T17:51:52.629945Z"
    }
   },
   "cell_type": "code",
   "source": [
    "meta_data_norm = meta_data_norm[meta_data_norm[\"Subj_ID\"].isin(noise_norm.keys())]\n",
    "meta_data_norm.shape"
   ],
   "id": "d074abae8e34bf70",
   "outputs": [
    {
     "data": {
      "text/plain": [
       "(101, 17)"
      ]
     },
     "execution_count": 13,
     "metadata": {},
     "output_type": "execute_result"
    }
   ],
   "execution_count": 13
  },
  {
   "metadata": {
    "ExecuteTime": {
     "end_time": "2025-02-20T17:51:52.652925Z",
     "start_time": "2025-02-20T17:51:52.640851Z"
    }
   },
   "cell_type": "code",
   "source": [
    "meta_data_aphasia[\"has_noise\"] = meta_data_aphasia[\"Subj_ID\"].map(noise_aphasia)\n",
    "meta_data_norm[\"has_noise\"] = meta_data_norm[\"Subj_ID\"].map(noise_norm)"
   ],
   "id": "1753122a8e721da5",
   "outputs": [],
   "execution_count": 14
  },
  {
   "metadata": {
    "ExecuteTime": {
     "end_time": "2025-02-20T17:51:52.672227Z",
     "start_time": "2025-02-20T17:51:52.654154Z"
    }
   },
   "cell_type": "code",
   "source": "meta_data_aphasia.head()",
   "id": "a80a8abcfa86a2ba",
   "outputs": [
    {
     "data": {
      "text/plain": [
       "      Unnamed: 0 Subj_ID        Date_of_birth   Age Sex (m/f)  \\\n",
       "0         13-РАТ       1  1957-12-04 00:00:00  58.0         f   \n",
       "1         22-РАТ       7  1964-03-21 00:00:00  52.0         m   \n",
       "2         55-РАТ      13  1962-12-06 00:00:00  53.0         m   \n",
       "3  Афанасенко СС      35  1963-10-21 00:00:00  53.0         m   \n",
       "4    Муксеева ЕА      51  1971-09-22 00:00:00  45.0         f   \n",
       "\n",
       "  Education in years Education level          Stroke_date Stroked hemisphere  \\\n",
       "0                NaN          высшее  2005-03-27 00:00:00                  L   \n",
       "1                NaN          высшее  2006-06-20 00:00:00                  L   \n",
       "2                NaN       сред спец  2008-09-19 00:00:00                  L   \n",
       "3                NaN       сред спец  2011-09-27 00:00:00                  L   \n",
       "4                NaN          высшее  2012-06-16 00:00:00                  L   \n",
       "\n",
       "   N of strokes  ... Time2.2_file_name  Time3.1_file_name Time3.2_file_name  \\\n",
       "0           1.0  ...               NaN                NaN               NaN   \n",
       "1           1.0  ...               NaN                NaN               NaN   \n",
       "2           1.0  ...               NaN    A-13-RAT-3-robb               NaN   \n",
       "3           1.0  ...               NaN    A-35-RAT-3-bike   A-35-RAT-3-robb   \n",
       "4           1.0  ...               NaN                NaN               NaN   \n",
       "\n",
       "  Time4.1_file_name  Time4.2_file_name  Time5.1_file_name Time5.2_file_name  \\\n",
       "0               NaN                NaN                NaN               NaN   \n",
       "1               NaN                NaN                NaN               NaN   \n",
       "2   A-13-RAT-4-bike                NaN                NaN               NaN   \n",
       "3               NaN                NaN                NaN               NaN   \n",
       "4               NaN                NaN                NaN               NaN   \n",
       "\n",
       "  Time6.1_file_name Time6.2_file_name has_noise  \n",
       "0               NaN               NaN     False  \n",
       "1               NaN               NaN     False  \n",
       "2               NaN               NaN      True  \n",
       "3               NaN               NaN      True  \n",
       "4               NaN               NaN     False  \n",
       "\n",
       "[5 rows x 35 columns]"
      ],
      "text/html": [
       "<div>\n",
       "<style scoped>\n",
       "    .dataframe tbody tr th:only-of-type {\n",
       "        vertical-align: middle;\n",
       "    }\n",
       "\n",
       "    .dataframe tbody tr th {\n",
       "        vertical-align: top;\n",
       "    }\n",
       "\n",
       "    .dataframe thead th {\n",
       "        text-align: right;\n",
       "    }\n",
       "</style>\n",
       "<table border=\"1\" class=\"dataframe\">\n",
       "  <thead>\n",
       "    <tr style=\"text-align: right;\">\n",
       "      <th></th>\n",
       "      <th>Unnamed: 0</th>\n",
       "      <th>Subj_ID</th>\n",
       "      <th>Date_of_birth</th>\n",
       "      <th>Age</th>\n",
       "      <th>Sex (m/f)</th>\n",
       "      <th>Education in years</th>\n",
       "      <th>Education level</th>\n",
       "      <th>Stroke_date</th>\n",
       "      <th>Stroked hemisphere</th>\n",
       "      <th>N of strokes</th>\n",
       "      <th>...</th>\n",
       "      <th>Time2.2_file_name</th>\n",
       "      <th>Time3.1_file_name</th>\n",
       "      <th>Time3.2_file_name</th>\n",
       "      <th>Time4.1_file_name</th>\n",
       "      <th>Time4.2_file_name</th>\n",
       "      <th>Time5.1_file_name</th>\n",
       "      <th>Time5.2_file_name</th>\n",
       "      <th>Time6.1_file_name</th>\n",
       "      <th>Time6.2_file_name</th>\n",
       "      <th>has_noise</th>\n",
       "    </tr>\n",
       "  </thead>\n",
       "  <tbody>\n",
       "    <tr>\n",
       "      <th>0</th>\n",
       "      <td>13-РАТ</td>\n",
       "      <td>1</td>\n",
       "      <td>1957-12-04 00:00:00</td>\n",
       "      <td>58.0</td>\n",
       "      <td>f</td>\n",
       "      <td>NaN</td>\n",
       "      <td>высшее</td>\n",
       "      <td>2005-03-27 00:00:00</td>\n",
       "      <td>L</td>\n",
       "      <td>1.0</td>\n",
       "      <td>...</td>\n",
       "      <td>NaN</td>\n",
       "      <td>NaN</td>\n",
       "      <td>NaN</td>\n",
       "      <td>NaN</td>\n",
       "      <td>NaN</td>\n",
       "      <td>NaN</td>\n",
       "      <td>NaN</td>\n",
       "      <td>NaN</td>\n",
       "      <td>NaN</td>\n",
       "      <td>False</td>\n",
       "    </tr>\n",
       "    <tr>\n",
       "      <th>1</th>\n",
       "      <td>22-РАТ</td>\n",
       "      <td>7</td>\n",
       "      <td>1964-03-21 00:00:00</td>\n",
       "      <td>52.0</td>\n",
       "      <td>m</td>\n",
       "      <td>NaN</td>\n",
       "      <td>высшее</td>\n",
       "      <td>2006-06-20 00:00:00</td>\n",
       "      <td>L</td>\n",
       "      <td>1.0</td>\n",
       "      <td>...</td>\n",
       "      <td>NaN</td>\n",
       "      <td>NaN</td>\n",
       "      <td>NaN</td>\n",
       "      <td>NaN</td>\n",
       "      <td>NaN</td>\n",
       "      <td>NaN</td>\n",
       "      <td>NaN</td>\n",
       "      <td>NaN</td>\n",
       "      <td>NaN</td>\n",
       "      <td>False</td>\n",
       "    </tr>\n",
       "    <tr>\n",
       "      <th>2</th>\n",
       "      <td>55-РАТ</td>\n",
       "      <td>13</td>\n",
       "      <td>1962-12-06 00:00:00</td>\n",
       "      <td>53.0</td>\n",
       "      <td>m</td>\n",
       "      <td>NaN</td>\n",
       "      <td>сред спец</td>\n",
       "      <td>2008-09-19 00:00:00</td>\n",
       "      <td>L</td>\n",
       "      <td>1.0</td>\n",
       "      <td>...</td>\n",
       "      <td>NaN</td>\n",
       "      <td>A-13-RAT-3-robb</td>\n",
       "      <td>NaN</td>\n",
       "      <td>A-13-RAT-4-bike</td>\n",
       "      <td>NaN</td>\n",
       "      <td>NaN</td>\n",
       "      <td>NaN</td>\n",
       "      <td>NaN</td>\n",
       "      <td>NaN</td>\n",
       "      <td>True</td>\n",
       "    </tr>\n",
       "    <tr>\n",
       "      <th>3</th>\n",
       "      <td>Афанасенко СС</td>\n",
       "      <td>35</td>\n",
       "      <td>1963-10-21 00:00:00</td>\n",
       "      <td>53.0</td>\n",
       "      <td>m</td>\n",
       "      <td>NaN</td>\n",
       "      <td>сред спец</td>\n",
       "      <td>2011-09-27 00:00:00</td>\n",
       "      <td>L</td>\n",
       "      <td>1.0</td>\n",
       "      <td>...</td>\n",
       "      <td>NaN</td>\n",
       "      <td>A-35-RAT-3-bike</td>\n",
       "      <td>A-35-RAT-3-robb</td>\n",
       "      <td>NaN</td>\n",
       "      <td>NaN</td>\n",
       "      <td>NaN</td>\n",
       "      <td>NaN</td>\n",
       "      <td>NaN</td>\n",
       "      <td>NaN</td>\n",
       "      <td>True</td>\n",
       "    </tr>\n",
       "    <tr>\n",
       "      <th>4</th>\n",
       "      <td>Муксеева ЕА</td>\n",
       "      <td>51</td>\n",
       "      <td>1971-09-22 00:00:00</td>\n",
       "      <td>45.0</td>\n",
       "      <td>f</td>\n",
       "      <td>NaN</td>\n",
       "      <td>высшее</td>\n",
       "      <td>2012-06-16 00:00:00</td>\n",
       "      <td>L</td>\n",
       "      <td>1.0</td>\n",
       "      <td>...</td>\n",
       "      <td>NaN</td>\n",
       "      <td>NaN</td>\n",
       "      <td>NaN</td>\n",
       "      <td>NaN</td>\n",
       "      <td>NaN</td>\n",
       "      <td>NaN</td>\n",
       "      <td>NaN</td>\n",
       "      <td>NaN</td>\n",
       "      <td>NaN</td>\n",
       "      <td>False</td>\n",
       "    </tr>\n",
       "  </tbody>\n",
       "</table>\n",
       "<p>5 rows × 35 columns</p>\n",
       "</div>"
      ]
     },
     "execution_count": 15,
     "metadata": {},
     "output_type": "execute_result"
    }
   ],
   "execution_count": 15
  },
  {
   "metadata": {
    "ExecuteTime": {
     "end_time": "2025-02-20T17:51:52.681298Z",
     "start_time": "2025-02-20T17:51:52.673717Z"
    }
   },
   "cell_type": "code",
   "source": "meta_data_norm.head()",
   "id": "90d3f87ca41c7e21",
   "outputs": [
    {
     "data": {
      "text/plain": [
       "    Subj_ID Порядок предъявления проб Дата проведения РАТа Возрастная группа  \\\n",
       "0  901-НРАТ                         2           28.08.2016                 2   \n",
       "1  902-НРАТ                         1           28.08.2016                 3   \n",
       "2  903-НРАТ                         2           30.08.2016                 1   \n",
       "3  904-НРАТ                         1           06.09.2016                 1   \n",
       "4  905-НРАТ                         2           06.09.2016                 1   \n",
       "\n",
       "  Дата рождения Пол          Образование       Профессия Место жительства  \\\n",
       "0    19.05.1972   м       ученая степень  военнослужащий           Москва   \n",
       "1          1965   ж  среднее специальное         медцина           Москва   \n",
       "2    07.07.1995   ж  неоконченное высшее         студент  Санкт-Петербург   \n",
       "3    09.01.1994   ж  неоконченное высшее     лингвистика           Москва   \n",
       "4    03.10.1995   ж  неоконченное высшее     лингвистика            Химки   \n",
       "\n",
       "  Рукость    Биллингвизм Неврологические/психиатрические расстройства  \\\n",
       "0  правша            нет                                          нет   \n",
       "1  правша            нет                                          нет   \n",
       "2  правша            нет                                          нет   \n",
       "3  правша  да(чувашский)                                          нет   \n",
       "4  правша            нет                                          нет   \n",
       "\n",
       "  Медицинские препараты Проблемы со слухом/зрением  \\\n",
       "0                   нет                        нет   \n",
       "1                   нет                        нет   \n",
       "2                   нет                        нет   \n",
       "3                   нет                        нет   \n",
       "4                   нет                        нет   \n",
       "\n",
       "                                         Комментарии     bike_file_name  \\\n",
       "0  в порядке предъявления 2 (для нечетных) сначал...  N-0901-RAT-1-bike   \n",
       "1                                                NaN  N-0902-RAT-1-bike   \n",
       "2                                                NaN  N-0903-RAT-1-bike   \n",
       "3                                                NaN  N-0904-RAT-1-bike   \n",
       "4                                                NaN  N-0905-RAT-1-bike   \n",
       "\n",
       "   robbery_file_name  has_noise  \n",
       "0  N-0901-RAT-1-robb      False  \n",
       "1  N-0902-RAT-1-robb      False  \n",
       "2  N-0903-RAT-1-robb      False  \n",
       "3  N-0904-RAT-1-robb      False  \n",
       "4  N-0905-RAT-1-robb      False  "
      ],
      "text/html": [
       "<div>\n",
       "<style scoped>\n",
       "    .dataframe tbody tr th:only-of-type {\n",
       "        vertical-align: middle;\n",
       "    }\n",
       "\n",
       "    .dataframe tbody tr th {\n",
       "        vertical-align: top;\n",
       "    }\n",
       "\n",
       "    .dataframe thead th {\n",
       "        text-align: right;\n",
       "    }\n",
       "</style>\n",
       "<table border=\"1\" class=\"dataframe\">\n",
       "  <thead>\n",
       "    <tr style=\"text-align: right;\">\n",
       "      <th></th>\n",
       "      <th>Subj_ID</th>\n",
       "      <th>Порядок предъявления проб</th>\n",
       "      <th>Дата проведения РАТа</th>\n",
       "      <th>Возрастная группа</th>\n",
       "      <th>Дата рождения</th>\n",
       "      <th>Пол</th>\n",
       "      <th>Образование</th>\n",
       "      <th>Профессия</th>\n",
       "      <th>Место жительства</th>\n",
       "      <th>Рукость</th>\n",
       "      <th>Биллингвизм</th>\n",
       "      <th>Неврологические/психиатрические расстройства</th>\n",
       "      <th>Медицинские препараты</th>\n",
       "      <th>Проблемы со слухом/зрением</th>\n",
       "      <th>Комментарии</th>\n",
       "      <th>bike_file_name</th>\n",
       "      <th>robbery_file_name</th>\n",
       "      <th>has_noise</th>\n",
       "    </tr>\n",
       "  </thead>\n",
       "  <tbody>\n",
       "    <tr>\n",
       "      <th>0</th>\n",
       "      <td>901-НРАТ</td>\n",
       "      <td>2</td>\n",
       "      <td>28.08.2016</td>\n",
       "      <td>2</td>\n",
       "      <td>19.05.1972</td>\n",
       "      <td>м</td>\n",
       "      <td>ученая степень</td>\n",
       "      <td>военнослужащий</td>\n",
       "      <td>Москва</td>\n",
       "      <td>правша</td>\n",
       "      <td>нет</td>\n",
       "      <td>нет</td>\n",
       "      <td>нет</td>\n",
       "      <td>нет</td>\n",
       "      <td>в порядке предъявления 2 (для нечетных) сначал...</td>\n",
       "      <td>N-0901-RAT-1-bike</td>\n",
       "      <td>N-0901-RAT-1-robb</td>\n",
       "      <td>False</td>\n",
       "    </tr>\n",
       "    <tr>\n",
       "      <th>1</th>\n",
       "      <td>902-НРАТ</td>\n",
       "      <td>1</td>\n",
       "      <td>28.08.2016</td>\n",
       "      <td>3</td>\n",
       "      <td>1965</td>\n",
       "      <td>ж</td>\n",
       "      <td>среднее специальное</td>\n",
       "      <td>медцина</td>\n",
       "      <td>Москва</td>\n",
       "      <td>правша</td>\n",
       "      <td>нет</td>\n",
       "      <td>нет</td>\n",
       "      <td>нет</td>\n",
       "      <td>нет</td>\n",
       "      <td>NaN</td>\n",
       "      <td>N-0902-RAT-1-bike</td>\n",
       "      <td>N-0902-RAT-1-robb</td>\n",
       "      <td>False</td>\n",
       "    </tr>\n",
       "    <tr>\n",
       "      <th>2</th>\n",
       "      <td>903-НРАТ</td>\n",
       "      <td>2</td>\n",
       "      <td>30.08.2016</td>\n",
       "      <td>1</td>\n",
       "      <td>07.07.1995</td>\n",
       "      <td>ж</td>\n",
       "      <td>неоконченное высшее</td>\n",
       "      <td>студент</td>\n",
       "      <td>Санкт-Петербург</td>\n",
       "      <td>правша</td>\n",
       "      <td>нет</td>\n",
       "      <td>нет</td>\n",
       "      <td>нет</td>\n",
       "      <td>нет</td>\n",
       "      <td>NaN</td>\n",
       "      <td>N-0903-RAT-1-bike</td>\n",
       "      <td>N-0903-RAT-1-robb</td>\n",
       "      <td>False</td>\n",
       "    </tr>\n",
       "    <tr>\n",
       "      <th>3</th>\n",
       "      <td>904-НРАТ</td>\n",
       "      <td>1</td>\n",
       "      <td>06.09.2016</td>\n",
       "      <td>1</td>\n",
       "      <td>09.01.1994</td>\n",
       "      <td>ж</td>\n",
       "      <td>неоконченное высшее</td>\n",
       "      <td>лингвистика</td>\n",
       "      <td>Москва</td>\n",
       "      <td>правша</td>\n",
       "      <td>да(чувашский)</td>\n",
       "      <td>нет</td>\n",
       "      <td>нет</td>\n",
       "      <td>нет</td>\n",
       "      <td>NaN</td>\n",
       "      <td>N-0904-RAT-1-bike</td>\n",
       "      <td>N-0904-RAT-1-robb</td>\n",
       "      <td>False</td>\n",
       "    </tr>\n",
       "    <tr>\n",
       "      <th>4</th>\n",
       "      <td>905-НРАТ</td>\n",
       "      <td>2</td>\n",
       "      <td>06.09.2016</td>\n",
       "      <td>1</td>\n",
       "      <td>03.10.1995</td>\n",
       "      <td>ж</td>\n",
       "      <td>неоконченное высшее</td>\n",
       "      <td>лингвистика</td>\n",
       "      <td>Химки</td>\n",
       "      <td>правша</td>\n",
       "      <td>нет</td>\n",
       "      <td>нет</td>\n",
       "      <td>нет</td>\n",
       "      <td>нет</td>\n",
       "      <td>NaN</td>\n",
       "      <td>N-0905-RAT-1-bike</td>\n",
       "      <td>N-0905-RAT-1-robb</td>\n",
       "      <td>False</td>\n",
       "    </tr>\n",
       "  </tbody>\n",
       "</table>\n",
       "</div>"
      ]
     },
     "execution_count": 16,
     "metadata": {},
     "output_type": "execute_result"
    }
   ],
   "execution_count": 16
  },
  {
   "metadata": {
    "ExecuteTime": {
     "end_time": "2025-02-20T17:51:52.699364Z",
     "start_time": "2025-02-20T17:51:52.682042Z"
    }
   },
   "cell_type": "code",
   "source": [
    "train_aphasia, test_aphasia = train_test_split(meta_data_aphasia, test_size=0.4, random_state=42, stratify=meta_data_aphasia[\"has_noise\"])\n",
    "\n",
    "val_aphasia, test_aphasia = train_test_split(test_aphasia, test_size=0.5, random_state=42, stratify=test_aphasia[\"has_noise\"])"
   ],
   "id": "af38af9931afc7ad",
   "outputs": [],
   "execution_count": 17
  },
  {
   "metadata": {
    "ExecuteTime": {
     "end_time": "2025-02-20T17:51:52.709974Z",
     "start_time": "2025-02-20T17:51:52.700267Z"
    }
   },
   "cell_type": "code",
   "source": [
    "train_norm, test_norm = train_test_split(meta_data_norm, test_size=0.4, random_state=42, stratify=meta_data_norm[\"has_noise\"])\n",
    "\n",
    "val_norm, test_norm = train_test_split(test_norm, test_size=0.5, random_state=42, stratify=test_norm[\"has_noise\"])"
   ],
   "id": "fdcbb377d60f5b97",
   "outputs": [],
   "execution_count": 18
  },
  {
   "metadata": {
    "ExecuteTime": {
     "end_time": "2025-02-20T17:51:52.721610Z",
     "start_time": "2025-02-20T17:51:52.710899Z"
    }
   },
   "cell_type": "code",
   "source": "train_aphasia.shape, val_aphasia.shape, test_aphasia.shape",
   "id": "327f1865b5c3619d",
   "outputs": [
    {
     "data": {
      "text/plain": [
       "((151, 35), (51, 35), (51, 35))"
      ]
     },
     "execution_count": 19,
     "metadata": {},
     "output_type": "execute_result"
    }
   ],
   "execution_count": 19
  },
  {
   "metadata": {
    "ExecuteTime": {
     "end_time": "2025-02-20T17:51:52.735097Z",
     "start_time": "2025-02-20T17:51:52.722546Z"
    }
   },
   "cell_type": "code",
   "source": "train_norm.shape, val_norm.shape, test_norm.shape",
   "id": "df3e1244a0503bba",
   "outputs": [
    {
     "data": {
      "text/plain": [
       "((60, 18), (20, 18), (21, 18))"
      ]
     },
     "execution_count": 20,
     "metadata": {},
     "output_type": "execute_result"
    }
   ],
   "execution_count": 20
  },
  {
   "metadata": {
    "ExecuteTime": {
     "end_time": "2025-02-20T17:51:52.745737Z",
     "start_time": "2025-02-20T17:51:52.736713Z"
    }
   },
   "cell_type": "code",
   "source": [
    "aphasia_files_list = os.listdir(APHASIA_DIR)\n",
    "norm_files_list = os.listdir(NORM_DIR)"
   ],
   "id": "7ecb9b8f983802d0",
   "outputs": [],
   "execution_count": 21
  },
  {
   "metadata": {
    "ExecuteTime": {
     "end_time": "2025-02-20T17:51:52.760419Z",
     "start_time": "2025-02-20T17:51:52.747018Z"
    }
   },
   "cell_type": "code",
   "source": [
    "aphasia_files_dict = {}\n",
    "norm_files_dict = {}\n",
    "\n",
    "for audio_file in tqdm(aphasia_files_list):\n",
    "    participant_id = audio_file.split('-')[1]\n",
    "    if participant_id not in aphasia_files_dict:\n",
    "        aphasia_files_dict[participant_id] = [audio_file]\n",
    "    else:\n",
    "        aphasia_files_dict[participant_id].append(audio_file)\n",
    "\n",
    "for audio_file in tqdm(norm_files_list):\n",
    "    participant_id = audio_file.split('-')[1]\n",
    "    if participant_id not in norm_files_dict:\n",
    "        norm_files_dict[participant_id] = [audio_file]\n",
    "    else:\n",
    "        norm_files_dict[participant_id].append(audio_file)"
   ],
   "id": "d2621bbf448789cd",
   "outputs": [
    {
     "name": "stderr",
     "output_type": "stream",
     "text": [
      "100%|██████████| 608/608 [00:00<00:00, 1349993.03it/s]\n",
      "100%|██████████| 202/202 [00:00<00:00, 1007430.93it/s]\n"
     ]
    }
   ],
   "execution_count": 22
  },
  {
   "metadata": {
    "ExecuteTime": {
     "end_time": "2025-02-20T17:51:52.769254Z",
     "start_time": "2025-02-20T17:51:52.761914Z"
    }
   },
   "cell_type": "code",
   "source": "norm_files_dict",
   "id": "d19f5efb0e981535",
   "outputs": [
    {
     "data": {
      "text/plain": [
       "{'0941': ['N-0941-RAT-1-bike.wav', 'N-0941-RAT-1-robb.wav'],\n",
       " '0995': ['N-0995-RAT-1-bike.wav', 'N-0995-RAT-1-robb.wav'],\n",
       " '1011': ['N-1011-RAT-1-robb.wav', 'N-1011-RAT-1-bike.wav'],\n",
       " '0982': ['N-0982-RAT-1-robb.wav', 'N-0982-RAT-1-bike.wav'],\n",
       " '1006': ['N-1006-RAT-1-bike.wav', 'N-1006-RAT-1-robb.wav'],\n",
       " '0993': ['N-0993-RAT-1-robb.wav', 'N-0993-RAT-1-bike.wav'],\n",
       " '0933': ['N-0933-RAT-1-bike.wav', 'N-0933-RAT-1-robb.wav'],\n",
       " '1013': ['N-1013-RAT-1-bike.wav', 'N-1013-RAT-1-robb.wav'],\n",
       " '0969': ['N-0969-RAT-1-robb.wav', 'N-0969-RAT-1-bike.wav'],\n",
       " '0988': ['N-0988-RAT-1-robb.wav', 'N-0988-RAT-1-bike.wav'],\n",
       " '0970': ['N-0970-RAT-1-bike.wav', 'N-0970-RAT-1-robb.wav'],\n",
       " '0986': ['N-0986-RAT-1-robb.wav', 'N-0986-RAT-1-bike.wav'],\n",
       " '1018': ['N-1018-RAT-1-robb.wav', 'N-1018-RAT-1-bike.wav'],\n",
       " '1017': ['N-1017-RAT-1-bike.wav', 'N-1017-RAT-1-robb.wav'],\n",
       " '0965': ['N-0965-RAT-1-robb.wav', 'N-0965-RAT-1-bike.wav'],\n",
       " '0997': ['N-0997-RAT-1-bike.wav', 'N-0997-RAT-1-robb.wav'],\n",
       " '0925': ['N-0925-RAT-1-bike.wav', 'N-0925-RAT-1-robb.wav'],\n",
       " '1005': ['N-1005-RAT-1-bike.wav', 'N-1005-RAT-1-robb.wav'],\n",
       " '1008': ['N-1008-RAT-1-bike.wav', 'N-1008-RAT-1-robb.wav'],\n",
       " '0981': ['N-0981-RAT-1-bike.wav', 'N-0981-RAT-1-robb.wav'],\n",
       " '1009': ['N-1009-RAT-1-bike.wav', 'N-1009-RAT-1-robb.wav'],\n",
       " '0961': ['N-0961-RAT-1-robb.wav', 'N-0961-RAT-1-bike.wav'],\n",
       " '0929': ['N-0929-RAT-1-robb.wav', 'N-0929-RAT-1-bike.wav'],\n",
       " '1012': ['N-1012-RAT-1-bike.wav', 'N-1012-RAT-1-robb.wav'],\n",
       " '0934': ['N-0934-RAT-1-bike.wav', 'N-0934-RAT-1-robb.wav'],\n",
       " '0915': ['N-0915-RAT-1-bike.wav', 'N-0915-RAT-1-robb.wav'],\n",
       " '0998': ['N-0998-RAT-1-bike.wav', 'N-0998-RAT-1-robb.wav'],\n",
       " '1010': ['N-1010-RAT-1-robb.wav', 'N-1010-RAT-1-bike.wav'],\n",
       " '0927': ['N-0927-RAT-1-robb.wav', 'N-0927-RAT-1-bike.wav'],\n",
       " '0991': ['N-0991-RAT-1-bike.wav', 'N-0991-RAT-1-robb.wav'],\n",
       " '0901': ['N-0901-RAT-1-bike.wav', 'N-0901-RAT-1-robb.wav'],\n",
       " '0909': ['N-0909-RAT-1-robb.wav', 'N-0909-RAT-1-bike.wav'],\n",
       " '0904': ['N-0904-RAT-1-robb.wav', 'N-0904-RAT-1-bike.wav'],\n",
       " '0983': ['N-0983-RAT-1-bike.wav', 'N-0983-RAT-1-robb.wav'],\n",
       " '1025': ['N-1025-RAT-1-robb.wav', 'N-1025-RAT-1-bike.wav'],\n",
       " '0940': ['N-0940-RAT-1-robb.wav', 'N-0940-RAT-1-bike.wav'],\n",
       " '0935': ['N-0935-RAT-1-robb.wav', 'N-0935-RAT-1-bike.wav'],\n",
       " '0936': ['N-0936-RAT-1-robb.wav', 'N-0936-RAT-1-bike.wav'],\n",
       " '0984': ['N-0984-RAT-1-bike.wav', 'N-0984-RAT-1-robb.wav'],\n",
       " '1015': ['N-1015-RAT-1-robb.wav', 'N-1015-RAT-1-bike.wav'],\n",
       " '0928': ['N-0928-RAT-1-robb.wav', 'N-0928-RAT-1-bike.wav'],\n",
       " '0987': ['N-0987-RAT-1-bike.wav', 'N-0987-RAT-1-robb.wav'],\n",
       " '1004': ['N-1004-RAT-1-robb.wav', 'N-1004-RAT-1-bike.wav'],\n",
       " '0942': ['N-0942-RAT-1-bike.wav', 'N-0942-RAT-1-robb.wav'],\n",
       " '0916': ['N-0916-RAT-1-bike.wav', 'N-0916-RAT-1-robb.wav'],\n",
       " '0990': ['N-0990-RAT-1-bike.wav', 'N-0990-RAT-1-robb.wav'],\n",
       " '0926': ['N-0926-RAT-1-bike.wav', 'N-0926-RAT-1-robb.wav'],\n",
       " '0944': ['N-0944-RAT-1-robb.wav', 'N-0944-RAT-1-bike.wav'],\n",
       " '0932': ['N-0932-RAT-1-bike.wav', 'N-0932-RAT-1-robb.wav'],\n",
       " '0930': ['N-0930-RAT-1-robb.wav', 'N-0930-RAT-1-bike.wav'],\n",
       " '0906': ['N-0906-RAT-1-bike.wav', 'N-0906-RAT-1-robb.wav'],\n",
       " '1003': ['N-1003-RAT-1-bike.wav', 'N-1003-RAT-1-robb.wav'],\n",
       " '0907': ['N-0907-RAT-1-robb.wav', 'N-0907-RAT-1-bike.wav'],\n",
       " '0992': ['N-0992-RAT-1-robb.wav', 'N-0992-RAT-1-bike.wav'],\n",
       " '0999': ['N-0999-RAT-1-robb.wav', 'N-0999-RAT-1-bike.wav'],\n",
       " '0962': ['N-0962-RAT-1-bike.wav', 'N-0962-RAT-1-robb.wav'],\n",
       " '0931': ['N-0931-RAT-1-bike.wav', 'N-0931-RAT-1-robb.wav'],\n",
       " '1020': ['N-1020-RAT-1-robb.wav', 'N-1020-RAT-1-bike.wav'],\n",
       " '0921': ['N-0921-RAT-1-robb.wav', 'N-0921-RAT-1-bike.wav'],\n",
       " '0922': ['N-0922-RAT-1-bike.wav', 'N-0922-RAT-1-robb.wav'],\n",
       " '1016': ['N-1016-RAT-1-robb.wav', 'N-1016-RAT-1-bike.wav'],\n",
       " '0960': ['N-0960-RAT-1-bike.wav', 'N-0960-RAT-1-robb.wav'],\n",
       " '1023': ['N-1023-RAT-1-bike.wav', 'N-1023-RAT-1-robb.wav'],\n",
       " '0903': ['N-0903-RAT-1-bike.wav', 'N-0903-RAT-1-robb.wav'],\n",
       " '0939': ['N-0939-RAT-1-robb.wav', 'N-0939-RAT-1-bike.wav'],\n",
       " '1024': ['N-1024-RAT-1-robb.wav', 'N-1024-RAT-1-bike.wav'],\n",
       " '1007': ['N-1007-RAT-1-bike.wav', 'N-1007-RAT-1-robb.wav'],\n",
       " '1002': ['N-1002-RAT-1-robb.wav', 'N-1002-RAT-1-bike.wav'],\n",
       " '0923': ['N-0923-RAT-1-bike.wav', 'N-0923-RAT-1-robb.wav'],\n",
       " '0963': ['N-0963-RAT-1-robb.wav', 'N-0963-RAT-1-bike.wav'],\n",
       " '0964': ['N-0964-RAT-1-robb.wav', 'N-0964-RAT-1-bike.wav'],\n",
       " '1014': ['N-1014-RAT-1-bike.wav', 'N-1014-RAT-1-robb.wav'],\n",
       " '1000': ['N-1000-RAT-1-robb.wav', 'N-1000-RAT-1-bike.wav'],\n",
       " '0912': ['N-0912-RAT-1-robb.wav', 'N-0912-RAT-1-bike.wav'],\n",
       " '1001': ['N-1001-RAT-1-bike.wav', 'N-1001-RAT-1-robb.wav'],\n",
       " '0937': ['N-0937-RAT-1-bike.wav', 'N-0937-RAT-1-robb.wav'],\n",
       " '0913': ['N-0913-RAT-1-bike.wav', 'N-0913-RAT-1-robb.wav'],\n",
       " '0967': ['N-0967-RAT-1-robb.wav', 'N-0967-RAT-1-bike.wav'],\n",
       " '0919': ['N-0919-RAT-1-bike.wav', 'N-0919-RAT-1-robb.wav'],\n",
       " '0996': ['N-0996-RAT-1-bike.wav', 'N-0996-RAT-1-robb.wav'],\n",
       " '0917': ['N-0917-RAT-1-bike.wav', 'N-0917-RAT-1-robb.wav'],\n",
       " '1022': ['N-1022-RAT-1-robb.wav', 'N-1022-RAT-1-bike.wav'],\n",
       " '0989': ['N-0989-RAT-1-bike.wav', 'N-0989-RAT-1-robb.wav'],\n",
       " '0908': ['N-0908-RAT-1-robb.wav', 'N-0908-RAT-1-bike.wav'],\n",
       " '1027': ['N-1027-RAT-1-robb.wav', 'N-1027-RAT-1-bike.wav'],\n",
       " '0914': ['N-0914-RAT-1-bike.wav', 'N-0914-RAT-1-robb.wav'],\n",
       " '0911': ['N-0911-RAT-1-bike.wav', 'N-0911-RAT-1-robb.wav'],\n",
       " '0910': ['N-0910-RAT-1-robb.wav', 'N-0910-RAT-1-bike.wav'],\n",
       " '0985': ['N-0985-RAT-1-bike.wav', 'N-0985-RAT-1-robb.wav'],\n",
       " '0943': ['N-0943-RAT-1-bike.wav', 'N-0943-RAT-1-robb.wav'],\n",
       " '0918': ['N-0918-RAT-1-robb.wav', 'N-0918-RAT-1-bike.wav'],\n",
       " '0924': ['N-0924-RAT-1-bike.wav', 'N-0924-RAT-1-robb.wav'],\n",
       " '0902': ['N-0902-RAT-1-robb.wav', 'N-0902-RAT-1-bike.wav'],\n",
       " '1021': ['N-1021-RAT-1-robb.wav', 'N-1021-RAT-1-bike.wav'],\n",
       " '0905': ['N-0905-RAT-1-bike.wav', 'N-0905-RAT-1-robb.wav'],\n",
       " '0994': ['N-0994-RAT-1-bike.wav', 'N-0994-RAT-1-robb.wav'],\n",
       " '1019': ['N-1019-RAT-1-bike.wav', 'N-1019-RAT-1-robb.wav'],\n",
       " '0966': ['N-0966-RAT-1-bike.wav', 'N-0966-RAT-1-robb.wav'],\n",
       " '1026': ['N-1026-RAT-1-bike.wav', 'N-1026-RAT-1-robb.wav'],\n",
       " '0920': ['N-0920-RAT-1-bike.wav', 'N-0920-RAT-1-robb.wav'],\n",
       " '0938': ['N-0938-RAT-1-robb.wav', 'N-0938-RAT-1-bike.wav']}"
      ]
     },
     "execution_count": 23,
     "metadata": {},
     "output_type": "execute_result"
    }
   ],
   "execution_count": 23
  },
  {
   "metadata": {
    "ExecuteTime": {
     "end_time": "2025-02-20T17:51:52.779820Z",
     "start_time": "2025-02-20T17:51:52.769783Z"
    }
   },
   "cell_type": "code",
   "source": [
    "def get_filename(df: pd.DataFrame, label: int):\n",
    "    output = []\n",
    "    file_columns = [x for x in df.columns if \"file_name\" in x]\n",
    "    for i, row in df.iterrows():\n",
    "        participant_id = row['Subj_ID'].split('-')[0]\n",
    "        # print(participant_id)\n",
    "        if label:\n",
    "            file_names = [(x, label) for x in  aphasia_files_dict[participant_id] if x not in empty_files]\n",
    "        else:\n",
    "            # print(row)\n",
    "            if len(participant_id) == 3:\n",
    "                participant_id = '0' + participant_id\n",
    "            file_names = [(x, label) for x in  norm_files_dict[participant_id] if x not in empty_files]\n",
    "        output.extend(file_names)\n",
    "    return output"
   ],
   "id": "f2bd718171a51cc2",
   "outputs": [],
   "execution_count": 24
  },
  {
   "metadata": {
    "ExecuteTime": {
     "end_time": "2025-02-20T17:51:52.798721Z",
     "start_time": "2025-02-20T17:51:52.780542Z"
    }
   },
   "cell_type": "code",
   "source": [
    "train_filenames = get_filename(train_norm, 0) + get_filename(train_aphasia, 1)\n",
    "val_filenames = get_filename(val_norm, 0) + get_filename(val_aphasia, 1)\n",
    "test_filenames = get_filename(test_norm, 0) + get_filename(test_aphasia, 1)"
   ],
   "id": "a634fb202dff803a",
   "outputs": [],
   "execution_count": 25
  },
  {
   "metadata": {
    "ExecuteTime": {
     "end_time": "2025-02-20T17:51:52.820392Z",
     "start_time": "2025-02-20T17:51:52.799621Z"
    }
   },
   "cell_type": "code",
   "source": "len(train_filenames), len(val_filenames), len(test_filenames)",
   "id": "b3fa3ebf3fbef64a",
   "outputs": [
    {
     "data": {
      "text/plain": [
       "(472, 159, 172)"
      ]
     },
     "execution_count": 26,
     "metadata": {},
     "output_type": "execute_result"
    }
   ],
   "execution_count": 26
  },
  {
   "metadata": {
    "ExecuteTime": {
     "end_time": "2025-02-20T17:51:52.832355Z",
     "start_time": "2025-02-20T17:51:52.821970Z"
    }
   },
   "cell_type": "code",
   "source": [
    "train_filenames = pd.DataFrame(train_filenames, columns=['file_name', 'label'])\n",
    "val_filenames = pd.DataFrame(val_filenames, columns=['file_name', 'label'])\n",
    "test_filenames = pd.DataFrame(test_filenames, columns=['file_name', 'label'])"
   ],
   "id": "e83f158d599acc1a",
   "outputs": [],
   "execution_count": 27
  },
  {
   "metadata": {
    "ExecuteTime": {
     "end_time": "2025-02-20T17:51:52.846400Z",
     "start_time": "2025-02-20T17:51:52.833533Z"
    }
   },
   "cell_type": "code",
   "source": [
    "train_filenames.to_csv(os.path.join(DATA_DIR, \"train_filenames.csv\"), index=False)\n",
    "val_filenames.to_csv(os.path.join(DATA_DIR, \"val_filenames.csv\"), index=False)\n",
    "test_filenames.to_csv(os.path.join(DATA_DIR, \"test_filenames.csv\"), index=False)"
   ],
   "id": "3bf268d3809e24c3",
   "outputs": [],
   "execution_count": 28
  },
  {
   "metadata": {
    "ExecuteTime": {
     "end_time": "2025-02-20T17:51:52.867066Z",
     "start_time": "2025-02-20T17:51:52.847281Z"
    }
   },
   "cell_type": "code",
   "source": [
    "train_aphasia.to_csv(os.path.join(DATA_DIR, \"train_aphasia.csv\"), index=False)\n",
    "val_aphasia.to_csv(os.path.join(DATA_DIR, \"val_aphasia.csv\"), index=False)\n",
    "test_aphasia.to_csv(os.path.join(DATA_DIR, \"test_aphasia.csv\"), index=False)\n",
    "\n",
    "train_norm.to_csv(os.path.join(DATA_DIR, \"train_norm.csv\"), index=False)\n",
    "val_norm.to_csv(os.path.join(DATA_DIR, \"val_norm.csv\"), index=False)\n",
    "test_norm.to_csv(os.path.join(DATA_DIR, \"test_norm.csv\"), index=False)"
   ],
   "id": "e8a66ea0cdeaaab",
   "outputs": [],
   "execution_count": 29
  },
  {
   "metadata": {
    "ExecuteTime": {
     "end_time": "2025-02-20T17:52:25.778819Z",
     "start_time": "2025-02-20T17:52:25.775572Z"
    }
   },
   "cell_type": "code",
   "source": "empty_files",
   "id": "71511e77001a9e80",
   "outputs": [
    {
     "data": {
      "text/plain": [
       "['A-928-RAT-1-robb.wav']"
      ]
     },
     "execution_count": 30,
     "metadata": {},
     "output_type": "execute_result"
    }
   ],
   "execution_count": 30
  },
  {
   "metadata": {},
   "cell_type": "code",
   "outputs": [],
   "execution_count": null,
   "source": "",
   "id": "2e21cffe16dde5a1"
  }
 ],
 "metadata": {
  "kernelspec": {
   "display_name": "Python 3",
   "language": "python",
   "name": "python3"
  },
  "language_info": {
   "codemirror_mode": {
    "name": "ipython",
    "version": 2
   },
   "file_extension": ".py",
   "mimetype": "text/x-python",
   "name": "python",
   "nbconvert_exporter": "python",
   "pygments_lexer": "ipython2",
   "version": "2.7.6"
  }
 },
 "nbformat": 4,
 "nbformat_minor": 5
}
